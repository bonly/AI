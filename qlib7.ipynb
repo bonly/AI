{
  "nbformat": 4,
  "nbformat_minor": 0,
  "metadata": {
    "colab": {
      "provenance": [],
      "collapsed_sections": [
        "aab4f0a0"
      ],
      "include_colab_link": true
    },
    "kernelspec": {
      "name": "python3",
      "display_name": "Python 3"
    },
    "language_info": {
      "name": "python"
    },
    "widgets": {
      "application/vnd.jupyter.widget-state+json": {
        "e558e31163e24cc9b5420993514e28e0": {
          "model_module": "@jupyter-widgets/controls",
          "model_name": "HBoxModel",
          "model_module_version": "1.5.0",
          "state": {
            "_dom_classes": [],
            "_model_module": "@jupyter-widgets/controls",
            "_model_module_version": "1.5.0",
            "_model_name": "HBoxModel",
            "_view_count": null,
            "_view_module": "@jupyter-widgets/controls",
            "_view_module_version": "1.5.0",
            "_view_name": "HBoxView",
            "box_style": "",
            "children": [
              "IPY_MODEL_eb59c661fd3b41eab53a46395fcb46f1",
              "IPY_MODEL_2db5792ff7d6491e966e40a8043fa542",
              "IPY_MODEL_fdb5e5601e474feda01fb0a1fdbc065c"
            ],
            "layout": "IPY_MODEL_e7d440c8888c45a99470ad9894f9d0f4"
          }
        },
        "eb59c661fd3b41eab53a46395fcb46f1": {
          "model_module": "@jupyter-widgets/controls",
          "model_name": "HTMLModel",
          "model_module_version": "1.5.0",
          "state": {
            "_dom_classes": [],
            "_model_module": "@jupyter-widgets/controls",
            "_model_module_version": "1.5.0",
            "_model_name": "HTMLModel",
            "_view_count": null,
            "_view_module": "@jupyter-widgets/controls",
            "_view_module_version": "1.5.0",
            "_view_name": "HTMLView",
            "description": "",
            "description_tooltip": null,
            "layout": "IPY_MODEL_3761c75774954ff9ad58cb61a4901dcc",
            "placeholder": "​",
            "style": "IPY_MODEL_e9503c5105a54290b6abbb9e30126832",
            "value": "Downloading artifacts:   0%"
          }
        },
        "2db5792ff7d6491e966e40a8043fa542": {
          "model_module": "@jupyter-widgets/controls",
          "model_name": "FloatProgressModel",
          "model_module_version": "1.5.0",
          "state": {
            "_dom_classes": [],
            "_model_module": "@jupyter-widgets/controls",
            "_model_module_version": "1.5.0",
            "_model_name": "FloatProgressModel",
            "_view_count": null,
            "_view_module": "@jupyter-widgets/controls",
            "_view_module_version": "1.5.0",
            "_view_name": "ProgressView",
            "bar_style": "danger",
            "description": "",
            "description_tooltip": null,
            "layout": "IPY_MODEL_e1811980757e4554b3ad49fd9d612300",
            "max": 1,
            "min": 0,
            "orientation": "horizontal",
            "style": "IPY_MODEL_77b963162ad94cff834d9579148bb20a",
            "value": 0
          }
        },
        "fdb5e5601e474feda01fb0a1fdbc065c": {
          "model_module": "@jupyter-widgets/controls",
          "model_name": "HTMLModel",
          "model_module_version": "1.5.0",
          "state": {
            "_dom_classes": [],
            "_model_module": "@jupyter-widgets/controls",
            "_model_module_version": "1.5.0",
            "_model_name": "HTMLModel",
            "_view_count": null,
            "_view_module": "@jupyter-widgets/controls",
            "_view_module_version": "1.5.0",
            "_view_name": "HTMLView",
            "description": "",
            "description_tooltip": null,
            "layout": "IPY_MODEL_2529d6f538664872baf320bd1e9f7962",
            "placeholder": "​",
            "style": "IPY_MODEL_257406e1f794439fb3d345d74ee87b49",
            "value": " 0/1 [00:00&lt;?, ?it/s]"
          }
        },
        "e7d440c8888c45a99470ad9894f9d0f4": {
          "model_module": "@jupyter-widgets/base",
          "model_name": "LayoutModel",
          "model_module_version": "1.2.0",
          "state": {
            "_model_module": "@jupyter-widgets/base",
            "_model_module_version": "1.2.0",
            "_model_name": "LayoutModel",
            "_view_count": null,
            "_view_module": "@jupyter-widgets/base",
            "_view_module_version": "1.2.0",
            "_view_name": "LayoutView",
            "align_content": null,
            "align_items": null,
            "align_self": null,
            "border": null,
            "bottom": null,
            "display": null,
            "flex": null,
            "flex_flow": null,
            "grid_area": null,
            "grid_auto_columns": null,
            "grid_auto_flow": null,
            "grid_auto_rows": null,
            "grid_column": null,
            "grid_gap": null,
            "grid_row": null,
            "grid_template_areas": null,
            "grid_template_columns": null,
            "grid_template_rows": null,
            "height": null,
            "justify_content": null,
            "justify_items": null,
            "left": null,
            "margin": null,
            "max_height": null,
            "max_width": null,
            "min_height": null,
            "min_width": null,
            "object_fit": null,
            "object_position": null,
            "order": null,
            "overflow": null,
            "overflow_x": null,
            "overflow_y": null,
            "padding": null,
            "right": null,
            "top": null,
            "visibility": null,
            "width": null
          }
        },
        "3761c75774954ff9ad58cb61a4901dcc": {
          "model_module": "@jupyter-widgets/base",
          "model_name": "LayoutModel",
          "model_module_version": "1.2.0",
          "state": {
            "_model_module": "@jupyter-widgets/base",
            "_model_module_version": "1.2.0",
            "_model_name": "LayoutModel",
            "_view_count": null,
            "_view_module": "@jupyter-widgets/base",
            "_view_module_version": "1.2.0",
            "_view_name": "LayoutView",
            "align_content": null,
            "align_items": null,
            "align_self": null,
            "border": null,
            "bottom": null,
            "display": null,
            "flex": null,
            "flex_flow": null,
            "grid_area": null,
            "grid_auto_columns": null,
            "grid_auto_flow": null,
            "grid_auto_rows": null,
            "grid_column": null,
            "grid_gap": null,
            "grid_row": null,
            "grid_template_areas": null,
            "grid_template_columns": null,
            "grid_template_rows": null,
            "height": null,
            "justify_content": null,
            "justify_items": null,
            "left": null,
            "margin": null,
            "max_height": null,
            "max_width": null,
            "min_height": null,
            "min_width": null,
            "object_fit": null,
            "object_position": null,
            "order": null,
            "overflow": null,
            "overflow_x": null,
            "overflow_y": null,
            "padding": null,
            "right": null,
            "top": null,
            "visibility": null,
            "width": null
          }
        },
        "e9503c5105a54290b6abbb9e30126832": {
          "model_module": "@jupyter-widgets/controls",
          "model_name": "DescriptionStyleModel",
          "model_module_version": "1.5.0",
          "state": {
            "_model_module": "@jupyter-widgets/controls",
            "_model_module_version": "1.5.0",
            "_model_name": "DescriptionStyleModel",
            "_view_count": null,
            "_view_module": "@jupyter-widgets/base",
            "_view_module_version": "1.2.0",
            "_view_name": "StyleView",
            "description_width": ""
          }
        },
        "e1811980757e4554b3ad49fd9d612300": {
          "model_module": "@jupyter-widgets/base",
          "model_name": "LayoutModel",
          "model_module_version": "1.2.0",
          "state": {
            "_model_module": "@jupyter-widgets/base",
            "_model_module_version": "1.2.0",
            "_model_name": "LayoutModel",
            "_view_count": null,
            "_view_module": "@jupyter-widgets/base",
            "_view_module_version": "1.2.0",
            "_view_name": "LayoutView",
            "align_content": null,
            "align_items": null,
            "align_self": null,
            "border": null,
            "bottom": null,
            "display": null,
            "flex": null,
            "flex_flow": null,
            "grid_area": null,
            "grid_auto_columns": null,
            "grid_auto_flow": null,
            "grid_auto_rows": null,
            "grid_column": null,
            "grid_gap": null,
            "grid_row": null,
            "grid_template_areas": null,
            "grid_template_columns": null,
            "grid_template_rows": null,
            "height": null,
            "justify_content": null,
            "justify_items": null,
            "left": null,
            "margin": null,
            "max_height": null,
            "max_width": null,
            "min_height": null,
            "min_width": null,
            "object_fit": null,
            "object_position": null,
            "order": null,
            "overflow": null,
            "overflow_x": null,
            "overflow_y": null,
            "padding": null,
            "right": null,
            "top": null,
            "visibility": null,
            "width": null
          }
        },
        "77b963162ad94cff834d9579148bb20a": {
          "model_module": "@jupyter-widgets/controls",
          "model_name": "ProgressStyleModel",
          "model_module_version": "1.5.0",
          "state": {
            "_model_module": "@jupyter-widgets/controls",
            "_model_module_version": "1.5.0",
            "_model_name": "ProgressStyleModel",
            "_view_count": null,
            "_view_module": "@jupyter-widgets/base",
            "_view_module_version": "1.2.0",
            "_view_name": "StyleView",
            "bar_color": null,
            "description_width": ""
          }
        },
        "2529d6f538664872baf320bd1e9f7962": {
          "model_module": "@jupyter-widgets/base",
          "model_name": "LayoutModel",
          "model_module_version": "1.2.0",
          "state": {
            "_model_module": "@jupyter-widgets/base",
            "_model_module_version": "1.2.0",
            "_model_name": "LayoutModel",
            "_view_count": null,
            "_view_module": "@jupyter-widgets/base",
            "_view_module_version": "1.2.0",
            "_view_name": "LayoutView",
            "align_content": null,
            "align_items": null,
            "align_self": null,
            "border": null,
            "bottom": null,
            "display": null,
            "flex": null,
            "flex_flow": null,
            "grid_area": null,
            "grid_auto_columns": null,
            "grid_auto_flow": null,
            "grid_auto_rows": null,
            "grid_column": null,
            "grid_gap": null,
            "grid_row": null,
            "grid_template_areas": null,
            "grid_template_columns": null,
            "grid_template_rows": null,
            "height": null,
            "justify_content": null,
            "justify_items": null,
            "left": null,
            "margin": null,
            "max_height": null,
            "max_width": null,
            "min_height": null,
            "min_width": null,
            "object_fit": null,
            "object_position": null,
            "order": null,
            "overflow": null,
            "overflow_x": null,
            "overflow_y": null,
            "padding": null,
            "right": null,
            "top": null,
            "visibility": null,
            "width": null
          }
        },
        "257406e1f794439fb3d345d74ee87b49": {
          "model_module": "@jupyter-widgets/controls",
          "model_name": "DescriptionStyleModel",
          "model_module_version": "1.5.0",
          "state": {
            "_model_module": "@jupyter-widgets/controls",
            "_model_module_version": "1.5.0",
            "_model_name": "DescriptionStyleModel",
            "_view_count": null,
            "_view_module": "@jupyter-widgets/base",
            "_view_module_version": "1.2.0",
            "_view_name": "StyleView",
            "description_width": ""
          }
        }
      }
    }
  },
  "cells": [
    {
      "cell_type": "markdown",
      "metadata": {
        "id": "view-in-github",
        "colab_type": "text"
      },
      "source": [
        "<a href=\"https://colab.research.google.com/github/bonly/AI/blob/main/qlib7.ipynb\" target=\"_parent\"><img src=\"https://colab.research.google.com/assets/colab-badge.svg\" alt=\"Open In Colab\"/></a>"
      ]
    },
    {
      "cell_type": "markdown",
      "metadata": {
        "id": "7d98f3d3"
      },
      "source": [
        "# Task\n",
        "为一个计算机本科学位的量化交易完全小白规划一个为期七天的学习路径，主要使用 Qlib 和 Colab，要求计划详细、系统、可执行，包含每天的里程碑、任务清单和主要技术，全程用中文交流，包括文档及代码注释。"
      ]
    },
    {
      "cell_type": "markdown",
      "metadata": {
        "id": "dfb59ec2"
      },
      "source": [
        "## 了解量化交易基础，成功搭建 Colab 环境并安装 Qlib。\n"
      ]
    },
    {
      "cell_type": "code",
      "source": [
        "import sys, site\n",
        "from pathlib import Path\n",
        "\n",
        "try:\n",
        "    import qlib\n",
        "except ImportError:\n",
        "    # install qlib\n",
        "    ! pip install --upgrade numpy\n",
        "    ! pip install pyqlib\n",
        "    if \"google.colab\" in sys.modules:\n",
        "        # The Google colab environment is a little outdated. We have to downgrade the pyyaml to make it compatible with other packages\n",
        "        ! pip install pyyaml==5.4.1\n",
        "    # reload\n",
        "    site.main()"
      ],
      "metadata": {
        "id": "KWAFM-InIHph"
      },
      "execution_count": 2,
      "outputs": []
    },
    {
      "cell_type": "code",
      "metadata": {
        "id": "e9e98479",
        "colab": {
          "base_uri": "https://localhost:8080/"
        },
        "outputId": "ce5a8a97-9a0a-4a72-de99-23c5aacd726f"
      },
      "source": [
        "# 安装常用的数据科学库\n",
        "%pip install pandas numpy matplotlib\n",
        "\n",
        "# 验证 Qlib 是否成功安装\n",
        "import qlib\n",
        "print(\"Qlib 安装成功！\")\n",
        "\n",
        "# 尝试访问 Qlib 的一些基本属性或模块进行验证\n",
        "try:\n",
        "    print(\"Qlib 版本号:\", qlib.__version__)\n",
        "    from qlib.data import D\n",
        "    print(\"qlib.data 模块导入成功！\")\n",
        "except AttributeError:\n",
        "    print(\"错误：Qlib 模块属性访问失败，请检查 Qlib 安装。\")\n",
        "except ImportError:\n",
        "    print(\"错误：无法导入 qlib.data 模块，请检查 Qlib 安装。\")"
      ],
      "execution_count": 3,
      "outputs": [
        {
          "output_type": "stream",
          "name": "stdout",
          "text": [
            "Requirement already satisfied: pandas in /usr/local/lib/python3.12/dist-packages (2.2.2)\n",
            "Requirement already satisfied: numpy in /usr/local/lib/python3.12/dist-packages (2.3.2)\n",
            "Requirement already satisfied: matplotlib in /usr/local/lib/python3.12/dist-packages (3.10.0)\n",
            "Requirement already satisfied: python-dateutil>=2.8.2 in /usr/local/lib/python3.12/dist-packages (from pandas) (2.9.0.post0)\n",
            "Requirement already satisfied: pytz>=2020.1 in /usr/local/lib/python3.12/dist-packages (from pandas) (2025.2)\n",
            "Requirement already satisfied: tzdata>=2022.7 in /usr/local/lib/python3.12/dist-packages (from pandas) (2025.2)\n",
            "Requirement already satisfied: contourpy>=1.0.1 in /usr/local/lib/python3.12/dist-packages (from matplotlib) (1.3.3)\n",
            "Requirement already satisfied: cycler>=0.10 in /usr/local/lib/python3.12/dist-packages (from matplotlib) (0.12.1)\n",
            "Requirement already satisfied: fonttools>=4.22.0 in /usr/local/lib/python3.12/dist-packages (from matplotlib) (4.59.1)\n",
            "Requirement already satisfied: kiwisolver>=1.3.1 in /usr/local/lib/python3.12/dist-packages (from matplotlib) (1.4.9)\n",
            "Requirement already satisfied: packaging>=20.0 in /usr/local/lib/python3.12/dist-packages (from matplotlib) (25.0)\n",
            "Requirement already satisfied: pillow>=8 in /usr/local/lib/python3.12/dist-packages (from matplotlib) (11.3.0)\n",
            "Requirement already satisfied: pyparsing>=2.3.1 in /usr/local/lib/python3.12/dist-packages (from matplotlib) (3.2.3)\n",
            "Requirement already satisfied: six>=1.5 in /usr/local/lib/python3.12/dist-packages (from python-dateutil>=2.8.2->pandas) (1.17.0)\n",
            "Qlib 安装成功！\n",
            "Qlib 版本号: 0.9.7\n",
            "qlib.data 模块导入成功！\n"
          ]
        }
      ]
    },
    {
      "cell_type": "markdown",
      "metadata": {
        "id": "9e1a3a80"
      },
      "source": [
        "## Qlib 数据管理\n",
        "\n",
        "理解 Qlib 的数据结构，并成功下载和管理数据。\n"
      ]
    },
    {
      "cell_type": "code",
      "source": [
        "'''\n",
        "import fire\n",
        "from qlib.tests.data import GetData\n",
        "\n",
        "fire.Fire(GetData)\n",
        "'''"
      ],
      "metadata": {
        "id": "wNDyGc5Ei4kR"
      },
      "execution_count": null,
      "outputs": []
    },
    {
      "cell_type": "code",
      "source": [
        "'''\n",
        "scripts_dir = Path.cwd().parent.joinpath(\"scripts\")\n",
        "if not scripts_dir.joinpath(\"get_data.py\").exists():\n",
        "    # download get_data.py script\n",
        "    scripts_dir = Path(\"~/tmp/qlib_code/scripts\").expanduser().resolve()\n",
        "    scripts_dir.mkdir(parents=True, exist_ok=True)\n",
        "    import requests\n",
        "\n",
        "    with requests.get(\"https://raw.githubusercontent.com/microsoft/qlib/main/scripts/get_data.py\", timeout=10) as resp:\n",
        "        with open(scripts_dir.joinpath(\"get_data.py\"), \"wb\") as fp:\n",
        "            fp.write(resp.content)\n",
        "#'''"
      ],
      "metadata": {
        "id": "mvoI_SkcMSYV"
      },
      "execution_count": null,
      "outputs": []
    },
    {
      "cell_type": "markdown",
      "source": [
        "此脚本实际是从github.com/SunsetWolf/qlib_dataset取得数据，只到2024年"
      ],
      "metadata": {
        "id": "ueZrYAVZjgA2"
      }
    },
    {
      "cell_type": "markdown",
      "source": [
        "最新的数据可以从这里下载：\n",
        "\n",
        "https://github.com/chenditc/investment_data/releases\n",
        "\n",
        "https://github.com/chenditc/investment_data/releases/latest/download/qlib_bin.tar.gz"
      ],
      "metadata": {
        "id": "uHgnlJHHj7F6"
      }
    },
    {
      "cell_type": "code",
      "source": [
        "import os\n",
        "from datetime import datetime, timedelta, timezone;\n",
        "lastday = datetime.now(timezone.utc) - timedelta(days=0);\n",
        "format_date = lastday.strftime(\"%Y-%m-%d\");\n",
        "\n",
        "# 使用 Python 的 os 模块设置环境变量\n",
        "os.environ['FORMAT_DATE'] = format_date\n",
        "\n",
        "print(f\"环境变量 FORMAT_DATE 已设置为: {os.environ['FORMAT_DATE']}\")"
      ],
      "metadata": {
        "colab": {
          "base_uri": "https://localhost:8080/"
        },
        "id": "cHpbhvxtkNqk",
        "outputId": "eadc7acd-14d3-4d87-9186-7ffae3a5aab0"
      },
      "execution_count": 4,
      "outputs": [
        {
          "output_type": "stream",
          "name": "stdout",
          "text": [
            "环境变量 FORMAT_DATE 已设置为: 2025-08-22\n"
          ]
        }
      ]
    },
    {
      "cell_type": "code",
      "source": [
        "import warnings;\n",
        "# warnings.filterwarnings(\n",
        "#     \"ignore\",\n",
        "#     message=\"datetime.datetime.utcnow() is deprecated\",\n",
        "#     category=DeprecationWarning\n",
        "# )\n",
        "warnings.filterwarnings(\"ignore\", category=DeprecationWarning)\n"
      ],
      "metadata": {
        "id": "n9I3FQSix-0c"
      },
      "execution_count": 5,
      "outputs": []
    },
    {
      "cell_type": "code",
      "source": [
        "%%bash\n",
        "# 使用之前在 Python 单元格中设置的环境变量\n",
        "echo \"use date: $FORMAT_DATE\"\n",
        "\n",
        "if [ ! -f \"qlib_bin.tar.gz\" ]; then\n",
        " #curl -L -O https://github.com/chenditc/investment_data/releases/download/$FORMAT_DATE/qlib_bin.tar.gz;\n",
        " curl -L -O https://github.com/chenditc/investment_data/releases/latest/download/qlib_bin.tar.gz;\n",
        "fi\n",
        "if [ ! -e \"$HOME/.qlib/qlib_data/cn_data\" ] ; then mkdir -p ~/.qlib/qlib_data/cn_data; fi\n",
        "tar -zxvf qlib_bin.tar.gz -C ~/.qlib/qlib_data/cn_data --strip-components=1 1>/dev/null"
      ],
      "metadata": {
        "colab": {
          "base_uri": "https://localhost:8080/"
        },
        "id": "BdU1BYtGrTAA",
        "outputId": "20762b97-be30-4b62-e9d3-a9c23e12037d"
      },
      "execution_count": 12,
      "outputs": [
        {
          "output_type": "stream",
          "name": "stdout",
          "text": [
            "use date: 2025-08-22\n"
          ]
        },
        {
          "output_type": "stream",
          "name": "stderr",
          "text": [
            "  % Total    % Received % Xferd  Average Speed   Time    Time     Time  Current\n",
            "                                 Dload  Upload   Total   Spent    Left  Speed\n",
            "\r  0     0    0     0    0     0      0      0 --:--:-- --:--:-- --:--:--     0\r  0     0    0     0    0     0      0      0 --:--:-- --:--:-- --:--:--     0\n",
            "\r  0     0    0     0    0     0      0      0 --:--:-- --:--:-- --:--:--     0\n",
            "\r  1  455M    1 5135k    0     0  6050k      0  0:01:17 --:--:--  0:01:17 6050k\r 21  455M   21  100M    0     0  53.2M      0  0:00:08  0:00:01  0:00:07 92.4M\r 46  455M   46  210M    0     0  73.6M      0  0:00:06  0:00:02  0:00:04  102M\r 58  455M   58  264M    0     0  58.8M      0  0:00:07  0:00:04  0:00:03 71.1M\r 58  455M   58  265M    0     0  51.6M      0  0:00:08  0:00:05  0:00:03 60.6M\r 58  455M   58  267M    0     0  41.4M      0  0:00:10  0:00:06  0:00:04 46.8M\r 64  455M   64  293M    0     0  42.8M      0  0:00:10  0:00:06  0:00:04 38.9M\r 88  455M   88  400M    0     0  51.0M      0  0:00:08  0:00:07  0:00:01 38.1M\r100  455M  100  455M    0     0  53.9M      0  0:00:08  0:00:08 --:--:-- 48.3M\n"
          ]
        }
      ]
    },
    {
      "cell_type": "code",
      "source": [
        "import qlib\n",
        "import pandas as pd\n",
        "from qlib.constant import REG_CN\n",
        "from qlib.utils import exists_qlib_data, init_instance_by_config\n",
        "from qlib.workflow import R\n",
        "from qlib.workflow.record_temp import SignalRecord, PortAnaRecord\n",
        "from qlib.utils import flatten_dict"
      ],
      "metadata": {
        "id": "xMqPQfRJMXzK",
        "colab": {
          "base_uri": "https://localhost:8080/"
        },
        "outputId": "a5dd6c17-d34c-4310-c591-7ce373529da3"
      },
      "execution_count": 13,
      "outputs": [
        {
          "output_type": "stream",
          "name": "stderr",
          "text": [
            "Gym has been unmaintained since 2022 and does not support NumPy 2.0 amongst other critical functionality.\n",
            "Please upgrade to Gymnasium, the maintained drop-in replacement of Gym, or contact the authors of your software and request that they upgrade.\n",
            "See the migration guide at https://gymnasium.farama.org/introduction/migration_guide/ for additional information.\n",
            "/usr/local/lib/python3.12/dist-packages/jupyter_client/session.py:151: DeprecationWarning: datetime.datetime.utcnow() is deprecated and scheduled for removal in a future version. Use timezone-aware objects to represent datetimes in UTC: datetime.datetime.now(datetime.UTC).\n",
            "  Avoids problematic runtime import in stdlib uuid on Python 2.\n"
          ]
        }
      ]
    },
    {
      "cell_type": "markdown",
      "source": [
        "检查数据"
      ],
      "metadata": {
        "id": "2wgU52QKzjBy"
      }
    },
    {
      "cell_type": "code",
      "metadata": {
        "id": "2a01738c",
        "colab": {
          "base_uri": "https://localhost:8080/"
        },
        "outputId": "525a06f2-d1be-4b32-a155-8ca652bacf30"
      },
      "source": [
        "# use default data\n",
        "# NOTE: need to download data from remote: python scripts/get_data.py qlib_data_cn --target_dir ~/.qlib/qlib_data/cn_data\n",
        "provider_uri = \"~/.qlib/qlib_data/cn_data\"  # target_dir\n",
        "if not exists_qlib_data(provider_uri):\n",
        "    print(f\"Qlib data is not found in {provider_uri}\")\n",
        "    sys.path.append(str(scripts_dir))\n",
        "    from get_data import GetData\n",
        "\n",
        "    GetData().qlib_data(target_dir=provider_uri, region=REG_CN)\n",
        "\n",
        "qlib.init(provider_uri=provider_uri, region=REG_CN)\n",
        "\n"
      ],
      "execution_count": 16,
      "outputs": [
        {
          "output_type": "stream",
          "name": "stderr",
          "text": [
            "[367:MainThread](2025-08-22 05:31:06,254) INFO - qlib.Initialization - [config.py:452] - default_conf: client.\n",
            "/usr/local/lib/python3.12/dist-packages/jupyter_client/session.py:151: DeprecationWarning: datetime.datetime.utcnow() is deprecated and scheduled for removal in a future version. Use timezone-aware objects to represent datetimes in UTC: datetime.datetime.now(datetime.UTC).\n",
            "  Avoids problematic runtime import in stdlib uuid on Python 2.\n",
            "[367:MainThread](2025-08-22 05:31:06,258) INFO - qlib.Initialization - [__init__.py:75] - qlib successfully initialized based on client settings.\n",
            "[367:MainThread](2025-08-22 05:31:06,261) INFO - qlib.Initialization - [__init__.py:77] - data_path={'__DEFAULT_FREQ': PosixPath('/root/.qlib/qlib_data/cn_data')}\n"
          ]
        }
      ]
    },
    {
      "cell_type": "code",
      "source": [
        "market = \"sh600048\"\n",
        "benchmark = \"SH000300\""
      ],
      "metadata": {
        "id": "OwSn6Y3zNhpo"
      },
      "execution_count": 17,
      "outputs": []
    },
    {
      "cell_type": "code",
      "source": [
        "try:\n",
        "    instruments = D.instruments(\"csi300\")\n",
        "    print(f\"成功获取沪深300成分股列表，共 {len(instruments)} 只股票。\")\n",
        "except Exception as e:\n",
        "    print(f\"获取沪深300成分股列表失败: {e}\")\n",
        "    instruments = [] # 如果获取失败，将 instruments 设为空列表以避免后续错误\n",
        "\n",
        "try:\n",
        "    common_fields_data = D.features(['sh600048'],\n",
        "     ['$open', '$close', '$high', '$low', '$volume', '$amount', '$factor', '$close/$factor'])\n",
        "    print(\"成功获取常见字段数据：\")\n",
        "    display(common_fields_data.tail())\n",
        "except Exception as e:\n",
        "    print(f\"获取常见字段数据失败: {e}\")\n",
        "    print(\"请检查字段名称是否正确或数据源是否包含这些字段。\")"
      ],
      "metadata": {
        "colab": {
          "base_uri": "https://localhost:8080/",
          "height": 327
        },
        "id": "bQ3tIbTNN5WE",
        "outputId": "18e68b48-cba4-4c7d-c839-c840afb13fee"
      },
      "execution_count": null,
      "outputs": [
        {
          "output_type": "stream",
          "name": "stdout",
          "text": [
            "成功获取沪深300成分股列表，共 2 只股票。\n",
            "成功获取常见字段数据：\n"
          ]
        },
        {
          "output_type": "stream",
          "name": "stderr",
          "text": [
            "/usr/local/lib/python3.12/dist-packages/jupyter_client/session.py:151: DeprecationWarning: datetime.datetime.utcnow() is deprecated and scheduled for removal in a future version. Use timezone-aware objects to represent datetimes in UTC: datetime.datetime.now(datetime.UTC).\n",
            "  Avoids problematic runtime import in stdlib uuid on Python 2.\n"
          ]
        },
        {
          "output_type": "display_data",
          "data": {
            "text/plain": [
              "                           $open     $close      $high       $low  \\\n",
              "instrument datetime                                                 \n",
              "sh600048   2025-08-08  10.259205  10.246412  10.284789  10.208036   \n",
              "           2025-08-11  10.284935  10.272142  10.348896  10.272142   \n",
              "           2025-08-12  10.272070  10.259277  10.323238  10.246486   \n",
              "           2025-08-13  10.284716  10.233548  10.297507  10.207964   \n",
              "           2025-08-14  10.246412  10.246412  10.399917  10.220829   \n",
              "\n",
              "                            $volume       $amount   $factor  $close/$factor  \n",
              "instrument datetime                                                          \n",
              "sh600048   2025-08-08  5.818653e+05  5.958251e+05  1.279203        8.009999  \n",
              "           2025-08-11  8.829176e+05  9.098835e+05  1.279221        8.030000  \n",
              "           2025-08-12  7.614177e+05  7.824929e+05  1.279212        8.020000  \n",
              "           2025-08-13  8.384272e+05  8.584485e+05  1.279194        8.000000  \n",
              "           2025-08-14  1.508533e+06  1.553063e+06  1.279203        8.009999  "
            ],
            "text/html": [
              "\n",
              "  <div id=\"df-e11a05f7-2f48-4ba6-9066-a3c78fd3bf3c\" class=\"colab-df-container\">\n",
              "    <div>\n",
              "<style scoped>\n",
              "    .dataframe tbody tr th:only-of-type {\n",
              "        vertical-align: middle;\n",
              "    }\n",
              "\n",
              "    .dataframe tbody tr th {\n",
              "        vertical-align: top;\n",
              "    }\n",
              "\n",
              "    .dataframe thead th {\n",
              "        text-align: right;\n",
              "    }\n",
              "</style>\n",
              "<table border=\"1\" class=\"dataframe\">\n",
              "  <thead>\n",
              "    <tr style=\"text-align: right;\">\n",
              "      <th></th>\n",
              "      <th></th>\n",
              "      <th>$open</th>\n",
              "      <th>$close</th>\n",
              "      <th>$high</th>\n",
              "      <th>$low</th>\n",
              "      <th>$volume</th>\n",
              "      <th>$amount</th>\n",
              "      <th>$factor</th>\n",
              "      <th>$close/$factor</th>\n",
              "    </tr>\n",
              "    <tr>\n",
              "      <th>instrument</th>\n",
              "      <th>datetime</th>\n",
              "      <th></th>\n",
              "      <th></th>\n",
              "      <th></th>\n",
              "      <th></th>\n",
              "      <th></th>\n",
              "      <th></th>\n",
              "      <th></th>\n",
              "      <th></th>\n",
              "    </tr>\n",
              "  </thead>\n",
              "  <tbody>\n",
              "    <tr>\n",
              "      <th rowspan=\"5\" valign=\"top\">sh600048</th>\n",
              "      <th>2025-08-08</th>\n",
              "      <td>10.259205</td>\n",
              "      <td>10.246412</td>\n",
              "      <td>10.284789</td>\n",
              "      <td>10.208036</td>\n",
              "      <td>5.818653e+05</td>\n",
              "      <td>5.958251e+05</td>\n",
              "      <td>1.279203</td>\n",
              "      <td>8.009999</td>\n",
              "    </tr>\n",
              "    <tr>\n",
              "      <th>2025-08-11</th>\n",
              "      <td>10.284935</td>\n",
              "      <td>10.272142</td>\n",
              "      <td>10.348896</td>\n",
              "      <td>10.272142</td>\n",
              "      <td>8.829176e+05</td>\n",
              "      <td>9.098835e+05</td>\n",
              "      <td>1.279221</td>\n",
              "      <td>8.030000</td>\n",
              "    </tr>\n",
              "    <tr>\n",
              "      <th>2025-08-12</th>\n",
              "      <td>10.272070</td>\n",
              "      <td>10.259277</td>\n",
              "      <td>10.323238</td>\n",
              "      <td>10.246486</td>\n",
              "      <td>7.614177e+05</td>\n",
              "      <td>7.824929e+05</td>\n",
              "      <td>1.279212</td>\n",
              "      <td>8.020000</td>\n",
              "    </tr>\n",
              "    <tr>\n",
              "      <th>2025-08-13</th>\n",
              "      <td>10.284716</td>\n",
              "      <td>10.233548</td>\n",
              "      <td>10.297507</td>\n",
              "      <td>10.207964</td>\n",
              "      <td>8.384272e+05</td>\n",
              "      <td>8.584485e+05</td>\n",
              "      <td>1.279194</td>\n",
              "      <td>8.000000</td>\n",
              "    </tr>\n",
              "    <tr>\n",
              "      <th>2025-08-14</th>\n",
              "      <td>10.246412</td>\n",
              "      <td>10.246412</td>\n",
              "      <td>10.399917</td>\n",
              "      <td>10.220829</td>\n",
              "      <td>1.508533e+06</td>\n",
              "      <td>1.553063e+06</td>\n",
              "      <td>1.279203</td>\n",
              "      <td>8.009999</td>\n",
              "    </tr>\n",
              "  </tbody>\n",
              "</table>\n",
              "</div>\n",
              "    <div class=\"colab-df-buttons\">\n",
              "\n",
              "  <div class=\"colab-df-container\">\n",
              "    <button class=\"colab-df-convert\" onclick=\"convertToInteractive('df-e11a05f7-2f48-4ba6-9066-a3c78fd3bf3c')\"\n",
              "            title=\"Convert this dataframe to an interactive table.\"\n",
              "            style=\"display:none;\">\n",
              "\n",
              "  <svg xmlns=\"http://www.w3.org/2000/svg\" height=\"24px\" viewBox=\"0 -960 960 960\">\n",
              "    <path d=\"M120-120v-720h720v720H120Zm60-500h600v-160H180v160Zm220 220h160v-160H400v160Zm0 220h160v-160H400v160ZM180-400h160v-160H180v160Zm440 0h160v-160H620v160ZM180-180h160v-160H180v160Zm440 0h160v-160H620v160Z\"/>\n",
              "  </svg>\n",
              "    </button>\n",
              "\n",
              "  <style>\n",
              "    .colab-df-container {\n",
              "      display:flex;\n",
              "      gap: 12px;\n",
              "    }\n",
              "\n",
              "    .colab-df-convert {\n",
              "      background-color: #E8F0FE;\n",
              "      border: none;\n",
              "      border-radius: 50%;\n",
              "      cursor: pointer;\n",
              "      display: none;\n",
              "      fill: #1967D2;\n",
              "      height: 32px;\n",
              "      padding: 0 0 0 0;\n",
              "      width: 32px;\n",
              "    }\n",
              "\n",
              "    .colab-df-convert:hover {\n",
              "      background-color: #E2EBFA;\n",
              "      box-shadow: 0px 1px 2px rgba(60, 64, 67, 0.3), 0px 1px 3px 1px rgba(60, 64, 67, 0.15);\n",
              "      fill: #174EA6;\n",
              "    }\n",
              "\n",
              "    .colab-df-buttons div {\n",
              "      margin-bottom: 4px;\n",
              "    }\n",
              "\n",
              "    [theme=dark] .colab-df-convert {\n",
              "      background-color: #3B4455;\n",
              "      fill: #D2E3FC;\n",
              "    }\n",
              "\n",
              "    [theme=dark] .colab-df-convert:hover {\n",
              "      background-color: #434B5C;\n",
              "      box-shadow: 0px 1px 3px 1px rgba(0, 0, 0, 0.15);\n",
              "      filter: drop-shadow(0px 1px 2px rgba(0, 0, 0, 0.3));\n",
              "      fill: #FFFFFF;\n",
              "    }\n",
              "  </style>\n",
              "\n",
              "    <script>\n",
              "      const buttonEl =\n",
              "        document.querySelector('#df-e11a05f7-2f48-4ba6-9066-a3c78fd3bf3c button.colab-df-convert');\n",
              "      buttonEl.style.display =\n",
              "        google.colab.kernel.accessAllowed ? 'block' : 'none';\n",
              "\n",
              "      async function convertToInteractive(key) {\n",
              "        const element = document.querySelector('#df-e11a05f7-2f48-4ba6-9066-a3c78fd3bf3c');\n",
              "        const dataTable =\n",
              "          await google.colab.kernel.invokeFunction('convertToInteractive',\n",
              "                                                    [key], {});\n",
              "        if (!dataTable) return;\n",
              "\n",
              "        const docLinkHtml = 'Like what you see? Visit the ' +\n",
              "          '<a target=\"_blank\" href=https://colab.research.google.com/notebooks/data_table.ipynb>data table notebook</a>'\n",
              "          + ' to learn more about interactive tables.';\n",
              "        element.innerHTML = '';\n",
              "        dataTable['output_type'] = 'display_data';\n",
              "        await google.colab.output.renderOutput(dataTable, element);\n",
              "        const docLink = document.createElement('div');\n",
              "        docLink.innerHTML = docLinkHtml;\n",
              "        element.appendChild(docLink);\n",
              "      }\n",
              "    </script>\n",
              "  </div>\n",
              "\n",
              "\n",
              "    <div id=\"df-c9d3513b-84a8-4273-ac2a-717e13f5f751\">\n",
              "      <button class=\"colab-df-quickchart\" onclick=\"quickchart('df-c9d3513b-84a8-4273-ac2a-717e13f5f751')\"\n",
              "                title=\"Suggest charts\"\n",
              "                style=\"display:none;\">\n",
              "\n",
              "<svg xmlns=\"http://www.w3.org/2000/svg\" height=\"24px\"viewBox=\"0 0 24 24\"\n",
              "     width=\"24px\">\n",
              "    <g>\n",
              "        <path d=\"M19 3H5c-1.1 0-2 .9-2 2v14c0 1.1.9 2 2 2h14c1.1 0 2-.9 2-2V5c0-1.1-.9-2-2-2zM9 17H7v-7h2v7zm4 0h-2V7h2v10zm4 0h-2v-4h2v4z\"/>\n",
              "    </g>\n",
              "</svg>\n",
              "      </button>\n",
              "\n",
              "<style>\n",
              "  .colab-df-quickchart {\n",
              "      --bg-color: #E8F0FE;\n",
              "      --fill-color: #1967D2;\n",
              "      --hover-bg-color: #E2EBFA;\n",
              "      --hover-fill-color: #174EA6;\n",
              "      --disabled-fill-color: #AAA;\n",
              "      --disabled-bg-color: #DDD;\n",
              "  }\n",
              "\n",
              "  [theme=dark] .colab-df-quickchart {\n",
              "      --bg-color: #3B4455;\n",
              "      --fill-color: #D2E3FC;\n",
              "      --hover-bg-color: #434B5C;\n",
              "      --hover-fill-color: #FFFFFF;\n",
              "      --disabled-bg-color: #3B4455;\n",
              "      --disabled-fill-color: #666;\n",
              "  }\n",
              "\n",
              "  .colab-df-quickchart {\n",
              "    background-color: var(--bg-color);\n",
              "    border: none;\n",
              "    border-radius: 50%;\n",
              "    cursor: pointer;\n",
              "    display: none;\n",
              "    fill: var(--fill-color);\n",
              "    height: 32px;\n",
              "    padding: 0;\n",
              "    width: 32px;\n",
              "  }\n",
              "\n",
              "  .colab-df-quickchart:hover {\n",
              "    background-color: var(--hover-bg-color);\n",
              "    box-shadow: 0 1px 2px rgba(60, 64, 67, 0.3), 0 1px 3px 1px rgba(60, 64, 67, 0.15);\n",
              "    fill: var(--button-hover-fill-color);\n",
              "  }\n",
              "\n",
              "  .colab-df-quickchart-complete:disabled,\n",
              "  .colab-df-quickchart-complete:disabled:hover {\n",
              "    background-color: var(--disabled-bg-color);\n",
              "    fill: var(--disabled-fill-color);\n",
              "    box-shadow: none;\n",
              "  }\n",
              "\n",
              "  .colab-df-spinner {\n",
              "    border: 2px solid var(--fill-color);\n",
              "    border-color: transparent;\n",
              "    border-bottom-color: var(--fill-color);\n",
              "    animation:\n",
              "      spin 1s steps(1) infinite;\n",
              "  }\n",
              "\n",
              "  @keyframes spin {\n",
              "    0% {\n",
              "      border-color: transparent;\n",
              "      border-bottom-color: var(--fill-color);\n",
              "      border-left-color: var(--fill-color);\n",
              "    }\n",
              "    20% {\n",
              "      border-color: transparent;\n",
              "      border-left-color: var(--fill-color);\n",
              "      border-top-color: var(--fill-color);\n",
              "    }\n",
              "    30% {\n",
              "      border-color: transparent;\n",
              "      border-left-color: var(--fill-color);\n",
              "      border-top-color: var(--fill-color);\n",
              "      border-right-color: var(--fill-color);\n",
              "    }\n",
              "    40% {\n",
              "      border-color: transparent;\n",
              "      border-right-color: var(--fill-color);\n",
              "      border-top-color: var(--fill-color);\n",
              "    }\n",
              "    60% {\n",
              "      border-color: transparent;\n",
              "      border-right-color: var(--fill-color);\n",
              "    }\n",
              "    80% {\n",
              "      border-color: transparent;\n",
              "      border-right-color: var(--fill-color);\n",
              "      border-bottom-color: var(--fill-color);\n",
              "    }\n",
              "    90% {\n",
              "      border-color: transparent;\n",
              "      border-bottom-color: var(--fill-color);\n",
              "    }\n",
              "  }\n",
              "</style>\n",
              "\n",
              "      <script>\n",
              "        async function quickchart(key) {\n",
              "          const quickchartButtonEl =\n",
              "            document.querySelector('#' + key + ' button');\n",
              "          quickchartButtonEl.disabled = true;  // To prevent multiple clicks.\n",
              "          quickchartButtonEl.classList.add('colab-df-spinner');\n",
              "          try {\n",
              "            const charts = await google.colab.kernel.invokeFunction(\n",
              "                'suggestCharts', [key], {});\n",
              "          } catch (error) {\n",
              "            console.error('Error during call to suggestCharts:', error);\n",
              "          }\n",
              "          quickchartButtonEl.classList.remove('colab-df-spinner');\n",
              "          quickchartButtonEl.classList.add('colab-df-quickchart-complete');\n",
              "        }\n",
              "        (() => {\n",
              "          let quickchartButtonEl =\n",
              "            document.querySelector('#df-c9d3513b-84a8-4273-ac2a-717e13f5f751 button');\n",
              "          quickchartButtonEl.style.display =\n",
              "            google.colab.kernel.accessAllowed ? 'block' : 'none';\n",
              "        })();\n",
              "      </script>\n",
              "    </div>\n",
              "\n",
              "    </div>\n",
              "  </div>\n"
            ],
            "application/vnd.google.colaboratory.intrinsic+json": {
              "type": "dataframe",
              "summary": "{\n  \"name\": \"    print(\\\"\\u8bf7\\u68c0\\u67e5\\u5b57\\u6bb5\\u540d\\u79f0\\u662f\\u5426\\u6b63\\u786e\\u6216\\u6570\\u636e\\u6e90\\u662f\\u5426\\u5305\\u542b\\u8fd9\\u4e9b\\u5b57\\u6bb5\\u3002\\\")\",\n  \"rows\": 5,\n  \"fields\": [\n    {\n      \"column\": \"$open\",\n      \"properties\": {\n        \"dtype\": \"float32\",\n        \"num_unique_values\": 5,\n        \"samples\": [\n          10.284934997558594,\n          10.24641227722168,\n          10.272069931030273\n        ],\n        \"semantic_type\": \"\",\n        \"description\": \"\"\n      }\n    },\n    {\n      \"column\": \"$close\",\n      \"properties\": {\n        \"dtype\": \"float32\",\n        \"num_unique_values\": 4,\n        \"samples\": [\n          10.27214241027832,\n          10.233548164367676,\n          10.24641227722168\n        ],\n        \"semantic_type\": \"\",\n        \"description\": \"\"\n      }\n    },\n    {\n      \"column\": \"$high\",\n      \"properties\": {\n        \"dtype\": \"float32\",\n        \"num_unique_values\": 5,\n        \"samples\": [\n          10.348896026611328,\n          10.399916648864746,\n          10.323238372802734\n        ],\n        \"semantic_type\": \"\",\n        \"description\": \"\"\n      }\n    },\n    {\n      \"column\": \"$low\",\n      \"properties\": {\n        \"dtype\": \"float32\",\n        \"num_unique_values\": 5,\n        \"samples\": [\n          10.27214241027832,\n          10.220829010009766,\n          10.246485710144043\n        ],\n        \"semantic_type\": \"\",\n        \"description\": \"\"\n      }\n    },\n    {\n      \"column\": \"$volume\",\n      \"properties\": {\n        \"dtype\": \"float32\",\n        \"num_unique_values\": 5,\n        \"samples\": [\n          882917.5625,\n          1508532.625,\n          761417.6875\n        ],\n        \"semantic_type\": \"\",\n        \"description\": \"\"\n      }\n    },\n    {\n      \"column\": \"$amount\",\n      \"properties\": {\n        \"dtype\": \"float32\",\n        \"num_unique_values\": 5,\n        \"samples\": [\n          909883.5,\n          1553063.25,\n          782492.9375\n        ],\n        \"semantic_type\": \"\",\n        \"description\": \"\"\n      }\n    },\n    {\n      \"column\": \"$factor\",\n      \"properties\": {\n        \"dtype\": \"float32\",\n        \"num_unique_values\": 4,\n        \"samples\": [\n          1.279220700263977,\n          1.2791935205459595,\n          1.2792025804519653\n        ],\n        \"semantic_type\": \"\",\n        \"description\": \"\"\n      }\n    },\n    {\n      \"column\": \"$close/$factor\",\n      \"properties\": {\n        \"dtype\": \"float32\",\n        \"num_unique_values\": 4,\n        \"samples\": [\n          8.029999732971191,\n          8.0,\n          8.00999927520752\n        ],\n        \"semantic_type\": \"\",\n        \"description\": \"\"\n      }\n    }\n  ]\n}"
            }
          },
          "metadata": {}
        }
      ]
    },
    {
      "cell_type": "markdown",
      "metadata": {
        "id": "e48ebb76"
      },
      "source": [
        "## 因子工程与分析\n",
        "\n",
        "**里程碑:** 理解量化因子概念，学习如何使用 Qlib 进行因子计算和分析。"
      ]
    },
    {
      "cell_type": "code",
      "metadata": {
        "colab": {
          "base_uri": "https://localhost:8080/",
          "height": 310
        },
        "collapsed": true,
        "id": "09b22287",
        "outputId": "c0533ac1-98e2-419e-c841-51245a5e890d"
      },
      "source": [
        "# 导入必要的库\n",
        "from qlib.data import D\n",
        "\n",
        "# 定义一个简单的因子：收盘价\n",
        "# 'close' 是 Qlib 中预定义的价格字段\n",
        "close_factor = D.features([market], ['$close'])\n",
        "\n",
        "print(\"近五天的收盘价数据：\")\n",
        "display(close_factor.tail())\n",
        "# print(D.features([benchmark], ['$close']))"
      ],
      "execution_count": 18,
      "outputs": [
        {
          "output_type": "stream",
          "name": "stdout",
          "text": [
            "近五天的收盘价数据：\n"
          ]
        },
        {
          "output_type": "stream",
          "name": "stderr",
          "text": [
            "/usr/local/lib/python3.12/dist-packages/jupyter_client/session.py:151: DeprecationWarning: datetime.datetime.utcnow() is deprecated and scheduled for removal in a future version. Use timezone-aware objects to represent datetimes in UTC: datetime.datetime.now(datetime.UTC).\n",
            "  Avoids problematic runtime import in stdlib uuid on Python 2.\n"
          ]
        },
        {
          "output_type": "display_data",
          "data": {
            "text/plain": [
              "                          $close\n",
              "instrument datetime             \n",
              "sh600048   2025-08-14  10.246412\n",
              "           2025-08-15  10.425532\n",
              "           2025-08-18  10.272142\n",
              "           2025-08-19  10.220683\n",
              "           2025-08-20  10.286491"
            ],
            "text/html": [
              "\n",
              "  <div id=\"df-b120b8d2-0581-4963-a203-fa9b5d68dacd\" class=\"colab-df-container\">\n",
              "    <div>\n",
              "<style scoped>\n",
              "    .dataframe tbody tr th:only-of-type {\n",
              "        vertical-align: middle;\n",
              "    }\n",
              "\n",
              "    .dataframe tbody tr th {\n",
              "        vertical-align: top;\n",
              "    }\n",
              "\n",
              "    .dataframe thead th {\n",
              "        text-align: right;\n",
              "    }\n",
              "</style>\n",
              "<table border=\"1\" class=\"dataframe\">\n",
              "  <thead>\n",
              "    <tr style=\"text-align: right;\">\n",
              "      <th></th>\n",
              "      <th></th>\n",
              "      <th>$close</th>\n",
              "    </tr>\n",
              "    <tr>\n",
              "      <th>instrument</th>\n",
              "      <th>datetime</th>\n",
              "      <th></th>\n",
              "    </tr>\n",
              "  </thead>\n",
              "  <tbody>\n",
              "    <tr>\n",
              "      <th rowspan=\"5\" valign=\"top\">sh600048</th>\n",
              "      <th>2025-08-14</th>\n",
              "      <td>10.246412</td>\n",
              "    </tr>\n",
              "    <tr>\n",
              "      <th>2025-08-15</th>\n",
              "      <td>10.425532</td>\n",
              "    </tr>\n",
              "    <tr>\n",
              "      <th>2025-08-18</th>\n",
              "      <td>10.272142</td>\n",
              "    </tr>\n",
              "    <tr>\n",
              "      <th>2025-08-19</th>\n",
              "      <td>10.220683</td>\n",
              "    </tr>\n",
              "    <tr>\n",
              "      <th>2025-08-20</th>\n",
              "      <td>10.286491</td>\n",
              "    </tr>\n",
              "  </tbody>\n",
              "</table>\n",
              "</div>\n",
              "    <div class=\"colab-df-buttons\">\n",
              "\n",
              "  <div class=\"colab-df-container\">\n",
              "    <button class=\"colab-df-convert\" onclick=\"convertToInteractive('df-b120b8d2-0581-4963-a203-fa9b5d68dacd')\"\n",
              "            title=\"Convert this dataframe to an interactive table.\"\n",
              "            style=\"display:none;\">\n",
              "\n",
              "  <svg xmlns=\"http://www.w3.org/2000/svg\" height=\"24px\" viewBox=\"0 -960 960 960\">\n",
              "    <path d=\"M120-120v-720h720v720H120Zm60-500h600v-160H180v160Zm220 220h160v-160H400v160Zm0 220h160v-160H400v160ZM180-400h160v-160H180v160Zm440 0h160v-160H620v160ZM180-180h160v-160H180v160Zm440 0h160v-160H620v160Z\"/>\n",
              "  </svg>\n",
              "    </button>\n",
              "\n",
              "  <style>\n",
              "    .colab-df-container {\n",
              "      display:flex;\n",
              "      gap: 12px;\n",
              "    }\n",
              "\n",
              "    .colab-df-convert {\n",
              "      background-color: #E8F0FE;\n",
              "      border: none;\n",
              "      border-radius: 50%;\n",
              "      cursor: pointer;\n",
              "      display: none;\n",
              "      fill: #1967D2;\n",
              "      height: 32px;\n",
              "      padding: 0 0 0 0;\n",
              "      width: 32px;\n",
              "    }\n",
              "\n",
              "    .colab-df-convert:hover {\n",
              "      background-color: #E2EBFA;\n",
              "      box-shadow: 0px 1px 2px rgba(60, 64, 67, 0.3), 0px 1px 3px 1px rgba(60, 64, 67, 0.15);\n",
              "      fill: #174EA6;\n",
              "    }\n",
              "\n",
              "    .colab-df-buttons div {\n",
              "      margin-bottom: 4px;\n",
              "    }\n",
              "\n",
              "    [theme=dark] .colab-df-convert {\n",
              "      background-color: #3B4455;\n",
              "      fill: #D2E3FC;\n",
              "    }\n",
              "\n",
              "    [theme=dark] .colab-df-convert:hover {\n",
              "      background-color: #434B5C;\n",
              "      box-shadow: 0px 1px 3px 1px rgba(0, 0, 0, 0.15);\n",
              "      filter: drop-shadow(0px 1px 2px rgba(0, 0, 0, 0.3));\n",
              "      fill: #FFFFFF;\n",
              "    }\n",
              "  </style>\n",
              "\n",
              "    <script>\n",
              "      const buttonEl =\n",
              "        document.querySelector('#df-b120b8d2-0581-4963-a203-fa9b5d68dacd button.colab-df-convert');\n",
              "      buttonEl.style.display =\n",
              "        google.colab.kernel.accessAllowed ? 'block' : 'none';\n",
              "\n",
              "      async function convertToInteractive(key) {\n",
              "        const element = document.querySelector('#df-b120b8d2-0581-4963-a203-fa9b5d68dacd');\n",
              "        const dataTable =\n",
              "          await google.colab.kernel.invokeFunction('convertToInteractive',\n",
              "                                                    [key], {});\n",
              "        if (!dataTable) return;\n",
              "\n",
              "        const docLinkHtml = 'Like what you see? Visit the ' +\n",
              "          '<a target=\"_blank\" href=https://colab.research.google.com/notebooks/data_table.ipynb>data table notebook</a>'\n",
              "          + ' to learn more about interactive tables.';\n",
              "        element.innerHTML = '';\n",
              "        dataTable['output_type'] = 'display_data';\n",
              "        await google.colab.output.renderOutput(dataTable, element);\n",
              "        const docLink = document.createElement('div');\n",
              "        docLink.innerHTML = docLinkHtml;\n",
              "        element.appendChild(docLink);\n",
              "      }\n",
              "    </script>\n",
              "  </div>\n",
              "\n",
              "\n",
              "    <div id=\"df-ca757d0a-3ff5-4f8a-8c43-5937e972464d\">\n",
              "      <button class=\"colab-df-quickchart\" onclick=\"quickchart('df-ca757d0a-3ff5-4f8a-8c43-5937e972464d')\"\n",
              "                title=\"Suggest charts\"\n",
              "                style=\"display:none;\">\n",
              "\n",
              "<svg xmlns=\"http://www.w3.org/2000/svg\" height=\"24px\"viewBox=\"0 0 24 24\"\n",
              "     width=\"24px\">\n",
              "    <g>\n",
              "        <path d=\"M19 3H5c-1.1 0-2 .9-2 2v14c0 1.1.9 2 2 2h14c1.1 0 2-.9 2-2V5c0-1.1-.9-2-2-2zM9 17H7v-7h2v7zm4 0h-2V7h2v10zm4 0h-2v-4h2v4z\"/>\n",
              "    </g>\n",
              "</svg>\n",
              "      </button>\n",
              "\n",
              "<style>\n",
              "  .colab-df-quickchart {\n",
              "      --bg-color: #E8F0FE;\n",
              "      --fill-color: #1967D2;\n",
              "      --hover-bg-color: #E2EBFA;\n",
              "      --hover-fill-color: #174EA6;\n",
              "      --disabled-fill-color: #AAA;\n",
              "      --disabled-bg-color: #DDD;\n",
              "  }\n",
              "\n",
              "  [theme=dark] .colab-df-quickchart {\n",
              "      --bg-color: #3B4455;\n",
              "      --fill-color: #D2E3FC;\n",
              "      --hover-bg-color: #434B5C;\n",
              "      --hover-fill-color: #FFFFFF;\n",
              "      --disabled-bg-color: #3B4455;\n",
              "      --disabled-fill-color: #666;\n",
              "  }\n",
              "\n",
              "  .colab-df-quickchart {\n",
              "    background-color: var(--bg-color);\n",
              "    border: none;\n",
              "    border-radius: 50%;\n",
              "    cursor: pointer;\n",
              "    display: none;\n",
              "    fill: var(--fill-color);\n",
              "    height: 32px;\n",
              "    padding: 0;\n",
              "    width: 32px;\n",
              "  }\n",
              "\n",
              "  .colab-df-quickchart:hover {\n",
              "    background-color: var(--hover-bg-color);\n",
              "    box-shadow: 0 1px 2px rgba(60, 64, 67, 0.3), 0 1px 3px 1px rgba(60, 64, 67, 0.15);\n",
              "    fill: var(--button-hover-fill-color);\n",
              "  }\n",
              "\n",
              "  .colab-df-quickchart-complete:disabled,\n",
              "  .colab-df-quickchart-complete:disabled:hover {\n",
              "    background-color: var(--disabled-bg-color);\n",
              "    fill: var(--disabled-fill-color);\n",
              "    box-shadow: none;\n",
              "  }\n",
              "\n",
              "  .colab-df-spinner {\n",
              "    border: 2px solid var(--fill-color);\n",
              "    border-color: transparent;\n",
              "    border-bottom-color: var(--fill-color);\n",
              "    animation:\n",
              "      spin 1s steps(1) infinite;\n",
              "  }\n",
              "\n",
              "  @keyframes spin {\n",
              "    0% {\n",
              "      border-color: transparent;\n",
              "      border-bottom-color: var(--fill-color);\n",
              "      border-left-color: var(--fill-color);\n",
              "    }\n",
              "    20% {\n",
              "      border-color: transparent;\n",
              "      border-left-color: var(--fill-color);\n",
              "      border-top-color: var(--fill-color);\n",
              "    }\n",
              "    30% {\n",
              "      border-color: transparent;\n",
              "      border-left-color: var(--fill-color);\n",
              "      border-top-color: var(--fill-color);\n",
              "      border-right-color: var(--fill-color);\n",
              "    }\n",
              "    40% {\n",
              "      border-color: transparent;\n",
              "      border-right-color: var(--fill-color);\n",
              "      border-top-color: var(--fill-color);\n",
              "    }\n",
              "    60% {\n",
              "      border-color: transparent;\n",
              "      border-right-color: var(--fill-color);\n",
              "    }\n",
              "    80% {\n",
              "      border-color: transparent;\n",
              "      border-right-color: var(--fill-color);\n",
              "      border-bottom-color: var(--fill-color);\n",
              "    }\n",
              "    90% {\n",
              "      border-color: transparent;\n",
              "      border-bottom-color: var(--fill-color);\n",
              "    }\n",
              "  }\n",
              "</style>\n",
              "\n",
              "      <script>\n",
              "        async function quickchart(key) {\n",
              "          const quickchartButtonEl =\n",
              "            document.querySelector('#' + key + ' button');\n",
              "          quickchartButtonEl.disabled = true;  // To prevent multiple clicks.\n",
              "          quickchartButtonEl.classList.add('colab-df-spinner');\n",
              "          try {\n",
              "            const charts = await google.colab.kernel.invokeFunction(\n",
              "                'suggestCharts', [key], {});\n",
              "          } catch (error) {\n",
              "            console.error('Error during call to suggestCharts:', error);\n",
              "          }\n",
              "          quickchartButtonEl.classList.remove('colab-df-spinner');\n",
              "          quickchartButtonEl.classList.add('colab-df-quickchart-complete');\n",
              "        }\n",
              "        (() => {\n",
              "          let quickchartButtonEl =\n",
              "            document.querySelector('#df-ca757d0a-3ff5-4f8a-8c43-5937e972464d button');\n",
              "          quickchartButtonEl.style.display =\n",
              "            google.colab.kernel.accessAllowed ? 'block' : 'none';\n",
              "        })();\n",
              "      </script>\n",
              "    </div>\n",
              "\n",
              "    </div>\n",
              "  </div>\n"
            ],
            "application/vnd.google.colaboratory.intrinsic+json": {
              "type": "dataframe",
              "summary": "{\n  \"name\": \"# print(D\",\n  \"rows\": 5,\n  \"fields\": [\n    {\n      \"column\": \"$close\",\n      \"properties\": {\n        \"dtype\": \"float32\",\n        \"num_unique_values\": 5,\n        \"samples\": [\n          10.425532341003418,\n          10.286491394042969,\n          10.27214241027832\n        ],\n        \"semantic_type\": \"\",\n        \"description\": \"\"\n      }\n    }\n  ]\n}"
            }
          },
          "metadata": {}
        }
      ]
    },
    {
      "cell_type": "markdown",
      "metadata": {
        "id": "c0f2020a"
      },
      "source": [
        "上面的代码演示了如何获取股票收盘价数据，`D.features` 函数是 Qlib 中用于获取指定股票和指定因子数据的主要接口。\n",
        "\n",
        "接下来，我们尝试计算一个更常见的因子：日收益率。日收益率可以通过今天的收盘价除以昨天的收盘价再减一来计算。在 Qlib 的 Expression2 中，我们可以使用内置函数来实现。"
      ]
    },
    {
      "cell_type": "code",
      "metadata": {
        "colab": {
          "base_uri": "https://localhost:8080/",
          "height": 327
        },
        "id": "83bb67ff",
        "outputId": "0d11d476-5952-4497-b88f-47f70fa384b8"
      },
      "source": [
        "# 计算日收益率因子： (今天的收盘价 / 昨天的收盘价) - 1\n",
        "# Ref($close, 1) 表示昨天的收盘价\n",
        "daily_return_factor = D.features([market], ['$close/Ref($close, 1) - 1'])\n",
        "\n",
        "print(\"\\n近五天的日收益率数据：\")\n",
        "display(daily_return_factor.tail())"
      ],
      "execution_count": 19,
      "outputs": [
        {
          "output_type": "stream",
          "name": "stdout",
          "text": [
            "\n",
            "近五天的日收益率数据：\n"
          ]
        },
        {
          "output_type": "stream",
          "name": "stderr",
          "text": [
            "/usr/local/lib/python3.12/dist-packages/jupyter_client/session.py:151: DeprecationWarning: datetime.datetime.utcnow() is deprecated and scheduled for removal in a future version. Use timezone-aware objects to represent datetimes in UTC: datetime.datetime.now(datetime.UTC).\n",
            "  Avoids problematic runtime import in stdlib uuid on Python 2.\n"
          ]
        },
        {
          "output_type": "display_data",
          "data": {
            "text/plain": [
              "                       $close/Ref($close, 1) - 1\n",
              "instrument datetime                             \n",
              "sh600048   2025-08-14                   0.001257\n",
              "           2025-08-15                   0.017481\n",
              "           2025-08-18                  -0.014713\n",
              "           2025-08-19                  -0.005010\n",
              "           2025-08-20                   0.006439"
            ],
            "text/html": [
              "\n",
              "  <div id=\"df-3809954a-f47c-4584-b7e1-04d89a7df3a7\" class=\"colab-df-container\">\n",
              "    <div>\n",
              "<style scoped>\n",
              "    .dataframe tbody tr th:only-of-type {\n",
              "        vertical-align: middle;\n",
              "    }\n",
              "\n",
              "    .dataframe tbody tr th {\n",
              "        vertical-align: top;\n",
              "    }\n",
              "\n",
              "    .dataframe thead th {\n",
              "        text-align: right;\n",
              "    }\n",
              "</style>\n",
              "<table border=\"1\" class=\"dataframe\">\n",
              "  <thead>\n",
              "    <tr style=\"text-align: right;\">\n",
              "      <th></th>\n",
              "      <th></th>\n",
              "      <th>$close/Ref($close, 1) - 1</th>\n",
              "    </tr>\n",
              "    <tr>\n",
              "      <th>instrument</th>\n",
              "      <th>datetime</th>\n",
              "      <th></th>\n",
              "    </tr>\n",
              "  </thead>\n",
              "  <tbody>\n",
              "    <tr>\n",
              "      <th rowspan=\"5\" valign=\"top\">sh600048</th>\n",
              "      <th>2025-08-14</th>\n",
              "      <td>0.001257</td>\n",
              "    </tr>\n",
              "    <tr>\n",
              "      <th>2025-08-15</th>\n",
              "      <td>0.017481</td>\n",
              "    </tr>\n",
              "    <tr>\n",
              "      <th>2025-08-18</th>\n",
              "      <td>-0.014713</td>\n",
              "    </tr>\n",
              "    <tr>\n",
              "      <th>2025-08-19</th>\n",
              "      <td>-0.005010</td>\n",
              "    </tr>\n",
              "    <tr>\n",
              "      <th>2025-08-20</th>\n",
              "      <td>0.006439</td>\n",
              "    </tr>\n",
              "  </tbody>\n",
              "</table>\n",
              "</div>\n",
              "    <div class=\"colab-df-buttons\">\n",
              "\n",
              "  <div class=\"colab-df-container\">\n",
              "    <button class=\"colab-df-convert\" onclick=\"convertToInteractive('df-3809954a-f47c-4584-b7e1-04d89a7df3a7')\"\n",
              "            title=\"Convert this dataframe to an interactive table.\"\n",
              "            style=\"display:none;\">\n",
              "\n",
              "  <svg xmlns=\"http://www.w3.org/2000/svg\" height=\"24px\" viewBox=\"0 -960 960 960\">\n",
              "    <path d=\"M120-120v-720h720v720H120Zm60-500h600v-160H180v160Zm220 220h160v-160H400v160Zm0 220h160v-160H400v160ZM180-400h160v-160H180v160Zm440 0h160v-160H620v160ZM180-180h160v-160H180v160Zm440 0h160v-160H620v160Z\"/>\n",
              "  </svg>\n",
              "    </button>\n",
              "\n",
              "  <style>\n",
              "    .colab-df-container {\n",
              "      display:flex;\n",
              "      gap: 12px;\n",
              "    }\n",
              "\n",
              "    .colab-df-convert {\n",
              "      background-color: #E8F0FE;\n",
              "      border: none;\n",
              "      border-radius: 50%;\n",
              "      cursor: pointer;\n",
              "      display: none;\n",
              "      fill: #1967D2;\n",
              "      height: 32px;\n",
              "      padding: 0 0 0 0;\n",
              "      width: 32px;\n",
              "    }\n",
              "\n",
              "    .colab-df-convert:hover {\n",
              "      background-color: #E2EBFA;\n",
              "      box-shadow: 0px 1px 2px rgba(60, 64, 67, 0.3), 0px 1px 3px 1px rgba(60, 64, 67, 0.15);\n",
              "      fill: #174EA6;\n",
              "    }\n",
              "\n",
              "    .colab-df-buttons div {\n",
              "      margin-bottom: 4px;\n",
              "    }\n",
              "\n",
              "    [theme=dark] .colab-df-convert {\n",
              "      background-color: #3B4455;\n",
              "      fill: #D2E3FC;\n",
              "    }\n",
              "\n",
              "    [theme=dark] .colab-df-convert:hover {\n",
              "      background-color: #434B5C;\n",
              "      box-shadow: 0px 1px 3px 1px rgba(0, 0, 0, 0.15);\n",
              "      filter: drop-shadow(0px 1px 2px rgba(0, 0, 0, 0.3));\n",
              "      fill: #FFFFFF;\n",
              "    }\n",
              "  </style>\n",
              "\n",
              "    <script>\n",
              "      const buttonEl =\n",
              "        document.querySelector('#df-3809954a-f47c-4584-b7e1-04d89a7df3a7 button.colab-df-convert');\n",
              "      buttonEl.style.display =\n",
              "        google.colab.kernel.accessAllowed ? 'block' : 'none';\n",
              "\n",
              "      async function convertToInteractive(key) {\n",
              "        const element = document.querySelector('#df-3809954a-f47c-4584-b7e1-04d89a7df3a7');\n",
              "        const dataTable =\n",
              "          await google.colab.kernel.invokeFunction('convertToInteractive',\n",
              "                                                    [key], {});\n",
              "        if (!dataTable) return;\n",
              "\n",
              "        const docLinkHtml = 'Like what you see? Visit the ' +\n",
              "          '<a target=\"_blank\" href=https://colab.research.google.com/notebooks/data_table.ipynb>data table notebook</a>'\n",
              "          + ' to learn more about interactive tables.';\n",
              "        element.innerHTML = '';\n",
              "        dataTable['output_type'] = 'display_data';\n",
              "        await google.colab.output.renderOutput(dataTable, element);\n",
              "        const docLink = document.createElement('div');\n",
              "        docLink.innerHTML = docLinkHtml;\n",
              "        element.appendChild(docLink);\n",
              "      }\n",
              "    </script>\n",
              "  </div>\n",
              "\n",
              "\n",
              "    <div id=\"df-ceda9094-7acc-4cdf-bfee-e4d36549ea7f\">\n",
              "      <button class=\"colab-df-quickchart\" onclick=\"quickchart('df-ceda9094-7acc-4cdf-bfee-e4d36549ea7f')\"\n",
              "                title=\"Suggest charts\"\n",
              "                style=\"display:none;\">\n",
              "\n",
              "<svg xmlns=\"http://www.w3.org/2000/svg\" height=\"24px\"viewBox=\"0 0 24 24\"\n",
              "     width=\"24px\">\n",
              "    <g>\n",
              "        <path d=\"M19 3H5c-1.1 0-2 .9-2 2v14c0 1.1.9 2 2 2h14c1.1 0 2-.9 2-2V5c0-1.1-.9-2-2-2zM9 17H7v-7h2v7zm4 0h-2V7h2v10zm4 0h-2v-4h2v4z\"/>\n",
              "    </g>\n",
              "</svg>\n",
              "      </button>\n",
              "\n",
              "<style>\n",
              "  .colab-df-quickchart {\n",
              "      --bg-color: #E8F0FE;\n",
              "      --fill-color: #1967D2;\n",
              "      --hover-bg-color: #E2EBFA;\n",
              "      --hover-fill-color: #174EA6;\n",
              "      --disabled-fill-color: #AAA;\n",
              "      --disabled-bg-color: #DDD;\n",
              "  }\n",
              "\n",
              "  [theme=dark] .colab-df-quickchart {\n",
              "      --bg-color: #3B4455;\n",
              "      --fill-color: #D2E3FC;\n",
              "      --hover-bg-color: #434B5C;\n",
              "      --hover-fill-color: #FFFFFF;\n",
              "      --disabled-bg-color: #3B4455;\n",
              "      --disabled-fill-color: #666;\n",
              "  }\n",
              "\n",
              "  .colab-df-quickchart {\n",
              "    background-color: var(--bg-color);\n",
              "    border: none;\n",
              "    border-radius: 50%;\n",
              "    cursor: pointer;\n",
              "    display: none;\n",
              "    fill: var(--fill-color);\n",
              "    height: 32px;\n",
              "    padding: 0;\n",
              "    width: 32px;\n",
              "  }\n",
              "\n",
              "  .colab-df-quickchart:hover {\n",
              "    background-color: var(--hover-bg-color);\n",
              "    box-shadow: 0 1px 2px rgba(60, 64, 67, 0.3), 0 1px 3px 1px rgba(60, 64, 67, 0.15);\n",
              "    fill: var(--button-hover-fill-color);\n",
              "  }\n",
              "\n",
              "  .colab-df-quickchart-complete:disabled,\n",
              "  .colab-df-quickchart-complete:disabled:hover {\n",
              "    background-color: var(--disabled-bg-color);\n",
              "    fill: var(--disabled-fill-color);\n",
              "    box-shadow: none;\n",
              "  }\n",
              "\n",
              "  .colab-df-spinner {\n",
              "    border: 2px solid var(--fill-color);\n",
              "    border-color: transparent;\n",
              "    border-bottom-color: var(--fill-color);\n",
              "    animation:\n",
              "      spin 1s steps(1) infinite;\n",
              "  }\n",
              "\n",
              "  @keyframes spin {\n",
              "    0% {\n",
              "      border-color: transparent;\n",
              "      border-bottom-color: var(--fill-color);\n",
              "      border-left-color: var(--fill-color);\n",
              "    }\n",
              "    20% {\n",
              "      border-color: transparent;\n",
              "      border-left-color: var(--fill-color);\n",
              "      border-top-color: var(--fill-color);\n",
              "    }\n",
              "    30% {\n",
              "      border-color: transparent;\n",
              "      border-left-color: var(--fill-color);\n",
              "      border-top-color: var(--fill-color);\n",
              "      border-right-color: var(--fill-color);\n",
              "    }\n",
              "    40% {\n",
              "      border-color: transparent;\n",
              "      border-right-color: var(--fill-color);\n",
              "      border-top-color: var(--fill-color);\n",
              "    }\n",
              "    60% {\n",
              "      border-color: transparent;\n",
              "      border-right-color: var(--fill-color);\n",
              "    }\n",
              "    80% {\n",
              "      border-color: transparent;\n",
              "      border-right-color: var(--fill-color);\n",
              "      border-bottom-color: var(--fill-color);\n",
              "    }\n",
              "    90% {\n",
              "      border-color: transparent;\n",
              "      border-bottom-color: var(--fill-color);\n",
              "    }\n",
              "  }\n",
              "</style>\n",
              "\n",
              "      <script>\n",
              "        async function quickchart(key) {\n",
              "          const quickchartButtonEl =\n",
              "            document.querySelector('#' + key + ' button');\n",
              "          quickchartButtonEl.disabled = true;  // To prevent multiple clicks.\n",
              "          quickchartButtonEl.classList.add('colab-df-spinner');\n",
              "          try {\n",
              "            const charts = await google.colab.kernel.invokeFunction(\n",
              "                'suggestCharts', [key], {});\n",
              "          } catch (error) {\n",
              "            console.error('Error during call to suggestCharts:', error);\n",
              "          }\n",
              "          quickchartButtonEl.classList.remove('colab-df-spinner');\n",
              "          quickchartButtonEl.classList.add('colab-df-quickchart-complete');\n",
              "        }\n",
              "        (() => {\n",
              "          let quickchartButtonEl =\n",
              "            document.querySelector('#df-ceda9094-7acc-4cdf-bfee-e4d36549ea7f button');\n",
              "          quickchartButtonEl.style.display =\n",
              "            google.colab.kernel.accessAllowed ? 'block' : 'none';\n",
              "        })();\n",
              "      </script>\n",
              "    </div>\n",
              "\n",
              "    </div>\n",
              "  </div>\n"
            ],
            "application/vnd.google.colaboratory.intrinsic+json": {
              "type": "dataframe",
              "summary": "{\n  \"name\": \"display(daily_return_factor\",\n  \"rows\": 5,\n  \"fields\": [\n    {\n      \"column\": \"$close/Ref($close, 1) - 1\",\n      \"properties\": {\n        \"dtype\": \"float32\",\n        \"num_unique_values\": 5,\n        \"samples\": [\n          0.017481207847595215,\n          0.006438732147216797,\n          -0.014712929725646973\n        ],\n        \"semantic_type\": \"\",\n        \"description\": \"\"\n      }\n    }\n  ]\n}"
            }
          },
          "metadata": {}
        }
      ]
    },
    {
      "cell_type": "markdown",
      "metadata": {
        "id": "b3597fa9"
      },
      "source": [
        "Qlib 的 Expression2 支持丰富的运算符和函数，可以用来构建各种复杂的因子。例如，我们可以计算一个简单的移动平均因子："
      ]
    },
    {
      "cell_type": "code",
      "metadata": {
        "colab": {
          "base_uri": "https://localhost:8080/",
          "height": 327
        },
        "id": "ab030692",
        "outputId": "9b0762e7-df71-4c1d-fed0-8ec14b8c410d"
      },
      "source": [
        "# 计算5日指数移动平均因子：EMA($close, 5)\n",
        "# EMA 是 Qlib 中计算指数移动平均的函数\n",
        "ma5_factor = D.features([market], ['EMA($close, 5)'])\n",
        "\n",
        "# ma5_factor = D.features([market], ['Mean($close, 5)'])\n",
        "\n",
        "print(\"\\n近五天的5日指数移动平均数据：\")\n",
        "display(ma5_factor.tail())"
      ],
      "execution_count": 20,
      "outputs": [
        {
          "output_type": "stream",
          "name": "stdout",
          "text": [
            "\n",
            "近五天的5日指数移动平均数据：\n"
          ]
        },
        {
          "output_type": "stream",
          "name": "stderr",
          "text": [
            "/usr/local/lib/python3.12/dist-packages/jupyter_client/session.py:151: DeprecationWarning: datetime.datetime.utcnow() is deprecated and scheduled for removal in a future version. Use timezone-aware objects to represent datetimes in UTC: datetime.datetime.now(datetime.UTC).\n",
            "  Avoids problematic runtime import in stdlib uuid on Python 2.\n"
          ]
        },
        {
          "output_type": "display_data",
          "data": {
            "text/plain": [
              "                       EMA($close, 5)\n",
              "instrument datetime                  \n",
              "sh600048   2025-08-14       10.254260\n",
              "           2025-08-15       10.311351\n",
              "           2025-08-18       10.298282\n",
              "           2025-08-19       10.272415\n",
              "           2025-08-20       10.277107"
            ],
            "text/html": [
              "\n",
              "  <div id=\"df-3edace99-b112-47ab-b2bc-7f61c3affec7\" class=\"colab-df-container\">\n",
              "    <div>\n",
              "<style scoped>\n",
              "    .dataframe tbody tr th:only-of-type {\n",
              "        vertical-align: middle;\n",
              "    }\n",
              "\n",
              "    .dataframe tbody tr th {\n",
              "        vertical-align: top;\n",
              "    }\n",
              "\n",
              "    .dataframe thead th {\n",
              "        text-align: right;\n",
              "    }\n",
              "</style>\n",
              "<table border=\"1\" class=\"dataframe\">\n",
              "  <thead>\n",
              "    <tr style=\"text-align: right;\">\n",
              "      <th></th>\n",
              "      <th></th>\n",
              "      <th>EMA($close, 5)</th>\n",
              "    </tr>\n",
              "    <tr>\n",
              "      <th>instrument</th>\n",
              "      <th>datetime</th>\n",
              "      <th></th>\n",
              "    </tr>\n",
              "  </thead>\n",
              "  <tbody>\n",
              "    <tr>\n",
              "      <th rowspan=\"5\" valign=\"top\">sh600048</th>\n",
              "      <th>2025-08-14</th>\n",
              "      <td>10.254260</td>\n",
              "    </tr>\n",
              "    <tr>\n",
              "      <th>2025-08-15</th>\n",
              "      <td>10.311351</td>\n",
              "    </tr>\n",
              "    <tr>\n",
              "      <th>2025-08-18</th>\n",
              "      <td>10.298282</td>\n",
              "    </tr>\n",
              "    <tr>\n",
              "      <th>2025-08-19</th>\n",
              "      <td>10.272415</td>\n",
              "    </tr>\n",
              "    <tr>\n",
              "      <th>2025-08-20</th>\n",
              "      <td>10.277107</td>\n",
              "    </tr>\n",
              "  </tbody>\n",
              "</table>\n",
              "</div>\n",
              "    <div class=\"colab-df-buttons\">\n",
              "\n",
              "  <div class=\"colab-df-container\">\n",
              "    <button class=\"colab-df-convert\" onclick=\"convertToInteractive('df-3edace99-b112-47ab-b2bc-7f61c3affec7')\"\n",
              "            title=\"Convert this dataframe to an interactive table.\"\n",
              "            style=\"display:none;\">\n",
              "\n",
              "  <svg xmlns=\"http://www.w3.org/2000/svg\" height=\"24px\" viewBox=\"0 -960 960 960\">\n",
              "    <path d=\"M120-120v-720h720v720H120Zm60-500h600v-160H180v160Zm220 220h160v-160H400v160Zm0 220h160v-160H400v160ZM180-400h160v-160H180v160Zm440 0h160v-160H620v160ZM180-180h160v-160H180v160Zm440 0h160v-160H620v160Z\"/>\n",
              "  </svg>\n",
              "    </button>\n",
              "\n",
              "  <style>\n",
              "    .colab-df-container {\n",
              "      display:flex;\n",
              "      gap: 12px;\n",
              "    }\n",
              "\n",
              "    .colab-df-convert {\n",
              "      background-color: #E8F0FE;\n",
              "      border: none;\n",
              "      border-radius: 50%;\n",
              "      cursor: pointer;\n",
              "      display: none;\n",
              "      fill: #1967D2;\n",
              "      height: 32px;\n",
              "      padding: 0 0 0 0;\n",
              "      width: 32px;\n",
              "    }\n",
              "\n",
              "    .colab-df-convert:hover {\n",
              "      background-color: #E2EBFA;\n",
              "      box-shadow: 0px 1px 2px rgba(60, 64, 67, 0.3), 0px 1px 3px 1px rgba(60, 64, 67, 0.15);\n",
              "      fill: #174EA6;\n",
              "    }\n",
              "\n",
              "    .colab-df-buttons div {\n",
              "      margin-bottom: 4px;\n",
              "    }\n",
              "\n",
              "    [theme=dark] .colab-df-convert {\n",
              "      background-color: #3B4455;\n",
              "      fill: #D2E3FC;\n",
              "    }\n",
              "\n",
              "    [theme=dark] .colab-df-convert:hover {\n",
              "      background-color: #434B5C;\n",
              "      box-shadow: 0px 1px 3px 1px rgba(0, 0, 0, 0.15);\n",
              "      filter: drop-shadow(0px 1px 2px rgba(0, 0, 0, 0.3));\n",
              "      fill: #FFFFFF;\n",
              "    }\n",
              "  </style>\n",
              "\n",
              "    <script>\n",
              "      const buttonEl =\n",
              "        document.querySelector('#df-3edace99-b112-47ab-b2bc-7f61c3affec7 button.colab-df-convert');\n",
              "      buttonEl.style.display =\n",
              "        google.colab.kernel.accessAllowed ? 'block' : 'none';\n",
              "\n",
              "      async function convertToInteractive(key) {\n",
              "        const element = document.querySelector('#df-3edace99-b112-47ab-b2bc-7f61c3affec7');\n",
              "        const dataTable =\n",
              "          await google.colab.kernel.invokeFunction('convertToInteractive',\n",
              "                                                    [key], {});\n",
              "        if (!dataTable) return;\n",
              "\n",
              "        const docLinkHtml = 'Like what you see? Visit the ' +\n",
              "          '<a target=\"_blank\" href=https://colab.research.google.com/notebooks/data_table.ipynb>data table notebook</a>'\n",
              "          + ' to learn more about interactive tables.';\n",
              "        element.innerHTML = '';\n",
              "        dataTable['output_type'] = 'display_data';\n",
              "        await google.colab.output.renderOutput(dataTable, element);\n",
              "        const docLink = document.createElement('div');\n",
              "        docLink.innerHTML = docLinkHtml;\n",
              "        element.appendChild(docLink);\n",
              "      }\n",
              "    </script>\n",
              "  </div>\n",
              "\n",
              "\n",
              "    <div id=\"df-852bc1a2-8cda-45a3-8483-b564daf61f60\">\n",
              "      <button class=\"colab-df-quickchart\" onclick=\"quickchart('df-852bc1a2-8cda-45a3-8483-b564daf61f60')\"\n",
              "                title=\"Suggest charts\"\n",
              "                style=\"display:none;\">\n",
              "\n",
              "<svg xmlns=\"http://www.w3.org/2000/svg\" height=\"24px\"viewBox=\"0 0 24 24\"\n",
              "     width=\"24px\">\n",
              "    <g>\n",
              "        <path d=\"M19 3H5c-1.1 0-2 .9-2 2v14c0 1.1.9 2 2 2h14c1.1 0 2-.9 2-2V5c0-1.1-.9-2-2-2zM9 17H7v-7h2v7zm4 0h-2V7h2v10zm4 0h-2v-4h2v4z\"/>\n",
              "    </g>\n",
              "</svg>\n",
              "      </button>\n",
              "\n",
              "<style>\n",
              "  .colab-df-quickchart {\n",
              "      --bg-color: #E8F0FE;\n",
              "      --fill-color: #1967D2;\n",
              "      --hover-bg-color: #E2EBFA;\n",
              "      --hover-fill-color: #174EA6;\n",
              "      --disabled-fill-color: #AAA;\n",
              "      --disabled-bg-color: #DDD;\n",
              "  }\n",
              "\n",
              "  [theme=dark] .colab-df-quickchart {\n",
              "      --bg-color: #3B4455;\n",
              "      --fill-color: #D2E3FC;\n",
              "      --hover-bg-color: #434B5C;\n",
              "      --hover-fill-color: #FFFFFF;\n",
              "      --disabled-bg-color: #3B4455;\n",
              "      --disabled-fill-color: #666;\n",
              "  }\n",
              "\n",
              "  .colab-df-quickchart {\n",
              "    background-color: var(--bg-color);\n",
              "    border: none;\n",
              "    border-radius: 50%;\n",
              "    cursor: pointer;\n",
              "    display: none;\n",
              "    fill: var(--fill-color);\n",
              "    height: 32px;\n",
              "    padding: 0;\n",
              "    width: 32px;\n",
              "  }\n",
              "\n",
              "  .colab-df-quickchart:hover {\n",
              "    background-color: var(--hover-bg-color);\n",
              "    box-shadow: 0 1px 2px rgba(60, 64, 67, 0.3), 0 1px 3px 1px rgba(60, 64, 67, 0.15);\n",
              "    fill: var(--button-hover-fill-color);\n",
              "  }\n",
              "\n",
              "  .colab-df-quickchart-complete:disabled,\n",
              "  .colab-df-quickchart-complete:disabled:hover {\n",
              "    background-color: var(--disabled-bg-color);\n",
              "    fill: var(--disabled-fill-color);\n",
              "    box-shadow: none;\n",
              "  }\n",
              "\n",
              "  .colab-df-spinner {\n",
              "    border: 2px solid var(--fill-color);\n",
              "    border-color: transparent;\n",
              "    border-bottom-color: var(--fill-color);\n",
              "    animation:\n",
              "      spin 1s steps(1) infinite;\n",
              "  }\n",
              "\n",
              "  @keyframes spin {\n",
              "    0% {\n",
              "      border-color: transparent;\n",
              "      border-bottom-color: var(--fill-color);\n",
              "      border-left-color: var(--fill-color);\n",
              "    }\n",
              "    20% {\n",
              "      border-color: transparent;\n",
              "      border-left-color: var(--fill-color);\n",
              "      border-top-color: var(--fill-color);\n",
              "    }\n",
              "    30% {\n",
              "      border-color: transparent;\n",
              "      border-left-color: var(--fill-color);\n",
              "      border-top-color: var(--fill-color);\n",
              "      border-right-color: var(--fill-color);\n",
              "    }\n",
              "    40% {\n",
              "      border-color: transparent;\n",
              "      border-right-color: var(--fill-color);\n",
              "      border-top-color: var(--fill-color);\n",
              "    }\n",
              "    60% {\n",
              "      border-color: transparent;\n",
              "      border-right-color: var(--fill-color);\n",
              "    }\n",
              "    80% {\n",
              "      border-color: transparent;\n",
              "      border-right-color: var(--fill-color);\n",
              "      border-bottom-color: var(--fill-color);\n",
              "    }\n",
              "    90% {\n",
              "      border-color: transparent;\n",
              "      border-bottom-color: var(--fill-color);\n",
              "    }\n",
              "  }\n",
              "</style>\n",
              "\n",
              "      <script>\n",
              "        async function quickchart(key) {\n",
              "          const quickchartButtonEl =\n",
              "            document.querySelector('#' + key + ' button');\n",
              "          quickchartButtonEl.disabled = true;  // To prevent multiple clicks.\n",
              "          quickchartButtonEl.classList.add('colab-df-spinner');\n",
              "          try {\n",
              "            const charts = await google.colab.kernel.invokeFunction(\n",
              "                'suggestCharts', [key], {});\n",
              "          } catch (error) {\n",
              "            console.error('Error during call to suggestCharts:', error);\n",
              "          }\n",
              "          quickchartButtonEl.classList.remove('colab-df-spinner');\n",
              "          quickchartButtonEl.classList.add('colab-df-quickchart-complete');\n",
              "        }\n",
              "        (() => {\n",
              "          let quickchartButtonEl =\n",
              "            document.querySelector('#df-852bc1a2-8cda-45a3-8483-b564daf61f60 button');\n",
              "          quickchartButtonEl.style.display =\n",
              "            google.colab.kernel.accessAllowed ? 'block' : 'none';\n",
              "        })();\n",
              "      </script>\n",
              "    </div>\n",
              "\n",
              "    </div>\n",
              "  </div>\n"
            ],
            "application/vnd.google.colaboratory.intrinsic+json": {
              "type": "dataframe",
              "summary": "{\n  \"name\": \"display(ma5_factor\",\n  \"rows\": 5,\n  \"fields\": [\n    {\n      \"column\": \"EMA($close, 5)\",\n      \"properties\": {\n        \"dtype\": \"float32\",\n        \"num_unique_values\": 5,\n        \"samples\": [\n          10.31135082244873,\n          10.277107238769531,\n          10.2982816696167\n        ],\n        \"semantic_type\": \"\",\n        \"description\": \"\"\n      }\n    }\n  ]\n}"
            }
          },
          "metadata": {}
        }
      ]
    },
    {
      "cell_type": "markdown",
      "metadata": {
        "id": "45ebee06"
      },
      "source": [
        "计算出因子后，我们需要评估这些因子的有效性。一个常用的方法是计算因子的 IC (Information Coefficient) 值。IC 值衡量了因子值与未来收益率的相关性。Qlib 提供了一些工具来帮助我们进行因子分析。"
      ]
    },
    {
      "cell_type": "markdown",
      "metadata": {
        "id": "36560430"
      },
      "source": [
        "## 量化模型构建\n",
        "\n",
        "**里程碑:** 了解量化模型的构建流程，学习使用 Qlib 定义和训练模型。"
      ]
    },
    {
      "cell_type": "markdown",
      "metadata": {
        "id": "40e3f842"
      },
      "source": [
        "#### 1. 定义模型配置 LGB\n",
        "\n",
        "Qlib 使用 YAML 格式的配置文件来定义模型和其他工作流组件。我们将定义一个使用 `LGB` 的配置。"
      ]
    },
    {
      "cell_type": "code",
      "source": [
        "!pip install catboost xgboost lightgbm"
      ],
      "metadata": {
        "id": "lSymDTJtOREu",
        "colab": {
          "base_uri": "https://localhost:8080/"
        },
        "outputId": "dcb9435a-442a-49c1-8ad6-8bd658cc2961"
      },
      "execution_count": 22,
      "outputs": [
        {
          "output_type": "stream",
          "name": "stdout",
          "text": [
            "Requirement already satisfied: catboost in /usr/local/lib/python3.12/dist-packages (1.2.8)\n",
            "Requirement already satisfied: xgboost in /usr/local/lib/python3.12/dist-packages (3.0.4)\n",
            "Requirement already satisfied: lightgbm in /usr/local/lib/python3.12/dist-packages (4.6.0)\n",
            "Requirement already satisfied: graphviz in /usr/local/lib/python3.12/dist-packages (from catboost) (0.21)\n",
            "Requirement already satisfied: matplotlib in /usr/local/lib/python3.12/dist-packages (from catboost) (3.10.0)\n",
            "Requirement already satisfied: numpy<3.0,>=1.16.0 in /usr/local/lib/python3.12/dist-packages (from catboost) (2.3.2)\n",
            "Requirement already satisfied: pandas>=0.24 in /usr/local/lib/python3.12/dist-packages (from catboost) (2.2.2)\n",
            "Requirement already satisfied: scipy in /usr/local/lib/python3.12/dist-packages (from catboost) (1.16.1)\n",
            "Requirement already satisfied: plotly in /usr/local/lib/python3.12/dist-packages (from catboost) (5.24.1)\n",
            "Requirement already satisfied: six in /usr/local/lib/python3.12/dist-packages (from catboost) (1.17.0)\n",
            "Requirement already satisfied: nvidia-nccl-cu12 in /usr/local/lib/python3.12/dist-packages (from xgboost) (2.27.3)\n",
            "Requirement already satisfied: python-dateutil>=2.8.2 in /usr/local/lib/python3.12/dist-packages (from pandas>=0.24->catboost) (2.9.0.post0)\n",
            "Requirement already satisfied: pytz>=2020.1 in /usr/local/lib/python3.12/dist-packages (from pandas>=0.24->catboost) (2025.2)\n",
            "Requirement already satisfied: tzdata>=2022.7 in /usr/local/lib/python3.12/dist-packages (from pandas>=0.24->catboost) (2025.2)\n",
            "Requirement already satisfied: contourpy>=1.0.1 in /usr/local/lib/python3.12/dist-packages (from matplotlib->catboost) (1.3.3)\n",
            "Requirement already satisfied: cycler>=0.10 in /usr/local/lib/python3.12/dist-packages (from matplotlib->catboost) (0.12.1)\n",
            "Requirement already satisfied: fonttools>=4.22.0 in /usr/local/lib/python3.12/dist-packages (from matplotlib->catboost) (4.59.1)\n",
            "Requirement already satisfied: kiwisolver>=1.3.1 in /usr/local/lib/python3.12/dist-packages (from matplotlib->catboost) (1.4.9)\n",
            "Requirement already satisfied: packaging>=20.0 in /usr/local/lib/python3.12/dist-packages (from matplotlib->catboost) (25.0)\n",
            "Requirement already satisfied: pillow>=8 in /usr/local/lib/python3.12/dist-packages (from matplotlib->catboost) (11.3.0)\n",
            "Requirement already satisfied: pyparsing>=2.3.1 in /usr/local/lib/python3.12/dist-packages (from matplotlib->catboost) (3.2.3)\n",
            "Requirement already satisfied: tenacity>=6.2.0 in /usr/local/lib/python3.12/dist-packages (from plotly->catboost) (8.5.0)\n"
          ]
        }
      ]
    },
    {
      "cell_type": "code",
      "metadata": {
        "colab": {
          "base_uri": "https://localhost:8080/"
        },
        "id": "b617f4ff",
        "outputId": "f681eb10-020c-400e-b556-720721cb1798"
      },
      "source": [
        "from qlib.contrib.model.gbdt import LGBModel\n",
        "from qlib.contrib.data.handler import Alpha158\n",
        "from qlib.utils import init_instance_by_config, flatten_dict\n",
        "from qlib.workflow import R\n",
        "from qlib.workflow.record_temp import SignalRecord, PortAnaRecord\n",
        "import yaml\n",
        "\n",
        "market = \"csi300\"; #沪深300成分股(即游学300指数)\n",
        "benchmark = \"SH000300\"\n",
        "\n",
        "data_handler_config = {\n",
        "    \"start_time\": \"2008-01-01\",\n",
        "    \"end_time\": \"2020-08-01\",\n",
        "    \"fit_start_time\": \"2008-01-01\",\n",
        "    \"fit_end_time\": \"2014-12-31\",\n",
        "    \"instruments\": market,\n",
        "}\n",
        "\n",
        "task = {\n",
        "    \"model\": {\n",
        "        \"class\": \"LGBModel\",\n",
        "        \"module_path\": \"qlib.contrib.model.gbdt\",\n",
        "        \"kwargs\": {\n",
        "            \"loss\": \"mse\",\n",
        "            \"colsample_bytree\": 0.8879,\n",
        "            \"learning_rate\": 0.0421,\n",
        "            \"subsample\": 0.8789,\n",
        "            \"lambda_l1\": 205.6999,\n",
        "            \"lambda_l2\": 580.9768,\n",
        "            \"max_depth\": 8,\n",
        "            \"num_leaves\": 210,\n",
        "            \"num_threads\": 20,\n",
        "        },\n",
        "    },\n",
        "    \"dataset\": {\n",
        "        \"class\": \"DatasetH\",\n",
        "        \"module_path\": \"qlib.data.dataset\",\n",
        "        \"kwargs\": {\n",
        "            \"handler\": {\n",
        "                \"class\": \"Alpha158\",\n",
        "                \"module_path\": \"qlib.contrib.data.handler\",\n",
        "                \"kwargs\": data_handler_config,\n",
        "            },\n",
        "            \"segments\": {\n",
        "                \"train\": (\"2008-01-01\", \"2014-12-31\"),\n",
        "                \"valid\": (\"2015-01-01\", \"2016-12-31\"),\n",
        "                \"test\": (\"2017-01-01\", \"2020-08-01\"),\n",
        "            },\n",
        "        },\n",
        "    },\n",
        "}\n",
        "\n",
        "\n",
        "# # 将配置写入一个临时文件\n",
        "# with open(\"task.yaml\", \"w\") as fs:\n",
        "#   yaml.safe_dump(task, fs)\n",
        "\n",
        "# print(\"模型配置文件已创建：task.yaml\")\n",
        "\n",
        "# with open(\"task.yaml\", \"r\") as fs:\n",
        "#     ts = yaml.safe_load(fs)\n",
        "#     print(\"模型配置文件：\", ts)"
      ],
      "execution_count": 23,
      "outputs": [
        {
          "output_type": "stream",
          "name": "stderr",
          "text": [
            "/usr/local/lib/python3.12/dist-packages/jupyter_client/session.py:151: DeprecationWarning: datetime.datetime.utcnow() is deprecated and scheduled for removal in a future version. Use timezone-aware objects to represent datetimes in UTC: datetime.datetime.now(datetime.UTC).\n",
            "  Avoids problematic runtime import in stdlib uuid on Python 2.\n"
          ]
        }
      ]
    },
    {
      "cell_type": "markdown",
      "source": [
        " * data_handler_config\n",
        "  * 这个字典定义了用于处理原始数据的数据处理器 (Data Handler) 的配置。数据处理器负责从 Qlib 的数据源加载原始数据，进行清洗、特征计算、标签生成等预处理操作，以生成适合模型训练的数据集。\n",
        "\n",
        "    - `start_time` 和 `end_time`: 定义了数据处理器将加载的整体数据的时间范围。\n",
        "\n",
        "    - `fit_start_time` 和 `fit_end_time`: 定义了数据处理器在进行一些需要拟合的操作（例如标准化）时使用的数据时间范围。\n",
        "\n",
        "    - `instruments`: 指定了数据处理器将加载哪些股票的数据，这里使用了上面定义的 market 变量，即沪深 300 成分股。"
      ],
      "metadata": {
        "id": "DEVkZXjDLIJz"
      }
    },
    {
      "cell_type": "markdown",
      "source": [
        "* model\n",
        " * 这部分定义了将用于训练的量化模型。\n",
        "  - `class`: 指定了模型的类名，这里是 `LGBModel`，代表 LightGBM 模型，这是一种常用的梯度提升树模型。\n",
        "  - `module_path`: 指定了模型类所在的 Python 模块路径。即源代码所在的目录路径\n",
        "  - `kwargs`: 是一个字典，包含了初始化 `LGBModel` 类所需的各种参数（超参数）。这些参数会影响模型的性能和训练过程。例如：\n",
        "   * `loss`: 损失函数，`mse` 代表均方误差，常用于回归任务（预测收益率）。\n",
        "   * `learning_rate`: 学习率，控制模型在训练过程中每次迭代的步长。\n",
        "   * `max_depth` 和 `num_leaves`: 控制决策树的结构复杂性。\n",
        "   * `colsample_bytree` 和 `subsample`: 控制训练过程中使用的特征和样本比例，用于防止过拟合。\n",
        "   * `lambda_l1` 和 `lambda_l2`: L1 和 L2 正则化参数，用于惩罚模型复杂度，防止过拟合。\n",
        "   * `num_threads`: 用于指定训练时使用的线程数。"
      ],
      "metadata": {
        "id": "kg-ZbvEDLqdh"
      }
    },
    {
      "cell_type": "markdown",
      "source": [
        "* dataset\n",
        " * 这部分定义了用于模型训练和评估的**数据集 (Dataset)**。\n",
        "  * `class`: 指定了数据集的类名，这里是 `DatasetH`，是 Qlib 中常用的数据集类。\n",
        "  * `module_path`: 指定了数据集类所在的 Python 模块路径。\n",
        "  * `kwargs`: 包含了初始化 `DatasetH` 所需的参数：\n",
        "   * `handler`: 这是一个嵌套的配置，定义了用于生成数据集的**数据处理器**。\n",
        "     * `class`: 指定了数据处理器的类名，这里是 `Alpha158`，这是一个 Qlib 内置的数据处理器，它会生成 158 个预定义的因子作为特征。\n",
        "     * `module_path`: 指定了 `Alpha158` 类所在的模块路径。\n",
        "     * `kwargs`: 这里引用了上面定义的 `data_handler_config` 字典，将数据处理器的配置传递进去。\n",
        "   * `segments`: 定义了数据集的**时间划分**，用于区分训练集、验证集和测试集。这是一个非常重要的步骤，用于模拟真实交易场景，避免未来数据泄露。\n",
        "     * `train`: 训练集的时间范围，用于模型学习参数。\n",
        "     * `valid`: 验证集的时间范围，用于在训练过程中评估模型性能和进行超参数调优。\n",
        "     * `test`: 测试集的时间范围，用于在模型训练完成后，独立地评估模型的最终性能"
      ],
      "metadata": {
        "id": "2O0HHEEsM80J"
      }
    },
    {
      "cell_type": "markdown",
      "metadata": {
        "id": "aab4f0a0"
      },
      "source": [
        "#### 2. Linear模型"
      ]
    },
    {
      "cell_type": "code",
      "metadata": {
        "colab": {
          "base_uri": "https://localhost:8080/"
        },
        "id": "116571c4",
        "outputId": "3fd06cb9-a301-45a0-afd6-bc1bf326a870"
      },
      "source": [
        "# 创建一个简单的数据集配置文件 (YAML 格式)\n",
        "# 这个配置指定了数据的提供者、日期范围、市场以及使用的特征和标签\n",
        "# qlib.data.dataset.handler DataHandlerLP\n",
        "task_str = \"\"\"\n",
        "dataset:\n",
        "    class: DatasetH\n",
        "    module_path: qlib.data.dataset\n",
        "    # 数据集划分配置：定义训练集、验证集和测试集的时间范围 (移至顶层)\n",
        "    kwargs:\n",
        "      segments:\n",
        "          train: [2008-01-01, 2014-12-31] # 训练集时间范围\n",
        "          valid: [2015-01-01, 2016-12-31] # 验证集时间范围\n",
        "          test: [2017-01-01, 2020-09-30] # 测试集时间范围\n",
        "      handler:\n",
        "        class: DataHandlerLP\n",
        "        module_path: qlib.data.dataset.handler\n",
        "        kwargs:\n",
        "          start_time: 2008-01-01\n",
        "          end_time: 2020-09-30\n",
        "          instruments: csi300 #使用的股票\n",
        "          # 特征定义：这里我们使用一些 Qlib 内置的基本特征作为示例\n",
        "          # 在实际中，您会在这里定义您在第三天计算的各种因子\n",
        "          features:\n",
        "              - name: $close/Ref($close, 1) - 1 # 日收益率\n",
        "                resample_method: H\n",
        "              - name: EMA($close, 5) # 5日指数移动平均 (这里沿用第三天的 EMA 示例)\n",
        "                resample_method: H\n",
        "              - name: Std($close, 5) # 5日收盘价标准差\n",
        "                resample_method: H\n",
        "              - name: Ranks(Corr($close, $volume, 5)) # 5日收盘价和成交量的相关系数的横截面排序\n",
        "                resample_method: H\n",
        "          # 标签定义：例如，预测未来一天的日收益率\n",
        "          label:\n",
        "              - name: Ref($close, -1)/$close - 1 # 明天的日收益率 (这里使用了未来数据，仅为示例，实际中需要谨慎处理未来函数)\n",
        "                resample_method: H\n",
        "\n",
        "model:\n",
        "  class: LinearModel\n",
        "  module_path: qlib.contrib.model.linear\n",
        "\n",
        "\"\"\"\n",
        "\n",
        "task1 = yaml.safe_load(task_str)\n",
        "\n",
        "# 将配置写入一个临时文件\n",
        "with open(\"task_str.yaml\", \"w\") as fs:\n",
        "  yaml.safe_dump(task1, fs)\n",
        "  print(\"模型配置文件已创建：task_str.yaml\")\n",
        "\n",
        "with open(\"task_str.yaml\", \"r\") as fs:\n",
        "  ts = yaml.safe_load(fs)\n",
        "  print(\"模型配置文件：\", ts)"
      ],
      "execution_count": null,
      "outputs": [
        {
          "output_type": "stream",
          "name": "stdout",
          "text": [
            "模型配置文件已创建：task_str.yaml\n",
            "模型配置文件： {'dataset': {'class': 'DatasetH', 'kwargs': {'handler': {'class': 'DataHandlerLP', 'kwargs': {'end_time': datetime.date(2020, 9, 30), 'features': [{'name': '$close/Ref($close, 1) - 1', 'resample_method': 'H'}, {'name': 'EMA($close, 5)', 'resample_method': 'H'}, {'name': 'Std($close, 5)', 'resample_method': 'H'}, {'name': 'Ranks(Corr($close, $volume, 5))', 'resample_method': 'H'}], 'instruments': 'csi300', 'label': [{'name': 'Ref($close, -1)/$close - 1', 'resample_method': 'H'}], 'start_time': datetime.date(2008, 1, 1)}, 'module_path': 'qlib.data.dataset.handler'}, 'segments': {'test': [datetime.date(2017, 1, 1), datetime.date(2020, 9, 30)], 'train': [datetime.date(2008, 1, 1), datetime.date(2014, 12, 31)], 'valid': [datetime.date(2015, 1, 1), datetime.date(2016, 12, 31)]}}, 'module_path': 'qlib.data.dataset'}, 'model': {'class': 'LinearModel', 'module_path': 'qlib.contrib.model.linear'}}\n"
          ]
        }
      ]
    },
    {
      "cell_type": "markdown",
      "metadata": {
        "id": "1d1332b8"
      },
      "source": [
        "**注意:** 上述数据集配置中的特征和标签仅为示例。在实际的量化策略开发中，您需要根据您的研究目标和对市场的理解来定义更丰富和有效的因子，并合理设置标签，避免使用未来函数（即在计算因子或标签时使用了未来的数据）。示例中的标签 `Ref($close, -1)/$close - 1` 预测的是明天的收益率，这在回测中是允许的（因为回测模拟的是历史情况），但在实际交易中则需要确保标签的计算只依赖于当前或之前的数据。\n",
        "\n"
      ]
    },
    {
      "cell_type": "markdown",
      "source": [
        "#### 3. 训练模型\n",
        "\n",
        "有了模型配置和数据集配置，我们就可以使用 Qlib 的工作流来训练模型了。"
      ],
      "metadata": {
        "id": "0aSI0ltA6Ar0"
      }
    },
    {
      "cell_type": "code",
      "source": [
        "from qlib.contrib.model.gbdt import LGBModel;\n",
        "import qlib as ql;\n",
        "from qlib.utils import init_instance_by_config\n",
        "\n",
        "#定义模型配置\n",
        "model_config = {\n",
        "    \"class\": \"LGBModel\",\n",
        "    \"kwargs\": {\"loss\": \"mse\", \"n_estimators\":500},\n",
        "    \"module_path\": \"qlib.contrib.model.gbdt\"\n",
        "}\n",
        "\n",
        "# 初始化模型和数据集\n",
        "model = init_instance_by_config(model_config);\n",
        "data_df = init_instance_by_config(task[\"dataset\"]);\n",
        "\n",
        "#训练\n",
        "model.fit(data_df);\n",
        "\n",
        "#预测\n",
        "prediction = model.predict(data_df)\n",
        "\n",
        "# 显示预测结果的头部\n",
        "print(\"\\n预测结果示例：\")\n",
        "print(prediction.head())"
      ],
      "metadata": {
        "id": "Wng76pTk5oFj"
      },
      "execution_count": null,
      "outputs": []
    },
    {
      "cell_type": "markdown",
      "source": [
        "[20]\ttrain's l2: 0.984113\tvalid's l2: 0.992696\n",
        "\n",
        "值越小就是准确率越高，越接近1就是偏差值大"
      ],
      "metadata": {
        "id": "OCcG6GvKIeGX"
      }
    },
    {
      "cell_type": "markdown",
      "source": [
        "Qlib 的 R 对象用于管理实验记录和运行工作流。"
      ],
      "metadata": {
        "id": "kXOpT0lK5pje"
      }
    },
    {
      "cell_type": "code",
      "metadata": {
        "colab": {
          "base_uri": "https://localhost:8080/"
        },
        "id": "6c21503c",
        "outputId": "aa59eb18-0383-4cab-8573-298e5ed54301"
      },
      "source": [
        "# model initialization\n",
        "model = init_instance_by_config(task[\"model\"])\n",
        "dataset = init_instance_by_config(task[\"dataset\"])\n",
        "\n",
        "# start exp\n",
        "with R.start(experiment_name=\"workflow\"):\n",
        "    # 日志\n",
        "    R.log_params(**flatten_dict(task))\n",
        "    # 训练\n",
        "    model.fit(dataset)\n",
        "    # 保存\n",
        "    R.save_objects(trained_model=model)\n",
        "\n",
        "    # recorder只表示记录仪，并不是一条记录\n",
        "    rid = R.get_recorder().id;  #pickle\n",
        "    print(\"recorder id: \", rid)\n",
        "    os.environ['RECORDER_ID'] = rid;\n",
        "\n",
        "\n",
        "    # prediction 预测\n",
        "    recorder = R.get_recorder()\n",
        "    sr = SignalRecord(model, dataset, recorder) #创建信号预测实例（原模型设置，原数据集设置，记录仪）\n",
        "    sr.generate() #生成并保存预测信号"
      ],
      "execution_count": 24,
      "outputs": [
        {
          "output_type": "stream",
          "name": "stderr",
          "text": [
            "[367:MainThread](2025-08-22 05:42:56,027) INFO - qlib.timer - [log.py:127] - Time cost: 293.328s | Loading data Done\n",
            "/usr/local/lib/python3.12/dist-packages/jupyter_client/session.py:151: DeprecationWarning: datetime.datetime.utcnow() is deprecated and scheduled for removal in a future version. Use timezone-aware objects to represent datetimes in UTC: datetime.datetime.now(datetime.UTC).\n",
            "  Avoids problematic runtime import in stdlib uuid on Python 2.\n",
            "[367:MainThread](2025-08-22 05:42:57,341) INFO - qlib.timer - [log.py:127] - Time cost: 0.341s | DropnaLabel Done\n",
            "/usr/local/lib/python3.12/dist-packages/jupyter_client/session.py:151: DeprecationWarning: datetime.datetime.utcnow() is deprecated and scheduled for removal in a future version. Use timezone-aware objects to represent datetimes in UTC: datetime.datetime.now(datetime.UTC).\n",
            "  Avoids problematic runtime import in stdlib uuid on Python 2.\n",
            "[367:MainThread](2025-08-22 05:43:01,169) INFO - qlib.timer - [log.py:127] - Time cost: 3.826s | CSZScoreNorm Done\n",
            "[367:MainThread](2025-08-22 05:43:01,177) INFO - qlib.timer - [log.py:127] - Time cost: 5.147s | fit & process data Done\n",
            "[367:MainThread](2025-08-22 05:43:01,182) INFO - qlib.timer - [log.py:127] - Time cost: 298.483s | Init data Done\n",
            "[367:MainThread](2025-08-22 05:43:01,222) WARNING - qlib.workflow - [expm.py:231] - No valid experiment found. Create a new experiment with name workflow.\n",
            "[367:MainThread](2025-08-22 05:43:01,235) INFO - qlib.workflow - [exp.py:258] - Experiment 224120206984138468 starts running ...\n",
            "[367:MainThread](2025-08-22 05:43:01,759) INFO - qlib.workflow - [recorder.py:345] - Recorder 81747861084642ab838432c86f3b2022 starts running under Experiment 224120206984138468 ...\n",
            "/usr/local/lib/python3.12/dist-packages/jupyter_client/session.py:151: DeprecationWarning: datetime.datetime.utcnow() is deprecated and scheduled for removal in a future version. Use timezone-aware objects to represent datetimes in UTC: datetime.datetime.now(datetime.UTC).\n",
            "  Avoids problematic runtime import in stdlib uuid on Python 2.\n",
            "[367:MainThread](2025-08-22 05:43:01,774) INFO - qlib.workflow - [recorder.py:378] - Fail to log the uncommitted code of $CWD(/content) when run git diff.\n",
            "[367:MainThread](2025-08-22 05:43:01,782) INFO - qlib.workflow - [recorder.py:378] - Fail to log the uncommitted code of $CWD(/content) when run git status.\n",
            "[367:MainThread](2025-08-22 05:43:01,820) INFO - qlib.workflow - [recorder.py:378] - Fail to log the uncommitted code of $CWD(/content) when run git diff --cached.\n"
          ]
        },
        {
          "output_type": "stream",
          "name": "stdout",
          "text": [
            "Training until validation scores don't improve for 50 rounds\n"
          ]
        },
        {
          "output_type": "stream",
          "name": "stderr",
          "text": [
            "/usr/local/lib/python3.12/dist-packages/jupyter_client/session.py:151: DeprecationWarning: datetime.datetime.utcnow() is deprecated and scheduled for removal in a future version. Use timezone-aware objects to represent datetimes in UTC: datetime.datetime.now(datetime.UTC).\n",
            "  Avoids problematic runtime import in stdlib uuid on Python 2.\n"
          ]
        },
        {
          "output_type": "stream",
          "name": "stdout",
          "text": [
            "[20]\ttrain's l2: 0.990381\tvalid's l2: 0.994272\n",
            "[40]\ttrain's l2: 0.986526\tvalid's l2: 0.993659\n",
            "[60]\ttrain's l2: 0.983906\tvalid's l2: 0.993279\n",
            "[80]\ttrain's l2: 0.981749\tvalid's l2: 0.993145\n",
            "[100]\ttrain's l2: 0.979705\tvalid's l2: 0.993059\n",
            "[120]\ttrain's l2: 0.977879\tvalid's l2: 0.992961\n",
            "[140]\ttrain's l2: 0.976231\tvalid's l2: 0.992916\n",
            "[160]\ttrain's l2: 0.974658\tvalid's l2: 0.99289\n",
            "[180]\ttrain's l2: 0.973062\tvalid's l2: 0.992851\n",
            "[200]\ttrain's l2: 0.971588\tvalid's l2: 0.992862\n",
            "[220]\ttrain's l2: 0.970134\tvalid's l2: 0.992935\n",
            "Early stopping, best iteration is:\n",
            "[173]\ttrain's l2: 0.973667\tvalid's l2: 0.992834\n",
            "recorder id:  81747861084642ab838432c86f3b2022\n"
          ]
        },
        {
          "output_type": "stream",
          "name": "stderr",
          "text": [
            "[367:MainThread](2025-08-22 05:45:56,625) INFO - qlib.workflow - [record_temp.py:198] - Signal record 'pred.pkl' has been saved as the artifact of the Experiment 224120206984138468\n",
            "[367:MainThread](2025-08-22 05:45:56,656) INFO - qlib.timer - [log.py:127] - Time cost: 0.000s | waiting `async_log` Done\n"
          ]
        },
        {
          "output_type": "stream",
          "name": "stdout",
          "text": [
            "'The following are prediction results of the LGBModel model.'\n",
            "                          score\n",
            "datetime   instrument          \n",
            "2017-01-03 SH600000   -0.046878\n",
            "           SH600005   -0.096360\n",
            "           SH600008    0.000686\n",
            "           SH600009    0.027598\n",
            "           SH600010   -0.023481\n"
          ]
        },
        {
          "output_type": "stream",
          "name": "stderr",
          "text": [
            "/usr/local/lib/python3.12/dist-packages/jupyter_client/session.py:151: DeprecationWarning: datetime.datetime.utcnow() is deprecated and scheduled for removal in a future version. Use timezone-aware objects to represent datetimes in UTC: datetime.datetime.now(datetime.UTC).\n",
            "  Avoids problematic runtime import in stdlib uuid on Python 2.\n"
          ]
        }
      ]
    },
    {
      "cell_type": "markdown",
      "source": [
        "* R.start(experiment_name=\"workflow\"): 语句块用于开启一个新的实验记录。\n",
        "\n",
        "  - 在 with 块内部执行的所有操作（如参数记录、模型训练、结果保存等）都会被记录到这个实验中，方便后续追踪、比较和分析。\n",
        "\n",
        "  - experiment_name 参数指定了实验的名称。"
      ],
      "metadata": {
        "id": "mwKtt7dISk1W"
      }
    },
    {
      "cell_type": "markdown",
      "source": [
        "* R.log_params() 用于记录实验的参数。\n",
        "  - flatten_dict(task) 是一个工具函数，将嵌套的字典结构 task 展平，以便于以键值对的形式记录所有配置参数到实验记录中。\n",
        "  这非常有助于日后回顾实验时了解使用的具体配置。"
      ],
      "metadata": {
        "id": "xUo9IVa9S8xk"
      }
    },
    {
      "cell_type": "markdown",
      "source": [
        "* R.save_objects() 用于将 Python 对象保存到当前的实验记录中。这里我们将训练好的 model 对象保存起来，并给它一个别名 trained_model。保存的模型可以在后续的步骤（如预测、回测）中通过实验记录 ID 进行加载。"
      ],
      "metadata": {
        "id": "Bvvcq7ClTgKJ"
      }
    },
    {
      "cell_type": "markdown",
      "source": [
        "* R.get_recorder() 获取当前实验的记录器对象，.id 属性可以获取这个记录器的唯一标识符 (ID)。这个 ID 非常重要，您可以使用它来在后续的步骤中找到本次实验记录，并加载其中保存的模型、参数或结果。"
      ],
      "metadata": {
        "id": "PuBA5WJaTvfH"
      }
    },
    {
      "cell_type": "markdown",
      "source": [
        "* SignalRecord 实例化时通常需要传入以下参数：\n",
        "\n",
        "    * model: 训练好的模型对象。\n",
        "    * dataset: 用于生成预测信号的数据集 (通常是测试集或整个数据集)。\n",
        "    * recorder: 当前实验的记录器对象，SignalRecord 会将生成的预测信号作为实验的“工件” (artifact) 保存到这个记录器中。\n",
        "\n",
        "* 调用 sr.generate() 方法后，SignalRecord 会使用传入的模型对数据集进行预测，并将预测结果保存为一个文件 (通常是 pred.pkl ) 到当前的实验记录中。\n",
        "\n",
        "  * 这样做的优点是：\n",
        "\n",
        "    * 标准化: 将预测信号的生成和保存过程标准化。\n",
        "    * 可追溯: 预测信号与生成它的模型和数据集一起被记录在同一个实验中，方便追溯和管理。\n",
        "    * 方便后续步骤: 保存的预测信号可以直接被后续的回测、分析等步骤加载使用。\n",
        "\n",
        "总之，SignalRecord 在 Qlib 工作流中的作用是连接模型训练和后续回测/分析步骤，负责将模型的输出 (预测信号) 以结构化的方式保存到实验记录中。"
      ],
      "metadata": {
        "id": "pY42vThiKkPW"
      }
    },
    {
      "cell_type": "markdown",
      "metadata": {
        "id": "cb9e7841"
      },
      "source": [
        "上面的代码演示了如何在 Qlib 中定义一个简单的线性模型，配置数据集，并训练模型。训练完成后，模型会被保存在 Qlib 的实验记录中，方便后续的回测和分析。\n",
        "\n",
        "**第四天任务小结:**\n",
        "\n",
        "*   我们了解了 Qlib 中模型构建的基本流程：定义模型配置 -> 定义数据集配置 -> 训练模型。\n",
        "*   创建了使用 `LinearModel` 的模型配置。\n",
        "*   创建了包含示例特征和标签的数据集配置。\n",
        "*   使用 `qlib.workflow.R` 训练了模型。\n",
        "\n",
        "接下来，您可以尝试：\n",
        "\n",
        "*   修改 `dataset_config.yaml`，添加或修改使用的特征，尝试您在第三天计算的其他因子。\n",
        "*   尝试不同的日期范围进行训练。\n",
        "*   如果对线性模型不感兴趣，可以查阅 Qlib 文档，尝试使用其他内置的模型，例如 `LGBModel` (LightGBM) 或 `MLPModel` (多层感知机)。这需要修改 `linear_model_config.yaml` 文件中的 `class` 和 `module_path`。\n",
        "\n",
        "完成这些探索后，我们就准备进入第五天的学习：回测系统与策略实现。"
      ]
    },
    {
      "cell_type": "markdown",
      "metadata": {
        "id": "f7cbf709"
      },
      "source": [
        "### 第五天：回测系统与策略实现\n",
        "\n",
        "**里程碑:** 理解回测的重要性，学习使用 Qlib 回测系统验证策略效果。"
      ]
    },
    {
      "cell_type": "markdown",
      "metadata": {
        "id": "e6268fbf"
      },
      "source": [
        "#### 1. 理解 Qlib 回测系统\n",
        "\n",
        "Qlib 的回测系统模拟了真实交易过程，考虑了交易成本、滑点等因素。回测的基本流程通常包括：\n",
        "\n",
        "*   **加载数据:** 使用与模型训练时一致或相似的数据集。\n",
        "*   **加载模型:** 加载第四天训练并保存的模型。\n",
        "*   **生成信号:** 使用加载的模型对回测期内的数据进行预测，生成交易信号（例如，预测的未来收益率）。\n",
        "*   **构建策略:** 根据交易信号定义交易规则（例如，买入预测收益率最高的股票）。\n",
        "*   **模拟交易:** 回测系统根据策略和交易规则在历史数据上模拟交易过程。\n",
        "*   **生成报告:** 回测完成后，系统生成详细的回测报告，包含各种风险和收益指标。\n",
        "\n",
        "#### 2. 配置回测任务\n",
        "\n",
        "Qlib 的回测任务也通常通过 YAML 格式的配置文件来定义。这个配置文件会包含数据集、模型、策略、回测时间范围、交易成本等信息。\n",
        "\n",
        "我们将创建一个简单的回测配置文件作为示例。"
      ]
    },
    {
      "cell_type": "code",
      "metadata": {
        "colab": {
          "base_uri": "https://localhost:8080/",
          "height": 565,
          "referenced_widgets": [
            "e558e31163e24cc9b5420993514e28e0",
            "eb59c661fd3b41eab53a46395fcb46f1",
            "2db5792ff7d6491e966e40a8043fa542",
            "fdb5e5601e474feda01fb0a1fdbc065c",
            "e7d440c8888c45a99470ad9894f9d0f4",
            "3761c75774954ff9ad58cb61a4901dcc",
            "e9503c5105a54290b6abbb9e30126832",
            "e1811980757e4554b3ad49fd9d612300",
            "77b963162ad94cff834d9579148bb20a",
            "2529d6f538664872baf320bd1e9f7962",
            "257406e1f794439fb3d345d74ee87b49"
          ]
        },
        "id": "e07aea48",
        "outputId": "96ccf2d5-724e-4538-8df1-346362169442"
      },
      "source": [
        "###################################\n",
        "# prediction, backtest & analysis\n",
        "###################################\n",
        "port_analysis_config = {\n",
        "    \"executor\": {\n",
        "        \"class\": \"SimulatorExecutor\",\n",
        "        \"module_path\": \"qlib.backtest.executor\",\n",
        "        \"kwargs\": {\n",
        "            \"time_per_step\": \"day\",\n",
        "            \"generate_portfolio_metrics\": True,\n",
        "        },\n",
        "    },\n",
        "    \"strategy\": {\n",
        "        \"class\": \"TopkDropoutStrategy\",\n",
        "        \"module_path\": \"qlib.contrib.strategy.signal_strategy\",\n",
        "        \"kwargs\": {\n",
        "            \"model\": model,\n",
        "            \"dataset\": dataset,\n",
        "            \"topk\": 50,\n",
        "            \"n_drop\": 5,\n",
        "        },\n",
        "    },\n",
        "    \"backtest\": {\n",
        "        \"start_time\": \"2017-01-01\",\n",
        "        \"end_time\": \"2020-08-01\",\n",
        "        \"account\": 100000000,\n",
        "        \"benchmark\": benchmark,\n",
        "        \"exchange_kwargs\": {\n",
        "            \"freq\": \"day\",\n",
        "            \"limit_threshold\": 0.095,\n",
        "            \"deal_price\": \"close\",\n",
        "            \"open_cost\": 0.0005,\n",
        "            \"close_cost\": 0.0015,\n",
        "            \"min_cost\": 5,\n",
        "        },\n",
        "    },\n",
        "}\n",
        "\n",
        "# backtest and analysis\n",
        "with R.start(experiment_name=\"backtest_analysis\"):\n",
        "    rid = os.environ.get('RECORD_ID')\n",
        "    recorder = R.get_recorder(recorder_id=rid, experiment_name=\"workflow\")\n",
        "    model = recorder.load_object(\"workflow\")\n",
        "\n",
        "    # prediction\n",
        "    recorder = R.get_recorder()\n",
        "    ba_rid = recorder.id\n",
        "    sr = SignalRecord(model, dataset, recorder)\n",
        "    sr.generate()\n",
        "\n",
        "    # backtest & analysis\n",
        "    par = PortAnaRecord(recorder, port_analysis_config, \"day\")\n",
        "    par.generate()"
      ],
      "execution_count": 29,
      "outputs": [
        {
          "output_type": "stream",
          "name": "stderr",
          "text": [
            "[367:MainThread](2025-08-22 05:53:10,174) INFO - qlib.workflow - [exp.py:258] - Experiment 844753947609957395 starts running ...\n",
            "[367:MainThread](2025-08-22 05:53:10,188) INFO - qlib.workflow - [recorder.py:345] - Recorder b9675dc841b94e10b3befe949b4574ca starts running under Experiment 844753947609957395 ...\n",
            "[367:MainThread](2025-08-22 05:53:10,205) INFO - qlib.workflow - [recorder.py:378] - Fail to log the uncommitted code of $CWD(/content) when run git diff.\n",
            "[367:MainThread](2025-08-22 05:53:10,217) INFO - qlib.workflow - [recorder.py:378] - Fail to log the uncommitted code of $CWD(/content) when run git status.\n",
            "[367:MainThread](2025-08-22 05:53:10,232) INFO - qlib.workflow - [recorder.py:378] - Fail to log the uncommitted code of $CWD(/content) when run git diff --cached.\n"
          ]
        },
        {
          "output_type": "display_data",
          "data": {
            "text/plain": [
              "Downloading artifacts:   0%|          | 0/1 [00:00<?, ?it/s]"
            ],
            "application/vnd.jupyter.widget-view+json": {
              "version_major": 2,
              "version_minor": 0,
              "model_id": "e558e31163e24cc9b5420993514e28e0"
            }
          },
          "metadata": {}
        },
        {
          "output_type": "stream",
          "name": "stderr",
          "text": [
            "[367:MainThread](2025-08-22 05:53:10,315) INFO - qlib.timer - [log.py:127] - Time cost: 0.000s | waiting `async_log` Done\n"
          ]
        },
        {
          "output_type": "error",
          "ename": "LoadObjectError",
          "evalue": "Failed to download artifacts from path 'workflow', please ensure that the path is correct.",
          "traceback": [
            "\u001b[0;31m---------------------------------------------------------------------------\u001b[0m",
            "\u001b[0;31mMlflowException\u001b[0m                           Traceback (most recent call last)",
            "\u001b[0;32m/usr/local/lib/python3.12/dist-packages/qlib/workflow/recorder.py\u001b[0m in \u001b[0;36mload_object\u001b[0;34m(self, name, unpickler)\u001b[0m\n\u001b[1;32m    431\u001b[0m         \u001b[0;32mtry\u001b[0m\u001b[0;34m:\u001b[0m\u001b[0;34m\u001b[0m\u001b[0;34m\u001b[0m\u001b[0m\n\u001b[0;32m--> 432\u001b[0;31m             \u001b[0mpath\u001b[0m \u001b[0;34m=\u001b[0m \u001b[0mself\u001b[0m\u001b[0;34m.\u001b[0m\u001b[0mclient\u001b[0m\u001b[0;34m.\u001b[0m\u001b[0mdownload_artifacts\u001b[0m\u001b[0;34m(\u001b[0m\u001b[0mself\u001b[0m\u001b[0;34m.\u001b[0m\u001b[0mid\u001b[0m\u001b[0;34m,\u001b[0m \u001b[0mname\u001b[0m\u001b[0;34m)\u001b[0m\u001b[0;34m\u001b[0m\u001b[0;34m\u001b[0m\u001b[0m\n\u001b[0m\u001b[1;32m    433\u001b[0m             \u001b[0;32mwith\u001b[0m \u001b[0mPath\u001b[0m\u001b[0;34m(\u001b[0m\u001b[0mpath\u001b[0m\u001b[0;34m)\u001b[0m\u001b[0;34m.\u001b[0m\u001b[0mopen\u001b[0m\u001b[0;34m(\u001b[0m\u001b[0;34m\"rb\"\u001b[0m\u001b[0;34m)\u001b[0m \u001b[0;32mas\u001b[0m \u001b[0mf\u001b[0m\u001b[0;34m:\u001b[0m\u001b[0;34m\u001b[0m\u001b[0;34m\u001b[0m\u001b[0m\n",
            "\u001b[0;32m/usr/local/lib/python3.12/dist-packages/mlflow/tracking/client.py\u001b[0m in \u001b[0;36mdownload_artifacts\u001b[0;34m(self, run_id, path, dst_path)\u001b[0m\n\u001b[1;32m   3390\u001b[0m         \"\"\"\n\u001b[0;32m-> 3391\u001b[0;31m         \u001b[0;32mreturn\u001b[0m \u001b[0mself\u001b[0m\u001b[0;34m.\u001b[0m\u001b[0m_tracking_client\u001b[0m\u001b[0;34m.\u001b[0m\u001b[0mdownload_artifacts\u001b[0m\u001b[0;34m(\u001b[0m\u001b[0mrun_id\u001b[0m\u001b[0;34m,\u001b[0m \u001b[0mpath\u001b[0m\u001b[0;34m,\u001b[0m \u001b[0mdst_path\u001b[0m\u001b[0;34m)\u001b[0m\u001b[0;34m\u001b[0m\u001b[0;34m\u001b[0m\u001b[0m\n\u001b[0m\u001b[1;32m   3392\u001b[0m \u001b[0;34m\u001b[0m\u001b[0m\n",
            "\u001b[0;32m/usr/local/lib/python3.12/dist-packages/mlflow/tracking/_tracking_service/client.py\u001b[0m in \u001b[0;36mdownload_artifacts\u001b[0;34m(self, run_id, path, dst_path)\u001b[0m\n\u001b[1;32m    725\u001b[0m \u001b[0;34m\u001b[0m\u001b[0m\n\u001b[0;32m--> 726\u001b[0;31m         return download_artifacts(\n\u001b[0m\u001b[1;32m    727\u001b[0m             \u001b[0mrun_id\u001b[0m\u001b[0;34m=\u001b[0m\u001b[0mrun_id\u001b[0m\u001b[0;34m,\u001b[0m \u001b[0martifact_path\u001b[0m\u001b[0;34m=\u001b[0m\u001b[0mpath\u001b[0m\u001b[0;34m,\u001b[0m \u001b[0mdst_path\u001b[0m\u001b[0;34m=\u001b[0m\u001b[0mdst_path\u001b[0m\u001b[0;34m,\u001b[0m \u001b[0mtracking_uri\u001b[0m\u001b[0;34m=\u001b[0m\u001b[0mself\u001b[0m\u001b[0;34m.\u001b[0m\u001b[0mtracking_uri\u001b[0m\u001b[0;34m\u001b[0m\u001b[0;34m\u001b[0m\u001b[0m\n",
            "\u001b[0;32m/usr/local/lib/python3.12/dist-packages/mlflow/artifacts/__init__.py\u001b[0m in \u001b[0;36mdownload_artifacts\u001b[0;34m(artifact_uri, run_id, artifact_path, dst_path, tracking_uri)\u001b[0m\n\u001b[1;32m     87\u001b[0m     \u001b[0;32mif\u001b[0m \u001b[0mrun_id\u001b[0m \u001b[0;32mand\u001b[0m \u001b[0martifact_path\u001b[0m\u001b[0;34m:\u001b[0m\u001b[0;34m\u001b[0m\u001b[0;34m\u001b[0m\u001b[0m\n\u001b[0;32m---> 88\u001b[0;31m         return _download_artifact_from_uri(\n\u001b[0m\u001b[1;32m     89\u001b[0m             \u001b[0;34mf\"runs:/{posixpath.join(run_id, artifact_path)}\"\u001b[0m\u001b[0;34m,\u001b[0m\u001b[0;34m\u001b[0m\u001b[0;34m\u001b[0m\u001b[0m\n",
            "\u001b[0;32m/usr/local/lib/python3.12/dist-packages/mlflow/tracking/artifact_utils.py\u001b[0m in \u001b[0;36m_download_artifact_from_uri\u001b[0;34m(artifact_uri, output_path, lineage_header_info, tracking_uri)\u001b[0m\n\u001b[1;32m    123\u001b[0m             )\n\u001b[0;32m--> 124\u001b[0;31m         \u001b[0;32mreturn\u001b[0m \u001b[0mrepo\u001b[0m\u001b[0;34m.\u001b[0m\u001b[0mdownload_artifacts\u001b[0m\u001b[0;34m(\u001b[0m\u001b[0martifact_path\u001b[0m\u001b[0;34m=\u001b[0m\u001b[0martifact_path\u001b[0m\u001b[0;34m,\u001b[0m \u001b[0mdst_path\u001b[0m\u001b[0;34m=\u001b[0m\u001b[0moutput_path\u001b[0m\u001b[0;34m)\u001b[0m\u001b[0;34m\u001b[0m\u001b[0;34m\u001b[0m\u001b[0m\n\u001b[0m\u001b[1;32m    125\u001b[0m     \u001b[0;32mexcept\u001b[0m \u001b[0mException\u001b[0m \u001b[0;32mas\u001b[0m \u001b[0me\u001b[0m\u001b[0;34m:\u001b[0m\u001b[0;34m\u001b[0m\u001b[0;34m\u001b[0m\u001b[0m\n",
            "\u001b[0;32m/usr/local/lib/python3.12/dist-packages/mlflow/store/artifact/runs_artifact_repo.py\u001b[0m in \u001b[0;36mdownload_artifacts\u001b[0;34m(self, artifact_path, dst_path)\u001b[0m\n\u001b[1;32m    225\u001b[0m         \u001b[0;32mif\u001b[0m \u001b[0mpath\u001b[0m \u001b[0;32mis\u001b[0m \u001b[0;32mNone\u001b[0m\u001b[0;34m:\u001b[0m\u001b[0;34m\u001b[0m\u001b[0;34m\u001b[0m\u001b[0m\n\u001b[0;32m--> 226\u001b[0;31m             raise MlflowException(\n\u001b[0m\u001b[1;32m    227\u001b[0m                 \u001b[0;34mf\"Failed to download artifacts from path {artifact_path!r}, \"\u001b[0m\u001b[0;34m\u001b[0m\u001b[0;34m\u001b[0m\u001b[0m\n",
            "\u001b[0;31mMlflowException\u001b[0m: Failed to download artifacts from path 'workflow', please ensure that the path is correct.",
            "\nThe above exception was the direct cause of the following exception:\n",
            "\u001b[0;31mLoadObjectError\u001b[0m                           Traceback (most recent call last)",
            "\u001b[0;32m/tmp/ipython-input-3531475418.py\u001b[0m in \u001b[0;36m<cell line: 0>\u001b[0;34m()\u001b[0m\n\u001b[1;32m     40\u001b[0m \u001b[0;32mwith\u001b[0m \u001b[0mR\u001b[0m\u001b[0;34m.\u001b[0m\u001b[0mstart\u001b[0m\u001b[0;34m(\u001b[0m\u001b[0mexperiment_name\u001b[0m\u001b[0;34m=\u001b[0m\u001b[0;34m\"backtest_analysis\"\u001b[0m\u001b[0;34m)\u001b[0m\u001b[0;34m:\u001b[0m\u001b[0;34m\u001b[0m\u001b[0;34m\u001b[0m\u001b[0m\n\u001b[1;32m     41\u001b[0m     \u001b[0mrecorder\u001b[0m \u001b[0;34m=\u001b[0m \u001b[0mR\u001b[0m\u001b[0;34m.\u001b[0m\u001b[0mget_recorder\u001b[0m\u001b[0;34m(\u001b[0m\u001b[0mrecorder_id\u001b[0m\u001b[0;34m=\u001b[0m\u001b[0mrid\u001b[0m\u001b[0;34m,\u001b[0m \u001b[0mexperiment_name\u001b[0m\u001b[0;34m=\u001b[0m\u001b[0;34m\"workflow\"\u001b[0m\u001b[0;34m)\u001b[0m\u001b[0;34m\u001b[0m\u001b[0;34m\u001b[0m\u001b[0m\n\u001b[0;32m---> 42\u001b[0;31m     \u001b[0mmodel\u001b[0m \u001b[0;34m=\u001b[0m \u001b[0mrecorder\u001b[0m\u001b[0;34m.\u001b[0m\u001b[0mload_object\u001b[0m\u001b[0;34m(\u001b[0m\u001b[0;34m\"workflow\"\u001b[0m\u001b[0;34m)\u001b[0m\u001b[0;34m\u001b[0m\u001b[0;34m\u001b[0m\u001b[0m\n\u001b[0m\u001b[1;32m     43\u001b[0m \u001b[0;34m\u001b[0m\u001b[0m\n\u001b[1;32m     44\u001b[0m     \u001b[0;31m# prediction\u001b[0m\u001b[0;34m\u001b[0m\u001b[0;34m\u001b[0m\u001b[0m\n",
            "\u001b[0;32m/usr/local/lib/python3.12/dist-packages/qlib/workflow/recorder.py\u001b[0m in \u001b[0;36mload_object\u001b[0;34m(self, name, unpickler)\u001b[0m\n\u001b[1;32m    435\u001b[0m             \u001b[0;32mreturn\u001b[0m \u001b[0mdata\u001b[0m\u001b[0;34m\u001b[0m\u001b[0;34m\u001b[0m\u001b[0m\n\u001b[1;32m    436\u001b[0m         \u001b[0;32mexcept\u001b[0m \u001b[0mException\u001b[0m \u001b[0;32mas\u001b[0m \u001b[0me\u001b[0m\u001b[0;34m:\u001b[0m\u001b[0;34m\u001b[0m\u001b[0;34m\u001b[0m\u001b[0m\n\u001b[0;32m--> 437\u001b[0;31m             \u001b[0;32mraise\u001b[0m \u001b[0mLoadObjectError\u001b[0m\u001b[0;34m(\u001b[0m\u001b[0mstr\u001b[0m\u001b[0;34m(\u001b[0m\u001b[0me\u001b[0m\u001b[0;34m)\u001b[0m\u001b[0;34m)\u001b[0m \u001b[0;32mfrom\u001b[0m \u001b[0me\u001b[0m\u001b[0;34m\u001b[0m\u001b[0;34m\u001b[0m\u001b[0m\n\u001b[0m\u001b[1;32m    438\u001b[0m         \u001b[0;32mfinally\u001b[0m\u001b[0;34m:\u001b[0m\u001b[0;34m\u001b[0m\u001b[0;34m\u001b[0m\u001b[0m\n\u001b[1;32m    439\u001b[0m             \u001b[0mar\u001b[0m \u001b[0;34m=\u001b[0m \u001b[0mself\u001b[0m\u001b[0;34m.\u001b[0m\u001b[0mclient\u001b[0m\u001b[0;34m.\u001b[0m\u001b[0m_tracking_client\u001b[0m\u001b[0;34m.\u001b[0m\u001b[0m_get_artifact_repo\u001b[0m\u001b[0;34m(\u001b[0m\u001b[0mself\u001b[0m\u001b[0;34m.\u001b[0m\u001b[0mid\u001b[0m\u001b[0;34m)\u001b[0m\u001b[0;34m\u001b[0m\u001b[0;34m\u001b[0m\u001b[0m\n",
            "\u001b[0;31mLoadObjectError\u001b[0m: Failed to download artifacts from path 'workflow', please ensure that the path is correct."
          ]
        }
      ]
    },
    {
      "cell_type": "code",
      "metadata": {
        "id": "31b9b1e5"
      },
      "source": [
        "import os\n",
        "\n",
        "# 假设之前已经设置了一个名为 MY_VARIABLE 的环境变量\n",
        "\n",
        "# 使用 os.getenv() 获取环境变量的值\n",
        "my_variable_value_getenv = os.getenv('MY_VARIABLE')\n",
        "print(f\"使用 os.getenv() 获取 MY_VARIABLE 的值: {my_variable_value_getenv}\")\n",
        "\n",
        "# 使用 os.environ.get() 获取环境变量的值\n",
        "print(f\"使用 os.environ.get() 获取 MY_VARIABLE 的值: {my_variable_value_environ_get}\")\n",
        "\n",
        "# 尝试获取一个不存在的环境变量\n",
        "non_existent_variable = os.getenv('NON_EXISTENT_VARIABLE'大)\n",
        "print(f\"尝试获取不存在的环境变量 NON_EXISTENT_VARIABLE 的值: {non_existent_variable}\")\n",
        "\n",
        "# 尝试使用 os.environ[] 获取一个不存在的环境变量 (这会引发 KeyError)\n",
        "# try:\n",
        "#     non_existent_variable_environ = os.environ['NON_EXISTENT_VARIABLE']\n",
        "#     print(f\"使用 os.environ[] 获取 NON_EXISTENT_VARIABLE 的值: {non_existent_variable_environ}\")\n",
        "# except KeyError:\n",
        "#     print(\"使用 os.environ[] 获取不存在的环境变量会引发 KeyError。\")"
      ],
      "execution_count": null,
      "outputs": []
    },
    {
      "cell_type": "markdown",
      "metadata": {
        "id": "0f137bbb"
      },
      "source": [
        "上面的回测配置文件定义了一个简单的**权重策略 (WeightStrategy)** 和一个**组合回测 (PortfolioBacktest)**。\n",
        "\n",
        "*   **WeightStrategy:** 这是一种根据模型输出的预测信号来分配股票权重的策略。例如，预测收益率越高的股票，分配的权重越大。`<model_path>` 占位符表示需要指定用于生成预测信号的模型。\n",
        "*   **PortfolioBacktest:** 这是 Qlib 中常用的回测执行器，用于模拟管理一个股票组合的回测过程。您可以在其中配置回测时间范围、初始资金、交易成本等。\n",
        "\n",
        "#### 3. 运行回测\n",
        "\n",
        "有了回测配置文件，我们就可以使用 Qlib 来运行回测任务了。同样，我们可以使用 `qlib.workflow.R` 来管理回测实验记录。\n",
        "\n",
        "**重要提示:** 由于我们没有一个成功训练的模型来替换 `<model_path>`，直接运行以下代码会失败。以下代码仅为了演示回测的执行流程。在您拥有训练好的模型后，需要修改 `backtest_config.yaml` 文件中的 `<model_path>`。\n",
        "\n",
        "如果您希望在当前环境下运行一个可以执行的回测示例，我们可以尝试使用 Qlib 提供的默认模型或一个非常简单的规则作为信号源，但这需要对回测配置进行相应的调整。为了遵循计划结构，我们先展示标准的配置方式。"
      ]
    },
    {
      "cell_type": "code",
      "metadata": {
        "colab": {
          "base_uri": "https://localhost:8080/",
          "height": 387
        },
        "id": "d69f5238",
        "outputId": "65f51d7e-4f19-4d31-b6db-8ce203179791"
      },
      "source": [
        "import qlib\n",
        "from qlib.workflow import R\n",
        "from qlib.utils import init_instance_by_config\n",
        "import yaml\n",
        "# 导入 PortfolioBacktest 类，以便在构建配置时引用其路径\n",
        "from qlib.backtest.high_performance.executor import PortfolioBacktest\n",
        "from qlib.contrib.strategy.weight_strategy import WeightStrategy\n",
        "\n",
        "\n",
        "# 初始化 Qlib (如果之前没有初始化，这里需要根据您的provider_uri进行初始化)\n",
        "# qlib.init(provider_uri='~/.qlib/qlib_data/cn_data', region=REG_CN) # 请根据您的实际路径修改\n",
        "\n",
        "# 加载回测配置\n",
        "with open(\"backtest_config.yaml\", \"r\") as f:\n",
        "    backtest_config_dict = yaml.safe_load(f)\n",
        "\n",
        "# --- 构建回测工作流配置字典 ---\n",
        "# 创建一个字典，其 class 指向一个工作流执行器，并将 strategy 和 backtest 配置作为 kwargs\n",
        "# 注意：这里我们构建一个符合 init_instance_by_config 期望的结构\n",
        "# 实际的 workflow class/module_path 可能需要查阅 Qlib 文档\n",
        "backtest_workflow_config = {\n",
        "    'class': 'Workflow', # 假设存在一个 Workflow 执行器类\n",
        "    'module_path': 'qlib.workflow', # 假设其模块路径\n",
        "    'kwargs': {\n",
        "        'strategy': backtest_config_dict['strategy'], # 传递 strategy 配置\n",
        "        'backtest': backtest_config_dict['backtest'] # 传递 backtest 配置\n",
        "        # 如果 Workflow 类需要其他参数，可以在这里添加\n",
        "    }\n",
        "}\n",
        "# --- 构建回测工作流配置字典结束 ---\n",
        "\n",
        "\n",
        "# 开始一个 Qlib 实验记录用于回测\n",
        "with R.start(experiment_name=\"linear_model_backtest\"):\n",
        "    # 使用 init_instance_by_config 执行回测工作流\n",
        "    # 将构建好的 backtest_workflow_config 字典传递给 init_instance_by_config\n",
        "    backtest_result = init_instance_by_config(backtest_workflow_config)\n",
        "\n",
        "    # 回测结果会自动记录到 R 中\n",
        "\n",
        "print(\"\\n回测任务配置已加载。请注意，由于模型路径未替换，直接运行会失败。\")\n",
        "print(\"在您拥有训练好的模型并更新配置文件后，可以运行此单元格进行回测。\")\n",
        "print(\"此外，'Workflow' 类和 'qlib.workflow' 模块路径是假设的，实际可能需要查阅 Qlib 文档确认。\")"
      ],
      "execution_count": 26,
      "outputs": [
        {
          "output_type": "error",
          "ename": "ModuleNotFoundError",
          "evalue": "No module named 'qlib.backtest.high_performance'",
          "traceback": [
            "\u001b[0;31m---------------------------------------------------------------------------\u001b[0m",
            "\u001b[0;31mModuleNotFoundError\u001b[0m                       Traceback (most recent call last)",
            "\u001b[0;32m/tmp/ipython-input-2158304123.py\u001b[0m in \u001b[0;36m<cell line: 0>\u001b[0;34m()\u001b[0m\n\u001b[1;32m      4\u001b[0m \u001b[0;32mimport\u001b[0m \u001b[0myaml\u001b[0m\u001b[0;34m\u001b[0m\u001b[0;34m\u001b[0m\u001b[0m\n\u001b[1;32m      5\u001b[0m \u001b[0;31m# 导入 PortfolioBacktest 类，以便在构建配置时引用其路径\u001b[0m\u001b[0;34m\u001b[0m\u001b[0;34m\u001b[0m\u001b[0m\n\u001b[0;32m----> 6\u001b[0;31m \u001b[0;32mfrom\u001b[0m \u001b[0mqlib\u001b[0m\u001b[0;34m.\u001b[0m\u001b[0mbacktest\u001b[0m\u001b[0;34m.\u001b[0m\u001b[0mhigh_performance\u001b[0m\u001b[0;34m.\u001b[0m\u001b[0mexecutor\u001b[0m \u001b[0;32mimport\u001b[0m \u001b[0mPortfolioBacktest\u001b[0m\u001b[0;34m\u001b[0m\u001b[0;34m\u001b[0m\u001b[0m\n\u001b[0m\u001b[1;32m      7\u001b[0m \u001b[0;32mfrom\u001b[0m \u001b[0mqlib\u001b[0m\u001b[0;34m.\u001b[0m\u001b[0mcontrib\u001b[0m\u001b[0;34m.\u001b[0m\u001b[0mstrategy\u001b[0m\u001b[0;34m.\u001b[0m\u001b[0mweight_strategy\u001b[0m \u001b[0;32mimport\u001b[0m \u001b[0mWeightStrategy\u001b[0m\u001b[0;34m\u001b[0m\u001b[0;34m\u001b[0m\u001b[0m\n\u001b[1;32m      8\u001b[0m \u001b[0;34m\u001b[0m\u001b[0m\n",
            "\u001b[0;31mModuleNotFoundError\u001b[0m: No module named 'qlib.backtest.high_performance'",
            "",
            "\u001b[0;31m---------------------------------------------------------------------------\u001b[0;32m\nNOTE: If your import is failing due to a missing package, you can\nmanually install dependencies using either !pip or !apt.\n\nTo view examples of installing some common dependencies, click the\n\"Open Examples\" button below.\n\u001b[0;31m---------------------------------------------------------------------------\u001b[0m\n"
          ],
          "errorDetails": {
            "actions": [
              {
                "action": "open_url",
                "actionText": "Open Examples",
                "url": "/notebooks/snippets/importing_libraries.ipynb"
              }
            ]
          }
        }
      ]
    },
    {
      "cell_type": "markdown",
      "metadata": {
        "id": "ab5c0cc4"
      },
      "source": [
        "上面的代码演示了如何加载回测配置文件并尝试使用 `init_instance_by_config` 来执行回测任务。\n",
        "\n",
        "**第五天任务小结:**\n",
        "\n",
        "*   我们了解了 Qlib 回测系统的基本概念和流程。\n",
        "*   学习了如何定义一个回测配置文件，包括策略和回测执行器配置。\n",
        "*   了解了如何使用 `qlib.workflow.R` 运行回测任务。\n",
        "\n",
        "接下来，您可以尝试：\n",
        "\n",
        "*   仔细阅读 `backtest_config.yaml` 文件，理解其中各个参数的含义。查阅 Qlib 文档以获取更多关于 `WeightStrategy` 和 `PortfolioBacktest` 的信息。\n",
        "*   了解 Qlib 支持的其他策略类型和回测执行器。\n",
        "*   当您拥有一个成功训练的模型后，更新 `backtest_config.yaml` 中的模型路径，然后运行回测代码。\n",
        "\n",
        "完成这些探索后，我们就准备进入第六天的学习：策略优化与评估。"
      ]
    }
  ]
}