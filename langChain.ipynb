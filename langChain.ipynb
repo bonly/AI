{
  "cells": [
    {
      "cell_type": "markdown",
      "id": "c4e1b477-982d-4459-8a6e-a491b8d87e65",
      "metadata": {
        "id": "c4e1b477-982d-4459-8a6e-a491b8d87e65"
      },
      "source": [
        "<a href=\"https://colab.research.google.com/github/bonly/AI/blob/main/langChain.ipynb\" target=\"_parent\"><img src=\"https://colab.research.google.com/assets/colab-badge.svg\" alt=\"Open In Colab\"/></a>"
      ]
    },
    {
      "cell_type": "markdown",
      "source": [
        "curl -fsSL https://ollama.com/install.sh | sh\n",
        "\n",
        "ollama serve &\n",
        "\n",
        "ollama pull deepseek-r1:7b"
      ],
      "metadata": {
        "id": "YWPnLi3pTVah"
      },
      "id": "YWPnLi3pTVah"
    },
    {
      "cell_type": "code",
      "execution_count": 11,
      "id": "6b422794-90fc-4faf-b661-f3305846936f",
      "metadata": {
        "colab": {
          "base_uri": "https://localhost:8080/"
        },
        "collapsed": true,
        "id": "6b422794-90fc-4faf-b661-f3305846936f",
        "outputId": "6f0f4b9b-207c-476b-c413-c5b2e1e5c764"
      },
      "outputs": [
        {
          "output_type": "stream",
          "name": "stdout",
          "text": [
            "Requirement already satisfied: ollama in /usr/local/lib/python3.11/dist-packages (0.5.3)\n",
            "Requirement already satisfied: langchain in /usr/local/lib/python3.11/dist-packages (0.3.27)\n",
            "Requirement already satisfied: pandas in /usr/local/lib/python3.11/dist-packages (2.2.2)\n",
            "Requirement already satisfied: matplotlib in /usr/local/lib/python3.11/dist-packages (3.10.0)\n",
            "Requirement already satisfied: seaborn in /usr/local/lib/python3.11/dist-packages (0.13.2)\n",
            "Requirement already satisfied: plotly in /usr/local/lib/python3.11/dist-packages (5.24.1)\n",
            "Requirement already satisfied: dash in /usr/local/lib/python3.11/dist-packages (3.2.0)\n",
            "Requirement already satisfied: langchain-openai in /usr/local/lib/python3.11/dist-packages (0.3.29)\n",
            "Requirement already satisfied: langchain_ollama in /usr/local/lib/python3.11/dist-packages (0.3.6)\n",
            "Requirement already satisfied: yfinance in /usr/local/lib/python3.11/dist-packages (0.2.65)\n",
            "Requirement already satisfied: httpx>=0.27 in /usr/local/lib/python3.11/dist-packages (from ollama) (0.28.1)\n",
            "Requirement already satisfied: pydantic>=2.9 in /usr/local/lib/python3.11/dist-packages (from ollama) (2.11.7)\n",
            "Requirement already satisfied: langchain-core<1.0.0,>=0.3.72 in /usr/local/lib/python3.11/dist-packages (from langchain) (0.3.74)\n",
            "Requirement already satisfied: langchain-text-splitters<1.0.0,>=0.3.9 in /usr/local/lib/python3.11/dist-packages (from langchain) (0.3.9)\n",
            "Requirement already satisfied: langsmith>=0.1.17 in /usr/local/lib/python3.11/dist-packages (from langchain) (0.4.12)\n",
            "Requirement already satisfied: SQLAlchemy<3,>=1.4 in /usr/local/lib/python3.11/dist-packages (from langchain) (2.0.42)\n",
            "Requirement already satisfied: requests<3,>=2 in /usr/local/lib/python3.11/dist-packages (from langchain) (2.32.3)\n",
            "Requirement already satisfied: PyYAML>=5.3 in /usr/local/lib/python3.11/dist-packages (from langchain) (6.0.2)\n",
            "Requirement already satisfied: numpy>=1.23.2 in /usr/local/lib/python3.11/dist-packages (from pandas) (2.0.2)\n",
            "Requirement already satisfied: python-dateutil>=2.8.2 in /usr/local/lib/python3.11/dist-packages (from pandas) (2.9.0.post0)\n",
            "Requirement already satisfied: pytz>=2020.1 in /usr/local/lib/python3.11/dist-packages (from pandas) (2025.2)\n",
            "Requirement already satisfied: tzdata>=2022.7 in /usr/local/lib/python3.11/dist-packages (from pandas) (2025.2)\n",
            "Requirement already satisfied: contourpy>=1.0.1 in /usr/local/lib/python3.11/dist-packages (from matplotlib) (1.3.3)\n",
            "Requirement already satisfied: cycler>=0.10 in /usr/local/lib/python3.11/dist-packages (from matplotlib) (0.12.1)\n",
            "Requirement already satisfied: fonttools>=4.22.0 in /usr/local/lib/python3.11/dist-packages (from matplotlib) (4.59.0)\n",
            "Requirement already satisfied: kiwisolver>=1.3.1 in /usr/local/lib/python3.11/dist-packages (from matplotlib) (1.4.8)\n",
            "Requirement already satisfied: packaging>=20.0 in /usr/local/lib/python3.11/dist-packages (from matplotlib) (25.0)\n",
            "Requirement already satisfied: pillow>=8 in /usr/local/lib/python3.11/dist-packages (from matplotlib) (11.3.0)\n",
            "Requirement already satisfied: pyparsing>=2.3.1 in /usr/local/lib/python3.11/dist-packages (from matplotlib) (3.2.3)\n",
            "Requirement already satisfied: tenacity>=6.2.0 in /usr/local/lib/python3.11/dist-packages (from plotly) (8.5.0)\n",
            "Requirement already satisfied: Flask<3.2,>=1.0.4 in /usr/local/lib/python3.11/dist-packages (from dash) (3.1.1)\n",
            "Requirement already satisfied: Werkzeug<3.2 in /usr/local/lib/python3.11/dist-packages (from dash) (3.1.3)\n",
            "Requirement already satisfied: importlib-metadata in /usr/local/lib/python3.11/dist-packages (from dash) (8.7.0)\n",
            "Requirement already satisfied: typing-extensions>=4.1.1 in /usr/local/lib/python3.11/dist-packages (from dash) (4.14.1)\n",
            "Requirement already satisfied: retrying in /usr/local/lib/python3.11/dist-packages (from dash) (1.4.2)\n",
            "Requirement already satisfied: nest-asyncio in /usr/local/lib/python3.11/dist-packages (from dash) (1.6.0)\n",
            "Requirement already satisfied: setuptools in /usr/local/lib/python3.11/dist-packages (from dash) (75.2.0)\n",
            "Requirement already satisfied: openai<2.0.0,>=1.86.0 in /usr/local/lib/python3.11/dist-packages (from langchain-openai) (1.99.1)\n",
            "Requirement already satisfied: tiktoken<1,>=0.7 in /usr/local/lib/python3.11/dist-packages (from langchain-openai) (0.10.0)\n",
            "Requirement already satisfied: multitasking>=0.0.7 in /usr/local/lib/python3.11/dist-packages (from yfinance) (0.0.12)\n",
            "Requirement already satisfied: platformdirs>=2.0.0 in /usr/local/lib/python3.11/dist-packages (from yfinance) (4.3.8)\n",
            "Requirement already satisfied: frozendict>=2.3.4 in /usr/local/lib/python3.11/dist-packages (from yfinance) (2.4.6)\n",
            "Requirement already satisfied: peewee>=3.16.2 in /usr/local/lib/python3.11/dist-packages (from yfinance) (3.18.2)\n",
            "Requirement already satisfied: beautifulsoup4>=4.11.1 in /usr/local/lib/python3.11/dist-packages (from yfinance) (4.13.4)\n",
            "Requirement already satisfied: curl_cffi>=0.7 in /usr/local/lib/python3.11/dist-packages (from yfinance) (0.13.0)\n",
            "Requirement already satisfied: protobuf>=3.19.0 in /usr/local/lib/python3.11/dist-packages (from yfinance) (5.29.5)\n",
            "Requirement already satisfied: websockets>=13.0 in /usr/local/lib/python3.11/dist-packages (from yfinance) (15.0.1)\n",
            "Requirement already satisfied: soupsieve>1.2 in /usr/local/lib/python3.11/dist-packages (from beautifulsoup4>=4.11.1->yfinance) (2.7)\n",
            "Requirement already satisfied: cffi>=1.12.0 in /usr/local/lib/python3.11/dist-packages (from curl_cffi>=0.7->yfinance) (1.17.1)\n",
            "Requirement already satisfied: certifi>=2024.2.2 in /usr/local/lib/python3.11/dist-packages (from curl_cffi>=0.7->yfinance) (2025.8.3)\n",
            "Requirement already satisfied: blinker>=1.9.0 in /usr/local/lib/python3.11/dist-packages (from Flask<3.2,>=1.0.4->dash) (1.9.0)\n",
            "Requirement already satisfied: click>=8.1.3 in /usr/local/lib/python3.11/dist-packages (from Flask<3.2,>=1.0.4->dash) (8.2.1)\n",
            "Requirement already satisfied: itsdangerous>=2.2.0 in /usr/local/lib/python3.11/dist-packages (from Flask<3.2,>=1.0.4->dash) (2.2.0)\n",
            "Requirement already satisfied: jinja2>=3.1.2 in /usr/local/lib/python3.11/dist-packages (from Flask<3.2,>=1.0.4->dash) (3.1.6)\n",
            "Requirement already satisfied: markupsafe>=2.1.1 in /usr/local/lib/python3.11/dist-packages (from Flask<3.2,>=1.0.4->dash) (3.0.2)\n",
            "Requirement already satisfied: anyio in /usr/local/lib/python3.11/dist-packages (from httpx>=0.27->ollama) (4.10.0)\n",
            "Requirement already satisfied: httpcore==1.* in /usr/local/lib/python3.11/dist-packages (from httpx>=0.27->ollama) (1.0.9)\n",
            "Requirement already satisfied: idna in /usr/local/lib/python3.11/dist-packages (from httpx>=0.27->ollama) (3.10)\n",
            "Requirement already satisfied: h11>=0.16 in /usr/local/lib/python3.11/dist-packages (from httpcore==1.*->httpx>=0.27->ollama) (0.16.0)\n",
            "Requirement already satisfied: jsonpatch<2.0,>=1.33 in /usr/local/lib/python3.11/dist-packages (from langchain-core<1.0.0,>=0.3.72->langchain) (1.33)\n",
            "Requirement already satisfied: orjson>=3.9.14 in /usr/local/lib/python3.11/dist-packages (from langsmith>=0.1.17->langchain) (3.11.1)\n",
            "Requirement already satisfied: requests-toolbelt>=1.0.0 in /usr/local/lib/python3.11/dist-packages (from langsmith>=0.1.17->langchain) (1.0.0)\n",
            "Requirement already satisfied: zstandard>=0.23.0 in /usr/local/lib/python3.11/dist-packages (from langsmith>=0.1.17->langchain) (0.23.0)\n",
            "Requirement already satisfied: distro<2,>=1.7.0 in /usr/local/lib/python3.11/dist-packages (from openai<2.0.0,>=1.86.0->langchain-openai) (1.9.0)\n",
            "Requirement already satisfied: jiter<1,>=0.4.0 in /usr/local/lib/python3.11/dist-packages (from openai<2.0.0,>=1.86.0->langchain-openai) (0.10.0)\n",
            "Requirement already satisfied: sniffio in /usr/local/lib/python3.11/dist-packages (from openai<2.0.0,>=1.86.0->langchain-openai) (1.3.1)\n",
            "Requirement already satisfied: tqdm>4 in /usr/local/lib/python3.11/dist-packages (from openai<2.0.0,>=1.86.0->langchain-openai) (4.67.1)\n",
            "Requirement already satisfied: annotated-types>=0.6.0 in /usr/local/lib/python3.11/dist-packages (from pydantic>=2.9->ollama) (0.7.0)\n",
            "Requirement already satisfied: pydantic-core==2.33.2 in /usr/local/lib/python3.11/dist-packages (from pydantic>=2.9->ollama) (2.33.2)\n",
            "Requirement already satisfied: typing-inspection>=0.4.0 in /usr/local/lib/python3.11/dist-packages (from pydantic>=2.9->ollama) (0.4.1)\n",
            "Requirement already satisfied: six>=1.5 in /usr/local/lib/python3.11/dist-packages (from python-dateutil>=2.8.2->pandas) (1.17.0)\n",
            "Requirement already satisfied: charset-normalizer<4,>=2 in /usr/local/lib/python3.11/dist-packages (from requests<3,>=2->langchain) (3.4.2)\n",
            "Requirement already satisfied: urllib3<3,>=1.21.1 in /usr/local/lib/python3.11/dist-packages (from requests<3,>=2->langchain) (2.5.0)\n",
            "Requirement already satisfied: greenlet>=1 in /usr/local/lib/python3.11/dist-packages (from SQLAlchemy<3,>=1.4->langchain) (3.2.3)\n",
            "Requirement already satisfied: regex>=2022.1.18 in /usr/local/lib/python3.11/dist-packages (from tiktoken<1,>=0.7->langchain-openai) (2024.11.6)\n",
            "Requirement already satisfied: zipp>=3.20 in /usr/local/lib/python3.11/dist-packages (from importlib-metadata->dash) (3.23.0)\n",
            "Requirement already satisfied: pycparser in /usr/local/lib/python3.11/dist-packages (from cffi>=1.12.0->curl_cffi>=0.7->yfinance) (2.22)\n",
            "Requirement already satisfied: jsonpointer>=1.9 in /usr/local/lib/python3.11/dist-packages (from jsonpatch<2.0,>=1.33->langchain-core<1.0.0,>=0.3.72->langchain) (3.0.0)\n"
          ]
        }
      ],
      "source": [
        "!pip install ollama langchain pandas matplotlib seaborn plotly dash langchain-openai langchain_ollama yfinance"
      ]
    },
    {
      "cell_type": "code",
      "source": [
        "from langchain_ollama import ChatOllama\n",
        "from langchain_openai import ChatOpenAI\n",
        "#from ollama import FineTuner\n",
        "import yfinance as yf"
      ],
      "metadata": {
        "colab": {
          "base_uri": "https://localhost:8080/",
          "height": 369
        },
        "id": "3XH5l0_1VU24",
        "outputId": "63f81b5b-4c6f-45d4-eea0-3095c4008d80"
      },
      "id": "3XH5l0_1VU24",
      "execution_count": 16,
      "outputs": [
        {
          "output_type": "error",
          "ename": "ImportError",
          "evalue": "cannot import name 'FineTuner' from 'ollama' (/usr/local/lib/python3.11/dist-packages/ollama/__init__.py)",
          "traceback": [
            "\u001b[0;31m---------------------------------------------------------------------------\u001b[0m",
            "\u001b[0;31mImportError\u001b[0m                               Traceback (most recent call last)",
            "\u001b[0;32m/tmp/ipython-input-2503240193.py\u001b[0m in \u001b[0;36m<cell line: 0>\u001b[0;34m()\u001b[0m\n\u001b[1;32m      1\u001b[0m \u001b[0;32mfrom\u001b[0m \u001b[0mlangchain_ollama\u001b[0m \u001b[0;32mimport\u001b[0m \u001b[0mChatOllama\u001b[0m\u001b[0;34m\u001b[0m\u001b[0;34m\u001b[0m\u001b[0m\n\u001b[1;32m      2\u001b[0m \u001b[0;32mfrom\u001b[0m \u001b[0mlangchain_openai\u001b[0m \u001b[0;32mimport\u001b[0m \u001b[0mChatOpenAI\u001b[0m\u001b[0;34m\u001b[0m\u001b[0;34m\u001b[0m\u001b[0m\n\u001b[0;32m----> 3\u001b[0;31m \u001b[0;32mfrom\u001b[0m \u001b[0mollama\u001b[0m \u001b[0;32mimport\u001b[0m \u001b[0mFineTuner\u001b[0m\u001b[0;34m\u001b[0m\u001b[0;34m\u001b[0m\u001b[0m\n\u001b[0m\u001b[1;32m      4\u001b[0m \u001b[0;32mimport\u001b[0m \u001b[0myfinance\u001b[0m \u001b[0;32mas\u001b[0m \u001b[0myf\u001b[0m\u001b[0;34m\u001b[0m\u001b[0;34m\u001b[0m\u001b[0m\n",
            "\u001b[0;31mImportError\u001b[0m: cannot import name 'FineTuner' from 'ollama' (/usr/local/lib/python3.11/dist-packages/ollama/__init__.py)",
            "",
            "\u001b[0;31m---------------------------------------------------------------------------\u001b[0;32m\nNOTE: If your import is failing due to a missing package, you can\nmanually install dependencies using either !pip or !apt.\n\nTo view examples of installing some common dependencies, click the\n\"Open Examples\" button below.\n\u001b[0;31m---------------------------------------------------------------------------\u001b[0m\n"
          ],
          "errorDetails": {
            "actions": [
              {
                "action": "open_url",
                "actionText": "Open Examples",
                "url": "/notebooks/snippets/importing_libraries.ipynb"
              }
            ]
          }
        }
      ]
    },
    {
      "cell_type": "code",
      "source": [
        "def setup_llm():\n",
        "    return ChatOpenAI(\n",
        "        model=\"deepseek-r1:7b\",\n",
        "        api_key=\"ollama\",\n",
        "        base_url=\"http://127.0.0.1:11434/v1\",\n",
        "        temperature=0,\n",
        "        top_p=0.7\n",
        "    )"
      ],
      "metadata": {
        "id": "yUkn73BTUz9d"
      },
      "id": "yUkn73BTUz9d",
      "execution_count": null,
      "outputs": []
    },
    {
      "cell_type": "code",
      "source": [
        "def test_chat():\n",
        "  chat_model = ChatOllama(model=\"deepseek-r1:7b\")\n",
        "  response = chat_model.invoke(\"What are the latest trends in financial technology? 请中文回答\")\n",
        "  print(response)\n",
        "\n",
        "#test_chat()"
      ],
      "metadata": {
        "colab": {
          "base_uri": "https://localhost:8080/"
        },
        "id": "Pvb7_5lHUK17",
        "outputId": "30b0f999-f49d-44c4-d133-c2439bc18d3e"
      },
      "id": "Pvb7_5lHUK17",
      "execution_count": 9,
      "outputs": [
        {
          "output_type": "stream",
          "name": "stdout",
          "text": [
            "content='<think>\\n嗯，我现在要回答关于金融技术最新趋势的中文问题。首先，我得整理一下自己对金融科技的理解和最近听到的信息。\\n\\n记得最近听说过区块链不仅仅是加密货币了，现在在 many-to-many 转换中也很有用，比如货物交易或者服务互换。这可能是一个重要的趋势，可以扩展应用范围。\\n\\n然后是人工智能，特别是在风险管理、欺诈检测这些领域。AI如何提升预测模型的准确性呢？可能还能帮助分析大量数据，更快地做出决策。\\n\\n智能合约也是一个点，特别是去中心化金融（DeFi）的发展。这种自动执行交易的合同能降低信任成本，促进更多创新应用，比如借贷和投资平台。\\n\\n数字身份识别技术也很关键，尤其是生物识别，比如虹膜和指纹，在身份验证中的作用越来越大，可能在区块链上结合使用会更安全。\\n\\n绿色金融科技也是一个新领域，关注可持续发展。ESG 投资、碳交易这些概念如何影响金融创新呢？可能会有更多环保项目融资的出现。\\n\\n智能合约已经应用广泛了，未来会不会扩展到更多应用场景？比如法律合同自动化，或者供应链管理？这可能需要更多的例子来说明。\\n\\n分布式账本技术如区块链的升级版，比如Layer 2解决方案，可以提高处理速度和安全性，特别是在加密货币领域影响很大。传统金融机构也在考虑采用这些技术，提升效率。\\n\\nAI在风险管理中的应用不仅仅用于模型，还能实时监控市场波动，预测风险点，从而提前采取措施。这对银行和保险公司的服务会有显著提升。\\n\\n去中心化交易所的发展让普通人也能参与投资，降低了门槛，增加了普惠金融的可能性。这可能是一个重要的趋势，让更多人受益。\\n\\n人工智能在信用评分和欺诈检测中的应用，不仅提高了准确性，还能更快地处理大量数据，降低错误率。这对金融机构来说非常重要，特别是在高风险行业。\\n\\n区块链在供应链中的应用，比如可信的库存追踪系统，确保产品真实性，减少假冒伪劣产品的风险，这对于消费者信任很重要。\\n\\n身份认证技术的创新，结合区块链和AI，能更安全可靠地验证身份，减少欺诈行为。这在银行、保险公司等机构中会很重要。\\n\\n绿色投资的趋势持续，越来越多的人关注环保和可持续发展，通过ESG指标选择投资标的，推动更多企业采用环保措施。\\n\\nDeFi的发展让传统金融机构失去了优势，用户更容易使用加密货币进行借贷和转账，甚至影响 traditional banks 的业务模式。这可能导致新的金融服务模式出现。\\n\\n智能合约在法律和合同自动化的应用，不仅节省时间，还能减少法律纠纷，确保合同准确执行。这对企业来说可能是一个效率提升的机会。\\n\\n分布式账本技术的升级版本，比如Zcash的 privacy-focused transactions，可以在不影响速度的前提下提高隐私保护，这对于用户来说很重要。\\n\\nAI在信用评分中的应用，结合大数据分析，能更精准地评估风险，降低贷款拒贷率，对传统金融机构业务模式有挑战。\\n\\n绿色投资和可持续发展成为投资趋势的核心，企业通过ESG指标选择投资标的，推动更多创新项目融资，促进经济发展的同时减少环境影响。\\n\\n智能合约的应用扩展到法律合同自动化，不仅能提高效率，还能减少纠纷，这对企业运营至关重要。\\n\\n分布式账本技术的升级版本，比如Zcash，可以在保障隐私的同时提升交易速度和安全性，这对于用户隐私保护很重要。\\n\\nAI在信用评分中的应用，结合大数据分析，提高了评估准确性，减少了错误率。这对金融机构来说是一个重要的挑战和机遇。\\n\\n总结一下，最近金融科技的发展主要集中在技术创新和扩展应用场景上，同时关注可持续发展和社会责任。这些趋势会推动金融行业的变革，并影响更多人的生活。\\n</think>\\n\\n近年来，金融技术（FinTech）经历了许多创新和发展。以下是一些最新的趋势：\\n\\n1. **区块链的扩展应用**：区块链不仅限于加密货币，还被用于货物交易、服务互换和 more-to-more 转换，为多个行业提供了新的解决方案。\\n\\n2. **人工智能的应用**：AI在风险管理、欺诈检测和信用评分中发挥重要作用。它能够分析大量数据，提高预测模型的准确性，并快速决策。\\n\\n3. **智能合约技术**：特别是在去中心化金融（DeFi）领域，智能合约自动化执行交易，降低了信任成本，促进了借贷、投资等创新应用。\\n\\n4. **数字身份识别技术**：结合区块链，生物识别技术如虹膜和指纹在身份验证中广泛应用，增强了安全性。\\n\\n5. **绿色金融科技**：关注可持续发展，ESG（环境、社会、治理）投资和碳交易成为推动环保项目融资的重要工具。\\n\\n6. **智能合约的扩展应用**：未来可能延伸到法律合同自动化、供应链管理和 more 各种场景，提升效率和透明度。\\n\\n7. **分布式账本技术升级**：Layer 2 解决方案提升了区块链的速度和安全性，传统金融机构也在探索这些技术以提高效率。\\n\\n8. **AI在风险管理中的作用**：实时监控市场波动，提前识别风险，对银行和保险公司的服务有显著提升。\\n\\n9. **去中心化交易所的发展**：降低了门槛，使普通用户也能参与投资，推动普惠金融。\\n\\n10. **AI在信用评分中的应用**：准确评估风险，减少错误率，影响传统金融机构的业务模式。\\n\\n11. **区块链在供应链中的应用**：可信库存追踪系统确保产品真实性，提升消费者信任。\\n\\n12. **身份认证技术创新**：结合区块链和 AI，提高身份验证的安全性，减少欺诈行为。\\n\\n13. **绿色投资趋势**：ESG 指标成为投资选择的重要标准，推动企业采用环保措施。\\n\\n14. **DeFi 的发展挑战传统金融机构**：用户倾向于使用加密货币进行借贷和转账，影响传统金融机构的商业模式。\\n\\n15. **智能合约在法律中的应用**：节省时间，减少纠纷，确保合同准确执行，提升企业运营效率。\\n\\n16. **分布式账本技术升级版本**：如 Zcash 提供隐私保护的同时提升了速度和安全性，满足用户隐私需求。\\n\\n17. **AI在信用评分中的应用**：结合大数据分析，精准评估风险，影响金融机构的业务模式。\\n\\n这些趋势表明，金融科技正在以技术创新为驱动，扩展应用场景，并推动可持续发展和社会责任。这些变革不仅改变了金融行业，也对个人生活和经济产生深远影响。' additional_kwargs={} response_metadata={'model': 'deepseek-r1:7b', 'created_at': '2025-08-09T15:42:32.553739948Z', 'done': True, 'done_reason': 'stop', 'total_duration': 1035882394244, 'load_duration': 159831099, 'prompt_eval_count': 16, 'prompt_eval_duration': 1175236690, 'eval_count': 1309, 'eval_duration': 1034545931882, 'model_name': 'deepseek-r1:7b'} id='run--9a03c24c-1484-42d8-8d2c-c6efc766387b-0' usage_metadata={'input_tokens': 16, 'output_tokens': 1309, 'total_tokens': 1325}\n"
          ]
        }
      ]
    },
    {
      "cell_type": "code",
      "source": [
        "def fetch_data():\n",
        "  # 上海证券交易所：SS  深交所：SZ\n",
        "  # 或者，深圳证券交易所，泸州老窖公司股票代码\n",
        "  # luzhou_laojiao_szse = yf.Ticker('000568.SZ')\n",
        "\n",
        "  # 获取茅台公司股票数据\n",
        "  maotai_data = yf.download(\"600048.SS\", start=\"2025-01-01\", end=\"2025-08-08\")\n",
        "\n",
        "  # 打印数据的前几行\n",
        "  print(maotai_data.tail())\n",
        "\n",
        "fetch_data()"
      ],
      "metadata": {
        "colab": {
          "base_uri": "https://localhost:8080/"
        },
        "id": "Bvaks3QDcSrj",
        "outputId": "f14616d7-b621-46eb-df7e-fa6630907bc4"
      },
      "id": "Bvaks3QDcSrj",
      "execution_count": 15,
      "outputs": [
        {
          "output_type": "stream",
          "name": "stderr",
          "text": [
            "/tmp/ipython-input-2411403609.py:7: FutureWarning: YF.download() has changed argument auto_adjust default to True\n",
            "  maotai_data = yf.download(\"600048.SS\", start=\"2025-01-01\", end=\"2025-08-08\")\n",
            "[*********************100%***********************]  1 of 1 completed"
          ]
        },
        {
          "output_type": "stream",
          "name": "stdout",
          "text": [
            "Price          Close      High       Low      Open     Volume\n",
            "Ticker     600048.SS 600048.SS 600048.SS 600048.SS  600048.SS\n",
            "Date                                                         \n",
            "2025-08-01      7.95      8.01      7.92      7.97  111441292\n",
            "2025-08-04      7.99      7.99      7.93      7.99   89911883\n",
            "2025-08-05      8.04      8.05      7.97      7.99  100854527\n",
            "2025-08-06      8.01      8.03      7.97      8.03   79003224\n",
            "2025-08-07      8.04      8.05      7.95      8.00  113334525\n"
          ]
        },
        {
          "output_type": "stream",
          "name": "stderr",
          "text": [
            "\n"
          ]
        }
      ]
    }
  ],
  "metadata": {
    "kernelspec": {
      "display_name": "Python 3 (ipykernel)",
      "language": "python",
      "name": "python3"
    },
    "language_info": {
      "codemirror_mode": {
        "name": "ipython",
        "version": 3
      },
      "file_extension": ".py",
      "mimetype": "text/x-python",
      "name": "python",
      "nbconvert_exporter": "python",
      "pygments_lexer": "ipython3",
      "version": "3.13.5"
    },
    "colab": {
      "provenance": []
    }
  },
  "nbformat": 4,
  "nbformat_minor": 5
}