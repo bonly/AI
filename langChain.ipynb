{
 "cells": [
  {
   "cell_type": "markdown",
   "id": "c4e1b477-982d-4459-8a6e-a491b8d87e65",
   "metadata": {},
   "source": [
    "<a href=\"https://colab.research.google.com/github/bonly/AI/blob/main/langChain.ipynb\" target=\"_parent\"><img src=\"https://colab.research.google.com/assets/colab-badge.svg\" alt=\"Open In Colab\"/></a>"
   ]
  },
  {
   "cell_type": "code",
   "execution_count": null,
   "id": "6b422794-90fc-4faf-b661-f3305846936f",
   "metadata": {},
   "outputs": [],
   "source": [
    "!pip install ollama langchain pandas matplotlib seaborn plotly dash"
   ]
  },
  {
   "cell_type": "code",
   "execution_count": null,
   "id": "df01faa7-a31c-49c1-a277-beaeffe10d4e",
   "metadata": {},
   "outputs": [],
   "source": []
  }
 ],
 "metadata": {
  "kernelspec": {
   "display_name": "Python 3 (ipykernel)",
   "language": "python",
   "name": "python3"
  },
  "language_info": {
   "codemirror_mode": {
    "name": "ipython",
    "version": 3
   },
   "file_extension": ".py",
   "mimetype": "text/x-python",
   "name": "python",
   "nbconvert_exporter": "python",
   "pygments_lexer": "ipython3",
   "version": "3.13.5"
  }
 },
 "nbformat": 4,
 "nbformat_minor": 5
}
