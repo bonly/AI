{
  "cells": [
    {
      "cell_type": "raw",
      "id": "6314ed5a-5f6d-440d-9bd1-771a850967ce",
      "metadata": {
        "id": "6314ed5a-5f6d-440d-9bd1-771a850967ce"
      },
      "source": [
        "<a href=\"https://colab.research.google.com/github/bonly/AI/blob/main/train.ipynb\" target=\"_parent\"><img src=\"https://colab.research.google.com/assets/colab-badge.svg\" alt=\"Open In Colab\"/></a>"
      ]
    },
    {
      "cell_type": "markdown",
      "source": [
        "# 环境库"
      ],
      "metadata": {
        "id": "xH6MRaWUuOQr"
      },
      "id": "xH6MRaWUuOQr"
    },
    {
      "cell_type": "code",
      "source": [
        "%pip install akshare --upgrade"
      ],
      "metadata": {
        "colab": {
          "base_uri": "https://localhost:8080/"
        },
        "id": "XNCTp92AodBq",
        "outputId": "7c5cf562-eaaf-4d0d-c137-42fcb514e903"
      },
      "id": "XNCTp92AodBq",
      "execution_count": 1,
      "outputs": [
        {
          "output_type": "stream",
          "name": "stdout",
          "text": [
            "Collecting akshare\n",
            "  Downloading akshare-1.17.35-py3-none-any.whl.metadata (11 kB)\n",
            "Requirement already satisfied: aiohttp>=3.11.13 in /usr/local/lib/python3.11/dist-packages (from akshare) (3.12.15)\n",
            "Requirement already satisfied: beautifulsoup4>=4.9.1 in /usr/local/lib/python3.11/dist-packages (from akshare) (4.13.4)\n",
            "Requirement already satisfied: lxml>=4.2.1 in /usr/local/lib/python3.11/dist-packages (from akshare) (5.4.0)\n",
            "Requirement already satisfied: pandas>=0.25 in /usr/local/lib/python3.11/dist-packages (from akshare) (2.2.2)\n",
            "Requirement already satisfied: requests>=2.22.0 in /usr/local/lib/python3.11/dist-packages (from akshare) (2.32.3)\n",
            "Requirement already satisfied: html5lib>=1.0.1 in /usr/local/lib/python3.11/dist-packages (from akshare) (1.1)\n",
            "Requirement already satisfied: xlrd>=1.2.0 in /usr/local/lib/python3.11/dist-packages (from akshare) (2.0.2)\n",
            "Requirement already satisfied: urllib3>=1.25.8 in /usr/local/lib/python3.11/dist-packages (from akshare) (2.5.0)\n",
            "Requirement already satisfied: tqdm>=4.43.0 in /usr/local/lib/python3.11/dist-packages (from akshare) (4.67.1)\n",
            "Requirement already satisfied: openpyxl>=3.0.3 in /usr/local/lib/python3.11/dist-packages (from akshare) (3.1.5)\n",
            "Collecting jsonpath>=0.82 (from akshare)\n",
            "  Downloading jsonpath-0.82.2.tar.gz (10 kB)\n",
            "  Preparing metadata (setup.py) ... \u001b[?25l\u001b[?25hdone\n",
            "Requirement already satisfied: tabulate>=0.8.6 in /usr/local/lib/python3.11/dist-packages (from akshare) (0.9.0)\n",
            "Requirement already satisfied: decorator>=4.4.2 in /usr/local/lib/python3.11/dist-packages (from akshare) (4.4.2)\n",
            "Requirement already satisfied: nest_asyncio>=1.6.0 in /usr/local/lib/python3.11/dist-packages (from akshare) (1.6.0)\n",
            "Collecting py-mini-racer>=0.6.0 (from akshare)\n",
            "  Downloading py_mini_racer-0.6.0-py2.py3-none-manylinux1_x86_64.whl.metadata (8.7 kB)\n",
            "Collecting akracer>=0.0.13 (from akracer[py-mini-racer]>=0.0.13; platform_system == \"Linux\"->akshare)\n",
            "  Downloading akracer-0.0.13-py3-none-any.whl.metadata (2.8 kB)\n",
            "Requirement already satisfied: aiohappyeyeballs>=2.5.0 in /usr/local/lib/python3.11/dist-packages (from aiohttp>=3.11.13->akshare) (2.6.1)\n",
            "Requirement already satisfied: aiosignal>=1.4.0 in /usr/local/lib/python3.11/dist-packages (from aiohttp>=3.11.13->akshare) (1.4.0)\n",
            "Requirement already satisfied: attrs>=17.3.0 in /usr/local/lib/python3.11/dist-packages (from aiohttp>=3.11.13->akshare) (25.3.0)\n",
            "Requirement already satisfied: frozenlist>=1.1.1 in /usr/local/lib/python3.11/dist-packages (from aiohttp>=3.11.13->akshare) (1.7.0)\n",
            "Requirement already satisfied: multidict<7.0,>=4.5 in /usr/local/lib/python3.11/dist-packages (from aiohttp>=3.11.13->akshare) (6.6.4)\n",
            "Requirement already satisfied: propcache>=0.2.0 in /usr/local/lib/python3.11/dist-packages (from aiohttp>=3.11.13->akshare) (0.3.2)\n",
            "Requirement already satisfied: yarl<2.0,>=1.17.0 in /usr/local/lib/python3.11/dist-packages (from aiohttp>=3.11.13->akshare) (1.20.1)\n",
            "\u001b[33mWARNING: akracer 0.0.13 does not provide the extra 'py-mini-racer'\u001b[0m\u001b[33m\n",
            "\u001b[0mRequirement already satisfied: soupsieve>1.2 in /usr/local/lib/python3.11/dist-packages (from beautifulsoup4>=4.9.1->akshare) (2.7)\n",
            "Requirement already satisfied: typing-extensions>=4.0.0 in /usr/local/lib/python3.11/dist-packages (from beautifulsoup4>=4.9.1->akshare) (4.14.1)\n",
            "Requirement already satisfied: six>=1.9 in /usr/local/lib/python3.11/dist-packages (from html5lib>=1.0.1->akshare) (1.17.0)\n",
            "Requirement already satisfied: webencodings in /usr/local/lib/python3.11/dist-packages (from html5lib>=1.0.1->akshare) (0.5.1)\n",
            "Requirement already satisfied: et-xmlfile in /usr/local/lib/python3.11/dist-packages (from openpyxl>=3.0.3->akshare) (2.0.0)\n",
            "Requirement already satisfied: numpy>=1.23.2 in /usr/local/lib/python3.11/dist-packages (from pandas>=0.25->akshare) (2.0.2)\n",
            "Requirement already satisfied: python-dateutil>=2.8.2 in /usr/local/lib/python3.11/dist-packages (from pandas>=0.25->akshare) (2.9.0.post0)\n",
            "Requirement already satisfied: pytz>=2020.1 in /usr/local/lib/python3.11/dist-packages (from pandas>=0.25->akshare) (2025.2)\n",
            "Requirement already satisfied: tzdata>=2022.7 in /usr/local/lib/python3.11/dist-packages (from pandas>=0.25->akshare) (2025.2)\n",
            "Requirement already satisfied: charset-normalizer<4,>=2 in /usr/local/lib/python3.11/dist-packages (from requests>=2.22.0->akshare) (3.4.3)\n",
            "Requirement already satisfied: idna<4,>=2.5 in /usr/local/lib/python3.11/dist-packages (from requests>=2.22.0->akshare) (3.10)\n",
            "Requirement already satisfied: certifi>=2017.4.17 in /usr/local/lib/python3.11/dist-packages (from requests>=2.22.0->akshare) (2025.8.3)\n",
            "Downloading akshare-1.17.35-py3-none-any.whl (1.1 MB)\n",
            "\u001b[2K   \u001b[90m━━━━━━━━━━━━━━━━━━━━━━━━━━━━━━━━━━━━━━━━\u001b[0m \u001b[32m1.1/1.1 MB\u001b[0m \u001b[31m16.4 MB/s\u001b[0m eta \u001b[36m0:00:00\u001b[0m\n",
            "\u001b[?25hDownloading akracer-0.0.13-py3-none-any.whl (10.1 MB)\n",
            "\u001b[2K   \u001b[90m━━━━━━━━━━━━━━━━━━━━━━━━━━━━━━━━━━━━━━━━\u001b[0m \u001b[32m10.1/10.1 MB\u001b[0m \u001b[31m34.8 MB/s\u001b[0m eta \u001b[36m0:00:00\u001b[0m\n",
            "\u001b[?25hDownloading py_mini_racer-0.6.0-py2.py3-none-manylinux1_x86_64.whl (5.4 MB)\n",
            "\u001b[2K   \u001b[90m━━━━━━━━━━━━━━━━━━━━━━━━━━━━━━━━━━━━━━━━\u001b[0m \u001b[32m5.4/5.4 MB\u001b[0m \u001b[31m32.4 MB/s\u001b[0m eta \u001b[36m0:00:00\u001b[0m\n",
            "\u001b[?25hBuilding wheels for collected packages: jsonpath\n",
            "  Building wheel for jsonpath (setup.py) ... \u001b[?25l\u001b[?25hdone\n",
            "  Created wheel for jsonpath: filename=jsonpath-0.82.2-py3-none-any.whl size=5615 sha256=3e14c88ef36c94367a38f8ef0ae9166787a937596800f8329009332cf7695f74\n",
            "  Stored in directory: /root/.cache/pip/wheels/7d/b8/16/48bbd715040679311fa68cb564ad24a97d9a67fea5d4c848c8\n",
            "Successfully built jsonpath\n",
            "Installing collected packages: py-mini-racer, jsonpath, akracer, akshare\n",
            "Successfully installed akracer-0.0.13 akshare-1.17.35 jsonpath-0.82.2 py-mini-racer-0.6.0\n"
          ]
        }
      ]
    },
    {
      "cell_type": "code",
      "source": [
        "import akshare as ak;\n",
        "import numpy as np\n",
        "import pandas as pd"
      ],
      "metadata": {
        "id": "YmYBbwvYnx8A"
      },
      "id": "YmYBbwvYnx8A",
      "execution_count": 1,
      "outputs": []
    },
    {
      "cell_type": "markdown",
      "source": [
        "# 数据"
      ],
      "metadata": {
        "id": "lwV-du23uTKu"
      },
      "id": "lwV-du23uTKu"
    },
    {
      "cell_type": "code",
      "source": [
        "from pylab import plt\n",
        "plt.style.use('seaborn-v0_8')\n",
        "%config InlineBackend.figure_format = 'svg'"
      ],
      "metadata": {
        "id": "40uroCLHoC-5"
      },
      "id": "40uroCLHoC-5",
      "execution_count": 2,
      "outputs": []
    },
    {
      "cell_type": "code",
      "source": [
        "data = ak.stock_zh_a_minute(symbol='sz300188', period='1')"
      ],
      "metadata": {
        "id": "zAm8Z8AroP6N"
      },
      "id": "zAm8Z8AroP6N",
      "execution_count": 3,
      "outputs": []
    },
    {
      "cell_type": "code",
      "source": [
        "print(data.tail(10));"
      ],
      "metadata": {
        "colab": {
          "base_uri": "https://localhost:8080/"
        },
        "id": "ZhzK0BOqt2l6",
        "outputId": "fa1193c4-0e55-48ba-cad2-36e28cad3913"
      },
      "id": "ZhzK0BOqt2l6",
      "execution_count": 4,
      "outputs": [
        {
          "output_type": "stream",
          "name": "stdout",
          "text": [
            "                      day    open    high     low   close   volume\n",
            "1960  2025-08-15 14:49:00  18.790  18.890  18.780  18.850   602413\n",
            "1961  2025-08-15 14:50:00  18.810  18.850  18.750  18.750   568087\n",
            "1962  2025-08-15 14:51:00  18.750  18.820  18.730  18.770   554300\n",
            "1963  2025-08-15 14:52:00  18.790  18.930  18.770  18.920  1008692\n",
            "1964  2025-08-15 14:53:00  18.930  19.080  18.920  19.070  1002700\n",
            "1965  2025-08-15 14:54:00  19.070  19.090  18.830  18.830  1386500\n",
            "1966  2025-08-15 14:55:00  18.830  18.980  18.780  18.950   713812\n",
            "1967  2025-08-15 14:56:00  18.930  18.960  18.830  18.890   614088\n",
            "1968  2025-08-15 14:57:00  18.890  18.890  18.770  18.840   856900\n",
            "1969  2025-08-15 15:00:00  18.850  18.850  18.850  18.850  1238200\n"
          ]
        }
      ]
    },
    {
      "cell_type": "code",
      "source": [
        "data['open'] = data['open'].astype(np.float64);\n",
        "data['high'] = data['high'].astype(np.float64);\n",
        "data['low'] = data['low'].astype(np.float64);\n",
        "data['volume'] = data['volume'].astype(np.int64);\n",
        "data['day'] = pd.to_datetime(data['day']);"
      ],
      "metadata": {
        "id": "SgmY1s4-wAwt"
      },
      "id": "SgmY1s4-wAwt",
      "execution_count": 22,
      "outputs": []
    },
    {
      "cell_type": "code",
      "source": [
        "data['close'] = pd.to_numeric(data['close']);\n",
        "data['r'] = np.log(data['close'] / data['close'].shift(1));\n",
        "data['d'] = np.sign(data['r']);"
      ],
      "metadata": {
        "id": "SMDcItjUtSOM"
      },
      "id": "SMDcItjUtSOM",
      "execution_count": 11,
      "outputs": []
    },
    {
      "cell_type": "markdown",
      "source": [
        "# 策略"
      ],
      "metadata": {
        "id": "-ZJsi3qUuXQT"
      },
      "id": "-ZJsi3qUuXQT"
    },
    {
      "cell_type": "code",
      "source": [
        "lags = 3"
      ],
      "metadata": {
        "id": "Ki0_rA52u68U"
      },
      "id": "Ki0_rA52u68U",
      "execution_count": 12,
      "outputs": []
    },
    {
      "cell_type": "code",
      "source": [
        "cols = list()\n",
        "for lag in range(1, lags + 1):\n",
        "    col = f'lag_{lag}'\n",
        "    data[col] = data['r'].shift(lag)\n",
        "    cols.append(col)"
      ],
      "metadata": {
        "id": "pKCxWJVetu6h"
      },
      "id": "pKCxWJVetu6h",
      "execution_count": 13,
      "outputs": []
    },
    {
      "cell_type": "markdown",
      "source": [
        "代码的作用是在 data 这个 DataFrame 中创建滞后的收益率列。\n",
        "\n",
        "* 首先，它初始化了一个名为 cols 的空列表，用来存储后面创建的列名。\n",
        "* 然后，它会循环 lags 次（这里 lags 的值是 3）。\n",
        "* 在每次循环中，它会根据当前的 lag 值创建一个新的列名，例如 'lag_1', 'lag_2', 'lag_3'。\n",
        "* 接着，它会在 data DataFrame 中创建一个新的列，列名就是刚刚生成的。这一列的值是 'r' 列（收益率列）向下移动 lag 行得到的结果。这样就创建了包含过去收益率值的列。\n",
        "* 最后，它将新创建的列名添加到 cols 列表中。\n",
        "\n",
        "这段代码运行后，data DataFrame 中会增加名为 'lag_1', 'lag_2' 和 'lag_3' 的新列，它们分别包含前 1、2 和 3 个时间段的收益率数据。"
      ],
      "metadata": {
        "id": "EGhedFveAes_"
      },
      "id": "EGhedFveAes_"
    },
    {
      "cell_type": "code",
      "source": [
        "print(data.head(10));"
      ],
      "metadata": {
        "colab": {
          "base_uri": "https://localhost:8080/"
        },
        "id": "CsLXnZxLu9tz",
        "outputId": "852bcdba-c031-413d-c7fd-4b67cee503b9"
      },
      "id": "CsLXnZxLu9tz",
      "execution_count": 23,
      "outputs": [
        {
          "output_type": "stream",
          "name": "stdout",
          "text": [
            "                   day   open   high    low  close  volume         r  d  \\\n",
            "4  2025-08-05 13:57:00  17.04  17.06  17.03  17.04   86800  0.000000  0   \n",
            "5  2025-08-05 13:58:00  17.05  17.10  17.05  17.09   99500  0.002930  1   \n",
            "6  2025-08-05 13:59:00  17.10  17.10  17.09  17.10   24100  0.000585  1   \n",
            "7  2025-08-05 14:00:00  17.09  17.11  17.08  17.09   37300 -0.000585 -1   \n",
            "8  2025-08-05 14:01:00  17.09  17.11  17.08  17.11   46800  0.001170  1   \n",
            "9  2025-08-05 14:02:00  17.11  17.11  17.08  17.10   68800 -0.000585 -1   \n",
            "10 2025-08-05 14:03:00  17.10  17.11  17.10  17.11   31500  0.000585  1   \n",
            "11 2025-08-05 14:04:00  17.11  17.13  17.10  17.11   69300  0.000000  0   \n",
            "12 2025-08-05 14:05:00  17.11  17.12  17.11  17.11   47500  0.000000  0   \n",
            "13 2025-08-05 14:06:00  17.11  17.12  17.11  17.11   25600  0.000000  0   \n",
            "\n",
            "       lag_1     lag_2     lag_3  \n",
            "4  -0.001759 -0.001171 -0.001170  \n",
            "5   0.000000 -0.001759 -0.001171  \n",
            "6   0.002930  0.000000 -0.001759  \n",
            "7   0.000585  0.002930  0.000000  \n",
            "8  -0.000585  0.000585  0.002930  \n",
            "9   0.001170 -0.000585  0.000585  \n",
            "10 -0.000585  0.001170 -0.000585  \n",
            "11  0.000585 -0.000585  0.001170  \n",
            "12  0.000000  0.000585 -0.000585  \n",
            "13  0.000000  0.000000  0.000585  \n"
          ]
        }
      ]
    },
    {
      "cell_type": "code",
      "source": [
        "data.dropna(inplace=True); #删除 DataFrame 中所有包含缺失值（NaN）的行"
      ],
      "metadata": {
        "id": "gonEks_iAy2U"
      },
      "id": "gonEks_iAy2U",
      "execution_count": 15,
      "outputs": []
    },
    {
      "cell_type": "code",
      "source": [
        "data['d'] = data['d'].astype(int); #将 data DataFrame 中 'd' 列的数据类型转换为整数"
      ],
      "metadata": {
        "id": "GUGqP0VTBUQ0"
      },
      "id": "GUGqP0VTBUQ0",
      "execution_count": 16,
      "outputs": []
    },
    {
      "cell_type": "markdown",
      "source": [
        "# 拆分出训练数据和验证数据"
      ],
      "metadata": {
        "id": "lNVzpYBjB9Sh"
      },
      "id": "lNVzpYBjB9Sh"
    },
    {
      "cell_type": "code",
      "source": [
        "split = int(len(data) * 0.8); #计算用于将数据集分割成训练集和测试集的索引位置"
      ],
      "metadata": {
        "id": "ZweONtStCACt"
      },
      "id": "ZweONtStCACt",
      "execution_count": 17,
      "outputs": []
    },
    {
      "cell_type": "code",
      "source": [
        "print(split);"
      ],
      "metadata": {
        "colab": {
          "base_uri": "https://localhost:8080/"
        },
        "id": "JtduxmxTCjMQ",
        "outputId": "7cad8b9d-5183-4f9d-991f-6d37fa579828"
      },
      "id": "JtduxmxTCjMQ",
      "execution_count": 18,
      "outputs": [
        {
          "output_type": "stream",
          "name": "stdout",
          "text": [
            "1572\n"
          ]
        }
      ]
    },
    {
      "cell_type": "markdown",
      "source": [
        "将数据分割成 80% 的训练集和 20% 的测试集"
      ],
      "metadata": {
        "id": "YejxYhjOCvtT"
      },
      "id": "YejxYhjOCvtT"
    },
    {
      "cell_type": "markdown",
      "source": [
        "## 准备训练数据"
      ],
      "metadata": {
        "id": "U5JXOLbR2yQc"
      },
      "id": "U5JXOLbR2yQc"
    },
    {
      "cell_type": "code",
      "source": [
        "train = data.iloc[:split].copy(); #从第一行开始，split 表示到 split 索引（不包含该行）为止,复制一份到训练中"
      ],
      "metadata": {
        "id": "QmdWcfd2C4Ct"
      },
      "id": "QmdWcfd2C4Ct",
      "execution_count": 19,
      "outputs": []
    },
    {
      "cell_type": "code",
      "source": [
        "mu, std = train.drop('day', axis=1).mean(), train.drop('day', axis=1).std(); #计算得出两数组"
      ],
      "metadata": {
        "id": "cj1r7n1MEFZI"
      },
      "id": "cj1r7n1MEFZI",
      "execution_count": 21,
      "outputs": []
    },
    {
      "cell_type": "markdown",
      "source": [
        "* mean() 平均值\n",
        "* std() 标准差，衡量数据的离散程度。"
      ],
      "metadata": {
        "id": "SSnWWKj4tauP"
      },
      "id": "SSnWWKj4tauP"
    },
    {
      "cell_type": "markdown",
      "source": [
        "计算训练集的均值和标准差通常是数据预处理的一个重要步骤，特别是当您需要对数据进行标准化（Standardization）或归一化（Normalization）时。\n",
        "\n",
        "使用训练集的统计信息来转换训练集和测试集可以避免数据泄露（Data Leakage），即测试集的信息“泄露”到训练过程中。"
      ],
      "metadata": {
        "id": "0u5AlD_CtUGn"
      },
      "id": "0u5AlD_CtUGn"
    },
    {
      "cell_type": "code",
      "source": [
        "print(train.head(10));"
      ],
      "metadata": {
        "colab": {
          "base_uri": "https://localhost:8080/"
        },
        "id": "-LfBHyewyz1_",
        "outputId": "962b74aa-5754-41d0-bc75-172dd160f97e"
      },
      "id": "-LfBHyewyz1_",
      "execution_count": 28,
      "outputs": [
        {
          "output_type": "stream",
          "name": "stdout",
          "text": [
            "                    day   open   high    low  close  volume         r  d  \\\n",
            "4   2025-08-05 13:57:00  17.04  17.06  17.03  17.04   86800  0.000000  0   \n",
            "5   2025-08-05 13:58:00  17.05  17.10  17.05  17.09   99500  0.002930  1   \n",
            "6   2025-08-05 13:59:00  17.10  17.10  17.09  17.10   24100  0.000585  1   \n",
            "7   2025-08-05 14:00:00  17.09  17.11  17.08  17.09   37300 -0.000585 -1   \n",
            "8   2025-08-05 14:01:00  17.09  17.11  17.08  17.11   46800  0.001170  1   \n",
            "9   2025-08-05 14:02:00  17.11  17.11  17.08  17.10   68800 -0.000585 -1   \n",
            "10  2025-08-05 14:03:00  17.10  17.11  17.10  17.11   31500  0.000585  1   \n",
            "11  2025-08-05 14:04:00  17.11  17.13  17.10  17.11   69300  0.000000  0   \n",
            "12  2025-08-05 14:05:00  17.11  17.12  17.11  17.11   47500  0.000000  0   \n",
            "13  2025-08-05 14:06:00  17.11  17.12  17.11  17.11   25600  0.000000  0   \n",
            "\n",
            "       lag_1     lag_2     lag_3  \n",
            "4  -0.001759 -0.001171 -0.001170  \n",
            "5   0.000000 -0.001759 -0.001171  \n",
            "6   0.002930  0.000000 -0.001759  \n",
            "7   0.000585  0.002930  0.000000  \n",
            "8  -0.000585  0.000585  0.002930  \n",
            "9   0.001170 -0.000585  0.000585  \n",
            "10 -0.000585  0.001170 -0.000585  \n",
            "11  0.000585 -0.000585  0.001170  \n",
            "12  0.000000  0.000585 -0.000585  \n",
            "13  0.000000  0.000000  0.000585  \n"
          ]
        }
      ]
    },
    {
      "cell_type": "code",
      "source": [
        "print(mu);\n",
        "print(std);"
      ],
      "metadata": {
        "id": "q5QGgHOBzRRT"
      },
      "id": "q5QGgHOBzRRT",
      "execution_count": null,
      "outputs": []
    },
    {
      "cell_type": "code",
      "source": [
        "train_ = (train - mu) / std;"
      ],
      "metadata": {
        "id": "166hSa6WtwPj"
      },
      "id": "166hSa6WtwPj",
      "execution_count": 26,
      "outputs": []
    },
    {
      "cell_type": "code",
      "source": [
        "print(train_.tail(10));"
      ],
      "metadata": {
        "colab": {
          "base_uri": "https://localhost:8080/"
        },
        "id": "prU0DI9e0R9F",
        "outputId": "24dfb12d-644e-485f-fb74-c644cc3eaa0f"
      },
      "id": "prU0DI9e0R9F",
      "execution_count": 40,
      "outputs": [
        {
          "output_type": "stream",
          "name": "stdout",
          "text": [
            "         close         d  day      high     lag_1     lag_2     lag_3  \\\n",
            "1566  4.647355  0.041636  NaN  4.560383 -0.030409 -0.030499 -0.029738   \n",
            "1567  4.647355  0.041636  NaN  4.560383 -0.030409 -0.030499 -0.029738   \n",
            "1568  4.647355  0.041636  NaN  4.560383 -0.030409 -0.030499 -0.029738   \n",
            "1569  4.647355  0.041636  NaN  4.560383 -0.030409 -0.030499 -0.029738   \n",
            "1570  4.212153 -1.127158  NaN  4.560383 -0.030409 -0.030499 -0.029738   \n",
            "1571  4.048952 -1.127158  NaN  4.292056 -6.050519 -0.030499 -0.029738   \n",
            "1572  3.912952 -1.127158  NaN  4.077394 -2.313299 -6.050894 -0.029738   \n",
            "1573  3.967352  1.210431  NaN  4.050561 -1.943575 -2.313497 -6.050757   \n",
            "1574  3.926552 -1.127158  NaN  3.916397  0.736038 -1.943755 -2.312973   \n",
            "1575  4.212153  1.210431  NaN  4.131059 -0.605097  0.735984 -1.943192   \n",
            "\n",
            "           low      open         r    volume  \n",
            "1566  4.771088  4.679983 -0.033212 -0.171582  \n",
            "1567  4.771088  4.679983 -0.033212 -0.062146  \n",
            "1568  4.771088  4.679983 -0.033212 -0.088817  \n",
            "1569  4.771088  4.679983 -0.033212  0.479526  \n",
            "1570  4.313004  4.679983 -6.024202  2.887799  \n",
            "1571  4.146428  4.241986 -2.305059  2.541528  \n",
            "1572  3.993733  4.077737 -1.937123  2.058428  \n",
            "1573  3.993733  3.913488  0.729528  1.813918  \n",
            "1574  3.938208  3.995612 -0.605119  1.884026  \n",
            "1575  4.021496  3.940863  3.951716  1.368414  \n"
          ]
        }
      ]
    },
    {
      "cell_type": "markdown",
      "source": [
        "## 准备验证数据"
      ],
      "metadata": {
        "id": "F9KTYnjf2gwR"
      },
      "id": "F9KTYnjf2gwR"
    },
    {
      "cell_type": "code",
      "source": [
        "test = data.iloc[split:].copy(); #%20的测试数据\n",
        "test_ = (test.drop('day', axis=1) - mu) / std"
      ],
      "metadata": {
        "id": "hwt76WsP00nx"
      },
      "id": "hwt76WsP00nx",
      "execution_count": 31,
      "outputs": []
    },
    {
      "cell_type": "markdown",
      "source": [
        "# 训练"
      ],
      "metadata": {
        "id": "1CV2MAH43UPb"
      },
      "id": "1CV2MAH43UPb"
    },
    {
      "cell_type": "code",
      "source": [
        "from sklearn.neural_network import MLPClassifier\n",
        "from sklearn.metrics import accuracy_score"
      ],
      "metadata": {
        "id": "3lY5OKwe3eX2"
      },
      "id": "3lY5OKwe3eX2",
      "execution_count": 32,
      "outputs": []
    },
    {
      "cell_type": "markdown",
      "source": [
        "* MLPClassifier 是用于分类任务的多层感知器（Multilayer Perceptron）模型，也就是一种神经网络模型。\n",
        "* accuracy_score 是一个评估分类模型性能的指标，它计算模型预测的准确率，即正确预测的样本占总样本数的比例。"
      ],
      "metadata": {
        "id": "Hgl8hnwP3rba"
      },
      "id": "Hgl8hnwP3rba"
    },
    {
      "cell_type": "code",
      "source": [
        "model = MLPClassifier(hidden_layer_sizes=[24],\n",
        "                      shuffle=False,\n",
        "                      max_iter=500)"
      ],
      "metadata": {
        "id": "zLVHOTAd3yCW"
      },
      "id": "zLVHOTAd3yCW",
      "execution_count": 33,
      "outputs": []
    },
    {
      "cell_type": "markdown",
      "source": [
        "* model = MLPClassifier(...): 创建一个 MLPClassifier 对象，并将其赋值给变量 model。\n",
        "* hidden_layer_sizes=[24]: 这个参数指定了神经网络中隐藏层的结构。[24] 表示模型有一个隐藏层，这个隐藏层有 24 个神经元。您可以根据需要调整隐藏层的数量和每个隐藏层的神经元数量。\n",
        "* shuffle=False: 这个参数控制在每次迭代训练时是否打乱训练数据的顺序。在这里设置为 False 意味着数据将按照原始顺序进行训练。在时间序列数据中，通常不打乱数据顺序，以保留时间上的依赖性。\n",
        "* max_iter=500: 这个参数指定了模型训练的最大迭代次数（epochs）。模型会在最多进行 500 次完整的训练数据遍历后停止训练。如果模型在达到最大迭代次数之前收敛（损失函数不再显著下降），训练也会提前停止。\n",
        "\n",
        "总的来说，这段代码创建了一个具有一个包含 24 个神经元的隐藏层的神经网络模型，并设置了训练时数据不打乱以及最大迭代次数为 500。这个 model 对象将在后续步骤中用于训练和预测。"
      ],
      "metadata": {
        "id": "LtYZQzmy4RRF"
      },
      "id": "LtYZQzmy4RRF"
    },
    {
      "cell_type": "code",
      "source": [
        "model.fit(train_[cols], train['d'])"
      ],
      "metadata": {
        "colab": {
          "base_uri": "https://localhost:8080/",
          "height": 81
        },
        "id": "mC3ibmix3x_f",
        "outputId": "f15d23a6-1f8f-49dc-bc39-7cb37b8e8879"
      },
      "id": "mC3ibmix3x_f",
      "execution_count": 34,
      "outputs": [
        {
          "output_type": "execute_result",
          "data": {
            "text/plain": [
              "MLPClassifier(hidden_layer_sizes=[24], max_iter=500, shuffle=False)"
            ],
            "text/html": [
              "<style>#sk-container-id-1 {\n",
              "  /* Definition of color scheme common for light and dark mode */\n",
              "  --sklearn-color-text: #000;\n",
              "  --sklearn-color-text-muted: #666;\n",
              "  --sklearn-color-line: gray;\n",
              "  /* Definition of color scheme for unfitted estimators */\n",
              "  --sklearn-color-unfitted-level-0: #fff5e6;\n",
              "  --sklearn-color-unfitted-level-1: #f6e4d2;\n",
              "  --sklearn-color-unfitted-level-2: #ffe0b3;\n",
              "  --sklearn-color-unfitted-level-3: chocolate;\n",
              "  /* Definition of color scheme for fitted estimators */\n",
              "  --sklearn-color-fitted-level-0: #f0f8ff;\n",
              "  --sklearn-color-fitted-level-1: #d4ebff;\n",
              "  --sklearn-color-fitted-level-2: #b3dbfd;\n",
              "  --sklearn-color-fitted-level-3: cornflowerblue;\n",
              "\n",
              "  /* Specific color for light theme */\n",
              "  --sklearn-color-text-on-default-background: var(--sg-text-color, var(--theme-code-foreground, var(--jp-content-font-color1, black)));\n",
              "  --sklearn-color-background: var(--sg-background-color, var(--theme-background, var(--jp-layout-color0, white)));\n",
              "  --sklearn-color-border-box: var(--sg-text-color, var(--theme-code-foreground, var(--jp-content-font-color1, black)));\n",
              "  --sklearn-color-icon: #696969;\n",
              "\n",
              "  @media (prefers-color-scheme: dark) {\n",
              "    /* Redefinition of color scheme for dark theme */\n",
              "    --sklearn-color-text-on-default-background: var(--sg-text-color, var(--theme-code-foreground, var(--jp-content-font-color1, white)));\n",
              "    --sklearn-color-background: var(--sg-background-color, var(--theme-background, var(--jp-layout-color0, #111)));\n",
              "    --sklearn-color-border-box: var(--sg-text-color, var(--theme-code-foreground, var(--jp-content-font-color1, white)));\n",
              "    --sklearn-color-icon: #878787;\n",
              "  }\n",
              "}\n",
              "\n",
              "#sk-container-id-1 {\n",
              "  color: var(--sklearn-color-text);\n",
              "}\n",
              "\n",
              "#sk-container-id-1 pre {\n",
              "  padding: 0;\n",
              "}\n",
              "\n",
              "#sk-container-id-1 input.sk-hidden--visually {\n",
              "  border: 0;\n",
              "  clip: rect(1px 1px 1px 1px);\n",
              "  clip: rect(1px, 1px, 1px, 1px);\n",
              "  height: 1px;\n",
              "  margin: -1px;\n",
              "  overflow: hidden;\n",
              "  padding: 0;\n",
              "  position: absolute;\n",
              "  width: 1px;\n",
              "}\n",
              "\n",
              "#sk-container-id-1 div.sk-dashed-wrapped {\n",
              "  border: 1px dashed var(--sklearn-color-line);\n",
              "  margin: 0 0.4em 0.5em 0.4em;\n",
              "  box-sizing: border-box;\n",
              "  padding-bottom: 0.4em;\n",
              "  background-color: var(--sklearn-color-background);\n",
              "}\n",
              "\n",
              "#sk-container-id-1 div.sk-container {\n",
              "  /* jupyter's `normalize.less` sets `[hidden] { display: none; }`\n",
              "     but bootstrap.min.css set `[hidden] { display: none !important; }`\n",
              "     so we also need the `!important` here to be able to override the\n",
              "     default hidden behavior on the sphinx rendered scikit-learn.org.\n",
              "     See: https://github.com/scikit-learn/scikit-learn/issues/21755 */\n",
              "  display: inline-block !important;\n",
              "  position: relative;\n",
              "}\n",
              "\n",
              "#sk-container-id-1 div.sk-text-repr-fallback {\n",
              "  display: none;\n",
              "}\n",
              "\n",
              "div.sk-parallel-item,\n",
              "div.sk-serial,\n",
              "div.sk-item {\n",
              "  /* draw centered vertical line to link estimators */\n",
              "  background-image: linear-gradient(var(--sklearn-color-text-on-default-background), var(--sklearn-color-text-on-default-background));\n",
              "  background-size: 2px 100%;\n",
              "  background-repeat: no-repeat;\n",
              "  background-position: center center;\n",
              "}\n",
              "\n",
              "/* Parallel-specific style estimator block */\n",
              "\n",
              "#sk-container-id-1 div.sk-parallel-item::after {\n",
              "  content: \"\";\n",
              "  width: 100%;\n",
              "  border-bottom: 2px solid var(--sklearn-color-text-on-default-background);\n",
              "  flex-grow: 1;\n",
              "}\n",
              "\n",
              "#sk-container-id-1 div.sk-parallel {\n",
              "  display: flex;\n",
              "  align-items: stretch;\n",
              "  justify-content: center;\n",
              "  background-color: var(--sklearn-color-background);\n",
              "  position: relative;\n",
              "}\n",
              "\n",
              "#sk-container-id-1 div.sk-parallel-item {\n",
              "  display: flex;\n",
              "  flex-direction: column;\n",
              "}\n",
              "\n",
              "#sk-container-id-1 div.sk-parallel-item:first-child::after {\n",
              "  align-self: flex-end;\n",
              "  width: 50%;\n",
              "}\n",
              "\n",
              "#sk-container-id-1 div.sk-parallel-item:last-child::after {\n",
              "  align-self: flex-start;\n",
              "  width: 50%;\n",
              "}\n",
              "\n",
              "#sk-container-id-1 div.sk-parallel-item:only-child::after {\n",
              "  width: 0;\n",
              "}\n",
              "\n",
              "/* Serial-specific style estimator block */\n",
              "\n",
              "#sk-container-id-1 div.sk-serial {\n",
              "  display: flex;\n",
              "  flex-direction: column;\n",
              "  align-items: center;\n",
              "  background-color: var(--sklearn-color-background);\n",
              "  padding-right: 1em;\n",
              "  padding-left: 1em;\n",
              "}\n",
              "\n",
              "\n",
              "/* Toggleable style: style used for estimator/Pipeline/ColumnTransformer box that is\n",
              "clickable and can be expanded/collapsed.\n",
              "- Pipeline and ColumnTransformer use this feature and define the default style\n",
              "- Estimators will overwrite some part of the style using the `sk-estimator` class\n",
              "*/\n",
              "\n",
              "/* Pipeline and ColumnTransformer style (default) */\n",
              "\n",
              "#sk-container-id-1 div.sk-toggleable {\n",
              "  /* Default theme specific background. It is overwritten whether we have a\n",
              "  specific estimator or a Pipeline/ColumnTransformer */\n",
              "  background-color: var(--sklearn-color-background);\n",
              "}\n",
              "\n",
              "/* Toggleable label */\n",
              "#sk-container-id-1 label.sk-toggleable__label {\n",
              "  cursor: pointer;\n",
              "  display: flex;\n",
              "  width: 100%;\n",
              "  margin-bottom: 0;\n",
              "  padding: 0.5em;\n",
              "  box-sizing: border-box;\n",
              "  text-align: center;\n",
              "  align-items: start;\n",
              "  justify-content: space-between;\n",
              "  gap: 0.5em;\n",
              "}\n",
              "\n",
              "#sk-container-id-1 label.sk-toggleable__label .caption {\n",
              "  font-size: 0.6rem;\n",
              "  font-weight: lighter;\n",
              "  color: var(--sklearn-color-text-muted);\n",
              "}\n",
              "\n",
              "#sk-container-id-1 label.sk-toggleable__label-arrow:before {\n",
              "  /* Arrow on the left of the label */\n",
              "  content: \"▸\";\n",
              "  float: left;\n",
              "  margin-right: 0.25em;\n",
              "  color: var(--sklearn-color-icon);\n",
              "}\n",
              "\n",
              "#sk-container-id-1 label.sk-toggleable__label-arrow:hover:before {\n",
              "  color: var(--sklearn-color-text);\n",
              "}\n",
              "\n",
              "/* Toggleable content - dropdown */\n",
              "\n",
              "#sk-container-id-1 div.sk-toggleable__content {\n",
              "  max-height: 0;\n",
              "  max-width: 0;\n",
              "  overflow: hidden;\n",
              "  text-align: left;\n",
              "  /* unfitted */\n",
              "  background-color: var(--sklearn-color-unfitted-level-0);\n",
              "}\n",
              "\n",
              "#sk-container-id-1 div.sk-toggleable__content.fitted {\n",
              "  /* fitted */\n",
              "  background-color: var(--sklearn-color-fitted-level-0);\n",
              "}\n",
              "\n",
              "#sk-container-id-1 div.sk-toggleable__content pre {\n",
              "  margin: 0.2em;\n",
              "  border-radius: 0.25em;\n",
              "  color: var(--sklearn-color-text);\n",
              "  /* unfitted */\n",
              "  background-color: var(--sklearn-color-unfitted-level-0);\n",
              "}\n",
              "\n",
              "#sk-container-id-1 div.sk-toggleable__content.fitted pre {\n",
              "  /* unfitted */\n",
              "  background-color: var(--sklearn-color-fitted-level-0);\n",
              "}\n",
              "\n",
              "#sk-container-id-1 input.sk-toggleable__control:checked~div.sk-toggleable__content {\n",
              "  /* Expand drop-down */\n",
              "  max-height: 200px;\n",
              "  max-width: 100%;\n",
              "  overflow: auto;\n",
              "}\n",
              "\n",
              "#sk-container-id-1 input.sk-toggleable__control:checked~label.sk-toggleable__label-arrow:before {\n",
              "  content: \"▾\";\n",
              "}\n",
              "\n",
              "/* Pipeline/ColumnTransformer-specific style */\n",
              "\n",
              "#sk-container-id-1 div.sk-label input.sk-toggleable__control:checked~label.sk-toggleable__label {\n",
              "  color: var(--sklearn-color-text);\n",
              "  background-color: var(--sklearn-color-unfitted-level-2);\n",
              "}\n",
              "\n",
              "#sk-container-id-1 div.sk-label.fitted input.sk-toggleable__control:checked~label.sk-toggleable__label {\n",
              "  background-color: var(--sklearn-color-fitted-level-2);\n",
              "}\n",
              "\n",
              "/* Estimator-specific style */\n",
              "\n",
              "/* Colorize estimator box */\n",
              "#sk-container-id-1 div.sk-estimator input.sk-toggleable__control:checked~label.sk-toggleable__label {\n",
              "  /* unfitted */\n",
              "  background-color: var(--sklearn-color-unfitted-level-2);\n",
              "}\n",
              "\n",
              "#sk-container-id-1 div.sk-estimator.fitted input.sk-toggleable__control:checked~label.sk-toggleable__label {\n",
              "  /* fitted */\n",
              "  background-color: var(--sklearn-color-fitted-level-2);\n",
              "}\n",
              "\n",
              "#sk-container-id-1 div.sk-label label.sk-toggleable__label,\n",
              "#sk-container-id-1 div.sk-label label {\n",
              "  /* The background is the default theme color */\n",
              "  color: var(--sklearn-color-text-on-default-background);\n",
              "}\n",
              "\n",
              "/* On hover, darken the color of the background */\n",
              "#sk-container-id-1 div.sk-label:hover label.sk-toggleable__label {\n",
              "  color: var(--sklearn-color-text);\n",
              "  background-color: var(--sklearn-color-unfitted-level-2);\n",
              "}\n",
              "\n",
              "/* Label box, darken color on hover, fitted */\n",
              "#sk-container-id-1 div.sk-label.fitted:hover label.sk-toggleable__label.fitted {\n",
              "  color: var(--sklearn-color-text);\n",
              "  background-color: var(--sklearn-color-fitted-level-2);\n",
              "}\n",
              "\n",
              "/* Estimator label */\n",
              "\n",
              "#sk-container-id-1 div.sk-label label {\n",
              "  font-family: monospace;\n",
              "  font-weight: bold;\n",
              "  display: inline-block;\n",
              "  line-height: 1.2em;\n",
              "}\n",
              "\n",
              "#sk-container-id-1 div.sk-label-container {\n",
              "  text-align: center;\n",
              "}\n",
              "\n",
              "/* Estimator-specific */\n",
              "#sk-container-id-1 div.sk-estimator {\n",
              "  font-family: monospace;\n",
              "  border: 1px dotted var(--sklearn-color-border-box);\n",
              "  border-radius: 0.25em;\n",
              "  box-sizing: border-box;\n",
              "  margin-bottom: 0.5em;\n",
              "  /* unfitted */\n",
              "  background-color: var(--sklearn-color-unfitted-level-0);\n",
              "}\n",
              "\n",
              "#sk-container-id-1 div.sk-estimator.fitted {\n",
              "  /* fitted */\n",
              "  background-color: var(--sklearn-color-fitted-level-0);\n",
              "}\n",
              "\n",
              "/* on hover */\n",
              "#sk-container-id-1 div.sk-estimator:hover {\n",
              "  /* unfitted */\n",
              "  background-color: var(--sklearn-color-unfitted-level-2);\n",
              "}\n",
              "\n",
              "#sk-container-id-1 div.sk-estimator.fitted:hover {\n",
              "  /* fitted */\n",
              "  background-color: var(--sklearn-color-fitted-level-2);\n",
              "}\n",
              "\n",
              "/* Specification for estimator info (e.g. \"i\" and \"?\") */\n",
              "\n",
              "/* Common style for \"i\" and \"?\" */\n",
              "\n",
              ".sk-estimator-doc-link,\n",
              "a:link.sk-estimator-doc-link,\n",
              "a:visited.sk-estimator-doc-link {\n",
              "  float: right;\n",
              "  font-size: smaller;\n",
              "  line-height: 1em;\n",
              "  font-family: monospace;\n",
              "  background-color: var(--sklearn-color-background);\n",
              "  border-radius: 1em;\n",
              "  height: 1em;\n",
              "  width: 1em;\n",
              "  text-decoration: none !important;\n",
              "  margin-left: 0.5em;\n",
              "  text-align: center;\n",
              "  /* unfitted */\n",
              "  border: var(--sklearn-color-unfitted-level-1) 1pt solid;\n",
              "  color: var(--sklearn-color-unfitted-level-1);\n",
              "}\n",
              "\n",
              ".sk-estimator-doc-link.fitted,\n",
              "a:link.sk-estimator-doc-link.fitted,\n",
              "a:visited.sk-estimator-doc-link.fitted {\n",
              "  /* fitted */\n",
              "  border: var(--sklearn-color-fitted-level-1) 1pt solid;\n",
              "  color: var(--sklearn-color-fitted-level-1);\n",
              "}\n",
              "\n",
              "/* On hover */\n",
              "div.sk-estimator:hover .sk-estimator-doc-link:hover,\n",
              ".sk-estimator-doc-link:hover,\n",
              "div.sk-label-container:hover .sk-estimator-doc-link:hover,\n",
              ".sk-estimator-doc-link:hover {\n",
              "  /* unfitted */\n",
              "  background-color: var(--sklearn-color-unfitted-level-3);\n",
              "  color: var(--sklearn-color-background);\n",
              "  text-decoration: none;\n",
              "}\n",
              "\n",
              "div.sk-estimator.fitted:hover .sk-estimator-doc-link.fitted:hover,\n",
              ".sk-estimator-doc-link.fitted:hover,\n",
              "div.sk-label-container:hover .sk-estimator-doc-link.fitted:hover,\n",
              ".sk-estimator-doc-link.fitted:hover {\n",
              "  /* fitted */\n",
              "  background-color: var(--sklearn-color-fitted-level-3);\n",
              "  color: var(--sklearn-color-background);\n",
              "  text-decoration: none;\n",
              "}\n",
              "\n",
              "/* Span, style for the box shown on hovering the info icon */\n",
              ".sk-estimator-doc-link span {\n",
              "  display: none;\n",
              "  z-index: 9999;\n",
              "  position: relative;\n",
              "  font-weight: normal;\n",
              "  right: .2ex;\n",
              "  padding: .5ex;\n",
              "  margin: .5ex;\n",
              "  width: min-content;\n",
              "  min-width: 20ex;\n",
              "  max-width: 50ex;\n",
              "  color: var(--sklearn-color-text);\n",
              "  box-shadow: 2pt 2pt 4pt #999;\n",
              "  /* unfitted */\n",
              "  background: var(--sklearn-color-unfitted-level-0);\n",
              "  border: .5pt solid var(--sklearn-color-unfitted-level-3);\n",
              "}\n",
              "\n",
              ".sk-estimator-doc-link.fitted span {\n",
              "  /* fitted */\n",
              "  background: var(--sklearn-color-fitted-level-0);\n",
              "  border: var(--sklearn-color-fitted-level-3);\n",
              "}\n",
              "\n",
              ".sk-estimator-doc-link:hover span {\n",
              "  display: block;\n",
              "}\n",
              "\n",
              "/* \"?\"-specific style due to the `<a>` HTML tag */\n",
              "\n",
              "#sk-container-id-1 a.estimator_doc_link {\n",
              "  float: right;\n",
              "  font-size: 1rem;\n",
              "  line-height: 1em;\n",
              "  font-family: monospace;\n",
              "  background-color: var(--sklearn-color-background);\n",
              "  border-radius: 1rem;\n",
              "  height: 1rem;\n",
              "  width: 1rem;\n",
              "  text-decoration: none;\n",
              "  /* unfitted */\n",
              "  color: var(--sklearn-color-unfitted-level-1);\n",
              "  border: var(--sklearn-color-unfitted-level-1) 1pt solid;\n",
              "}\n",
              "\n",
              "#sk-container-id-1 a.estimator_doc_link.fitted {\n",
              "  /* fitted */\n",
              "  border: var(--sklearn-color-fitted-level-1) 1pt solid;\n",
              "  color: var(--sklearn-color-fitted-level-1);\n",
              "}\n",
              "\n",
              "/* On hover */\n",
              "#sk-container-id-1 a.estimator_doc_link:hover {\n",
              "  /* unfitted */\n",
              "  background-color: var(--sklearn-color-unfitted-level-3);\n",
              "  color: var(--sklearn-color-background);\n",
              "  text-decoration: none;\n",
              "}\n",
              "\n",
              "#sk-container-id-1 a.estimator_doc_link.fitted:hover {\n",
              "  /* fitted */\n",
              "  background-color: var(--sklearn-color-fitted-level-3);\n",
              "}\n",
              "</style><div id=\"sk-container-id-1\" class=\"sk-top-container\"><div class=\"sk-text-repr-fallback\"><pre>MLPClassifier(hidden_layer_sizes=[24], max_iter=500, shuffle=False)</pre><b>In a Jupyter environment, please rerun this cell to show the HTML representation or trust the notebook. <br />On GitHub, the HTML representation is unable to render, please try loading this page with nbviewer.org.</b></div><div class=\"sk-container\" hidden><div class=\"sk-item\"><div class=\"sk-estimator fitted sk-toggleable\"><input class=\"sk-toggleable__control sk-hidden--visually\" id=\"sk-estimator-id-1\" type=\"checkbox\" checked><label for=\"sk-estimator-id-1\" class=\"sk-toggleable__label fitted sk-toggleable__label-arrow\"><div><div>MLPClassifier</div></div><div><a class=\"sk-estimator-doc-link fitted\" rel=\"noreferrer\" target=\"_blank\" href=\"https://scikit-learn.org/1.6/modules/generated/sklearn.neural_network.MLPClassifier.html\">?<span>Documentation for MLPClassifier</span></a><span class=\"sk-estimator-doc-link fitted\">i<span>Fitted</span></span></div></label><div class=\"sk-toggleable__content fitted\"><pre>MLPClassifier(hidden_layer_sizes=[24], max_iter=500, shuffle=False)</pre></div> </div></div></div></div>"
            ]
          },
          "metadata": {},
          "execution_count": 34
        }
      ]
    },
    {
      "cell_type": "markdown",
      "source": [
        "使用训练数据来训练之前创建的神经网络模型。\n",
        "\n",
        "* .fit(...): 这是机器学习模型对象的标准方法，用于使用提供的数据来训练模型。\n",
        "* train_[cols]: 这是训练模型的特征数据。\n",
        "  * 等价于 train_[['lag_1', 'lag_2', 'lag_3']];\n",
        "  * train_ 是经过标准化的训练集 DataFrame。\n",
        "  * [cols] 使用之前定义的 cols 列表（包含 'lag_1', 'lag_2', 'lag_3'）来选择 train_ DataFrame 中作为模型输入的特征列。\n",
        "* train['d']: 这是训练模型的标签或目标变量。\n",
        "  * train 是原始的训练集 DataFrame。\n",
        "  * ['d'] 选择了 'd' 列，它包含了您想要模型预测的目标值（在这里是收益率的方向，1 或 -1）。\n",
        "\n",
        "简而言之,告诉模型使用 train_ DataFrame 中滞后收益率列的数据 (train_[cols]) 作为输入特征，\n",
        "\n",
        "并使用 train DataFrame 中的 'd' 列数据 (train['d']) 作为对应的目标输出来学习如何进行分类。\n",
        "\n",
        "模型会根据这些数据调整其内部参数，以便能够对新的、未见过的数据进行预测。  "
      ],
      "metadata": {
        "id": "6BgK029m5CpH"
      },
      "id": "6BgK029m5CpH"
    },
    {
      "cell_type": "code",
      "source": [
        "score = accuracy_score(train['d'], model.predict(train_[cols]));\n",
        "print(score);"
      ],
      "metadata": {
        "colab": {
          "base_uri": "https://localhost:8080/"
        },
        "id": "9PrYf0nZ9VUU",
        "outputId": "f31d253a-f85e-4ca5-a86f-c93b5125aa7a"
      },
      "id": "9PrYf0nZ9VUU",
      "execution_count": 35,
      "outputs": [
        {
          "output_type": "stream",
          "name": "stdout",
          "text": [
            "0.4064885496183206\n"
          ]
        }
      ]
    },
    {
      "cell_type": "markdown",
      "source": [
        "计算训练集上模型预测的准确率。\n",
        "* accuracy_score(...): 这是您之前导入的用于计算准确率的函数。它需要两个参数：真实标签和模型预测的标签。\n",
        "* train['d']: 这是训练集的真实标签，也就是 train DataFrame 中的 'd' 列。\n",
        "* model.predict(train_[cols]): 这部分代码使用训练好的 model 对训练数据 train_[cols] 进行预测。model.predict() 方法会返回模型预测的标签。\n",
        "\n",
        "所以，accuracy_score() 函数会将训练集的真实标签 (train['d']) 与模型在训练集上预测的标签 (model.predict(train_[cols])) 进行比较，然后计算并返回准确率。\n",
        "\n",
        "这个准确率告诉您模型在它已经“见过”的数据上表现如何。\n",
        "\n",
        "通常，训练集上的准确率会比较高，但这并不能完全代表模型在新的、未见过的数据上的表现。\n",
        "\n",
        "为了评估模型的泛化能力，您还需要计算在测试集上的准确率。"
      ],
      "metadata": {
        "id": "DJQr8xJ59d3g"
      },
      "id": "DJQr8xJ59d3g"
    },
    {
      "cell_type": "code",
      "source": [
        "data['r'].hist(bins=100);"
      ],
      "metadata": {
        "colab": {
          "base_uri": "https://localhost:8080/",
          "height": 470
        },
        "id": "P5UsFztS-trO",
        "outputId": "077b26eb-c99a-4c94-fccb-a44a1c0c2b1f"
      },
      "id": "P5UsFztS-trO",
      "execution_count": 36,
      "outputs": [
        {
          "output_type": "display_data",
          "data": {
            "text/plain": [
              "<Figure size 800x550 with 1 Axes>"
            ],
            "image/svg+xml": "<?xml version=\"1.0\" encoding=\"utf-8\" standalone=\"no\"?>\n<!DOCTYPE svg PUBLIC \"-//W3C//DTD SVG 1.1//EN\"\n  \"http://www.w3.org/Graphics/SVG/1.1/DTD/svg11.dtd\">\n<svg xmlns:xlink=\"http://www.w3.org/1999/xlink\" width=\"484.482812pt\" height=\"337.239706pt\" viewBox=\"0 0 484.482812 337.239706\" xmlns=\"http://www.w3.org/2000/svg\" version=\"1.1\">\n <metadata>\n  <rdf:RDF xmlns:dc=\"http://purl.org/dc/elements/1.1/\" xmlns:cc=\"http://creativecommons.org/ns#\" xmlns:rdf=\"http://www.w3.org/1999/02/22-rdf-syntax-ns#\">\n   <cc:Work>\n    <dc:type rdf:resource=\"http://purl.org/dc/dcmitype/StillImage\"/>\n    <dc:date>2025-08-15T13:47:32.867349</dc:date>\n    <dc:format>image/svg+xml</dc:format>\n    <dc:creator>\n     <cc:Agent>\n      <dc:title>Matplotlib v3.10.0, https://matplotlib.org/</dc:title>\n     </cc:Agent>\n    </dc:creator>\n   </cc:Work>\n  </rdf:RDF>\n </metadata>\n <defs>\n  <style type=\"text/css\">*{stroke-linejoin: round; stroke-linecap: butt}</style>\n </defs>\n <g id=\"figure_1\">\n  <g id=\"patch_1\">\n   <path d=\"M 0 337.239706 \nL 484.482812 337.239706 \nL 484.482812 0 \nL 0 0 \nz\n\" style=\"fill: #ffffff\"/>\n  </g>\n  <g id=\"axes_1\">\n   <g id=\"patch_2\">\n    <path d=\"M 30.882812 313.717831 \nL 477.282812 313.717831 \nL 477.282812 8.797831 \nL 30.882812 8.797831 \nz\n\" style=\"fill: #eaeaf2\"/>\n   </g>\n   <g id=\"matplotlib.axis_1\">\n    <g id=\"xtick_1\">\n     <g id=\"line2d_1\">\n      <path d=\"M 51.793121 313.717831 \nL 51.793121 8.797831 \n\" clip-path=\"url(#p6398590d7a)\" style=\"fill: none; stroke: #ffffff; stroke-linecap: round\"/>\n     </g>\n     <g id=\"line2d_2\"/>\n     <g id=\"text_1\">\n      <!-- −0.08 -->\n      <g style=\"fill: #262626\" transform=\"translate(39.14234 327.964706) scale(0.1 -0.1)\">\n       <defs>\n        <path id=\"LiberationSans-2212\" d=\"M 316 1900 \nL 316 2356 \nL 3425 2356 \nL 3425 1900 \nL 316 1900 \nz\n\" transform=\"scale(0.015625)\"/>\n        <path id=\"LiberationSans-30\" d=\"M 3309 2203 \nQ 3309 1569 3189 1136 \nQ 3069 703 2861 436 \nQ 2653 169 2372 53 \nQ 2091 -63 1772 -63 \nQ 1450 -63 1172 53 \nQ 894 169 689 434 \nQ 484 700 367 1133 \nQ 250 1566 250 2203 \nQ 250 2869 367 3305 \nQ 484 3741 690 4000 \nQ 897 4259 1178 4364 \nQ 1459 4469 1791 4469 \nQ 2106 4469 2382 4364 \nQ 2659 4259 2865 4000 \nQ 3072 3741 3190 3305 \nQ 3309 2869 3309 2203 \nz\nM 2738 2203 \nQ 2738 2728 2675 3076 \nQ 2613 3425 2491 3633 \nQ 2369 3841 2192 3927 \nQ 2016 4013 1791 4013 \nQ 1553 4013 1372 3925 \nQ 1191 3838 1067 3630 \nQ 944 3422 881 3073 \nQ 819 2725 819 2203 \nQ 819 1697 883 1350 \nQ 947 1003 1070 792 \nQ 1194 581 1372 489 \nQ 1550 397 1778 397 \nQ 2000 397 2178 489 \nQ 2356 581 2479 792 \nQ 2603 1003 2670 1350 \nQ 2738 1697 2738 2203 \nz\n\" transform=\"scale(0.015625)\"/>\n        <path id=\"LiberationSans-2e\" d=\"M 584 0 \nL 584 684 \nL 1194 684 \nL 1194 0 \nL 584 0 \nz\n\" transform=\"scale(0.015625)\"/>\n        <path id=\"LiberationSans-38\" d=\"M 3281 1228 \nQ 3281 947 3192 711 \nQ 3103 475 2920 303 \nQ 2738 131 2453 34 \nQ 2169 -63 1781 -63 \nQ 1394 -63 1111 34 \nQ 828 131 642 301 \nQ 456 472 367 708 \nQ 278 944 278 1222 \nQ 278 1463 351 1650 \nQ 425 1838 548 1973 \nQ 672 2109 830 2192 \nQ 988 2275 1156 2303 \nL 1156 2316 \nQ 972 2359 826 2456 \nQ 681 2553 582 2689 \nQ 484 2825 432 2990 \nQ 381 3156 381 3341 \nQ 381 3572 470 3776 \nQ 559 3981 734 4136 \nQ 909 4291 1168 4380 \nQ 1428 4469 1769 4469 \nQ 2128 4469 2392 4378 \nQ 2656 4288 2829 4133 \nQ 3003 3978 3087 3772 \nQ 3172 3566 3172 3334 \nQ 3172 3153 3120 2987 \nQ 3069 2822 2970 2686 \nQ 2872 2550 2726 2454 \nQ 2581 2359 2391 2322 \nL 2391 2309 \nQ 2581 2278 2743 2195 \nQ 2906 2113 3025 1977 \nQ 3144 1841 3212 1653 \nQ 3281 1466 3281 1228 \nz\nM 2588 3303 \nQ 2588 3469 2545 3606 \nQ 2503 3744 2406 3842 \nQ 2309 3941 2153 3995 \nQ 1997 4050 1769 4050 \nQ 1547 4050 1394 3995 \nQ 1241 3941 1142 3842 \nQ 1044 3744 1000 3606 \nQ 956 3469 956 3303 \nQ 956 3172 990 3034 \nQ 1025 2897 1115 2784 \nQ 1206 2672 1365 2600 \nQ 1525 2528 1775 2528 \nQ 2041 2528 2202 2600 \nQ 2363 2672 2448 2784 \nQ 2534 2897 2561 3034 \nQ 2588 3172 2588 3303 \nz\nM 2697 1281 \nQ 2697 1441 2653 1589 \nQ 2609 1738 2503 1852 \nQ 2397 1966 2217 2036 \nQ 2038 2106 1769 2106 \nQ 1522 2106 1348 2036 \nQ 1175 1966 1067 1850 \nQ 959 1734 909 1582 \nQ 859 1431 859 1269 \nQ 859 1066 909 898 \nQ 959 731 1068 611 \nQ 1178 491 1356 425 \nQ 1534 359 1788 359 \nQ 2044 359 2219 425 \nQ 2394 491 2500 611 \nQ 2606 731 2651 901 \nQ 2697 1072 2697 1281 \nz\n\" transform=\"scale(0.015625)\"/>\n       </defs>\n       <use xlink:href=\"#LiberationSans-2212\"/>\n       <use xlink:href=\"#LiberationSans-30\" transform=\"translate(58.398438 0)\"/>\n       <use xlink:href=\"#LiberationSans-2e\" transform=\"translate(114.013672 0)\"/>\n       <use xlink:href=\"#LiberationSans-30\" transform=\"translate(141.796875 0)\"/>\n       <use xlink:href=\"#LiberationSans-38\" transform=\"translate(197.412109 0)\"/>\n      </g>\n     </g>\n    </g>\n    <g id=\"xtick_2\">\n     <g id=\"line2d_3\">\n      <path d=\"M 123.093606 313.717831 \nL 123.093606 8.797831 \n\" clip-path=\"url(#p6398590d7a)\" style=\"fill: none; stroke: #ffffff; stroke-linecap: round\"/>\n     </g>\n     <g id=\"line2d_4\"/>\n     <g id=\"text_2\">\n      <!-- −0.06 -->\n      <g style=\"fill: #262626\" transform=\"translate(110.442824 327.964706) scale(0.1 -0.1)\">\n       <defs>\n        <path id=\"LiberationSans-36\" d=\"M 3278 1441 \nQ 3278 1109 3186 832 \nQ 3094 556 2914 357 \nQ 2734 159 2468 48 \nQ 2203 -63 1856 -63 \nQ 1472 -63 1184 84 \nQ 897 231 706 507 \nQ 516 784 420 1186 \nQ 325 1588 325 2100 \nQ 325 2688 433 3131 \nQ 541 3575 744 3872 \nQ 947 4169 1239 4319 \nQ 1531 4469 1900 4469 \nQ 2125 4469 2322 4422 \nQ 2519 4375 2680 4270 \nQ 2841 4166 2962 3994 \nQ 3084 3822 3156 3572 \nL 2619 3475 \nQ 2531 3759 2339 3886 \nQ 2147 4013 1894 4013 \nQ 1663 4013 1475 3903 \nQ 1288 3794 1156 3576 \nQ 1025 3359 954 3031 \nQ 884 2703 884 2266 \nQ 1038 2550 1316 2698 \nQ 1594 2847 1953 2847 \nQ 2253 2847 2497 2750 \nQ 2741 2653 2914 2470 \nQ 3088 2288 3183 2027 \nQ 3278 1766 3278 1441 \nz\nM 2706 1416 \nQ 2706 1644 2650 1828 \nQ 2594 2013 2481 2142 \nQ 2369 2272 2203 2342 \nQ 2038 2413 1819 2413 \nQ 1666 2413 1509 2367 \nQ 1353 2322 1226 2220 \nQ 1100 2119 1020 1953 \nQ 941 1788 941 1550 \nQ 941 1306 1003 1095 \nQ 1066 884 1183 728 \nQ 1300 572 1465 481 \nQ 1631 391 1838 391 \nQ 2041 391 2202 461 \nQ 2363 531 2475 664 \nQ 2588 797 2647 987 \nQ 2706 1178 2706 1416 \nz\n\" transform=\"scale(0.015625)\"/>\n       </defs>\n       <use xlink:href=\"#LiberationSans-2212\"/>\n       <use xlink:href=\"#LiberationSans-30\" transform=\"translate(58.398438 0)\"/>\n       <use xlink:href=\"#LiberationSans-2e\" transform=\"translate(114.013672 0)\"/>\n       <use xlink:href=\"#LiberationSans-30\" transform=\"translate(141.796875 0)\"/>\n       <use xlink:href=\"#LiberationSans-36\" transform=\"translate(197.412109 0)\"/>\n      </g>\n     </g>\n    </g>\n    <g id=\"xtick_3\">\n     <g id=\"line2d_5\">\n      <path d=\"M 194.39409 313.717831 \nL 194.39409 8.797831 \n\" clip-path=\"url(#p6398590d7a)\" style=\"fill: none; stroke: #ffffff; stroke-linecap: round\"/>\n     </g>\n     <g id=\"line2d_6\"/>\n     <g id=\"text_3\">\n      <!-- −0.04 -->\n      <g style=\"fill: #262626\" transform=\"translate(181.743309 327.964706) scale(0.1 -0.1)\">\n       <defs>\n        <path id=\"LiberationSans-34\" d=\"M 2753 997 \nL 2753 0 \nL 2222 0 \nL 2222 997 \nL 147 997 \nL 147 1434 \nL 2163 4403 \nL 2753 4403 \nL 2753 1441 \nL 3372 1441 \nL 3372 997 \nL 2753 997 \nz\nM 2222 3769 \nQ 2216 3753 2191 3708 \nQ 2166 3663 2134 3606 \nQ 2103 3550 2070 3492 \nQ 2038 3434 2013 3397 \nL 884 1734 \nQ 869 1709 839 1668 \nQ 809 1628 778 1586 \nQ 747 1544 715 1503 \nQ 684 1463 666 1441 \nL 2222 1441 \nL 2222 3769 \nz\n\" transform=\"scale(0.015625)\"/>\n       </defs>\n       <use xlink:href=\"#LiberationSans-2212\"/>\n       <use xlink:href=\"#LiberationSans-30\" transform=\"translate(58.398438 0)\"/>\n       <use xlink:href=\"#LiberationSans-2e\" transform=\"translate(114.013672 0)\"/>\n       <use xlink:href=\"#LiberationSans-30\" transform=\"translate(141.796875 0)\"/>\n       <use xlink:href=\"#LiberationSans-34\" transform=\"translate(197.412109 0)\"/>\n      </g>\n     </g>\n    </g>\n    <g id=\"xtick_4\">\n     <g id=\"line2d_7\">\n      <path d=\"M 265.694574 313.717831 \nL 265.694574 8.797831 \n\" clip-path=\"url(#p6398590d7a)\" style=\"fill: none; stroke: #ffffff; stroke-linecap: round\"/>\n     </g>\n     <g id=\"line2d_8\"/>\n     <g id=\"text_4\">\n      <!-- −0.02 -->\n      <g style=\"fill: #262626\" transform=\"translate(253.043793 327.964706) scale(0.1 -0.1)\">\n       <defs>\n        <path id=\"LiberationSans-32\" d=\"M 322 0 \nL 322 397 \nQ 481 763 711 1042 \nQ 941 1322 1194 1548 \nQ 1447 1775 1695 1969 \nQ 1944 2163 2144 2356 \nQ 2344 2550 2467 2762 \nQ 2591 2975 2591 3244 \nQ 2591 3431 2534 3573 \nQ 2478 3716 2372 3812 \nQ 2266 3909 2117 3957 \nQ 1969 4006 1788 4006 \nQ 1619 4006 1470 3959 \nQ 1322 3913 1206 3819 \nQ 1091 3725 1017 3586 \nQ 944 3447 922 3263 \nL 347 3316 \nQ 375 3553 478 3762 \nQ 581 3972 762 4130 \nQ 944 4288 1198 4378 \nQ 1453 4469 1788 4469 \nQ 2116 4469 2372 4391 \nQ 2628 4313 2804 4159 \nQ 2981 4006 3075 3781 \nQ 3169 3556 3169 3263 \nQ 3169 3041 3089 2841 \nQ 3009 2641 2876 2459 \nQ 2744 2278 2569 2109 \nQ 2394 1941 2203 1780 \nQ 2013 1619 1819 1461 \nQ 1625 1303 1454 1143 \nQ 1284 984 1150 820 \nQ 1016 656 941 478 \nL 3238 478 \nL 3238 0 \nL 322 0 \nz\n\" transform=\"scale(0.015625)\"/>\n       </defs>\n       <use xlink:href=\"#LiberationSans-2212\"/>\n       <use xlink:href=\"#LiberationSans-30\" transform=\"translate(58.398438 0)\"/>\n       <use xlink:href=\"#LiberationSans-2e\" transform=\"translate(114.013672 0)\"/>\n       <use xlink:href=\"#LiberationSans-30\" transform=\"translate(141.796875 0)\"/>\n       <use xlink:href=\"#LiberationSans-32\" transform=\"translate(197.412109 0)\"/>\n      </g>\n     </g>\n    </g>\n    <g id=\"xtick_5\">\n     <g id=\"line2d_9\">\n      <path d=\"M 336.995059 313.717831 \nL 336.995059 8.797831 \n\" clip-path=\"url(#p6398590d7a)\" style=\"fill: none; stroke: #ffffff; stroke-linecap: round\"/>\n     </g>\n     <g id=\"line2d_10\"/>\n     <g id=\"text_5\">\n      <!-- 0.00 -->\n      <g style=\"fill: #262626\" transform=\"translate(327.26459 327.964706) scale(0.1 -0.1)\">\n       <use xlink:href=\"#LiberationSans-30\"/>\n       <use xlink:href=\"#LiberationSans-2e\" transform=\"translate(55.615234 0)\"/>\n       <use xlink:href=\"#LiberationSans-30\" transform=\"translate(83.398438 0)\"/>\n       <use xlink:href=\"#LiberationSans-30\" transform=\"translate(139.013672 0)\"/>\n      </g>\n     </g>\n    </g>\n    <g id=\"xtick_6\">\n     <g id=\"line2d_11\">\n      <path d=\"M 408.295543 313.717831 \nL 408.295543 8.797831 \n\" clip-path=\"url(#p6398590d7a)\" style=\"fill: none; stroke: #ffffff; stroke-linecap: round\"/>\n     </g>\n     <g id=\"line2d_12\"/>\n     <g id=\"text_6\">\n      <!-- 0.02 -->\n      <g style=\"fill: #262626\" transform=\"translate(398.565074 327.964706) scale(0.1 -0.1)\">\n       <use xlink:href=\"#LiberationSans-30\"/>\n       <use xlink:href=\"#LiberationSans-2e\" transform=\"translate(55.615234 0)\"/>\n       <use xlink:href=\"#LiberationSans-30\" transform=\"translate(83.398438 0)\"/>\n       <use xlink:href=\"#LiberationSans-32\" transform=\"translate(139.013672 0)\"/>\n      </g>\n     </g>\n    </g>\n   </g>\n   <g id=\"matplotlib.axis_2\">\n    <g id=\"ytick_1\">\n     <g id=\"line2d_13\">\n      <path d=\"M 30.882812 313.717831 \nL 477.282812 313.717831 \n\" clip-path=\"url(#p6398590d7a)\" style=\"fill: none; stroke: #ffffff; stroke-linecap: round\"/>\n     </g>\n     <g id=\"line2d_14\"/>\n     <g id=\"text_7\">\n      <!-- 0 -->\n      <g style=\"fill: #262626\" transform=\"translate(18.321875 317.341269) scale(0.1 -0.1)\">\n       <use xlink:href=\"#LiberationSans-30\"/>\n      </g>\n     </g>\n    </g>\n    <g id=\"ytick_2\">\n     <g id=\"line2d_15\">\n      <path d=\"M 30.882812 275.856032 \nL 477.282812 275.856032 \n\" clip-path=\"url(#p6398590d7a)\" style=\"fill: none; stroke: #ffffff; stroke-linecap: round\"/>\n     </g>\n     <g id=\"line2d_16\"/>\n     <g id=\"text_8\">\n      <!-- 100 -->\n      <g style=\"fill: #262626\" transform=\"translate(7.2 279.47947) scale(0.1 -0.1)\">\n       <defs>\n        <path id=\"LiberationSans-31\" d=\"M 488 0 \nL 488 478 \nL 1609 478 \nL 1609 3866 \nL 616 3156 \nL 616 3688 \nL 1656 4403 \nL 2175 4403 \nL 2175 478 \nL 3247 478 \nL 3247 0 \nL 488 0 \nz\n\" transform=\"scale(0.015625)\"/>\n       </defs>\n       <use xlink:href=\"#LiberationSans-31\"/>\n       <use xlink:href=\"#LiberationSans-30\" transform=\"translate(55.615234 0)\"/>\n       <use xlink:href=\"#LiberationSans-30\" transform=\"translate(111.230469 0)\"/>\n      </g>\n     </g>\n    </g>\n    <g id=\"ytick_3\">\n     <g id=\"line2d_17\">\n      <path d=\"M 30.882812 237.994233 \nL 477.282812 237.994233 \n\" clip-path=\"url(#p6398590d7a)\" style=\"fill: none; stroke: #ffffff; stroke-linecap: round\"/>\n     </g>\n     <g id=\"line2d_18\"/>\n     <g id=\"text_9\">\n      <!-- 200 -->\n      <g style=\"fill: #262626\" transform=\"translate(7.2 241.61767) scale(0.1 -0.1)\">\n       <use xlink:href=\"#LiberationSans-32\"/>\n       <use xlink:href=\"#LiberationSans-30\" transform=\"translate(55.615234 0)\"/>\n       <use xlink:href=\"#LiberationSans-30\" transform=\"translate(111.230469 0)\"/>\n      </g>\n     </g>\n    </g>\n    <g id=\"ytick_4\">\n     <g id=\"line2d_19\">\n      <path d=\"M 30.882812 200.132434 \nL 477.282812 200.132434 \n\" clip-path=\"url(#p6398590d7a)\" style=\"fill: none; stroke: #ffffff; stroke-linecap: round\"/>\n     </g>\n     <g id=\"line2d_20\"/>\n     <g id=\"text_10\">\n      <!-- 300 -->\n      <g style=\"fill: #262626\" transform=\"translate(7.2 203.755871) scale(0.1 -0.1)\">\n       <defs>\n        <path id=\"LiberationSans-33\" d=\"M 3278 1216 \nQ 3278 913 3179 675 \nQ 3081 438 2892 273 \nQ 2703 109 2423 23 \nQ 2144 -63 1784 -63 \nQ 1375 -63 1095 39 \nQ 816 141 634 308 \nQ 453 475 362 689 \nQ 272 903 244 1131 \nL 825 1184 \nQ 850 1009 917 865 \nQ 984 722 1100 619 \nQ 1216 516 1384 459 \nQ 1553 403 1784 403 \nQ 2209 403 2451 612 \nQ 2694 822 2694 1234 \nQ 2694 1478 2586 1626 \nQ 2478 1775 2317 1858 \nQ 2156 1941 1967 1969 \nQ 1778 1997 1619 1997 \nL 1300 1997 \nL 1300 2484 \nL 1606 2484 \nQ 1766 2484 1937 2517 \nQ 2109 2550 2251 2636 \nQ 2394 2722 2486 2869 \nQ 2578 3016 2578 3244 \nQ 2578 3597 2370 3801 \nQ 2163 4006 1753 4006 \nQ 1381 4006 1151 3815 \nQ 922 3625 884 3278 \nL 319 3322 \nQ 353 3613 478 3828 \nQ 603 4044 795 4186 \nQ 988 4328 1234 4398 \nQ 1481 4469 1759 4469 \nQ 2128 4469 2393 4376 \nQ 2659 4284 2828 4126 \nQ 2997 3969 3076 3756 \nQ 3156 3544 3156 3303 \nQ 3156 3109 3103 2940 \nQ 3050 2772 2937 2637 \nQ 2825 2503 2651 2406 \nQ 2478 2309 2234 2259 \nL 2234 2247 \nQ 2500 2219 2697 2126 \nQ 2894 2034 3022 1896 \nQ 3150 1759 3214 1584 \nQ 3278 1409 3278 1216 \nz\n\" transform=\"scale(0.015625)\"/>\n       </defs>\n       <use xlink:href=\"#LiberationSans-33\"/>\n       <use xlink:href=\"#LiberationSans-30\" transform=\"translate(55.615234 0)\"/>\n       <use xlink:href=\"#LiberationSans-30\" transform=\"translate(111.230469 0)\"/>\n      </g>\n     </g>\n    </g>\n    <g id=\"ytick_5\">\n     <g id=\"line2d_21\">\n      <path d=\"M 30.882812 162.270634 \nL 477.282812 162.270634 \n\" clip-path=\"url(#p6398590d7a)\" style=\"fill: none; stroke: #ffffff; stroke-linecap: round\"/>\n     </g>\n     <g id=\"line2d_22\"/>\n     <g id=\"text_11\">\n      <!-- 400 -->\n      <g style=\"fill: #262626\" transform=\"translate(7.2 165.894072) scale(0.1 -0.1)\">\n       <use xlink:href=\"#LiberationSans-34\"/>\n       <use xlink:href=\"#LiberationSans-30\" transform=\"translate(55.615234 0)\"/>\n       <use xlink:href=\"#LiberationSans-30\" transform=\"translate(111.230469 0)\"/>\n      </g>\n     </g>\n    </g>\n    <g id=\"ytick_6\">\n     <g id=\"line2d_23\">\n      <path d=\"M 30.882812 124.408835 \nL 477.282812 124.408835 \n\" clip-path=\"url(#p6398590d7a)\" style=\"fill: none; stroke: #ffffff; stroke-linecap: round\"/>\n     </g>\n     <g id=\"line2d_24\"/>\n     <g id=\"text_12\">\n      <!-- 500 -->\n      <g style=\"fill: #262626\" transform=\"translate(7.2 128.032273) scale(0.1 -0.1)\">\n       <defs>\n        <path id=\"LiberationSans-35\" d=\"M 3291 1434 \nQ 3291 1103 3191 828 \nQ 3091 553 2894 354 \nQ 2697 156 2405 46 \nQ 2113 -63 1728 -63 \nQ 1381 -63 1123 18 \nQ 866 100 687 242 \nQ 509 384 404 575 \nQ 300 766 256 984 \nL 825 1050 \nQ 859 925 921 808 \nQ 984 691 1092 598 \nQ 1200 506 1358 451 \nQ 1516 397 1741 397 \nQ 1959 397 2137 464 \nQ 2316 531 2442 662 \nQ 2569 794 2637 984 \nQ 2706 1175 2706 1422 \nQ 2706 1625 2640 1795 \nQ 2575 1966 2453 2089 \nQ 2331 2213 2154 2281 \nQ 1978 2350 1753 2350 \nQ 1613 2350 1494 2325 \nQ 1375 2300 1273 2256 \nQ 1172 2213 1089 2155 \nQ 1006 2097 934 2034 \nL 384 2034 \nL 531 4403 \nL 3034 4403 \nL 3034 3925 \nL 1044 3925 \nL 959 2528 \nQ 1109 2644 1334 2726 \nQ 1559 2809 1869 2809 \nQ 2197 2809 2459 2709 \nQ 2722 2609 2906 2426 \nQ 3091 2244 3191 1991 \nQ 3291 1738 3291 1434 \nz\n\" transform=\"scale(0.015625)\"/>\n       </defs>\n       <use xlink:href=\"#LiberationSans-35\"/>\n       <use xlink:href=\"#LiberationSans-30\" transform=\"translate(55.615234 0)\"/>\n       <use xlink:href=\"#LiberationSans-30\" transform=\"translate(111.230469 0)\"/>\n      </g>\n     </g>\n    </g>\n    <g id=\"ytick_7\">\n     <g id=\"line2d_25\">\n      <path d=\"M 30.882812 86.547036 \nL 477.282812 86.547036 \n\" clip-path=\"url(#p6398590d7a)\" style=\"fill: none; stroke: #ffffff; stroke-linecap: round\"/>\n     </g>\n     <g id=\"line2d_26\"/>\n     <g id=\"text_13\">\n      <!-- 600 -->\n      <g style=\"fill: #262626\" transform=\"translate(7.2 90.170473) scale(0.1 -0.1)\">\n       <use xlink:href=\"#LiberationSans-36\"/>\n       <use xlink:href=\"#LiberationSans-30\" transform=\"translate(55.615234 0)\"/>\n       <use xlink:href=\"#LiberationSans-30\" transform=\"translate(111.230469 0)\"/>\n      </g>\n     </g>\n    </g>\n    <g id=\"ytick_8\">\n     <g id=\"line2d_27\">\n      <path d=\"M 30.882812 48.685237 \nL 477.282812 48.685237 \n\" clip-path=\"url(#p6398590d7a)\" style=\"fill: none; stroke: #ffffff; stroke-linecap: round\"/>\n     </g>\n     <g id=\"line2d_28\"/>\n     <g id=\"text_14\">\n      <!-- 700 -->\n      <g style=\"fill: #262626\" transform=\"translate(7.2 52.308674) scale(0.1 -0.1)\">\n       <defs>\n        <path id=\"LiberationSans-37\" d=\"M 3238 3947 \nQ 2906 3441 2628 2973 \nQ 2350 2506 2150 2032 \nQ 1950 1559 1839 1061 \nQ 1728 563 1728 0 \nL 1141 0 \nQ 1141 528 1266 1036 \nQ 1391 1544 1603 2033 \nQ 1816 2522 2097 2994 \nQ 2378 3466 2694 3925 \nL 328 3925 \nL 328 4403 \nL 3238 4403 \nL 3238 3947 \nz\n\" transform=\"scale(0.015625)\"/>\n       </defs>\n       <use xlink:href=\"#LiberationSans-37\"/>\n       <use xlink:href=\"#LiberationSans-30\" transform=\"translate(55.615234 0)\"/>\n       <use xlink:href=\"#LiberationSans-30\" transform=\"translate(111.230469 0)\"/>\n      </g>\n     </g>\n    </g>\n    <g id=\"ytick_9\">\n     <g id=\"line2d_29\">\n      <path d=\"M 30.882812 10.823437 \nL 477.282812 10.823437 \n\" clip-path=\"url(#p6398590d7a)\" style=\"fill: none; stroke: #ffffff; stroke-linecap: round\"/>\n     </g>\n     <g id=\"line2d_30\"/>\n     <g id=\"text_15\">\n      <!-- 800 -->\n      <g style=\"fill: #262626\" transform=\"translate(7.2 14.446875) scale(0.1 -0.1)\">\n       <use xlink:href=\"#LiberationSans-38\"/>\n       <use xlink:href=\"#LiberationSans-30\" transform=\"translate(55.615234 0)\"/>\n       <use xlink:href=\"#LiberationSans-30\" transform=\"translate(111.230469 0)\"/>\n      </g>\n     </g>\n    </g>\n   </g>\n   <g id=\"patch_3\">\n    <path d=\"M 51.173722 313.717831 \nL 55.231903 313.717831 \nL 55.231903 313.339213 \nL 51.173722 313.339213 \nz\n\" clip-path=\"url(#p6398590d7a)\" style=\"fill: #4c72b0\"/>\n   </g>\n   <g id=\"patch_4\">\n    <path d=\"M 55.231903 313.717831 \nL 59.290085 313.717831 \nL 59.290085 313.717831 \nL 55.231903 313.717831 \nz\n\" clip-path=\"url(#p6398590d7a)\" style=\"fill: #4c72b0\"/>\n   </g>\n   <g id=\"patch_5\">\n    <path d=\"M 59.290085 313.717831 \nL 63.348267 313.717831 \nL 63.348267 313.717831 \nL 59.290085 313.717831 \nz\n\" clip-path=\"url(#p6398590d7a)\" style=\"fill: #4c72b0\"/>\n   </g>\n   <g id=\"patch_6\">\n    <path d=\"M 63.348267 313.717831 \nL 67.406449 313.717831 \nL 67.406449 313.717831 \nL 63.348267 313.717831 \nz\n\" clip-path=\"url(#p6398590d7a)\" style=\"fill: #4c72b0\"/>\n   </g>\n   <g id=\"patch_7\">\n    <path d=\"M 67.406449 313.717831 \nL 71.464631 313.717831 \nL 71.464631 313.717831 \nL 67.406449 313.717831 \nz\n\" clip-path=\"url(#p6398590d7a)\" style=\"fill: #4c72b0\"/>\n   </g>\n   <g id=\"patch_8\">\n    <path d=\"M 71.464631 313.717831 \nL 75.522812 313.717831 \nL 75.522812 313.717831 \nL 71.464631 313.717831 \nz\n\" clip-path=\"url(#p6398590d7a)\" style=\"fill: #4c72b0\"/>\n   </g>\n   <g id=\"patch_9\">\n    <path d=\"M 75.522812 313.717831 \nL 79.580994 313.717831 \nL 79.580994 313.717831 \nL 75.522812 313.717831 \nz\n\" clip-path=\"url(#p6398590d7a)\" style=\"fill: #4c72b0\"/>\n   </g>\n   <g id=\"patch_10\">\n    <path d=\"M 79.580994 313.717831 \nL 83.639176 313.717831 \nL 83.639176 313.717831 \nL 79.580994 313.717831 \nz\n\" clip-path=\"url(#p6398590d7a)\" style=\"fill: #4c72b0\"/>\n   </g>\n   <g id=\"patch_11\">\n    <path d=\"M 83.639176 313.717831 \nL 87.697358 313.717831 \nL 87.697358 313.717831 \nL 83.639176 313.717831 \nz\n\" clip-path=\"url(#p6398590d7a)\" style=\"fill: #4c72b0\"/>\n   </g>\n   <g id=\"patch_12\">\n    <path d=\"M 87.697358 313.717831 \nL 91.75554 313.717831 \nL 91.75554 313.717831 \nL 87.697358 313.717831 \nz\n\" clip-path=\"url(#p6398590d7a)\" style=\"fill: #4c72b0\"/>\n   </g>\n   <g id=\"patch_13\">\n    <path d=\"M 91.75554 313.717831 \nL 95.813722 313.717831 \nL 95.813722 313.717831 \nL 91.75554 313.717831 \nz\n\" clip-path=\"url(#p6398590d7a)\" style=\"fill: #4c72b0\"/>\n   </g>\n   <g id=\"patch_14\">\n    <path d=\"M 95.813722 313.717831 \nL 99.871903 313.717831 \nL 99.871903 313.717831 \nL 95.813722 313.717831 \nz\n\" clip-path=\"url(#p6398590d7a)\" style=\"fill: #4c72b0\"/>\n   </g>\n   <g id=\"patch_15\">\n    <path d=\"M 99.871903 313.717831 \nL 103.930085 313.717831 \nL 103.930085 313.717831 \nL 99.871903 313.717831 \nz\n\" clip-path=\"url(#p6398590d7a)\" style=\"fill: #4c72b0\"/>\n   </g>\n   <g id=\"patch_16\">\n    <path d=\"M 103.930085 313.717831 \nL 107.988267 313.717831 \nL 107.988267 313.717831 \nL 103.930085 313.717831 \nz\n\" clip-path=\"url(#p6398590d7a)\" style=\"fill: #4c72b0\"/>\n   </g>\n   <g id=\"patch_17\">\n    <path d=\"M 107.988267 313.717831 \nL 112.046449 313.717831 \nL 112.046449 313.717831 \nL 107.988267 313.717831 \nz\n\" clip-path=\"url(#p6398590d7a)\" style=\"fill: #4c72b0\"/>\n   </g>\n   <g id=\"patch_18\">\n    <path d=\"M 112.046449 313.717831 \nL 116.104631 313.717831 \nL 116.104631 313.717831 \nL 112.046449 313.717831 \nz\n\" clip-path=\"url(#p6398590d7a)\" style=\"fill: #4c72b0\"/>\n   </g>\n   <g id=\"patch_19\">\n    <path d=\"M 116.104631 313.717831 \nL 120.162812 313.717831 \nL 120.162812 313.717831 \nL 116.104631 313.717831 \nz\n\" clip-path=\"url(#p6398590d7a)\" style=\"fill: #4c72b0\"/>\n   </g>\n   <g id=\"patch_20\">\n    <path d=\"M 120.162812 313.717831 \nL 124.220994 313.717831 \nL 124.220994 313.717831 \nL 120.162812 313.717831 \nz\n\" clip-path=\"url(#p6398590d7a)\" style=\"fill: #4c72b0\"/>\n   </g>\n   <g id=\"patch_21\">\n    <path d=\"M 124.220994 313.717831 \nL 128.279176 313.717831 \nL 128.279176 313.717831 \nL 124.220994 313.717831 \nz\n\" clip-path=\"url(#p6398590d7a)\" style=\"fill: #4c72b0\"/>\n   </g>\n   <g id=\"patch_22\">\n    <path d=\"M 128.279176 313.717831 \nL 132.337358 313.717831 \nL 132.337358 313.717831 \nL 128.279176 313.717831 \nz\n\" clip-path=\"url(#p6398590d7a)\" style=\"fill: #4c72b0\"/>\n   </g>\n   <g id=\"patch_23\">\n    <path d=\"M 132.337358 313.717831 \nL 136.39554 313.717831 \nL 136.39554 313.717831 \nL 132.337358 313.717831 \nz\n\" clip-path=\"url(#p6398590d7a)\" style=\"fill: #4c72b0\"/>\n   </g>\n   <g id=\"patch_24\">\n    <path d=\"M 136.39554 313.717831 \nL 140.453722 313.717831 \nL 140.453722 313.717831 \nL 136.39554 313.717831 \nz\n\" clip-path=\"url(#p6398590d7a)\" style=\"fill: #4c72b0\"/>\n   </g>\n   <g id=\"patch_25\">\n    <path d=\"M 140.453722 313.717831 \nL 144.511903 313.717831 \nL 144.511903 313.717831 \nL 140.453722 313.717831 \nz\n\" clip-path=\"url(#p6398590d7a)\" style=\"fill: #4c72b0\"/>\n   </g>\n   <g id=\"patch_26\">\n    <path d=\"M 144.511903 313.717831 \nL 148.570085 313.717831 \nL 148.570085 313.717831 \nL 144.511903 313.717831 \nz\n\" clip-path=\"url(#p6398590d7a)\" style=\"fill: #4c72b0\"/>\n   </g>\n   <g id=\"patch_27\">\n    <path d=\"M 148.570085 313.717831 \nL 152.628267 313.717831 \nL 152.628267 313.717831 \nL 148.570085 313.717831 \nz\n\" clip-path=\"url(#p6398590d7a)\" style=\"fill: #4c72b0\"/>\n   </g>\n   <g id=\"patch_28\">\n    <path d=\"M 152.628267 313.717831 \nL 156.686449 313.717831 \nL 156.686449 313.717831 \nL 152.628267 313.717831 \nz\n\" clip-path=\"url(#p6398590d7a)\" style=\"fill: #4c72b0\"/>\n   </g>\n   <g id=\"patch_29\">\n    <path d=\"M 156.686449 313.717831 \nL 160.744631 313.717831 \nL 160.744631 313.717831 \nL 156.686449 313.717831 \nz\n\" clip-path=\"url(#p6398590d7a)\" style=\"fill: #4c72b0\"/>\n   </g>\n   <g id=\"patch_30\">\n    <path d=\"M 160.744631 313.717831 \nL 164.802812 313.717831 \nL 164.802812 313.717831 \nL 160.744631 313.717831 \nz\n\" clip-path=\"url(#p6398590d7a)\" style=\"fill: #4c72b0\"/>\n   </g>\n   <g id=\"patch_31\">\n    <path d=\"M 164.802812 313.717831 \nL 168.860994 313.717831 \nL 168.860994 313.717831 \nL 164.802812 313.717831 \nz\n\" clip-path=\"url(#p6398590d7a)\" style=\"fill: #4c72b0\"/>\n   </g>\n   <g id=\"patch_32\">\n    <path d=\"M 168.860994 313.717831 \nL 172.919176 313.717831 \nL 172.919176 313.717831 \nL 168.860994 313.717831 \nz\n\" clip-path=\"url(#p6398590d7a)\" style=\"fill: #4c72b0\"/>\n   </g>\n   <g id=\"patch_33\">\n    <path d=\"M 172.919176 313.717831 \nL 176.977358 313.717831 \nL 176.977358 313.717831 \nL 172.919176 313.717831 \nz\n\" clip-path=\"url(#p6398590d7a)\" style=\"fill: #4c72b0\"/>\n   </g>\n   <g id=\"patch_34\">\n    <path d=\"M 176.977358 313.717831 \nL 181.03554 313.717831 \nL 181.03554 313.717831 \nL 176.977358 313.717831 \nz\n\" clip-path=\"url(#p6398590d7a)\" style=\"fill: #4c72b0\"/>\n   </g>\n   <g id=\"patch_35\">\n    <path d=\"M 181.03554 313.717831 \nL 185.093722 313.717831 \nL 185.093722 313.717831 \nL 181.03554 313.717831 \nz\n\" clip-path=\"url(#p6398590d7a)\" style=\"fill: #4c72b0\"/>\n   </g>\n   <g id=\"patch_36\">\n    <path d=\"M 185.093722 313.717831 \nL 189.151903 313.717831 \nL 189.151903 313.717831 \nL 185.093722 313.717831 \nz\n\" clip-path=\"url(#p6398590d7a)\" style=\"fill: #4c72b0\"/>\n   </g>\n   <g id=\"patch_37\">\n    <path d=\"M 189.151903 313.717831 \nL 193.210085 313.717831 \nL 193.210085 313.717831 \nL 189.151903 313.717831 \nz\n\" clip-path=\"url(#p6398590d7a)\" style=\"fill: #4c72b0\"/>\n   </g>\n   <g id=\"patch_38\">\n    <path d=\"M 193.210085 313.717831 \nL 197.268267 313.717831 \nL 197.268267 313.717831 \nL 193.210085 313.717831 \nz\n\" clip-path=\"url(#p6398590d7a)\" style=\"fill: #4c72b0\"/>\n   </g>\n   <g id=\"patch_39\">\n    <path d=\"M 197.268267 313.717831 \nL 201.326449 313.717831 \nL 201.326449 313.717831 \nL 197.268267 313.717831 \nz\n\" clip-path=\"url(#p6398590d7a)\" style=\"fill: #4c72b0\"/>\n   </g>\n   <g id=\"patch_40\">\n    <path d=\"M 201.326449 313.717831 \nL 205.384631 313.717831 \nL 205.384631 313.717831 \nL 201.326449 313.717831 \nz\n\" clip-path=\"url(#p6398590d7a)\" style=\"fill: #4c72b0\"/>\n   </g>\n   <g id=\"patch_41\">\n    <path d=\"M 205.384631 313.717831 \nL 209.442812 313.717831 \nL 209.442812 313.717831 \nL 205.384631 313.717831 \nz\n\" clip-path=\"url(#p6398590d7a)\" style=\"fill: #4c72b0\"/>\n   </g>\n   <g id=\"patch_42\">\n    <path d=\"M 209.442812 313.717831 \nL 213.500994 313.717831 \nL 213.500994 313.717831 \nL 209.442812 313.717831 \nz\n\" clip-path=\"url(#p6398590d7a)\" style=\"fill: #4c72b0\"/>\n   </g>\n   <g id=\"patch_43\">\n    <path d=\"M 213.500994 313.717831 \nL 217.559176 313.717831 \nL 217.559176 313.717831 \nL 213.500994 313.717831 \nz\n\" clip-path=\"url(#p6398590d7a)\" style=\"fill: #4c72b0\"/>\n   </g>\n   <g id=\"patch_44\">\n    <path d=\"M 217.559176 313.717831 \nL 221.617358 313.717831 \nL 221.617358 313.717831 \nL 217.559176 313.717831 \nz\n\" clip-path=\"url(#p6398590d7a)\" style=\"fill: #4c72b0\"/>\n   </g>\n   <g id=\"patch_45\">\n    <path d=\"M 221.617358 313.717831 \nL 225.67554 313.717831 \nL 225.67554 313.717831 \nL 221.617358 313.717831 \nz\n\" clip-path=\"url(#p6398590d7a)\" style=\"fill: #4c72b0\"/>\n   </g>\n   <g id=\"patch_46\">\n    <path d=\"M 225.67554 313.717831 \nL 229.733722 313.717831 \nL 229.733722 313.717831 \nL 225.67554 313.717831 \nz\n\" clip-path=\"url(#p6398590d7a)\" style=\"fill: #4c72b0\"/>\n   </g>\n   <g id=\"patch_47\">\n    <path d=\"M 229.733722 313.717831 \nL 233.791903 313.717831 \nL 233.791903 313.717831 \nL 229.733722 313.717831 \nz\n\" clip-path=\"url(#p6398590d7a)\" style=\"fill: #4c72b0\"/>\n   </g>\n   <g id=\"patch_48\">\n    <path d=\"M 233.791903 313.717831 \nL 237.850085 313.717831 \nL 237.850085 313.717831 \nL 233.791903 313.717831 \nz\n\" clip-path=\"url(#p6398590d7a)\" style=\"fill: #4c72b0\"/>\n   </g>\n   <g id=\"patch_49\">\n    <path d=\"M 237.850085 313.717831 \nL 241.908267 313.717831 \nL 241.908267 313.717831 \nL 237.850085 313.717831 \nz\n\" clip-path=\"url(#p6398590d7a)\" style=\"fill: #4c72b0\"/>\n   </g>\n   <g id=\"patch_50\">\n    <path d=\"M 241.908267 313.717831 \nL 245.966449 313.717831 \nL 245.966449 313.717831 \nL 241.908267 313.717831 \nz\n\" clip-path=\"url(#p6398590d7a)\" style=\"fill: #4c72b0\"/>\n   </g>\n   <g id=\"patch_51\">\n    <path d=\"M 245.966449 313.717831 \nL 250.024631 313.717831 \nL 250.024631 313.717831 \nL 245.966449 313.717831 \nz\n\" clip-path=\"url(#p6398590d7a)\" style=\"fill: #4c72b0\"/>\n   </g>\n   <g id=\"patch_52\">\n    <path d=\"M 250.024631 313.717831 \nL 254.082812 313.717831 \nL 254.082812 313.717831 \nL 250.024631 313.717831 \nz\n\" clip-path=\"url(#p6398590d7a)\" style=\"fill: #4c72b0\"/>\n   </g>\n   <g id=\"patch_53\">\n    <path d=\"M 254.082812 313.717831 \nL 258.140994 313.717831 \nL 258.140994 313.717831 \nL 254.082812 313.717831 \nz\n\" clip-path=\"url(#p6398590d7a)\" style=\"fill: #4c72b0\"/>\n   </g>\n   <g id=\"patch_54\">\n    <path d=\"M 258.140994 313.717831 \nL 262.199176 313.717831 \nL 262.199176 313.717831 \nL 258.140994 313.717831 \nz\n\" clip-path=\"url(#p6398590d7a)\" style=\"fill: #4c72b0\"/>\n   </g>\n   <g id=\"patch_55\">\n    <path d=\"M 262.199176 313.717831 \nL 266.257358 313.717831 \nL 266.257358 313.339213 \nL 262.199176 313.339213 \nz\n\" clip-path=\"url(#p6398590d7a)\" style=\"fill: #4c72b0\"/>\n   </g>\n   <g id=\"patch_56\">\n    <path d=\"M 266.257358 313.717831 \nL 270.31554 313.717831 \nL 270.31554 313.717831 \nL 266.257358 313.717831 \nz\n\" clip-path=\"url(#p6398590d7a)\" style=\"fill: #4c72b0\"/>\n   </g>\n   <g id=\"patch_57\">\n    <path d=\"M 270.31554 313.717831 \nL 274.373722 313.717831 \nL 274.373722 313.717831 \nL 270.31554 313.717831 \nz\n\" clip-path=\"url(#p6398590d7a)\" style=\"fill: #4c72b0\"/>\n   </g>\n   <g id=\"patch_58\">\n    <path d=\"M 274.373722 313.717831 \nL 278.431903 313.717831 \nL 278.431903 313.717831 \nL 274.373722 313.717831 \nz\n\" clip-path=\"url(#p6398590d7a)\" style=\"fill: #4c72b0\"/>\n   </g>\n   <g id=\"patch_59\">\n    <path d=\"M 278.431903 313.717831 \nL 282.490085 313.717831 \nL 282.490085 313.339213 \nL 278.431903 313.339213 \nz\n\" clip-path=\"url(#p6398590d7a)\" style=\"fill: #4c72b0\"/>\n   </g>\n   <g id=\"patch_60\">\n    <path d=\"M 282.490085 313.717831 \nL 286.548267 313.717831 \nL 286.548267 313.339213 \nL 282.490085 313.339213 \nz\n\" clip-path=\"url(#p6398590d7a)\" style=\"fill: #4c72b0\"/>\n   </g>\n   <g id=\"patch_61\">\n    <path d=\"M 286.548267 313.717831 \nL 290.606449 313.717831 \nL 290.606449 313.339213 \nL 286.548267 313.339213 \nz\n\" clip-path=\"url(#p6398590d7a)\" style=\"fill: #4c72b0\"/>\n   </g>\n   <g id=\"patch_62\">\n    <path d=\"M 290.606449 313.717831 \nL 294.664631 313.717831 \nL 294.664631 313.339213 \nL 290.606449 313.339213 \nz\n\" clip-path=\"url(#p6398590d7a)\" style=\"fill: #4c72b0\"/>\n   </g>\n   <g id=\"patch_63\">\n    <path d=\"M 294.664631 313.717831 \nL 298.722812 313.717831 \nL 298.722812 312.203359 \nL 294.664631 312.203359 \nz\n\" clip-path=\"url(#p6398590d7a)\" style=\"fill: #4c72b0\"/>\n   </g>\n   <g id=\"patch_64\">\n    <path d=\"M 298.722812 313.717831 \nL 302.780994 313.717831 \nL 302.780994 312.203359 \nL 298.722812 312.203359 \nz\n\" clip-path=\"url(#p6398590d7a)\" style=\"fill: #4c72b0\"/>\n   </g>\n   <g id=\"patch_65\">\n    <path d=\"M 302.780994 313.717831 \nL 306.839176 313.717831 \nL 306.839176 312.581977 \nL 302.780994 312.581977 \nz\n\" clip-path=\"url(#p6398590d7a)\" style=\"fill: #4c72b0\"/>\n   </g>\n   <g id=\"patch_66\">\n    <path d=\"M 306.839176 313.717831 \nL 310.897358 313.717831 \nL 310.897358 312.581977 \nL 306.839176 312.581977 \nz\n\" clip-path=\"url(#p6398590d7a)\" style=\"fill: #4c72b0\"/>\n   </g>\n   <g id=\"patch_67\">\n    <path d=\"M 310.897358 313.717831 \nL 314.95554 313.717831 \nL 314.95554 310.310269 \nL 310.897358 310.310269 \nz\n\" clip-path=\"url(#p6398590d7a)\" style=\"fill: #4c72b0\"/>\n   </g>\n   <g id=\"patch_68\">\n    <path d=\"M 314.95554 313.717831 \nL 319.013722 313.717831 \nL 319.013722 307.281325 \nL 314.95554 307.281325 \nz\n\" clip-path=\"url(#p6398590d7a)\" style=\"fill: #4c72b0\"/>\n   </g>\n   <g id=\"patch_69\">\n    <path d=\"M 319.013722 313.717831 \nL 323.071903 313.717831 \nL 323.071903 305.009617 \nL 319.013722 305.009617 \nz\n\" clip-path=\"url(#p6398590d7a)\" style=\"fill: #4c72b0\"/>\n   </g>\n   <g id=\"patch_70\">\n    <path d=\"M 323.071903 313.717831 \nL 327.130085 313.717831 \nL 327.130085 291.757988 \nL 323.071903 291.757988 \nz\n\" clip-path=\"url(#p6398590d7a)\" style=\"fill: #4c72b0\"/>\n   </g>\n   <g id=\"patch_71\">\n    <path d=\"M 327.130085 313.717831 \nL 331.188267 313.717831 \nL 331.188267 264.118874 \nL 327.130085 264.118874 \nz\n\" clip-path=\"url(#p6398590d7a)\" style=\"fill: #4c72b0\"/>\n   </g>\n   <g id=\"patch_72\">\n    <path d=\"M 331.188267 313.717831 \nL 335.246449 313.717831 \nL 335.246449 114.186149 \nL 331.188267 114.186149 \nz\n\" clip-path=\"url(#p6398590d7a)\" style=\"fill: #4c72b0\"/>\n   </g>\n   <g id=\"patch_73\">\n    <path d=\"M 335.246449 313.717831 \nL 339.304631 313.717831 \nL 339.304631 23.317831 \nL 335.246449 23.317831 \nz\n\" clip-path=\"url(#p6398590d7a)\" style=\"fill: #4c72b0\"/>\n   </g>\n   <g id=\"patch_74\">\n    <path d=\"M 339.304631 313.717831 \nL 343.362812 313.717831 \nL 343.362812 240.265941 \nL 339.304631 240.265941 \nz\n\" clip-path=\"url(#p6398590d7a)\" style=\"fill: #4c72b0\"/>\n   </g>\n   <g id=\"patch_75\">\n    <path d=\"M 343.362812 313.717831 \nL 347.420994 313.717831 \nL 347.420994 278.12774 \nL 343.362812 278.12774 \nz\n\" clip-path=\"url(#p6398590d7a)\" style=\"fill: #4c72b0\"/>\n   </g>\n   <g id=\"patch_76\">\n    <path d=\"M 347.420994 313.717831 \nL 351.479176 313.717831 \nL 351.479176 298.194494 \nL 347.420994 298.194494 \nz\n\" clip-path=\"url(#p6398590d7a)\" style=\"fill: #4c72b0\"/>\n   </g>\n   <g id=\"patch_77\">\n    <path d=\"M 351.479176 313.717831 \nL 355.537358 313.717831 \nL 355.537358 304.630999 \nL 351.479176 304.630999 \nz\n\" clip-path=\"url(#p6398590d7a)\" style=\"fill: #4c72b0\"/>\n   </g>\n   <g id=\"patch_78\">\n    <path d=\"M 355.537358 313.717831 \nL 359.59554 313.717831 \nL 359.59554 308.795797 \nL 355.537358 308.795797 \nz\n\" clip-path=\"url(#p6398590d7a)\" style=\"fill: #4c72b0\"/>\n   </g>\n   <g id=\"patch_79\">\n    <path d=\"M 359.59554 313.717831 \nL 363.653722 313.717831 \nL 363.653722 309.174415 \nL 359.59554 309.174415 \nz\n\" clip-path=\"url(#p6398590d7a)\" style=\"fill: #4c72b0\"/>\n   </g>\n   <g id=\"patch_80\">\n    <path d=\"M 363.653722 313.717831 \nL 367.711903 313.717831 \nL 367.711903 311.067505 \nL 363.653722 311.067505 \nz\n\" clip-path=\"url(#p6398590d7a)\" style=\"fill: #4c72b0\"/>\n   </g>\n   <g id=\"patch_81\">\n    <path d=\"M 367.711903 313.717831 \nL 371.770085 313.717831 \nL 371.770085 311.824741 \nL 367.711903 311.824741 \nz\n\" clip-path=\"url(#p6398590d7a)\" style=\"fill: #4c72b0\"/>\n   </g>\n   <g id=\"patch_82\">\n    <path d=\"M 371.770085 313.717831 \nL 375.828267 313.717831 \nL 375.828267 311.446123 \nL 371.770085 311.446123 \nz\n\" clip-path=\"url(#p6398590d7a)\" style=\"fill: #4c72b0\"/>\n   </g>\n   <g id=\"patch_83\">\n    <path d=\"M 375.828267 313.717831 \nL 379.886449 313.717831 \nL 379.886449 312.581977 \nL 375.828267 312.581977 \nz\n\" clip-path=\"url(#p6398590d7a)\" style=\"fill: #4c72b0\"/>\n   </g>\n   <g id=\"patch_84\">\n    <path d=\"M 379.886449 313.717831 \nL 383.944631 313.717831 \nL 383.944631 312.960595 \nL 379.886449 312.960595 \nz\n\" clip-path=\"url(#p6398590d7a)\" style=\"fill: #4c72b0\"/>\n   </g>\n   <g id=\"patch_85\">\n    <path d=\"M 383.944631 313.717831 \nL 388.002812 313.717831 \nL 388.002812 312.960595 \nL 383.944631 312.960595 \nz\n\" clip-path=\"url(#p6398590d7a)\" style=\"fill: #4c72b0\"/>\n   </g>\n   <g id=\"patch_86\">\n    <path d=\"M 388.002813 313.717831 \nL 392.060994 313.717831 \nL 392.060994 313.339213 \nL 388.002813 313.339213 \nz\n\" clip-path=\"url(#p6398590d7a)\" style=\"fill: #4c72b0\"/>\n   </g>\n   <g id=\"patch_87\">\n    <path d=\"M 392.060994 313.717831 \nL 396.119176 313.717831 \nL 396.119176 313.339213 \nL 392.060994 313.339213 \nz\n\" clip-path=\"url(#p6398590d7a)\" style=\"fill: #4c72b0\"/>\n   </g>\n   <g id=\"patch_88\">\n    <path d=\"M 396.119176 313.717831 \nL 400.177358 313.717831 \nL 400.177358 313.717831 \nL 396.119176 313.717831 \nz\n\" clip-path=\"url(#p6398590d7a)\" style=\"fill: #4c72b0\"/>\n   </g>\n   <g id=\"patch_89\">\n    <path d=\"M 400.177358 313.717831 \nL 404.23554 313.717831 \nL 404.23554 313.339213 \nL 400.177358 313.339213 \nz\n\" clip-path=\"url(#p6398590d7a)\" style=\"fill: #4c72b0\"/>\n   </g>\n   <g id=\"patch_90\">\n    <path d=\"M 404.23554 313.717831 \nL 408.293722 313.717831 \nL 408.293722 313.717831 \nL 404.23554 313.717831 \nz\n\" clip-path=\"url(#p6398590d7a)\" style=\"fill: #4c72b0\"/>\n   </g>\n   <g id=\"patch_91\">\n    <path d=\"M 408.293722 313.717831 \nL 412.351903 313.717831 \nL 412.351903 313.717831 \nL 408.293722 313.717831 \nz\n\" clip-path=\"url(#p6398590d7a)\" style=\"fill: #4c72b0\"/>\n   </g>\n   <g id=\"patch_92\">\n    <path d=\"M 412.351903 313.717831 \nL 416.410085 313.717831 \nL 416.410085 313.339213 \nL 412.351903 313.339213 \nz\n\" clip-path=\"url(#p6398590d7a)\" style=\"fill: #4c72b0\"/>\n   </g>\n   <g id=\"patch_93\">\n    <path d=\"M 416.410085 313.717831 \nL 420.468267 313.717831 \nL 420.468267 312.581977 \nL 416.410085 312.581977 \nz\n\" clip-path=\"url(#p6398590d7a)\" style=\"fill: #4c72b0\"/>\n   </g>\n   <g id=\"patch_94\">\n    <path d=\"M 420.468267 313.717831 \nL 424.526449 313.717831 \nL 424.526449 313.339213 \nL 420.468267 313.339213 \nz\n\" clip-path=\"url(#p6398590d7a)\" style=\"fill: #4c72b0\"/>\n   </g>\n   <g id=\"patch_95\">\n    <path d=\"M 424.526449 313.717831 \nL 428.584631 313.717831 \nL 428.584631 313.339213 \nL 424.526449 313.339213 \nz\n\" clip-path=\"url(#p6398590d7a)\" style=\"fill: #4c72b0\"/>\n   </g>\n   <g id=\"patch_96\">\n    <path d=\"M 428.584631 313.717831 \nL 432.642812 313.717831 \nL 432.642812 313.717831 \nL 428.584631 313.717831 \nz\n\" clip-path=\"url(#p6398590d7a)\" style=\"fill: #4c72b0\"/>\n   </g>\n   <g id=\"patch_97\">\n    <path d=\"M 432.642812 313.717831 \nL 436.700994 313.717831 \nL 436.700994 313.717831 \nL 432.642812 313.717831 \nz\n\" clip-path=\"url(#p6398590d7a)\" style=\"fill: #4c72b0\"/>\n   </g>\n   <g id=\"patch_98\">\n    <path d=\"M 436.700994 313.717831 \nL 440.759176 313.717831 \nL 440.759176 313.717831 \nL 436.700994 313.717831 \nz\n\" clip-path=\"url(#p6398590d7a)\" style=\"fill: #4c72b0\"/>\n   </g>\n   <g id=\"patch_99\">\n    <path d=\"M 440.759176 313.717831 \nL 444.817358 313.717831 \nL 444.817358 313.717831 \nL 440.759176 313.717831 \nz\n\" clip-path=\"url(#p6398590d7a)\" style=\"fill: #4c72b0\"/>\n   </g>\n   <g id=\"patch_100\">\n    <path d=\"M 444.817358 313.717831 \nL 448.87554 313.717831 \nL 448.87554 313.339213 \nL 444.817358 313.339213 \nz\n\" clip-path=\"url(#p6398590d7a)\" style=\"fill: #4c72b0\"/>\n   </g>\n   <g id=\"patch_101\">\n    <path d=\"M 448.87554 313.717831 \nL 452.933722 313.717831 \nL 452.933722 313.717831 \nL 448.87554 313.717831 \nz\n\" clip-path=\"url(#p6398590d7a)\" style=\"fill: #4c72b0\"/>\n   </g>\n   <g id=\"patch_102\">\n    <path d=\"M 452.933722 313.717831 \nL 456.991903 313.717831 \nL 456.991903 313.339213 \nL 452.933722 313.339213 \nz\n\" clip-path=\"url(#p6398590d7a)\" style=\"fill: #4c72b0\"/>\n   </g>\n   <g id=\"patch_103\">\n    <path d=\"M 30.882812 313.717831 \nL 30.882812 8.797831 \n\" style=\"fill: none\"/>\n   </g>\n   <g id=\"patch_104\">\n    <path d=\"M 477.282812 313.717831 \nL 477.282812 8.797831 \n\" style=\"fill: none\"/>\n   </g>\n   <g id=\"patch_105\">\n    <path d=\"M 30.882812 313.717831 \nL 477.282812 313.717831 \n\" style=\"fill: none\"/>\n   </g>\n   <g id=\"patch_106\">\n    <path d=\"M 30.882812 8.797831 \nL 477.282812 8.797831 \n\" style=\"fill: none\"/>\n   </g>\n  </g>\n </g>\n <defs>\n  <clipPath id=\"p6398590d7a\">\n   <rect x=\"30.882812\" y=\"8.797831\" width=\"446.4\" height=\"304.92\"/>\n  </clipPath>\n </defs>\n</svg>\n"
          },
          "metadata": {}
        }
      ]
    },
    {
      "cell_type": "markdown",
      "source": [
        "绘制收益率 'r' 列的直方图。\n",
        "\n",
        "* data['r']: 选择了 data DataFrame 中的 'r' 列，也就是计算出的收益率数据。\n",
        "    .hist(bins=100): 这是 pandas Series 的一个方法，用于绘制直方图。\n",
        "* bins=100 参数指定了直方图的 bin（柱子）的数量。设置 bins=100 会将收益率数据的范围分成 100 个区间，然后统计每个区间内的数据点数量。\n",
        "\n",
        "这段代码会生成一个直方图，显示收益率 'r' 的分布情况。\n",
        "可以从直方图中看出收益率主要集中在哪些范围内，以及它们的分布形状（例如是否接近正态分布）。"
      ],
      "metadata": {
        "id": "4NiXTGmk-6xz"
      },
      "id": "4NiXTGmk-6xz"
    },
    {
      "cell_type": "markdown",
      "source": [
        "# 检验"
      ],
      "metadata": {
        "id": "mcGTGbkJAIXL"
      },
      "id": "mcGTGbkJAIXL"
    },
    {
      "cell_type": "code",
      "source": [
        "test['p'] = model.predict(test_[cols])"
      ],
      "metadata": {
        "id": "oix0bUBcAPh-"
      },
      "id": "oix0bUBcAPh-",
      "execution_count": 37,
      "outputs": []
    },
    {
      "cell_type": "markdown",
      "source": [
        "使用训练好的模型对测试数据进行预测，并将预测结果存储在 test DataFrame 的新列中。\n",
        "\n",
        "* test: 这是您之前创建的测试集 DataFrame，包含了原始数据中用于验证模型的 20% 数据。\n",
        "* ['p']: 在 test DataFrame 中创建一个新的列，命名为 'p'。这个列将用于存储模型的预测结果。\n",
        "* model.predict(test_[cols]): 这部分代码使用训练好的 model 对测试数据的特征 (test_[cols]) 进行预测。\n",
        "  * test_ 是经过标准化的测试集 DataFrame。\n",
        "  * [cols] 选择了 test_ DataFrame 中用于预测的特征列（即滞后收益率列）。\n",
        "  * model.predict() 方法会返回模型对这些测试数据样本的预测结果（在这里是预测的收益率方向，1 或 -1）。\n",
        "\n",
        "因此，这行代码将模型在测试集上的预测结果赋值给了 test DataFrame 中的 'p' 列。\n",
        "\n",
        "这样您就可以将模型的预测结果与测试集的真实标签（在 'd' 列中）进行比较，从而评估模型在未见过的数据上的表现。"
      ],
      "metadata": {
        "id": "BtcGowE6AeSw"
      },
      "id": "BtcGowE6AeSw"
    },
    {
      "cell_type": "code",
      "source": [
        "print(test.tail(10));"
      ],
      "metadata": {
        "colab": {
          "base_uri": "https://localhost:8080/"
        },
        "id": "CfRFr6ANBLjY",
        "outputId": "15cd5d98-19b4-4c5b-cbb0-af973559157c"
      },
      "id": "CfRFr6ANBLjY",
      "execution_count": 42,
      "outputs": [
        {
          "output_type": "stream",
          "name": "stdout",
          "text": [
            "                     day   open   high    low  close   volume         r  d  \\\n",
            "1960 2025-08-15 14:49:00  18.79  18.89  18.78  18.85   602413  0.004786  1   \n",
            "1961 2025-08-15 14:50:00  18.81  18.85  18.75  18.75   568087 -0.005319 -1   \n",
            "1962 2025-08-15 14:51:00  18.75  18.82  18.73  18.77   554300  0.001066  1   \n",
            "1963 2025-08-15 14:52:00  18.79  18.93  18.77  18.92  1008692  0.007960  1   \n",
            "1964 2025-08-15 14:53:00  18.93  19.08  18.92  19.07  1002700  0.007897  1   \n",
            "1965 2025-08-15 14:54:00  19.07  19.09  18.83  18.83  1386500 -0.012665 -1   \n",
            "1966 2025-08-15 14:55:00  18.83  18.98  18.78  18.95   713812  0.006353  1   \n",
            "1967 2025-08-15 14:56:00  18.93  18.96  18.83  18.89   614088 -0.003171 -1   \n",
            "1968 2025-08-15 14:57:00  18.89  18.89  18.77  18.84   856900 -0.002650 -1   \n",
            "1969 2025-08-15 15:00:00  18.85  18.85  18.85  18.85  1238200  0.000531  1   \n",
            "\n",
            "         lag_1     lag_2     lag_3  p  \n",
            "1960 -0.002662  0.002662  0.002669  1  \n",
            "1961  0.004786 -0.002662  0.002662 -1  \n",
            "1962 -0.005319  0.004786 -0.002662 -1  \n",
            "1963  0.001066 -0.005319  0.004786 -1  \n",
            "1964  0.007960  0.001066 -0.005319  1  \n",
            "1965  0.007897  0.007960  0.001066 -1  \n",
            "1966 -0.012665  0.007897  0.007960  1  \n",
            "1967  0.006353 -0.012665  0.007897  1  \n",
            "1968 -0.003171  0.006353 -0.012665 -1  \n",
            "1969 -0.002650 -0.003171  0.006353  1  \n"
          ]
        }
      ]
    },
    {
      "cell_type": "code",
      "source": [
        "test_score = accuracy_score(test['d'], test['p']);\n",
        "print(test_score);"
      ],
      "metadata": {
        "colab": {
          "base_uri": "https://localhost:8080/"
        },
        "id": "rrqIrcOHChWN",
        "outputId": "af0afb55-9a28-462a-f1a3-fd654d414bfd"
      },
      "id": "rrqIrcOHChWN",
      "execution_count": 43,
      "outputs": [
        {
          "output_type": "stream",
          "name": "stdout",
          "text": [
            "0.4517766497461929\n"
          ]
        }
      ]
    },
    {
      "cell_type": "code",
      "source": [
        "test['s'] = test['p'] * test['r']"
      ],
      "metadata": {
        "id": "eYxjhgTRDiUm"
      },
      "id": "eYxjhgTRDiUm",
      "execution_count": 44,
      "outputs": []
    },
    {
      "cell_type": "markdown",
      "source": [
        "计算基于模型预测的交易策略在测试集上的收益。\n",
        "\n",
        "* test: 这是测试集 DataFrame。\n",
        "* ['s']: 在 test DataFrame 中创建一个新的列，命名为 's'。这个列将用于存储策略的瞬时收益。\n",
        "* test['p']: 这是模型在测试集上对收益率方向的预测结果（1 或 -1）。\n",
        "* test['r']: 这是测试集上实际的收益率。\n",
        "\n",
        "这行代码将模型的预测方向 (test['p']) 与实际的收益率 (test['r']) 相乘。\n",
        "\n",
        "* 如果模型预测方向是 1（上涨），并且实际收益率是正的，那么策略收益就是正的。\n",
        "* 如果模型预测方向是 1（上涨），但实际收益率是负的，那么策略收益就是负的（亏损）。\n",
        "* 如果模型预测方向是 -1（下跌），并且实际收益率是负的，那么策略收益就是正的。\n",
        "* 如果模型预测方向是 -1（下跌），但实际收益率是正的，那么策略收益就是负的（亏损）。\n",
        "\n",
        "通过计算 test['p'] * test['r']，得到了在每个时间点上，如果按照模型的预测方向进行交易（做多或做空）所获得的收益。这个 's' 列的数据可以用于后续分析策略的整体表现，例如计算累积收益。\n",
        "\n",
        "您当前的准确率（无论是训练集还是测试集）都比较接近 0.5，这意味着模型预测的正确率大致在随机猜测的水平。在这样的准确率下，test['s'] 计算出的策略收益可能不会很高，甚至可能是负的，因为模型无法有效地预测市场的方向。"
      ],
      "metadata": {
        "id": "6WMJCnPAEJ-l"
      },
      "id": "6WMJCnPAEJ-l"
    },
    {
      "cell_type": "code",
      "source": [
        "rr, ss = test[['r', 's']].sum().apply(np.exp);\n",
        "print(\"rr:\", rr, \"\\tss:\", ss);"
      ],
      "metadata": {
        "colab": {
          "base_uri": "https://localhost:8080/"
        },
        "id": "l5fEfwDwFSFU",
        "outputId": "d3e9b768-5369-4bc2-e36f-bb2e9e80eddd"
      },
      "id": "l5fEfwDwFSFU",
      "execution_count": 46,
      "outputs": [
        {
          "output_type": "stream",
          "name": "stdout",
          "text": [
            "rr: 0.9607543323139649 \tss: 0.9206212879076742\n"
          ]
        }
      ]
    },
    {
      "cell_type": "markdown",
      "source": [
        "计算测试集上原始收益率 ('r') 和策略收益率 ('s') 的累积和，然后对这些累积和应用指数函数，以得到总的累积收益（或增长因子）。\n",
        "\n",
        "* test[['r', 's']]: 选择了 test DataFrame 中的 'r' 和 's' 两列。\n",
        "* .sum(): 对选定的这两列分别计算它们的总和。对于收益率而言，对数收益率的累积和等于总的对数收益率。\n",
        "* .apply(np.exp): 对 .sum() 计算得到的每个总和应用 np.exp() 函数。指数函数是自然对数的逆运算。如果您计算的是对数收益率的累积和，那么对其应用指数函数就会得到总的累积收益率（即期末价值除以期初价值）。\n",
        "\n",
        "例如，如果累积对数收益率是 0.1，那么 np.exp(0.1) 会得到一个大于 1 的值，表示总的累积收益是正的。如果累积对数收益率是 -0.1，那么 np.exp(-0.1) 会得到一个小于 1 的值，表示总的累积收益是负的（亏损）。\n",
        "\n",
        "这段代码的输出将是 'r' 列和 's' 列各自的总累积收益率。通过比较这两个值，可以评估策略 ('s') 相对于简单持有资产 ('r') 在测试期内的表现。"
      ],
      "metadata": {
        "id": "4cXjUd1UFagK"
      },
      "id": "4cXjUd1UFagK"
    },
    {
      "cell_type": "code",
      "source": [
        "test[['r', 's']].cumsum().apply(np.exp).plot();"
      ],
      "metadata": {
        "colab": {
          "base_uri": "https://localhost:8080/",
          "height": 468
        },
        "id": "OKweoorbHHej",
        "outputId": "06df4816-07e6-4b5d-985f-c393c8dc7971"
      },
      "id": "OKweoorbHHej",
      "execution_count": 48,
      "outputs": [
        {
          "output_type": "display_data",
          "data": {
            "text/plain": [
              "<Figure size 800x550 with 1 Axes>"
            ],
            "image/svg+xml": "<?xml version=\"1.0\" encoding=\"utf-8\" standalone=\"no\"?>\n<!DOCTYPE svg PUBLIC \"-//W3C//DTD SVG 1.1//EN\"\n  \"http://www.w3.org/Graphics/SVG/1.1/DTD/svg11.dtd\">\n<svg xmlns:xlink=\"http://www.w3.org/1999/xlink\" width=\"487.260937pt\" height=\"335.641875pt\" viewBox=\"0 0 487.260937 335.641875\" xmlns=\"http://www.w3.org/2000/svg\" version=\"1.1\">\n <metadata>\n  <rdf:RDF xmlns:dc=\"http://purl.org/dc/elements/1.1/\" xmlns:cc=\"http://creativecommons.org/ns#\" xmlns:rdf=\"http://www.w3.org/1999/02/22-rdf-syntax-ns#\">\n   <cc:Work>\n    <dc:type rdf:resource=\"http://purl.org/dc/dcmitype/StillImage\"/>\n    <dc:date>2025-08-15T14:25:30.174426</dc:date>\n    <dc:format>image/svg+xml</dc:format>\n    <dc:creator>\n     <cc:Agent>\n      <dc:title>Matplotlib v3.10.0, https://matplotlib.org/</dc:title>\n     </cc:Agent>\n    </dc:creator>\n   </cc:Work>\n  </rdf:RDF>\n </metadata>\n <defs>\n  <style type=\"text/css\">*{stroke-linejoin: round; stroke-linecap: butt}</style>\n </defs>\n <g id=\"figure_1\">\n  <g id=\"patch_1\">\n   <path d=\"M 0 335.641875 \nL 487.260937 335.641875 \nL 487.260937 0 \nL 0 0 \nz\n\" style=\"fill: #ffffff\"/>\n  </g>\n  <g id=\"axes_1\">\n   <g id=\"patch_2\">\n    <path d=\"M 33.660938 312.12 \nL 480.060937 312.12 \nL 480.060937 7.2 \nL 33.660938 7.2 \nz\n\" style=\"fill: #eaeaf2\"/>\n   </g>\n   <g id=\"matplotlib.axis_1\">\n    <g id=\"xtick_1\">\n     <g id=\"line2d_1\">\n      <path d=\"M 78.734636 312.12 \nL 78.734636 7.2 \n\" clip-path=\"url(#p9827e9810c)\" style=\"fill: none; stroke: #ffffff; stroke-linecap: round\"/>\n     </g>\n     <g id=\"line2d_2\"/>\n     <g id=\"text_1\">\n      <!-- 1600 -->\n      <g style=\"fill: #262626\" transform=\"translate(67.612761 326.366875) scale(0.1 -0.1)\">\n       <defs>\n        <path id=\"LiberationSans-31\" d=\"M 488 0 \nL 488 478 \nL 1609 478 \nL 1609 3866 \nL 616 3156 \nL 616 3688 \nL 1656 4403 \nL 2175 4403 \nL 2175 478 \nL 3247 478 \nL 3247 0 \nL 488 0 \nz\n\" transform=\"scale(0.015625)\"/>\n        <path id=\"LiberationSans-36\" d=\"M 3278 1441 \nQ 3278 1109 3186 832 \nQ 3094 556 2914 357 \nQ 2734 159 2468 48 \nQ 2203 -63 1856 -63 \nQ 1472 -63 1184 84 \nQ 897 231 706 507 \nQ 516 784 420 1186 \nQ 325 1588 325 2100 \nQ 325 2688 433 3131 \nQ 541 3575 744 3872 \nQ 947 4169 1239 4319 \nQ 1531 4469 1900 4469 \nQ 2125 4469 2322 4422 \nQ 2519 4375 2680 4270 \nQ 2841 4166 2962 3994 \nQ 3084 3822 3156 3572 \nL 2619 3475 \nQ 2531 3759 2339 3886 \nQ 2147 4013 1894 4013 \nQ 1663 4013 1475 3903 \nQ 1288 3794 1156 3576 \nQ 1025 3359 954 3031 \nQ 884 2703 884 2266 \nQ 1038 2550 1316 2698 \nQ 1594 2847 1953 2847 \nQ 2253 2847 2497 2750 \nQ 2741 2653 2914 2470 \nQ 3088 2288 3183 2027 \nQ 3278 1766 3278 1441 \nz\nM 2706 1416 \nQ 2706 1644 2650 1828 \nQ 2594 2013 2481 2142 \nQ 2369 2272 2203 2342 \nQ 2038 2413 1819 2413 \nQ 1666 2413 1509 2367 \nQ 1353 2322 1226 2220 \nQ 1100 2119 1020 1953 \nQ 941 1788 941 1550 \nQ 941 1306 1003 1095 \nQ 1066 884 1183 728 \nQ 1300 572 1465 481 \nQ 1631 391 1838 391 \nQ 2041 391 2202 461 \nQ 2363 531 2475 664 \nQ 2588 797 2647 987 \nQ 2706 1178 2706 1416 \nz\n\" transform=\"scale(0.015625)\"/>\n        <path id=\"LiberationSans-30\" d=\"M 3309 2203 \nQ 3309 1569 3189 1136 \nQ 3069 703 2861 436 \nQ 2653 169 2372 53 \nQ 2091 -63 1772 -63 \nQ 1450 -63 1172 53 \nQ 894 169 689 434 \nQ 484 700 367 1133 \nQ 250 1566 250 2203 \nQ 250 2869 367 3305 \nQ 484 3741 690 4000 \nQ 897 4259 1178 4364 \nQ 1459 4469 1791 4469 \nQ 2106 4469 2382 4364 \nQ 2659 4259 2865 4000 \nQ 3072 3741 3190 3305 \nQ 3309 2869 3309 2203 \nz\nM 2738 2203 \nQ 2738 2728 2675 3076 \nQ 2613 3425 2491 3633 \nQ 2369 3841 2192 3927 \nQ 2016 4013 1791 4013 \nQ 1553 4013 1372 3925 \nQ 1191 3838 1067 3630 \nQ 944 3422 881 3073 \nQ 819 2725 819 2203 \nQ 819 1697 883 1350 \nQ 947 1003 1070 792 \nQ 1194 581 1372 489 \nQ 1550 397 1778 397 \nQ 2000 397 2178 489 \nQ 2356 581 2479 792 \nQ 2603 1003 2670 1350 \nQ 2738 1697 2738 2203 \nz\n\" transform=\"scale(0.015625)\"/>\n       </defs>\n       <use xlink:href=\"#LiberationSans-31\"/>\n       <use xlink:href=\"#LiberationSans-36\" transform=\"translate(55.615234 0)\"/>\n       <use xlink:href=\"#LiberationSans-30\" transform=\"translate(111.230469 0)\"/>\n       <use xlink:href=\"#LiberationSans-30\" transform=\"translate(166.845703 0)\"/>\n      </g>\n     </g>\n    </g>\n    <g id=\"xtick_2\">\n     <g id=\"line2d_3\">\n      <path d=\"M 130.365448 312.12 \nL 130.365448 7.2 \n\" clip-path=\"url(#p9827e9810c)\" style=\"fill: none; stroke: #ffffff; stroke-linecap: round\"/>\n     </g>\n     <g id=\"line2d_4\"/>\n     <g id=\"text_2\">\n      <!-- 1650 -->\n      <g style=\"fill: #262626\" transform=\"translate(119.243573 326.366875) scale(0.1 -0.1)\">\n       <defs>\n        <path id=\"LiberationSans-35\" d=\"M 3291 1434 \nQ 3291 1103 3191 828 \nQ 3091 553 2894 354 \nQ 2697 156 2405 46 \nQ 2113 -63 1728 -63 \nQ 1381 -63 1123 18 \nQ 866 100 687 242 \nQ 509 384 404 575 \nQ 300 766 256 984 \nL 825 1050 \nQ 859 925 921 808 \nQ 984 691 1092 598 \nQ 1200 506 1358 451 \nQ 1516 397 1741 397 \nQ 1959 397 2137 464 \nQ 2316 531 2442 662 \nQ 2569 794 2637 984 \nQ 2706 1175 2706 1422 \nQ 2706 1625 2640 1795 \nQ 2575 1966 2453 2089 \nQ 2331 2213 2154 2281 \nQ 1978 2350 1753 2350 \nQ 1613 2350 1494 2325 \nQ 1375 2300 1273 2256 \nQ 1172 2213 1089 2155 \nQ 1006 2097 934 2034 \nL 384 2034 \nL 531 4403 \nL 3034 4403 \nL 3034 3925 \nL 1044 3925 \nL 959 2528 \nQ 1109 2644 1334 2726 \nQ 1559 2809 1869 2809 \nQ 2197 2809 2459 2709 \nQ 2722 2609 2906 2426 \nQ 3091 2244 3191 1991 \nQ 3291 1738 3291 1434 \nz\n\" transform=\"scale(0.015625)\"/>\n       </defs>\n       <use xlink:href=\"#LiberationSans-31\"/>\n       <use xlink:href=\"#LiberationSans-36\" transform=\"translate(55.615234 0)\"/>\n       <use xlink:href=\"#LiberationSans-35\" transform=\"translate(111.230469 0)\"/>\n       <use xlink:href=\"#LiberationSans-30\" transform=\"translate(166.845703 0)\"/>\n      </g>\n     </g>\n    </g>\n    <g id=\"xtick_3\">\n     <g id=\"line2d_5\">\n      <path d=\"M 181.99626 312.12 \nL 181.99626 7.2 \n\" clip-path=\"url(#p9827e9810c)\" style=\"fill: none; stroke: #ffffff; stroke-linecap: round\"/>\n     </g>\n     <g id=\"line2d_6\"/>\n     <g id=\"text_3\">\n      <!-- 1700 -->\n      <g style=\"fill: #262626\" transform=\"translate(170.874385 326.366875) scale(0.1 -0.1)\">\n       <defs>\n        <path id=\"LiberationSans-37\" d=\"M 3238 3947 \nQ 2906 3441 2628 2973 \nQ 2350 2506 2150 2032 \nQ 1950 1559 1839 1061 \nQ 1728 563 1728 0 \nL 1141 0 \nQ 1141 528 1266 1036 \nQ 1391 1544 1603 2033 \nQ 1816 2522 2097 2994 \nQ 2378 3466 2694 3925 \nL 328 3925 \nL 328 4403 \nL 3238 4403 \nL 3238 3947 \nz\n\" transform=\"scale(0.015625)\"/>\n       </defs>\n       <use xlink:href=\"#LiberationSans-31\"/>\n       <use xlink:href=\"#LiberationSans-37\" transform=\"translate(55.615234 0)\"/>\n       <use xlink:href=\"#LiberationSans-30\" transform=\"translate(111.230469 0)\"/>\n       <use xlink:href=\"#LiberationSans-30\" transform=\"translate(166.845703 0)\"/>\n      </g>\n     </g>\n    </g>\n    <g id=\"xtick_4\">\n     <g id=\"line2d_7\">\n      <path d=\"M 233.627072 312.12 \nL 233.627072 7.2 \n\" clip-path=\"url(#p9827e9810c)\" style=\"fill: none; stroke: #ffffff; stroke-linecap: round\"/>\n     </g>\n     <g id=\"line2d_8\"/>\n     <g id=\"text_4\">\n      <!-- 1750 -->\n      <g style=\"fill: #262626\" transform=\"translate(222.505197 326.366875) scale(0.1 -0.1)\">\n       <use xlink:href=\"#LiberationSans-31\"/>\n       <use xlink:href=\"#LiberationSans-37\" transform=\"translate(55.615234 0)\"/>\n       <use xlink:href=\"#LiberationSans-35\" transform=\"translate(111.230469 0)\"/>\n       <use xlink:href=\"#LiberationSans-30\" transform=\"translate(166.845703 0)\"/>\n      </g>\n     </g>\n    </g>\n    <g id=\"xtick_5\">\n     <g id=\"line2d_9\">\n      <path d=\"M 285.257884 312.12 \nL 285.257884 7.2 \n\" clip-path=\"url(#p9827e9810c)\" style=\"fill: none; stroke: #ffffff; stroke-linecap: round\"/>\n     </g>\n     <g id=\"line2d_10\"/>\n     <g id=\"text_5\">\n      <!-- 1800 -->\n      <g style=\"fill: #262626\" transform=\"translate(274.136009 326.366875) scale(0.1 -0.1)\">\n       <defs>\n        <path id=\"LiberationSans-38\" d=\"M 3281 1228 \nQ 3281 947 3192 711 \nQ 3103 475 2920 303 \nQ 2738 131 2453 34 \nQ 2169 -63 1781 -63 \nQ 1394 -63 1111 34 \nQ 828 131 642 301 \nQ 456 472 367 708 \nQ 278 944 278 1222 \nQ 278 1463 351 1650 \nQ 425 1838 548 1973 \nQ 672 2109 830 2192 \nQ 988 2275 1156 2303 \nL 1156 2316 \nQ 972 2359 826 2456 \nQ 681 2553 582 2689 \nQ 484 2825 432 2990 \nQ 381 3156 381 3341 \nQ 381 3572 470 3776 \nQ 559 3981 734 4136 \nQ 909 4291 1168 4380 \nQ 1428 4469 1769 4469 \nQ 2128 4469 2392 4378 \nQ 2656 4288 2829 4133 \nQ 3003 3978 3087 3772 \nQ 3172 3566 3172 3334 \nQ 3172 3153 3120 2987 \nQ 3069 2822 2970 2686 \nQ 2872 2550 2726 2454 \nQ 2581 2359 2391 2322 \nL 2391 2309 \nQ 2581 2278 2743 2195 \nQ 2906 2113 3025 1977 \nQ 3144 1841 3212 1653 \nQ 3281 1466 3281 1228 \nz\nM 2588 3303 \nQ 2588 3469 2545 3606 \nQ 2503 3744 2406 3842 \nQ 2309 3941 2153 3995 \nQ 1997 4050 1769 4050 \nQ 1547 4050 1394 3995 \nQ 1241 3941 1142 3842 \nQ 1044 3744 1000 3606 \nQ 956 3469 956 3303 \nQ 956 3172 990 3034 \nQ 1025 2897 1115 2784 \nQ 1206 2672 1365 2600 \nQ 1525 2528 1775 2528 \nQ 2041 2528 2202 2600 \nQ 2363 2672 2448 2784 \nQ 2534 2897 2561 3034 \nQ 2588 3172 2588 3303 \nz\nM 2697 1281 \nQ 2697 1441 2653 1589 \nQ 2609 1738 2503 1852 \nQ 2397 1966 2217 2036 \nQ 2038 2106 1769 2106 \nQ 1522 2106 1348 2036 \nQ 1175 1966 1067 1850 \nQ 959 1734 909 1582 \nQ 859 1431 859 1269 \nQ 859 1066 909 898 \nQ 959 731 1068 611 \nQ 1178 491 1356 425 \nQ 1534 359 1788 359 \nQ 2044 359 2219 425 \nQ 2394 491 2500 611 \nQ 2606 731 2651 901 \nQ 2697 1072 2697 1281 \nz\n\" transform=\"scale(0.015625)\"/>\n       </defs>\n       <use xlink:href=\"#LiberationSans-31\"/>\n       <use xlink:href=\"#LiberationSans-38\" transform=\"translate(55.615234 0)\"/>\n       <use xlink:href=\"#LiberationSans-30\" transform=\"translate(111.230469 0)\"/>\n       <use xlink:href=\"#LiberationSans-30\" transform=\"translate(166.845703 0)\"/>\n      </g>\n     </g>\n    </g>\n    <g id=\"xtick_6\">\n     <g id=\"line2d_11\">\n      <path d=\"M 336.888696 312.12 \nL 336.888696 7.2 \n\" clip-path=\"url(#p9827e9810c)\" style=\"fill: none; stroke: #ffffff; stroke-linecap: round\"/>\n     </g>\n     <g id=\"line2d_12\"/>\n     <g id=\"text_6\">\n      <!-- 1850 -->\n      <g style=\"fill: #262626\" transform=\"translate(325.766821 326.366875) scale(0.1 -0.1)\">\n       <use xlink:href=\"#LiberationSans-31\"/>\n       <use xlink:href=\"#LiberationSans-38\" transform=\"translate(55.615234 0)\"/>\n       <use xlink:href=\"#LiberationSans-35\" transform=\"translate(111.230469 0)\"/>\n       <use xlink:href=\"#LiberationSans-30\" transform=\"translate(166.845703 0)\"/>\n      </g>\n     </g>\n    </g>\n    <g id=\"xtick_7\">\n     <g id=\"line2d_13\">\n      <path d=\"M 388.519508 312.12 \nL 388.519508 7.2 \n\" clip-path=\"url(#p9827e9810c)\" style=\"fill: none; stroke: #ffffff; stroke-linecap: round\"/>\n     </g>\n     <g id=\"line2d_14\"/>\n     <g id=\"text_7\">\n      <!-- 1900 -->\n      <g style=\"fill: #262626\" transform=\"translate(377.397633 326.366875) scale(0.1 -0.1)\">\n       <defs>\n        <path id=\"LiberationSans-39\" d=\"M 3256 2291 \nQ 3256 1703 3145 1261 \nQ 3034 819 2828 525 \nQ 2622 231 2326 84 \nQ 2031 -63 1663 -63 \nQ 1409 -63 1206 -11 \nQ 1003 41 843 150 \nQ 684 259 571 434 \nQ 459 609 391 856 \nL 928 941 \nQ 1016 656 1202 523 \nQ 1388 391 1672 391 \nQ 1900 391 2089 498 \nQ 2278 606 2411 822 \nQ 2544 1038 2619 1363 \nQ 2694 1688 2700 2125 \nQ 2634 1978 2520 1862 \nQ 2406 1747 2261 1667 \nQ 2116 1588 1947 1545 \nQ 1778 1503 1606 1503 \nQ 1306 1503 1064 1611 \nQ 822 1719 653 1912 \nQ 484 2106 392 2379 \nQ 300 2653 300 2988 \nQ 300 3328 398 3603 \nQ 497 3878 684 4070 \nQ 872 4263 1145 4366 \nQ 1419 4469 1766 4469 \nQ 2500 4469 2878 3925 \nQ 3256 3381 3256 2291 \nz\nM 2644 2834 \nQ 2644 3078 2586 3293 \nQ 2528 3509 2414 3668 \nQ 2300 3828 2133 3920 \nQ 1966 4013 1747 4013 \nQ 1544 4013 1381 3941 \nQ 1219 3869 1106 3736 \nQ 994 3603 933 3412 \nQ 872 3222 872 2988 \nQ 872 2766 926 2575 \nQ 981 2384 1090 2245 \nQ 1200 2106 1362 2026 \nQ 1525 1947 1741 1947 \nQ 1897 1947 2058 2000 \nQ 2219 2053 2348 2162 \nQ 2478 2272 2561 2439 \nQ 2644 2606 2644 2834 \nz\n\" transform=\"scale(0.015625)\"/>\n       </defs>\n       <use xlink:href=\"#LiberationSans-31\"/>\n       <use xlink:href=\"#LiberationSans-39\" transform=\"translate(55.615234 0)\"/>\n       <use xlink:href=\"#LiberationSans-30\" transform=\"translate(111.230469 0)\"/>\n       <use xlink:href=\"#LiberationSans-30\" transform=\"translate(166.845703 0)\"/>\n      </g>\n     </g>\n    </g>\n    <g id=\"xtick_8\">\n     <g id=\"line2d_15\">\n      <path d=\"M 440.15032 312.12 \nL 440.15032 7.2 \n\" clip-path=\"url(#p9827e9810c)\" style=\"fill: none; stroke: #ffffff; stroke-linecap: round\"/>\n     </g>\n     <g id=\"line2d_16\"/>\n     <g id=\"text_8\">\n      <!-- 1950 -->\n      <g style=\"fill: #262626\" transform=\"translate(429.028445 326.366875) scale(0.1 -0.1)\">\n       <use xlink:href=\"#LiberationSans-31\"/>\n       <use xlink:href=\"#LiberationSans-39\" transform=\"translate(55.615234 0)\"/>\n       <use xlink:href=\"#LiberationSans-35\" transform=\"translate(111.230469 0)\"/>\n       <use xlink:href=\"#LiberationSans-30\" transform=\"translate(166.845703 0)\"/>\n      </g>\n     </g>\n    </g>\n   </g>\n   <g id=\"matplotlib.axis_2\">\n    <g id=\"ytick_1\">\n     <g id=\"line2d_17\">\n      <path d=\"M 33.660938 287.207906 \nL 480.060937 287.207906 \n\" clip-path=\"url(#p9827e9810c)\" style=\"fill: none; stroke: #ffffff; stroke-linecap: round\"/>\n     </g>\n     <g id=\"line2d_18\"/>\n     <g id=\"text_9\">\n      <!-- 0.88 -->\n      <g style=\"fill: #262626\" transform=\"translate(7.2 290.831343) scale(0.1 -0.1)\">\n       <defs>\n        <path id=\"LiberationSans-2e\" d=\"M 584 0 \nL 584 684 \nL 1194 684 \nL 1194 0 \nL 584 0 \nz\n\" transform=\"scale(0.015625)\"/>\n       </defs>\n       <use xlink:href=\"#LiberationSans-30\"/>\n       <use xlink:href=\"#LiberationSans-2e\" transform=\"translate(55.615234 0)\"/>\n       <use xlink:href=\"#LiberationSans-38\" transform=\"translate(83.398438 0)\"/>\n       <use xlink:href=\"#LiberationSans-38\" transform=\"translate(139.013672 0)\"/>\n      </g>\n     </g>\n    </g>\n    <g id=\"ytick_2\">\n     <g id=\"line2d_19\">\n      <path d=\"M 33.660938 248.157488 \nL 480.060937 248.157488 \n\" clip-path=\"url(#p9827e9810c)\" style=\"fill: none; stroke: #ffffff; stroke-linecap: round\"/>\n     </g>\n     <g id=\"line2d_20\"/>\n     <g id=\"text_10\">\n      <!-- 0.90 -->\n      <g style=\"fill: #262626\" transform=\"translate(7.2 251.780925) scale(0.1 -0.1)\">\n       <use xlink:href=\"#LiberationSans-30\"/>\n       <use xlink:href=\"#LiberationSans-2e\" transform=\"translate(55.615234 0)\"/>\n       <use xlink:href=\"#LiberationSans-39\" transform=\"translate(83.398438 0)\"/>\n       <use xlink:href=\"#LiberationSans-30\" transform=\"translate(139.013672 0)\"/>\n      </g>\n     </g>\n    </g>\n    <g id=\"ytick_3\">\n     <g id=\"line2d_21\">\n      <path d=\"M 33.660938 209.10707 \nL 480.060937 209.10707 \n\" clip-path=\"url(#p9827e9810c)\" style=\"fill: none; stroke: #ffffff; stroke-linecap: round\"/>\n     </g>\n     <g id=\"line2d_22\"/>\n     <g id=\"text_11\">\n      <!-- 0.92 -->\n      <g style=\"fill: #262626\" transform=\"translate(7.2 212.730507) scale(0.1 -0.1)\">\n       <defs>\n        <path id=\"LiberationSans-32\" d=\"M 322 0 \nL 322 397 \nQ 481 763 711 1042 \nQ 941 1322 1194 1548 \nQ 1447 1775 1695 1969 \nQ 1944 2163 2144 2356 \nQ 2344 2550 2467 2762 \nQ 2591 2975 2591 3244 \nQ 2591 3431 2534 3573 \nQ 2478 3716 2372 3812 \nQ 2266 3909 2117 3957 \nQ 1969 4006 1788 4006 \nQ 1619 4006 1470 3959 \nQ 1322 3913 1206 3819 \nQ 1091 3725 1017 3586 \nQ 944 3447 922 3263 \nL 347 3316 \nQ 375 3553 478 3762 \nQ 581 3972 762 4130 \nQ 944 4288 1198 4378 \nQ 1453 4469 1788 4469 \nQ 2116 4469 2372 4391 \nQ 2628 4313 2804 4159 \nQ 2981 4006 3075 3781 \nQ 3169 3556 3169 3263 \nQ 3169 3041 3089 2841 \nQ 3009 2641 2876 2459 \nQ 2744 2278 2569 2109 \nQ 2394 1941 2203 1780 \nQ 2013 1619 1819 1461 \nQ 1625 1303 1454 1143 \nQ 1284 984 1150 820 \nQ 1016 656 941 478 \nL 3238 478 \nL 3238 0 \nL 322 0 \nz\n\" transform=\"scale(0.015625)\"/>\n       </defs>\n       <use xlink:href=\"#LiberationSans-30\"/>\n       <use xlink:href=\"#LiberationSans-2e\" transform=\"translate(55.615234 0)\"/>\n       <use xlink:href=\"#LiberationSans-39\" transform=\"translate(83.398438 0)\"/>\n       <use xlink:href=\"#LiberationSans-32\" transform=\"translate(139.013672 0)\"/>\n      </g>\n     </g>\n    </g>\n    <g id=\"ytick_4\">\n     <g id=\"line2d_23\">\n      <path d=\"M 33.660938 170.056651 \nL 480.060937 170.056651 \n\" clip-path=\"url(#p9827e9810c)\" style=\"fill: none; stroke: #ffffff; stroke-linecap: round\"/>\n     </g>\n     <g id=\"line2d_24\"/>\n     <g id=\"text_12\">\n      <!-- 0.94 -->\n      <g style=\"fill: #262626\" transform=\"translate(7.2 173.680089) scale(0.1 -0.1)\">\n       <defs>\n        <path id=\"LiberationSans-34\" d=\"M 2753 997 \nL 2753 0 \nL 2222 0 \nL 2222 997 \nL 147 997 \nL 147 1434 \nL 2163 4403 \nL 2753 4403 \nL 2753 1441 \nL 3372 1441 \nL 3372 997 \nL 2753 997 \nz\nM 2222 3769 \nQ 2216 3753 2191 3708 \nQ 2166 3663 2134 3606 \nQ 2103 3550 2070 3492 \nQ 2038 3434 2013 3397 \nL 884 1734 \nQ 869 1709 839 1668 \nQ 809 1628 778 1586 \nQ 747 1544 715 1503 \nQ 684 1463 666 1441 \nL 2222 1441 \nL 2222 3769 \nz\n\" transform=\"scale(0.015625)\"/>\n       </defs>\n       <use xlink:href=\"#LiberationSans-30\"/>\n       <use xlink:href=\"#LiberationSans-2e\" transform=\"translate(55.615234 0)\"/>\n       <use xlink:href=\"#LiberationSans-39\" transform=\"translate(83.398438 0)\"/>\n       <use xlink:href=\"#LiberationSans-34\" transform=\"translate(139.013672 0)\"/>\n      </g>\n     </g>\n    </g>\n    <g id=\"ytick_5\">\n     <g id=\"line2d_25\">\n      <path d=\"M 33.660938 131.006233 \nL 480.060937 131.006233 \n\" clip-path=\"url(#p9827e9810c)\" style=\"fill: none; stroke: #ffffff; stroke-linecap: round\"/>\n     </g>\n     <g id=\"line2d_26\"/>\n     <g id=\"text_13\">\n      <!-- 0.96 -->\n      <g style=\"fill: #262626\" transform=\"translate(7.2 134.629671) scale(0.1 -0.1)\">\n       <use xlink:href=\"#LiberationSans-30\"/>\n       <use xlink:href=\"#LiberationSans-2e\" transform=\"translate(55.615234 0)\"/>\n       <use xlink:href=\"#LiberationSans-39\" transform=\"translate(83.398438 0)\"/>\n       <use xlink:href=\"#LiberationSans-36\" transform=\"translate(139.013672 0)\"/>\n      </g>\n     </g>\n    </g>\n    <g id=\"ytick_6\">\n     <g id=\"line2d_27\">\n      <path d=\"M 33.660938 91.955815 \nL 480.060937 91.955815 \n\" clip-path=\"url(#p9827e9810c)\" style=\"fill: none; stroke: #ffffff; stroke-linecap: round\"/>\n     </g>\n     <g id=\"line2d_28\"/>\n     <g id=\"text_14\">\n      <!-- 0.98 -->\n      <g style=\"fill: #262626\" transform=\"translate(7.2 95.579253) scale(0.1 -0.1)\">\n       <use xlink:href=\"#LiberationSans-30\"/>\n       <use xlink:href=\"#LiberationSans-2e\" transform=\"translate(55.615234 0)\"/>\n       <use xlink:href=\"#LiberationSans-39\" transform=\"translate(83.398438 0)\"/>\n       <use xlink:href=\"#LiberationSans-38\" transform=\"translate(139.013672 0)\"/>\n      </g>\n     </g>\n    </g>\n    <g id=\"ytick_7\">\n     <g id=\"line2d_29\">\n      <path d=\"M 33.660938 52.905397 \nL 480.060937 52.905397 \n\" clip-path=\"url(#p9827e9810c)\" style=\"fill: none; stroke: #ffffff; stroke-linecap: round\"/>\n     </g>\n     <g id=\"line2d_30\"/>\n     <g id=\"text_15\">\n      <!-- 1.00 -->\n      <g style=\"fill: #262626\" transform=\"translate(7.2 56.528835) scale(0.1 -0.1)\">\n       <use xlink:href=\"#LiberationSans-31\"/>\n       <use xlink:href=\"#LiberationSans-2e\" transform=\"translate(55.615234 0)\"/>\n       <use xlink:href=\"#LiberationSans-30\" transform=\"translate(83.398438 0)\"/>\n       <use xlink:href=\"#LiberationSans-30\" transform=\"translate(139.013672 0)\"/>\n      </g>\n     </g>\n    </g>\n    <g id=\"ytick_8\">\n     <g id=\"line2d_31\">\n      <path d=\"M 33.660938 13.854979 \nL 480.060937 13.854979 \n\" clip-path=\"url(#p9827e9810c)\" style=\"fill: none; stroke: #ffffff; stroke-linecap: round\"/>\n     </g>\n     <g id=\"line2d_32\"/>\n     <g id=\"text_16\">\n      <!-- 1.02 -->\n      <g style=\"fill: #262626\" transform=\"translate(7.2 17.478416) scale(0.1 -0.1)\">\n       <use xlink:href=\"#LiberationSans-31\"/>\n       <use xlink:href=\"#LiberationSans-2e\" transform=\"translate(55.615234 0)\"/>\n       <use xlink:href=\"#LiberationSans-30\" transform=\"translate(83.398438 0)\"/>\n       <use xlink:href=\"#LiberationSans-32\" transform=\"translate(139.013672 0)\"/>\n      </g>\n     </g>\n    </g>\n   </g>\n   <g id=\"line2d_33\">\n    <path d=\"M 53.951847 57.88124 \nL 54.984463 44.944048 \nL 56.017079 63.852252 \nL 57.049695 69.823264 \nL 58.082312 49.919891 \nL 60.147544 61.861915 \nL 61.18016 55.890903 \nL 62.212777 54.895734 \nL 63.245393 34.992361 \nL 64.278009 50.91506 \nL 65.310625 44.944048 \nL 66.343241 49.919891 \nL 67.375858 21.06 \nL 68.408474 22.055169 \nL 69.44109 21.06 \nL 86.995566 21.06 \nL 88.028182 33.997193 \nL 89.060799 41.958542 \nL 90.093415 46.934385 \nL 91.126031 47.929554 \nL 92.158647 46.934385 \nL 93.191264 58.876409 \nL 94.22388 61.861915 \nL 95.256496 53.900566 \nL 96.289112 49.919891 \nL 97.321729 57.88124 \nL 98.354345 63.852252 \nL 99.386961 62.857084 \nL 100.419577 64.847421 \nL 102.48481 74.799108 \nL 103.517426 76.789445 \nL 104.550042 65.84259 \nL 105.582659 68.828096 \nL 106.615275 68.828096 \nL 107.647891 70.818433 \nL 108.680507 70.818433 \nL 109.713123 77.784614 \nL 110.74574 81.765288 \nL 111.778356 87.7363 \nL 112.810972 95.697649 \nL 113.843588 84.750794 \nL 114.876205 82.760457 \nL 115.908821 83.755625 \nL 116.941437 90.721806 \nL 117.974053 99.678324 \nL 119.00667 112.615517 \nL 120.039286 109.630011 \nL 121.071902 110.625179 \nL 122.104518 106.644505 \nL 123.137135 91.716975 \nL 124.169751 87.7363 \nL 125.202367 51.910228 \nL 126.234983 53.900566 \nL 127.2676 75.794276 \nL 128.300216 76.789445 \nL 129.332832 79.774951 \nL 130.365448 65.84259 \nL 131.398064 55.890903 \nL 132.430681 65.84259 \nL 133.463297 62.857084 \nL 134.495913 65.84259 \nL 135.528529 66.837758 \nL 136.561146 73.803939 \nL 137.593762 75.794276 \nL 138.626378 75.794276 \nL 140.691611 48.924722 \nL 141.724227 33.997193 \nL 142.756843 55.890903 \nL 143.789459 43.948879 \nL 144.822076 44.944048 \nL 145.854692 44.944048 \nL 146.887308 39.968205 \nL 147.919924 44.944048 \nL 148.952541 43.948879 \nL 149.985157 57.88124 \nL 151.017773 57.88124 \nL 152.050389 58.876409 \nL 153.083006 55.890903 \nL 154.115622 50.91506 \nL 155.148238 48.924722 \nL 156.180854 45.939216 \nL 157.21347 35.98753 \nL 158.246087 37.977867 \nL 160.311319 47.929554 \nL 161.343935 48.924722 \nL 163.409168 40.963373 \nL 164.441784 39.968205 \nL 165.4744 41.958542 \nL 166.507017 39.968205 \nL 167.539633 46.934385 \nL 168.572249 45.939216 \nL 170.637482 51.910228 \nL 171.670098 53.900566 \nL 172.702714 46.934385 \nL 173.73533 48.924722 \nL 174.767947 51.910228 \nL 175.800563 51.910228 \nL 176.833179 54.895734 \nL 177.865795 52.905397 \nL 179.931028 50.91506 \nL 180.963644 51.910228 \nL 183.028876 49.919891 \nL 184.061493 47.929554 \nL 185.094109 43.948879 \nL 186.126725 41.958542 \nL 187.159341 31.011687 \nL 188.191958 33.997193 \nL 189.224574 28.026181 \nL 191.289806 26.035843 \nL 192.322423 30.016518 \nL 193.355039 38.973036 \nL 194.387655 49.919891 \nL 195.420271 56.886072 \nL 196.452888 66.837758 \nL 197.485504 66.837758 \nL 198.51812 56.886072 \nL 199.550736 56.886072 \nL 200.583352 59.871578 \nL 201.615969 68.828096 \nL 202.648585 73.803939 \nL 203.681201 72.80877 \nL 204.713817 79.774951 \nL 205.746434 84.750794 \nL 206.77905 94.702481 \nL 207.811666 108.634842 \nL 208.844282 116.596191 \nL 209.876899 111.620348 \nL 210.909515 99.678324 \nL 211.942131 103.658999 \nL 212.974747 106.644505 \nL 214.007364 106.644505 \nL 215.03998 252.934297 \nL 216.072596 261.890815 \nL 217.105212 261.890815 \nL 218.137829 265.87149 \nL 219.170445 256.914972 \nL 220.203061 241.987442 \nL 221.235677 244.972948 \nL 222.268294 251.939129 \nL 223.30091 240.992273 \nL 224.333526 257.910141 \nL 225.366142 256.914972 \nL 226.398758 261.890815 \nL 227.431375 265.87149 \nL 228.463991 248.953623 \nL 229.496607 239.001936 \nL 230.529223 242.982611 \nL 231.56184 247.958454 \nL 232.594456 244.972948 \nL 233.627072 236.01643 \nL 234.659688 236.01643 \nL 235.692305 231.040587 \nL 236.724921 237.011599 \nL 237.757537 228.055081 \nL 238.790153 239.001936 \nL 239.82277 237.011599 \nL 240.855386 243.977779 \nL 241.888002 246.963285 \nL 242.920618 240.992273 \nL 243.953235 236.01643 \nL 244.985851 236.01643 \nL 246.018467 243.977779 \nL 247.051083 245.968117 \nL 248.083699 229.05025 \nL 249.116316 228.055081 \nL 250.148932 236.01643 \nL 251.181548 229.05025 \nL 252.214164 228.055081 \nL 253.246781 216.113057 \nL 254.279397 218.103394 \nL 255.312013 229.05025 \nL 256.344629 222.084069 \nL 257.377246 219.098563 \nL 258.409862 212.132382 \nL 259.442478 217.108226 \nL 260.475094 209.146876 \nL 261.507711 213.127551 \nL 262.540327 214.12272 \nL 263.572943 209.146876 \nL 264.605559 200.190358 \nL 266.670792 204.171033 \nL 267.703408 208.151708 \nL 268.736024 209.146876 \nL 269.76864 218.103394 \nL 270.801257 223.079238 \nL 271.833873 217.108226 \nL 272.866489 216.113057 \nL 273.899105 223.079238 \nL 274.931722 228.055081 \nL 275.964338 226.064744 \nL 276.996954 230.045418 \nL 278.02957 232.035756 \nL 279.062187 237.011599 \nL 280.094803 233.030924 \nL 281.127419 239.997105 \nL 282.160035 238.006767 \nL 283.192652 234.026093 \nL 284.225268 231.040587 \nL 285.257884 232.035756 \nL 286.2905 231.040587 \nL 287.323117 231.040587 \nL 288.355733 227.059912 \nL 289.388349 225.069575 \nL 290.420965 228.055081 \nL 291.453581 233.030924 \nL 292.486198 229.05025 \nL 293.518814 229.05025 \nL 294.55143 234.026093 \nL 295.584046 231.040587 \nL 296.616663 233.030924 \nL 297.649279 234.026093 \nL 298.681895 238.006767 \nL 300.747128 236.01643 \nL 301.779744 233.030924 \nL 302.81236 231.040587 \nL 303.844976 227.059912 \nL 304.877593 238.006767 \nL 305.910209 241.987442 \nL 306.942825 237.011599 \nL 309.008058 246.963285 \nL 310.040674 241.987442 \nL 311.07329 249.948791 \nL 312.105906 248.953623 \nL 313.138523 242.982611 \nL 314.171139 240.992273 \nL 315.203755 244.972948 \nL 316.236371 246.963285 \nL 317.268987 247.958454 \nL 318.301604 247.958454 \nL 319.33422 252.934297 \nL 320.366836 251.939129 \nL 321.399452 257.910141 \nL 322.432069 251.939129 \nL 323.464685 248.953623 \nL 324.497301 254.924635 \nL 325.529917 249.948791 \nL 326.562534 241.987442 \nL 327.59515 240.992273 \nL 328.627766 242.982611 \nL 329.660382 243.977779 \nL 330.692999 247.958454 \nL 331.725615 243.977779 \nL 332.758231 244.972948 \nL 333.790847 243.977779 \nL 334.823464 244.972948 \nL 335.85608 242.982611 \nL 336.888696 241.987442 \nL 337.921312 239.001936 \nL 338.953928 225.069575 \nL 339.986545 223.079238 \nL 341.019161 229.05025 \nL 342.051777 234.026093 \nL 343.084393 235.021262 \nL 344.11701 234.026093 \nL 345.149626 231.040587 \nL 347.214858 235.021262 \nL 348.247475 235.021262 \nL 349.280091 236.01643 \nL 350.312707 234.026093 \nL 351.345323 231.040587 \nL 352.37794 233.030924 \nL 353.410556 229.05025 \nL 354.443172 226.064744 \nL 355.475788 229.05025 \nL 357.541021 229.05025 \nL 358.573637 225.069575 \nL 359.606253 219.098563 \nL 360.638869 210.142045 \nL 361.671486 214.12272 \nL 362.704102 220.093732 \nL 363.736718 223.079238 \nL 364.769334 223.079238 \nL 365.801951 220.093732 \nL 366.834567 214.12272 \nL 367.867183 216.113057 \nL 368.899799 216.113057 \nL 369.932416 218.103394 \nL 370.965032 219.098563 \nL 371.997648 222.084069 \nL 373.030264 222.084069 \nL 374.062881 199.19519 \nL 375.095497 204.171033 \nL 376.128113 194.219347 \nL 377.160729 205.166202 \nL 378.193346 210.142045 \nL 379.225962 214.12272 \nL 380.258578 201.185527 \nL 381.291194 207.156539 \nL 383.356427 195.214515 \nL 384.389043 196.209684 \nL 385.421659 190.238672 \nL 386.454275 192.229009 \nL 387.486892 198.200021 \nL 388.519508 194.219347 \nL 389.552124 192.229009 \nL 390.58474 195.214515 \nL 391.617357 194.219347 \nL 392.649973 186.257997 \nL 393.682589 192.229009 \nL 394.715205 193.224178 \nL 395.747822 187.253166 \nL 396.780438 191.233841 \nL 397.813054 191.233841 \nL 398.84567 202.180696 \nL 399.878287 190.238672 \nL 400.910903 192.229009 \nL 401.943519 201.185527 \nL 402.976135 201.185527 \nL 404.008752 198.200021 \nL 405.041368 205.166202 \nL 406.073984 206.16137 \nL 407.1066 209.146876 \nL 409.171833 205.166202 \nL 411.237065 207.156539 \nL 412.269681 210.142045 \nL 413.302298 199.19519 \nL 414.334914 202.180696 \nL 415.36753 197.204852 \nL 416.400146 202.180696 \nL 417.432763 203.175864 \nL 418.465379 203.175864 \nL 419.497995 206.16137 \nL 420.530611 206.16137 \nL 421.563228 199.19519 \nL 422.595844 196.209684 \nL 423.62846 195.214515 \nL 424.661076 195.214515 \nL 425.693693 203.175864 \nL 426.726309 203.175864 \nL 427.758925 219.098563 \nL 429.824157 213.127551 \nL 430.856774 211.137214 \nL 431.88939 214.12272 \nL 436.019855 202.180696 \nL 437.052471 195.214515 \nL 439.117704 191.233841 \nL 440.15032 182.277323 \nL 441.182936 176.306311 \nL 442.215552 155.407769 \nL 443.248169 146.451251 \nL 444.280785 160.383612 \nL 445.313401 139.48507 \nL 446.346017 143.465745 \nL 448.41125 133.514058 \nL 449.443866 138.489902 \nL 450.476482 129.533384 \nL 451.509098 139.48507 \nL 452.541715 137.494733 \nL 454.606947 107.639673 \nL 455.639563 131.523721 \nL 456.67218 119.581697 \nL 457.704796 125.552709 \nL 458.737412 130.528552 \nL 459.770028 129.533384 \nL 459.770028 129.533384 \n\" clip-path=\"url(#p9827e9810c)\" style=\"fill: none; stroke: #4c72b0; stroke-width: 1.75; stroke-linecap: round\"/>\n   </g>\n   <g id=\"line2d_34\">\n    <path d=\"M 53.951847 47.916841 \nL 54.984463 60.834416 \nL 56.017079 41.896822 \nL 57.049695 47.935354 \nL 58.082312 67.858926 \nL 59.114928 73.775163 \nL 61.18016 61.888107 \nL 62.212777 60.896 \nL 63.245393 80.53772 \nL 64.278009 64.856346 \nL 65.310625 58.927925 \nL 66.343241 63.868276 \nL 67.375858 92.105579 \nL 68.408474 91.145559 \nL 69.44109 92.105579 \nL 86.995566 92.105579 \nL 88.028182 79.549714 \nL 89.060799 87.327106 \nL 90.093415 82.453886 \nL 91.126031 83.431006 \nL 92.158647 82.453886 \nL 93.191264 70.656509 \nL 94.22388 73.623948 \nL 95.256496 81.504834 \nL 96.289112 77.580466 \nL 97.321729 69.699645 \nL 98.354345 75.634423 \nL 99.386961 76.623046 \nL 100.419577 78.599279 \nL 101.452194 73.645996 \nL 102.48481 78.612012 \nL 103.517426 76.623556 \nL 104.550042 65.675759 \nL 105.582659 68.661522 \nL 106.615275 68.661522 \nL 107.647891 70.65203 \nL 108.680507 70.65203 \nL 109.713123 63.660073 \nL 110.74574 67.669916 \nL 111.778356 61.636424 \nL 112.810972 69.706128 \nL 113.843588 80.73873 \nL 114.876205 78.744235 \nL 115.908821 77.746471 \nL 116.941437 84.734436 \nL 117.974053 93.718961 \nL 119.00667 80.652612 \nL 120.039286 83.683752 \nL 121.071902 84.69254 \nL 122.104518 88.719236 \nL 123.137135 103.670149 \nL 124.169751 107.617749 \nL 125.202367 142.422185 \nL 126.234983 140.52213 \nL 127.2676 119.362825 \nL 128.300216 120.335524 \nL 129.332832 123.253621 \nL 130.365448 109.635834 \nL 131.398064 119.313172 \nL 132.430681 109.635834 \nL 134.495913 103.795148 \nL 135.528529 102.818952 \nL 136.561146 109.655836 \nL 137.593762 111.609232 \nL 138.626378 111.609232 \nL 139.658994 98.91216 \nL 141.724227 126.821757 \nL 142.756843 105.724615 \nL 143.789459 94.087851 \nL 144.822076 95.057582 \nL 145.854692 95.057582 \nL 147.919924 85.347972 \nL 148.952541 84.373313 \nL 149.985157 70.630471 \nL 151.017773 70.630471 \nL 152.050389 69.641312 \nL 153.083006 66.672316 \nL 154.115622 71.608045 \nL 155.148238 73.575306 \nL 156.180854 76.518705 \nL 157.21347 86.265586 \nL 158.246087 84.324098 \nL 159.278703 79.453149 \nL 160.311319 84.336448 \nL 161.343935 83.359292 \nL 163.409168 75.538063 \nL 164.441784 76.515221 \nL 166.507017 72.602624 \nL 167.539633 65.727743 \nL 168.572249 64.742123 \nL 170.637482 58.810333 \nL 171.670098 60.79364 \nL 172.702714 53.852065 \nL 173.73533 51.86674 \nL 174.767947 48.881168 \nL 175.800563 48.881168 \nL 176.833179 45.886456 \nL 177.865795 47.883948 \nL 179.931028 49.877372 \nL 180.963644 48.881168 \nL 183.028876 50.872562 \nL 184.061493 52.859907 \nL 185.094109 56.822498 \nL 186.126725 58.797768 \nL 187.159341 69.590567 \nL 188.191958 66.658963 \nL 189.224574 72.513318 \nL 191.289806 74.456921 \nL 192.322423 70.565799 \nL 193.355039 79.338466 \nL 194.387655 90.060615 \nL 195.420271 83.213036 \nL 196.452888 93.030264 \nL 197.485504 93.030264 \nL 198.51812 83.213036 \nL 199.550736 83.213036 \nL 200.583352 80.263348 \nL 201.615969 89.125991 \nL 202.648585 94.049681 \nL 203.681201 95.033912 \nL 204.713817 101.919982 \nL 205.746434 96.988618 \nL 206.77905 87.048839 \nL 207.811666 72.957923 \nL 208.844282 64.81264 \nL 209.876899 59.700381 \nL 210.909515 47.430958 \nL 211.942131 43.33259 \nL 212.974747 40.247537 \nL 214.007364 40.247537 \nL 215.03998 191.65282 \nL 216.072596 200.922531 \nL 217.105212 200.922531 \nL 218.137829 205.042403 \nL 219.170445 214.264631 \nL 220.203061 229.426835 \nL 221.235677 226.414964 \nL 222.268294 219.347382 \nL 223.30091 208.19706 \nL 224.333526 225.429377 \nL 225.366142 226.442465 \nL 226.398758 231.505026 \nL 227.431375 235.555075 \nL 228.463991 252.601993 \nL 229.496607 242.670977 \nL 230.529223 238.689599 \nL 231.56184 243.677562 \nL 232.594456 240.684784 \nL 233.627072 231.706449 \nL 234.659688 231.706449 \nL 235.692305 236.680426 \nL 236.724921 230.708295 \nL 237.757537 221.719853 \nL 238.790153 210.665898 \nL 239.82277 212.685887 \nL 240.855386 205.595953 \nL 241.888002 202.540214 \nL 242.920618 208.641351 \nL 243.953235 203.574276 \nL 244.985851 203.574276 \nL 246.018467 195.430312 \nL 247.051083 197.475505 \nL 248.083699 214.694084 \nL 249.116316 213.690873 \nL 250.148932 205.629071 \nL 251.181548 198.543255 \nL 252.214164 197.530996 \nL 253.246781 209.597038 \nL 254.279397 207.597228 \nL 255.312013 196.518169 \nL 256.344629 189.424412 \nL 257.377246 186.38423 \nL 258.409862 193.450431 \nL 259.442478 188.408762 \nL 260.475094 180.319647 \nL 261.507711 176.266106 \nL 262.540327 175.249906 \nL 263.572943 170.166083 \nL 264.605559 161.015201 \nL 266.670792 156.939154 \nL 267.703408 161.024208 \nL 268.736024 162.045472 \nL 269.76864 171.236845 \nL 270.801257 176.343163 \nL 271.833873 182.450285 \nL 272.866489 181.43583 \nL 273.899105 174.306889 \nL 274.931722 179.418892 \nL 275.964338 181.461406 \nL 276.996954 185.541864 \nL 278.02957 183.499345 \nL 279.062187 178.372933 \nL 280.094803 182.476365 \nL 281.127419 189.641244 \nL 282.160035 191.686047 \nL 283.192652 195.761868 \nL 284.225268 192.711872 \nL 285.257884 191.694636 \nL 286.2905 192.711872 \nL 287.323117 192.711872 \nL 288.355733 196.769431 \nL 289.388349 198.791406 \nL 290.420965 195.756745 \nL 291.453581 200.823009 \nL 292.486198 196.769998 \nL 293.518814 196.769998 \nL 294.55143 191.689502 \nL 295.584046 188.632643 \nL 296.616663 186.592448 \nL 297.649279 185.570631 \nL 298.681895 189.660194 \nL 300.747128 191.702676 \nL 301.779744 194.757797 \nL 302.81236 196.788833 \nL 303.844976 200.837266 \nL 304.877593 189.660194 \nL 305.910209 193.749758 \nL 307.975441 203.930555 \nL 310.040674 193.720909 \nL 311.07329 201.900166 \nL 312.105906 202.921993 \nL 313.138523 209.028727 \nL 314.171139 207.000046 \nL 315.203755 202.933508 \nL 316.236371 204.971374 \nL 317.268987 203.951864 \nL 318.301604 203.951864 \nL 319.33422 198.836945 \nL 320.366836 197.811057 \nL 321.399452 191.634695 \nL 322.432069 197.811057 \nL 323.464685 200.883491 \nL 324.497301 194.728143 \nL 325.529917 189.58119 \nL 326.562534 197.779136 \nL 327.59515 198.798678 \nL 328.627766 196.758443 \nL 329.660382 197.779712 \nL 330.692999 193.685383 \nL 331.725615 197.779712 \nL 332.758231 196.757866 \nL 333.790847 197.779712 \nL 334.823464 196.757866 \nL 335.85608 198.800405 \nL 336.888696 199.819946 \nL 337.921312 202.871675 \nL 338.953928 216.977748 \nL 339.986545 218.974899 \nL 341.019161 212.97002 \nL 342.051777 217.990906 \nL 344.11701 215.980858 \nL 345.149626 212.964939 \nL 347.214858 208.934671 \nL 348.247475 208.934671 \nL 349.280091 207.924271 \nL 350.312707 209.943936 \nL 351.345323 212.964939 \nL 352.37794 210.952068 \nL 353.410556 214.973299 \nL 354.443172 217.977414 \nL 355.475788 214.973299 \nL 357.541021 214.973299 \nL 358.573637 218.976547 \nL 359.606253 224.947967 \nL 360.638869 233.83062 \nL 361.671486 229.89374 \nL 362.704102 235.812182 \nL 363.736718 238.771403 \nL 364.769334 238.771403 \nL 365.801951 235.812182 \nL 366.834567 241.710896 \nL 367.867183 239.749032 \nL 368.899799 239.749032 \nL 369.932416 241.713078 \nL 370.965032 240.730508 \nL 371.997648 237.776218 \nL 373.030264 237.776218 \nL 374.062881 260.176192 \nL 375.095497 264.984043 \nL 377.160729 285.008272 \nL 378.193346 280.239929 \nL 379.225962 276.406182 \nL 380.258578 263.918814 \nL 383.356427 281.132973 \nL 384.389043 280.184517 \nL 385.421659 285.859654 \nL 386.454275 283.972095 \nL 387.486892 278.284471 \nL 388.519508 274.480193 \nL 389.552124 276.380244 \nL 390.58474 273.528601 \nL 391.617357 272.576486 \nL 392.649973 280.160074 \nL 393.682589 274.478626 \nL 394.715205 275.428653 \nL 395.747822 269.728496 \nL 396.780438 273.5286 \nL 397.813054 273.5286 \nL 398.84567 263.014872 \nL 399.878287 274.478105 \nL 400.910903 276.376075 \nL 401.943519 267.792814 \nL 402.976135 267.792814 \nL 404.008752 264.917524 \nL 405.041368 271.626534 \nL 406.073984 272.584964 \nL 407.1066 269.704895 \nL 409.171833 273.542864 \nL 411.237065 271.626003 \nL 412.269681 274.504477 \nL 413.302298 263.950075 \nL 414.334914 261.066836 \nL 415.36753 265.866945 \nL 416.400146 261.066836 \nL 417.432763 260.103634 \nL 418.465379 260.103634 \nL 419.497995 257.207634 \nL 420.530611 257.207634 \nL 421.563228 263.950075 \nL 422.595844 266.823798 \nL 423.62846 267.7796 \nL 424.661076 267.7796 \nL 425.693693 260.103634 \nL 426.726309 260.103634 \nL 427.758925 244.54644 \nL 428.791541 247.484505 \nL 429.824157 244.551343 \nL 430.856774 242.595901 \nL 432.922006 236.714903 \nL 436.019855 245.499893 \nL 437.052471 252.272562 \nL 439.117704 256.119307 \nL 440.15032 264.713064 \nL 441.182936 270.395479 \nL 442.215552 289.995074 \nL 443.248169 298.26 \nL 444.280785 285.368777 \nL 445.313401 265.885924 \nL 446.346017 262.166971 \nL 447.378634 266.813185 \nL 449.443866 257.533174 \nL 450.476482 249.147759 \nL 451.509098 239.78094 \nL 452.541715 241.662288 \nL 453.574331 255.645618 \nL 454.606947 241.77315 \nL 455.639563 219.294299 \nL 456.67218 207.91162 \nL 457.704796 213.60296 \nL 458.737412 208.84759 \nL 459.770028 207.893992 \nL 459.770028 207.893992 \n\" clip-path=\"url(#p9827e9810c)\" style=\"fill: none; stroke: #55a868; stroke-width: 1.75; stroke-linecap: round\"/>\n   </g>\n   <g id=\"patch_3\">\n    <path d=\"M 33.660938 312.12 \nL 33.660938 7.2 \n\" style=\"fill: none\"/>\n   </g>\n   <g id=\"patch_4\">\n    <path d=\"M 480.060937 312.12 \nL 480.060937 7.2 \n\" style=\"fill: none\"/>\n   </g>\n   <g id=\"patch_5\">\n    <path d=\"M 33.660938 312.12 \nL 480.060937 312.12 \n\" style=\"fill: none\"/>\n   </g>\n   <g id=\"patch_6\">\n    <path d=\"M 33.660938 7.2 \nL 480.060937 7.2 \n\" style=\"fill: none\"/>\n   </g>\n   <g id=\"legend_1\">\n    <g id=\"line2d_35\">\n     <path d=\"M 438.060937 19.946875 \nL 448.060937 19.946875 \nL 458.060937 19.946875 \n\" style=\"fill: none; stroke: #4c72b0; stroke-width: 1.75; stroke-linecap: round\"/>\n    </g>\n    <g id=\"text_17\">\n     <!-- r -->\n     <g style=\"fill: #262626\" transform=\"translate(466.060937 23.446875) scale(0.1 -0.1)\">\n      <defs>\n       <path id=\"LiberationSans-72\" d=\"M 444 0 \nL 444 2594 \nQ 444 2700 442 2811 \nQ 441 2922 437 3025 \nQ 434 3128 431 3218 \nQ 428 3309 425 3381 \nL 956 3381 \nQ 959 3309 964 3217 \nQ 969 3125 973 3028 \nQ 978 2931 979 2842 \nQ 981 2753 981 2691 \nL 994 2691 \nQ 1053 2884 1120 3026 \nQ 1188 3169 1278 3261 \nQ 1369 3353 1494 3398 \nQ 1619 3444 1797 3444 \nQ 1866 3444 1928 3433 \nQ 1991 3422 2025 3413 \nL 2025 2897 \nQ 1969 2913 1894 2920 \nQ 1819 2928 1725 2928 \nQ 1531 2928 1395 2840 \nQ 1259 2753 1173 2598 \nQ 1088 2444 1047 2230 \nQ 1006 2016 1006 1763 \nL 1006 0 \nL 444 0 \nz\n\" transform=\"scale(0.015625)\"/>\n      </defs>\n      <use xlink:href=\"#LiberationSans-72\"/>\n     </g>\n    </g>\n    <g id=\"line2d_36\">\n     <path d=\"M 438.060937 34.26875 \nL 448.060937 34.26875 \nL 458.060937 34.26875 \n\" style=\"fill: none; stroke: #55a868; stroke-width: 1.75; stroke-linecap: round\"/>\n    </g>\n    <g id=\"text_18\">\n     <!-- s -->\n     <g style=\"fill: #262626\" transform=\"translate(466.060937 37.76875) scale(0.1 -0.1)\">\n      <defs>\n       <path id=\"LiberationSans-73\" d=\"M 2969 934 \nQ 2969 697 2876 511 \nQ 2784 325 2609 198 \nQ 2434 72 2179 4 \nQ 1925 -63 1597 -63 \nQ 1303 -63 1067 -17 \nQ 831 28 653 128 \nQ 475 228 354 392 \nQ 234 556 178 794 \nL 675 891 \nQ 747 619 972 492 \nQ 1197 366 1597 366 \nQ 1778 366 1929 391 \nQ 2081 416 2190 477 \nQ 2300 538 2361 639 \nQ 2422 741 2422 891 \nQ 2422 1044 2350 1142 \nQ 2278 1241 2150 1306 \nQ 2022 1372 1839 1420 \nQ 1656 1469 1438 1528 \nQ 1234 1581 1034 1647 \nQ 834 1713 673 1820 \nQ 513 1928 413 2087 \nQ 313 2247 313 2488 \nQ 313 2950 642 3192 \nQ 972 3434 1603 3434 \nQ 2163 3434 2492 3237 \nQ 2822 3041 2909 2606 \nL 2403 2544 \nQ 2375 2675 2300 2764 \nQ 2225 2853 2119 2908 \nQ 2013 2963 1880 2986 \nQ 1747 3009 1603 3009 \nQ 1222 3009 1040 2893 \nQ 859 2778 859 2544 \nQ 859 2406 926 2317 \nQ 994 2228 1114 2167 \nQ 1234 2106 1403 2061 \nQ 1572 2016 1775 1966 \nQ 1909 1931 2050 1892 \nQ 2191 1853 2323 1798 \nQ 2456 1744 2573 1670 \nQ 2691 1597 2778 1494 \nQ 2866 1391 2917 1253 \nQ 2969 1116 2969 934 \nz\n\" transform=\"scale(0.015625)\"/>\n      </defs>\n      <use xlink:href=\"#LiberationSans-73\"/>\n     </g>\n    </g>\n   </g>\n  </g>\n </g>\n <defs>\n  <clipPath id=\"p9827e9810c\">\n   <rect x=\"33.660938\" y=\"7.2\" width=\"446.4\" height=\"304.92\"/>\n  </clipPath>\n </defs>\n</svg>\n"
          },
          "metadata": {}
        }
      ]
    },
    {
      "cell_type": "markdown",
      "source": [
        "绘制测试集上原始收益率 ('r') 和策略收益率 ('s') 的累积收益曲线。\n",
        "\n",
        "* test[['r', 's']]: 选择了 test DataFrame 中的 'r' 和 's' 两列。\n",
        "* .cumsum(): 对选定的这两列分别计算它们的累积和。对于对数收益率，累积和表示从开始到当前时间点的总对数收益率。\n",
        "* .apply(np.exp): 对累积和结果应用 np.exp() 函数。这将对每个时间点的累积对数收益率取指数，从而得到从开始到该时间点的累积收益（增长因子）。累积收益为 1 表示没有收益也没有亏损，大于 1 表示盈利，小于 1 表示亏损。\n",
        "* .plot(): 对计算出的累积收益结果进行绘图。这将生成一个折线图，显示随着时间推移，原始收益和策略收益的增长情况。\n",
        "\n",
        "通过这张图，您可以直观地比较在测试期内，简单持有资产的累积收益（'r' 曲线）与按照您的策略进行交易的累积收益（'s' 曲线）的表现。\n",
        "\n",
        "如果 's' 曲线在测试期结束时高于 'r' 曲线，则表明您的策略在测试期内表现优于简单持有。"
      ],
      "metadata": {
        "id": "GQe0ppmOHWrK"
      },
      "id": "GQe0ppmOHWrK"
    }
  ],
  "metadata": {
    "kernelspec": {
      "display_name": "Python 3 (ipykernel)",
      "language": "python",
      "name": "python3"
    },
    "language_info": {
      "codemirror_mode": {
        "name": "ipython",
        "version": 3
      },
      "file_extension": ".py",
      "mimetype": "text/x-python",
      "name": "python",
      "nbconvert_exporter": "python",
      "pygments_lexer": "ipython3",
      "version": "3.13.5"
    },
    "colab": {
      "provenance": []
    }
  },
  "nbformat": 4,
  "nbformat_minor": 5
}