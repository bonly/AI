{
  "cells": [
    {
      "cell_type": "raw",
      "id": "6314ed5a-5f6d-440d-9bd1-771a850967ce",
      "metadata": {
        "id": "6314ed5a-5f6d-440d-9bd1-771a850967ce"
      },
      "source": [
        "<a href=\"https://colab.research.google.com/github/bonly/AI/blob/main/train.ipynb\" target=\"_parent\"><img src=\"https://colab.research.google.com/assets/colab-badge.svg\" alt=\"Open In Colab\"/></a>"
      ]
    },
    {
      "cell_type": "markdown",
      "source": [
        "# 环境库"
      ],
      "metadata": {
        "id": "xH6MRaWUuOQr"
      },
      "id": "xH6MRaWUuOQr"
    },
    {
      "cell_type": "code",
      "source": [
        "%pip install akshare --upgrade"
      ],
      "metadata": {
        "id": "XNCTp92AodBq"
      },
      "id": "XNCTp92AodBq",
      "execution_count": null,
      "outputs": []
    },
    {
      "cell_type": "code",
      "source": [
        "import akshare as ak;\n",
        "import numpy as np\n",
        "import pandas as pd"
      ],
      "metadata": {
        "id": "YmYBbwvYnx8A"
      },
      "id": "YmYBbwvYnx8A",
      "execution_count": 4,
      "outputs": []
    },
    {
      "cell_type": "markdown",
      "source": [
        "# 数据"
      ],
      "metadata": {
        "id": "lwV-du23uTKu"
      },
      "id": "lwV-du23uTKu"
    },
    {
      "cell_type": "code",
      "source": [
        "from pylab import plt\n",
        "plt.style.use('seaborn-v0_8')\n",
        "%config InlineBackend.figure_format = 'svg'"
      ],
      "metadata": {
        "id": "40uroCLHoC-5"
      },
      "id": "40uroCLHoC-5",
      "execution_count": 5,
      "outputs": []
    },
    {
      "cell_type": "code",
      "source": [
        "data = ak.stock_zh_a_minute(symbol='sz300188', period='1')"
      ],
      "metadata": {
        "id": "zAm8Z8AroP6N"
      },
      "id": "zAm8Z8AroP6N",
      "execution_count": null,
      "outputs": []
    },
    {
      "cell_type": "code",
      "source": [
        "print(data.tail(10));"
      ],
      "metadata": {
        "id": "ZhzK0BOqt2l6"
      },
      "id": "ZhzK0BOqt2l6",
      "execution_count": null,
      "outputs": []
    },
    {
      "cell_type": "code",
      "source": [
        "data['close'] = pd.to_numeric(data['close']);\n",
        "data['r'] = np.log(data['close'] / data['close'].shift(1));\n",
        "data['d'] = np.sign(data['r']);"
      ],
      "metadata": {
        "id": "SMDcItjUtSOM"
      },
      "id": "SMDcItjUtSOM",
      "execution_count": 12,
      "outputs": []
    },
    {
      "cell_type": "markdown",
      "source": [
        "# 策略"
      ],
      "metadata": {
        "id": "-ZJsi3qUuXQT"
      },
      "id": "-ZJsi3qUuXQT"
    },
    {
      "cell_type": "code",
      "source": [],
      "metadata": {
        "id": "pKCxWJVetu6h"
      },
      "id": "pKCxWJVetu6h",
      "execution_count": null,
      "outputs": []
    }
  ],
  "metadata": {
    "kernelspec": {
      "display_name": "Python 3 (ipykernel)",
      "language": "python",
      "name": "python3"
    },
    "language_info": {
      "codemirror_mode": {
        "name": "ipython",
        "version": 3
      },
      "file_extension": ".py",
      "mimetype": "text/x-python",
      "name": "python",
      "nbconvert_exporter": "python",
      "pygments_lexer": "ipython3",
      "version": "3.13.5"
    },
    "colab": {
      "provenance": []
    }
  },
  "nbformat": 4,
  "nbformat_minor": 5
}