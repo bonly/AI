{
  "cells": [
    {
      "cell_type": "raw",
      "id": "6314ed5a-5f6d-440d-9bd1-771a850967ce",
      "metadata": {
        "id": "6314ed5a-5f6d-440d-9bd1-771a850967ce"
      },
      "source": [
        "<a href=\"https://colab.research.google.com/github/bonly/AI/blob/main/train.ipynb\" target=\"_parent\"><img src=\"https://colab.research.google.com/assets/colab-badge.svg\" alt=\"Open In Colab\"/></a>"
      ]
    },
    {
      "cell_type": "markdown",
      "source": [
        "# 环境库"
      ],
      "metadata": {
        "id": "xH6MRaWUuOQr"
      },
      "id": "xH6MRaWUuOQr"
    },
    {
      "cell_type": "code",
      "source": [
        "%pip install akshare --upgrade"
      ],
      "metadata": {
        "colab": {
          "base_uri": "https://localhost:8080/"
        },
        "id": "XNCTp92AodBq",
        "outputId": "7c5cf562-eaaf-4d0d-c137-42fcb514e903"
      },
      "id": "XNCTp92AodBq",
      "execution_count": 1,
      "outputs": [
        {
          "output_type": "stream",
          "name": "stdout",
          "text": [
            "Collecting akshare\n",
            "  Downloading akshare-1.17.35-py3-none-any.whl.metadata (11 kB)\n",
            "Requirement already satisfied: aiohttp>=3.11.13 in /usr/local/lib/python3.11/dist-packages (from akshare) (3.12.15)\n",
            "Requirement already satisfied: beautifulsoup4>=4.9.1 in /usr/local/lib/python3.11/dist-packages (from akshare) (4.13.4)\n",
            "Requirement already satisfied: lxml>=4.2.1 in /usr/local/lib/python3.11/dist-packages (from akshare) (5.4.0)\n",
            "Requirement already satisfied: pandas>=0.25 in /usr/local/lib/python3.11/dist-packages (from akshare) (2.2.2)\n",
            "Requirement already satisfied: requests>=2.22.0 in /usr/local/lib/python3.11/dist-packages (from akshare) (2.32.3)\n",
            "Requirement already satisfied: html5lib>=1.0.1 in /usr/local/lib/python3.11/dist-packages (from akshare) (1.1)\n",
            "Requirement already satisfied: xlrd>=1.2.0 in /usr/local/lib/python3.11/dist-packages (from akshare) (2.0.2)\n",
            "Requirement already satisfied: urllib3>=1.25.8 in /usr/local/lib/python3.11/dist-packages (from akshare) (2.5.0)\n",
            "Requirement already satisfied: tqdm>=4.43.0 in /usr/local/lib/python3.11/dist-packages (from akshare) (4.67.1)\n",
            "Requirement already satisfied: openpyxl>=3.0.3 in /usr/local/lib/python3.11/dist-packages (from akshare) (3.1.5)\n",
            "Collecting jsonpath>=0.82 (from akshare)\n",
            "  Downloading jsonpath-0.82.2.tar.gz (10 kB)\n",
            "  Preparing metadata (setup.py) ... \u001b[?25l\u001b[?25hdone\n",
            "Requirement already satisfied: tabulate>=0.8.6 in /usr/local/lib/python3.11/dist-packages (from akshare) (0.9.0)\n",
            "Requirement already satisfied: decorator>=4.4.2 in /usr/local/lib/python3.11/dist-packages (from akshare) (4.4.2)\n",
            "Requirement already satisfied: nest_asyncio>=1.6.0 in /usr/local/lib/python3.11/dist-packages (from akshare) (1.6.0)\n",
            "Collecting py-mini-racer>=0.6.0 (from akshare)\n",
            "  Downloading py_mini_racer-0.6.0-py2.py3-none-manylinux1_x86_64.whl.metadata (8.7 kB)\n",
            "Collecting akracer>=0.0.13 (from akracer[py-mini-racer]>=0.0.13; platform_system == \"Linux\"->akshare)\n",
            "  Downloading akracer-0.0.13-py3-none-any.whl.metadata (2.8 kB)\n",
            "Requirement already satisfied: aiohappyeyeballs>=2.5.0 in /usr/local/lib/python3.11/dist-packages (from aiohttp>=3.11.13->akshare) (2.6.1)\n",
            "Requirement already satisfied: aiosignal>=1.4.0 in /usr/local/lib/python3.11/dist-packages (from aiohttp>=3.11.13->akshare) (1.4.0)\n",
            "Requirement already satisfied: attrs>=17.3.0 in /usr/local/lib/python3.11/dist-packages (from aiohttp>=3.11.13->akshare) (25.3.0)\n",
            "Requirement already satisfied: frozenlist>=1.1.1 in /usr/local/lib/python3.11/dist-packages (from aiohttp>=3.11.13->akshare) (1.7.0)\n",
            "Requirement already satisfied: multidict<7.0,>=4.5 in /usr/local/lib/python3.11/dist-packages (from aiohttp>=3.11.13->akshare) (6.6.4)\n",
            "Requirement already satisfied: propcache>=0.2.0 in /usr/local/lib/python3.11/dist-packages (from aiohttp>=3.11.13->akshare) (0.3.2)\n",
            "Requirement already satisfied: yarl<2.0,>=1.17.0 in /usr/local/lib/python3.11/dist-packages (from aiohttp>=3.11.13->akshare) (1.20.1)\n",
            "\u001b[33mWARNING: akracer 0.0.13 does not provide the extra 'py-mini-racer'\u001b[0m\u001b[33m\n",
            "\u001b[0mRequirement already satisfied: soupsieve>1.2 in /usr/local/lib/python3.11/dist-packages (from beautifulsoup4>=4.9.1->akshare) (2.7)\n",
            "Requirement already satisfied: typing-extensions>=4.0.0 in /usr/local/lib/python3.11/dist-packages (from beautifulsoup4>=4.9.1->akshare) (4.14.1)\n",
            "Requirement already satisfied: six>=1.9 in /usr/local/lib/python3.11/dist-packages (from html5lib>=1.0.1->akshare) (1.17.0)\n",
            "Requirement already satisfied: webencodings in /usr/local/lib/python3.11/dist-packages (from html5lib>=1.0.1->akshare) (0.5.1)\n",
            "Requirement already satisfied: et-xmlfile in /usr/local/lib/python3.11/dist-packages (from openpyxl>=3.0.3->akshare) (2.0.0)\n",
            "Requirement already satisfied: numpy>=1.23.2 in /usr/local/lib/python3.11/dist-packages (from pandas>=0.25->akshare) (2.0.2)\n",
            "Requirement already satisfied: python-dateutil>=2.8.2 in /usr/local/lib/python3.11/dist-packages (from pandas>=0.25->akshare) (2.9.0.post0)\n",
            "Requirement already satisfied: pytz>=2020.1 in /usr/local/lib/python3.11/dist-packages (from pandas>=0.25->akshare) (2025.2)\n",
            "Requirement already satisfied: tzdata>=2022.7 in /usr/local/lib/python3.11/dist-packages (from pandas>=0.25->akshare) (2025.2)\n",
            "Requirement already satisfied: charset-normalizer<4,>=2 in /usr/local/lib/python3.11/dist-packages (from requests>=2.22.0->akshare) (3.4.3)\n",
            "Requirement already satisfied: idna<4,>=2.5 in /usr/local/lib/python3.11/dist-packages (from requests>=2.22.0->akshare) (3.10)\n",
            "Requirement already satisfied: certifi>=2017.4.17 in /usr/local/lib/python3.11/dist-packages (from requests>=2.22.0->akshare) (2025.8.3)\n",
            "Downloading akshare-1.17.35-py3-none-any.whl (1.1 MB)\n",
            "\u001b[2K   \u001b[90m━━━━━━━━━━━━━━━━━━━━━━━━━━━━━━━━━━━━━━━━\u001b[0m \u001b[32m1.1/1.1 MB\u001b[0m \u001b[31m16.4 MB/s\u001b[0m eta \u001b[36m0:00:00\u001b[0m\n",
            "\u001b[?25hDownloading akracer-0.0.13-py3-none-any.whl (10.1 MB)\n",
            "\u001b[2K   \u001b[90m━━━━━━━━━━━━━━━━━━━━━━━━━━━━━━━━━━━━━━━━\u001b[0m \u001b[32m10.1/10.1 MB\u001b[0m \u001b[31m34.8 MB/s\u001b[0m eta \u001b[36m0:00:00\u001b[0m\n",
            "\u001b[?25hDownloading py_mini_racer-0.6.0-py2.py3-none-manylinux1_x86_64.whl (5.4 MB)\n",
            "\u001b[2K   \u001b[90m━━━━━━━━━━━━━━━━━━━━━━━━━━━━━━━━━━━━━━━━\u001b[0m \u001b[32m5.4/5.4 MB\u001b[0m \u001b[31m32.4 MB/s\u001b[0m eta \u001b[36m0:00:00\u001b[0m\n",
            "\u001b[?25hBuilding wheels for collected packages: jsonpath\n",
            "  Building wheel for jsonpath (setup.py) ... \u001b[?25l\u001b[?25hdone\n",
            "  Created wheel for jsonpath: filename=jsonpath-0.82.2-py3-none-any.whl size=5615 sha256=3e14c88ef36c94367a38f8ef0ae9166787a937596800f8329009332cf7695f74\n",
            "  Stored in directory: /root/.cache/pip/wheels/7d/b8/16/48bbd715040679311fa68cb564ad24a97d9a67fea5d4c848c8\n",
            "Successfully built jsonpath\n",
            "Installing collected packages: py-mini-racer, jsonpath, akracer, akshare\n",
            "Successfully installed akracer-0.0.13 akshare-1.17.35 jsonpath-0.82.2 py-mini-racer-0.6.0\n"
          ]
        }
      ]
    },
    {
      "cell_type": "code",
      "source": [
        "import akshare as ak;\n",
        "import numpy as np\n",
        "import pandas as pd"
      ],
      "metadata": {
        "id": "YmYBbwvYnx8A"
      },
      "id": "YmYBbwvYnx8A",
      "execution_count": 1,
      "outputs": []
    },
    {
      "cell_type": "markdown",
      "source": [
        "# 数据"
      ],
      "metadata": {
        "id": "lwV-du23uTKu"
      },
      "id": "lwV-du23uTKu"
    },
    {
      "cell_type": "code",
      "source": [
        "from pylab import plt\n",
        "plt.style.use('seaborn-v0_8')\n",
        "%config InlineBackend.figure_format = 'svg'"
      ],
      "metadata": {
        "id": "40uroCLHoC-5"
      },
      "id": "40uroCLHoC-5",
      "execution_count": 2,
      "outputs": []
    },
    {
      "cell_type": "code",
      "source": [
        "data = ak.stock_zh_a_minute(symbol='sz300188', period='1')"
      ],
      "metadata": {
        "id": "zAm8Z8AroP6N"
      },
      "id": "zAm8Z8AroP6N",
      "execution_count": 3,
      "outputs": []
    },
    {
      "cell_type": "code",
      "source": [
        "print(data.tail(10));"
      ],
      "metadata": {
        "colab": {
          "base_uri": "https://localhost:8080/"
        },
        "id": "ZhzK0BOqt2l6",
        "outputId": "fa1193c4-0e55-48ba-cad2-36e28cad3913"
      },
      "id": "ZhzK0BOqt2l6",
      "execution_count": 4,
      "outputs": [
        {
          "output_type": "stream",
          "name": "stdout",
          "text": [
            "                      day    open    high     low   close   volume\n",
            "1960  2025-08-15 14:49:00  18.790  18.890  18.780  18.850   602413\n",
            "1961  2025-08-15 14:50:00  18.810  18.850  18.750  18.750   568087\n",
            "1962  2025-08-15 14:51:00  18.750  18.820  18.730  18.770   554300\n",
            "1963  2025-08-15 14:52:00  18.790  18.930  18.770  18.920  1008692\n",
            "1964  2025-08-15 14:53:00  18.930  19.080  18.920  19.070  1002700\n",
            "1965  2025-08-15 14:54:00  19.070  19.090  18.830  18.830  1386500\n",
            "1966  2025-08-15 14:55:00  18.830  18.980  18.780  18.950   713812\n",
            "1967  2025-08-15 14:56:00  18.930  18.960  18.830  18.890   614088\n",
            "1968  2025-08-15 14:57:00  18.890  18.890  18.770  18.840   856900\n",
            "1969  2025-08-15 15:00:00  18.850  18.850  18.850  18.850  1238200\n"
          ]
        }
      ]
    },
    {
      "cell_type": "code",
      "source": [
        "data['open'] = data['open'].astype(np.float64);\n",
        "data['high'] = data['high'].astype(np.float64);\n",
        "data['low'] = data['low'].astype(np.float64);\n",
        "data['volume'] = data['volume'].astype(np.int64);\n",
        "data['day'] = pd.to_datetime(data['day']);"
      ],
      "metadata": {
        "id": "SgmY1s4-wAwt"
      },
      "id": "SgmY1s4-wAwt",
      "execution_count": 22,
      "outputs": []
    },
    {
      "cell_type": "code",
      "source": [
        "data['close'] = pd.to_numeric(data['close']);\n",
        "data['r'] = np.log(data['close'] / data['close'].shift(1));\n",
        "data['d'] = np.sign(data['r']);"
      ],
      "metadata": {
        "id": "SMDcItjUtSOM"
      },
      "id": "SMDcItjUtSOM",
      "execution_count": 11,
      "outputs": []
    },
    {
      "cell_type": "markdown",
      "source": [
        "# 策略"
      ],
      "metadata": {
        "id": "-ZJsi3qUuXQT"
      },
      "id": "-ZJsi3qUuXQT"
    },
    {
      "cell_type": "code",
      "source": [
        "lags = 3"
      ],
      "metadata": {
        "id": "Ki0_rA52u68U"
      },
      "id": "Ki0_rA52u68U",
      "execution_count": 12,
      "outputs": []
    },
    {
      "cell_type": "code",
      "source": [
        "cols = list()\n",
        "for lag in range(1, lags + 1):\n",
        "    col = f'lag_{lag}'\n",
        "    data[col] = data['r'].shift(lag)\n",
        "    cols.append(col)"
      ],
      "metadata": {
        "id": "pKCxWJVetu6h"
      },
      "id": "pKCxWJVetu6h",
      "execution_count": 13,
      "outputs": []
    },
    {
      "cell_type": "markdown",
      "source": [
        "代码的作用是在 data 这个 DataFrame 中创建滞后的收益率列。\n",
        "\n",
        "* 首先，它初始化了一个名为 cols 的空列表，用来存储后面创建的列名。\n",
        "* 然后，它会循环 lags 次（这里 lags 的值是 3）。\n",
        "* 在每次循环中，它会根据当前的 lag 值创建一个新的列名，例如 'lag_1', 'lag_2', 'lag_3'。\n",
        "* 接着，它会在 data DataFrame 中创建一个新的列，列名就是刚刚生成的。这一列的值是 'r' 列（收益率列）向下移动 lag 行得到的结果。这样就创建了包含过去收益率值的列。\n",
        "* 最后，它将新创建的列名添加到 cols 列表中。\n",
        "\n",
        "这段代码运行后，data DataFrame 中会增加名为 'lag_1', 'lag_2' 和 'lag_3' 的新列，它们分别包含前 1、2 和 3 个时间段的收益率数据。"
      ],
      "metadata": {
        "id": "EGhedFveAes_"
      },
      "id": "EGhedFveAes_"
    },
    {
      "cell_type": "code",
      "source": [
        "print(data.head(10));"
      ],
      "metadata": {
        "colab": {
          "base_uri": "https://localhost:8080/"
        },
        "id": "CsLXnZxLu9tz",
        "outputId": "852bcdba-c031-413d-c7fd-4b67cee503b9"
      },
      "id": "CsLXnZxLu9tz",
      "execution_count": 23,
      "outputs": [
        {
          "output_type": "stream",
          "name": "stdout",
          "text": [
            "                   day   open   high    low  close  volume         r  d  \\\n",
            "4  2025-08-05 13:57:00  17.04  17.06  17.03  17.04   86800  0.000000  0   \n",
            "5  2025-08-05 13:58:00  17.05  17.10  17.05  17.09   99500  0.002930  1   \n",
            "6  2025-08-05 13:59:00  17.10  17.10  17.09  17.10   24100  0.000585  1   \n",
            "7  2025-08-05 14:00:00  17.09  17.11  17.08  17.09   37300 -0.000585 -1   \n",
            "8  2025-08-05 14:01:00  17.09  17.11  17.08  17.11   46800  0.001170  1   \n",
            "9  2025-08-05 14:02:00  17.11  17.11  17.08  17.10   68800 -0.000585 -1   \n",
            "10 2025-08-05 14:03:00  17.10  17.11  17.10  17.11   31500  0.000585  1   \n",
            "11 2025-08-05 14:04:00  17.11  17.13  17.10  17.11   69300  0.000000  0   \n",
            "12 2025-08-05 14:05:00  17.11  17.12  17.11  17.11   47500  0.000000  0   \n",
            "13 2025-08-05 14:06:00  17.11  17.12  17.11  17.11   25600  0.000000  0   \n",
            "\n",
            "       lag_1     lag_2     lag_3  \n",
            "4  -0.001759 -0.001171 -0.001170  \n",
            "5   0.000000 -0.001759 -0.001171  \n",
            "6   0.002930  0.000000 -0.001759  \n",
            "7   0.000585  0.002930  0.000000  \n",
            "8  -0.000585  0.000585  0.002930  \n",
            "9   0.001170 -0.000585  0.000585  \n",
            "10 -0.000585  0.001170 -0.000585  \n",
            "11  0.000585 -0.000585  0.001170  \n",
            "12  0.000000  0.000585 -0.000585  \n",
            "13  0.000000  0.000000  0.000585  \n"
          ]
        }
      ]
    },
    {
      "cell_type": "code",
      "source": [
        "data.dropna(inplace=True); #删除 DataFrame 中所有包含缺失值（NaN）的行"
      ],
      "metadata": {
        "id": "gonEks_iAy2U"
      },
      "id": "gonEks_iAy2U",
      "execution_count": 15,
      "outputs": []
    },
    {
      "cell_type": "code",
      "source": [
        "data['d'] = data['d'].astype(int); #将 data DataFrame 中 'd' 列的数据类型转换为整数"
      ],
      "metadata": {
        "id": "GUGqP0VTBUQ0"
      },
      "id": "GUGqP0VTBUQ0",
      "execution_count": 16,
      "outputs": []
    },
    {
      "cell_type": "markdown",
      "source": [
        "# 拆分出训练数据和验证数据"
      ],
      "metadata": {
        "id": "lNVzpYBjB9Sh"
      },
      "id": "lNVzpYBjB9Sh"
    },
    {
      "cell_type": "code",
      "source": [
        "split = int(len(data) * 0.8); #计算用于将数据集分割成训练集和测试集的索引位置"
      ],
      "metadata": {
        "id": "ZweONtStCACt"
      },
      "id": "ZweONtStCACt",
      "execution_count": 17,
      "outputs": []
    },
    {
      "cell_type": "code",
      "source": [
        "print(split);"
      ],
      "metadata": {
        "colab": {
          "base_uri": "https://localhost:8080/"
        },
        "id": "JtduxmxTCjMQ",
        "outputId": "7cad8b9d-5183-4f9d-991f-6d37fa579828"
      },
      "id": "JtduxmxTCjMQ",
      "execution_count": 18,
      "outputs": [
        {
          "output_type": "stream",
          "name": "stdout",
          "text": [
            "1572\n"
          ]
        }
      ]
    },
    {
      "cell_type": "markdown",
      "source": [
        "将数据分割成 80% 的训练集和 20% 的测试集"
      ],
      "metadata": {
        "id": "YejxYhjOCvtT"
      },
      "id": "YejxYhjOCvtT"
    },
    {
      "cell_type": "markdown",
      "source": [
        "## 准备训练数据"
      ],
      "metadata": {
        "id": "U5JXOLbR2yQc"
      },
      "id": "U5JXOLbR2yQc"
    },
    {
      "cell_type": "code",
      "source": [
        "train = data.iloc[:split].copy(); #从第一行开始，split 表示到 split 索引（不包含该行）为止,复制一份到训练中"
      ],
      "metadata": {
        "id": "QmdWcfd2C4Ct"
      },
      "id": "QmdWcfd2C4Ct",
      "execution_count": 19,
      "outputs": []
    },
    {
      "cell_type": "code",
      "source": [
        "mu, std = train.drop('day', axis=1).mean(), train.drop('day', axis=1).std(); #计算得出两数组"
      ],
      "metadata": {
        "id": "cj1r7n1MEFZI"
      },
      "id": "cj1r7n1MEFZI",
      "execution_count": 21,
      "outputs": []
    },
    {
      "cell_type": "markdown",
      "source": [
        "* mean() 平均值\n",
        "* std() 标准差，衡量数据的离散程度。"
      ],
      "metadata": {
        "id": "SSnWWKj4tauP"
      },
      "id": "SSnWWKj4tauP"
    },
    {
      "cell_type": "markdown",
      "source": [
        "计算训练集的均值和标准差通常是数据预处理的一个重要步骤，特别是当您需要对数据进行标准化（Standardization）或归一化（Normalization）时。\n",
        "\n",
        "使用训练集的统计信息来转换训练集和测试集可以避免数据泄露（Data Leakage），即测试集的信息“泄露”到训练过程中。"
      ],
      "metadata": {
        "id": "0u5AlD_CtUGn"
      },
      "id": "0u5AlD_CtUGn"
    },
    {
      "cell_type": "code",
      "source": [
        "print(train.head(10));"
      ],
      "metadata": {
        "colab": {
          "base_uri": "https://localhost:8080/"
        },
        "id": "-LfBHyewyz1_",
        "outputId": "962b74aa-5754-41d0-bc75-172dd160f97e"
      },
      "id": "-LfBHyewyz1_",
      "execution_count": 28,
      "outputs": [
        {
          "output_type": "stream",
          "name": "stdout",
          "text": [
            "                    day   open   high    low  close  volume         r  d  \\\n",
            "4   2025-08-05 13:57:00  17.04  17.06  17.03  17.04   86800  0.000000  0   \n",
            "5   2025-08-05 13:58:00  17.05  17.10  17.05  17.09   99500  0.002930  1   \n",
            "6   2025-08-05 13:59:00  17.10  17.10  17.09  17.10   24100  0.000585  1   \n",
            "7   2025-08-05 14:00:00  17.09  17.11  17.08  17.09   37300 -0.000585 -1   \n",
            "8   2025-08-05 14:01:00  17.09  17.11  17.08  17.11   46800  0.001170  1   \n",
            "9   2025-08-05 14:02:00  17.11  17.11  17.08  17.10   68800 -0.000585 -1   \n",
            "10  2025-08-05 14:03:00  17.10  17.11  17.10  17.11   31500  0.000585  1   \n",
            "11  2025-08-05 14:04:00  17.11  17.13  17.10  17.11   69300  0.000000  0   \n",
            "12  2025-08-05 14:05:00  17.11  17.12  17.11  17.11   47500  0.000000  0   \n",
            "13  2025-08-05 14:06:00  17.11  17.12  17.11  17.11   25600  0.000000  0   \n",
            "\n",
            "       lag_1     lag_2     lag_3  \n",
            "4  -0.001759 -0.001171 -0.001170  \n",
            "5   0.000000 -0.001759 -0.001171  \n",
            "6   0.002930  0.000000 -0.001759  \n",
            "7   0.000585  0.002930  0.000000  \n",
            "8  -0.000585  0.000585  0.002930  \n",
            "9   0.001170 -0.000585  0.000585  \n",
            "10 -0.000585  0.001170 -0.000585  \n",
            "11  0.000585 -0.000585  0.001170  \n",
            "12  0.000000  0.000585 -0.000585  \n",
            "13  0.000000  0.000000  0.000585  \n"
          ]
        }
      ]
    },
    {
      "cell_type": "code",
      "source": [
        "print(mu);\n",
        "print(std);"
      ],
      "metadata": {
        "id": "q5QGgHOBzRRT"
      },
      "id": "q5QGgHOBzRRT",
      "execution_count": null,
      "outputs": []
    },
    {
      "cell_type": "code",
      "source": [
        "train_ = (train - mu) / std;"
      ],
      "metadata": {
        "id": "166hSa6WtwPj"
      },
      "id": "166hSa6WtwPj",
      "execution_count": 26,
      "outputs": []
    },
    {
      "cell_type": "code",
      "source": [
        "print(train_);"
      ],
      "metadata": {
        "colab": {
          "base_uri": "https://localhost:8080/"
        },
        "id": "prU0DI9e0R9F",
        "outputId": "36af4da3-b6af-4220-cf6a-955732354f7e"
      },
      "id": "prU0DI9e0R9F",
      "execution_count": 27,
      "outputs": [
        {
          "output_type": "stream",
          "name": "stdout",
          "text": [
            "         close         d  day      high     lag_1     lag_2     lag_3  \\\n",
            "4     0.703336  0.041636  NaN  0.696466 -0.684956 -0.466246 -0.465020   \n",
            "5     0.771337  1.210431  NaN  0.750131 -0.030409 -0.685077 -0.465530   \n",
            "6     0.784937  1.210431  NaN  0.750131  1.059864 -0.030499 -0.684384   \n",
            "7     0.771337 -1.127158  NaN  0.763547  0.187262  1.059825 -0.029738   \n",
            "8     0.798537  1.210431  NaN  0.763547 -0.248081  0.187183  1.060700   \n",
            "...        ...       ...  ...       ...       ...       ...       ...   \n",
            "1571  4.048952 -1.127158  NaN  4.292056 -6.050519 -0.030499 -0.029738   \n",
            "1572  3.912952 -1.127158  NaN  4.077394 -2.313299 -6.050894 -0.029738   \n",
            "1573  3.967352  1.210431  NaN  4.050561 -1.943575 -2.313497 -6.050757   \n",
            "1574  3.926552 -1.127158  NaN  3.916397  0.736038 -1.943755 -2.312973   \n",
            "1575  4.212153  1.210431  NaN  4.131059 -0.605097  0.735984 -1.943192   \n",
            "\n",
            "           low      open         r    volume  \n",
            "4     0.731622  0.710631 -0.033212 -0.218040  \n",
            "5     0.759384  0.724319  1.051788 -0.196188  \n",
            "6     0.814910  0.792756  0.183407 -0.325927  \n",
            "7     0.801028  0.779068 -0.249830 -0.303214  \n",
            "8     0.801028  0.779068  0.399900 -0.286868  \n",
            "...        ...       ...       ...       ...  \n",
            "1571  4.146428  4.241986 -2.305059  2.541528  \n",
            "1572  3.993733  4.077737 -1.937123  2.058428  \n",
            "1573  3.993733  3.913488  0.729528  1.813918  \n",
            "1574  3.938208  3.995612 -0.605119  1.884026  \n",
            "1575  4.021496  3.940863  3.951716  1.368414  \n",
            "\n",
            "[1572 rows x 11 columns]\n"
          ]
        }
      ]
    },
    {
      "cell_type": "markdown",
      "source": [
        "## 准备验证数据"
      ],
      "metadata": {
        "id": "F9KTYnjf2gwR"
      },
      "id": "F9KTYnjf2gwR"
    },
    {
      "cell_type": "code",
      "source": [
        "test = data.iloc[split:].copy(); #%20的测试数据\n",
        "test_ = (test.drop('day', axis=1) - mu) / std"
      ],
      "metadata": {
        "id": "hwt76WsP00nx"
      },
      "id": "hwt76WsP00nx",
      "execution_count": 31,
      "outputs": []
    },
    {
      "cell_type": "markdown",
      "source": [
        "# 训练"
      ],
      "metadata": {
        "id": "1CV2MAH43UPb"
      },
      "id": "1CV2MAH43UPb"
    },
    {
      "cell_type": "code",
      "source": [
        "from sklearn.neural_network import MLPClassifier\n",
        "from sklearn.metrics import accuracy_score"
      ],
      "metadata": {
        "id": "3lY5OKwe3eX2"
      },
      "id": "3lY5OKwe3eX2",
      "execution_count": 32,
      "outputs": []
    },
    {
      "cell_type": "markdown",
      "source": [
        "* MLPClassifier 是用于分类任务的多层感知器（Multilayer Perceptron）模型，也就是一种神经网络模型。\n",
        "* accuracy_score 是一个评估分类模型性能的指标，它计算模型预测的准确率，即正确预测的样本占总样本数的比例。"
      ],
      "metadata": {
        "id": "Hgl8hnwP3rba"
      },
      "id": "Hgl8hnwP3rba"
    },
    {
      "cell_type": "code",
      "source": [
        "model = MLPClassifier(hidden_layer_sizes=[24],\n",
        "                      shuffle=False,\n",
        "                      max_iter=500)"
      ],
      "metadata": {
        "id": "zLVHOTAd3yCW"
      },
      "id": "zLVHOTAd3yCW",
      "execution_count": 33,
      "outputs": []
    },
    {
      "cell_type": "markdown",
      "source": [
        "* model = MLPClassifier(...): 创建一个 MLPClassifier 对象，并将其赋值给变量 model。\n",
        "* hidden_layer_sizes=[24]: 这个参数指定了神经网络中隐藏层的结构。[24] 表示模型有一个隐藏层，这个隐藏层有 24 个神经元。您可以根据需要调整隐藏层的数量和每个隐藏层的神经元数量。\n",
        "* shuffle=False: 这个参数控制在每次迭代训练时是否打乱训练数据的顺序。在这里设置为 False 意味着数据将按照原始顺序进行训练。在时间序列数据中，通常不打乱数据顺序，以保留时间上的依赖性。\n",
        "* max_iter=500: 这个参数指定了模型训练的最大迭代次数（epochs）。模型会在最多进行 500 次完整的训练数据遍历后停止训练。如果模型在达到最大迭代次数之前收敛（损失函数不再显著下降），训练也会提前停止。\n",
        "\n",
        "总的来说，这段代码创建了一个具有一个包含 24 个神经元的隐藏层的神经网络模型，并设置了训练时数据不打乱以及最大迭代次数为 500。这个 model 对象将在后续步骤中用于训练和预测。"
      ],
      "metadata": {
        "id": "LtYZQzmy4RRF"
      },
      "id": "LtYZQzmy4RRF"
    },
    {
      "cell_type": "code",
      "source": [
        "model.fit(train_[cols], train['d'])"
      ],
      "metadata": {
        "colab": {
          "base_uri": "https://localhost:8080/",
          "height": 80
        },
        "id": "mC3ibmix3x_f",
        "outputId": "f15d23a6-1f8f-49dc-bc39-7cb37b8e8879"
      },
      "id": "mC3ibmix3x_f",
      "execution_count": 34,
      "outputs": [
        {
          "output_type": "execute_result",
          "data": {
            "text/plain": [
              "MLPClassifier(hidden_layer_sizes=[24], max_iter=500, shuffle=False)"
            ],
            "text/html": [
              "<style>#sk-container-id-1 {\n",
              "  /* Definition of color scheme common for light and dark mode */\n",
              "  --sklearn-color-text: #000;\n",
              "  --sklearn-color-text-muted: #666;\n",
              "  --sklearn-color-line: gray;\n",
              "  /* Definition of color scheme for unfitted estimators */\n",
              "  --sklearn-color-unfitted-level-0: #fff5e6;\n",
              "  --sklearn-color-unfitted-level-1: #f6e4d2;\n",
              "  --sklearn-color-unfitted-level-2: #ffe0b3;\n",
              "  --sklearn-color-unfitted-level-3: chocolate;\n",
              "  /* Definition of color scheme for fitted estimators */\n",
              "  --sklearn-color-fitted-level-0: #f0f8ff;\n",
              "  --sklearn-color-fitted-level-1: #d4ebff;\n",
              "  --sklearn-color-fitted-level-2: #b3dbfd;\n",
              "  --sklearn-color-fitted-level-3: cornflowerblue;\n",
              "\n",
              "  /* Specific color for light theme */\n",
              "  --sklearn-color-text-on-default-background: var(--sg-text-color, var(--theme-code-foreground, var(--jp-content-font-color1, black)));\n",
              "  --sklearn-color-background: var(--sg-background-color, var(--theme-background, var(--jp-layout-color0, white)));\n",
              "  --sklearn-color-border-box: var(--sg-text-color, var(--theme-code-foreground, var(--jp-content-font-color1, black)));\n",
              "  --sklearn-color-icon: #696969;\n",
              "\n",
              "  @media (prefers-color-scheme: dark) {\n",
              "    /* Redefinition of color scheme for dark theme */\n",
              "    --sklearn-color-text-on-default-background: var(--sg-text-color, var(--theme-code-foreground, var(--jp-content-font-color1, white)));\n",
              "    --sklearn-color-background: var(--sg-background-color, var(--theme-background, var(--jp-layout-color0, #111)));\n",
              "    --sklearn-color-border-box: var(--sg-text-color, var(--theme-code-foreground, var(--jp-content-font-color1, white)));\n",
              "    --sklearn-color-icon: #878787;\n",
              "  }\n",
              "}\n",
              "\n",
              "#sk-container-id-1 {\n",
              "  color: var(--sklearn-color-text);\n",
              "}\n",
              "\n",
              "#sk-container-id-1 pre {\n",
              "  padding: 0;\n",
              "}\n",
              "\n",
              "#sk-container-id-1 input.sk-hidden--visually {\n",
              "  border: 0;\n",
              "  clip: rect(1px 1px 1px 1px);\n",
              "  clip: rect(1px, 1px, 1px, 1px);\n",
              "  height: 1px;\n",
              "  margin: -1px;\n",
              "  overflow: hidden;\n",
              "  padding: 0;\n",
              "  position: absolute;\n",
              "  width: 1px;\n",
              "}\n",
              "\n",
              "#sk-container-id-1 div.sk-dashed-wrapped {\n",
              "  border: 1px dashed var(--sklearn-color-line);\n",
              "  margin: 0 0.4em 0.5em 0.4em;\n",
              "  box-sizing: border-box;\n",
              "  padding-bottom: 0.4em;\n",
              "  background-color: var(--sklearn-color-background);\n",
              "}\n",
              "\n",
              "#sk-container-id-1 div.sk-container {\n",
              "  /* jupyter's `normalize.less` sets `[hidden] { display: none; }`\n",
              "     but bootstrap.min.css set `[hidden] { display: none !important; }`\n",
              "     so we also need the `!important` here to be able to override the\n",
              "     default hidden behavior on the sphinx rendered scikit-learn.org.\n",
              "     See: https://github.com/scikit-learn/scikit-learn/issues/21755 */\n",
              "  display: inline-block !important;\n",
              "  position: relative;\n",
              "}\n",
              "\n",
              "#sk-container-id-1 div.sk-text-repr-fallback {\n",
              "  display: none;\n",
              "}\n",
              "\n",
              "div.sk-parallel-item,\n",
              "div.sk-serial,\n",
              "div.sk-item {\n",
              "  /* draw centered vertical line to link estimators */\n",
              "  background-image: linear-gradient(var(--sklearn-color-text-on-default-background), var(--sklearn-color-text-on-default-background));\n",
              "  background-size: 2px 100%;\n",
              "  background-repeat: no-repeat;\n",
              "  background-position: center center;\n",
              "}\n",
              "\n",
              "/* Parallel-specific style estimator block */\n",
              "\n",
              "#sk-container-id-1 div.sk-parallel-item::after {\n",
              "  content: \"\";\n",
              "  width: 100%;\n",
              "  border-bottom: 2px solid var(--sklearn-color-text-on-default-background);\n",
              "  flex-grow: 1;\n",
              "}\n",
              "\n",
              "#sk-container-id-1 div.sk-parallel {\n",
              "  display: flex;\n",
              "  align-items: stretch;\n",
              "  justify-content: center;\n",
              "  background-color: var(--sklearn-color-background);\n",
              "  position: relative;\n",
              "}\n",
              "\n",
              "#sk-container-id-1 div.sk-parallel-item {\n",
              "  display: flex;\n",
              "  flex-direction: column;\n",
              "}\n",
              "\n",
              "#sk-container-id-1 div.sk-parallel-item:first-child::after {\n",
              "  align-self: flex-end;\n",
              "  width: 50%;\n",
              "}\n",
              "\n",
              "#sk-container-id-1 div.sk-parallel-item:last-child::after {\n",
              "  align-self: flex-start;\n",
              "  width: 50%;\n",
              "}\n",
              "\n",
              "#sk-container-id-1 div.sk-parallel-item:only-child::after {\n",
              "  width: 0;\n",
              "}\n",
              "\n",
              "/* Serial-specific style estimator block */\n",
              "\n",
              "#sk-container-id-1 div.sk-serial {\n",
              "  display: flex;\n",
              "  flex-direction: column;\n",
              "  align-items: center;\n",
              "  background-color: var(--sklearn-color-background);\n",
              "  padding-right: 1em;\n",
              "  padding-left: 1em;\n",
              "}\n",
              "\n",
              "\n",
              "/* Toggleable style: style used for estimator/Pipeline/ColumnTransformer box that is\n",
              "clickable and can be expanded/collapsed.\n",
              "- Pipeline and ColumnTransformer use this feature and define the default style\n",
              "- Estimators will overwrite some part of the style using the `sk-estimator` class\n",
              "*/\n",
              "\n",
              "/* Pipeline and ColumnTransformer style (default) */\n",
              "\n",
              "#sk-container-id-1 div.sk-toggleable {\n",
              "  /* Default theme specific background. It is overwritten whether we have a\n",
              "  specific estimator or a Pipeline/ColumnTransformer */\n",
              "  background-color: var(--sklearn-color-background);\n",
              "}\n",
              "\n",
              "/* Toggleable label */\n",
              "#sk-container-id-1 label.sk-toggleable__label {\n",
              "  cursor: pointer;\n",
              "  display: flex;\n",
              "  width: 100%;\n",
              "  margin-bottom: 0;\n",
              "  padding: 0.5em;\n",
              "  box-sizing: border-box;\n",
              "  text-align: center;\n",
              "  align-items: start;\n",
              "  justify-content: space-between;\n",
              "  gap: 0.5em;\n",
              "}\n",
              "\n",
              "#sk-container-id-1 label.sk-toggleable__label .caption {\n",
              "  font-size: 0.6rem;\n",
              "  font-weight: lighter;\n",
              "  color: var(--sklearn-color-text-muted);\n",
              "}\n",
              "\n",
              "#sk-container-id-1 label.sk-toggleable__label-arrow:before {\n",
              "  /* Arrow on the left of the label */\n",
              "  content: \"▸\";\n",
              "  float: left;\n",
              "  margin-right: 0.25em;\n",
              "  color: var(--sklearn-color-icon);\n",
              "}\n",
              "\n",
              "#sk-container-id-1 label.sk-toggleable__label-arrow:hover:before {\n",
              "  color: var(--sklearn-color-text);\n",
              "}\n",
              "\n",
              "/* Toggleable content - dropdown */\n",
              "\n",
              "#sk-container-id-1 div.sk-toggleable__content {\n",
              "  max-height: 0;\n",
              "  max-width: 0;\n",
              "  overflow: hidden;\n",
              "  text-align: left;\n",
              "  /* unfitted */\n",
              "  background-color: var(--sklearn-color-unfitted-level-0);\n",
              "}\n",
              "\n",
              "#sk-container-id-1 div.sk-toggleable__content.fitted {\n",
              "  /* fitted */\n",
              "  background-color: var(--sklearn-color-fitted-level-0);\n",
              "}\n",
              "\n",
              "#sk-container-id-1 div.sk-toggleable__content pre {\n",
              "  margin: 0.2em;\n",
              "  border-radius: 0.25em;\n",
              "  color: var(--sklearn-color-text);\n",
              "  /* unfitted */\n",
              "  background-color: var(--sklearn-color-unfitted-level-0);\n",
              "}\n",
              "\n",
              "#sk-container-id-1 div.sk-toggleable__content.fitted pre {\n",
              "  /* unfitted */\n",
              "  background-color: var(--sklearn-color-fitted-level-0);\n",
              "}\n",
              "\n",
              "#sk-container-id-1 input.sk-toggleable__control:checked~div.sk-toggleable__content {\n",
              "  /* Expand drop-down */\n",
              "  max-height: 200px;\n",
              "  max-width: 100%;\n",
              "  overflow: auto;\n",
              "}\n",
              "\n",
              "#sk-container-id-1 input.sk-toggleable__control:checked~label.sk-toggleable__label-arrow:before {\n",
              "  content: \"▾\";\n",
              "}\n",
              "\n",
              "/* Pipeline/ColumnTransformer-specific style */\n",
              "\n",
              "#sk-container-id-1 div.sk-label input.sk-toggleable__control:checked~label.sk-toggleable__label {\n",
              "  color: var(--sklearn-color-text);\n",
              "  background-color: var(--sklearn-color-unfitted-level-2);\n",
              "}\n",
              "\n",
              "#sk-container-id-1 div.sk-label.fitted input.sk-toggleable__control:checked~label.sk-toggleable__label {\n",
              "  background-color: var(--sklearn-color-fitted-level-2);\n",
              "}\n",
              "\n",
              "/* Estimator-specific style */\n",
              "\n",
              "/* Colorize estimator box */\n",
              "#sk-container-id-1 div.sk-estimator input.sk-toggleable__control:checked~label.sk-toggleable__label {\n",
              "  /* unfitted */\n",
              "  background-color: var(--sklearn-color-unfitted-level-2);\n",
              "}\n",
              "\n",
              "#sk-container-id-1 div.sk-estimator.fitted input.sk-toggleable__control:checked~label.sk-toggleable__label {\n",
              "  /* fitted */\n",
              "  background-color: var(--sklearn-color-fitted-level-2);\n",
              "}\n",
              "\n",
              "#sk-container-id-1 div.sk-label label.sk-toggleable__label,\n",
              "#sk-container-id-1 div.sk-label label {\n",
              "  /* The background is the default theme color */\n",
              "  color: var(--sklearn-color-text-on-default-background);\n",
              "}\n",
              "\n",
              "/* On hover, darken the color of the background */\n",
              "#sk-container-id-1 div.sk-label:hover label.sk-toggleable__label {\n",
              "  color: var(--sklearn-color-text);\n",
              "  background-color: var(--sklearn-color-unfitted-level-2);\n",
              "}\n",
              "\n",
              "/* Label box, darken color on hover, fitted */\n",
              "#sk-container-id-1 div.sk-label.fitted:hover label.sk-toggleable__label.fitted {\n",
              "  color: var(--sklearn-color-text);\n",
              "  background-color: var(--sklearn-color-fitted-level-2);\n",
              "}\n",
              "\n",
              "/* Estimator label */\n",
              "\n",
              "#sk-container-id-1 div.sk-label label {\n",
              "  font-family: monospace;\n",
              "  font-weight: bold;\n",
              "  display: inline-block;\n",
              "  line-height: 1.2em;\n",
              "}\n",
              "\n",
              "#sk-container-id-1 div.sk-label-container {\n",
              "  text-align: center;\n",
              "}\n",
              "\n",
              "/* Estimator-specific */\n",
              "#sk-container-id-1 div.sk-estimator {\n",
              "  font-family: monospace;\n",
              "  border: 1px dotted var(--sklearn-color-border-box);\n",
              "  border-radius: 0.25em;\n",
              "  box-sizing: border-box;\n",
              "  margin-bottom: 0.5em;\n",
              "  /* unfitted */\n",
              "  background-color: var(--sklearn-color-unfitted-level-0);\n",
              "}\n",
              "\n",
              "#sk-container-id-1 div.sk-estimator.fitted {\n",
              "  /* fitted */\n",
              "  background-color: var(--sklearn-color-fitted-level-0);\n",
              "}\n",
              "\n",
              "/* on hover */\n",
              "#sk-container-id-1 div.sk-estimator:hover {\n",
              "  /* unfitted */\n",
              "  background-color: var(--sklearn-color-unfitted-level-2);\n",
              "}\n",
              "\n",
              "#sk-container-id-1 div.sk-estimator.fitted:hover {\n",
              "  /* fitted */\n",
              "  background-color: var(--sklearn-color-fitted-level-2);\n",
              "}\n",
              "\n",
              "/* Specification for estimator info (e.g. \"i\" and \"?\") */\n",
              "\n",
              "/* Common style for \"i\" and \"?\" */\n",
              "\n",
              ".sk-estimator-doc-link,\n",
              "a:link.sk-estimator-doc-link,\n",
              "a:visited.sk-estimator-doc-link {\n",
              "  float: right;\n",
              "  font-size: smaller;\n",
              "  line-height: 1em;\n",
              "  font-family: monospace;\n",
              "  background-color: var(--sklearn-color-background);\n",
              "  border-radius: 1em;\n",
              "  height: 1em;\n",
              "  width: 1em;\n",
              "  text-decoration: none !important;\n",
              "  margin-left: 0.5em;\n",
              "  text-align: center;\n",
              "  /* unfitted */\n",
              "  border: var(--sklearn-color-unfitted-level-1) 1pt solid;\n",
              "  color: var(--sklearn-color-unfitted-level-1);\n",
              "}\n",
              "\n",
              ".sk-estimator-doc-link.fitted,\n",
              "a:link.sk-estimator-doc-link.fitted,\n",
              "a:visited.sk-estimator-doc-link.fitted {\n",
              "  /* fitted */\n",
              "  border: var(--sklearn-color-fitted-level-1) 1pt solid;\n",
              "  color: var(--sklearn-color-fitted-level-1);\n",
              "}\n",
              "\n",
              "/* On hover */\n",
              "div.sk-estimator:hover .sk-estimator-doc-link:hover,\n",
              ".sk-estimator-doc-link:hover,\n",
              "div.sk-label-container:hover .sk-estimator-doc-link:hover,\n",
              ".sk-estimator-doc-link:hover {\n",
              "  /* unfitted */\n",
              "  background-color: var(--sklearn-color-unfitted-level-3);\n",
              "  color: var(--sklearn-color-background);\n",
              "  text-decoration: none;\n",
              "}\n",
              "\n",
              "div.sk-estimator.fitted:hover .sk-estimator-doc-link.fitted:hover,\n",
              ".sk-estimator-doc-link.fitted:hover,\n",
              "div.sk-label-container:hover .sk-estimator-doc-link.fitted:hover,\n",
              ".sk-estimator-doc-link.fitted:hover {\n",
              "  /* fitted */\n",
              "  background-color: var(--sklearn-color-fitted-level-3);\n",
              "  color: var(--sklearn-color-background);\n",
              "  text-decoration: none;\n",
              "}\n",
              "\n",
              "/* Span, style for the box shown on hovering the info icon */\n",
              ".sk-estimator-doc-link span {\n",
              "  display: none;\n",
              "  z-index: 9999;\n",
              "  position: relative;\n",
              "  font-weight: normal;\n",
              "  right: .2ex;\n",
              "  padding: .5ex;\n",
              "  margin: .5ex;\n",
              "  width: min-content;\n",
              "  min-width: 20ex;\n",
              "  max-width: 50ex;\n",
              "  color: var(--sklearn-color-text);\n",
              "  box-shadow: 2pt 2pt 4pt #999;\n",
              "  /* unfitted */\n",
              "  background: var(--sklearn-color-unfitted-level-0);\n",
              "  border: .5pt solid var(--sklearn-color-unfitted-level-3);\n",
              "}\n",
              "\n",
              ".sk-estimator-doc-link.fitted span {\n",
              "  /* fitted */\n",
              "  background: var(--sklearn-color-fitted-level-0);\n",
              "  border: var(--sklearn-color-fitted-level-3);\n",
              "}\n",
              "\n",
              ".sk-estimator-doc-link:hover span {\n",
              "  display: block;\n",
              "}\n",
              "\n",
              "/* \"?\"-specific style due to the `<a>` HTML tag */\n",
              "\n",
              "#sk-container-id-1 a.estimator_doc_link {\n",
              "  float: right;\n",
              "  font-size: 1rem;\n",
              "  line-height: 1em;\n",
              "  font-family: monospace;\n",
              "  background-color: var(--sklearn-color-background);\n",
              "  border-radius: 1rem;\n",
              "  height: 1rem;\n",
              "  width: 1rem;\n",
              "  text-decoration: none;\n",
              "  /* unfitted */\n",
              "  color: var(--sklearn-color-unfitted-level-1);\n",
              "  border: var(--sklearn-color-unfitted-level-1) 1pt solid;\n",
              "}\n",
              "\n",
              "#sk-container-id-1 a.estimator_doc_link.fitted {\n",
              "  /* fitted */\n",
              "  border: var(--sklearn-color-fitted-level-1) 1pt solid;\n",
              "  color: var(--sklearn-color-fitted-level-1);\n",
              "}\n",
              "\n",
              "/* On hover */\n",
              "#sk-container-id-1 a.estimator_doc_link:hover {\n",
              "  /* unfitted */\n",
              "  background-color: var(--sklearn-color-unfitted-level-3);\n",
              "  color: var(--sklearn-color-background);\n",
              "  text-decoration: none;\n",
              "}\n",
              "\n",
              "#sk-container-id-1 a.estimator_doc_link.fitted:hover {\n",
              "  /* fitted */\n",
              "  background-color: var(--sklearn-color-fitted-level-3);\n",
              "}\n",
              "</style><div id=\"sk-container-id-1\" class=\"sk-top-container\"><div class=\"sk-text-repr-fallback\"><pre>MLPClassifier(hidden_layer_sizes=[24], max_iter=500, shuffle=False)</pre><b>In a Jupyter environment, please rerun this cell to show the HTML representation or trust the notebook. <br />On GitHub, the HTML representation is unable to render, please try loading this page with nbviewer.org.</b></div><div class=\"sk-container\" hidden><div class=\"sk-item\"><div class=\"sk-estimator fitted sk-toggleable\"><input class=\"sk-toggleable__control sk-hidden--visually\" id=\"sk-estimator-id-1\" type=\"checkbox\" checked><label for=\"sk-estimator-id-1\" class=\"sk-toggleable__label fitted sk-toggleable__label-arrow\"><div><div>MLPClassifier</div></div><div><a class=\"sk-estimator-doc-link fitted\" rel=\"noreferrer\" target=\"_blank\" href=\"https://scikit-learn.org/1.6/modules/generated/sklearn.neural_network.MLPClassifier.html\">?<span>Documentation for MLPClassifier</span></a><span class=\"sk-estimator-doc-link fitted\">i<span>Fitted</span></span></div></label><div class=\"sk-toggleable__content fitted\"><pre>MLPClassifier(hidden_layer_sizes=[24], max_iter=500, shuffle=False)</pre></div> </div></div></div></div>"
            ]
          },
          "metadata": {},
          "execution_count": 34
        }
      ]
    },
    {
      "cell_type": "markdown",
      "source": [
        "使用训练数据来训练之前创建的神经网络模型。\n",
        "\n",
        "* .fit(...): 这是机器学习模型对象的标准方法，用于使用提供的数据来训练模型。\n",
        "* train_[cols]: 这是训练模型的特征数据。\n",
        "  * 等价于 train_[['lag_1', 'lag_2', 'lag_3']];\n",
        "  * train_ 是经过标准化的训练集 DataFrame。\n",
        "  * [cols] 使用之前定义的 cols 列表（包含 'lag_1', 'lag_2', 'lag_3'）来选择 train_ DataFrame 中作为模型输入的特征列。\n",
        "* train['d']: 这是训练模型的标签或目标变量。\n",
        "  * train 是原始的训练集 DataFrame。\n",
        "  * ['d'] 选择了 'd' 列，它包含了您想要模型预测的目标值（在这里是收益率的方向，1 或 -1）。\n",
        "\n",
        "简而言之,告诉模型使用 train_ DataFrame 中滞后收益率列的数据 (train_[cols]) 作为输入特征，\n",
        "\n",
        "并使用 train DataFrame 中的 'd' 列数据 (train['d']) 作为对应的目标输出来学习如何进行分类。\n",
        "\n",
        "模型会根据这些数据调整其内部参数，以便能够对新的、未见过的数据进行预测。  "
      ],
      "metadata": {
        "id": "6BgK029m5CpH"
      },
      "id": "6BgK029m5CpH"
    },
    {
      "cell_type": "code",
      "source": [
        "score = accuracy_score(train['d'], model.predict(train_[cols]));\n",
        "print(score);"
      ],
      "metadata": {
        "colab": {
          "base_uri": "https://localhost:8080/"
        },
        "id": "9PrYf0nZ9VUU",
        "outputId": "f31d253a-f85e-4ca5-a86f-c93b5125aa7a"
      },
      "id": "9PrYf0nZ9VUU",
      "execution_count": 35,
      "outputs": [
        {
          "output_type": "stream",
          "name": "stdout",
          "text": [
            "0.4064885496183206\n"
          ]
        }
      ]
    },
    {
      "cell_type": "markdown",
      "source": [
        "计算训练集上模型预测的准确率。\n",
        "* accuracy_score(...): 这是您之前导入的用于计算准确率的函数。它需要两个参数：真实标签和模型预测的标签。\n",
        "* train['d']: 这是训练集的真实标签，也就是 train DataFrame 中的 'd' 列。\n",
        "* model.predict(train_[cols]): 这部分代码使用训练好的 model 对训练数据 train_[cols] 进行预测。model.predict() 方法会返回模型预测的标签。\n",
        "\n",
        "所以，accuracy_score() 函数会将训练集的真实标签 (train['d']) 与模型在训练集上预测的标签 (model.predict(train_[cols])) 进行比较，然后计算并返回准确率。\n",
        "\n",
        "这个准确率告诉您模型在它已经“见过”的数据上表现如何。\n",
        "\n",
        "通常，训练集上的准确率会比较高，但这并不能完全代表模型在新的、未见过的数据上的表现。\n",
        "\n",
        "为了评估模型的泛化能力，您还需要计算在测试集上的准确率。"
      ],
      "metadata": {
        "id": "DJQr8xJ59d3g"
      },
      "id": "DJQr8xJ59d3g"
    },
    {
      "cell_type": "code",
      "source": [
        "data['r'].hist(bins=100);"
      ],
      "metadata": {
        "colab": {
          "base_uri": "https://localhost:8080/",
          "height": 470
        },
        "id": "P5UsFztS-trO",
        "outputId": "077b26eb-c99a-4c94-fccb-a44a1c0c2b1f"
      },
      "id": "P5UsFztS-trO",
      "execution_count": 36,
      "outputs": [
        {
          "output_type": "display_data",
          "data": {
            "text/plain": [
              "<Figure size 800x550 with 1 Axes>"
            ],
            "image/svg+xml": "<?xml version=\"1.0\" encoding=\"utf-8\" standalone=\"no\"?>\n<!DOCTYPE svg PUBLIC \"-//W3C//DTD SVG 1.1//EN\"\n  \"http://www.w3.org/Graphics/SVG/1.1/DTD/svg11.dtd\">\n<svg xmlns:xlink=\"http://www.w3.org/1999/xlink\" width=\"484.482812pt\" height=\"337.239706pt\" viewBox=\"0 0 484.482812 337.239706\" xmlns=\"http://www.w3.org/2000/svg\" version=\"1.1\">\n <metadata>\n  <rdf:RDF xmlns:dc=\"http://purl.org/dc/elements/1.1/\" xmlns:cc=\"http://creativecommons.org/ns#\" xmlns:rdf=\"http://www.w3.org/1999/02/22-rdf-syntax-ns#\">\n   <cc:Work>\n    <dc:type rdf:resource=\"http://purl.org/dc/dcmitype/StillImage\"/>\n    <dc:date>2025-08-15T13:47:32.867349</dc:date>\n    <dc:format>image/svg+xml</dc:format>\n    <dc:creator>\n     <cc:Agent>\n      <dc:title>Matplotlib v3.10.0, https://matplotlib.org/</dc:title>\n     </cc:Agent>\n    </dc:creator>\n   </cc:Work>\n  </rdf:RDF>\n </metadata>\n <defs>\n  <style type=\"text/css\">*{stroke-linejoin: round; stroke-linecap: butt}</style>\n </defs>\n <g id=\"figure_1\">\n  <g id=\"patch_1\">\n   <path d=\"M 0 337.239706 \nL 484.482812 337.239706 \nL 484.482812 0 \nL 0 0 \nz\n\" style=\"fill: #ffffff\"/>\n  </g>\n  <g id=\"axes_1\">\n   <g id=\"patch_2\">\n    <path d=\"M 30.882812 313.717831 \nL 477.282812 313.717831 \nL 477.282812 8.797831 \nL 30.882812 8.797831 \nz\n\" style=\"fill: #eaeaf2\"/>\n   </g>\n   <g id=\"matplotlib.axis_1\">\n    <g id=\"xtick_1\">\n     <g id=\"line2d_1\">\n      <path d=\"M 51.793121 313.717831 \nL 51.793121 8.797831 \n\" clip-path=\"url(#p6398590d7a)\" style=\"fill: none; stroke: #ffffff; stroke-linecap: round\"/>\n     </g>\n     <g id=\"line2d_2\"/>\n     <g id=\"text_1\">\n      <!-- −0.08 -->\n      <g style=\"fill: #262626\" transform=\"translate(39.14234 327.964706) scale(0.1 -0.1)\">\n       <defs>\n        <path id=\"LiberationSans-2212\" d=\"M 316 1900 \nL 316 2356 \nL 3425 2356 \nL 3425 1900 \nL 316 1900 \nz\n\" transform=\"scale(0.015625)\"/>\n        <path id=\"LiberationSans-30\" d=\"M 3309 2203 \nQ 3309 1569 3189 1136 \nQ 3069 703 2861 436 \nQ 2653 169 2372 53 \nQ 2091 -63 1772 -63 \nQ 1450 -63 1172 53 \nQ 894 169 689 434 \nQ 484 700 367 1133 \nQ 250 1566 250 2203 \nQ 250 2869 367 3305 \nQ 484 3741 690 4000 \nQ 897 4259 1178 4364 \nQ 1459 4469 1791 4469 \nQ 2106 4469 2382 4364 \nQ 2659 4259 2865 4000 \nQ 3072 3741 3190 3305 \nQ 3309 2869 3309 2203 \nz\nM 2738 2203 \nQ 2738 2728 2675 3076 \nQ 2613 3425 2491 3633 \nQ 2369 3841 2192 3927 \nQ 2016 4013 1791 4013 \nQ 1553 4013 1372 3925 \nQ 1191 3838 1067 3630 \nQ 944 3422 881 3073 \nQ 819 2725 819 2203 \nQ 819 1697 883 1350 \nQ 947 1003 1070 792 \nQ 1194 581 1372 489 \nQ 1550 397 1778 397 \nQ 2000 397 2178 489 \nQ 2356 581 2479 792 \nQ 2603 1003 2670 1350 \nQ 2738 1697 2738 2203 \nz\n\" transform=\"scale(0.015625)\"/>\n        <path id=\"LiberationSans-2e\" d=\"M 584 0 \nL 584 684 \nL 1194 684 \nL 1194 0 \nL 584 0 \nz\n\" transform=\"scale(0.015625)\"/>\n        <path id=\"LiberationSans-38\" d=\"M 3281 1228 \nQ 3281 947 3192 711 \nQ 3103 475 2920 303 \nQ 2738 131 2453 34 \nQ 2169 -63 1781 -63 \nQ 1394 -63 1111 34 \nQ 828 131 642 301 \nQ 456 472 367 708 \nQ 278 944 278 1222 \nQ 278 1463 351 1650 \nQ 425 1838 548 1973 \nQ 672 2109 830 2192 \nQ 988 2275 1156 2303 \nL 1156 2316 \nQ 972 2359 826 2456 \nQ 681 2553 582 2689 \nQ 484 2825 432 2990 \nQ 381 3156 381 3341 \nQ 381 3572 470 3776 \nQ 559 3981 734 4136 \nQ 909 4291 1168 4380 \nQ 1428 4469 1769 4469 \nQ 2128 4469 2392 4378 \nQ 2656 4288 2829 4133 \nQ 3003 3978 3087 3772 \nQ 3172 3566 3172 3334 \nQ 3172 3153 3120 2987 \nQ 3069 2822 2970 2686 \nQ 2872 2550 2726 2454 \nQ 2581 2359 2391 2322 \nL 2391 2309 \nQ 2581 2278 2743 2195 \nQ 2906 2113 3025 1977 \nQ 3144 1841 3212 1653 \nQ 3281 1466 3281 1228 \nz\nM 2588 3303 \nQ 2588 3469 2545 3606 \nQ 2503 3744 2406 3842 \nQ 2309 3941 2153 3995 \nQ 1997 4050 1769 4050 \nQ 1547 4050 1394 3995 \nQ 1241 3941 1142 3842 \nQ 1044 3744 1000 3606 \nQ 956 3469 956 3303 \nQ 956 3172 990 3034 \nQ 1025 2897 1115 2784 \nQ 1206 2672 1365 2600 \nQ 1525 2528 1775 2528 \nQ 2041 2528 2202 2600 \nQ 2363 2672 2448 2784 \nQ 2534 2897 2561 3034 \nQ 2588 3172 2588 3303 \nz\nM 2697 1281 \nQ 2697 1441 2653 1589 \nQ 2609 1738 2503 1852 \nQ 2397 1966 2217 2036 \nQ 2038 2106 1769 2106 \nQ 1522 2106 1348 2036 \nQ 1175 1966 1067 1850 \nQ 959 1734 909 1582 \nQ 859 1431 859 1269 \nQ 859 1066 909 898 \nQ 959 731 1068 611 \nQ 1178 491 1356 425 \nQ 1534 359 1788 359 \nQ 2044 359 2219 425 \nQ 2394 491 2500 611 \nQ 2606 731 2651 901 \nQ 2697 1072 2697 1281 \nz\n\" transform=\"scale(0.015625)\"/>\n       </defs>\n       <use xlink:href=\"#LiberationSans-2212\"/>\n       <use xlink:href=\"#LiberationSans-30\" transform=\"translate(58.398438 0)\"/>\n       <use xlink:href=\"#LiberationSans-2e\" transform=\"translate(114.013672 0)\"/>\n       <use xlink:href=\"#LiberationSans-30\" transform=\"translate(141.796875 0)\"/>\n       <use xlink:href=\"#LiberationSans-38\" transform=\"translate(197.412109 0)\"/>\n      </g>\n     </g>\n    </g>\n    <g id=\"xtick_2\">\n     <g id=\"line2d_3\">\n      <path d=\"M 123.093606 313.717831 \nL 123.093606 8.797831 \n\" clip-path=\"url(#p6398590d7a)\" style=\"fill: none; stroke: #ffffff; stroke-linecap: round\"/>\n     </g>\n     <g id=\"line2d_4\"/>\n     <g id=\"text_2\">\n      <!-- −0.06 -->\n      <g style=\"fill: #262626\" transform=\"translate(110.442824 327.964706) scale(0.1 -0.1)\">\n       <defs>\n        <path id=\"LiberationSans-36\" d=\"M 3278 1441 \nQ 3278 1109 3186 832 \nQ 3094 556 2914 357 \nQ 2734 159 2468 48 \nQ 2203 -63 1856 -63 \nQ 1472 -63 1184 84 \nQ 897 231 706 507 \nQ 516 784 420 1186 \nQ 325 1588 325 2100 \nQ 325 2688 433 3131 \nQ 541 3575 744 3872 \nQ 947 4169 1239 4319 \nQ 1531 4469 1900 4469 \nQ 2125 4469 2322 4422 \nQ 2519 4375 2680 4270 \nQ 2841 4166 2962 3994 \nQ 3084 3822 3156 3572 \nL 2619 3475 \nQ 2531 3759 2339 3886 \nQ 2147 4013 1894 4013 \nQ 1663 4013 1475 3903 \nQ 1288 3794 1156 3576 \nQ 1025 3359 954 3031 \nQ 884 2703 884 2266 \nQ 1038 2550 1316 2698 \nQ 1594 2847 1953 2847 \nQ 2253 2847 2497 2750 \nQ 2741 2653 2914 2470 \nQ 3088 2288 3183 2027 \nQ 3278 1766 3278 1441 \nz\nM 2706 1416 \nQ 2706 1644 2650 1828 \nQ 2594 2013 2481 2142 \nQ 2369 2272 2203 2342 \nQ 2038 2413 1819 2413 \nQ 1666 2413 1509 2367 \nQ 1353 2322 1226 2220 \nQ 1100 2119 1020 1953 \nQ 941 1788 941 1550 \nQ 941 1306 1003 1095 \nQ 1066 884 1183 728 \nQ 1300 572 1465 481 \nQ 1631 391 1838 391 \nQ 2041 391 2202 461 \nQ 2363 531 2475 664 \nQ 2588 797 2647 987 \nQ 2706 1178 2706 1416 \nz\n\" transform=\"scale(0.015625)\"/>\n       </defs>\n       <use xlink:href=\"#LiberationSans-2212\"/>\n       <use xlink:href=\"#LiberationSans-30\" transform=\"translate(58.398438 0)\"/>\n       <use xlink:href=\"#LiberationSans-2e\" transform=\"translate(114.013672 0)\"/>\n       <use xlink:href=\"#LiberationSans-30\" transform=\"translate(141.796875 0)\"/>\n       <use xlink:href=\"#LiberationSans-36\" transform=\"translate(197.412109 0)\"/>\n      </g>\n     </g>\n    </g>\n    <g id=\"xtick_3\">\n     <g id=\"line2d_5\">\n      <path d=\"M 194.39409 313.717831 \nL 194.39409 8.797831 \n\" clip-path=\"url(#p6398590d7a)\" style=\"fill: none; stroke: #ffffff; stroke-linecap: round\"/>\n     </g>\n     <g id=\"line2d_6\"/>\n     <g id=\"text_3\">\n      <!-- −0.04 -->\n      <g style=\"fill: #262626\" transform=\"translate(181.743309 327.964706) scale(0.1 -0.1)\">\n       <defs>\n        <path id=\"LiberationSans-34\" d=\"M 2753 997 \nL 2753 0 \nL 2222 0 \nL 2222 997 \nL 147 997 \nL 147 1434 \nL 2163 4403 \nL 2753 4403 \nL 2753 1441 \nL 3372 1441 \nL 3372 997 \nL 2753 997 \nz\nM 2222 3769 \nQ 2216 3753 2191 3708 \nQ 2166 3663 2134 3606 \nQ 2103 3550 2070 3492 \nQ 2038 3434 2013 3397 \nL 884 1734 \nQ 869 1709 839 1668 \nQ 809 1628 778 1586 \nQ 747 1544 715 1503 \nQ 684 1463 666 1441 \nL 2222 1441 \nL 2222 3769 \nz\n\" transform=\"scale(0.015625)\"/>\n       </defs>\n       <use xlink:href=\"#LiberationSans-2212\"/>\n       <use xlink:href=\"#LiberationSans-30\" transform=\"translate(58.398438 0)\"/>\n       <use xlink:href=\"#LiberationSans-2e\" transform=\"translate(114.013672 0)\"/>\n       <use xlink:href=\"#LiberationSans-30\" transform=\"translate(141.796875 0)\"/>\n       <use xlink:href=\"#LiberationSans-34\" transform=\"translate(197.412109 0)\"/>\n      </g>\n     </g>\n    </g>\n    <g id=\"xtick_4\">\n     <g id=\"line2d_7\">\n      <path d=\"M 265.694574 313.717831 \nL 265.694574 8.797831 \n\" clip-path=\"url(#p6398590d7a)\" style=\"fill: none; stroke: #ffffff; stroke-linecap: round\"/>\n     </g>\n     <g id=\"line2d_8\"/>\n     <g id=\"text_4\">\n      <!-- −0.02 -->\n      <g style=\"fill: #262626\" transform=\"translate(253.043793 327.964706) scale(0.1 -0.1)\">\n       <defs>\n        <path id=\"LiberationSans-32\" d=\"M 322 0 \nL 322 397 \nQ 481 763 711 1042 \nQ 941 1322 1194 1548 \nQ 1447 1775 1695 1969 \nQ 1944 2163 2144 2356 \nQ 2344 2550 2467 2762 \nQ 2591 2975 2591 3244 \nQ 2591 3431 2534 3573 \nQ 2478 3716 2372 3812 \nQ 2266 3909 2117 3957 \nQ 1969 4006 1788 4006 \nQ 1619 4006 1470 3959 \nQ 1322 3913 1206 3819 \nQ 1091 3725 1017 3586 \nQ 944 3447 922 3263 \nL 347 3316 \nQ 375 3553 478 3762 \nQ 581 3972 762 4130 \nQ 944 4288 1198 4378 \nQ 1453 4469 1788 4469 \nQ 2116 4469 2372 4391 \nQ 2628 4313 2804 4159 \nQ 2981 4006 3075 3781 \nQ 3169 3556 3169 3263 \nQ 3169 3041 3089 2841 \nQ 3009 2641 2876 2459 \nQ 2744 2278 2569 2109 \nQ 2394 1941 2203 1780 \nQ 2013 1619 1819 1461 \nQ 1625 1303 1454 1143 \nQ 1284 984 1150 820 \nQ 1016 656 941 478 \nL 3238 478 \nL 3238 0 \nL 322 0 \nz\n\" transform=\"scale(0.015625)\"/>\n       </defs>\n       <use xlink:href=\"#LiberationSans-2212\"/>\n       <use xlink:href=\"#LiberationSans-30\" transform=\"translate(58.398438 0)\"/>\n       <use xlink:href=\"#LiberationSans-2e\" transform=\"translate(114.013672 0)\"/>\n       <use xlink:href=\"#LiberationSans-30\" transform=\"translate(141.796875 0)\"/>\n       <use xlink:href=\"#LiberationSans-32\" transform=\"translate(197.412109 0)\"/>\n      </g>\n     </g>\n    </g>\n    <g id=\"xtick_5\">\n     <g id=\"line2d_9\">\n      <path d=\"M 336.995059 313.717831 \nL 336.995059 8.797831 \n\" clip-path=\"url(#p6398590d7a)\" style=\"fill: none; stroke: #ffffff; stroke-linecap: round\"/>\n     </g>\n     <g id=\"line2d_10\"/>\n     <g id=\"text_5\">\n      <!-- 0.00 -->\n      <g style=\"fill: #262626\" transform=\"translate(327.26459 327.964706) scale(0.1 -0.1)\">\n       <use xlink:href=\"#LiberationSans-30\"/>\n       <use xlink:href=\"#LiberationSans-2e\" transform=\"translate(55.615234 0)\"/>\n       <use xlink:href=\"#LiberationSans-30\" transform=\"translate(83.398438 0)\"/>\n       <use xlink:href=\"#LiberationSans-30\" transform=\"translate(139.013672 0)\"/>\n      </g>\n     </g>\n    </g>\n    <g id=\"xtick_6\">\n     <g id=\"line2d_11\">\n      <path d=\"M 408.295543 313.717831 \nL 408.295543 8.797831 \n\" clip-path=\"url(#p6398590d7a)\" style=\"fill: none; stroke: #ffffff; stroke-linecap: round\"/>\n     </g>\n     <g id=\"line2d_12\"/>\n     <g id=\"text_6\">\n      <!-- 0.02 -->\n      <g style=\"fill: #262626\" transform=\"translate(398.565074 327.964706) scale(0.1 -0.1)\">\n       <use xlink:href=\"#LiberationSans-30\"/>\n       <use xlink:href=\"#LiberationSans-2e\" transform=\"translate(55.615234 0)\"/>\n       <use xlink:href=\"#LiberationSans-30\" transform=\"translate(83.398438 0)\"/>\n       <use xlink:href=\"#LiberationSans-32\" transform=\"translate(139.013672 0)\"/>\n      </g>\n     </g>\n    </g>\n   </g>\n   <g id=\"matplotlib.axis_2\">\n    <g id=\"ytick_1\">\n     <g id=\"line2d_13\">\n      <path d=\"M 30.882812 313.717831 \nL 477.282812 313.717831 \n\" clip-path=\"url(#p6398590d7a)\" style=\"fill: none; stroke: #ffffff; stroke-linecap: round\"/>\n     </g>\n     <g id=\"line2d_14\"/>\n     <g id=\"text_7\">\n      <!-- 0 -->\n      <g style=\"fill: #262626\" transform=\"translate(18.321875 317.341269) scale(0.1 -0.1)\">\n       <use xlink:href=\"#LiberationSans-30\"/>\n      </g>\n     </g>\n    </g>\n    <g id=\"ytick_2\">\n     <g id=\"line2d_15\">\n      <path d=\"M 30.882812 275.856032 \nL 477.282812 275.856032 \n\" clip-path=\"url(#p6398590d7a)\" style=\"fill: none; stroke: #ffffff; stroke-linecap: round\"/>\n     </g>\n     <g id=\"line2d_16\"/>\n     <g id=\"text_8\">\n      <!-- 100 -->\n      <g style=\"fill: #262626\" transform=\"translate(7.2 279.47947) scale(0.1 -0.1)\">\n       <defs>\n        <path id=\"LiberationSans-31\" d=\"M 488 0 \nL 488 478 \nL 1609 478 \nL 1609 3866 \nL 616 3156 \nL 616 3688 \nL 1656 4403 \nL 2175 4403 \nL 2175 478 \nL 3247 478 \nL 3247 0 \nL 488 0 \nz\n\" transform=\"scale(0.015625)\"/>\n       </defs>\n       <use xlink:href=\"#LiberationSans-31\"/>\n       <use xlink:href=\"#LiberationSans-30\" transform=\"translate(55.615234 0)\"/>\n       <use xlink:href=\"#LiberationSans-30\" transform=\"translate(111.230469 0)\"/>\n      </g>\n     </g>\n    </g>\n    <g id=\"ytick_3\">\n     <g id=\"line2d_17\">\n      <path d=\"M 30.882812 237.994233 \nL 477.282812 237.994233 \n\" clip-path=\"url(#p6398590d7a)\" style=\"fill: none; stroke: #ffffff; stroke-linecap: round\"/>\n     </g>\n     <g id=\"line2d_18\"/>\n     <g id=\"text_9\">\n      <!-- 200 -->\n      <g style=\"fill: #262626\" transform=\"translate(7.2 241.61767) scale(0.1 -0.1)\">\n       <use xlink:href=\"#LiberationSans-32\"/>\n       <use xlink:href=\"#LiberationSans-30\" transform=\"translate(55.615234 0)\"/>\n       <use xlink:href=\"#LiberationSans-30\" transform=\"translate(111.230469 0)\"/>\n      </g>\n     </g>\n    </g>\n    <g id=\"ytick_4\">\n     <g id=\"line2d_19\">\n      <path d=\"M 30.882812 200.132434 \nL 477.282812 200.132434 \n\" clip-path=\"url(#p6398590d7a)\" style=\"fill: none; stroke: #ffffff; stroke-linecap: round\"/>\n     </g>\n     <g id=\"line2d_20\"/>\n     <g id=\"text_10\">\n      <!-- 300 -->\n      <g style=\"fill: #262626\" transform=\"translate(7.2 203.755871) scale(0.1 -0.1)\">\n       <defs>\n        <path id=\"LiberationSans-33\" d=\"M 3278 1216 \nQ 3278 913 3179 675 \nQ 3081 438 2892 273 \nQ 2703 109 2423 23 \nQ 2144 -63 1784 -63 \nQ 1375 -63 1095 39 \nQ 816 141 634 308 \nQ 453 475 362 689 \nQ 272 903 244 1131 \nL 825 1184 \nQ 850 1009 917 865 \nQ 984 722 1100 619 \nQ 1216 516 1384 459 \nQ 1553 403 1784 403 \nQ 2209 403 2451 612 \nQ 2694 822 2694 1234 \nQ 2694 1478 2586 1626 \nQ 2478 1775 2317 1858 \nQ 2156 1941 1967 1969 \nQ 1778 1997 1619 1997 \nL 1300 1997 \nL 1300 2484 \nL 1606 2484 \nQ 1766 2484 1937 2517 \nQ 2109 2550 2251 2636 \nQ 2394 2722 2486 2869 \nQ 2578 3016 2578 3244 \nQ 2578 3597 2370 3801 \nQ 2163 4006 1753 4006 \nQ 1381 4006 1151 3815 \nQ 922 3625 884 3278 \nL 319 3322 \nQ 353 3613 478 3828 \nQ 603 4044 795 4186 \nQ 988 4328 1234 4398 \nQ 1481 4469 1759 4469 \nQ 2128 4469 2393 4376 \nQ 2659 4284 2828 4126 \nQ 2997 3969 3076 3756 \nQ 3156 3544 3156 3303 \nQ 3156 3109 3103 2940 \nQ 3050 2772 2937 2637 \nQ 2825 2503 2651 2406 \nQ 2478 2309 2234 2259 \nL 2234 2247 \nQ 2500 2219 2697 2126 \nQ 2894 2034 3022 1896 \nQ 3150 1759 3214 1584 \nQ 3278 1409 3278 1216 \nz\n\" transform=\"scale(0.015625)\"/>\n       </defs>\n       <use xlink:href=\"#LiberationSans-33\"/>\n       <use xlink:href=\"#LiberationSans-30\" transform=\"translate(55.615234 0)\"/>\n       <use xlink:href=\"#LiberationSans-30\" transform=\"translate(111.230469 0)\"/>\n      </g>\n     </g>\n    </g>\n    <g id=\"ytick_5\">\n     <g id=\"line2d_21\">\n      <path d=\"M 30.882812 162.270634 \nL 477.282812 162.270634 \n\" clip-path=\"url(#p6398590d7a)\" style=\"fill: none; stroke: #ffffff; stroke-linecap: round\"/>\n     </g>\n     <g id=\"line2d_22\"/>\n     <g id=\"text_11\">\n      <!-- 400 -->\n      <g style=\"fill: #262626\" transform=\"translate(7.2 165.894072) scale(0.1 -0.1)\">\n       <use xlink:href=\"#LiberationSans-34\"/>\n       <use xlink:href=\"#LiberationSans-30\" transform=\"translate(55.615234 0)\"/>\n       <use xlink:href=\"#LiberationSans-30\" transform=\"translate(111.230469 0)\"/>\n      </g>\n     </g>\n    </g>\n    <g id=\"ytick_6\">\n     <g id=\"line2d_23\">\n      <path d=\"M 30.882812 124.408835 \nL 477.282812 124.408835 \n\" clip-path=\"url(#p6398590d7a)\" style=\"fill: none; stroke: #ffffff; stroke-linecap: round\"/>\n     </g>\n     <g id=\"line2d_24\"/>\n     <g id=\"text_12\">\n      <!-- 500 -->\n      <g style=\"fill: #262626\" transform=\"translate(7.2 128.032273) scale(0.1 -0.1)\">\n       <defs>\n        <path id=\"LiberationSans-35\" d=\"M 3291 1434 \nQ 3291 1103 3191 828 \nQ 3091 553 2894 354 \nQ 2697 156 2405 46 \nQ 2113 -63 1728 -63 \nQ 1381 -63 1123 18 \nQ 866 100 687 242 \nQ 509 384 404 575 \nQ 300 766 256 984 \nL 825 1050 \nQ 859 925 921 808 \nQ 984 691 1092 598 \nQ 1200 506 1358 451 \nQ 1516 397 1741 397 \nQ 1959 397 2137 464 \nQ 2316 531 2442 662 \nQ 2569 794 2637 984 \nQ 2706 1175 2706 1422 \nQ 2706 1625 2640 1795 \nQ 2575 1966 2453 2089 \nQ 2331 2213 2154 2281 \nQ 1978 2350 1753 2350 \nQ 1613 2350 1494 2325 \nQ 1375 2300 1273 2256 \nQ 1172 2213 1089 2155 \nQ 1006 2097 934 2034 \nL 384 2034 \nL 531 4403 \nL 3034 4403 \nL 3034 3925 \nL 1044 3925 \nL 959 2528 \nQ 1109 2644 1334 2726 \nQ 1559 2809 1869 2809 \nQ 2197 2809 2459 2709 \nQ 2722 2609 2906 2426 \nQ 3091 2244 3191 1991 \nQ 3291 1738 3291 1434 \nz\n\" transform=\"scale(0.015625)\"/>\n       </defs>\n       <use xlink:href=\"#LiberationSans-35\"/>\n       <use xlink:href=\"#LiberationSans-30\" transform=\"translate(55.615234 0)\"/>\n       <use xlink:href=\"#LiberationSans-30\" transform=\"translate(111.230469 0)\"/>\n      </g>\n     </g>\n    </g>\n    <g id=\"ytick_7\">\n     <g id=\"line2d_25\">\n      <path d=\"M 30.882812 86.547036 \nL 477.282812 86.547036 \n\" clip-path=\"url(#p6398590d7a)\" style=\"fill: none; stroke: #ffffff; stroke-linecap: round\"/>\n     </g>\n     <g id=\"line2d_26\"/>\n     <g id=\"text_13\">\n      <!-- 600 -->\n      <g style=\"fill: #262626\" transform=\"translate(7.2 90.170473) scale(0.1 -0.1)\">\n       <use xlink:href=\"#LiberationSans-36\"/>\n       <use xlink:href=\"#LiberationSans-30\" transform=\"translate(55.615234 0)\"/>\n       <use xlink:href=\"#LiberationSans-30\" transform=\"translate(111.230469 0)\"/>\n      </g>\n     </g>\n    </g>\n    <g id=\"ytick_8\">\n     <g id=\"line2d_27\">\n      <path d=\"M 30.882812 48.685237 \nL 477.282812 48.685237 \n\" clip-path=\"url(#p6398590d7a)\" style=\"fill: none; stroke: #ffffff; stroke-linecap: round\"/>\n     </g>\n     <g id=\"line2d_28\"/>\n     <g id=\"text_14\">\n      <!-- 700 -->\n      <g style=\"fill: #262626\" transform=\"translate(7.2 52.308674) scale(0.1 -0.1)\">\n       <defs>\n        <path id=\"LiberationSans-37\" d=\"M 3238 3947 \nQ 2906 3441 2628 2973 \nQ 2350 2506 2150 2032 \nQ 1950 1559 1839 1061 \nQ 1728 563 1728 0 \nL 1141 0 \nQ 1141 528 1266 1036 \nQ 1391 1544 1603 2033 \nQ 1816 2522 2097 2994 \nQ 2378 3466 2694 3925 \nL 328 3925 \nL 328 4403 \nL 3238 4403 \nL 3238 3947 \nz\n\" transform=\"scale(0.015625)\"/>\n       </defs>\n       <use xlink:href=\"#LiberationSans-37\"/>\n       <use xlink:href=\"#LiberationSans-30\" transform=\"translate(55.615234 0)\"/>\n       <use xlink:href=\"#LiberationSans-30\" transform=\"translate(111.230469 0)\"/>\n      </g>\n     </g>\n    </g>\n    <g id=\"ytick_9\">\n     <g id=\"line2d_29\">\n      <path d=\"M 30.882812 10.823437 \nL 477.282812 10.823437 \n\" clip-path=\"url(#p6398590d7a)\" style=\"fill: none; stroke: #ffffff; stroke-linecap: round\"/>\n     </g>\n     <g id=\"line2d_30\"/>\n     <g id=\"text_15\">\n      <!-- 800 -->\n      <g style=\"fill: #262626\" transform=\"translate(7.2 14.446875) scale(0.1 -0.1)\">\n       <use xlink:href=\"#LiberationSans-38\"/>\n       <use xlink:href=\"#LiberationSans-30\" transform=\"translate(55.615234 0)\"/>\n       <use xlink:href=\"#LiberationSans-30\" transform=\"translate(111.230469 0)\"/>\n      </g>\n     </g>\n    </g>\n   </g>\n   <g id=\"patch_3\">\n    <path d=\"M 51.173722 313.717831 \nL 55.231903 313.717831 \nL 55.231903 313.339213 \nL 51.173722 313.339213 \nz\n\" clip-path=\"url(#p6398590d7a)\" style=\"fill: #4c72b0\"/>\n   </g>\n   <g id=\"patch_4\">\n    <path d=\"M 55.231903 313.717831 \nL 59.290085 313.717831 \nL 59.290085 313.717831 \nL 55.231903 313.717831 \nz\n\" clip-path=\"url(#p6398590d7a)\" style=\"fill: #4c72b0\"/>\n   </g>\n   <g id=\"patch_5\">\n    <path d=\"M 59.290085 313.717831 \nL 63.348267 313.717831 \nL 63.348267 313.717831 \nL 59.290085 313.717831 \nz\n\" clip-path=\"url(#p6398590d7a)\" style=\"fill: #4c72b0\"/>\n   </g>\n   <g id=\"patch_6\">\n    <path d=\"M 63.348267 313.717831 \nL 67.406449 313.717831 \nL 67.406449 313.717831 \nL 63.348267 313.717831 \nz\n\" clip-path=\"url(#p6398590d7a)\" style=\"fill: #4c72b0\"/>\n   </g>\n   <g id=\"patch_7\">\n    <path d=\"M 67.406449 313.717831 \nL 71.464631 313.717831 \nL 71.464631 313.717831 \nL 67.406449 313.717831 \nz\n\" clip-path=\"url(#p6398590d7a)\" style=\"fill: #4c72b0\"/>\n   </g>\n   <g id=\"patch_8\">\n    <path d=\"M 71.464631 313.717831 \nL 75.522812 313.717831 \nL 75.522812 313.717831 \nL 71.464631 313.717831 \nz\n\" clip-path=\"url(#p6398590d7a)\" style=\"fill: #4c72b0\"/>\n   </g>\n   <g id=\"patch_9\">\n    <path d=\"M 75.522812 313.717831 \nL 79.580994 313.717831 \nL 79.580994 313.717831 \nL 75.522812 313.717831 \nz\n\" clip-path=\"url(#p6398590d7a)\" style=\"fill: #4c72b0\"/>\n   </g>\n   <g id=\"patch_10\">\n    <path d=\"M 79.580994 313.717831 \nL 83.639176 313.717831 \nL 83.639176 313.717831 \nL 79.580994 313.717831 \nz\n\" clip-path=\"url(#p6398590d7a)\" style=\"fill: #4c72b0\"/>\n   </g>\n   <g id=\"patch_11\">\n    <path d=\"M 83.639176 313.717831 \nL 87.697358 313.717831 \nL 87.697358 313.717831 \nL 83.639176 313.717831 \nz\n\" clip-path=\"url(#p6398590d7a)\" style=\"fill: #4c72b0\"/>\n   </g>\n   <g id=\"patch_12\">\n    <path d=\"M 87.697358 313.717831 \nL 91.75554 313.717831 \nL 91.75554 313.717831 \nL 87.697358 313.717831 \nz\n\" clip-path=\"url(#p6398590d7a)\" style=\"fill: #4c72b0\"/>\n   </g>\n   <g id=\"patch_13\">\n    <path d=\"M 91.75554 313.717831 \nL 95.813722 313.717831 \nL 95.813722 313.717831 \nL 91.75554 313.717831 \nz\n\" clip-path=\"url(#p6398590d7a)\" style=\"fill: #4c72b0\"/>\n   </g>\n   <g id=\"patch_14\">\n    <path d=\"M 95.813722 313.717831 \nL 99.871903 313.717831 \nL 99.871903 313.717831 \nL 95.813722 313.717831 \nz\n\" clip-path=\"url(#p6398590d7a)\" style=\"fill: #4c72b0\"/>\n   </g>\n   <g id=\"patch_15\">\n    <path d=\"M 99.871903 313.717831 \nL 103.930085 313.717831 \nL 103.930085 313.717831 \nL 99.871903 313.717831 \nz\n\" clip-path=\"url(#p6398590d7a)\" style=\"fill: #4c72b0\"/>\n   </g>\n   <g id=\"patch_16\">\n    <path d=\"M 103.930085 313.717831 \nL 107.988267 313.717831 \nL 107.988267 313.717831 \nL 103.930085 313.717831 \nz\n\" clip-path=\"url(#p6398590d7a)\" style=\"fill: #4c72b0\"/>\n   </g>\n   <g id=\"patch_17\">\n    <path d=\"M 107.988267 313.717831 \nL 112.046449 313.717831 \nL 112.046449 313.717831 \nL 107.988267 313.717831 \nz\n\" clip-path=\"url(#p6398590d7a)\" style=\"fill: #4c72b0\"/>\n   </g>\n   <g id=\"patch_18\">\n    <path d=\"M 112.046449 313.717831 \nL 116.104631 313.717831 \nL 116.104631 313.717831 \nL 112.046449 313.717831 \nz\n\" clip-path=\"url(#p6398590d7a)\" style=\"fill: #4c72b0\"/>\n   </g>\n   <g id=\"patch_19\">\n    <path d=\"M 116.104631 313.717831 \nL 120.162812 313.717831 \nL 120.162812 313.717831 \nL 116.104631 313.717831 \nz\n\" clip-path=\"url(#p6398590d7a)\" style=\"fill: #4c72b0\"/>\n   </g>\n   <g id=\"patch_20\">\n    <path d=\"M 120.162812 313.717831 \nL 124.220994 313.717831 \nL 124.220994 313.717831 \nL 120.162812 313.717831 \nz\n\" clip-path=\"url(#p6398590d7a)\" style=\"fill: #4c72b0\"/>\n   </g>\n   <g id=\"patch_21\">\n    <path d=\"M 124.220994 313.717831 \nL 128.279176 313.717831 \nL 128.279176 313.717831 \nL 124.220994 313.717831 \nz\n\" clip-path=\"url(#p6398590d7a)\" style=\"fill: #4c72b0\"/>\n   </g>\n   <g id=\"patch_22\">\n    <path d=\"M 128.279176 313.717831 \nL 132.337358 313.717831 \nL 132.337358 313.717831 \nL 128.279176 313.717831 \nz\n\" clip-path=\"url(#p6398590d7a)\" style=\"fill: #4c72b0\"/>\n   </g>\n   <g id=\"patch_23\">\n    <path d=\"M 132.337358 313.717831 \nL 136.39554 313.717831 \nL 136.39554 313.717831 \nL 132.337358 313.717831 \nz\n\" clip-path=\"url(#p6398590d7a)\" style=\"fill: #4c72b0\"/>\n   </g>\n   <g id=\"patch_24\">\n    <path d=\"M 136.39554 313.717831 \nL 140.453722 313.717831 \nL 140.453722 313.717831 \nL 136.39554 313.717831 \nz\n\" clip-path=\"url(#p6398590d7a)\" style=\"fill: #4c72b0\"/>\n   </g>\n   <g id=\"patch_25\">\n    <path d=\"M 140.453722 313.717831 \nL 144.511903 313.717831 \nL 144.511903 313.717831 \nL 140.453722 313.717831 \nz\n\" clip-path=\"url(#p6398590d7a)\" style=\"fill: #4c72b0\"/>\n   </g>\n   <g id=\"patch_26\">\n    <path d=\"M 144.511903 313.717831 \nL 148.570085 313.717831 \nL 148.570085 313.717831 \nL 144.511903 313.717831 \nz\n\" clip-path=\"url(#p6398590d7a)\" style=\"fill: #4c72b0\"/>\n   </g>\n   <g id=\"patch_27\">\n    <path d=\"M 148.570085 313.717831 \nL 152.628267 313.717831 \nL 152.628267 313.717831 \nL 148.570085 313.717831 \nz\n\" clip-path=\"url(#p6398590d7a)\" style=\"fill: #4c72b0\"/>\n   </g>\n   <g id=\"patch_28\">\n    <path d=\"M 152.628267 313.717831 \nL 156.686449 313.717831 \nL 156.686449 313.717831 \nL 152.628267 313.717831 \nz\n\" clip-path=\"url(#p6398590d7a)\" style=\"fill: #4c72b0\"/>\n   </g>\n   <g id=\"patch_29\">\n    <path d=\"M 156.686449 313.717831 \nL 160.744631 313.717831 \nL 160.744631 313.717831 \nL 156.686449 313.717831 \nz\n\" clip-path=\"url(#p6398590d7a)\" style=\"fill: #4c72b0\"/>\n   </g>\n   <g id=\"patch_30\">\n    <path d=\"M 160.744631 313.717831 \nL 164.802812 313.717831 \nL 164.802812 313.717831 \nL 160.744631 313.717831 \nz\n\" clip-path=\"url(#p6398590d7a)\" style=\"fill: #4c72b0\"/>\n   </g>\n   <g id=\"patch_31\">\n    <path d=\"M 164.802812 313.717831 \nL 168.860994 313.717831 \nL 168.860994 313.717831 \nL 164.802812 313.717831 \nz\n\" clip-path=\"url(#p6398590d7a)\" style=\"fill: #4c72b0\"/>\n   </g>\n   <g id=\"patch_32\">\n    <path d=\"M 168.860994 313.717831 \nL 172.919176 313.717831 \nL 172.919176 313.717831 \nL 168.860994 313.717831 \nz\n\" clip-path=\"url(#p6398590d7a)\" style=\"fill: #4c72b0\"/>\n   </g>\n   <g id=\"patch_33\">\n    <path d=\"M 172.919176 313.717831 \nL 176.977358 313.717831 \nL 176.977358 313.717831 \nL 172.919176 313.717831 \nz\n\" clip-path=\"url(#p6398590d7a)\" style=\"fill: #4c72b0\"/>\n   </g>\n   <g id=\"patch_34\">\n    <path d=\"M 176.977358 313.717831 \nL 181.03554 313.717831 \nL 181.03554 313.717831 \nL 176.977358 313.717831 \nz\n\" clip-path=\"url(#p6398590d7a)\" style=\"fill: #4c72b0\"/>\n   </g>\n   <g id=\"patch_35\">\n    <path d=\"M 181.03554 313.717831 \nL 185.093722 313.717831 \nL 185.093722 313.717831 \nL 181.03554 313.717831 \nz\n\" clip-path=\"url(#p6398590d7a)\" style=\"fill: #4c72b0\"/>\n   </g>\n   <g id=\"patch_36\">\n    <path d=\"M 185.093722 313.717831 \nL 189.151903 313.717831 \nL 189.151903 313.717831 \nL 185.093722 313.717831 \nz\n\" clip-path=\"url(#p6398590d7a)\" style=\"fill: #4c72b0\"/>\n   </g>\n   <g id=\"patch_37\">\n    <path d=\"M 189.151903 313.717831 \nL 193.210085 313.717831 \nL 193.210085 313.717831 \nL 189.151903 313.717831 \nz\n\" clip-path=\"url(#p6398590d7a)\" style=\"fill: #4c72b0\"/>\n   </g>\n   <g id=\"patch_38\">\n    <path d=\"M 193.210085 313.717831 \nL 197.268267 313.717831 \nL 197.268267 313.717831 \nL 193.210085 313.717831 \nz\n\" clip-path=\"url(#p6398590d7a)\" style=\"fill: #4c72b0\"/>\n   </g>\n   <g id=\"patch_39\">\n    <path d=\"M 197.268267 313.717831 \nL 201.326449 313.717831 \nL 201.326449 313.717831 \nL 197.268267 313.717831 \nz\n\" clip-path=\"url(#p6398590d7a)\" style=\"fill: #4c72b0\"/>\n   </g>\n   <g id=\"patch_40\">\n    <path d=\"M 201.326449 313.717831 \nL 205.384631 313.717831 \nL 205.384631 313.717831 \nL 201.326449 313.717831 \nz\n\" clip-path=\"url(#p6398590d7a)\" style=\"fill: #4c72b0\"/>\n   </g>\n   <g id=\"patch_41\">\n    <path d=\"M 205.384631 313.717831 \nL 209.442812 313.717831 \nL 209.442812 313.717831 \nL 205.384631 313.717831 \nz\n\" clip-path=\"url(#p6398590d7a)\" style=\"fill: #4c72b0\"/>\n   </g>\n   <g id=\"patch_42\">\n    <path d=\"M 209.442812 313.717831 \nL 213.500994 313.717831 \nL 213.500994 313.717831 \nL 209.442812 313.717831 \nz\n\" clip-path=\"url(#p6398590d7a)\" style=\"fill: #4c72b0\"/>\n   </g>\n   <g id=\"patch_43\">\n    <path d=\"M 213.500994 313.717831 \nL 217.559176 313.717831 \nL 217.559176 313.717831 \nL 213.500994 313.717831 \nz\n\" clip-path=\"url(#p6398590d7a)\" style=\"fill: #4c72b0\"/>\n   </g>\n   <g id=\"patch_44\">\n    <path d=\"M 217.559176 313.717831 \nL 221.617358 313.717831 \nL 221.617358 313.717831 \nL 217.559176 313.717831 \nz\n\" clip-path=\"url(#p6398590d7a)\" style=\"fill: #4c72b0\"/>\n   </g>\n   <g id=\"patch_45\">\n    <path d=\"M 221.617358 313.717831 \nL 225.67554 313.717831 \nL 225.67554 313.717831 \nL 221.617358 313.717831 \nz\n\" clip-path=\"url(#p6398590d7a)\" style=\"fill: #4c72b0\"/>\n   </g>\n   <g id=\"patch_46\">\n    <path d=\"M 225.67554 313.717831 \nL 229.733722 313.717831 \nL 229.733722 313.717831 \nL 225.67554 313.717831 \nz\n\" clip-path=\"url(#p6398590d7a)\" style=\"fill: #4c72b0\"/>\n   </g>\n   <g id=\"patch_47\">\n    <path d=\"M 229.733722 313.717831 \nL 233.791903 313.717831 \nL 233.791903 313.717831 \nL 229.733722 313.717831 \nz\n\" clip-path=\"url(#p6398590d7a)\" style=\"fill: #4c72b0\"/>\n   </g>\n   <g id=\"patch_48\">\n    <path d=\"M 233.791903 313.717831 \nL 237.850085 313.717831 \nL 237.850085 313.717831 \nL 233.791903 313.717831 \nz\n\" clip-path=\"url(#p6398590d7a)\" style=\"fill: #4c72b0\"/>\n   </g>\n   <g id=\"patch_49\">\n    <path d=\"M 237.850085 313.717831 \nL 241.908267 313.717831 \nL 241.908267 313.717831 \nL 237.850085 313.717831 \nz\n\" clip-path=\"url(#p6398590d7a)\" style=\"fill: #4c72b0\"/>\n   </g>\n   <g id=\"patch_50\">\n    <path d=\"M 241.908267 313.717831 \nL 245.966449 313.717831 \nL 245.966449 313.717831 \nL 241.908267 313.717831 \nz\n\" clip-path=\"url(#p6398590d7a)\" style=\"fill: #4c72b0\"/>\n   </g>\n   <g id=\"patch_51\">\n    <path d=\"M 245.966449 313.717831 \nL 250.024631 313.717831 \nL 250.024631 313.717831 \nL 245.966449 313.717831 \nz\n\" clip-path=\"url(#p6398590d7a)\" style=\"fill: #4c72b0\"/>\n   </g>\n   <g id=\"patch_52\">\n    <path d=\"M 250.024631 313.717831 \nL 254.082812 313.717831 \nL 254.082812 313.717831 \nL 250.024631 313.717831 \nz\n\" clip-path=\"url(#p6398590d7a)\" style=\"fill: #4c72b0\"/>\n   </g>\n   <g id=\"patch_53\">\n    <path d=\"M 254.082812 313.717831 \nL 258.140994 313.717831 \nL 258.140994 313.717831 \nL 254.082812 313.717831 \nz\n\" clip-path=\"url(#p6398590d7a)\" style=\"fill: #4c72b0\"/>\n   </g>\n   <g id=\"patch_54\">\n    <path d=\"M 258.140994 313.717831 \nL 262.199176 313.717831 \nL 262.199176 313.717831 \nL 258.140994 313.717831 \nz\n\" clip-path=\"url(#p6398590d7a)\" style=\"fill: #4c72b0\"/>\n   </g>\n   <g id=\"patch_55\">\n    <path d=\"M 262.199176 313.717831 \nL 266.257358 313.717831 \nL 266.257358 313.339213 \nL 262.199176 313.339213 \nz\n\" clip-path=\"url(#p6398590d7a)\" style=\"fill: #4c72b0\"/>\n   </g>\n   <g id=\"patch_56\">\n    <path d=\"M 266.257358 313.717831 \nL 270.31554 313.717831 \nL 270.31554 313.717831 \nL 266.257358 313.717831 \nz\n\" clip-path=\"url(#p6398590d7a)\" style=\"fill: #4c72b0\"/>\n   </g>\n   <g id=\"patch_57\">\n    <path d=\"M 270.31554 313.717831 \nL 274.373722 313.717831 \nL 274.373722 313.717831 \nL 270.31554 313.717831 \nz\n\" clip-path=\"url(#p6398590d7a)\" style=\"fill: #4c72b0\"/>\n   </g>\n   <g id=\"patch_58\">\n    <path d=\"M 274.373722 313.717831 \nL 278.431903 313.717831 \nL 278.431903 313.717831 \nL 274.373722 313.717831 \nz\n\" clip-path=\"url(#p6398590d7a)\" style=\"fill: #4c72b0\"/>\n   </g>\n   <g id=\"patch_59\">\n    <path d=\"M 278.431903 313.717831 \nL 282.490085 313.717831 \nL 282.490085 313.339213 \nL 278.431903 313.339213 \nz\n\" clip-path=\"url(#p6398590d7a)\" style=\"fill: #4c72b0\"/>\n   </g>\n   <g id=\"patch_60\">\n    <path d=\"M 282.490085 313.717831 \nL 286.548267 313.717831 \nL 286.548267 313.339213 \nL 282.490085 313.339213 \nz\n\" clip-path=\"url(#p6398590d7a)\" style=\"fill: #4c72b0\"/>\n   </g>\n   <g id=\"patch_61\">\n    <path d=\"M 286.548267 313.717831 \nL 290.606449 313.717831 \nL 290.606449 313.339213 \nL 286.548267 313.339213 \nz\n\" clip-path=\"url(#p6398590d7a)\" style=\"fill: #4c72b0\"/>\n   </g>\n   <g id=\"patch_62\">\n    <path d=\"M 290.606449 313.717831 \nL 294.664631 313.717831 \nL 294.664631 313.339213 \nL 290.606449 313.339213 \nz\n\" clip-path=\"url(#p6398590d7a)\" style=\"fill: #4c72b0\"/>\n   </g>\n   <g id=\"patch_63\">\n    <path d=\"M 294.664631 313.717831 \nL 298.722812 313.717831 \nL 298.722812 312.203359 \nL 294.664631 312.203359 \nz\n\" clip-path=\"url(#p6398590d7a)\" style=\"fill: #4c72b0\"/>\n   </g>\n   <g id=\"patch_64\">\n    <path d=\"M 298.722812 313.717831 \nL 302.780994 313.717831 \nL 302.780994 312.203359 \nL 298.722812 312.203359 \nz\n\" clip-path=\"url(#p6398590d7a)\" style=\"fill: #4c72b0\"/>\n   </g>\n   <g id=\"patch_65\">\n    <path d=\"M 302.780994 313.717831 \nL 306.839176 313.717831 \nL 306.839176 312.581977 \nL 302.780994 312.581977 \nz\n\" clip-path=\"url(#p6398590d7a)\" style=\"fill: #4c72b0\"/>\n   </g>\n   <g id=\"patch_66\">\n    <path d=\"M 306.839176 313.717831 \nL 310.897358 313.717831 \nL 310.897358 312.581977 \nL 306.839176 312.581977 \nz\n\" clip-path=\"url(#p6398590d7a)\" style=\"fill: #4c72b0\"/>\n   </g>\n   <g id=\"patch_67\">\n    <path d=\"M 310.897358 313.717831 \nL 314.95554 313.717831 \nL 314.95554 310.310269 \nL 310.897358 310.310269 \nz\n\" clip-path=\"url(#p6398590d7a)\" style=\"fill: #4c72b0\"/>\n   </g>\n   <g id=\"patch_68\">\n    <path d=\"M 314.95554 313.717831 \nL 319.013722 313.717831 \nL 319.013722 307.281325 \nL 314.95554 307.281325 \nz\n\" clip-path=\"url(#p6398590d7a)\" style=\"fill: #4c72b0\"/>\n   </g>\n   <g id=\"patch_69\">\n    <path d=\"M 319.013722 313.717831 \nL 323.071903 313.717831 \nL 323.071903 305.009617 \nL 319.013722 305.009617 \nz\n\" clip-path=\"url(#p6398590d7a)\" style=\"fill: #4c72b0\"/>\n   </g>\n   <g id=\"patch_70\">\n    <path d=\"M 323.071903 313.717831 \nL 327.130085 313.717831 \nL 327.130085 291.757988 \nL 323.071903 291.757988 \nz\n\" clip-path=\"url(#p6398590d7a)\" style=\"fill: #4c72b0\"/>\n   </g>\n   <g id=\"patch_71\">\n    <path d=\"M 327.130085 313.717831 \nL 331.188267 313.717831 \nL 331.188267 264.118874 \nL 327.130085 264.118874 \nz\n\" clip-path=\"url(#p6398590d7a)\" style=\"fill: #4c72b0\"/>\n   </g>\n   <g id=\"patch_72\">\n    <path d=\"M 331.188267 313.717831 \nL 335.246449 313.717831 \nL 335.246449 114.186149 \nL 331.188267 114.186149 \nz\n\" clip-path=\"url(#p6398590d7a)\" style=\"fill: #4c72b0\"/>\n   </g>\n   <g id=\"patch_73\">\n    <path d=\"M 335.246449 313.717831 \nL 339.304631 313.717831 \nL 339.304631 23.317831 \nL 335.246449 23.317831 \nz\n\" clip-path=\"url(#p6398590d7a)\" style=\"fill: #4c72b0\"/>\n   </g>\n   <g id=\"patch_74\">\n    <path d=\"M 339.304631 313.717831 \nL 343.362812 313.717831 \nL 343.362812 240.265941 \nL 339.304631 240.265941 \nz\n\" clip-path=\"url(#p6398590d7a)\" style=\"fill: #4c72b0\"/>\n   </g>\n   <g id=\"patch_75\">\n    <path d=\"M 343.362812 313.717831 \nL 347.420994 313.717831 \nL 347.420994 278.12774 \nL 343.362812 278.12774 \nz\n\" clip-path=\"url(#p6398590d7a)\" style=\"fill: #4c72b0\"/>\n   </g>\n   <g id=\"patch_76\">\n    <path d=\"M 347.420994 313.717831 \nL 351.479176 313.717831 \nL 351.479176 298.194494 \nL 347.420994 298.194494 \nz\n\" clip-path=\"url(#p6398590d7a)\" style=\"fill: #4c72b0\"/>\n   </g>\n   <g id=\"patch_77\">\n    <path d=\"M 351.479176 313.717831 \nL 355.537358 313.717831 \nL 355.537358 304.630999 \nL 351.479176 304.630999 \nz\n\" clip-path=\"url(#p6398590d7a)\" style=\"fill: #4c72b0\"/>\n   </g>\n   <g id=\"patch_78\">\n    <path d=\"M 355.537358 313.717831 \nL 359.59554 313.717831 \nL 359.59554 308.795797 \nL 355.537358 308.795797 \nz\n\" clip-path=\"url(#p6398590d7a)\" style=\"fill: #4c72b0\"/>\n   </g>\n   <g id=\"patch_79\">\n    <path d=\"M 359.59554 313.717831 \nL 363.653722 313.717831 \nL 363.653722 309.174415 \nL 359.59554 309.174415 \nz\n\" clip-path=\"url(#p6398590d7a)\" style=\"fill: #4c72b0\"/>\n   </g>\n   <g id=\"patch_80\">\n    <path d=\"M 363.653722 313.717831 \nL 367.711903 313.717831 \nL 367.711903 311.067505 \nL 363.653722 311.067505 \nz\n\" clip-path=\"url(#p6398590d7a)\" style=\"fill: #4c72b0\"/>\n   </g>\n   <g id=\"patch_81\">\n    <path d=\"M 367.711903 313.717831 \nL 371.770085 313.717831 \nL 371.770085 311.824741 \nL 367.711903 311.824741 \nz\n\" clip-path=\"url(#p6398590d7a)\" style=\"fill: #4c72b0\"/>\n   </g>\n   <g id=\"patch_82\">\n    <path d=\"M 371.770085 313.717831 \nL 375.828267 313.717831 \nL 375.828267 311.446123 \nL 371.770085 311.446123 \nz\n\" clip-path=\"url(#p6398590d7a)\" style=\"fill: #4c72b0\"/>\n   </g>\n   <g id=\"patch_83\">\n    <path d=\"M 375.828267 313.717831 \nL 379.886449 313.717831 \nL 379.886449 312.581977 \nL 375.828267 312.581977 \nz\n\" clip-path=\"url(#p6398590d7a)\" style=\"fill: #4c72b0\"/>\n   </g>\n   <g id=\"patch_84\">\n    <path d=\"M 379.886449 313.717831 \nL 383.944631 313.717831 \nL 383.944631 312.960595 \nL 379.886449 312.960595 \nz\n\" clip-path=\"url(#p6398590d7a)\" style=\"fill: #4c72b0\"/>\n   </g>\n   <g id=\"patch_85\">\n    <path d=\"M 383.944631 313.717831 \nL 388.002812 313.717831 \nL 388.002812 312.960595 \nL 383.944631 312.960595 \nz\n\" clip-path=\"url(#p6398590d7a)\" style=\"fill: #4c72b0\"/>\n   </g>\n   <g id=\"patch_86\">\n    <path d=\"M 388.002813 313.717831 \nL 392.060994 313.717831 \nL 392.060994 313.339213 \nL 388.002813 313.339213 \nz\n\" clip-path=\"url(#p6398590d7a)\" style=\"fill: #4c72b0\"/>\n   </g>\n   <g id=\"patch_87\">\n    <path d=\"M 392.060994 313.717831 \nL 396.119176 313.717831 \nL 396.119176 313.339213 \nL 392.060994 313.339213 \nz\n\" clip-path=\"url(#p6398590d7a)\" style=\"fill: #4c72b0\"/>\n   </g>\n   <g id=\"patch_88\">\n    <path d=\"M 396.119176 313.717831 \nL 400.177358 313.717831 \nL 400.177358 313.717831 \nL 396.119176 313.717831 \nz\n\" clip-path=\"url(#p6398590d7a)\" style=\"fill: #4c72b0\"/>\n   </g>\n   <g id=\"patch_89\">\n    <path d=\"M 400.177358 313.717831 \nL 404.23554 313.717831 \nL 404.23554 313.339213 \nL 400.177358 313.339213 \nz\n\" clip-path=\"url(#p6398590d7a)\" style=\"fill: #4c72b0\"/>\n   </g>\n   <g id=\"patch_90\">\n    <path d=\"M 404.23554 313.717831 \nL 408.293722 313.717831 \nL 408.293722 313.717831 \nL 404.23554 313.717831 \nz\n\" clip-path=\"url(#p6398590d7a)\" style=\"fill: #4c72b0\"/>\n   </g>\n   <g id=\"patch_91\">\n    <path d=\"M 408.293722 313.717831 \nL 412.351903 313.717831 \nL 412.351903 313.717831 \nL 408.293722 313.717831 \nz\n\" clip-path=\"url(#p6398590d7a)\" style=\"fill: #4c72b0\"/>\n   </g>\n   <g id=\"patch_92\">\n    <path d=\"M 412.351903 313.717831 \nL 416.410085 313.717831 \nL 416.410085 313.339213 \nL 412.351903 313.339213 \nz\n\" clip-path=\"url(#p6398590d7a)\" style=\"fill: #4c72b0\"/>\n   </g>\n   <g id=\"patch_93\">\n    <path d=\"M 416.410085 313.717831 \nL 420.468267 313.717831 \nL 420.468267 312.581977 \nL 416.410085 312.581977 \nz\n\" clip-path=\"url(#p6398590d7a)\" style=\"fill: #4c72b0\"/>\n   </g>\n   <g id=\"patch_94\">\n    <path d=\"M 420.468267 313.717831 \nL 424.526449 313.717831 \nL 424.526449 313.339213 \nL 420.468267 313.339213 \nz\n\" clip-path=\"url(#p6398590d7a)\" style=\"fill: #4c72b0\"/>\n   </g>\n   <g id=\"patch_95\">\n    <path d=\"M 424.526449 313.717831 \nL 428.584631 313.717831 \nL 428.584631 313.339213 \nL 424.526449 313.339213 \nz\n\" clip-path=\"url(#p6398590d7a)\" style=\"fill: #4c72b0\"/>\n   </g>\n   <g id=\"patch_96\">\n    <path d=\"M 428.584631 313.717831 \nL 432.642812 313.717831 \nL 432.642812 313.717831 \nL 428.584631 313.717831 \nz\n\" clip-path=\"url(#p6398590d7a)\" style=\"fill: #4c72b0\"/>\n   </g>\n   <g id=\"patch_97\">\n    <path d=\"M 432.642812 313.717831 \nL 436.700994 313.717831 \nL 436.700994 313.717831 \nL 432.642812 313.717831 \nz\n\" clip-path=\"url(#p6398590d7a)\" style=\"fill: #4c72b0\"/>\n   </g>\n   <g id=\"patch_98\">\n    <path d=\"M 436.700994 313.717831 \nL 440.759176 313.717831 \nL 440.759176 313.717831 \nL 436.700994 313.717831 \nz\n\" clip-path=\"url(#p6398590d7a)\" style=\"fill: #4c72b0\"/>\n   </g>\n   <g id=\"patch_99\">\n    <path d=\"M 440.759176 313.717831 \nL 444.817358 313.717831 \nL 444.817358 313.717831 \nL 440.759176 313.717831 \nz\n\" clip-path=\"url(#p6398590d7a)\" style=\"fill: #4c72b0\"/>\n   </g>\n   <g id=\"patch_100\">\n    <path d=\"M 444.817358 313.717831 \nL 448.87554 313.717831 \nL 448.87554 313.339213 \nL 444.817358 313.339213 \nz\n\" clip-path=\"url(#p6398590d7a)\" style=\"fill: #4c72b0\"/>\n   </g>\n   <g id=\"patch_101\">\n    <path d=\"M 448.87554 313.717831 \nL 452.933722 313.717831 \nL 452.933722 313.717831 \nL 448.87554 313.717831 \nz\n\" clip-path=\"url(#p6398590d7a)\" style=\"fill: #4c72b0\"/>\n   </g>\n   <g id=\"patch_102\">\n    <path d=\"M 452.933722 313.717831 \nL 456.991903 313.717831 \nL 456.991903 313.339213 \nL 452.933722 313.339213 \nz\n\" clip-path=\"url(#p6398590d7a)\" style=\"fill: #4c72b0\"/>\n   </g>\n   <g id=\"patch_103\">\n    <path d=\"M 30.882812 313.717831 \nL 30.882812 8.797831 \n\" style=\"fill: none\"/>\n   </g>\n   <g id=\"patch_104\">\n    <path d=\"M 477.282812 313.717831 \nL 477.282812 8.797831 \n\" style=\"fill: none\"/>\n   </g>\n   <g id=\"patch_105\">\n    <path d=\"M 30.882812 313.717831 \nL 477.282812 313.717831 \n\" style=\"fill: none\"/>\n   </g>\n   <g id=\"patch_106\">\n    <path d=\"M 30.882812 8.797831 \nL 477.282812 8.797831 \n\" style=\"fill: none\"/>\n   </g>\n  </g>\n </g>\n <defs>\n  <clipPath id=\"p6398590d7a\">\n   <rect x=\"30.882812\" y=\"8.797831\" width=\"446.4\" height=\"304.92\"/>\n  </clipPath>\n </defs>\n</svg>\n"
          },
          "metadata": {}
        }
      ]
    },
    {
      "cell_type": "markdown",
      "source": [
        "绘制收益率 'r' 列的直方图。\n",
        "\n",
        "* data['r']: 选择了 data DataFrame 中的 'r' 列，也就是计算出的收益率数据。\n",
        "    .hist(bins=100): 这是 pandas Series 的一个方法，用于绘制直方图。\n",
        "* bins=100 参数指定了直方图的 bin（柱子）的数量。设置 bins=100 会将收益率数据的范围分成 100 个区间，然后统计每个区间内的数据点数量。\n",
        "\n",
        "这段代码会生成一个直方图，显示收益率 'r' 的分布情况。\n",
        "可以从直方图中看出收益率主要集中在哪些范围内，以及它们的分布形状（例如是否接近正态分布）。"
      ],
      "metadata": {
        "id": "4NiXTGmk-6xz"
      },
      "id": "4NiXTGmk-6xz"
    }
  ],
  "metadata": {
    "kernelspec": {
      "display_name": "Python 3 (ipykernel)",
      "language": "python",
      "name": "python3"
    },
    "language_info": {
      "codemirror_mode": {
        "name": "ipython",
        "version": 3
      },
      "file_extension": ".py",
      "mimetype": "text/x-python",
      "name": "python",
      "nbconvert_exporter": "python",
      "pygments_lexer": "ipython3",
      "version": "3.13.5"
    },
    "colab": {
      "provenance": []
    }
  },
  "nbformat": 4,
  "nbformat_minor": 5
}