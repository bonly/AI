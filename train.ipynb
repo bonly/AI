{
  "cells": [
    {
      "cell_type": "raw",
      "id": "6314ed5a-5f6d-440d-9bd1-771a850967ce",
      "metadata": {
        "id": "6314ed5a-5f6d-440d-9bd1-771a850967ce"
      },
      "source": [
        "<a href=\"https://colab.research.google.com/github/bonly/AI/blob/main/train.ipynb\" target=\"_parent\"><img src=\"https://colab.research.google.com/assets/colab-badge.svg\" alt=\"Open In Colab\"/></a>"
      ]
    },
    {
      "cell_type": "markdown",
      "source": [
        "# 环境库"
      ],
      "metadata": {
        "id": "xH6MRaWUuOQr"
      },
      "id": "xH6MRaWUuOQr"
    },
    {
      "cell_type": "code",
      "source": [
        "%pip install akshare --upgrade"
      ],
      "metadata": {
        "id": "XNCTp92AodBq"
      },
      "id": "XNCTp92AodBq",
      "execution_count": null,
      "outputs": []
    },
    {
      "cell_type": "code",
      "source": [
        "import akshare as ak;\n",
        "import numpy as np\n",
        "import pandas as pd"
      ],
      "metadata": {
        "id": "YmYBbwvYnx8A"
      },
      "id": "YmYBbwvYnx8A",
      "execution_count": 4,
      "outputs": []
    },
    {
      "cell_type": "markdown",
      "source": [
        "# 数据"
      ],
      "metadata": {
        "id": "lwV-du23uTKu"
      },
      "id": "lwV-du23uTKu"
    },
    {
      "cell_type": "code",
      "source": [
        "from pylab import plt\n",
        "plt.style.use('seaborn-v0_8')\n",
        "%config InlineBackend.figure_format = 'svg'"
      ],
      "metadata": {
        "id": "40uroCLHoC-5"
      },
      "id": "40uroCLHoC-5",
      "execution_count": 5,
      "outputs": []
    },
    {
      "cell_type": "code",
      "source": [
        "data = ak.stock_zh_a_minute(symbol='sz300188', period='1')"
      ],
      "metadata": {
        "id": "zAm8Z8AroP6N"
      },
      "id": "zAm8Z8AroP6N",
      "execution_count": null,
      "outputs": []
    },
    {
      "cell_type": "code",
      "source": [
        "print(data.tail(10));"
      ],
      "metadata": {
        "id": "ZhzK0BOqt2l6"
      },
      "id": "ZhzK0BOqt2l6",
      "execution_count": null,
      "outputs": []
    },
    {
      "cell_type": "code",
      "source": [
        "data['close'] = pd.to_numeric(data['close']);\n",
        "data['r'] = np.log(data['close'] / data['close'].shift(1));\n",
        "data['d'] = np.sign(data['r']);"
      ],
      "metadata": {
        "id": "SMDcItjUtSOM"
      },
      "id": "SMDcItjUtSOM",
      "execution_count": 12,
      "outputs": []
    },
    {
      "cell_type": "markdown",
      "source": [
        "# 策略"
      ],
      "metadata": {
        "id": "-ZJsi3qUuXQT"
      },
      "id": "-ZJsi3qUuXQT"
    },
    {
      "cell_type": "code",
      "source": [
        "lags = 3"
      ],
      "metadata": {
        "id": "Ki0_rA52u68U"
      },
      "id": "Ki0_rA52u68U",
      "execution_count": 15,
      "outputs": []
    },
    {
      "cell_type": "code",
      "source": [
        "cols = list()\n",
        "for lag in range(1, lags + 1):\n",
        "    col = f'lag_{lag}'\n",
        "    data[col] = data['r'].shift(lag)\n",
        "    cols.append(col)"
      ],
      "metadata": {
        "id": "pKCxWJVetu6h"
      },
      "id": "pKCxWJVetu6h",
      "execution_count": 16,
      "outputs": []
    },
    {
      "cell_type": "markdown",
      "source": [
        "代码的作用是在 data 这个 DataFrame 中创建滞后的收益率列。\n",
        "\n",
        "* 首先，它初始化了一个名为 cols 的空列表，用来存储后面创建的列名。\n",
        "* 然后，它会循环 lags 次（这里 lags 的值是 3）。\n",
        "* 在每次循环中，它会根据当前的 lag 值创建一个新的列名，例如 'lag_1', 'lag_2', 'lag_3'。\n",
        "* 接着，它会在 data DataFrame 中创建一个新的列，列名就是刚刚生成的。这一列的值是 'r' 列（收益率列）向下移动 lag 行得到的结果。这样就创建了包含过去收益率值的列。\n",
        "* 最后，它将新创建的列名添加到 cols 列表中。\n",
        "\n",
        "这段代码运行后，data DataFrame 中会增加名为 'lag_1', 'lag_2' 和 'lag_3' 的新列，它们分别包含前 1、2 和 3 个时间段的收益率数据。"
      ],
      "metadata": {
        "id": "EGhedFveAes_"
      },
      "id": "EGhedFveAes_"
    },
    {
      "cell_type": "code",
      "source": [
        "print(data.head(10));"
      ],
      "metadata": {
        "colab": {
          "base_uri": "https://localhost:8080/"
        },
        "id": "CsLXnZxLu9tz",
        "outputId": "c8194a86-2c5b-4e7d-c2e3-93ee58b0608c"
      },
      "id": "CsLXnZxLu9tz",
      "execution_count": 24,
      "outputs": [
        {
          "output_type": "stream",
          "name": "stdout",
          "text": [
            "                    day    open    high     low  close volume         r  d  \\\n",
            "4   2025-08-05 13:57:00  17.040  17.060  17.030  17.04  86800  0.000000  0   \n",
            "5   2025-08-05 13:58:00  17.050  17.100  17.050  17.09  99500  0.002930  1   \n",
            "6   2025-08-05 13:59:00  17.100  17.100  17.090  17.10  24100  0.000585  1   \n",
            "7   2025-08-05 14:00:00  17.090  17.110  17.080  17.09  37300 -0.000585 -1   \n",
            "8   2025-08-05 14:01:00  17.090  17.110  17.080  17.11  46800  0.001170  1   \n",
            "9   2025-08-05 14:02:00  17.110  17.110  17.080  17.10  68800 -0.000585 -1   \n",
            "10  2025-08-05 14:03:00  17.100  17.110  17.100  17.11  31500  0.000585  1   \n",
            "11  2025-08-05 14:04:00  17.110  17.130  17.100  17.11  69300  0.000000  0   \n",
            "12  2025-08-05 14:05:00  17.110  17.120  17.110  17.11  47500  0.000000  0   \n",
            "13  2025-08-05 14:06:00  17.110  17.120  17.110  17.11  25600  0.000000  0   \n",
            "\n",
            "       lag_1     lag_2     lag_3  \n",
            "4  -0.001759 -0.001171 -0.001170  \n",
            "5   0.000000 -0.001759 -0.001171  \n",
            "6   0.002930  0.000000 -0.001759  \n",
            "7   0.000585  0.002930  0.000000  \n",
            "8  -0.000585  0.000585  0.002930  \n",
            "9   0.001170 -0.000585  0.000585  \n",
            "10 -0.000585  0.001170 -0.000585  \n",
            "11  0.000585 -0.000585  0.001170  \n",
            "12  0.000000  0.000585 -0.000585  \n",
            "13  0.000000  0.000000  0.000585  \n"
          ]
        }
      ]
    },
    {
      "cell_type": "code",
      "source": [
        "data.dropna(inplace=True); #删除 DataFrame 中所有包含缺失值（NaN）的行"
      ],
      "metadata": {
        "id": "gonEks_iAy2U"
      },
      "id": "gonEks_iAy2U",
      "execution_count": 21,
      "outputs": []
    },
    {
      "cell_type": "code",
      "source": [
        "data['d'] = data['d'].astype(int); #将 data DataFrame 中 'd' 列的数据类型转换为整数"
      ],
      "metadata": {
        "id": "GUGqP0VTBUQ0"
      },
      "id": "GUGqP0VTBUQ0",
      "execution_count": 23,
      "outputs": []
    }
  ],
  "metadata": {
    "kernelspec": {
      "display_name": "Python 3 (ipykernel)",
      "language": "python",
      "name": "python3"
    },
    "language_info": {
      "codemirror_mode": {
        "name": "ipython",
        "version": 3
      },
      "file_extension": ".py",
      "mimetype": "text/x-python",
      "name": "python",
      "nbconvert_exporter": "python",
      "pygments_lexer": "ipython3",
      "version": "3.13.5"
    },
    "colab": {
      "provenance": []
    }
  },
  "nbformat": 4,
  "nbformat_minor": 5
}