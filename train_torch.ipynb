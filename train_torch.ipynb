{
  "nbformat": 4,
  "nbformat_minor": 0,
  "metadata": {
    "colab": {
      "provenance": [],
      "authorship_tag": "ABX9TyPVHlKm2yVhzphX2zVnrW8j",
      "include_colab_link": true
    },
    "kernelspec": {
      "name": "python3",
      "display_name": "Python 3"
    },
    "language_info": {
      "name": "python"
    }
  },
  "cells": [
    {
      "cell_type": "markdown",
      "metadata": {
        "id": "view-in-github",
        "colab_type": "text"
      },
      "source": [
        "<a href=\"https://colab.research.google.com/github/bonly/AI/blob/main/train_torch.ipynb\" target=\"_parent\"><img src=\"https://colab.research.google.com/assets/colab-badge.svg\" alt=\"Open In Colab\"/></a>"
      ]
    },
    {
      "cell_type": "markdown",
      "metadata": {
        "id": "0314dfe8"
      },
      "source": [
        "# 描述\n",
        "使用akshare获取A股sh600048的历史股票数据，并使用pytorch实现价格预测。"
      ]
    },
    {
      "cell_type": "markdown",
      "metadata": {
        "id": "c6299360"
      },
      "source": [
        "## 数据获取\n",
        "\n",
        "### 使用akshare获取A股sh600048的历史股票数据。\n"
      ]
    },
    {
      "cell_type": "code",
      "metadata": {
        "id": "dx2ynCeeW4wF"
      },
      "source": [
        "%pip install akshare"
      ],
      "execution_count": null,
      "outputs": []
    },
    {
      "cell_type": "markdown",
      "metadata": {
        "id": "a4da9ecf"
      },
      "source": [
        "安装akshare包\n",
        "\n"
      ]
    },
    {
      "cell_type": "code",
      "metadata": {
        "colab": {
          "base_uri": "https://localhost:8080/",
          "height": 502
        },
        "id": "1c4acd7d",
        "outputId": "9d14e4b3-0ee9-4833-a80d-b6c720dde1fd"
      },
      "source": [
        "import akshare as ak\n",
        "import pandas as pd\n",
        "\n",
        "start_date = \"20240101\"\n",
        "end_date = \"20250815\"\n",
        "\n",
        "# df = ak.stock_zh_a_hist(symbol=\"sh600048\", period=\"daily\", start_date=start_date, end_date=end_date, adjust=\"qfq\")\n",
        "df = ak.stock_zh_a_daily(symbol=\"sh600048\", start_date=start_date, end_date=end_date, adjust=\"qfq\")\n",
        "\n",
        "display(df.head())\n",
        "display(df.info())"
      ],
      "execution_count": 5,
      "outputs": [
        {
          "output_type": "display_data",
          "data": {
            "text/plain": [
              "         date  open  high   low  close       volume        amount  \\\n",
              "0  2024-01-02  9.38  9.41  8.97   8.98  117278568.0  1.120367e+09   \n",
              "1  2024-01-03  8.96  9.13  8.88   8.96   89972552.0  8.494157e+08   \n",
              "2  2024-01-04  8.94  8.96  8.62   8.72  105095748.0  9.624206e+08   \n",
              "3  2024-01-05  8.69  8.93  8.63   8.74  101885181.0  9.398792e+08   \n",
              "4  2024-01-08  8.74  8.80  8.61   8.63   67455132.0  6.155500e+08   \n",
              "\n",
              "   outstanding_share  turnover  \n",
              "0       1.197044e+10  0.009797  \n",
              "1       1.197044e+10  0.007516  \n",
              "2       1.197044e+10  0.008780  \n",
              "3       1.197044e+10  0.008511  \n",
              "4       1.197044e+10  0.005635  "
            ],
            "text/html": [
              "\n",
              "  <div id=\"df-d83f98a2-e7d6-490b-89ea-62a5584c62cd\" class=\"colab-df-container\">\n",
              "    <div>\n",
              "<style scoped>\n",
              "    .dataframe tbody tr th:only-of-type {\n",
              "        vertical-align: middle;\n",
              "    }\n",
              "\n",
              "    .dataframe tbody tr th {\n",
              "        vertical-align: top;\n",
              "    }\n",
              "\n",
              "    .dataframe thead th {\n",
              "        text-align: right;\n",
              "    }\n",
              "</style>\n",
              "<table border=\"1\" class=\"dataframe\">\n",
              "  <thead>\n",
              "    <tr style=\"text-align: right;\">\n",
              "      <th></th>\n",
              "      <th>date</th>\n",
              "      <th>open</th>\n",
              "      <th>high</th>\n",
              "      <th>low</th>\n",
              "      <th>close</th>\n",
              "      <th>volume</th>\n",
              "      <th>amount</th>\n",
              "      <th>outstanding_share</th>\n",
              "      <th>turnover</th>\n",
              "    </tr>\n",
              "  </thead>\n",
              "  <tbody>\n",
              "    <tr>\n",
              "      <th>0</th>\n",
              "      <td>2024-01-02</td>\n",
              "      <td>9.38</td>\n",
              "      <td>9.41</td>\n",
              "      <td>8.97</td>\n",
              "      <td>8.98</td>\n",
              "      <td>117278568.0</td>\n",
              "      <td>1.120367e+09</td>\n",
              "      <td>1.197044e+10</td>\n",
              "      <td>0.009797</td>\n",
              "    </tr>\n",
              "    <tr>\n",
              "      <th>1</th>\n",
              "      <td>2024-01-03</td>\n",
              "      <td>8.96</td>\n",
              "      <td>9.13</td>\n",
              "      <td>8.88</td>\n",
              "      <td>8.96</td>\n",
              "      <td>89972552.0</td>\n",
              "      <td>8.494157e+08</td>\n",
              "      <td>1.197044e+10</td>\n",
              "      <td>0.007516</td>\n",
              "    </tr>\n",
              "    <tr>\n",
              "      <th>2</th>\n",
              "      <td>2024-01-04</td>\n",
              "      <td>8.94</td>\n",
              "      <td>8.96</td>\n",
              "      <td>8.62</td>\n",
              "      <td>8.72</td>\n",
              "      <td>105095748.0</td>\n",
              "      <td>9.624206e+08</td>\n",
              "      <td>1.197044e+10</td>\n",
              "      <td>0.008780</td>\n",
              "    </tr>\n",
              "    <tr>\n",
              "      <th>3</th>\n",
              "      <td>2024-01-05</td>\n",
              "      <td>8.69</td>\n",
              "      <td>8.93</td>\n",
              "      <td>8.63</td>\n",
              "      <td>8.74</td>\n",
              "      <td>101885181.0</td>\n",
              "      <td>9.398792e+08</td>\n",
              "      <td>1.197044e+10</td>\n",
              "      <td>0.008511</td>\n",
              "    </tr>\n",
              "    <tr>\n",
              "      <th>4</th>\n",
              "      <td>2024-01-08</td>\n",
              "      <td>8.74</td>\n",
              "      <td>8.80</td>\n",
              "      <td>8.61</td>\n",
              "      <td>8.63</td>\n",
              "      <td>67455132.0</td>\n",
              "      <td>6.155500e+08</td>\n",
              "      <td>1.197044e+10</td>\n",
              "      <td>0.005635</td>\n",
              "    </tr>\n",
              "  </tbody>\n",
              "</table>\n",
              "</div>\n",
              "    <div class=\"colab-df-buttons\">\n",
              "\n",
              "  <div class=\"colab-df-container\">\n",
              "    <button class=\"colab-df-convert\" onclick=\"convertToInteractive('df-d83f98a2-e7d6-490b-89ea-62a5584c62cd')\"\n",
              "            title=\"Convert this dataframe to an interactive table.\"\n",
              "            style=\"display:none;\">\n",
              "\n",
              "  <svg xmlns=\"http://www.w3.org/2000/svg\" height=\"24px\" viewBox=\"0 -960 960 960\">\n",
              "    <path d=\"M120-120v-720h720v720H120Zm60-500h600v-160H180v160Zm220 220h160v-160H400v160Zm0 220h160v-160H400v160ZM180-400h160v-160H180v160Zm440 0h160v-160H620v160ZM180-180h160v-160H180v160Zm440 0h160v-160H620v160Z\"/>\n",
              "  </svg>\n",
              "    </button>\n",
              "\n",
              "  <style>\n",
              "    .colab-df-container {\n",
              "      display:flex;\n",
              "      gap: 12px;\n",
              "    }\n",
              "\n",
              "    .colab-df-convert {\n",
              "      background-color: #E8F0FE;\n",
              "      border: none;\n",
              "      border-radius: 50%;\n",
              "      cursor: pointer;\n",
              "      display: none;\n",
              "      fill: #1967D2;\n",
              "      height: 32px;\n",
              "      padding: 0 0 0 0;\n",
              "      width: 32px;\n",
              "    }\n",
              "\n",
              "    .colab-df-convert:hover {\n",
              "      background-color: #E2EBFA;\n",
              "      box-shadow: 0px 1px 2px rgba(60, 64, 67, 0.3), 0px 1px 3px 1px rgba(60, 64, 67, 0.15);\n",
              "      fill: #174EA6;\n",
              "    }\n",
              "\n",
              "    .colab-df-buttons div {\n",
              "      margin-bottom: 4px;\n",
              "    }\n",
              "\n",
              "    [theme=dark] .colab-df-convert {\n",
              "      background-color: #3B4455;\n",
              "      fill: #D2E3FC;\n",
              "    }\n",
              "\n",
              "    [theme=dark] .colab-df-convert:hover {\n",
              "      background-color: #434B5C;\n",
              "      box-shadow: 0px 1px 3px 1px rgba(0, 0, 0, 0.15);\n",
              "      filter: drop-shadow(0px 1px 2px rgba(0, 0, 0, 0.3));\n",
              "      fill: #FFFFFF;\n",
              "    }\n",
              "  </style>\n",
              "\n",
              "    <script>\n",
              "      const buttonEl =\n",
              "        document.querySelector('#df-d83f98a2-e7d6-490b-89ea-62a5584c62cd button.colab-df-convert');\n",
              "      buttonEl.style.display =\n",
              "        google.colab.kernel.accessAllowed ? 'block' : 'none';\n",
              "\n",
              "      async function convertToInteractive(key) {\n",
              "        const element = document.querySelector('#df-d83f98a2-e7d6-490b-89ea-62a5584c62cd');\n",
              "        const dataTable =\n",
              "          await google.colab.kernel.invokeFunction('convertToInteractive',\n",
              "                                                    [key], {});\n",
              "        if (!dataTable) return;\n",
              "\n",
              "        const docLinkHtml = 'Like what you see? Visit the ' +\n",
              "          '<a target=\"_blank\" href=https://colab.research.google.com/notebooks/data_table.ipynb>data table notebook</a>'\n",
              "          + ' to learn more about interactive tables.';\n",
              "        element.innerHTML = '';\n",
              "        dataTable['output_type'] = 'display_data';\n",
              "        await google.colab.output.renderOutput(dataTable, element);\n",
              "        const docLink = document.createElement('div');\n",
              "        docLink.innerHTML = docLinkHtml;\n",
              "        element.appendChild(docLink);\n",
              "      }\n",
              "    </script>\n",
              "  </div>\n",
              "\n",
              "\n",
              "    <div id=\"df-f055ddba-61ec-47e6-9fea-29530724c2df\">\n",
              "      <button class=\"colab-df-quickchart\" onclick=\"quickchart('df-f055ddba-61ec-47e6-9fea-29530724c2df')\"\n",
              "                title=\"Suggest charts\"\n",
              "                style=\"display:none;\">\n",
              "\n",
              "<svg xmlns=\"http://www.w3.org/2000/svg\" height=\"24px\"viewBox=\"0 0 24 24\"\n",
              "     width=\"24px\">\n",
              "    <g>\n",
              "        <path d=\"M19 3H5c-1.1 0-2 .9-2 2v14c0 1.1.9 2 2 2h14c1.1 0 2-.9 2-2V5c0-1.1-.9-2-2-2zM9 17H7v-7h2v7zm4 0h-2V7h2v10zm4 0h-2v-4h2v4z\"/>\n",
              "    </g>\n",
              "</svg>\n",
              "      </button>\n",
              "\n",
              "<style>\n",
              "  .colab-df-quickchart {\n",
              "      --bg-color: #E8F0FE;\n",
              "      --fill-color: #1967D2;\n",
              "      --hover-bg-color: #E2EBFA;\n",
              "      --hover-fill-color: #174EA6;\n",
              "      --disabled-fill-color: #AAA;\n",
              "      --disabled-bg-color: #DDD;\n",
              "  }\n",
              "\n",
              "  [theme=dark] .colab-df-quickchart {\n",
              "      --bg-color: #3B4455;\n",
              "      --fill-color: #D2E3FC;\n",
              "      --hover-bg-color: #434B5C;\n",
              "      --hover-fill-color: #FFFFFF;\n",
              "      --disabled-bg-color: #3B4455;\n",
              "      --disabled-fill-color: #666;\n",
              "  }\n",
              "\n",
              "  .colab-df-quickchart {\n",
              "    background-color: var(--bg-color);\n",
              "    border: none;\n",
              "    border-radius: 50%;\n",
              "    cursor: pointer;\n",
              "    display: none;\n",
              "    fill: var(--fill-color);\n",
              "    height: 32px;\n",
              "    padding: 0;\n",
              "    width: 32px;\n",
              "  }\n",
              "\n",
              "  .colab-df-quickchart:hover {\n",
              "    background-color: var(--hover-bg-color);\n",
              "    box-shadow: 0 1px 2px rgba(60, 64, 67, 0.3), 0 1px 3px 1px rgba(60, 64, 67, 0.15);\n",
              "    fill: var(--button-hover-fill-color);\n",
              "  }\n",
              "\n",
              "  .colab-df-quickchart-complete:disabled,\n",
              "  .colab-df-quickchart-complete:disabled:hover {\n",
              "    background-color: var(--disabled-bg-color);\n",
              "    fill: var(--disabled-fill-color);\n",
              "    box-shadow: none;\n",
              "  }\n",
              "\n",
              "  .colab-df-spinner {\n",
              "    border: 2px solid var(--fill-color);\n",
              "    border-color: transparent;\n",
              "    border-bottom-color: var(--fill-color);\n",
              "    animation:\n",
              "      spin 1s steps(1) infinite;\n",
              "  }\n",
              "\n",
              "  @keyframes spin {\n",
              "    0% {\n",
              "      border-color: transparent;\n",
              "      border-bottom-color: var(--fill-color);\n",
              "      border-left-color: var(--fill-color);\n",
              "    }\n",
              "    20% {\n",
              "      border-color: transparent;\n",
              "      border-left-color: var(--fill-color);\n",
              "      border-top-color: var(--fill-color);\n",
              "    }\n",
              "    30% {\n",
              "      border-color: transparent;\n",
              "      border-left-color: var(--fill-color);\n",
              "      border-top-color: var(--fill-color);\n",
              "      border-right-color: var(--fill-color);\n",
              "    }\n",
              "    40% {\n",
              "      border-color: transparent;\n",
              "      border-right-color: var(--fill-color);\n",
              "      border-top-color: var(--fill-color);\n",
              "    }\n",
              "    60% {\n",
              "      border-color: transparent;\n",
              "      border-right-color: var(--fill-color);\n",
              "    }\n",
              "    80% {\n",
              "      border-color: transparent;\n",
              "      border-right-color: var(--fill-color);\n",
              "      border-bottom-color: var(--fill-color);\n",
              "    }\n",
              "    90% {\n",
              "      border-color: transparent;\n",
              "      border-bottom-color: var(--fill-color);\n",
              "    }\n",
              "  }\n",
              "</style>\n",
              "\n",
              "      <script>\n",
              "        async function quickchart(key) {\n",
              "          const quickchartButtonEl =\n",
              "            document.querySelector('#' + key + ' button');\n",
              "          quickchartButtonEl.disabled = true;  // To prevent multiple clicks.\n",
              "          quickchartButtonEl.classList.add('colab-df-spinner');\n",
              "          try {\n",
              "            const charts = await google.colab.kernel.invokeFunction(\n",
              "                'suggestCharts', [key], {});\n",
              "          } catch (error) {\n",
              "            console.error('Error during call to suggestCharts:', error);\n",
              "          }\n",
              "          quickchartButtonEl.classList.remove('colab-df-spinner');\n",
              "          quickchartButtonEl.classList.add('colab-df-quickchart-complete');\n",
              "        }\n",
              "        (() => {\n",
              "          let quickchartButtonEl =\n",
              "            document.querySelector('#df-f055ddba-61ec-47e6-9fea-29530724c2df button');\n",
              "          quickchartButtonEl.style.display =\n",
              "            google.colab.kernel.accessAllowed ? 'block' : 'none';\n",
              "        })();\n",
              "      </script>\n",
              "    </div>\n",
              "\n",
              "    </div>\n",
              "  </div>\n"
            ],
            "application/vnd.google.colaboratory.intrinsic+json": {
              "type": "dataframe",
              "summary": "{\n  \"name\": \"display(df\",\n  \"rows\": 5,\n  \"fields\": [\n    {\n      \"column\": \"date\",\n      \"properties\": {\n        \"dtype\": \"date\",\n        \"min\": \"2024-01-02\",\n        \"max\": \"2024-01-08\",\n        \"num_unique_values\": 5,\n        \"samples\": [\n          \"2024-01-03\",\n          \"2024-01-08\",\n          \"2024-01-04\"\n        ],\n        \"semantic_type\": \"\",\n        \"description\": \"\"\n      }\n    },\n    {\n      \"column\": \"open\",\n      \"properties\": {\n        \"dtype\": \"number\",\n        \"std\": 0.27224988521577054,\n        \"min\": 8.69,\n        \"max\": 9.38,\n        \"num_unique_values\": 5,\n        \"samples\": [\n          8.96,\n          8.74,\n          8.94\n        ],\n        \"semantic_type\": \"\",\n        \"description\": \"\"\n      }\n    },\n    {\n      \"column\": \"high\",\n      \"properties\": {\n        \"dtype\": \"number\",\n        \"std\": 0.2350106380570887,\n        \"min\": 8.8,\n        \"max\": 9.41,\n        \"num_unique_values\": 5,\n        \"samples\": [\n          9.13,\n          8.8,\n          8.96\n        ],\n        \"semantic_type\": \"\",\n        \"description\": \"\"\n      }\n    },\n    {\n      \"column\": \"low\",\n      \"properties\": {\n        \"dtype\": \"number\",\n        \"std\": 0.17020575783445216,\n        \"min\": 8.61,\n        \"max\": 8.97,\n        \"num_unique_values\": 5,\n        \"samples\": [\n          8.88,\n          8.61,\n          8.62\n        ],\n        \"semantic_type\": \"\",\n        \"description\": \"\"\n      }\n    },\n    {\n      \"column\": \"close\",\n      \"properties\": {\n        \"dtype\": \"number\",\n        \"std\": 0.1554991961394013,\n        \"min\": 8.63,\n        \"max\": 8.98,\n        \"num_unique_values\": 5,\n        \"samples\": [\n          8.96,\n          8.63,\n          8.72\n        ],\n        \"semantic_type\": \"\",\n        \"description\": \"\"\n      }\n    },\n    {\n      \"column\": \"volume\",\n      \"properties\": {\n        \"dtype\": \"number\",\n        \"std\": 18846191.563533895,\n        \"min\": 67455132.0,\n        \"max\": 117278568.0,\n        \"num_unique_values\": 5,\n        \"samples\": [\n          89972552.0,\n          67455132.0,\n          105095748.0\n        ],\n        \"semantic_type\": \"\",\n        \"description\": \"\"\n      }\n    },\n    {\n      \"column\": \"amount\",\n      \"properties\": {\n        \"dtype\": \"number\",\n        \"std\": 185396919.95584932,\n        \"min\": 615549990.0,\n        \"max\": 1120366525.0,\n        \"num_unique_values\": 5,\n        \"samples\": [\n          849415732.0,\n          615549990.0,\n          962420591.0\n        ],\n        \"semantic_type\": \"\",\n        \"description\": \"\"\n      }\n    },\n    {\n      \"column\": \"outstanding_share\",\n      \"properties\": {\n        \"dtype\": \"number\",\n        \"std\": 0.0,\n        \"min\": 11970443418.0,\n        \"max\": 11970443418.0,\n        \"num_unique_values\": 1,\n        \"samples\": [\n          11970443418.0\n        ],\n        \"semantic_type\": \"\",\n        \"description\": \"\"\n      }\n    },\n    {\n      \"column\": \"turnover\",\n      \"properties\": {\n        \"dtype\": \"number\",\n        \"std\": 0.001574393771845979,\n        \"min\": 0.005635140624662865,\n        \"max\": 0.009797345336735628,\n        \"num_unique_values\": 5,\n        \"samples\": [\n          0.0075162254945967955\n        ],\n        \"semantic_type\": \"\",\n        \"description\": \"\"\n      }\n    }\n  ]\n}"
            }
          },
          "metadata": {}
        },
        {
          "output_type": "stream",
          "name": "stdout",
          "text": [
            "<class 'pandas.core.frame.DataFrame'>\n",
            "RangeIndex: 393 entries, 0 to 392\n",
            "Data columns (total 9 columns):\n",
            " #   Column             Non-Null Count  Dtype  \n",
            "---  ------             --------------  -----  \n",
            " 0   date               393 non-null    object \n",
            " 1   open               393 non-null    float64\n",
            " 2   high               393 non-null    float64\n",
            " 3   low                393 non-null    float64\n",
            " 4   close              393 non-null    float64\n",
            " 5   volume             393 non-null    float64\n",
            " 6   amount             393 non-null    float64\n",
            " 7   outstanding_share  393 non-null    float64\n",
            " 8   turnover           393 non-null    float64\n",
            "dtypes: float64(8), object(1)\n",
            "memory usage: 27.8+ KB\n"
          ]
        },
        {
          "output_type": "display_data",
          "data": {
            "text/plain": [
              "None"
            ]
          },
          "metadata": {}
        }
      ]
    },
    {
      "cell_type": "markdown",
      "metadata": {
        "id": "fd9c2414"
      },
      "source": [
        "## 数据清洗\n"
      ]
    },
    {
      "cell_type": "markdown",
      "source": [
        "日期处理、特征选择和使用 PyTorch 进行标准化。"
      ],
      "metadata": {
        "id": "SgzjoGNpKzXj"
      }
    },
    {
      "cell_type": "code",
      "metadata": {
        "colab": {
          "base_uri": "https://localhost:8080/"
        },
        "id": "77261377-3570-49c0-b8a6-b2f05b647517",
        "outputId": "3d330961-5c62-4510-831b-da99e2a7b41d"
      },
      "source": [
        "import torch\n",
        "import numpy as np\n",
        "\n",
        "# 将 'date' 列转换为日期时间格式并设置为索引\n",
        "df['date'] = pd.to_datetime(df['date'])\n",
        "df.set_index('date', inplace=True)\n",
        "\n",
        "# 选择用于预测的特征，例如 'open', 'close', 'high', 'low', 'volume'\n",
        "features = ['open', 'close', 'high', 'low', 'volume']\n",
        "data = df[features].values\n",
        "\n",
        "# 将 numpy 数组转换为 PyTorch 张量\n",
        "data_tensor = torch.tensor(data, dtype=torch.float32)\n",
        "\n",
        "# 使用 PyTorch 进行标准化处理 (MinMaxScaler 的 PyTorch 实现)\n",
        "# 计算最小值和最大值\n",
        "min_vals = torch.min(data_tensor, dim=0)[0]\n",
        "max_vals = torch.max(data_tensor, dim=0)[0]\n",
        "\n",
        "# 应用标准化公式: (x - min) / (max - min)\n",
        "scaled_data = (data_tensor - min_vals) / (max_vals - min_vals)\n",
        "\n",
        "\n",
        "# 打印处理后的数据形状和前几行\n",
        "print(\"标准化后的数据形状:\", scaled_data.shape)\n",
        "print(\"\\n标准化后的数据前5行:\")\n",
        "print(scaled_data[:5])"
      ],
      "execution_count": 6,
      "outputs": [
        {
          "output_type": "stream",
          "name": "stdout",
          "text": [
            "标准化后的数据形状: torch.Size([393, 5])\n",
            "\n",
            "标准化后的数据前5行:\n",
            "tensor([[0.4161, 0.3643, 0.4048, 0.4395, 0.1352],\n",
            "        [0.3270, 0.3595, 0.3435, 0.4158, 0.0937],\n",
            "        [0.3227, 0.3024, 0.3063, 0.3474, 0.1167],\n",
            "        [0.2696, 0.3071, 0.2998, 0.3500, 0.1118],\n",
            "        [0.2803, 0.2810, 0.2713, 0.3447, 0.0595]])\n"
          ]
        }
      ]
    },
    {
      "cell_type": "markdown",
      "source": [
        "* dim=0\n",
        "\n",
        "  * 维度上计算最小值。\n",
        "  * 解释：\n",
        "\n",
        "    * dim=0 表示在第一个维度（即列方向）上计算最小值。\n",
        "    * 如果 data_tensor 是二维的，比如：\n",
        "      ```\n",
        "      [[1, 5, 3],\n",
        "      [2, 4, 6]]\n",
        "      ```\n",
        "    那么 torch.min(data_tensor, dim=0) 会在每一列上找最小值，结果是 [1, 4, 3]。\n",
        "\n",
        "\n",
        "\n",
        "\n"
      ],
      "metadata": {
        "id": "cXQ5I48gHVG_"
      }
    },
    {
      "cell_type": "markdown",
      "source": [
        "* [0]\n",
        "\n",
        "    * 含义：torch.min() 返回两个值：最小值和最小值的索引。[0] 表示只取最小值，不取索引。\n",
        "    * 举例：\n",
        "    如果 torch.min(data_tensor, dim=0) 返回 (tensor([1, 4, 3]), tensor([0, 1, 0]))，那么 [0] 就只取 tensor([1, 4, 3])。"
      ],
      "metadata": {
        "id": "ZsjuXmaBH_Rf"
      }
    },
    {
      "cell_type": "markdown",
      "source": [
        "代码的作用是：在 data_tensor 的第 0 维（即每一列）上找最小值，并把结果存储在 min_vals 中。\n",
        "\n",
        "如果 data_tensor 是一维的，比如 [1, 3, 2, 5, 4]，那么 min_vals 就是 1。\n",
        "如果 data_tensor 是二维的，比如上面的例子，那么 min_vals 就是 [1, 4, 3]。"
      ],
      "metadata": {
        "id": "sj2rnjs0ILF9"
      }
    },
    {
      "cell_type": "markdown",
      "source": [
        "## 创建用于 LSTM 模型训练的时间序列数据"
      ],
      "metadata": {
        "id": "IgWQZ2qVNMjn"
      }
    },
    {
      "cell_type": "code",
      "metadata": {
        "colab": {
          "base_uri": "https://localhost:8080/"
        },
        "id": "85def6aa",
        "outputId": "9bdbf1a5-9089-4ad6-c3c2-4ed09e27bb72"
      },
      "source": [
        "# 创建序列数据\n",
        "def create_sequences(data, seq_length):\n",
        "    \"\"\"\n",
        "    创建时间序列的输入和输出序列。\n",
        "\n",
        "    Args:\n",
        "        data (torch.Tensor): 标准化后的数据张量。\n",
        "        seq_length (int): 输入序列的长度（look-back window）。\n",
        "\n",
        "    Returns:\n",
        "        tuple: 包含输入序列和输出序列的张量。\n",
        "    \"\"\"\n",
        "    xs = []\n",
        "    ys = []\n",
        "    for i in range(len(data) - seq_length):\n",
        "        x = data[i:(i + seq_length)]\n",
        "        y = data[i + seq_length, 0]  # 预测下一个交易日的开盘价\n",
        "        xs.append(x)\n",
        "        ys.append(y)\n",
        "    return torch.stack(xs), torch.stack(ys)\n",
        "\n",
        "# 设置序列长度 (可以根据需要调整)\n",
        "seq_length = 60\n",
        "\n",
        "# 创建训练数据和标签\n",
        "X, y = create_sequences(scaled_data, seq_length)\n",
        "\n",
        "# 打印序列数据形状\n",
        "print(\"输入序列形状:\", X.shape)\n",
        "print(\"输出序列形状:\", y.shape)"
      ],
      "execution_count": 7,
      "outputs": [
        {
          "output_type": "stream",
          "name": "stdout",
          "text": [
            "输入序列形状: torch.Size([333, 60, 5])\n",
            "输出序列形状: torch.Size([333])\n"
          ]
        }
      ]
    },
    {
      "cell_type": "markdown",
      "source": [
        "### 2/8拆分训练和检验数据"
      ],
      "metadata": {
        "id": "YceP4NB_Poh0"
      }
    },
    {
      "cell_type": "code",
      "metadata": {
        "colab": {
          "base_uri": "https://localhost:8080/"
        },
        "id": "e045af5c",
        "outputId": "77a0622f-6df2-4076-ba21-be7fd98f5a3a"
      },
      "source": [
        "# 划分训练集和测试集\n",
        "train_size = int(len(X) * 0.8)  # 80% 的数据用于训练\n",
        "test_size = len(X) - train_size\n",
        "X_train, X_test = X[:train_size], X[train_size:]\n",
        "y_train, y_test = y[:train_size], y[train_size:]\n",
        "\n",
        "# 打印训练集和测试集的形状\n",
        "print(\"训练集输入形状:\", X_train.shape)\n",
        "print(\"训练集输出形状:\", y_train.shape)\n",
        "print(\"测试集输入形状:\", X_test.shape)\n",
        "print(\"测试集输出形状:\", y_test.shape)"
      ],
      "execution_count": 8,
      "outputs": [
        {
          "output_type": "stream",
          "name": "stdout",
          "text": [
            "训练集输入形状: torch.Size([266, 60, 5])\n",
            "训练集输出形状: torch.Size([266])\n",
            "测试集输入形状: torch.Size([67, 60, 5])\n",
            "测试集输出形状: torch.Size([67])\n"
          ]
        }
      ]
    },
    {
      "cell_type": "markdown",
      "source": [
        "## 构建PyTorch LSTM 模型"
      ],
      "metadata": {
        "id": "01dkDpWZNq7N"
      }
    },
    {
      "cell_type": "code",
      "metadata": {
        "colab": {
          "base_uri": "https://localhost:8080/"
        },
        "id": "44866b0d",
        "outputId": "69dbf591-1270-4483-9c37-d05479c3c283"
      },
      "source": [
        "import torch.nn as nn\n",
        "\n",
        "# 定义 LSTM 模型\n",
        "class StockPredictor(nn.Module):\n",
        "    def __init__(self, input_size, hidden_layer_size, output_size):\n",
        "        super().__init__()\n",
        "        self.hidden_layer_size = hidden_layer_size\n",
        "        # batch_first=True 表示输入和输出张量的第一个维度是批次大小\n",
        "        self.lstm = nn.LSTM(input_size, hidden_layer_size, batch_first=True)\n",
        "        self.linear = nn.Linear(hidden_layer_size, output_size)\n",
        "        # hidden_cell 的形状应该是 (num_layers, batch_size, hidden_size)\n",
        "        # 在这里，num_layers=1\n",
        "        self.hidden_cell = (torch.zeros(1, 1, self.hidden_layer_size),\n",
        "                            torch.zeros(1, 1, self.hidden_layer_size))\n",
        "\n",
        "    def forward(self, input_seq):\n",
        "        # input_seq 的形状是 (batch_size, seq_length, input_size)\n",
        "        # 如果 batch_first=True, LSTM 期望的输入形状就是这样\n",
        "        # lstm_out 的形状将是 (batch_size, seq_length, hidden_size)\n",
        "        lstm_out, self.hidden_cell = self.lstm(input_seq, self.hidden_cell)\n",
        "        # 我们只关心序列的最后一个时间步的输出\n",
        "        # lstm_out[:, -1, :] 的形状是 (batch_size, hidden_size)\n",
        "        predictions = self.linear(lstm_out[:, -1, :])\n",
        "        return predictions # 返回所有批次的预测结果\n",
        "\n",
        "# 设置模型参数\n",
        "input_size = len(features)  # 输入特征的数量\n",
        "hidden_layer_size = 100     # LSTM隐藏层大小\n",
        "output_size = 1             # 预测输出大小 (开盘价)\n",
        "\n",
        "# 实例化模型\n",
        "model = StockPredictor(input_size, hidden_layer_size, output_size)\n",
        "\n",
        "print(\"模型构建完成:\")\n",
        "print(model)"
      ],
      "execution_count": 11,
      "outputs": [
        {
          "output_type": "stream",
          "name": "stdout",
          "text": [
            "模型构建完成:\n",
            "StockPredictor(\n",
            "  (lstm): LSTM(5, 100, batch_first=True)\n",
            "  (linear): Linear(in_features=100, out_features=1, bias=True)\n",
            ")\n"
          ]
        }
      ]
    },
    {
      "cell_type": "markdown",
      "source": [
        "## 使用训练数据对模型进行了训练"
      ],
      "metadata": {
        "id": "z6dDQ4bp34Zz"
      }
    },
    {
      "cell_type": "code",
      "metadata": {
        "colab": {
          "base_uri": "https://localhost:8080/"
        },
        "id": "3a7c30ce",
        "outputId": "02f43a71-70ef-4d98-8dfc-a84a4d9e4ea4"
      },
      "source": [
        "import torch.optim as optim\n",
        "\n",
        "# 定义损失函数和优化器\n",
        "loss_function = nn.MSELoss()\n",
        "optimizer = optim.Adam(model.parameters(), lr=0.001)\n",
        "\n",
        "# 设置训练参数\n",
        "epochs = 100  # 训练轮数\n",
        "\n",
        "# 将模型设置为训练模式\n",
        "model.train()\n",
        "\n",
        "# 训练模型\n",
        "print(\"开始训练模型...\")\n",
        "for i in range(epochs):\n",
        "    # 清除之前的梯度\n",
        "    optimizer.zero_grad()\n",
        "\n",
        "    # 初始化隐藏状态，批量大小与输入数据匹配\n",
        "    # X_train 的形状是 (batch_size, seq_length, input_size)\n",
        "    batch_size = X_train.size(0)\n",
        "    model.hidden_cell = (torch.zeros(1, batch_size, model.hidden_layer_size),\n",
        "                        torch.zeros(1, batch_size, model.hidden_layer_size))\n",
        "\n",
        "\n",
        "    # 进行前向传播\n",
        "    y_pred = model(X_train)\n",
        "\n",
        "    # 计算损失\n",
        "    # y_pred 的形状是 (batch_size, output_size)，y_train 的形状是 (batch_size)\n",
        "    # 使用 squeeze() 移除 y_pred 的最后一个维度以匹配 y_train 的形状\n",
        "    single_loss = loss_function(y_pred.squeeze(), y_train)\n",
        "\n",
        "\n",
        "    # 进行反向传播和优化\n",
        "    single_loss.backward()\n",
        "    optimizer.step()\n",
        "\n",
        "    # 打印训练信息\n",
        "    if i % 10 == 1:\n",
        "        print(f'Epoch: {i:3} Loss: {single_loss.item():10.8f}')\n",
        "\n",
        "print(\"模型训练完成。\")"
      ],
      "execution_count": 12,
      "outputs": [
        {
          "output_type": "stream",
          "name": "stdout",
          "text": [
            "开始训练模型...\n",
            "Epoch:   1 Loss: 0.08930177\n",
            "Epoch:  11 Loss: 0.02523294\n",
            "Epoch:  21 Loss: 0.01505627\n",
            "Epoch:  31 Loss: 0.00843024\n",
            "Epoch:  41 Loss: 0.00604849\n",
            "Epoch:  51 Loss: 0.00541050\n",
            "Epoch:  61 Loss: 0.00463778\n",
            "Epoch:  71 Loss: 0.00433428\n",
            "Epoch:  81 Loss: 0.00404979\n",
            "Epoch:  91 Loss: 0.00385210\n",
            "模型训练完成。\n"
          ]
        }
      ]
    },
    {
      "cell_type": "markdown",
      "source": [
        "## 在测试集上评估了模型的性能，并进行了股票开盘价的预测。"
      ],
      "metadata": {
        "id": "nUEqAHIT4C8H"
      }
    },
    {
      "cell_type": "code",
      "metadata": {
        "colab": {
          "base_uri": "https://localhost:8080/"
        },
        "id": "8c6f5b0a",
        "outputId": "d0cc00f4-5c64-4d9f-d168-2bbd6467a20b"
      },
      "source": [
        "# 将模型设置为评估模式\n",
        "model.eval()\n",
        "\n",
        "# 使用 torch.no_grad() 禁用梯度计算，以加速评估\n",
        "with torch.no_grad():\n",
        "    # 初始化隐藏状态，批量大小与测试数据匹配\n",
        "    # X_test 的形状是 (batch_size, seq_length, input_size)\n",
        "    batch_size_test = X_test.size(0)\n",
        "    model.hidden_cell = (torch.zeros(1, batch_size_test, model.hidden_layer_size),\n",
        "                        torch.zeros(1, batch_size_test, model.hidden_layer_size))\n",
        "\n",
        "    # 在测试集上进行预测\n",
        "    y_test_pred = model(X_test)\n",
        "\n",
        "    # 计算测试集上的损失 (可选)\n",
        "    test_loss = loss_function(y_test_pred.squeeze(), y_test)\n",
        "    print(f\"测试集上的损失: {test_loss.item():10.8f}\")\n",
        "\n",
        "# 由于预测结果是标准化的，我们需要将其反标准化回原始比例\n",
        "# 注意：这里的反标准化需要使用原始数据的 min_vals 和 max_vals\n",
        "# 我们需要确保这些值在测试阶段仍然可用。\n",
        "# 为了简化，我们假设 min_vals 和 max_vals 已经被保存或者可以重新计算 (虽然重新计算不严谨)\n",
        "# 在实际应用中，您应该保存训练时使用的 scaler 或 min/max 值\n",
        "# 这里为了演示，我们使用之前计算的 min_vals 和 max_vals\n",
        "# 预测的是开盘价，对应features列表中的第一个特征\n",
        "predicted_opens_scaled = y_test_pred.squeeze()\n",
        "# 获取开盘价特征的最小值和最大值\n",
        "open_min = min_vals[0]\n",
        "open_max = max_vals[0]\n",
        "\n",
        "# 反标准化预测的开盘价\n",
        "predicted_opens = predicted_opens_scaled * (open_max - open_min) + open_min\n",
        "\n",
        "# 将实际测试集的开盘价也反标准化，以便进行比较\n",
        "actual_opens_scaled = y_test\n",
        "actual_opens = actual_opens_scaled * (open_max - open_min) + open_min\n",
        "\n",
        "\n",
        "# 打印预测结果和实际结果的前几项\n",
        "print(\"\\n预测的开盘价 (前5项):\")\n",
        "print(predicted_opens[:5])\n",
        "print(\"\\n实际的开盘价 (前5项):\")\n",
        "print(actual_opens[:5])"
      ],
      "execution_count": 13,
      "outputs": [
        {
          "output_type": "stream",
          "name": "stdout",
          "text": [
            "测试集上的损失: 0.00054843\n",
            "\n",
            "预测的开盘价 (前5项):\n",
            "tensor([8.3234, 8.3196, 8.3006, 8.2796, 8.2671])\n",
            "\n",
            "实际的开盘价 (前5项):\n",
            "tensor([8.2900, 8.3100, 8.2600, 8.2600, 8.2800])\n"
          ]
        }
      ]
    },
    {
      "cell_type": "code",
      "metadata": {
        "colab": {
          "base_uri": "https://localhost:8080/",
          "height": 1000
        },
        "id": "3679f623",
        "outputId": "bf10cf18-114a-45e6-cc9f-24954b37ec05"
      },
      "source": [
        "import matplotlib.pyplot as plt\n",
        "import matplotlib as mpl\n",
        "\n",
        "# 配置matplotlib支持中文\n",
        "mpl.rcParams['font.sans-serif'] = ['SimHei']  # 指定默认字体为黑体\n",
        "mpl.rcParams['axes.unicode_minus'] = False  # 解决保存图像时负号'-'显示为方块的问题\n",
        "\n",
        "# 创建一个包含实际价格和预测价格的 DataFrame\n",
        "# 为了正确对齐，我们需要测试集的日期索引\n",
        "# 测试集的日期对应于原始df中从 train_size + seq_length 开始的日期\n",
        "test_dates = df.index[train_size + seq_length:]\n",
        "\n",
        "results_df = pd.DataFrame({'Actual': actual_opens.numpy(), 'Predicted': predicted_opens.numpy()}, index=test_dates)\n",
        "\n",
        "# 绘制实际价格和预测价格的折线图\n",
        "plt.figure(figsize=(12, 6))\n",
        "plt.plot(results_df.index, results_df['Actual'], label='Actual Price')\n",
        "plt.plot(results_df.index, results_df['Predicted'], label='Predicted Price')\n",
        "plt.title('股票价格预测')\n",
        "plt.xlabel('日期')\n",
        "plt.ylabel('价格')\n",
        "plt.legend()\n",
        "plt.show()"
      ],
      "execution_count": 15,
      "outputs": [
        {
          "output_type": "stream",
          "name": "stderr",
          "text": [
            "WARNING:matplotlib.font_manager:findfont: Generic family 'sans-serif' not found because none of the following families were found: SimHei\n",
            "WARNING:matplotlib.font_manager:findfont: Generic family 'sans-serif' not found because none of the following families were found: SimHei\n",
            "WARNING:matplotlib.font_manager:findfont: Generic family 'sans-serif' not found because none of the following families were found: SimHei\n",
            "WARNING:matplotlib.font_manager:findfont: Generic family 'sans-serif' not found because none of the following families were found: SimHei\n",
            "WARNING:matplotlib.font_manager:findfont: Generic family 'sans-serif' not found because none of the following families were found: SimHei\n",
            "WARNING:matplotlib.font_manager:findfont: Generic family 'sans-serif' not found because none of the following families were found: SimHei\n",
            "WARNING:matplotlib.font_manager:findfont: Generic family 'sans-serif' not found because none of the following families were found: SimHei\n",
            "WARNING:matplotlib.font_manager:findfont: Generic family 'sans-serif' not found because none of the following families were found: SimHei\n",
            "WARNING:matplotlib.font_manager:findfont: Generic family 'sans-serif' not found because none of the following families were found: SimHei\n",
            "WARNING:matplotlib.font_manager:findfont: Generic family 'sans-serif' not found because none of the following families were found: SimHei\n",
            "/usr/local/lib/python3.11/dist-packages/IPython/core/pylabtools.py:151: UserWarning: Glyph 20215 (\\N{CJK UNIFIED IDEOGRAPH-4EF7}) missing from font(s) DejaVu Sans.\n",
            "  fig.canvas.print_figure(bytes_io, **kw)\n",
            "/usr/local/lib/python3.11/dist-packages/IPython/core/pylabtools.py:151: UserWarning: Glyph 26684 (\\N{CJK UNIFIED IDEOGRAPH-683C}) missing from font(s) DejaVu Sans.\n",
            "  fig.canvas.print_figure(bytes_io, **kw)\n",
            "WARNING:matplotlib.font_manager:findfont: Generic family 'sans-serif' not found because none of the following families were found: SimHei\n",
            "WARNING:matplotlib.font_manager:findfont: Generic family 'sans-serif' not found because none of the following families were found: SimHei\n",
            "/usr/local/lib/python3.11/dist-packages/IPython/core/pylabtools.py:151: UserWarning: Glyph 32929 (\\N{CJK UNIFIED IDEOGRAPH-80A1}) missing from font(s) DejaVu Sans.\n",
            "  fig.canvas.print_figure(bytes_io, **kw)\n",
            "/usr/local/lib/python3.11/dist-packages/IPython/core/pylabtools.py:151: UserWarning: Glyph 31080 (\\N{CJK UNIFIED IDEOGRAPH-7968}) missing from font(s) DejaVu Sans.\n",
            "  fig.canvas.print_figure(bytes_io, **kw)\n",
            "/usr/local/lib/python3.11/dist-packages/IPython/core/pylabtools.py:151: UserWarning: Glyph 39044 (\\N{CJK UNIFIED IDEOGRAPH-9884}) missing from font(s) DejaVu Sans.\n",
            "  fig.canvas.print_figure(bytes_io, **kw)\n",
            "/usr/local/lib/python3.11/dist-packages/IPython/core/pylabtools.py:151: UserWarning: Glyph 27979 (\\N{CJK UNIFIED IDEOGRAPH-6D4B}) missing from font(s) DejaVu Sans.\n",
            "  fig.canvas.print_figure(bytes_io, **kw)\n",
            "WARNING:matplotlib.font_manager:findfont: Generic family 'sans-serif' not found because none of the following families were found: SimHei\n",
            "WARNING:matplotlib.font_manager:findfont: Generic family 'sans-serif' not found because none of the following families were found: SimHei\n",
            "WARNING:matplotlib.font_manager:findfont: Generic family 'sans-serif' not found because none of the following families were found: SimHei\n",
            "WARNING:matplotlib.font_manager:findfont: Generic family 'sans-serif' not found because none of the following families were found: SimHei\n",
            "WARNING:matplotlib.font_manager:findfont: Generic family 'sans-serif' not found because none of the following families were found: SimHei\n",
            "WARNING:matplotlib.font_manager:findfont: Generic family 'sans-serif' not found because none of the following families were found: SimHei\n",
            "WARNING:matplotlib.font_manager:findfont: Generic family 'sans-serif' not found because none of the following families were found: SimHei\n",
            "WARNING:matplotlib.font_manager:findfont: Generic family 'sans-serif' not found because none of the following families were found: SimHei\n",
            "/usr/local/lib/python3.11/dist-packages/IPython/core/pylabtools.py:151: UserWarning: Glyph 26085 (\\N{CJK UNIFIED IDEOGRAPH-65E5}) missing from font(s) DejaVu Sans.\n",
            "  fig.canvas.print_figure(bytes_io, **kw)\n",
            "/usr/local/lib/python3.11/dist-packages/IPython/core/pylabtools.py:151: UserWarning: Glyph 26399 (\\N{CJK UNIFIED IDEOGRAPH-671F}) missing from font(s) DejaVu Sans.\n",
            "  fig.canvas.print_figure(bytes_io, **kw)\n",
            "WARNING:matplotlib.font_manager:findfont: Generic family 'sans-serif' not found because none of the following families were found: SimHei\n",
            "WARNING:matplotlib.font_manager:findfont: Generic family 'sans-serif' not found because none of the following families were found: SimHei\n",
            "WARNING:matplotlib.font_manager:findfont: Generic family 'sans-serif' not found because none of the following families were found: SimHei\n",
            "WARNING:matplotlib.font_manager:findfont: Generic family 'sans-serif' not found because none of the following families were found: SimHei\n",
            "WARNING:matplotlib.font_manager:findfont: Generic family 'sans-serif' not found because none of the following families were found: SimHei\n",
            "WARNING:matplotlib.font_manager:findfont: Generic family 'sans-serif' not found because none of the following families were found: SimHei\n",
            "WARNING:matplotlib.font_manager:findfont: Generic family 'sans-serif' not found because none of the following families were found: SimHei\n",
            "WARNING:matplotlib.font_manager:findfont: Generic family 'sans-serif' not found because none of the following families were found: SimHei\n",
            "WARNING:matplotlib.font_manager:findfont: Generic family 'sans-serif' not found because none of the following families were found: SimHei\n",
            "WARNING:matplotlib.font_manager:findfont: Generic family 'sans-serif' not found because none of the following families were found: SimHei\n",
            "WARNING:matplotlib.font_manager:findfont: Generic family 'sans-serif' not found because none of the following families were found: SimHei\n",
            "WARNING:matplotlib.font_manager:findfont: Generic family 'sans-serif' not found because none of the following families were found: SimHei\n",
            "WARNING:matplotlib.font_manager:findfont: Generic family 'sans-serif' not found because none of the following families were found: SimHei\n",
            "WARNING:matplotlib.font_manager:findfont: Generic family 'sans-serif' not found because none of the following families were found: SimHei\n",
            "WARNING:matplotlib.font_manager:findfont: Generic family 'sans-serif' not found because none of the following families were found: SimHei\n",
            "WARNING:matplotlib.font_manager:findfont: Generic family 'sans-serif' not found because none of the following families were found: SimHei\n",
            "WARNING:matplotlib.font_manager:findfont: Generic family 'sans-serif' not found because none of the following families were found: SimHei\n",
            "WARNING:matplotlib.font_manager:findfont: Generic family 'sans-serif' not found because none of the following families were found: SimHei\n",
            "WARNING:matplotlib.font_manager:findfont: Generic family 'sans-serif' not found because none of the following families were found: SimHei\n",
            "WARNING:matplotlib.font_manager:findfont: Generic family 'sans-serif' not found because none of the following families were found: SimHei\n",
            "WARNING:matplotlib.font_manager:findfont: Generic family 'sans-serif' not found because none of the following families were found: SimHei\n",
            "WARNING:matplotlib.font_manager:findfont: Generic family 'sans-serif' not found because none of the following families were found: SimHei\n",
            "WARNING:matplotlib.font_manager:findfont: Generic family 'sans-serif' not found because none of the following families were found: SimHei\n",
            "WARNING:matplotlib.font_manager:findfont: Generic family 'sans-serif' not found because none of the following families were found: SimHei\n",
            "WARNING:matplotlib.font_manager:findfont: Generic family 'sans-serif' not found because none of the following families were found: SimHei\n",
            "WARNING:matplotlib.font_manager:findfont: Generic family 'sans-serif' not found because none of the following families were found: SimHei\n",
            "WARNING:matplotlib.font_manager:findfont: Generic family 'sans-serif' not found because none of the following families were found: SimHei\n",
            "WARNING:matplotlib.font_manager:findfont: Generic family 'sans-serif' not found because none of the following families were found: SimHei\n",
            "WARNING:matplotlib.font_manager:findfont: Generic family 'sans-serif' not found because none of the following families were found: SimHei\n",
            "WARNING:matplotlib.font_manager:findfont: Generic family 'sans-serif' not found because none of the following families were found: SimHei\n",
            "WARNING:matplotlib.font_manager:findfont: Generic family 'sans-serif' not found because none of the following families were found: SimHei\n",
            "WARNING:matplotlib.font_manager:findfont: Generic family 'sans-serif' not found because none of the following families were found: SimHei\n",
            "WARNING:matplotlib.font_manager:findfont: Generic family 'sans-serif' not found because none of the following families were found: SimHei\n",
            "WARNING:matplotlib.font_manager:findfont: Generic family 'sans-serif' not found because none of the following families were found: SimHei\n",
            "WARNING:matplotlib.font_manager:findfont: Generic family 'sans-serif' not found because none of the following families were found: SimHei\n",
            "WARNING:matplotlib.font_manager:findfont: Generic family 'sans-serif' not found because none of the following families were found: SimHei\n",
            "WARNING:matplotlib.font_manager:findfont: Generic family 'sans-serif' not found because none of the following families were found: SimHei\n",
            "WARNING:matplotlib.font_manager:findfont: Generic family 'sans-serif' not found because none of the following families were found: SimHei\n",
            "WARNING:matplotlib.font_manager:findfont: Generic family 'sans-serif' not found because none of the following families were found: SimHei\n",
            "WARNING:matplotlib.font_manager:findfont: Generic family 'sans-serif' not found because none of the following families were found: SimHei\n",
            "WARNING:matplotlib.font_manager:findfont: Generic family 'sans-serif' not found because none of the following families were found: SimHei\n",
            "WARNING:matplotlib.font_manager:findfont: Generic family 'sans-serif' not found because none of the following families were found: SimHei\n",
            "WARNING:matplotlib.font_manager:findfont: Generic family 'sans-serif' not found because none of the following families were found: SimHei\n",
            "WARNING:matplotlib.font_manager:findfont: Generic family 'sans-serif' not found because none of the following families were found: SimHei\n",
            "WARNING:matplotlib.font_manager:findfont: Generic family 'sans-serif' not found because none of the following families were found: SimHei\n",
            "WARNING:matplotlib.font_manager:findfont: Generic family 'sans-serif' not found because none of the following families were found: SimHei\n",
            "WARNING:matplotlib.font_manager:findfont: Generic family 'sans-serif' not found because none of the following families were found: SimHei\n",
            "WARNING:matplotlib.font_manager:findfont: Generic family 'sans-serif' not found because none of the following families were found: SimHei\n",
            "WARNING:matplotlib.font_manager:findfont: Generic family 'sans-serif' not found because none of the following families were found: SimHei\n",
            "WARNING:matplotlib.font_manager:findfont: Generic family 'sans-serif' not found because none of the following families were found: SimHei\n",
            "WARNING:matplotlib.font_manager:findfont: Generic family 'sans-serif' not found because none of the following families were found: SimHei\n",
            "WARNING:matplotlib.font_manager:findfont: Generic family 'sans-serif' not found because none of the following families were found: SimHei\n",
            "WARNING:matplotlib.font_manager:findfont: Generic family 'sans-serif' not found because none of the following families were found: SimHei\n",
            "WARNING:matplotlib.font_manager:findfont: Generic family 'sans-serif' not found because none of the following families were found: SimHei\n",
            "WARNING:matplotlib.font_manager:findfont: Generic family 'sans-serif' not found because none of the following families were found: SimHei\n",
            "WARNING:matplotlib.font_manager:findfont: Generic family 'sans-serif' not found because none of the following families were found: SimHei\n",
            "WARNING:matplotlib.font_manager:findfont: Generic family 'sans-serif' not found because none of the following families were found: SimHei\n",
            "WARNING:matplotlib.font_manager:findfont: Generic family 'sans-serif' not found because none of the following families were found: SimHei\n",
            "WARNING:matplotlib.font_manager:findfont: Generic family 'sans-serif' not found because none of the following families were found: SimHei\n",
            "WARNING:matplotlib.font_manager:findfont: Generic family 'sans-serif' not found because none of the following families were found: SimHei\n",
            "WARNING:matplotlib.font_manager:findfont: Generic family 'sans-serif' not found because none of the following families were found: SimHei\n",
            "WARNING:matplotlib.font_manager:findfont: Generic family 'sans-serif' not found because none of the following families were found: SimHei\n",
            "WARNING:matplotlib.font_manager:findfont: Generic family 'sans-serif' not found because none of the following families were found: SimHei\n",
            "WARNING:matplotlib.font_manager:findfont: Generic family 'sans-serif' not found because none of the following families were found: SimHei\n",
            "WARNING:matplotlib.font_manager:findfont: Generic family 'sans-serif' not found because none of the following families were found: SimHei\n",
            "WARNING:matplotlib.font_manager:findfont: Generic family 'sans-serif' not found because none of the following families were found: SimHei\n"
          ]
        },
        {
          "output_type": "display_data",
          "data": {
            "text/plain": [
              "<Figure size 1200x600 with 1 Axes>"
            ],
            "image/png": "[encoded data removed]"
          },
          "metadata": {}
        }
      ]
    },
    {
      "cell_type": "code",
      "metadata": {
        "colab": {
          "base_uri": "https://localhost:8080/"
        },
        "id": "71d26948",
        "outputId": "958d9358-8ce5-46e1-c94a-77ae39c8d7d3"
      },
      "source": [
        "# 安装wqy-zenhei字体\n",
        "!apt-get update\n",
        "!apt-get install -y fonts-wqy-zenhei"
      ],
      "execution_count": 16,
      "outputs": [
        {
          "output_type": "stream",
          "name": "stdout",
          "text": [
            "\r0% [Working]\r            \rGet:1 https://cloud.r-project.org/bin/linux/ubuntu jammy-cran40/ InRelease [3,632 B]\n",
            "Get:2 https://developer.download.nvidia.com/compute/cuda/repos/ubuntu2204/x86_64  InRelease [1,581 B]\n",
            "Hit:3 https://cli.github.com/packages stable InRelease\n",
            "Get:4 https://developer.download.nvidia.com/compute/cuda/repos/ubuntu2204/x86_64  Packages [1,937 kB]\n",
            "Hit:5 http://archive.ubuntu.com/ubuntu jammy InRelease\n",
            "Get:6 http://security.ubuntu.com/ubuntu jammy-security InRelease [129 kB]\n",
            "Get:7 http://archive.ubuntu.com/ubuntu jammy-updates InRelease [128 kB]\n",
            "Hit:8 https://r2u.stat.illinois.edu/ubuntu jammy InRelease\n",
            "Get:9 https://ppa.launchpadcontent.net/deadsnakes/ppa/ubuntu jammy InRelease [18.1 kB]\n",
            "Get:10 http://archive.ubuntu.com/ubuntu jammy-backports InRelease [127 kB]\n",
            "Get:11 http://security.ubuntu.com/ubuntu jammy-security/universe amd64 Packages [1,271 kB]\n",
            "Hit:12 https://ppa.launchpadcontent.net/graphics-drivers/ppa/ubuntu jammy InRelease\n",
            "Get:13 http://archive.ubuntu.com/ubuntu jammy-updates/main amd64 Packages [3,521 kB]\n",
            "Hit:14 https://ppa.launchpadcontent.net/ubuntugis/ppa/ubuntu jammy InRelease\n",
            "Get:15 https://ppa.launchpadcontent.net/deadsnakes/ppa/ubuntu jammy/main amd64 Packages [33.2 kB]\n",
            "Get:16 http://security.ubuntu.com/ubuntu jammy-security/main amd64 Packages [3,209 kB]\n",
            "Get:17 http://archive.ubuntu.com/ubuntu jammy-updates/universe amd64 Packages [1,575 kB]\n",
            "Fetched 12.0 MB in 3s (3,490 kB/s)\n",
            "Reading package lists... Done\n",
            "W: Skipping acquire of configured file 'main/source/Sources' as repository 'https://r2u.stat.illinois.edu/ubuntu jammy InRelease' does not seem to provide it (sources.list entry misspelt?)\n",
            "Reading package lists... Done\n",
            "Building dependency tree... Done\n",
            "Reading state information... Done\n",
            "The following NEW packages will be installed:\n",
            "  fonts-wqy-zenhei\n",
            "0 upgraded, 1 newly installed, 0 to remove and 35 not upgraded.\n",
            "Need to get 7,472 kB of archives.\n",
            "After this operation, 16.8 MB of additional disk space will be used.\n",
            "Get:1 http://archive.ubuntu.com/ubuntu jammy/universe amd64 fonts-wqy-zenhei all 0.9.45-8 [7,472 kB]\n",
            "Fetched 7,472 kB in 2s (3,193 kB/s)\n",
            "Selecting previously unselected package fonts-wqy-zenhei.\n",
            "(Reading database ... 126380 files and directories currently installed.)\n",
            "Preparing to unpack .../fonts-wqy-zenhei_0.9.45-8_all.deb ...\n",
            "Unpacking fonts-wqy-zenhei (0.9.45-8) ...\n",
            "Setting up fonts-wqy-zenhei (0.9.45-8) ...\n",
            "Processing triggers for fontconfig (2.13.1-4.2ubuntu5) ...\n"
          ]
        }
      ]
    },
    {
      "cell_type": "code",
      "metadata": {
        "colab": {
          "base_uri": "https://localhost:8080/",
          "height": 176
        },
        "id": "ee097461",
        "outputId": "bd7e8505-c417-4561-9c67-581d6cf6c743"
      },
      "source": [
        "# 更新matplotlib字体缓存\n",
        "import matplotlib.font_manager as fm\n",
        "fm._rebuild()"
      ],
      "execution_count": 17,
      "outputs": [
        {
          "output_type": "error",
          "ename": "AttributeError",
          "evalue": "module 'matplotlib.font_manager' has no attribute '_rebuild'",
          "traceback": [
            "\u001b[0;31m---------------------------------------------------------------------------\u001b[0m",
            "\u001b[0;31mAttributeError\u001b[0m                            Traceback (most recent call last)",
            "\u001b[0;32m/tmp/ipython-input-1881418708.py\u001b[0m in \u001b[0;36m<cell line: 0>\u001b[0;34m()\u001b[0m\n\u001b[1;32m      1\u001b[0m \u001b[0;31m# 更新matplotlib字体缓存\u001b[0m\u001b[0;34m\u001b[0m\u001b[0;34m\u001b[0m\u001b[0m\n\u001b[1;32m      2\u001b[0m \u001b[0;32mimport\u001b[0m \u001b[0mmatplotlib\u001b[0m\u001b[0;34m.\u001b[0m\u001b[0mfont_manager\u001b[0m \u001b[0;32mas\u001b[0m \u001b[0mfm\u001b[0m\u001b[0;34m\u001b[0m\u001b[0;34m\u001b[0m\u001b[0m\n\u001b[0;32m----> 3\u001b[0;31m \u001b[0mfm\u001b[0m\u001b[0;34m.\u001b[0m\u001b[0m_rebuild\u001b[0m\u001b[0;34m(\u001b[0m\u001b[0;34m)\u001b[0m\u001b[0;34m\u001b[0m\u001b[0;34m\u001b[0m\u001b[0m\n\u001b[0m",
            "\u001b[0;31mAttributeError\u001b[0m: module 'matplotlib.font_manager' has no attribute '_rebuild'"
          ]
        }
      ]
    },
    {
      "cell_type": "code",
      "metadata": {
        "colab": {
          "base_uri": "https://localhost:8080/",
          "height": 1000
        },
        "id": "10cccb5a",
        "outputId": "e8fd3b13-4d7a-413a-d91d-c83124544856"
      },
      "source": [
        "import matplotlib as mpl\n",
        "import matplotlib.pyplot as plt\n",
        "import os\n",
        "import matplotlib.font_manager as fm\n",
        "\n",
        "# 删除字体缓存文件 (如果存在)\n",
        "cache_dir = mpl.get_cachedir()\n",
        "# 查找所有可能的fontlist.json文件版本\n",
        "cache_files = [f for f in os.listdir(cache_dir) if f.startswith('fontlist-v') and f.endswith('.json')]\n",
        "for cache_file in cache_files:\n",
        "    cache_path = os.path.join(cache_dir, cache_file)\n",
        "    try:\n",
        "        os.remove(cache_path)\n",
        "        print(f\"Removed font cache file: {cache_path}\")\n",
        "    except OSError as e:\n",
        "        print(f\"Error removing file {cache_path}: {e}\")\n",
        "\n",
        "\n",
        "# 指定中文字体文件路径\n",
        "chinese_font_path = '/usr/share/fonts/truetype/wqy/wqy-zenhei.ttc'\n",
        "\n",
        "# 创建字体属性\n",
        "font_prop = fm.FontProperties(fname=chinese_font_path)\n",
        "\n",
        "# 尝试设置全局字体\n",
        "plt.rcParams['font.family'] = font_prop.get_name()\n",
        "plt.rcParams['axes.unicode_minus'] = False  # 解决保存图像时负号'-'显示为方块的问题\n",
        "\n",
        "\n",
        "# 创建一个包含实际价格和预测价格的 DataFrame\n",
        "# 为了正确对齐，我们需要测试集的日期索引\n",
        "# 测试集的日期对应于原始df中从 train_size + seq_length 开始的日期\n",
        "test_dates = df.index[train_size + seq_length:]\n",
        "\n",
        "results_df = pd.DataFrame({'Actual': actual_opens.numpy(), 'Predicted': predicted_opens.numpy()}, index=test_dates)\n",
        "\n",
        "# 绘制实际价格和预测价格的折线图\n",
        "plt.figure(figsize=(12, 6))\n",
        "plt.plot(results_df.index, results_df['Actual'], label='Actual Price')\n",
        "plt.plot(results_df.index, results_df['Predicted'], label='Predicted Price')\n",
        "plt.title('股票价格预测') # 直接使用字符串，因为全局字体已设置\n",
        "plt.xlabel('日期')      # 直接使用字符串，因为全局字体已设置\n",
        "plt.ylabel('价格')      # 直接使用字符串，因为全局字体已设置\n",
        "plt.legend()\n",
        "plt.show()"
      ],
      "execution_count": 21,
      "outputs": [
        {
          "output_type": "stream",
          "name": "stderr",
          "text": [
            "WARNING:matplotlib.font_manager:findfont: Font family 'WenQuanYi Zen Hei' not found.\n",
            "WARNING:matplotlib.font_manager:findfont: Font family 'WenQuanYi Zen Hei' not found.\n",
            "WARNING:matplotlib.font_manager:findfont: Font family 'WenQuanYi Zen Hei' not found.\n",
            "WARNING:matplotlib.font_manager:findfont: Font family 'WenQuanYi Zen Hei' not found.\n",
            "WARNING:matplotlib.font_manager:findfont: Font family 'WenQuanYi Zen Hei' not found.\n",
            "WARNING:matplotlib.font_manager:findfont: Font family 'WenQuanYi Zen Hei' not found.\n",
            "WARNING:matplotlib.font_manager:findfont: Font family 'WenQuanYi Zen Hei' not found.\n",
            "WARNING:matplotlib.font_manager:findfont: Font family 'WenQuanYi Zen Hei' not found.\n",
            "WARNING:matplotlib.font_manager:findfont: Font family 'WenQuanYi Zen Hei' not found.\n",
            "WARNING:matplotlib.font_manager:findfont: Font family 'WenQuanYi Zen Hei' not found.\n",
            "/usr/local/lib/python3.11/dist-packages/IPython/core/pylabtools.py:151: UserWarning: Glyph 20215 (\\N{CJK UNIFIED IDEOGRAPH-4EF7}) missing from font(s) DejaVu Sans.\n",
            "  fig.canvas.print_figure(bytes_io, **kw)\n",
            "/usr/local/lib/python3.11/dist-packages/IPython/core/pylabtools.py:151: UserWarning: Glyph 26684 (\\N{CJK UNIFIED IDEOGRAPH-683C}) missing from font(s) DejaVu Sans.\n",
            "  fig.canvas.print_figure(bytes_io, **kw)\n",
            "WARNING:matplotlib.font_manager:findfont: Font family 'WenQuanYi Zen Hei' not found.\n",
            "WARNING:matplotlib.font_manager:findfont: Font family 'WenQuanYi Zen Hei' not found.\n",
            "/usr/local/lib/python3.11/dist-packages/IPython/core/pylabtools.py:151: UserWarning: Glyph 32929 (\\N{CJK UNIFIED IDEOGRAPH-80A1}) missing from font(s) DejaVu Sans.\n",
            "  fig.canvas.print_figure(bytes_io, **kw)\n",
            "/usr/local/lib/python3.11/dist-packages/IPython/core/pylabtools.py:151: UserWarning: Glyph 31080 (\\N{CJK UNIFIED IDEOGRAPH-7968}) missing from font(s) DejaVu Sans.\n",
            "  fig.canvas.print_figure(bytes_io, **kw)\n",
            "/usr/local/lib/python3.11/dist-packages/IPython/core/pylabtools.py:151: UserWarning: Glyph 39044 (\\N{CJK UNIFIED IDEOGRAPH-9884}) missing from font(s) DejaVu Sans.\n",
            "  fig.canvas.print_figure(bytes_io, **kw)\n",
            "/usr/local/lib/python3.11/dist-packages/IPython/core/pylabtools.py:151: UserWarning: Glyph 27979 (\\N{CJK UNIFIED IDEOGRAPH-6D4B}) missing from font(s) DejaVu Sans.\n",
            "  fig.canvas.print_figure(bytes_io, **kw)\n",
            "WARNING:matplotlib.font_manager:findfont: Font family 'WenQuanYi Zen Hei' not found.\n",
            "WARNING:matplotlib.font_manager:findfont: Font family 'WenQuanYi Zen Hei' not found.\n",
            "WARNING:matplotlib.font_manager:findfont: Font family 'WenQuanYi Zen Hei' not found.\n",
            "WARNING:matplotlib.font_manager:findfont: Font family 'WenQuanYi Zen Hei' not found.\n",
            "WARNING:matplotlib.font_manager:findfont: Font family 'WenQuanYi Zen Hei' not found.\n",
            "WARNING:matplotlib.font_manager:findfont: Font family 'WenQuanYi Zen Hei' not found.\n",
            "WARNING:matplotlib.font_manager:findfont: Font family 'WenQuanYi Zen Hei' not found.\n",
            "WARNING:matplotlib.font_manager:findfont: Font family 'WenQuanYi Zen Hei' not found.\n",
            "/usr/local/lib/python3.11/dist-packages/IPython/core/pylabtools.py:151: UserWarning: Glyph 26085 (\\N{CJK UNIFIED IDEOGRAPH-65E5}) missing from font(s) DejaVu Sans.\n",
            "  fig.canvas.print_figure(bytes_io, **kw)\n",
            "/usr/local/lib/python3.11/dist-packages/IPython/core/pylabtools.py:151: UserWarning: Glyph 26399 (\\N{CJK UNIFIED IDEOGRAPH-671F}) missing from font(s) DejaVu Sans.\n",
            "  fig.canvas.print_figure(bytes_io, **kw)\n",
            "WARNING:matplotlib.font_manager:findfont: Font family 'WenQuanYi Zen Hei' not found.\n",
            "WARNING:matplotlib.font_manager:findfont: Font family 'WenQuanYi Zen Hei' not found.\n",
            "WARNING:matplotlib.font_manager:findfont: Font family 'WenQuanYi Zen Hei' not found.\n",
            "WARNING:matplotlib.font_manager:findfont: Font family 'WenQuanYi Zen Hei' not found.\n",
            "WARNING:matplotlib.font_manager:findfont: Font family 'WenQuanYi Zen Hei' not found.\n",
            "WARNING:matplotlib.font_manager:findfont: Font family 'WenQuanYi Zen Hei' not found.\n",
            "WARNING:matplotlib.font_manager:findfont: Font family 'WenQuanYi Zen Hei' not found.\n",
            "WARNING:matplotlib.font_manager:findfont: Font family 'WenQuanYi Zen Hei' not found.\n",
            "WARNING:matplotlib.font_manager:findfont: Font family 'WenQuanYi Zen Hei' not found.\n",
            "WARNING:matplotlib.font_manager:findfont: Font family 'WenQuanYi Zen Hei' not found.\n",
            "WARNING:matplotlib.font_manager:findfont: Font family 'WenQuanYi Zen Hei' not found.\n",
            "WARNING:matplotlib.font_manager:findfont: Font family 'WenQuanYi Zen Hei' not found.\n",
            "WARNING:matplotlib.font_manager:findfont: Font family 'WenQuanYi Zen Hei' not found.\n",
            "WARNING:matplotlib.font_manager:findfont: Font family 'WenQuanYi Zen Hei' not found.\n",
            "WARNING:matplotlib.font_manager:findfont: Font family 'WenQuanYi Zen Hei' not found.\n",
            "WARNING:matplotlib.font_manager:findfont: Font family 'WenQuanYi Zen Hei' not found.\n",
            "WARNING:matplotlib.font_manager:findfont: Font family 'WenQuanYi Zen Hei' not found.\n",
            "WARNING:matplotlib.font_manager:findfont: Font family 'WenQuanYi Zen Hei' not found.\n",
            "WARNING:matplotlib.font_manager:findfont: Font family 'WenQuanYi Zen Hei' not found.\n",
            "WARNING:matplotlib.font_manager:findfont: Font family 'WenQuanYi Zen Hei' not found.\n",
            "WARNING:matplotlib.font_manager:findfont: Font family 'WenQuanYi Zen Hei' not found.\n",
            "WARNING:matplotlib.font_manager:findfont: Font family 'WenQuanYi Zen Hei' not found.\n",
            "WARNING:matplotlib.font_manager:findfont: Font family 'WenQuanYi Zen Hei' not found.\n",
            "WARNING:matplotlib.font_manager:findfont: Font family 'WenQuanYi Zen Hei' not found.\n",
            "WARNING:matplotlib.font_manager:findfont: Font family 'WenQuanYi Zen Hei' not found.\n",
            "WARNING:matplotlib.font_manager:findfont: Font family 'WenQuanYi Zen Hei' not found.\n",
            "WARNING:matplotlib.font_manager:findfont: Font family 'WenQuanYi Zen Hei' not found.\n",
            "WARNING:matplotlib.font_manager:findfont: Font family 'WenQuanYi Zen Hei' not found.\n",
            "WARNING:matplotlib.font_manager:findfont: Font family 'WenQuanYi Zen Hei' not found.\n",
            "WARNING:matplotlib.font_manager:findfont: Font family 'WenQuanYi Zen Hei' not found.\n",
            "WARNING:matplotlib.font_manager:findfont: Font family 'WenQuanYi Zen Hei' not found.\n",
            "WARNING:matplotlib.font_manager:findfont: Font family 'WenQuanYi Zen Hei' not found.\n",
            "WARNING:matplotlib.font_manager:findfont: Font family 'WenQuanYi Zen Hei' not found.\n",
            "WARNING:matplotlib.font_manager:findfont: Font family 'WenQuanYi Zen Hei' not found.\n",
            "WARNING:matplotlib.font_manager:findfont: Font family 'WenQuanYi Zen Hei' not found.\n",
            "WARNING:matplotlib.font_manager:findfont: Font family 'WenQuanYi Zen Hei' not found.\n",
            "WARNING:matplotlib.font_manager:findfont: Font family 'WenQuanYi Zen Hei' not found.\n",
            "WARNING:matplotlib.font_manager:findfont: Font family 'WenQuanYi Zen Hei' not found.\n",
            "WARNING:matplotlib.font_manager:findfont: Font family 'WenQuanYi Zen Hei' not found.\n",
            "WARNING:matplotlib.font_manager:findfont: Font family 'WenQuanYi Zen Hei' not found.\n",
            "WARNING:matplotlib.font_manager:findfont: Font family 'WenQuanYi Zen Hei' not found.\n",
            "WARNING:matplotlib.font_manager:findfont: Font family 'WenQuanYi Zen Hei' not found.\n",
            "WARNING:matplotlib.font_manager:findfont: Font family 'WenQuanYi Zen Hei' not found.\n",
            "WARNING:matplotlib.font_manager:findfont: Font family 'WenQuanYi Zen Hei' not found.\n",
            "WARNING:matplotlib.font_manager:findfont: Font family 'WenQuanYi Zen Hei' not found.\n",
            "WARNING:matplotlib.font_manager:findfont: Font family 'WenQuanYi Zen Hei' not found.\n",
            "WARNING:matplotlib.font_manager:findfont: Font family 'WenQuanYi Zen Hei' not found.\n",
            "WARNING:matplotlib.font_manager:findfont: Font family 'WenQuanYi Zen Hei' not found.\n",
            "WARNING:matplotlib.font_manager:findfont: Font family 'WenQuanYi Zen Hei' not found.\n",
            "WARNING:matplotlib.font_manager:findfont: Font family 'WenQuanYi Zen Hei' not found.\n",
            "WARNING:matplotlib.font_manager:findfont: Font family 'WenQuanYi Zen Hei' not found.\n",
            "WARNING:matplotlib.font_manager:findfont: Font family 'WenQuanYi Zen Hei' not found.\n",
            "WARNING:matplotlib.font_manager:findfont: Font family 'WenQuanYi Zen Hei' not found.\n",
            "WARNING:matplotlib.font_manager:findfont: Font family 'WenQuanYi Zen Hei' not found.\n",
            "WARNING:matplotlib.font_manager:findfont: Font family 'WenQuanYi Zen Hei' not found.\n",
            "WARNING:matplotlib.font_manager:findfont: Font family 'WenQuanYi Zen Hei' not found.\n",
            "WARNING:matplotlib.font_manager:findfont: Font family 'WenQuanYi Zen Hei' not found.\n",
            "WARNING:matplotlib.font_manager:findfont: Font family 'WenQuanYi Zen Hei' not found.\n",
            "WARNING:matplotlib.font_manager:findfont: Font family 'WenQuanYi Zen Hei' not found.\n",
            "WARNING:matplotlib.font_manager:findfont: Font family 'WenQuanYi Zen Hei' not found.\n",
            "WARNING:matplotlib.font_manager:findfont: Font family 'WenQuanYi Zen Hei' not found.\n",
            "WARNING:matplotlib.font_manager:findfont: Font family 'WenQuanYi Zen Hei' not found.\n",
            "WARNING:matplotlib.font_manager:findfont: Font family 'WenQuanYi Zen Hei' not found.\n",
            "WARNING:matplotlib.font_manager:findfont: Font family 'WenQuanYi Zen Hei' not found.\n",
            "WARNING:matplotlib.font_manager:findfont: Font family 'WenQuanYi Zen Hei' not found.\n",
            "WARNING:matplotlib.font_manager:findfont: Font family 'WenQuanYi Zen Hei' not found.\n"
          ]
        },
        {
          "output_type": "display_data",
          "data": {
            "text/plain": [
              "<Figure size 1200x600 with 1 Axes>"
            ],
            "image/png": "[encoded data removed]"
          },
          "metadata": {}
        }
      ]
    },
    {
      "cell_type": "code",
      "metadata": {
        "colab": {
          "base_uri": "https://localhost:8080/"
        },
        "id": "e747f30c",
        "outputId": "e23a3527-b015-44bd-fc23-70f610393407"
      },
      "source": [
        "import matplotlib.font_manager as fm\n",
        "import matplotlib.pyplot as plt\n",
        "\n",
        "# 查找所有可用的中文字体\n",
        "font_list = fm.findSystemFonts(fontpaths=None, fontext='ttf')\n",
        "\n",
        "chinese_fonts = [f for f in font_list if 'wqy' in f.lower() or 'ukai' in f.lower() or 'gkai' in f.lower() or 'simhei' in f.lower()]\n",
        "\n",
        "print(\"Available Chinese fonts:\")\n",
        "for f in chinese_fonts:\n",
        "    print(f)\n",
        "\n",
        "# 尝试使用找到的字体名称进行配置\n",
        "# 注意：您可能需要根据上面的输出选择一个合适的字体名称\n",
        "# 例如，如果输出中有 '/usr/share/fonts/truetype/wqy/wqy-zenhei.ttf'，\n",
        "# 字体名称可能是 'WenQuanYi Zen Hei' 或 'wqy-zenhei'\n",
        "\n",
        "# 假设我们找到了 'WenQuanYi Zen Hei' 这个名字，您可以尝试取消下面两行的注释\n",
        "# mpl.rcParams['font.sans-serif'] = ['WenQuanYi Zen Hei']\n",
        "# mpl.rcParams['axes.unicode_minus'] = False\n",
        "\n",
        "# 然后重新运行绘图代码\n",
        "# plt.figure(figsize=(12, 6))\n",
        "# plt.plot(results_df.index, results_df['Actual'], label='Actual Price')\n",
        "# plt.plot(results_df.index, results_df['Predicted'], label='Predicted Price')\n",
        "# plt.title('股票价格预测')\n",
        "# plt.xlabel('日期')\n",
        "# plt.ylabel('价格')\n",
        "# plt.legend()\n",
        "# plt.show()"
      ],
      "execution_count": 19,
      "outputs": [
        {
          "output_type": "stream",
          "name": "stdout",
          "text": [
            "Available Chinese fonts:\n",
            "/usr/share/fonts/truetype/wqy/wqy-zenhei.ttc\n"
          ]
        }
      ]
    }
  ]
}