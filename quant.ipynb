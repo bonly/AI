{
  "cells": [
    {
      "cell_type": "markdown",
      "id": "4a462bb7-8c4c-4443-ba4e-f4ec26668c59",
      "metadata": {
        "id": "4a462bb7-8c4c-4443-ba4e-f4ec26668c59"
      },
      "source": [
        "<a href=\"https://colab.research.google.com/github/bonly/AI/blob/main/quant.ipynb\" target=\"_parent\"><img src=\"https://colab.research.google.com/assets/colab-badge.svg\" alt=\"Open In Colab\"/></a>"
      ]
    },
    {
      "cell_type": "code",
      "source": [
        "%pip install akshare --upgrade"
      ],
      "metadata": {
        "id": "UGCh67tIw6-D"
      },
      "id": "UGCh67tIw6-D",
      "execution_count": null,
      "outputs": []
    },
    {
      "cell_type": "code",
      "source": [
        "import akshare as ak;\n",
        "from pprint import pprint;\n",
        "\n",
        "help(ak.stock_zh_index_daily_tx)\n",
        "# pprint(dir(ak.stock_zh_index_daily_tx))\n",
        "# pprint(ak.__dict__)"
      ],
      "metadata": {
        "id": "7j6kuOWqzmgw"
      },
      "id": "7j6kuOWqzmgw",
      "execution_count": null,
      "outputs": []
    },
    {
      "cell_type": "code",
      "source": [
        "\n",
        "his = ak.stock_zh_a_hist(symbol=\"000001\", period=\"daily\", start_date=\"20170301\", end_date='20240528', adjust=\"\");\n",
        "pprint(his.head);\n"
      ],
      "metadata": {
        "id": "mvf7dZZ7yPcG"
      },
      "id": "mvf7dZZ7yPcG",
      "execution_count": null,
      "outputs": []
    },
    {
      "cell_type": "code",
      "source": [
        "minute_df = ak.stock_zh_a_minute(symbol='sh000300', period='5')\n",
        "pprint(minute_df.tail)"
      ],
      "metadata": {
        "id": "wCq0szefBM21"
      },
      "id": "wCq0szefBM21",
      "execution_count": null,
      "outputs": []
    },
    {
      "cell_type": "code",
      "source": [
        "# pprint(dir(ak));\n",
        "data = ak.stock_zh_a_minute(symbol='sh000300', period='1')"
      ],
      "metadata": {
        "id": "eBhwkzQfD3lV"
      },
      "id": "eBhwkzQfD3lV",
      "execution_count": null,
      "outputs": []
    },
    {
      "cell_type": "code",
      "source": [
        "pprint(data);"
      ],
      "metadata": {
        "id": "9KsrOKMyFEFW"
      },
      "id": "9KsrOKMyFEFW",
      "execution_count": null,
      "outputs": []
    },
    {
      "cell_type": "code",
      "source": [
        "import numpy as np\n",
        "# help(np.log);\n",
        "# pprint(dir(data));\n",
        "#np.log(10, data['close']) #以10为底的对数\n",
        "\n",
        "data['r'] = npy.log(np.e, data['close']/data['close'].shift(1)) #以 自然对数 为底的对数\n",
        "cols = []\n",
        "for momentum in [15, 30, 60, 120, 150]:\n",
        "    col = f'p_{momentum}'  #为当前动量周期创建一个列名字符串 f''是格式化字符串\n",
        "    data[col] = np.sign(data['r'].rolling(momentum).mean())  #计算每个滚动窗口内对数收益率的平均值\n",
        "    cols.append(col)\n",
        "\n"
      ],
      "metadata": {
        "colab": {
          "base_uri": "https://localhost:8080/",
          "height": 211
        },
        "id": "asB7CLboLtmM",
        "outputId": "4f78be9e-2126-4f92-a23e-9da7b009de20"
      },
      "id": "asB7CLboLtmM",
      "execution_count": 1,
      "outputs": [
        {
          "output_type": "error",
          "ename": "NameError",
          "evalue": "name 'npy' is not defined",
          "traceback": [
            "\u001b[0;31m---------------------------------------------------------------------------\u001b[0m",
            "\u001b[0;31mNameError\u001b[0m                                 Traceback (most recent call last)",
            "\u001b[0;32m/tmp/ipython-input-1576615381.py\u001b[0m in \u001b[0;36m<cell line: 0>\u001b[0;34m()\u001b[0m\n\u001b[1;32m      4\u001b[0m \u001b[0;31m#np.log(10, data['close']) #以10为底的对数\u001b[0m\u001b[0;34m\u001b[0m\u001b[0;34m\u001b[0m\u001b[0m\n\u001b[1;32m      5\u001b[0m \u001b[0;34m\u001b[0m\u001b[0m\n\u001b[0;32m----> 6\u001b[0;31m \u001b[0mdata\u001b[0m\u001b[0;34m[\u001b[0m\u001b[0;34m'r'\u001b[0m\u001b[0;34m]\u001b[0m \u001b[0;34m=\u001b[0m \u001b[0mnpy\u001b[0m\u001b[0;34m.\u001b[0m\u001b[0mlog\u001b[0m\u001b[0;34m(\u001b[0m\u001b[0mnp\u001b[0m\u001b[0;34m.\u001b[0m\u001b[0me\u001b[0m\u001b[0;34m,\u001b[0m \u001b[0mdata\u001b[0m\u001b[0;34m[\u001b[0m\u001b[0;34m'close'\u001b[0m\u001b[0;34m]\u001b[0m\u001b[0;34m/\u001b[0m\u001b[0mdata\u001b[0m\u001b[0;34m[\u001b[0m\u001b[0;34m'close'\u001b[0m\u001b[0;34m]\u001b[0m\u001b[0;34m.\u001b[0m\u001b[0mshift\u001b[0m\u001b[0;34m(\u001b[0m\u001b[0;36m1\u001b[0m\u001b[0;34m)\u001b[0m\u001b[0;34m)\u001b[0m \u001b[0;31m#以 自然对数 为底的对数\u001b[0m\u001b[0;34m\u001b[0m\u001b[0;34m\u001b[0m\u001b[0m\n\u001b[0m\u001b[1;32m      7\u001b[0m \u001b[0mcols\u001b[0m \u001b[0;34m=\u001b[0m \u001b[0;34m[\u001b[0m\u001b[0;34m]\u001b[0m\u001b[0;34m\u001b[0m\u001b[0;34m\u001b[0m\u001b[0m\n\u001b[1;32m      8\u001b[0m \u001b[0;32mfor\u001b[0m \u001b[0mmomentum\u001b[0m \u001b[0;32min\u001b[0m \u001b[0;34m[\u001b[0m\u001b[0;36m15\u001b[0m\u001b[0;34m,\u001b[0m \u001b[0;36m30\u001b[0m\u001b[0;34m,\u001b[0m \u001b[0;36m60\u001b[0m\u001b[0;34m,\u001b[0m \u001b[0;36m120\u001b[0m\u001b[0;34m,\u001b[0m \u001b[0;36m150\u001b[0m\u001b[0;34m]\u001b[0m\u001b[0;34m:\u001b[0m\u001b[0;34m\u001b[0m\u001b[0;34m\u001b[0m\u001b[0m\n",
            "\u001b[0;31mNameError\u001b[0m: name 'npy' is not defined"
          ]
        }
      ]
    },
    {
      "cell_type": "code",
      "source": [
        "pprint(data.columns)\n",
        "pprint(data)"
      ],
      "metadata": {
        "id": "4Kl-fGIgY1ce"
      },
      "id": "4Kl-fGIgY1ce",
      "execution_count": null,
      "outputs": []
    }
  ],
  "metadata": {
    "kernelspec": {
      "display_name": "Python 3 (ipykernel)",
      "language": "python",
      "name": "python3"
    },
    "language_info": {
      "codemirror_mode": {
        "name": "ipython",
        "version": 3
      },
      "file_extension": ".py",
      "mimetype": "text/x-python",
      "name": "python",
      "nbconvert_exporter": "python",
      "pygments_lexer": "ipython3",
      "version": "3.13.5"
    },
    "colab": {
      "provenance": []
    }
  },
  "nbformat": 4,
  "nbformat_minor": 5
}