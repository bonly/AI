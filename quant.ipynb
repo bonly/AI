{
  "cells": [
    {
      "cell_type": "markdown",
      "metadata": {
        "id": "view-in-github",
        "colab_type": "text"
      },
      "source": [
        "<a href=\"https://colab.research.google.com/github/bonly/AI/blob/main/quant.ipynb\" target=\"_parent\"><img src=\"https://colab.research.google.com/assets/colab-badge.svg\" alt=\"Open In Colab\"/></a>"
      ]
    },
    {
      "cell_type": "markdown",
      "id": "4a462bb7-8c4c-4443-ba4e-f4ec26668c59",
      "metadata": {
        "id": "4a462bb7-8c4c-4443-ba4e-f4ec26668c59"
      },
      "source": [
        "<a href=\"https://colab.research.google.com/github/bonly/AI/blob/main/quant.ipynb\" target=\"_parent\"><img src=\"https://colab.research.google.com/assets/colab-badge.svg\" alt=\"Open In Colab\"/></a>"
      ]
    },
    {
      "cell_type": "code",
      "source": [
        "%pip install akshare --upgrade"
      ],
      "metadata": {
        "id": "UGCh67tIw6-D"
      },
      "id": "UGCh67tIw6-D",
      "execution_count": null,
      "outputs": []
    },
    {
      "cell_type": "code",
      "source": [
        "import akshare as ak;\n",
        "from pprint import pprint;\n",
        "help(ak.stock_zh_index_daily_tx)\n",
        "# pprint(dir(ak.stock_zh_index_daily_tx))\n",
        "# pprint(ak.__dict__)"
      ],
      "metadata": {
        "id": "7j6kuOWqzmgw",
        "outputId": "01ce200b-4f1d-4d29-cb07-0780c4087fa0",
        "colab": {
          "base_uri": "https://localhost:8080/"
        }
      },
      "id": "7j6kuOWqzmgw",
      "execution_count": 20,
      "outputs": [
        {
          "output_type": "stream",
          "name": "stdout",
          "text": [
            "Help on function stock_zh_index_daily_tx in module akshare.index.index_stock_zh:\n",
            "\n",
            "stock_zh_index_daily_tx(symbol: str = 'sz980017') -> pandas.core.frame.DataFrame\n",
            "    腾讯证券-日频-股票或者指数历史数据\n",
            "    作为 ak.stock_zh_index_daily() 的补充, 因为在新浪中有部分指数数据缺失\n",
            "    注意都是: 前复权, 不同网站复权方式不同, 不可混用数据\n",
            "    https://gu.qq.com/sh000919/zs\n",
            "    :param symbol: 带市场标识的股票或者指数代码\n",
            "    :type symbol: str\n",
            "    :return: 前复权的股票和指数数据\n",
            "    :rtype: pandas.DataFrame\n",
            "\n"
          ]
        }
      ]
    },
    {
      "cell_type": "code",
      "source": [
        "\n",
        "his = ak.stock_zh_a_hist(symbol=\"000001\", period=\"daily\", start_date=\"20170301\", end_date='20240528', adjust=\"\");\n",
        "pprint(his.tail);\n"
      ],
      "metadata": {
        "id": "mvf7dZZ7yPcG",
        "outputId": "0c6a0ca3-0007-46c9-8c88-82ba7e0fb7f8",
        "colab": {
          "base_uri": "https://localhost:8080/"
        }
      },
      "id": "mvf7dZZ7yPcG",
      "execution_count": 23,
      "outputs": [
        {
          "output_type": "stream",
          "name": "stdout",
          "text": [
            "<bound method NDFrame.tail of               日期    股票代码     开盘     收盘     最高     最低      成交量           成交额  \\\n",
            "0     2017-03-01  000001   9.49   9.49   9.55   9.47   346994  3.301580e+08   \n",
            "1     2017-03-02  000001   9.51   9.43   9.54   9.42   403629  3.823959e+08   \n",
            "2     2017-03-03  000001   9.41   9.40   9.43   9.36   342655  3.219525e+08   \n",
            "3     2017-03-06  000001   9.40   9.45   9.46   9.39   404511  3.812123e+08   \n",
            "4     2017-03-07  000001   9.44   9.45   9.46   9.40   294673  2.777474e+08   \n",
            "...          ...     ...    ...    ...    ...    ...      ...           ...   \n",
            "1755  2024-05-22  000001  11.56  11.56  11.74  11.46  2115531  2.458449e+09   \n",
            "1756  2024-05-23  000001  11.53  11.40  11.59  11.37  1841623  2.110799e+09   \n",
            "1757  2024-05-24  000001  11.37  11.31  11.49  11.30  1398276  1.593330e+09   \n",
            "1758  2024-05-27  000001  11.31  11.51  11.53  11.31  1454361  1.663272e+09   \n",
            "1759  2024-05-28  000001  11.50  11.40  11.58  11.36  1204323  1.377107e+09   \n",
            "\n",
            "        振幅   涨跌幅   涨跌额   换手率  \n",
            "0     0.84  0.11  0.01  0.21  \n",
            "1     1.26 -0.63 -0.06  0.24  \n",
            "2     0.74 -0.32 -0.03  0.20  \n",
            "3     0.74  0.53  0.05  0.24  \n",
            "4     0.63  0.00  0.00  0.17  \n",
            "...    ...   ...   ...   ...  \n",
            "1755  2.42  0.09  0.01  1.09  \n",
            "1756  1.90 -1.38 -0.16  0.95  \n",
            "1757  1.67 -0.79 -0.09  0.72  \n",
            "1758  1.95  1.77  0.20  0.75  \n",
            "1759  1.91 -0.96 -0.11  0.62  \n",
            "\n",
            "[1760 rows x 12 columns]>\n"
          ]
        }
      ]
    }
  ],
  "metadata": {
    "kernelspec": {
      "display_name": "Python 3 (ipykernel)",
      "language": "python",
      "name": "python3"
    },
    "language_info": {
      "codemirror_mode": {
        "name": "ipython",
        "version": 3
      },
      "file_extension": ".py",
      "mimetype": "text/x-python",
      "name": "python",
      "nbconvert_exporter": "python",
      "pygments_lexer": "ipython3",
      "version": "3.13.5"
    },
    "colab": {
      "provenance": [],
      "include_colab_link": true
    }
  },
  "nbformat": 4,
  "nbformat_minor": 5
}