{
  "cells": [
    {
      "cell_type": "markdown",
      "id": "4a462bb7-8c4c-4443-ba4e-f4ec26668c59",
      "metadata": {
        "id": "4a462bb7-8c4c-4443-ba4e-f4ec26668c59"
      },
      "source": [
        "<a href=\"https://colab.research.google.com/github/bonly/AI/blob/main/quant.ipynb\" target=\"_parent\"><img src=\"https://colab.research.google.com/assets/colab-badge.svg\" alt=\"Open In Colab\"/></a>"
      ]
    },
    {
      "cell_type": "code",
      "source": [
        "%pip install akshare --upgrade"
      ],
      "metadata": {
        "id": "UGCh67tIw6-D"
      },
      "id": "UGCh67tIw6-D",
      "execution_count": null,
      "outputs": []
    },
    {
      "cell_type": "code",
      "source": [
        "import akshare as ak;\n",
        "from pprint import pprint;\n",
        "\n",
        "help(ak.stock_zh_index_daily_tx)\n",
        "# pprint(dir(ak.stock_zh_index_daily_tx))\n",
        "# pprint(ak.__dict__)"
      ],
      "metadata": {
        "id": "7j6kuOWqzmgw"
      },
      "id": "7j6kuOWqzmgw",
      "execution_count": null,
      "outputs": []
    },
    {
      "cell_type": "code",
      "source": [
        "\n",
        "his = ak.stock_zh_a_hist(symbol=\"000001\", period=\"daily\", start_date=\"20170301\", end_date='20240528', adjust=\"\");\n",
        "pprint(his.head);\n"
      ],
      "metadata": {
        "id": "mvf7dZZ7yPcG"
      },
      "id": "mvf7dZZ7yPcG",
      "execution_count": null,
      "outputs": []
    },
    {
      "cell_type": "code",
      "source": [
        "minute_df = ak.stock_zh_a_minute(symbol='sh000300', period='5')\n",
        "pprint(minute_df.tail)"
      ],
      "metadata": {
        "id": "wCq0szefBM21"
      },
      "id": "wCq0szefBM21",
      "execution_count": null,
      "outputs": []
    },
    {
      "cell_type": "code",
      "source": [
        "# pprint(dir(ak));\n",
        "data = ak.stock_zh_a_minute(symbol='sh600048', period='1')"
      ],
      "metadata": {
        "id": "eBhwkzQfD3lV"
      },
      "id": "eBhwkzQfD3lV",
      "execution_count": null,
      "outputs": []
    },
    {
      "cell_type": "code",
      "source": [
        "pprint(data);"
      ],
      "metadata": {
        "id": "9KsrOKMyFEFW"
      },
      "id": "9KsrOKMyFEFW",
      "execution_count": null,
      "outputs": []
    },
    {
      "cell_type": "code",
      "source": [
        "import numpy as np\n",
        "import pandas as pd # 导入 pandas\n",
        "\n",
        "# help(np.log);\n",
        "# pprint(dir(data));\n",
        "\n",
        "# 将 'close' 列转换为数值类型，errors='coerce' 会将无法转换的值设为 NaN\n",
        "data['close'] = pd.to_numeric(data['close'], errors='coerce')\n",
        "\n",
        "# 计算对数收益率，使用自然对数 np.log\n",
        "data['r'] = np.log(data['close'] / data['close'].shift(1))\n",
        "\n",
        "cols = []\n",
        "for momentum in [15, 30, 60, 120, 150]:\n",
        "    col = f'p_{momentum}'  #为当前动量周期创建一个列名字符串 f''是格式化字符串\n",
        "    # 计算每个滚动窗口内对数收益率的平均值，并取符号\n",
        "    data[col] = np.sign(data['r'].rolling(momentum).mean())\n",
        "    cols.append(col)"
      ],
      "metadata": {
        "id": "asB7CLboLtmM"
      },
      "id": "asB7CLboLtmM",
      "execution_count": null,
      "outputs": []
    },
    {
      "cell_type": "markdown",
      "source": [
        "代码旨在 DataFrame 中创建几个新列，每个列代表不同回溯周期的动量指标。\n",
        "\n",
        "data[col] = np.sign(data['r'].rolling(momentum).mean()): 这一行计算当前周期的动量指标。\n",
        "\n",
        "  * data['r'].rolling(momentum): 这会将指定 momentum 大小的滚动窗口应用于对数收益率列（r）。\n",
        "\n",
        "  * .mean(): 这会计算每个滚动窗口内对数收益率的平均值。\n",
        "\n",
        "  * np.sign(...): 这会取计算出的平均值的符号。np.sign 函数对于正值返回 1，对于负值返回 -1，对于零返回 0。这有效地创建了一个动量指标，当该周期的平均收益率为正时为 1，为负时为 -1，否则为 0。"
      ],
      "metadata": {
        "id": "x9k9f10W5aV9"
      },
      "id": "x9k9f10W5aV9"
    },
    {
      "cell_type": "code",
      "source": [
        "pprint(data.columns)\n",
        "pprint(data.tail(10))\n",
        "pprint(cols);"
      ],
      "metadata": {
        "id": "4Kl-fGIgY1ce"
      },
      "id": "4Kl-fGIgY1ce",
      "execution_count": null,
      "outputs": []
    },
    {
      "cell_type": "code",
      "source": [
        "from pylab import plt  #图表库\n",
        "plt.style.use('seaborn-v0_8') #设置图表视觉风格\n",
        "%config InlineBackend.figure_format = 'svg' #配置jupyter或colab环境中内联显示图表的格式\n"
      ],
      "metadata": {
        "id": "bp0SCikJlqRy"
      },
      "id": "bp0SCikJlqRy",
      "execution_count": null,
      "outputs": []
    },
    {
      "cell_type": "code",
      "source": [
        "strats = ['r'];  #初始化一个名为 strats 的列表，并将字符串 'r' 添加进去。'r' 代表之前计算的对数收益率，作为比较的基础策略（即持有策略）。\n",
        "for col in cols: #循环遍历之前在 cols 列表中存储的动量指标列名（例如，'p_15', 'p_30' 等）。\n",
        "    strat = f'm_{col[2:]}'; #对于每个动量列名，创建一个新的策略列名。col[2:] 取出列名中 'p_' 后面的数字（例如，从 'p_15' 中取出 '15'），\n",
        "                 #然后使用 f-string 将其格式化为 'm_数字'（例如，'m_15'）。这个新的列名代表基于该动量指标的交易策略。\n",
        "    data[strat] = data[col].shift(1) * data['r'];\n",
        "    strats.append(strat); #将新创建的策略列名添加到 strats 列表中\n",
        "data[strats].dropna().cumsum().apply(np.exp).plot(cmap='coolwarm');"
      ],
      "metadata": {
        "id": "mY_ypHSHmjOy"
      },
      "id": "mY_ypHSHmjOy",
      "execution_count": null,
      "outputs": []
    },
    {
      "cell_type": "markdown",
      "source": [
        "* data[col].shift(1): 这会获取当前动量指标列 (col) 向上移动一行（即前一个时间点）的值。这模拟了在当前时间点根据前一个时间点的动量信号进行交易决策。如果前一个时间点的动量指标是 1（看涨），则为 1；如果是 -1（看跌），则为 -1；如果是 0，则为 0。\n",
        "\n",
        "  * data['r']: 这将前一个时间点的动量信号与当前时间点的对数收益率相乘。\n",
        "\n",
        "    * 如果前一个时间点的动量信号是 1（看涨），则策略收益率等于当前的对数收益率（买入并持有）。\n",
        "    * 如果前一个时间点的动量信号是 -1（看跌），则策略收益率等于当前的对数收益率乘以 -1（做空并获利或亏损）。\n",
        "    * 如果前一个时间点的动量信号是 0，则策略收益率等于 0（不进行交易）。\n",
        "\n",
        "* data[strats].dropna().cumsum().apply(np.exp).plot(cmap='coolwarm'): 这行代码用于绘制所有策略的累积收益率图表。\n",
        "\n",
        "   * data[strats]: 选取 data DataFrame 中所有在 strats 列表中的列（原始收益率 'r' 和所有动量策略收益率）。\n",
        "   * .dropna(): 删除包含 NaN 值的行。这是必要的，因为滚动计算和 shift 操作会在数据开头产生 NaN 值。\n",
        "   * .cumsum(): 计算每一列的累积和。对于对数收益率，累积和代表对数空间的累积收益。\n",
        "   * .apply(np.exp): 对累积和应用指数函数 (np.exp)。这将对数空间的累积收益转换回线性空间的累积收益率（即，如果初始投资为 1，累积收益率表示最终的资产价值）。\n",
        "   * .plot(cmap='coolwarm')：使用 Matplotlib 绘制累积收益率。cmap='coolwarm' 设置了图表的颜色映射，使得不同的策略曲线颜色有所区别。\n",
        "\n"
      ],
      "metadata": {
        "id": "9vogKBsz8wrF"
      },
      "id": "9vogKBsz8wrF"
    },
    {
      "cell_type": "markdown",
      "source": [
        "代码的核心思想是根据不同周期的动量指标生成交易信号（买入、卖出或观望），\n",
        "\n",
        "然后计算基于这些信号的交易策略在每个时间点的收益率，\n",
        "\n",
        "并最终绘制出这些策略随时间发展的累积收益率曲线，\n",
        "\n",
        "以便与简单的持有策略进行比较。"
      ],
      "metadata": {
        "id": "yobWSXqPpalG"
      },
      "id": "yobWSXqPpalG"
    },
    {
      "cell_type": "code",
      "source": [
        "plt.show();"
      ],
      "metadata": {
        "id": "hqv0qU5c-VY9"
      },
      "id": "hqv0qU5c-VY9",
      "execution_count": null,
      "outputs": []
    }
  ],
  "metadata": {
    "kernelspec": {
      "display_name": "Python 3 (ipykernel)",
      "language": "python",
      "name": "python3"
    },
    "language_info": {
      "codemirror_mode": {
        "name": "ipython",
        "version": 3
      },
      "file_extension": ".py",
      "mimetype": "text/x-python",
      "name": "python",
      "nbconvert_exporter": "python",
      "pygments_lexer": "ipython3",
      "version": "3.13.5"
    },
    "colab": {
      "provenance": []
    }
  },
  "nbformat": 4,
  "nbformat_minor": 5
}