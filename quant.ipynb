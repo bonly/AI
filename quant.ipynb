{
  "cells": [
    {
      "cell_type": "markdown",
      "id": "4a462bb7-8c4c-4443-ba4e-f4ec26668c59",
      "metadata": {
        "id": "4a462bb7-8c4c-4443-ba4e-f4ec26668c59"
      },
      "source": [
        "<a href=\"https://colab.research.google.com/github/bonly/AI/blob/main/quant.ipynb\" target=\"_parent\"><img src=\"https://colab.research.google.com/assets/colab-badge.svg\" alt=\"Open In Colab\"/></a>"
      ]
    },
    {
      "cell_type": "code",
      "source": [
        "%pip install akshare --upgrade"
      ],
      "metadata": {
        "id": "UGCh67tIw6-D"
      },
      "id": "UGCh67tIw6-D",
      "execution_count": null,
      "outputs": []
    },
    {
      "cell_type": "code",
      "source": [
        "import akshare as ak;\n",
        "from pprint import pprint;\n",
        "\n",
        "help(ak.stock_zh_index_daily_tx)\n",
        "# pprint(dir(ak.stock_zh_index_daily_tx))\n",
        "# pprint(ak.__dict__)"
      ],
      "metadata": {
        "id": "7j6kuOWqzmgw"
      },
      "id": "7j6kuOWqzmgw",
      "execution_count": null,
      "outputs": []
    },
    {
      "cell_type": "code",
      "source": [
        "\n",
        "his = ak.stock_zh_a_hist(symbol=\"000001\", period=\"daily\", start_date=\"20170301\", end_date='20240528', adjust=\"\");\n",
        "pprint(his.head);\n"
      ],
      "metadata": {
        "id": "mvf7dZZ7yPcG"
      },
      "id": "mvf7dZZ7yPcG",
      "execution_count": null,
      "outputs": []
    },
    {
      "cell_type": "code",
      "source": [
        "minute_df = ak.stock_zh_a_minute(symbol='sh000300', period='5')\n",
        "pprint(minute_df.tail)"
      ],
      "metadata": {
        "id": "wCq0szefBM21"
      },
      "id": "wCq0szefBM21",
      "execution_count": null,
      "outputs": []
    },
    {
      "cell_type": "code",
      "source": [
        "# pprint(dir(ak));\n",
        "data = ak.stock_zh_a_minute(symbol='sh600048', period='1')"
      ],
      "metadata": {
        "id": "eBhwkzQfD3lV"
      },
      "id": "eBhwkzQfD3lV",
      "execution_count": 29,
      "outputs": []
    },
    {
      "cell_type": "code",
      "source": [
        "pprint(data);"
      ],
      "metadata": {
        "colab": {
          "base_uri": "https://localhost:8080/"
        },
        "id": "9KsrOKMyFEFW",
        "outputId": "0ceacdaa-cede-4c3b-d771-b019a47aebd8"
      },
      "id": "9KsrOKMyFEFW",
      "execution_count": 30,
      "outputs": [
        {
          "output_type": "stream",
          "name": "stdout",
          "text": [
            "                      day   open   high    low  close   volume\n",
            "0     2025-08-04 13:53:00  7.960  7.960  7.950  7.950   124400\n",
            "1     2025-08-04 13:54:00  7.960  7.960  7.950  7.960    45100\n",
            "2     2025-08-04 13:55:00  7.950  7.960  7.950  7.960   167500\n",
            "3     2025-08-04 13:56:00  7.960  7.960  7.950  7.960    73400\n",
            "4     2025-08-04 13:57:00  7.950  7.960  7.950  7.960    64400\n",
            "...                   ...    ...    ...    ...    ...      ...\n",
            "1965  2025-08-14 14:54:00  8.010  8.020  8.010  8.010   638000\n",
            "1966  2025-08-14 14:55:00  8.010  8.020  8.010  8.010   426100\n",
            "1967  2025-08-14 14:56:00  8.010  8.020  8.000  8.000   712600\n",
            "1968  2025-08-14 14:57:00  8.000  8.010  8.000  8.010   840700\n",
            "1969  2025-08-14 15:00:00  8.010  8.010  8.010  8.010  1202500\n",
            "\n",
            "[1970 rows x 6 columns]\n"
          ]
        }
      ]
    },
    {
      "cell_type": "code",
      "source": [
        "import numpy as np\n",
        "import pandas as pd # 导入 pandas\n",
        "\n",
        "# help(np.log);\n",
        "# pprint(dir(data));\n",
        "\n",
        "# 将 'close' 列转换为数值类型，errors='coerce' 会将无法转换的值设为 NaN\n",
        "data['close'] = pd.to_numeric(data['close'], errors='coerce')\n",
        "\n",
        "# 计算对数收益率，使用自然对数 np.log\n",
        "data['r'] = np.log(data['close'] / data['close'].shift(1))\n",
        "\n",
        "cols = []\n",
        "for momentum in [15, 30, 60, 120, 150]:\n",
        "    col = f'p_{momentum}'  #为当前动量周期创建一个列名字符串 f''是格式化字符串\n",
        "    # 计算每个滚动窗口内对数收益率的平均值，并取符号\n",
        "    data[col] = np.sign(data['r'].rolling(momentum).mean())\n",
        "    cols.append(col)"
      ],
      "metadata": {
        "id": "asB7CLboLtmM"
      },
      "id": "asB7CLboLtmM",
      "execution_count": 38,
      "outputs": []
    },
    {
      "cell_type": "code",
      "source": [
        "pprint(data.columns)\n",
        "pprint(data)"
      ],
      "metadata": {
        "colab": {
          "base_uri": "https://localhost:8080/"
        },
        "id": "4Kl-fGIgY1ce",
        "outputId": "8fb16b56-959b-4987-9ac8-544a6dc50655"
      },
      "id": "4Kl-fGIgY1ce",
      "execution_count": 41,
      "outputs": [
        {
          "output_type": "stream",
          "name": "stdout",
          "text": [
            "Index(['day', 'open', 'high', 'low', 'close', 'volume', 'r', 'p_15', 'p_30',\n",
            "       'p_60', 'p_120', 'p_150'],\n",
            "      dtype='object')\n",
            "                      day   open   high    low  close   volume         r  \\\n",
            "0     2025-08-04 13:53:00  7.960  7.960  7.950   7.95   124400       NaN   \n",
            "1     2025-08-04 13:54:00  7.960  7.960  7.950   7.96    45100  0.001257   \n",
            "2     2025-08-04 13:55:00  7.950  7.960  7.950   7.96   167500  0.000000   \n",
            "3     2025-08-04 13:56:00  7.960  7.960  7.950   7.96    73400  0.000000   \n",
            "4     2025-08-04 13:57:00  7.950  7.960  7.950   7.96    64400  0.000000   \n",
            "...                   ...    ...    ...    ...    ...      ...       ...   \n",
            "1965  2025-08-14 14:54:00  8.010  8.020  8.010   8.01   638000  0.000000   \n",
            "1966  2025-08-14 14:55:00  8.010  8.020  8.010   8.01   426100  0.000000   \n",
            "1967  2025-08-14 14:56:00  8.010  8.020  8.000   8.00   712600 -0.001249   \n",
            "1968  2025-08-14 14:57:00  8.000  8.010  8.000   8.01   840700  0.001249   \n",
            "1969  2025-08-14 15:00:00  8.010  8.010  8.010   8.01  1202500  0.000000   \n",
            "\n",
            "      p_15  p_30  p_60  p_120  p_150  \n",
            "0      NaN   NaN   NaN    NaN    NaN  \n",
            "1      NaN   NaN   NaN    NaN    NaN  \n",
            "2      NaN   NaN   NaN    NaN    NaN  \n",
            "3      NaN   NaN   NaN    NaN    NaN  \n",
            "4      NaN   NaN   NaN    NaN    NaN  \n",
            "...    ...   ...   ...    ...    ...  \n",
            "1965  -1.0   1.0  -1.0   -1.0   -1.0  \n",
            "1966  -1.0  -1.0  -1.0   -1.0   -1.0  \n",
            "1967  -1.0  -1.0  -1.0   -1.0   -1.0  \n",
            "1968  -1.0  -1.0  -1.0   -1.0   -1.0  \n",
            "1969  -1.0  -1.0  -1.0   -1.0   -1.0  \n",
            "\n",
            "[1970 rows x 12 columns]\n"
          ]
        }
      ]
    }
  ],
  "metadata": {
    "kernelspec": {
      "display_name": "Python 3 (ipykernel)",
      "language": "python",
      "name": "python3"
    },
    "language_info": {
      "codemirror_mode": {
        "name": "ipython",
        "version": 3
      },
      "file_extension": ".py",
      "mimetype": "text/x-python",
      "name": "python",
      "nbconvert_exporter": "python",
      "pygments_lexer": "ipython3",
      "version": "3.13.5"
    },
    "colab": {
      "provenance": []
    }
  },
  "nbformat": 4,
  "nbformat_minor": 5
}