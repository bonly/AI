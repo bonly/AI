{
  "cells": [
    {
      "cell_type": "raw",
      "id": "6314ed5a-5f6d-440d-9bd1-771a850967ce",
      "metadata": {
        "id": "6314ed5a-5f6d-440d-9bd1-771a850967ce"
      },
      "source": [
        "<a href=\"https://colab.research.google.com/github/bonly/AI/blob/main/train.ipynb\" target=\"_parent\"><img src=\"https://colab.research.google.com/assets/colab-badge.svg\" alt=\"Open In Colab\"/></a>"
      ]
    },
    {
      "cell_type": "markdown",
      "source": [
        "# 环境库"
      ],
      "metadata": {
        "id": "xH6MRaWUuOQr"
      },
      "id": "xH6MRaWUuOQr"
    },
    {
      "cell_type": "code",
      "source": [
        "%pip install akshare --upgrade"
      ],
      "metadata": {
        "id": "XNCTp92AodBq",
        "colab": {
          "base_uri": "https://localhost:8080/"
        },
        "outputId": "9a00ca42-8f17-48a1-ef21-d6ac4bfc31ff"
      },
      "id": "XNCTp92AodBq",
      "execution_count": 3,
      "outputs": [
        {
          "output_type": "stream",
          "name": "stdout",
          "text": [
            "Collecting akshare\n",
            "  Downloading akshare-1.17.35-py3-none-any.whl.metadata (11 kB)\n",
            "Requirement already satisfied: aiohttp>=3.11.13 in /usr/local/lib/python3.11/dist-packages (from akshare) (3.12.15)\n",
            "Requirement already satisfied: beautifulsoup4>=4.9.1 in /usr/local/lib/python3.11/dist-packages (from akshare) (4.13.4)\n",
            "Requirement already satisfied: lxml>=4.2.1 in /usr/local/lib/python3.11/dist-packages (from akshare) (5.4.0)\n",
            "Requirement already satisfied: pandas>=0.25 in /usr/local/lib/python3.11/dist-packages (from akshare) (2.2.2)\n",
            "Requirement already satisfied: requests>=2.22.0 in /usr/local/lib/python3.11/dist-packages (from akshare) (2.32.3)\n",
            "Requirement already satisfied: html5lib>=1.0.1 in /usr/local/lib/python3.11/dist-packages (from akshare) (1.1)\n",
            "Requirement already satisfied: xlrd>=1.2.0 in /usr/local/lib/python3.11/dist-packages (from akshare) (2.0.2)\n",
            "Requirement already satisfied: urllib3>=1.25.8 in /usr/local/lib/python3.11/dist-packages (from akshare) (2.5.0)\n",
            "Requirement already satisfied: tqdm>=4.43.0 in /usr/local/lib/python3.11/dist-packages (from akshare) (4.67.1)\n",
            "Requirement already satisfied: openpyxl>=3.0.3 in /usr/local/lib/python3.11/dist-packages (from akshare) (3.1.5)\n",
            "Collecting jsonpath>=0.82 (from akshare)\n",
            "  Downloading jsonpath-0.82.2.tar.gz (10 kB)\n",
            "  Preparing metadata (setup.py) ... \u001b[?25l\u001b[?25hdone\n",
            "Requirement already satisfied: tabulate>=0.8.6 in /usr/local/lib/python3.11/dist-packages (from akshare) (0.9.0)\n",
            "Requirement already satisfied: decorator>=4.4.2 in /usr/local/lib/python3.11/dist-packages (from akshare) (4.4.2)\n",
            "Requirement already satisfied: nest_asyncio>=1.6.0 in /usr/local/lib/python3.11/dist-packages (from akshare) (1.6.0)\n",
            "Collecting py-mini-racer>=0.6.0 (from akshare)\n",
            "  Downloading py_mini_racer-0.6.0-py2.py3-none-manylinux1_x86_64.whl.metadata (8.7 kB)\n",
            "Collecting akracer>=0.0.13 (from akracer[py-mini-racer]>=0.0.13; platform_system == \"Linux\"->akshare)\n",
            "  Downloading akracer-0.0.13-py3-none-any.whl.metadata (2.8 kB)\n",
            "Requirement already satisfied: aiohappyeyeballs>=2.5.0 in /usr/local/lib/python3.11/dist-packages (from aiohttp>=3.11.13->akshare) (2.6.1)\n",
            "Requirement already satisfied: aiosignal>=1.4.0 in /usr/local/lib/python3.11/dist-packages (from aiohttp>=3.11.13->akshare) (1.4.0)\n",
            "Requirement already satisfied: attrs>=17.3.0 in /usr/local/lib/python3.11/dist-packages (from aiohttp>=3.11.13->akshare) (25.3.0)\n",
            "Requirement already satisfied: frozenlist>=1.1.1 in /usr/local/lib/python3.11/dist-packages (from aiohttp>=3.11.13->akshare) (1.7.0)\n",
            "Requirement already satisfied: multidict<7.0,>=4.5 in /usr/local/lib/python3.11/dist-packages (from aiohttp>=3.11.13->akshare) (6.6.4)\n",
            "Requirement already satisfied: propcache>=0.2.0 in /usr/local/lib/python3.11/dist-packages (from aiohttp>=3.11.13->akshare) (0.3.2)\n",
            "Requirement already satisfied: yarl<2.0,>=1.17.0 in /usr/local/lib/python3.11/dist-packages (from aiohttp>=3.11.13->akshare) (1.20.1)\n",
            "\u001b[33mWARNING: akracer 0.0.13 does not provide the extra 'py-mini-racer'\u001b[0m\u001b[33m\n",
            "\u001b[0mRequirement already satisfied: soupsieve>1.2 in /usr/local/lib/python3.11/dist-packages (from beautifulsoup4>=4.9.1->akshare) (2.7)\n",
            "Requirement already satisfied: typing-extensions>=4.0.0 in /usr/local/lib/python3.11/dist-packages (from beautifulsoup4>=4.9.1->akshare) (4.14.1)\n",
            "Requirement already satisfied: six>=1.9 in /usr/local/lib/python3.11/dist-packages (from html5lib>=1.0.1->akshare) (1.17.0)\n",
            "Requirement already satisfied: webencodings in /usr/local/lib/python3.11/dist-packages (from html5lib>=1.0.1->akshare) (0.5.1)\n",
            "Requirement already satisfied: et-xmlfile in /usr/local/lib/python3.11/dist-packages (from openpyxl>=3.0.3->akshare) (2.0.0)\n",
            "Requirement already satisfied: numpy>=1.23.2 in /usr/local/lib/python3.11/dist-packages (from pandas>=0.25->akshare) (2.0.2)\n",
            "Requirement already satisfied: python-dateutil>=2.8.2 in /usr/local/lib/python3.11/dist-packages (from pandas>=0.25->akshare) (2.9.0.post0)\n",
            "Requirement already satisfied: pytz>=2020.1 in /usr/local/lib/python3.11/dist-packages (from pandas>=0.25->akshare) (2025.2)\n",
            "Requirement already satisfied: tzdata>=2022.7 in /usr/local/lib/python3.11/dist-packages (from pandas>=0.25->akshare) (2025.2)\n",
            "Requirement already satisfied: charset-normalizer<4,>=2 in /usr/local/lib/python3.11/dist-packages (from requests>=2.22.0->akshare) (3.4.3)\n",
            "Requirement already satisfied: idna<4,>=2.5 in /usr/local/lib/python3.11/dist-packages (from requests>=2.22.0->akshare) (3.10)\n",
            "Requirement already satisfied: certifi>=2017.4.17 in /usr/local/lib/python3.11/dist-packages (from requests>=2.22.0->akshare) (2025.8.3)\n",
            "Downloading akshare-1.17.35-py3-none-any.whl (1.1 MB)\n",
            "\u001b[2K   \u001b[90m━━━━━━━━━━━━━━━━━━━━━━━━━━━━━━━━━━━━━━━━\u001b[0m \u001b[32m1.1/1.1 MB\u001b[0m \u001b[31m6.8 MB/s\u001b[0m eta \u001b[36m0:00:00\u001b[0m\n",
            "\u001b[?25hDownloading akracer-0.0.13-py3-none-any.whl (10.1 MB)\n",
            "\u001b[2K   \u001b[90m━━━━━━━━━━━━━━━━━━━━━━━━━━━━━━━━━━━━━━━━\u001b[0m \u001b[32m10.1/10.1 MB\u001b[0m \u001b[31m18.3 MB/s\u001b[0m eta \u001b[36m0:00:00\u001b[0m\n",
            "\u001b[?25hDownloading py_mini_racer-0.6.0-py2.py3-none-manylinux1_x86_64.whl (5.4 MB)\n",
            "\u001b[2K   \u001b[90m━━━━━━━━━━━━━━━━━━━━━━━━━━━━━━━━━━━━━━━━\u001b[0m \u001b[32m5.4/5.4 MB\u001b[0m \u001b[31m82.4 MB/s\u001b[0m eta \u001b[36m0:00:00\u001b[0m\n",
            "\u001b[?25hBuilding wheels for collected packages: jsonpath\n",
            "  Building wheel for jsonpath (setup.py) ... \u001b[?25l\u001b[?25hdone\n",
            "  Created wheel for jsonpath: filename=jsonpath-0.82.2-py3-none-any.whl size=5615 sha256=eddadb3e8fbed825042797644e2c32d63eb89db168bfe84ed6f521d8c9724556\n",
            "  Stored in directory: /root/.cache/pip/wheels/7d/b8/16/48bbd715040679311fa68cb564ad24a97d9a67fea5d4c848c8\n",
            "Successfully built jsonpath\n",
            "Installing collected packages: py-mini-racer, jsonpath, akracer, akshare\n",
            "Successfully installed akracer-0.0.13 akshare-1.17.35 jsonpath-0.82.2 py-mini-racer-0.6.0\n"
          ]
        }
      ]
    },
    {
      "cell_type": "code",
      "source": [
        "import akshare as ak;\n",
        "import numpy as np\n",
        "import pandas as pd"
      ],
      "metadata": {
        "id": "YmYBbwvYnx8A"
      },
      "id": "YmYBbwvYnx8A",
      "execution_count": 4,
      "outputs": []
    },
    {
      "cell_type": "markdown",
      "source": [
        "# 数据"
      ],
      "metadata": {
        "id": "lwV-du23uTKu"
      },
      "id": "lwV-du23uTKu"
    },
    {
      "cell_type": "code",
      "source": [
        "from pylab import plt\n",
        "plt.style.use('seaborn-v0_8')\n",
        "%config InlineBackend.figure_format = 'svg'"
      ],
      "metadata": {
        "id": "40uroCLHoC-5"
      },
      "id": "40uroCLHoC-5",
      "execution_count": 5,
      "outputs": []
    },
    {
      "cell_type": "code",
      "source": [
        "#dt = ak.stock_zh_a_minute(symbol='sz300188', period='1');\n",
        "dt = ak.stock_zh_a_daily(symbol=\"sh600048\", start_date=\"20240101\", end_date='20250815', adjust=\"qfq\");\n",
        "tm = 'date';\n",
        "# tm = 'day';"
      ],
      "metadata": {
        "id": "zAm8Z8AroP6N"
      },
      "id": "zAm8Z8AroP6N",
      "execution_count": 6,
      "outputs": []
    },
    {
      "cell_type": "code",
      "source": [
        "print(dt.tail(10));"
      ],
      "metadata": {
        "colab": {
          "base_uri": "https://localhost:8080/"
        },
        "id": "ZhzK0BOqt2l6",
        "outputId": "b76f0e2e-595d-40a1-cad9-acee4c30e113"
      },
      "id": "ZhzK0BOqt2l6",
      "execution_count": 7,
      "outputs": [
        {
          "output_type": "stream",
          "name": "stdout",
          "text": [
            "           date  open  high   low  close       volume        amount  \\\n",
            "383  2025-08-04  7.99  7.99  7.93   7.99   89911883.0  7.155828e+08   \n",
            "384  2025-08-05  7.99  8.05  7.97   8.04  100854527.0  8.084916e+08   \n",
            "385  2025-08-06  8.03  8.03  7.97   8.01   79003224.0  6.318822e+08   \n",
            "386  2025-08-07  8.00  8.05  7.95   8.04  113334525.0  9.067155e+08   \n",
            "387  2025-08-08  8.02  8.04  7.98   8.01   74432362.0  5.958251e+08   \n",
            "388  2025-08-11  8.04  8.09  8.03   8.03  112944649.0  9.098835e+08   \n",
            "389  2025-08-12  8.03  8.07  8.01   8.02   97401443.0  7.824929e+08   \n",
            "390  2025-08-13  8.04  8.05  7.98   8.00  107251058.0  8.584485e+08   \n",
            "391  2025-08-14  8.01  8.13  7.99   8.01  192971875.0  1.553063e+09   \n",
            "392  2025-08-15  8.01  8.19  7.99   8.15  263836630.0  2.146463e+09   \n",
            "\n",
            "     outstanding_share  turnover  \n",
            "383       1.197044e+10  0.007511  \n",
            "384       1.197044e+10  0.008425  \n",
            "385       1.197044e+10  0.006600  \n",
            "386       1.197044e+10  0.009468  \n",
            "387       1.197044e+10  0.006218  \n",
            "388       1.197044e+10  0.009435  \n",
            "389       1.197044e+10  0.008137  \n",
            "390       1.197044e+10  0.008960  \n",
            "391       1.197044e+10  0.016121  \n",
            "392       1.197044e+10  0.022041  \n"
          ]
        }
      ]
    },
    {
      "cell_type": "code",
      "source": [
        "# pd.DataFrame(columns=['列1', '列2', '列3'])；\n",
        "data = pd.DataFrame();\n",
        "data[tm] = pd.to_datetime(dt[tm]);\n",
        "data['open'] = dt['open'].astype(np.float64);\n",
        "data['high'] = dt['high'].astype(np.float64);\n",
        "data['low'] = dt['low'].astype(np.float64);\n",
        "data['close'] = pd.to_numeric(dt['close']);\n",
        "data['volume'] = dt['volume'].astype(np.int64);"
      ],
      "metadata": {
        "id": "SgmY1s4-wAwt"
      },
      "id": "SgmY1s4-wAwt",
      "execution_count": 8,
      "outputs": []
    },
    {
      "cell_type": "code",
      "source": [
        "data['r'] = np.log(data['close'] / data['close'].shift(1));\n",
        "data['d'] = np.sign(data['r']);"
      ],
      "metadata": {
        "id": "SMDcItjUtSOM"
      },
      "id": "SMDcItjUtSOM",
      "execution_count": 9,
      "outputs": []
    },
    {
      "cell_type": "code",
      "source": [
        "print(data.tail(10));"
      ],
      "metadata": {
        "colab": {
          "base_uri": "https://localhost:8080/"
        },
        "id": "EckGx3f_TnDd",
        "outputId": "f389bcda-f22d-4782-d515-7ed826baed6f"
      },
      "id": "EckGx3f_TnDd",
      "execution_count": 10,
      "outputs": [
        {
          "output_type": "stream",
          "name": "stdout",
          "text": [
            "          date  open  high   low  close     volume         r    d\n",
            "383 2025-08-04  7.99  7.99  7.93   7.99   89911883  0.005019  1.0\n",
            "384 2025-08-05  7.99  8.05  7.97   8.04  100854527  0.006238  1.0\n",
            "385 2025-08-06  8.03  8.03  7.97   8.01   79003224 -0.003738 -1.0\n",
            "386 2025-08-07  8.00  8.05  7.95   8.04  113334525  0.003738  1.0\n",
            "387 2025-08-08  8.02  8.04  7.98   8.01   74432362 -0.003738 -1.0\n",
            "388 2025-08-11  8.04  8.09  8.03   8.03  112944649  0.002494  1.0\n",
            "389 2025-08-12  8.03  8.07  8.01   8.02   97401443 -0.001246 -1.0\n",
            "390 2025-08-13  8.04  8.05  7.98   8.00  107251058 -0.002497 -1.0\n",
            "391 2025-08-14  8.01  8.13  7.99   8.01  192971875  0.001249  1.0\n",
            "392 2025-08-15  8.01  8.19  7.99   8.15  263836630  0.017327  1.0\n"
          ]
        }
      ]
    },
    {
      "cell_type": "markdown",
      "source": [
        "# 策略"
      ],
      "metadata": {
        "id": "-ZJsi3qUuXQT"
      },
      "id": "-ZJsi3qUuXQT"
    },
    {
      "cell_type": "code",
      "source": [
        "lags = 3"
      ],
      "metadata": {
        "id": "Ki0_rA52u68U"
      },
      "id": "Ki0_rA52u68U",
      "execution_count": 11,
      "outputs": []
    },
    {
      "cell_type": "code",
      "source": [
        "cols = list()\n",
        "for lag in range(1, lags + 1):\n",
        "    col = f'lag_{lag}'\n",
        "    data[col] = data['r'].shift(lag)\n",
        "    cols.append(col)"
      ],
      "metadata": {
        "id": "pKCxWJVetu6h"
      },
      "id": "pKCxWJVetu6h",
      "execution_count": 12,
      "outputs": []
    },
    {
      "cell_type": "markdown",
      "source": [
        "代码的作用是在 data 这个 DataFrame 中创建滞后的收益率列。\n",
        "\n",
        "* 首先，它初始化了一个名为 cols 的空列表，用来存储后面创建的列名。\n",
        "* 然后，它会循环 lags 次（这里 lags 的值是 3）。\n",
        "* 在每次循环中，它会根据当前的 lag 值创建一个新的列名，例如 'lag_1', 'lag_2', 'lag_3'。\n",
        "* 接着，它会在 data DataFrame 中创建一个新的列，列名就是刚刚生成的。这一列的值是 'r' 列（收益率列）向下移动 lag 行得到的结果。这样就创建了包含过去收益率值的列。\n",
        "* 最后，它将新创建的列名添加到 cols 列表中。\n",
        "\n",
        "这段代码运行后，data DataFrame 中会增加名为 'lag_1', 'lag_2' 和 'lag_3' 的新列，它们分别包含前 1、2 和 3 个时间段的收益率数据。"
      ],
      "metadata": {
        "id": "EGhedFveAes_"
      },
      "id": "EGhedFveAes_"
    },
    {
      "cell_type": "code",
      "source": [
        "print(data.head(10));"
      ],
      "metadata": {
        "colab": {
          "base_uri": "https://localhost:8080/"
        },
        "id": "CsLXnZxLu9tz",
        "outputId": "02b482a9-e7f8-4e34-9e36-aced79845580"
      },
      "id": "CsLXnZxLu9tz",
      "execution_count": 13,
      "outputs": [
        {
          "output_type": "stream",
          "name": "stdout",
          "text": [
            "        date  open  high   low  close     volume         r    d     lag_1  \\\n",
            "0 2024-01-02  9.38  9.41  8.97   8.98  117278568       NaN  NaN       NaN   \n",
            "1 2024-01-03  8.96  9.13  8.88   8.96   89972552 -0.002230 -1.0       NaN   \n",
            "2 2024-01-04  8.94  8.96  8.62   8.72  105095748 -0.027151 -1.0 -0.002230   \n",
            "3 2024-01-05  8.69  8.93  8.63   8.74  101885181  0.002291  1.0 -0.027151   \n",
            "4 2024-01-08  8.74  8.80  8.61   8.63   67455132 -0.012666 -1.0  0.002291   \n",
            "5 2024-01-09  8.63  8.75  8.52   8.69   68893095  0.006928  1.0 -0.012666   \n",
            "6 2024-01-10  8.63  8.74  8.57   8.64   51969457 -0.005770 -1.0  0.006928   \n",
            "7 2024-01-11  8.59  8.73  8.49   8.68   71558960  0.004619  1.0 -0.005770   \n",
            "8 2024-01-12  8.61  8.85  8.60   8.71   76036361  0.003450  1.0  0.004619   \n",
            "9 2024-01-15  8.65  8.73  8.49   8.59   84444184 -0.013873 -1.0  0.003450   \n",
            "\n",
            "      lag_2     lag_3  \n",
            "0       NaN       NaN  \n",
            "1       NaN       NaN  \n",
            "2       NaN       NaN  \n",
            "3 -0.002230       NaN  \n",
            "4 -0.027151 -0.002230  \n",
            "5  0.002291 -0.027151  \n",
            "6 -0.012666  0.002291  \n",
            "7  0.006928 -0.012666  \n",
            "8 -0.005770  0.006928  \n",
            "9  0.004619 -0.005770  \n"
          ]
        }
      ]
    },
    {
      "cell_type": "code",
      "source": [
        "data.dropna(inplace=True); #删除 DataFrame 中所有包含缺失值（NaN）的行"
      ],
      "metadata": {
        "id": "gonEks_iAy2U"
      },
      "id": "gonEks_iAy2U",
      "execution_count": 14,
      "outputs": []
    },
    {
      "cell_type": "code",
      "source": [
        "data['d'] = data['d'].astype(int); #将 data DataFrame 中 'd' 列的数据类型转换为整数"
      ],
      "metadata": {
        "id": "GUGqP0VTBUQ0"
      },
      "id": "GUGqP0VTBUQ0",
      "execution_count": 15,
      "outputs": []
    },
    {
      "cell_type": "markdown",
      "source": [
        "# 拆分出训练数据和验证数据"
      ],
      "metadata": {
        "id": "lNVzpYBjB9Sh"
      },
      "id": "lNVzpYBjB9Sh"
    },
    {
      "cell_type": "code",
      "source": [
        "split = int(len(data) * 0.8); #计算用于将数据集分割成训练集和测试集的索引位置"
      ],
      "metadata": {
        "id": "ZweONtStCACt"
      },
      "id": "ZweONtStCACt",
      "execution_count": 16,
      "outputs": []
    },
    {
      "cell_type": "code",
      "source": [
        "print(split);"
      ],
      "metadata": {
        "colab": {
          "base_uri": "https://localhost:8080/"
        },
        "id": "JtduxmxTCjMQ",
        "outputId": "9360527d-337f-4721-fac4-316b3646c9b3"
      },
      "id": "JtduxmxTCjMQ",
      "execution_count": 17,
      "outputs": [
        {
          "output_type": "stream",
          "name": "stdout",
          "text": [
            "311\n"
          ]
        }
      ]
    },
    {
      "cell_type": "markdown",
      "source": [
        "将数据分割成 80% 的训练集和 20% 的测试集"
      ],
      "metadata": {
        "id": "YejxYhjOCvtT"
      },
      "id": "YejxYhjOCvtT"
    },
    {
      "cell_type": "markdown",
      "source": [
        "## 准备训练数据"
      ],
      "metadata": {
        "id": "U5JXOLbR2yQc"
      },
      "id": "U5JXOLbR2yQc"
    },
    {
      "cell_type": "code",
      "source": [
        "train = data.iloc[:split].copy(); #从第一行开始，split 表示到 split 索引（不包含该行）为止,复制一份到训练中"
      ],
      "metadata": {
        "id": "QmdWcfd2C4Ct"
      },
      "id": "QmdWcfd2C4Ct",
      "execution_count": 18,
      "outputs": []
    },
    {
      "cell_type": "code",
      "source": [
        "mu, std = train.drop(tm, axis=1).mean(), train.drop(tm, axis=1).std(); #计算得出两数组\n",
        "# mu, std = train[['open','high','low','close','volume']].mean(),train[['open','high','low','close','volume']].std();"
      ],
      "metadata": {
        "id": "cj1r7n1MEFZI"
      },
      "id": "cj1r7n1MEFZI",
      "execution_count": 19,
      "outputs": []
    },
    {
      "cell_type": "markdown",
      "source": [
        "* mean() 平均值\n",
        "* std() 标准差，衡量数据的离散程度。"
      ],
      "metadata": {
        "id": "SSnWWKj4tauP"
      },
      "id": "SSnWWKj4tauP"
    },
    {
      "cell_type": "markdown",
      "source": [
        "计算训练集的均值和标准差通常是数据预处理的一个重要步骤，特别是当您需要对数据进行标准化（Standardization）或归一化（Normalization）时。\n",
        "\n",
        "使用训练集的统计信息来转换训练集和测试集可以避免数据泄露（Data Leakage），即测试集的信息“泄露”到训练过程中。"
      ],
      "metadata": {
        "id": "0u5AlD_CtUGn"
      },
      "id": "0u5AlD_CtUGn"
    },
    {
      "cell_type": "code",
      "source": [
        "print(train.head(10));"
      ],
      "metadata": {
        "colab": {
          "base_uri": "https://localhost:8080/"
        },
        "id": "-LfBHyewyz1_",
        "outputId": "a02d6bb7-73cf-4534-cc55-bf9c1cb24a8c"
      },
      "id": "-LfBHyewyz1_",
      "execution_count": 20,
      "outputs": [
        {
          "output_type": "stream",
          "name": "stdout",
          "text": [
            "         date  open  high   low  close     volume         r  d     lag_1  \\\n",
            "4  2024-01-08  8.74  8.80  8.61   8.63   67455132 -0.012666 -1  0.002291   \n",
            "5  2024-01-09  8.63  8.75  8.52   8.69   68893095  0.006928  1 -0.012666   \n",
            "6  2024-01-10  8.63  8.74  8.57   8.64   51969457 -0.005770 -1  0.006928   \n",
            "7  2024-01-11  8.59  8.73  8.49   8.68   71558960  0.004619  1 -0.005770   \n",
            "8  2024-01-12  8.61  8.85  8.60   8.71   76036361  0.003450  1  0.004619   \n",
            "9  2024-01-15  8.65  8.73  8.49   8.59   84444184 -0.013873 -1  0.003450   \n",
            "10 2024-01-16  8.54  8.62  8.36   8.50  100238746 -0.010533 -1 -0.013873   \n",
            "11 2024-01-17  8.43  8.47  8.26   8.26   86415702 -0.028642 -1 -0.010533   \n",
            "12 2024-01-18  8.20  8.44  8.17   8.42  103959172  0.019185  1 -0.028642   \n",
            "13 2024-01-19  8.36  8.51  8.33   8.45   74915499  0.003557  1  0.019185   \n",
            "\n",
            "       lag_2     lag_3  \n",
            "4  -0.027151 -0.002230  \n",
            "5   0.002291 -0.027151  \n",
            "6  -0.012666  0.002291  \n",
            "7   0.006928 -0.012666  \n",
            "8  -0.005770  0.006928  \n",
            "9   0.004619 -0.005770  \n",
            "10  0.003450  0.004619  \n",
            "11 -0.013873  0.003450  \n",
            "12 -0.010533 -0.013873  \n",
            "13 -0.028642 -0.010533  \n"
          ]
        }
      ]
    },
    {
      "cell_type": "code",
      "source": [
        "print(mu);\n",
        "print(std);"
      ],
      "metadata": {
        "colab": {
          "base_uri": "https://localhost:8080/"
        },
        "id": "q5QGgHOBzRRT",
        "outputId": "ab887ff4-99ed-4ed9-8599-e5e2061095aa"
      },
      "id": "q5QGgHOBzRRT",
      "execution_count": 21,
      "outputs": [
        {
          "output_type": "stream",
          "name": "stdout",
          "text": [
            "open      8.972154e+00\n",
            "high      9.149614e+00\n",
            "low       8.828682e+00\n",
            "close     8.988457e+00\n",
            "volume    1.344288e+08\n",
            "r         3.658099e-05\n",
            "d        -9.003215e-02\n",
            "lag_1     1.051956e-04\n",
            "lag_2     3.568776e-05\n",
            "lag_3     7.782509e-05\n",
            "dtype: float64\n",
            "open      9.058082e-01\n",
            "high      9.373359e-01\n",
            "low       8.527968e-01\n",
            "close     8.914607e-01\n",
            "volume    8.280727e+07\n",
            "r         2.543744e-02\n",
            "d         9.795969e-01\n",
            "lag_1     2.541457e-02\n",
            "lag_2     2.545956e-02\n",
            "lag_3     2.544488e-02\n",
            "dtype: float64\n"
          ]
        }
      ]
    },
    {
      "cell_type": "code",
      "source": [
        "train_ = (train.drop(tm, axis=1) - mu) / std;"
      ],
      "metadata": {
        "id": "166hSa6WtwPj"
      },
      "id": "166hSa6WtwPj",
      "execution_count": 22,
      "outputs": []
    },
    {
      "cell_type": "code",
      "source": [
        "print(train_.tail(10));"
      ],
      "metadata": {
        "colab": {
          "base_uri": "https://localhost:8080/"
        },
        "id": "prU0DI9e0R9F",
        "outputId": "b50ad13e-700f-40f6-82e8-4473818d30ad"
      },
      "id": "prU0DI9e0R9F",
      "execution_count": 23,
      "outputs": [
        {
          "output_type": "stream",
          "name": "stdout",
          "text": [
            "         open      high       low     close    volume         r         d  \\\n",
            "305 -0.190056 -0.180953 -0.268155 -0.009486  0.568988  0.262108  1.112735   \n",
            "306 -0.101737 -0.287639 -0.186072 -0.289925 -0.192501 -1.111397 -0.928921   \n",
            "307 -0.377734 -0.447667 -0.256429 -0.357230 -0.777291 -0.272557 -0.928921   \n",
            "308 -0.366694 -0.511678 -0.326786 -0.368448 -0.854204 -0.046807 -0.928921   \n",
            "309 -0.355654 -0.340981 -0.232977 -0.177749 -0.043447  0.762801  1.112735   \n",
            "310 -0.190056  0.181777 -0.080537  0.237300  1.704328  1.612264  1.112735   \n",
            "311  0.141140  0.096428  0.224342  0.237300 -0.284237 -0.001438  0.091907   \n",
            "312  0.185299  0.000412  0.247794  0.080254 -0.649322 -0.604265 -0.928921   \n",
            "313  0.085941 -0.052931  0.165712  0.024166 -0.836210 -0.218993 -0.928921   \n",
            "314  0.030741 -0.127611 -0.021906 -0.166532 -0.452097 -0.750263 -0.928921   \n",
            "\n",
            "        lag_1     lag_2     lag_3  \n",
            "305  1.893583  2.725005 -2.219122  \n",
            "306  0.259644  1.892966  2.724921  \n",
            "307 -1.115097  0.261915  1.892402  \n",
            "308 -0.275502 -1.110396  0.260410  \n",
            "309 -0.049549 -0.272285 -1.112693  \n",
            "310  0.760788 -0.046731 -0.274098  \n",
            "311  1.611016  0.762173 -0.048414  \n",
            "312 -0.004139  1.610899  0.760957  \n",
            "313 -0.607508 -0.001402  1.610172  \n",
            "314 -0.221890 -0.603704 -0.003059  \n"
          ]
        }
      ]
    },
    {
      "cell_type": "markdown",
      "source": [
        "## 准备验证数据"
      ],
      "metadata": {
        "id": "F9KTYnjf2gwR"
      },
      "id": "F9KTYnjf2gwR"
    },
    {
      "cell_type": "code",
      "source": [
        "test = data.iloc[split:].copy(); #%20的测试数据\n",
        "test_ = (test.drop(tm, axis=1) - mu) / std"
      ],
      "metadata": {
        "id": "hwt76WsP00nx"
      },
      "id": "hwt76WsP00nx",
      "execution_count": 24,
      "outputs": []
    },
    {
      "cell_type": "markdown",
      "source": [
        "# 训练"
      ],
      "metadata": {
        "id": "1CV2MAH43UPb"
      },
      "id": "1CV2MAH43UPb"
    },
    {
      "cell_type": "code",
      "source": [
        "from sklearn.neural_network import MLPClassifier\n",
        "from sklearn.metrics import accuracy_score"
      ],
      "metadata": {
        "id": "3lY5OKwe3eX2"
      },
      "id": "3lY5OKwe3eX2",
      "execution_count": 25,
      "outputs": []
    },
    {
      "cell_type": "markdown",
      "source": [
        "* MLPClassifier 是用于分类任务的多层感知器（Multilayer Perceptron）模型，也就是一种神经网络模型。\n",
        "* accuracy_score 是一个评估分类模型性能的指标，它计算模型预测的准确率，即正确预测的样本占总样本数的比例。"
      ],
      "metadata": {
        "id": "Hgl8hnwP3rba"
      },
      "id": "Hgl8hnwP3rba"
    },
    {
      "cell_type": "code",
      "source": [
        "model = MLPClassifier(hidden_layer_sizes=[24],\n",
        "                      shuffle=False,\n",
        "                      max_iter=500)"
      ],
      "metadata": {
        "id": "zLVHOTAd3yCW"
      },
      "id": "zLVHOTAd3yCW",
      "execution_count": 26,
      "outputs": []
    },
    {
      "cell_type": "markdown",
      "source": [
        "* model = MLPClassifier(...): 创建一个 MLPClassifier 对象，并将其赋值给变量 model。\n",
        "* hidden_layer_sizes=[24]: 这个参数指定了神经网络中隐藏层的结构。[24] 表示模型有一个隐藏层，这个隐藏层有 24 个神经元。您可以根据需要调整隐藏层的数量和每个隐藏层的神经元数量。\n",
        "* shuffle=False: 这个参数控制在每次迭代训练时是否打乱训练数据的顺序。在这里设置为 False 意味着数据将按照原始顺序进行训练。在时间序列数据中，通常不打乱数据顺序，以保留时间上的依赖性。\n",
        "* max_iter=500: 这个参数指定了模型训练的最大迭代次数（epochs）。模型会在最多进行 500 次完整的训练数据遍历后停止训练。如果模型在达到最大迭代次数之前收敛（损失函数不再显著下降），训练也会提前停止。\n",
        "\n",
        "总的来说，这段代码创建了一个具有一个包含 24 个神经元的隐藏层的神经网络模型，并设置了训练时数据不打乱以及最大迭代次数为 500。这个 model 对象将在后续步骤中用于训练和预测。"
      ],
      "metadata": {
        "id": "LtYZQzmy4RRF"
      },
      "id": "LtYZQzmy4RRF"
    },
    {
      "cell_type": "code",
      "source": [
        "model.fit(train_[cols], train['d'])"
      ],
      "metadata": {
        "colab": {
          "base_uri": "https://localhost:8080/",
          "height": 81
        },
        "id": "mC3ibmix3x_f",
        "outputId": "c5044933-cd01-45ed-e056-18eea9da873e"
      },
      "id": "mC3ibmix3x_f",
      "execution_count": 27,
      "outputs": [
        {
          "output_type": "execute_result",
          "data": {
            "text/plain": [
              "MLPClassifier(hidden_layer_sizes=[24], max_iter=500, shuffle=False)"
            ],
            "text/html": [
              "<style>#sk-container-id-1 {\n",
              "  /* Definition of color scheme common for light and dark mode */\n",
              "  --sklearn-color-text: #000;\n",
              "  --sklearn-color-text-muted: #666;\n",
              "  --sklearn-color-line: gray;\n",
              "  /* Definition of color scheme for unfitted estimators */\n",
              "  --sklearn-color-unfitted-level-0: #fff5e6;\n",
              "  --sklearn-color-unfitted-level-1: #f6e4d2;\n",
              "  --sklearn-color-unfitted-level-2: #ffe0b3;\n",
              "  --sklearn-color-unfitted-level-3: chocolate;\n",
              "  /* Definition of color scheme for fitted estimators */\n",
              "  --sklearn-color-fitted-level-0: #f0f8ff;\n",
              "  --sklearn-color-fitted-level-1: #d4ebff;\n",
              "  --sklearn-color-fitted-level-2: #b3dbfd;\n",
              "  --sklearn-color-fitted-level-3: cornflowerblue;\n",
              "\n",
              "  /* Specific color for light theme */\n",
              "  --sklearn-color-text-on-default-background: var(--sg-text-color, var(--theme-code-foreground, var(--jp-content-font-color1, black)));\n",
              "  --sklearn-color-background: var(--sg-background-color, var(--theme-background, var(--jp-layout-color0, white)));\n",
              "  --sklearn-color-border-box: var(--sg-text-color, var(--theme-code-foreground, var(--jp-content-font-color1, black)));\n",
              "  --sklearn-color-icon: #696969;\n",
              "\n",
              "  @media (prefers-color-scheme: dark) {\n",
              "    /* Redefinition of color scheme for dark theme */\n",
              "    --sklearn-color-text-on-default-background: var(--sg-text-color, var(--theme-code-foreground, var(--jp-content-font-color1, white)));\n",
              "    --sklearn-color-background: var(--sg-background-color, var(--theme-background, var(--jp-layout-color0, #111)));\n",
              "    --sklearn-color-border-box: var(--sg-text-color, var(--theme-code-foreground, var(--jp-content-font-color1, white)));\n",
              "    --sklearn-color-icon: #878787;\n",
              "  }\n",
              "}\n",
              "\n",
              "#sk-container-id-1 {\n",
              "  color: var(--sklearn-color-text);\n",
              "}\n",
              "\n",
              "#sk-container-id-1 pre {\n",
              "  padding: 0;\n",
              "}\n",
              "\n",
              "#sk-container-id-1 input.sk-hidden--visually {\n",
              "  border: 0;\n",
              "  clip: rect(1px 1px 1px 1px);\n",
              "  clip: rect(1px, 1px, 1px, 1px);\n",
              "  height: 1px;\n",
              "  margin: -1px;\n",
              "  overflow: hidden;\n",
              "  padding: 0;\n",
              "  position: absolute;\n",
              "  width: 1px;\n",
              "}\n",
              "\n",
              "#sk-container-id-1 div.sk-dashed-wrapped {\n",
              "  border: 1px dashed var(--sklearn-color-line);\n",
              "  margin: 0 0.4em 0.5em 0.4em;\n",
              "  box-sizing: border-box;\n",
              "  padding-bottom: 0.4em;\n",
              "  background-color: var(--sklearn-color-background);\n",
              "}\n",
              "\n",
              "#sk-container-id-1 div.sk-container {\n",
              "  /* jupyter's `normalize.less` sets `[hidden] { display: none; }`\n",
              "     but bootstrap.min.css set `[hidden] { display: none !important; }`\n",
              "     so we also need the `!important` here to be able to override the\n",
              "     default hidden behavior on the sphinx rendered scikit-learn.org.\n",
              "     See: https://github.com/scikit-learn/scikit-learn/issues/21755 */\n",
              "  display: inline-block !important;\n",
              "  position: relative;\n",
              "}\n",
              "\n",
              "#sk-container-id-1 div.sk-text-repr-fallback {\n",
              "  display: none;\n",
              "}\n",
              "\n",
              "div.sk-parallel-item,\n",
              "div.sk-serial,\n",
              "div.sk-item {\n",
              "  /* draw centered vertical line to link estimators */\n",
              "  background-image: linear-gradient(var(--sklearn-color-text-on-default-background), var(--sklearn-color-text-on-default-background));\n",
              "  background-size: 2px 100%;\n",
              "  background-repeat: no-repeat;\n",
              "  background-position: center center;\n",
              "}\n",
              "\n",
              "/* Parallel-specific style estimator block */\n",
              "\n",
              "#sk-container-id-1 div.sk-parallel-item::after {\n",
              "  content: \"\";\n",
              "  width: 100%;\n",
              "  border-bottom: 2px solid var(--sklearn-color-text-on-default-background);\n",
              "  flex-grow: 1;\n",
              "}\n",
              "\n",
              "#sk-container-id-1 div.sk-parallel {\n",
              "  display: flex;\n",
              "  align-items: stretch;\n",
              "  justify-content: center;\n",
              "  background-color: var(--sklearn-color-background);\n",
              "  position: relative;\n",
              "}\n",
              "\n",
              "#sk-container-id-1 div.sk-parallel-item {\n",
              "  display: flex;\n",
              "  flex-direction: column;\n",
              "}\n",
              "\n",
              "#sk-container-id-1 div.sk-parallel-item:first-child::after {\n",
              "  align-self: flex-end;\n",
              "  width: 50%;\n",
              "}\n",
              "\n",
              "#sk-container-id-1 div.sk-parallel-item:last-child::after {\n",
              "  align-self: flex-start;\n",
              "  width: 50%;\n",
              "}\n",
              "\n",
              "#sk-container-id-1 div.sk-parallel-item:only-child::after {\n",
              "  width: 0;\n",
              "}\n",
              "\n",
              "/* Serial-specific style estimator block */\n",
              "\n",
              "#sk-container-id-1 div.sk-serial {\n",
              "  display: flex;\n",
              "  flex-direction: column;\n",
              "  align-items: center;\n",
              "  background-color: var(--sklearn-color-background);\n",
              "  padding-right: 1em;\n",
              "  padding-left: 1em;\n",
              "}\n",
              "\n",
              "\n",
              "/* Toggleable style: style used for estimator/Pipeline/ColumnTransformer box that is\n",
              "clickable and can be expanded/collapsed.\n",
              "- Pipeline and ColumnTransformer use this feature and define the default style\n",
              "- Estimators will overwrite some part of the style using the `sk-estimator` class\n",
              "*/\n",
              "\n",
              "/* Pipeline and ColumnTransformer style (default) */\n",
              "\n",
              "#sk-container-id-1 div.sk-toggleable {\n",
              "  /* Default theme specific background. It is overwritten whether we have a\n",
              "  specific estimator or a Pipeline/ColumnTransformer */\n",
              "  background-color: var(--sklearn-color-background);\n",
              "}\n",
              "\n",
              "/* Toggleable label */\n",
              "#sk-container-id-1 label.sk-toggleable__label {\n",
              "  cursor: pointer;\n",
              "  display: flex;\n",
              "  width: 100%;\n",
              "  margin-bottom: 0;\n",
              "  padding: 0.5em;\n",
              "  box-sizing: border-box;\n",
              "  text-align: center;\n",
              "  align-items: start;\n",
              "  justify-content: space-between;\n",
              "  gap: 0.5em;\n",
              "}\n",
              "\n",
              "#sk-container-id-1 label.sk-toggleable__label .caption {\n",
              "  font-size: 0.6rem;\n",
              "  font-weight: lighter;\n",
              "  color: var(--sklearn-color-text-muted);\n",
              "}\n",
              "\n",
              "#sk-container-id-1 label.sk-toggleable__label-arrow:before {\n",
              "  /* Arrow on the left of the label */\n",
              "  content: \"▸\";\n",
              "  float: left;\n",
              "  margin-right: 0.25em;\n",
              "  color: var(--sklearn-color-icon);\n",
              "}\n",
              "\n",
              "#sk-container-id-1 label.sk-toggleable__label-arrow:hover:before {\n",
              "  color: var(--sklearn-color-text);\n",
              "}\n",
              "\n",
              "/* Toggleable content - dropdown */\n",
              "\n",
              "#sk-container-id-1 div.sk-toggleable__content {\n",
              "  max-height: 0;\n",
              "  max-width: 0;\n",
              "  overflow: hidden;\n",
              "  text-align: left;\n",
              "  /* unfitted */\n",
              "  background-color: var(--sklearn-color-unfitted-level-0);\n",
              "}\n",
              "\n",
              "#sk-container-id-1 div.sk-toggleable__content.fitted {\n",
              "  /* fitted */\n",
              "  background-color: var(--sklearn-color-fitted-level-0);\n",
              "}\n",
              "\n",
              "#sk-container-id-1 div.sk-toggleable__content pre {\n",
              "  margin: 0.2em;\n",
              "  border-radius: 0.25em;\n",
              "  color: var(--sklearn-color-text);\n",
              "  /* unfitted */\n",
              "  background-color: var(--sklearn-color-unfitted-level-0);\n",
              "}\n",
              "\n",
              "#sk-container-id-1 div.sk-toggleable__content.fitted pre {\n",
              "  /* unfitted */\n",
              "  background-color: var(--sklearn-color-fitted-level-0);\n",
              "}\n",
              "\n",
              "#sk-container-id-1 input.sk-toggleable__control:checked~div.sk-toggleable__content {\n",
              "  /* Expand drop-down */\n",
              "  max-height: 200px;\n",
              "  max-width: 100%;\n",
              "  overflow: auto;\n",
              "}\n",
              "\n",
              "#sk-container-id-1 input.sk-toggleable__control:checked~label.sk-toggleable__label-arrow:before {\n",
              "  content: \"▾\";\n",
              "}\n",
              "\n",
              "/* Pipeline/ColumnTransformer-specific style */\n",
              "\n",
              "#sk-container-id-1 div.sk-label input.sk-toggleable__control:checked~label.sk-toggleable__label {\n",
              "  color: var(--sklearn-color-text);\n",
              "  background-color: var(--sklearn-color-unfitted-level-2);\n",
              "}\n",
              "\n",
              "#sk-container-id-1 div.sk-label.fitted input.sk-toggleable__control:checked~label.sk-toggleable__label {\n",
              "  background-color: var(--sklearn-color-fitted-level-2);\n",
              "}\n",
              "\n",
              "/* Estimator-specific style */\n",
              "\n",
              "/* Colorize estimator box */\n",
              "#sk-container-id-1 div.sk-estimator input.sk-toggleable__control:checked~label.sk-toggleable__label {\n",
              "  /* unfitted */\n",
              "  background-color: var(--sklearn-color-unfitted-level-2);\n",
              "}\n",
              "\n",
              "#sk-container-id-1 div.sk-estimator.fitted input.sk-toggleable__control:checked~label.sk-toggleable__label {\n",
              "  /* fitted */\n",
              "  background-color: var(--sklearn-color-fitted-level-2);\n",
              "}\n",
              "\n",
              "#sk-container-id-1 div.sk-label label.sk-toggleable__label,\n",
              "#sk-container-id-1 div.sk-label label {\n",
              "  /* The background is the default theme color */\n",
              "  color: var(--sklearn-color-text-on-default-background);\n",
              "}\n",
              "\n",
              "/* On hover, darken the color of the background */\n",
              "#sk-container-id-1 div.sk-label:hover label.sk-toggleable__label {\n",
              "  color: var(--sklearn-color-text);\n",
              "  background-color: var(--sklearn-color-unfitted-level-2);\n",
              "}\n",
              "\n",
              "/* Label box, darken color on hover, fitted */\n",
              "#sk-container-id-1 div.sk-label.fitted:hover label.sk-toggleable__label.fitted {\n",
              "  color: var(--sklearn-color-text);\n",
              "  background-color: var(--sklearn-color-fitted-level-2);\n",
              "}\n",
              "\n",
              "/* Estimator label */\n",
              "\n",
              "#sk-container-id-1 div.sk-label label {\n",
              "  font-family: monospace;\n",
              "  font-weight: bold;\n",
              "  display: inline-block;\n",
              "  line-height: 1.2em;\n",
              "}\n",
              "\n",
              "#sk-container-id-1 div.sk-label-container {\n",
              "  text-align: center;\n",
              "}\n",
              "\n",
              "/* Estimator-specific */\n",
              "#sk-container-id-1 div.sk-estimator {\n",
              "  font-family: monospace;\n",
              "  border: 1px dotted var(--sklearn-color-border-box);\n",
              "  border-radius: 0.25em;\n",
              "  box-sizing: border-box;\n",
              "  margin-bottom: 0.5em;\n",
              "  /* unfitted */\n",
              "  background-color: var(--sklearn-color-unfitted-level-0);\n",
              "}\n",
              "\n",
              "#sk-container-id-1 div.sk-estimator.fitted {\n",
              "  /* fitted */\n",
              "  background-color: var(--sklearn-color-fitted-level-0);\n",
              "}\n",
              "\n",
              "/* on hover */\n",
              "#sk-container-id-1 div.sk-estimator:hover {\n",
              "  /* unfitted */\n",
              "  background-color: var(--sklearn-color-unfitted-level-2);\n",
              "}\n",
              "\n",
              "#sk-container-id-1 div.sk-estimator.fitted:hover {\n",
              "  /* fitted */\n",
              "  background-color: var(--sklearn-color-fitted-level-2);\n",
              "}\n",
              "\n",
              "/* Specification for estimator info (e.g. \"i\" and \"?\") */\n",
              "\n",
              "/* Common style for \"i\" and \"?\" */\n",
              "\n",
              ".sk-estimator-doc-link,\n",
              "a:link.sk-estimator-doc-link,\n",
              "a:visited.sk-estimator-doc-link {\n",
              "  float: right;\n",
              "  font-size: smaller;\n",
              "  line-height: 1em;\n",
              "  font-family: monospace;\n",
              "  background-color: var(--sklearn-color-background);\n",
              "  border-radius: 1em;\n",
              "  height: 1em;\n",
              "  width: 1em;\n",
              "  text-decoration: none !important;\n",
              "  margin-left: 0.5em;\n",
              "  text-align: center;\n",
              "  /* unfitted */\n",
              "  border: var(--sklearn-color-unfitted-level-1) 1pt solid;\n",
              "  color: var(--sklearn-color-unfitted-level-1);\n",
              "}\n",
              "\n",
              ".sk-estimator-doc-link.fitted,\n",
              "a:link.sk-estimator-doc-link.fitted,\n",
              "a:visited.sk-estimator-doc-link.fitted {\n",
              "  /* fitted */\n",
              "  border: var(--sklearn-color-fitted-level-1) 1pt solid;\n",
              "  color: var(--sklearn-color-fitted-level-1);\n",
              "}\n",
              "\n",
              "/* On hover */\n",
              "div.sk-estimator:hover .sk-estimator-doc-link:hover,\n",
              ".sk-estimator-doc-link:hover,\n",
              "div.sk-label-container:hover .sk-estimator-doc-link:hover,\n",
              ".sk-estimator-doc-link:hover {\n",
              "  /* unfitted */\n",
              "  background-color: var(--sklearn-color-unfitted-level-3);\n",
              "  color: var(--sklearn-color-background);\n",
              "  text-decoration: none;\n",
              "}\n",
              "\n",
              "div.sk-estimator.fitted:hover .sk-estimator-doc-link.fitted:hover,\n",
              ".sk-estimator-doc-link.fitted:hover,\n",
              "div.sk-label-container:hover .sk-estimator-doc-link.fitted:hover,\n",
              ".sk-estimator-doc-link.fitted:hover {\n",
              "  /* fitted */\n",
              "  background-color: var(--sklearn-color-fitted-level-3);\n",
              "  color: var(--sklearn-color-background);\n",
              "  text-decoration: none;\n",
              "}\n",
              "\n",
              "/* Span, style for the box shown on hovering the info icon */\n",
              ".sk-estimator-doc-link span {\n",
              "  display: none;\n",
              "  z-index: 9999;\n",
              "  position: relative;\n",
              "  font-weight: normal;\n",
              "  right: .2ex;\n",
              "  padding: .5ex;\n",
              "  margin: .5ex;\n",
              "  width: min-content;\n",
              "  min-width: 20ex;\n",
              "  max-width: 50ex;\n",
              "  color: var(--sklearn-color-text);\n",
              "  box-shadow: 2pt 2pt 4pt #999;\n",
              "  /* unfitted */\n",
              "  background: var(--sklearn-color-unfitted-level-0);\n",
              "  border: .5pt solid var(--sklearn-color-unfitted-level-3);\n",
              "}\n",
              "\n",
              ".sk-estimator-doc-link.fitted span {\n",
              "  /* fitted */\n",
              "  background: var(--sklearn-color-fitted-level-0);\n",
              "  border: var(--sklearn-color-fitted-level-3);\n",
              "}\n",
              "\n",
              ".sk-estimator-doc-link:hover span {\n",
              "  display: block;\n",
              "}\n",
              "\n",
              "/* \"?\"-specific style due to the `<a>` HTML tag */\n",
              "\n",
              "#sk-container-id-1 a.estimator_doc_link {\n",
              "  float: right;\n",
              "  font-size: 1rem;\n",
              "  line-height: 1em;\n",
              "  font-family: monospace;\n",
              "  background-color: var(--sklearn-color-background);\n",
              "  border-radius: 1rem;\n",
              "  height: 1rem;\n",
              "  width: 1rem;\n",
              "  text-decoration: none;\n",
              "  /* unfitted */\n",
              "  color: var(--sklearn-color-unfitted-level-1);\n",
              "  border: var(--sklearn-color-unfitted-level-1) 1pt solid;\n",
              "}\n",
              "\n",
              "#sk-container-id-1 a.estimator_doc_link.fitted {\n",
              "  /* fitted */\n",
              "  border: var(--sklearn-color-fitted-level-1) 1pt solid;\n",
              "  color: var(--sklearn-color-fitted-level-1);\n",
              "}\n",
              "\n",
              "/* On hover */\n",
              "#sk-container-id-1 a.estimator_doc_link:hover {\n",
              "  /* unfitted */\n",
              "  background-color: var(--sklearn-color-unfitted-level-3);\n",
              "  color: var(--sklearn-color-background);\n",
              "  text-decoration: none;\n",
              "}\n",
              "\n",
              "#sk-container-id-1 a.estimator_doc_link.fitted:hover {\n",
              "  /* fitted */\n",
              "  background-color: var(--sklearn-color-fitted-level-3);\n",
              "}\n",
              "</style><div id=\"sk-container-id-1\" class=\"sk-top-container\"><div class=\"sk-text-repr-fallback\"><pre>MLPClassifier(hidden_layer_sizes=[24], max_iter=500, shuffle=False)</pre><b>In a Jupyter environment, please rerun this cell to show the HTML representation or trust the notebook. <br />On GitHub, the HTML representation is unable to render, please try loading this page with nbviewer.org.</b></div><div class=\"sk-container\" hidden><div class=\"sk-item\"><div class=\"sk-estimator fitted sk-toggleable\"><input class=\"sk-toggleable__control sk-hidden--visually\" id=\"sk-estimator-id-1\" type=\"checkbox\" checked><label for=\"sk-estimator-id-1\" class=\"sk-toggleable__label fitted sk-toggleable__label-arrow\"><div><div>MLPClassifier</div></div><div><a class=\"sk-estimator-doc-link fitted\" rel=\"noreferrer\" target=\"_blank\" href=\"https://scikit-learn.org/1.6/modules/generated/sklearn.neural_network.MLPClassifier.html\">?<span>Documentation for MLPClassifier</span></a><span class=\"sk-estimator-doc-link fitted\">i<span>Fitted</span></span></div></label><div class=\"sk-toggleable__content fitted\"><pre>MLPClassifier(hidden_layer_sizes=[24], max_iter=500, shuffle=False)</pre></div> </div></div></div></div>"
            ]
          },
          "metadata": {},
          "execution_count": 27
        }
      ]
    },
    {
      "cell_type": "markdown",
      "source": [
        "使用训练数据来训练之前创建的神经网络模型。\n",
        "\n",
        "* .fit(...): 这是机器学习模型对象的标准方法，用于使用提供的数据来训练模型。\n",
        "* train_[cols]: 这是训练模型的特征数据。\n",
        "  * 等价于 train_[['lag_1', 'lag_2', 'lag_3']];\n",
        "  * train_ 是经过标准化的训练集 DataFrame。\n",
        "  * [cols] 使用之前定义的 cols 列表（包含 'lag_1', 'lag_2', 'lag_3'）来选择 train_ DataFrame 中作为模型输入的特征列。\n",
        "* train['d']: 这是训练模型的标签或目标变量。\n",
        "  * train 是原始的训练集 DataFrame。\n",
        "  * ['d'] 选择了 'd' 列，它包含了您想要模型预测的目标值（在这里是收益率的方向，1 或 -1）。\n",
        "\n",
        "简而言之,告诉模型使用 train_ DataFrame 中滞后收益率列的数据 (train_[cols]) 作为输入特征，\n",
        "\n",
        "并使用 train DataFrame 中的 'd' 列数据 (train['d']) 作为对应的目标输出来学习如何进行分类。\n",
        "\n",
        "模型会根据这些数据调整其内部参数，以便能够对新的、未见过的数据进行预测。  "
      ],
      "metadata": {
        "id": "6BgK029m5CpH"
      },
      "id": "6BgK029m5CpH"
    },
    {
      "cell_type": "code",
      "source": [
        "score = accuracy_score(train['d'], model.predict(train_[cols]));\n",
        "print(score);"
      ],
      "metadata": {
        "colab": {
          "base_uri": "https://localhost:8080/"
        },
        "id": "9PrYf0nZ9VUU",
        "outputId": "6ced4fc1-d790-44c1-e571-039c49517cb6"
      },
      "id": "9PrYf0nZ9VUU",
      "execution_count": 28,
      "outputs": [
        {
          "output_type": "stream",
          "name": "stdout",
          "text": [
            "0.5884244372990354\n"
          ]
        }
      ]
    },
    {
      "cell_type": "markdown",
      "source": [
        "计算训练集上模型预测的准确率。\n",
        "* accuracy_score(...): 这是您之前导入的用于计算准确率的函数。它需要两个参数：真实标签和模型预测的标签。\n",
        "* train['d']: 这是训练集的真实标签，也就是 train DataFrame 中的 'd' 列。\n",
        "* model.predict(train_[cols]): 这部分代码使用训练好的 model 对训练数据 train_[cols] 进行预测。model.predict() 方法会返回模型预测的标签。\n",
        "\n",
        "所以，accuracy_score() 函数会将训练集的真实标签 (train['d']) 与模型在训练集上预测的标签 (model.predict(train_[cols])) 进行比较，然后计算并返回准确率。\n",
        "\n",
        "这个准确率告诉您模型在它已经“见过”的数据上表现如何。\n",
        "\n",
        "通常，训练集上的准确率会比较高，但这并不能完全代表模型在新的、未见过的数据上的表现。\n",
        "\n",
        "为了评估模型的泛化能力，您还需要计算在测试集上的准确率。"
      ],
      "metadata": {
        "id": "DJQr8xJ59d3g"
      },
      "id": "DJQr8xJ59d3g"
    },
    {
      "cell_type": "code",
      "source": [
        "data['r'].hist(bins=100);"
      ],
      "metadata": {
        "colab": {
          "base_uri": "https://localhost:8080/",
          "height": 468
        },
        "id": "P5UsFztS-trO",
        "outputId": "46ea248c-d1d5-4b27-cc72-c4cf5833c937"
      },
      "id": "P5UsFztS-trO",
      "execution_count": 29,
      "outputs": [
        {
          "output_type": "display_data",
          "data": {
            "text/plain": [
              "<Figure size 800x550 with 1 Axes>"
            ],
            "image/svg+xml": "<?xml version=\"1.0\" encoding=\"utf-8\" standalone=\"no\"?>\n<!DOCTYPE svg PUBLIC \"-//W3C//DTD SVG 1.1//EN\"\n  \"http://www.w3.org/Graphics/SVG/1.1/DTD/svg11.dtd\">\n<svg xmlns:xlink=\"http://www.w3.org/1999/xlink\" width=\"480.394695pt\" height=\"335.641875pt\" viewBox=\"0 0 480.394695 335.641875\" xmlns=\"http://www.w3.org/2000/svg\" version=\"1.1\">\n <metadata>\n  <rdf:RDF xmlns:dc=\"http://purl.org/dc/elements/1.1/\" xmlns:cc=\"http://creativecommons.org/ns#\" xmlns:rdf=\"http://www.w3.org/1999/02/22-rdf-syntax-ns#\">\n   <cc:Work>\n    <dc:type rdf:resource=\"http://purl.org/dc/dcmitype/StillImage\"/>\n    <dc:date>2025-08-15T23:17:36.043481</dc:date>\n    <dc:format>image/svg+xml</dc:format>\n    <dc:creator>\n     <cc:Agent>\n      <dc:title>Matplotlib v3.10.0, https://matplotlib.org/</dc:title>\n     </cc:Agent>\n    </dc:creator>\n   </cc:Work>\n  </rdf:RDF>\n </metadata>\n <defs>\n  <style type=\"text/css\">*{stroke-linejoin: round; stroke-linecap: butt}</style>\n </defs>\n <g id=\"figure_1\">\n  <g id=\"patch_1\">\n   <path d=\"M 0 335.641875 \nL 480.394695 335.641875 \nL 480.394695 0 \nL 0 0 \nz\n\" style=\"fill: #ffffff\"/>\n  </g>\n  <g id=\"axes_1\">\n   <g id=\"patch_2\">\n    <path d=\"M 25.321875 312.12 \nL 471.721875 312.12 \nL 471.721875 7.2 \nL 25.321875 7.2 \nz\n\" style=\"fill: #eaeaf2\"/>\n   </g>\n   <g id=\"matplotlib.axis_1\">\n    <g id=\"xtick_1\">\n     <g id=\"line2d_1\">\n      <path d=\"M 56.646285 312.12 \nL 56.646285 7.2 \n\" clip-path=\"url(#p554cb0a349)\" style=\"fill: none; stroke: #ffffff; stroke-linecap: round\"/>\n     </g>\n     <g id=\"line2d_2\"/>\n     <g id=\"text_1\">\n      <!-- −0.100 -->\n      <g style=\"fill: #262626\" transform=\"translate(41.215035 326.366875) scale(0.1 -0.1)\">\n       <defs>\n        <path id=\"LiberationSans-2212\" d=\"M 316 1900 \nL 316 2356 \nL 3425 2356 \nL 3425 1900 \nL 316 1900 \nz\n\" transform=\"scale(0.015625)\"/>\n        <path id=\"LiberationSans-30\" d=\"M 3309 2203 \nQ 3309 1569 3189 1136 \nQ 3069 703 2861 436 \nQ 2653 169 2372 53 \nQ 2091 -63 1772 -63 \nQ 1450 -63 1172 53 \nQ 894 169 689 434 \nQ 484 700 367 1133 \nQ 250 1566 250 2203 \nQ 250 2869 367 3305 \nQ 484 3741 690 4000 \nQ 897 4259 1178 4364 \nQ 1459 4469 1791 4469 \nQ 2106 4469 2382 4364 \nQ 2659 4259 2865 4000 \nQ 3072 3741 3190 3305 \nQ 3309 2869 3309 2203 \nz\nM 2738 2203 \nQ 2738 2728 2675 3076 \nQ 2613 3425 2491 3633 \nQ 2369 3841 2192 3927 \nQ 2016 4013 1791 4013 \nQ 1553 4013 1372 3925 \nQ 1191 3838 1067 3630 \nQ 944 3422 881 3073 \nQ 819 2725 819 2203 \nQ 819 1697 883 1350 \nQ 947 1003 1070 792 \nQ 1194 581 1372 489 \nQ 1550 397 1778 397 \nQ 2000 397 2178 489 \nQ 2356 581 2479 792 \nQ 2603 1003 2670 1350 \nQ 2738 1697 2738 2203 \nz\n\" transform=\"scale(0.015625)\"/>\n        <path id=\"LiberationSans-2e\" d=\"M 584 0 \nL 584 684 \nL 1194 684 \nL 1194 0 \nL 584 0 \nz\n\" transform=\"scale(0.015625)\"/>\n        <path id=\"LiberationSans-31\" d=\"M 488 0 \nL 488 478 \nL 1609 478 \nL 1609 3866 \nL 616 3156 \nL 616 3688 \nL 1656 4403 \nL 2175 4403 \nL 2175 478 \nL 3247 478 \nL 3247 0 \nL 488 0 \nz\n\" transform=\"scale(0.015625)\"/>\n       </defs>\n       <use xlink:href=\"#LiberationSans-2212\"/>\n       <use xlink:href=\"#LiberationSans-30\" transform=\"translate(58.398438 0)\"/>\n       <use xlink:href=\"#LiberationSans-2e\" transform=\"translate(114.013672 0)\"/>\n       <use xlink:href=\"#LiberationSans-31\" transform=\"translate(141.796875 0)\"/>\n       <use xlink:href=\"#LiberationSans-30\" transform=\"translate(197.412109 0)\"/>\n       <use xlink:href=\"#LiberationSans-30\" transform=\"translate(253.027344 0)\"/>\n      </g>\n     </g>\n    </g>\n    <g id=\"xtick_2\">\n     <g id=\"line2d_3\">\n      <path d=\"M 107.150969 312.12 \nL 107.150969 7.2 \n\" clip-path=\"url(#p554cb0a349)\" style=\"fill: none; stroke: #ffffff; stroke-linecap: round\"/>\n     </g>\n     <g id=\"line2d_4\"/>\n     <g id=\"text_2\">\n      <!-- −0.075 -->\n      <g style=\"fill: #262626\" transform=\"translate(91.719719 326.366875) scale(0.1 -0.1)\">\n       <defs>\n        <path id=\"LiberationSans-37\" d=\"M 3238 3947 \nQ 2906 3441 2628 2973 \nQ 2350 2506 2150 2032 \nQ 1950 1559 1839 1061 \nQ 1728 563 1728 0 \nL 1141 0 \nQ 1141 528 1266 1036 \nQ 1391 1544 1603 2033 \nQ 1816 2522 2097 2994 \nQ 2378 3466 2694 3925 \nL 328 3925 \nL 328 4403 \nL 3238 4403 \nL 3238 3947 \nz\n\" transform=\"scale(0.015625)\"/>\n        <path id=\"LiberationSans-35\" d=\"M 3291 1434 \nQ 3291 1103 3191 828 \nQ 3091 553 2894 354 \nQ 2697 156 2405 46 \nQ 2113 -63 1728 -63 \nQ 1381 -63 1123 18 \nQ 866 100 687 242 \nQ 509 384 404 575 \nQ 300 766 256 984 \nL 825 1050 \nQ 859 925 921 808 \nQ 984 691 1092 598 \nQ 1200 506 1358 451 \nQ 1516 397 1741 397 \nQ 1959 397 2137 464 \nQ 2316 531 2442 662 \nQ 2569 794 2637 984 \nQ 2706 1175 2706 1422 \nQ 2706 1625 2640 1795 \nQ 2575 1966 2453 2089 \nQ 2331 2213 2154 2281 \nQ 1978 2350 1753 2350 \nQ 1613 2350 1494 2325 \nQ 1375 2300 1273 2256 \nQ 1172 2213 1089 2155 \nQ 1006 2097 934 2034 \nL 384 2034 \nL 531 4403 \nL 3034 4403 \nL 3034 3925 \nL 1044 3925 \nL 959 2528 \nQ 1109 2644 1334 2726 \nQ 1559 2809 1869 2809 \nQ 2197 2809 2459 2709 \nQ 2722 2609 2906 2426 \nQ 3091 2244 3191 1991 \nQ 3291 1738 3291 1434 \nz\n\" transform=\"scale(0.015625)\"/>\n       </defs>\n       <use xlink:href=\"#LiberationSans-2212\"/>\n       <use xlink:href=\"#LiberationSans-30\" transform=\"translate(58.398438 0)\"/>\n       <use xlink:href=\"#LiberationSans-2e\" transform=\"translate(114.013672 0)\"/>\n       <use xlink:href=\"#LiberationSans-30\" transform=\"translate(141.796875 0)\"/>\n       <use xlink:href=\"#LiberationSans-37\" transform=\"translate(197.412109 0)\"/>\n       <use xlink:href=\"#LiberationSans-35\" transform=\"translate(253.027344 0)\"/>\n      </g>\n     </g>\n    </g>\n    <g id=\"xtick_3\">\n     <g id=\"line2d_5\">\n      <path d=\"M 157.655653 312.12 \nL 157.655653 7.2 \n\" clip-path=\"url(#p554cb0a349)\" style=\"fill: none; stroke: #ffffff; stroke-linecap: round\"/>\n     </g>\n     <g id=\"line2d_6\"/>\n     <g id=\"text_3\">\n      <!-- −0.050 -->\n      <g style=\"fill: #262626\" transform=\"translate(142.224403 326.366875) scale(0.1 -0.1)\">\n       <use xlink:href=\"#LiberationSans-2212\"/>\n       <use xlink:href=\"#LiberationSans-30\" transform=\"translate(58.398438 0)\"/>\n       <use xlink:href=\"#LiberationSans-2e\" transform=\"translate(114.013672 0)\"/>\n       <use xlink:href=\"#LiberationSans-30\" transform=\"translate(141.796875 0)\"/>\n       <use xlink:href=\"#LiberationSans-35\" transform=\"translate(197.412109 0)\"/>\n       <use xlink:href=\"#LiberationSans-30\" transform=\"translate(253.027344 0)\"/>\n      </g>\n     </g>\n    </g>\n    <g id=\"xtick_4\">\n     <g id=\"line2d_7\">\n      <path d=\"M 208.160337 312.12 \nL 208.160337 7.2 \n\" clip-path=\"url(#p554cb0a349)\" style=\"fill: none; stroke: #ffffff; stroke-linecap: round\"/>\n     </g>\n     <g id=\"line2d_8\"/>\n     <g id=\"text_4\">\n      <!-- −0.025 -->\n      <g style=\"fill: #262626\" transform=\"translate(192.729087 326.366875) scale(0.1 -0.1)\">\n       <defs>\n        <path id=\"LiberationSans-32\" d=\"M 322 0 \nL 322 397 \nQ 481 763 711 1042 \nQ 941 1322 1194 1548 \nQ 1447 1775 1695 1969 \nQ 1944 2163 2144 2356 \nQ 2344 2550 2467 2762 \nQ 2591 2975 2591 3244 \nQ 2591 3431 2534 3573 \nQ 2478 3716 2372 3812 \nQ 2266 3909 2117 3957 \nQ 1969 4006 1788 4006 \nQ 1619 4006 1470 3959 \nQ 1322 3913 1206 3819 \nQ 1091 3725 1017 3586 \nQ 944 3447 922 3263 \nL 347 3316 \nQ 375 3553 478 3762 \nQ 581 3972 762 4130 \nQ 944 4288 1198 4378 \nQ 1453 4469 1788 4469 \nQ 2116 4469 2372 4391 \nQ 2628 4313 2804 4159 \nQ 2981 4006 3075 3781 \nQ 3169 3556 3169 3263 \nQ 3169 3041 3089 2841 \nQ 3009 2641 2876 2459 \nQ 2744 2278 2569 2109 \nQ 2394 1941 2203 1780 \nQ 2013 1619 1819 1461 \nQ 1625 1303 1454 1143 \nQ 1284 984 1150 820 \nQ 1016 656 941 478 \nL 3238 478 \nL 3238 0 \nL 322 0 \nz\n\" transform=\"scale(0.015625)\"/>\n       </defs>\n       <use xlink:href=\"#LiberationSans-2212\"/>\n       <use xlink:href=\"#LiberationSans-30\" transform=\"translate(58.398438 0)\"/>\n       <use xlink:href=\"#LiberationSans-2e\" transform=\"translate(114.013672 0)\"/>\n       <use xlink:href=\"#LiberationSans-30\" transform=\"translate(141.796875 0)\"/>\n       <use xlink:href=\"#LiberationSans-32\" transform=\"translate(197.412109 0)\"/>\n       <use xlink:href=\"#LiberationSans-35\" transform=\"translate(253.027344 0)\"/>\n      </g>\n     </g>\n    </g>\n    <g id=\"xtick_5\">\n     <g id=\"line2d_9\">\n      <path d=\"M 258.665021 312.12 \nL 258.665021 7.2 \n\" clip-path=\"url(#p554cb0a349)\" style=\"fill: none; stroke: #ffffff; stroke-linecap: round\"/>\n     </g>\n     <g id=\"line2d_10\"/>\n     <g id=\"text_5\">\n      <!-- 0.000 -->\n      <g style=\"fill: #262626\" transform=\"translate(246.154084 326.366875) scale(0.1 -0.1)\">\n       <use xlink:href=\"#LiberationSans-30\"/>\n       <use xlink:href=\"#LiberationSans-2e\" transform=\"translate(55.615234 0)\"/>\n       <use xlink:href=\"#LiberationSans-30\" transform=\"translate(83.398438 0)\"/>\n       <use xlink:href=\"#LiberationSans-30\" transform=\"translate(139.013672 0)\"/>\n       <use xlink:href=\"#LiberationSans-30\" transform=\"translate(194.628906 0)\"/>\n      </g>\n     </g>\n    </g>\n    <g id=\"xtick_6\">\n     <g id=\"line2d_11\">\n      <path d=\"M 309.169705 312.12 \nL 309.169705 7.2 \n\" clip-path=\"url(#p554cb0a349)\" style=\"fill: none; stroke: #ffffff; stroke-linecap: round\"/>\n     </g>\n     <g id=\"line2d_12\"/>\n     <g id=\"text_6\">\n      <!-- 0.025 -->\n      <g style=\"fill: #262626\" transform=\"translate(296.658768 326.366875) scale(0.1 -0.1)\">\n       <use xlink:href=\"#LiberationSans-30\"/>\n       <use xlink:href=\"#LiberationSans-2e\" transform=\"translate(55.615234 0)\"/>\n       <use xlink:href=\"#LiberationSans-30\" transform=\"translate(83.398438 0)\"/>\n       <use xlink:href=\"#LiberationSans-32\" transform=\"translate(139.013672 0)\"/>\n       <use xlink:href=\"#LiberationSans-35\" transform=\"translate(194.628906 0)\"/>\n      </g>\n     </g>\n    </g>\n    <g id=\"xtick_7\">\n     <g id=\"line2d_13\">\n      <path d=\"M 359.674389 312.12 \nL 359.674389 7.2 \n\" clip-path=\"url(#p554cb0a349)\" style=\"fill: none; stroke: #ffffff; stroke-linecap: round\"/>\n     </g>\n     <g id=\"line2d_14\"/>\n     <g id=\"text_7\">\n      <!-- 0.050 -->\n      <g style=\"fill: #262626\" transform=\"translate(347.163452 326.366875) scale(0.1 -0.1)\">\n       <use xlink:href=\"#LiberationSans-30\"/>\n       <use xlink:href=\"#LiberationSans-2e\" transform=\"translate(55.615234 0)\"/>\n       <use xlink:href=\"#LiberationSans-30\" transform=\"translate(83.398438 0)\"/>\n       <use xlink:href=\"#LiberationSans-35\" transform=\"translate(139.013672 0)\"/>\n       <use xlink:href=\"#LiberationSans-30\" transform=\"translate(194.628906 0)\"/>\n      </g>\n     </g>\n    </g>\n    <g id=\"xtick_8\">\n     <g id=\"line2d_15\">\n      <path d=\"M 410.179073 312.12 \nL 410.179073 7.2 \n\" clip-path=\"url(#p554cb0a349)\" style=\"fill: none; stroke: #ffffff; stroke-linecap: round\"/>\n     </g>\n     <g id=\"line2d_16\"/>\n     <g id=\"text_8\">\n      <!-- 0.075 -->\n      <g style=\"fill: #262626\" transform=\"translate(397.668136 326.366875) scale(0.1 -0.1)\">\n       <use xlink:href=\"#LiberationSans-30\"/>\n       <use xlink:href=\"#LiberationSans-2e\" transform=\"translate(55.615234 0)\"/>\n       <use xlink:href=\"#LiberationSans-30\" transform=\"translate(83.398438 0)\"/>\n       <use xlink:href=\"#LiberationSans-37\" transform=\"translate(139.013672 0)\"/>\n       <use xlink:href=\"#LiberationSans-35\" transform=\"translate(194.628906 0)\"/>\n      </g>\n     </g>\n    </g>\n    <g id=\"xtick_9\">\n     <g id=\"line2d_17\">\n      <path d=\"M 460.683757 312.12 \nL 460.683757 7.2 \n\" clip-path=\"url(#p554cb0a349)\" style=\"fill: none; stroke: #ffffff; stroke-linecap: round\"/>\n     </g>\n     <g id=\"line2d_18\"/>\n     <g id=\"text_9\">\n      <!-- 0.100 -->\n      <g style=\"fill: #262626\" transform=\"translate(448.17282 326.366875) scale(0.1 -0.1)\">\n       <use xlink:href=\"#LiberationSans-30\"/>\n       <use xlink:href=\"#LiberationSans-2e\" transform=\"translate(55.615234 0)\"/>\n       <use xlink:href=\"#LiberationSans-31\" transform=\"translate(83.398438 0)\"/>\n       <use xlink:href=\"#LiberationSans-30\" transform=\"translate(139.013672 0)\"/>\n       <use xlink:href=\"#LiberationSans-30\" transform=\"translate(194.628906 0)\"/>\n      </g>\n     </g>\n    </g>\n   </g>\n   <g id=\"matplotlib.axis_2\">\n    <g id=\"ytick_1\">\n     <g id=\"line2d_19\">\n      <path d=\"M 25.321875 312.12 \nL 471.721875 312.12 \n\" clip-path=\"url(#p554cb0a349)\" style=\"fill: none; stroke: #ffffff; stroke-linecap: round\"/>\n     </g>\n     <g id=\"line2d_20\"/>\n     <g id=\"text_10\">\n      <!-- 0 -->\n      <g style=\"fill: #262626\" transform=\"translate(12.760938 315.743437) scale(0.1 -0.1)\">\n       <use xlink:href=\"#LiberationSans-30\"/>\n      </g>\n     </g>\n    </g>\n    <g id=\"ytick_2\">\n     <g id=\"line2d_21\">\n      <path d=\"M 25.321875 258.342222 \nL 471.721875 258.342222 \n\" clip-path=\"url(#p554cb0a349)\" style=\"fill: none; stroke: #ffffff; stroke-linecap: round\"/>\n     </g>\n     <g id=\"line2d_22\"/>\n     <g id=\"text_11\">\n      <!-- 5 -->\n      <g style=\"fill: #262626\" transform=\"translate(12.760938 261.96566) scale(0.1 -0.1)\">\n       <use xlink:href=\"#LiberationSans-35\"/>\n      </g>\n     </g>\n    </g>\n    <g id=\"ytick_3\">\n     <g id=\"line2d_23\">\n      <path d=\"M 25.321875 204.564444 \nL 471.721875 204.564444 \n\" clip-path=\"url(#p554cb0a349)\" style=\"fill: none; stroke: #ffffff; stroke-linecap: round\"/>\n     </g>\n     <g id=\"line2d_24\"/>\n     <g id=\"text_12\">\n      <!-- 10 -->\n      <g style=\"fill: #262626\" transform=\"translate(7.2 208.187882) scale(0.1 -0.1)\">\n       <use xlink:href=\"#LiberationSans-31\"/>\n       <use xlink:href=\"#LiberationSans-30\" transform=\"translate(55.615234 0)\"/>\n      </g>\n     </g>\n    </g>\n    <g id=\"ytick_4\">\n     <g id=\"line2d_25\">\n      <path d=\"M 25.321875 150.786667 \nL 471.721875 150.786667 \n\" clip-path=\"url(#p554cb0a349)\" style=\"fill: none; stroke: #ffffff; stroke-linecap: round\"/>\n     </g>\n     <g id=\"line2d_26\"/>\n     <g id=\"text_13\">\n      <!-- 15 -->\n      <g style=\"fill: #262626\" transform=\"translate(7.2 154.410104) scale(0.1 -0.1)\">\n       <use xlink:href=\"#LiberationSans-31\"/>\n       <use xlink:href=\"#LiberationSans-35\" transform=\"translate(55.615234 0)\"/>\n      </g>\n     </g>\n    </g>\n    <g id=\"ytick_5\">\n     <g id=\"line2d_27\">\n      <path d=\"M 25.321875 97.008889 \nL 471.721875 97.008889 \n\" clip-path=\"url(#p554cb0a349)\" style=\"fill: none; stroke: #ffffff; stroke-linecap: round\"/>\n     </g>\n     <g id=\"line2d_28\"/>\n     <g id=\"text_14\">\n      <!-- 20 -->\n      <g style=\"fill: #262626\" transform=\"translate(7.2 100.632326) scale(0.1 -0.1)\">\n       <use xlink:href=\"#LiberationSans-32\"/>\n       <use xlink:href=\"#LiberationSans-30\" transform=\"translate(55.615234 0)\"/>\n      </g>\n     </g>\n    </g>\n    <g id=\"ytick_6\">\n     <g id=\"line2d_29\">\n      <path d=\"M 25.321875 43.231111 \nL 471.721875 43.231111 \n\" clip-path=\"url(#p554cb0a349)\" style=\"fill: none; stroke: #ffffff; stroke-linecap: round\"/>\n     </g>\n     <g id=\"line2d_30\"/>\n     <g id=\"text_15\">\n      <!-- 25 -->\n      <g style=\"fill: #262626\" transform=\"translate(7.2 46.854549) scale(0.1 -0.1)\">\n       <use xlink:href=\"#LiberationSans-32\"/>\n       <use xlink:href=\"#LiberationSans-35\" transform=\"translate(55.615234 0)\"/>\n      </g>\n     </g>\n    </g>\n   </g>\n   <g id=\"patch_3\">\n    <path d=\"M 45.612784 312.12 \nL 49.670966 312.12 \nL 49.670966 301.364444 \nL 45.612784 301.364444 \nz\n\" clip-path=\"url(#p554cb0a349)\" style=\"fill: #4c72b0\"/>\n   </g>\n   <g id=\"patch_4\">\n    <path d=\"M 49.670966 312.12 \nL 53.729148 312.12 \nL 53.729148 312.12 \nL 49.670966 312.12 \nz\n\" clip-path=\"url(#p554cb0a349)\" style=\"fill: #4c72b0\"/>\n   </g>\n   <g id=\"patch_5\">\n    <path d=\"M 53.729148 312.12 \nL 57.78733 312.12 \nL 57.78733 312.12 \nL 53.729148 312.12 \nz\n\" clip-path=\"url(#p554cb0a349)\" style=\"fill: #4c72b0\"/>\n   </g>\n   <g id=\"patch_6\">\n    <path d=\"M 57.78733 312.12 \nL 61.845511 312.12 \nL 61.845511 301.364444 \nL 57.78733 301.364444 \nz\n\" clip-path=\"url(#p554cb0a349)\" style=\"fill: #4c72b0\"/>\n   </g>\n   <g id=\"patch_7\">\n    <path d=\"M 61.845511 312.12 \nL 65.903693 312.12 \nL 65.903693 312.12 \nL 61.845511 312.12 \nz\n\" clip-path=\"url(#p554cb0a349)\" style=\"fill: #4c72b0\"/>\n   </g>\n   <g id=\"patch_8\">\n    <path d=\"M 65.903693 312.12 \nL 69.961875 312.12 \nL 69.961875 312.12 \nL 65.903693 312.12 \nz\n\" clip-path=\"url(#p554cb0a349)\" style=\"fill: #4c72b0\"/>\n   </g>\n   <g id=\"patch_9\">\n    <path d=\"M 69.961875 312.12 \nL 74.020057 312.12 \nL 74.020057 312.12 \nL 69.961875 312.12 \nz\n\" clip-path=\"url(#p554cb0a349)\" style=\"fill: #4c72b0\"/>\n   </g>\n   <g id=\"patch_10\">\n    <path d=\"M 74.020057 312.12 \nL 78.078239 312.12 \nL 78.078239 312.12 \nL 74.020057 312.12 \nz\n\" clip-path=\"url(#p554cb0a349)\" style=\"fill: #4c72b0\"/>\n   </g>\n   <g id=\"patch_11\">\n    <path d=\"M 78.078239 312.12 \nL 82.13642 312.12 \nL 82.13642 312.12 \nL 78.078239 312.12 \nz\n\" clip-path=\"url(#p554cb0a349)\" style=\"fill: #4c72b0\"/>\n   </g>\n   <g id=\"patch_12\">\n    <path d=\"M 82.13642 312.12 \nL 86.194602 312.12 \nL 86.194602 312.12 \nL 82.13642 312.12 \nz\n\" clip-path=\"url(#p554cb0a349)\" style=\"fill: #4c72b0\"/>\n   </g>\n   <g id=\"patch_13\">\n    <path d=\"M 86.194602 312.12 \nL 90.252784 312.12 \nL 90.252784 312.12 \nL 86.194602 312.12 \nz\n\" clip-path=\"url(#p554cb0a349)\" style=\"fill: #4c72b0\"/>\n   </g>\n   <g id=\"patch_14\">\n    <path d=\"M 90.252784 312.12 \nL 94.310966 312.12 \nL 94.310966 312.12 \nL 90.252784 312.12 \nz\n\" clip-path=\"url(#p554cb0a349)\" style=\"fill: #4c72b0\"/>\n   </g>\n   <g id=\"patch_15\">\n    <path d=\"M 94.310966 312.12 \nL 98.369148 312.12 \nL 98.369148 312.12 \nL 94.310966 312.12 \nz\n\" clip-path=\"url(#p554cb0a349)\" style=\"fill: #4c72b0\"/>\n   </g>\n   <g id=\"patch_16\">\n    <path d=\"M 98.369148 312.12 \nL 102.42733 312.12 \nL 102.42733 312.12 \nL 98.369148 312.12 \nz\n\" clip-path=\"url(#p554cb0a349)\" style=\"fill: #4c72b0\"/>\n   </g>\n   <g id=\"patch_17\">\n    <path d=\"M 102.42733 312.12 \nL 106.485511 312.12 \nL 106.485511 312.12 \nL 102.42733 312.12 \nz\n\" clip-path=\"url(#p554cb0a349)\" style=\"fill: #4c72b0\"/>\n   </g>\n   <g id=\"patch_18\">\n    <path d=\"M 106.485511 312.12 \nL 110.543693 312.12 \nL 110.543693 312.12 \nL 106.485511 312.12 \nz\n\" clip-path=\"url(#p554cb0a349)\" style=\"fill: #4c72b0\"/>\n   </g>\n   <g id=\"patch_19\">\n    <path d=\"M 110.543693 312.12 \nL 114.601875 312.12 \nL 114.601875 312.12 \nL 110.543693 312.12 \nz\n\" clip-path=\"url(#p554cb0a349)\" style=\"fill: #4c72b0\"/>\n   </g>\n   <g id=\"patch_20\">\n    <path d=\"M 114.601875 312.12 \nL 118.660057 312.12 \nL 118.660057 312.12 \nL 114.601875 312.12 \nz\n\" clip-path=\"url(#p554cb0a349)\" style=\"fill: #4c72b0\"/>\n   </g>\n   <g id=\"patch_21\">\n    <path d=\"M 118.660057 312.12 \nL 122.718239 312.12 \nL 122.718239 312.12 \nL 118.660057 312.12 \nz\n\" clip-path=\"url(#p554cb0a349)\" style=\"fill: #4c72b0\"/>\n   </g>\n   <g id=\"patch_22\">\n    <path d=\"M 122.718239 312.12 \nL 126.77642 312.12 \nL 126.77642 312.12 \nL 122.718239 312.12 \nz\n\" clip-path=\"url(#p554cb0a349)\" style=\"fill: #4c72b0\"/>\n   </g>\n   <g id=\"patch_23\">\n    <path d=\"M 126.77642 312.12 \nL 130.834602 312.12 \nL 130.834602 312.12 \nL 126.77642 312.12 \nz\n\" clip-path=\"url(#p554cb0a349)\" style=\"fill: #4c72b0\"/>\n   </g>\n   <g id=\"patch_24\">\n    <path d=\"M 130.834602 312.12 \nL 134.892784 312.12 \nL 134.892784 312.12 \nL 130.834602 312.12 \nz\n\" clip-path=\"url(#p554cb0a349)\" style=\"fill: #4c72b0\"/>\n   </g>\n   <g id=\"patch_25\">\n    <path d=\"M 134.892784 312.12 \nL 138.950966 312.12 \nL 138.950966 312.12 \nL 134.892784 312.12 \nz\n\" clip-path=\"url(#p554cb0a349)\" style=\"fill: #4c72b0\"/>\n   </g>\n   <g id=\"patch_26\">\n    <path d=\"M 138.950966 312.12 \nL 143.009148 312.12 \nL 143.009148 312.12 \nL 138.950966 312.12 \nz\n\" clip-path=\"url(#p554cb0a349)\" style=\"fill: #4c72b0\"/>\n   </g>\n   <g id=\"patch_27\">\n    <path d=\"M 143.009148 312.12 \nL 147.06733 312.12 \nL 147.06733 301.364444 \nL 143.009148 301.364444 \nz\n\" clip-path=\"url(#p554cb0a349)\" style=\"fill: #4c72b0\"/>\n   </g>\n   <g id=\"patch_28\">\n    <path d=\"M 147.06733 312.12 \nL 151.125511 312.12 \nL 151.125511 312.12 \nL 147.06733 312.12 \nz\n\" clip-path=\"url(#p554cb0a349)\" style=\"fill: #4c72b0\"/>\n   </g>\n   <g id=\"patch_29\">\n    <path d=\"M 151.125511 312.12 \nL 155.183693 312.12 \nL 155.183693 301.364444 \nL 151.125511 301.364444 \nz\n\" clip-path=\"url(#p554cb0a349)\" style=\"fill: #4c72b0\"/>\n   </g>\n   <g id=\"patch_30\">\n    <path d=\"M 155.183693 312.12 \nL 159.241875 312.12 \nL 159.241875 312.12 \nL 155.183693 312.12 \nz\n\" clip-path=\"url(#p554cb0a349)\" style=\"fill: #4c72b0\"/>\n   </g>\n   <g id=\"patch_31\">\n    <path d=\"M 159.241875 312.12 \nL 163.300057 312.12 \nL 163.300057 312.12 \nL 159.241875 312.12 \nz\n\" clip-path=\"url(#p554cb0a349)\" style=\"fill: #4c72b0\"/>\n   </g>\n   <g id=\"patch_32\">\n    <path d=\"M 163.300057 312.12 \nL 167.358239 312.12 \nL 167.358239 301.364444 \nL 163.300057 301.364444 \nz\n\" clip-path=\"url(#p554cb0a349)\" style=\"fill: #4c72b0\"/>\n   </g>\n   <g id=\"patch_33\">\n    <path d=\"M 167.358239 312.12 \nL 171.41642 312.12 \nL 171.41642 312.12 \nL 167.358239 312.12 \nz\n\" clip-path=\"url(#p554cb0a349)\" style=\"fill: #4c72b0\"/>\n   </g>\n   <g id=\"patch_34\">\n    <path d=\"M 171.41642 312.12 \nL 175.474602 312.12 \nL 175.474602 269.097778 \nL 171.41642 269.097778 \nz\n\" clip-path=\"url(#p554cb0a349)\" style=\"fill: #4c72b0\"/>\n   </g>\n   <g id=\"patch_35\">\n    <path d=\"M 175.474602 312.12 \nL 179.532784 312.12 \nL 179.532784 301.364444 \nL 175.474602 301.364444 \nz\n\" clip-path=\"url(#p554cb0a349)\" style=\"fill: #4c72b0\"/>\n   </g>\n   <g id=\"patch_36\">\n    <path d=\"M 179.532784 312.12 \nL 183.590966 312.12 \nL 183.590966 290.608889 \nL 179.532784 290.608889 \nz\n\" clip-path=\"url(#p554cb0a349)\" style=\"fill: #4c72b0\"/>\n   </g>\n   <g id=\"patch_37\">\n    <path d=\"M 183.590966 312.12 \nL 187.649148 312.12 \nL 187.649148 290.608889 \nL 183.590966 290.608889 \nz\n\" clip-path=\"url(#p554cb0a349)\" style=\"fill: #4c72b0\"/>\n   </g>\n   <g id=\"patch_38\">\n    <path d=\"M 187.649148 312.12 \nL 191.70733 312.12 \nL 191.70733 269.097778 \nL 187.649148 269.097778 \nz\n\" clip-path=\"url(#p554cb0a349)\" style=\"fill: #4c72b0\"/>\n   </g>\n   <g id=\"patch_39\">\n    <path d=\"M 191.70733 312.12 \nL 195.765511 312.12 \nL 195.765511 290.608889 \nL 191.70733 290.608889 \nz\n\" clip-path=\"url(#p554cb0a349)\" style=\"fill: #4c72b0\"/>\n   </g>\n   <g id=\"patch_40\">\n    <path d=\"M 195.765511 312.12 \nL 199.823693 312.12 \nL 199.823693 236.831111 \nL 195.765511 236.831111 \nz\n\" clip-path=\"url(#p554cb0a349)\" style=\"fill: #4c72b0\"/>\n   </g>\n   <g id=\"patch_41\">\n    <path d=\"M 199.823693 312.12 \nL 203.881875 312.12 \nL 203.881875 236.831111 \nL 199.823693 236.831111 \nz\n\" clip-path=\"url(#p554cb0a349)\" style=\"fill: #4c72b0\"/>\n   </g>\n   <g id=\"patch_42\">\n    <path d=\"M 203.881875 312.12 \nL 207.940057 312.12 \nL 207.940057 258.342222 \nL 203.881875 258.342222 \nz\n\" clip-path=\"url(#p554cb0a349)\" style=\"fill: #4c72b0\"/>\n   </g>\n   <g id=\"patch_43\">\n    <path d=\"M 207.940057 312.12 \nL 211.998239 312.12 \nL 211.998239 236.831111 \nL 207.940057 236.831111 \nz\n\" clip-path=\"url(#p554cb0a349)\" style=\"fill: #4c72b0\"/>\n   </g>\n   <g id=\"patch_44\">\n    <path d=\"M 211.998239 312.12 \nL 216.05642 312.12 \nL 216.05642 236.831111 \nL 211.998239 236.831111 \nz\n\" clip-path=\"url(#p554cb0a349)\" style=\"fill: #4c72b0\"/>\n   </g>\n   <g id=\"patch_45\">\n    <path d=\"M 216.05642 312.12 \nL 220.114602 312.12 \nL 220.114602 204.564444 \nL 216.05642 204.564444 \nz\n\" clip-path=\"url(#p554cb0a349)\" style=\"fill: #4c72b0\"/>\n   </g>\n   <g id=\"patch_46\">\n    <path d=\"M 220.114602 312.12 \nL 224.172784 312.12 \nL 224.172784 204.564444 \nL 220.114602 204.564444 \nz\n\" clip-path=\"url(#p554cb0a349)\" style=\"fill: #4c72b0\"/>\n   </g>\n   <g id=\"patch_47\">\n    <path d=\"M 224.172784 312.12 \nL 228.230966 312.12 \nL 228.230966 193.808889 \nL 224.172784 193.808889 \nz\n\" clip-path=\"url(#p554cb0a349)\" style=\"fill: #4c72b0\"/>\n   </g>\n   <g id=\"patch_48\">\n    <path d=\"M 228.230966 312.12 \nL 232.289148 312.12 \nL 232.289148 236.831111 \nL 228.230966 236.831111 \nz\n\" clip-path=\"url(#p554cb0a349)\" style=\"fill: #4c72b0\"/>\n   </g>\n   <g id=\"patch_49\">\n    <path d=\"M 232.289148 312.12 \nL 236.34733 312.12 \nL 236.34733 140.031111 \nL 232.289148 140.031111 \nz\n\" clip-path=\"url(#p554cb0a349)\" style=\"fill: #4c72b0\"/>\n   </g>\n   <g id=\"patch_50\">\n    <path d=\"M 236.34733 312.12 \nL 240.405511 312.12 \nL 240.405511 161.542222 \nL 236.34733 161.542222 \nz\n\" clip-path=\"url(#p554cb0a349)\" style=\"fill: #4c72b0\"/>\n   </g>\n   <g id=\"patch_51\">\n    <path d=\"M 240.405511 312.12 \nL 244.463693 312.12 \nL 244.463693 150.786667 \nL 240.405511 150.786667 \nz\n\" clip-path=\"url(#p554cb0a349)\" style=\"fill: #4c72b0\"/>\n   </g>\n   <g id=\"patch_52\">\n    <path d=\"M 244.463693 312.12 \nL 248.521875 312.12 \nL 248.521875 140.031111 \nL 244.463693 140.031111 \nz\n\" clip-path=\"url(#p554cb0a349)\" style=\"fill: #4c72b0\"/>\n   </g>\n   <g id=\"patch_53\">\n    <path d=\"M 248.521875 312.12 \nL 252.580057 312.12 \nL 252.580057 64.742222 \nL 248.521875 64.742222 \nz\n\" clip-path=\"url(#p554cb0a349)\" style=\"fill: #4c72b0\"/>\n   </g>\n   <g id=\"patch_54\">\n    <path d=\"M 252.580057 312.12 \nL 256.638239 312.12 \nL 256.638239 43.231111 \nL 252.580057 43.231111 \nz\n\" clip-path=\"url(#p554cb0a349)\" style=\"fill: #4c72b0\"/>\n   </g>\n   <g id=\"patch_55\">\n    <path d=\"M 256.638239 312.12 \nL 260.69642 312.12 \nL 260.69642 150.786667 \nL 256.638239 150.786667 \nz\n\" clip-path=\"url(#p554cb0a349)\" style=\"fill: #4c72b0\"/>\n   </g>\n   <g id=\"patch_56\">\n    <path d=\"M 260.69642 312.12 \nL 264.754602 312.12 \nL 264.754602 75.497778 \nL 260.69642 75.497778 \nz\n\" clip-path=\"url(#p554cb0a349)\" style=\"fill: #4c72b0\"/>\n   </g>\n   <g id=\"patch_57\">\n    <path d=\"M 264.754602 312.12 \nL 268.812784 312.12 \nL 268.812784 21.72 \nL 264.754602 21.72 \nz\n\" clip-path=\"url(#p554cb0a349)\" style=\"fill: #4c72b0\"/>\n   </g>\n   <g id=\"patch_58\">\n    <path d=\"M 268.812784 312.12 \nL 272.870966 312.12 \nL 272.870966 161.542222 \nL 268.812784 161.542222 \nz\n\" clip-path=\"url(#p554cb0a349)\" style=\"fill: #4c72b0\"/>\n   </g>\n   <g id=\"patch_59\">\n    <path d=\"M 272.870966 312.12 \nL 276.929148 312.12 \nL 276.929148 193.808889 \nL 272.870966 193.808889 \nz\n\" clip-path=\"url(#p554cb0a349)\" style=\"fill: #4c72b0\"/>\n   </g>\n   <g id=\"patch_60\">\n    <path d=\"M 276.929148 312.12 \nL 280.98733 312.12 \nL 280.98733 226.075556 \nL 276.929148 226.075556 \nz\n\" clip-path=\"url(#p554cb0a349)\" style=\"fill: #4c72b0\"/>\n   </g>\n   <g id=\"patch_61\">\n    <path d=\"M 280.98733 312.12 \nL 285.045511 312.12 \nL 285.045511 129.275556 \nL 280.98733 129.275556 \nz\n\" clip-path=\"url(#p554cb0a349)\" style=\"fill: #4c72b0\"/>\n   </g>\n   <g id=\"patch_62\">\n    <path d=\"M 285.045511 312.12 \nL 289.103693 312.12 \nL 289.103693 226.075556 \nL 285.045511 226.075556 \nz\n\" clip-path=\"url(#p554cb0a349)\" style=\"fill: #4c72b0\"/>\n   </g>\n   <g id=\"patch_63\">\n    <path d=\"M 289.103693 312.12 \nL 293.161875 312.12 \nL 293.161875 236.831111 \nL 289.103693 236.831111 \nz\n\" clip-path=\"url(#p554cb0a349)\" style=\"fill: #4c72b0\"/>\n   </g>\n   <g id=\"patch_64\">\n    <path d=\"M 293.161875 312.12 \nL 297.220057 312.12 \nL 297.220057 193.808889 \nL 293.161875 193.808889 \nz\n\" clip-path=\"url(#p554cb0a349)\" style=\"fill: #4c72b0\"/>\n   </g>\n   <g id=\"patch_65\">\n    <path d=\"M 297.220057 312.12 \nL 301.278239 312.12 \nL 301.278239 236.831111 \nL 297.220057 236.831111 \nz\n\" clip-path=\"url(#p554cb0a349)\" style=\"fill: #4c72b0\"/>\n   </g>\n   <g id=\"patch_66\">\n    <path d=\"M 301.278239 312.12 \nL 305.33642 312.12 \nL 305.33642 269.097778 \nL 301.278239 269.097778 \nz\n\" clip-path=\"url(#p554cb0a349)\" style=\"fill: #4c72b0\"/>\n   </g>\n   <g id=\"patch_67\">\n    <path d=\"M 305.33642 312.12 \nL 309.394602 312.12 \nL 309.394602 279.853333 \nL 305.33642 279.853333 \nz\n\" clip-path=\"url(#p554cb0a349)\" style=\"fill: #4c72b0\"/>\n   </g>\n   <g id=\"patch_68\">\n    <path d=\"M 309.394602 312.12 \nL 313.452784 312.12 \nL 313.452784 290.608889 \nL 309.394602 290.608889 \nz\n\" clip-path=\"url(#p554cb0a349)\" style=\"fill: #4c72b0\"/>\n   </g>\n   <g id=\"patch_69\">\n    <path d=\"M 313.452784 312.12 \nL 317.510966 312.12 \nL 317.510966 290.608889 \nL 313.452784 290.608889 \nz\n\" clip-path=\"url(#p554cb0a349)\" style=\"fill: #4c72b0\"/>\n   </g>\n   <g id=\"patch_70\">\n    <path d=\"M 317.510966 312.12 \nL 321.569148 312.12 \nL 321.569148 279.853333 \nL 317.510966 279.853333 \nz\n\" clip-path=\"url(#p554cb0a349)\" style=\"fill: #4c72b0\"/>\n   </g>\n   <g id=\"patch_71\">\n    <path d=\"M 321.569148 312.12 \nL 325.62733 312.12 \nL 325.62733 279.853333 \nL 321.569148 279.853333 \nz\n\" clip-path=\"url(#p554cb0a349)\" style=\"fill: #4c72b0\"/>\n   </g>\n   <g id=\"patch_72\">\n    <path d=\"M 325.62733 312.12 \nL 329.685511 312.12 \nL 329.685511 301.364444 \nL 325.62733 301.364444 \nz\n\" clip-path=\"url(#p554cb0a349)\" style=\"fill: #4c72b0\"/>\n   </g>\n   <g id=\"patch_73\">\n    <path d=\"M 329.685511 312.12 \nL 333.743693 312.12 \nL 333.743693 279.853333 \nL 329.685511 279.853333 \nz\n\" clip-path=\"url(#p554cb0a349)\" style=\"fill: #4c72b0\"/>\n   </g>\n   <g id=\"patch_74\">\n    <path d=\"M 333.743693 312.12 \nL 337.801875 312.12 \nL 337.801875 301.364444 \nL 333.743693 301.364444 \nz\n\" clip-path=\"url(#p554cb0a349)\" style=\"fill: #4c72b0\"/>\n   </g>\n   <g id=\"patch_75\">\n    <path d=\"M 337.801875 312.12 \nL 341.860057 312.12 \nL 341.860057 301.364444 \nL 337.801875 301.364444 \nz\n\" clip-path=\"url(#p554cb0a349)\" style=\"fill: #4c72b0\"/>\n   </g>\n   <g id=\"patch_76\">\n    <path d=\"M 341.860057 312.12 \nL 345.918239 312.12 \nL 345.918239 301.364444 \nL 341.860057 301.364444 \nz\n\" clip-path=\"url(#p554cb0a349)\" style=\"fill: #4c72b0\"/>\n   </g>\n   <g id=\"patch_77\">\n    <path d=\"M 345.918239 312.12 \nL 349.97642 312.12 \nL 349.97642 312.12 \nL 345.918239 312.12 \nz\n\" clip-path=\"url(#p554cb0a349)\" style=\"fill: #4c72b0\"/>\n   </g>\n   <g id=\"patch_78\">\n    <path d=\"M 349.97642 312.12 \nL 354.034602 312.12 \nL 354.034602 301.364444 \nL 349.97642 301.364444 \nz\n\" clip-path=\"url(#p554cb0a349)\" style=\"fill: #4c72b0\"/>\n   </g>\n   <g id=\"patch_79\">\n    <path d=\"M 354.034602 312.12 \nL 358.092784 312.12 \nL 358.092784 290.608889 \nL 354.034602 290.608889 \nz\n\" clip-path=\"url(#p554cb0a349)\" style=\"fill: #4c72b0\"/>\n   </g>\n   <g id=\"patch_80\">\n    <path d=\"M 358.092784 312.12 \nL 362.150966 312.12 \nL 362.150966 290.608889 \nL 358.092784 290.608889 \nz\n\" clip-path=\"url(#p554cb0a349)\" style=\"fill: #4c72b0\"/>\n   </g>\n   <g id=\"patch_81\">\n    <path d=\"M 362.150966 312.12 \nL 366.209148 312.12 \nL 366.209148 290.608889 \nL 362.150966 290.608889 \nz\n\" clip-path=\"url(#p554cb0a349)\" style=\"fill: #4c72b0\"/>\n   </g>\n   <g id=\"patch_82\">\n    <path d=\"M 366.209148 312.12 \nL 370.26733 312.12 \nL 370.26733 301.364444 \nL 366.209148 301.364444 \nz\n\" clip-path=\"url(#p554cb0a349)\" style=\"fill: #4c72b0\"/>\n   </g>\n   <g id=\"patch_83\">\n    <path d=\"M 370.26733 312.12 \nL 374.325511 312.12 \nL 374.325511 301.364444 \nL 370.26733 301.364444 \nz\n\" clip-path=\"url(#p554cb0a349)\" style=\"fill: #4c72b0\"/>\n   </g>\n   <g id=\"patch_84\">\n    <path d=\"M 374.325511 312.12 \nL 378.383693 312.12 \nL 378.383693 312.12 \nL 374.325511 312.12 \nz\n\" clip-path=\"url(#p554cb0a349)\" style=\"fill: #4c72b0\"/>\n   </g>\n   <g id=\"patch_85\">\n    <path d=\"M 378.383693 312.12 \nL 382.441875 312.12 \nL 382.441875 301.364444 \nL 378.383693 301.364444 \nz\n\" clip-path=\"url(#p554cb0a349)\" style=\"fill: #4c72b0\"/>\n   </g>\n   <g id=\"patch_86\">\n    <path d=\"M 382.441875 312.12 \nL 386.500057 312.12 \nL 386.500057 312.12 \nL 382.441875 312.12 \nz\n\" clip-path=\"url(#p554cb0a349)\" style=\"fill: #4c72b0\"/>\n   </g>\n   <g id=\"patch_87\">\n    <path d=\"M 386.500057 312.12 \nL 390.558239 312.12 \nL 390.558239 312.12 \nL 386.500057 312.12 \nz\n\" clip-path=\"url(#p554cb0a349)\" style=\"fill: #4c72b0\"/>\n   </g>\n   <g id=\"patch_88\">\n    <path d=\"M 390.558239 312.12 \nL 394.61642 312.12 \nL 394.61642 301.364444 \nL 390.558239 301.364444 \nz\n\" clip-path=\"url(#p554cb0a349)\" style=\"fill: #4c72b0\"/>\n   </g>\n   <g id=\"patch_89\">\n    <path d=\"M 394.61642 312.12 \nL 398.674602 312.12 \nL 398.674602 312.12 \nL 394.61642 312.12 \nz\n\" clip-path=\"url(#p554cb0a349)\" style=\"fill: #4c72b0\"/>\n   </g>\n   <g id=\"patch_90\">\n    <path d=\"M 398.674602 312.12 \nL 402.732784 312.12 \nL 402.732784 301.364444 \nL 398.674602 301.364444 \nz\n\" clip-path=\"url(#p554cb0a349)\" style=\"fill: #4c72b0\"/>\n   </g>\n   <g id=\"patch_91\">\n    <path d=\"M 402.732784 312.12 \nL 406.790966 312.12 \nL 406.790966 301.364444 \nL 402.732784 301.364444 \nz\n\" clip-path=\"url(#p554cb0a349)\" style=\"fill: #4c72b0\"/>\n   </g>\n   <g id=\"patch_92\">\n    <path d=\"M 406.790966 312.12 \nL 410.849148 312.12 \nL 410.849148 312.12 \nL 406.790966 312.12 \nz\n\" clip-path=\"url(#p554cb0a349)\" style=\"fill: #4c72b0\"/>\n   </g>\n   <g id=\"patch_93\">\n    <path d=\"M 410.849148 312.12 \nL 414.90733 312.12 \nL 414.90733 301.364444 \nL 410.849148 301.364444 \nz\n\" clip-path=\"url(#p554cb0a349)\" style=\"fill: #4c72b0\"/>\n   </g>\n   <g id=\"patch_94\">\n    <path d=\"M 414.90733 312.12 \nL 418.965511 312.12 \nL 418.965511 312.12 \nL 414.90733 312.12 \nz\n\" clip-path=\"url(#p554cb0a349)\" style=\"fill: #4c72b0\"/>\n   </g>\n   <g id=\"patch_95\">\n    <path d=\"M 418.965511 312.12 \nL 423.023693 312.12 \nL 423.023693 312.12 \nL 418.965511 312.12 \nz\n\" clip-path=\"url(#p554cb0a349)\" style=\"fill: #4c72b0\"/>\n   </g>\n   <g id=\"patch_96\">\n    <path d=\"M 423.023693 312.12 \nL 427.081875 312.12 \nL 427.081875 312.12 \nL 423.023693 312.12 \nz\n\" clip-path=\"url(#p554cb0a349)\" style=\"fill: #4c72b0\"/>\n   </g>\n   <g id=\"patch_97\">\n    <path d=\"M 427.081875 312.12 \nL 431.140057 312.12 \nL 431.140057 312.12 \nL 427.081875 312.12 \nz\n\" clip-path=\"url(#p554cb0a349)\" style=\"fill: #4c72b0\"/>\n   </g>\n   <g id=\"patch_98\">\n    <path d=\"M 431.140057 312.12 \nL 435.198239 312.12 \nL 435.198239 312.12 \nL 431.140057 312.12 \nz\n\" clip-path=\"url(#p554cb0a349)\" style=\"fill: #4c72b0\"/>\n   </g>\n   <g id=\"patch_99\">\n    <path d=\"M 435.198239 312.12 \nL 439.25642 312.12 \nL 439.25642 312.12 \nL 435.198239 312.12 \nz\n\" clip-path=\"url(#p554cb0a349)\" style=\"fill: #4c72b0\"/>\n   </g>\n   <g id=\"patch_100\">\n    <path d=\"M 439.25642 312.12 \nL 443.314602 312.12 \nL 443.314602 312.12 \nL 439.25642 312.12 \nz\n\" clip-path=\"url(#p554cb0a349)\" style=\"fill: #4c72b0\"/>\n   </g>\n   <g id=\"patch_101\">\n    <path d=\"M 443.314602 312.12 \nL 447.372784 312.12 \nL 447.372784 312.12 \nL 443.314602 312.12 \nz\n\" clip-path=\"url(#p554cb0a349)\" style=\"fill: #4c72b0\"/>\n   </g>\n   <g id=\"patch_102\">\n    <path d=\"M 447.372784 312.12 \nL 451.430966 312.12 \nL 451.430966 269.097778 \nL 447.372784 269.097778 \nz\n\" clip-path=\"url(#p554cb0a349)\" style=\"fill: #4c72b0\"/>\n   </g>\n   <g id=\"patch_103\">\n    <path d=\"M 25.321875 312.12 \nL 25.321875 7.2 \n\" style=\"fill: none\"/>\n   </g>\n   <g id=\"patch_104\">\n    <path d=\"M 471.721875 312.12 \nL 471.721875 7.2 \n\" style=\"fill: none\"/>\n   </g>\n   <g id=\"patch_105\">\n    <path d=\"M 25.321875 312.12 \nL 471.721875 312.12 \n\" style=\"fill: none\"/>\n   </g>\n   <g id=\"patch_106\">\n    <path d=\"M 25.321875 7.2 \nL 471.721875 7.2 \n\" style=\"fill: none\"/>\n   </g>\n  </g>\n </g>\n <defs>\n  <clipPath id=\"p554cb0a349\">\n   <rect x=\"25.321875\" y=\"7.2\" width=\"446.4\" height=\"304.92\"/>\n  </clipPath>\n </defs>\n</svg>\n"
          },
          "metadata": {}
        }
      ]
    },
    {
      "cell_type": "markdown",
      "source": [
        "绘制收益率 'r' 列的直方图。\n",
        "\n",
        "* data['r']: 选择了 data DataFrame 中的 'r' 列，也就是计算出的收益率数据。\n",
        "    .hist(bins=100): 这是 pandas Series 的一个方法，用于绘制直方图。\n",
        "* bins=100 参数指定了直方图的 bin（柱子）的数量。设置 bins=100 会将收益率数据的范围分成 100 个区间，然后统计每个区间内的数据点数量。\n",
        "\n",
        "这段代码会生成一个直方图，显示收益率 'r' 的分布情况。\n",
        "可以从直方图中看出收益率主要集中在哪些范围内，以及它们的分布形状（例如是否接近正态分布）。"
      ],
      "metadata": {
        "id": "4NiXTGmk-6xz"
      },
      "id": "4NiXTGmk-6xz"
    },
    {
      "cell_type": "markdown",
      "source": [
        "# 检验"
      ],
      "metadata": {
        "id": "mcGTGbkJAIXL"
      },
      "id": "mcGTGbkJAIXL"
    },
    {
      "cell_type": "code",
      "source": [
        "test['p'] = model.predict(test_[cols])"
      ],
      "metadata": {
        "id": "oix0bUBcAPh-"
      },
      "id": "oix0bUBcAPh-",
      "execution_count": 30,
      "outputs": []
    },
    {
      "cell_type": "markdown",
      "source": [
        "使用训练好的模型对测试数据进行预测，并将预测结果存储在 test DataFrame 的新列中。\n",
        "\n",
        "* test: 这是您之前创建的测试集 DataFrame，包含了原始数据中用于验证模型的 20% 数据。\n",
        "* ['p']: 在 test DataFrame 中创建一个新的列，命名为 'p'。这个列将用于存储模型的预测结果。\n",
        "* model.predict(test_[cols]): 这部分代码使用训练好的 model 对测试数据的特征 (test_[cols]) 进行预测。\n",
        "  * test_ 是经过标准化的测试集 DataFrame。\n",
        "  * [cols] 选择了 test_ DataFrame 中用于预测的特征列（即滞后收益率列）。\n",
        "  * model.predict() 方法会返回模型对这些测试数据样本的预测结果（在这里是预测的收益率方向，1 或 -1）。\n",
        "\n",
        "因此，这行代码将模型在测试集上的预测结果赋值给了 test DataFrame 中的 'p' 列。\n",
        "\n",
        "这样您就可以将模型的预测结果与测试集的真实标签（在 'd' 列中）进行比较，从而评估模型在未见过的数据上的表现。"
      ],
      "metadata": {
        "id": "BtcGowE6AeSw"
      },
      "id": "BtcGowE6AeSw"
    },
    {
      "cell_type": "code",
      "source": [
        "print(test.tail(10).to_string());\n",
        "# display(test.tail(100));"
      ],
      "metadata": {
        "colab": {
          "base_uri": "https://localhost:8080/"
        },
        "id": "CfRFr6ANBLjY",
        "outputId": "76b80091-3374-41e8-cff8-66fe3003c540"
      },
      "id": "CfRFr6ANBLjY",
      "execution_count": 40,
      "outputs": [
        {
          "output_type": "stream",
          "name": "stdout",
          "text": [
            "          date  open  high   low  close     volume         r  d     lag_1     lag_2     lag_3  p         s\n",
            "383 2025-08-04  7.99  7.99  7.93   7.99   89911883  0.005019  1 -0.003766 -0.041724 -0.011948 -1 -0.005019\n",
            "384 2025-08-05  7.99  8.05  7.97   8.04  100854527  0.006238  1  0.005019 -0.003766 -0.041724 -1 -0.006238\n",
            "385 2025-08-06  8.03  8.03  7.97   8.01   79003224 -0.003738 -1  0.006238  0.005019 -0.003766 -1  0.003738\n",
            "386 2025-08-07  8.00  8.05  7.95   8.04  113334525  0.003738  1 -0.003738  0.006238  0.005019 -1 -0.003738\n",
            "387 2025-08-08  8.02  8.04  7.98   8.01   74432362 -0.003738 -1  0.003738 -0.003738  0.006238 -1  0.003738\n",
            "388 2025-08-11  8.04  8.09  8.03   8.03  112944649  0.002494  1 -0.003738  0.003738 -0.003738 -1 -0.002494\n",
            "389 2025-08-12  8.03  8.07  8.01   8.02   97401443 -0.001246 -1  0.002494 -0.003738  0.003738 -1  0.001246\n",
            "390 2025-08-13  8.04  8.05  7.98   8.00  107251058 -0.002497 -1 -0.001246  0.002494 -0.003738 -1  0.002497\n",
            "391 2025-08-14  8.01  8.13  7.99   8.01  192971875  0.001249  1 -0.002497 -0.001246  0.002494 -1 -0.001249\n",
            "392 2025-08-15  8.01  8.19  7.99   8.15  263836630  0.017327  1  0.001249 -0.002497 -0.001246 -1 -0.017327\n"
          ]
        }
      ]
    },
    {
      "cell_type": "code",
      "source": [
        "test_score = accuracy_score(test['d'], test['p']);\n",
        "print(test_score);"
      ],
      "metadata": {
        "colab": {
          "base_uri": "https://localhost:8080/"
        },
        "id": "rrqIrcOHChWN",
        "outputId": "d0b2b31f-713b-4f00-fd85-cef096816fd8"
      },
      "id": "rrqIrcOHChWN",
      "execution_count": 32,
      "outputs": [
        {
          "output_type": "stream",
          "name": "stdout",
          "text": [
            "0.46153846153846156\n"
          ]
        }
      ]
    },
    {
      "cell_type": "code",
      "source": [
        "test['s'] = test['p'] * test['r']"
      ],
      "metadata": {
        "id": "eYxjhgTRDiUm"
      },
      "id": "eYxjhgTRDiUm",
      "execution_count": 33,
      "outputs": []
    },
    {
      "cell_type": "markdown",
      "source": [
        "计算基于模型预测的交易策略在测试集上的收益。\n",
        "\n",
        "* test: 这是测试集 DataFrame。\n",
        "* ['s']: 在 test DataFrame 中创建一个新的列，命名为 's'。这个列将用于存储策略的瞬时收益。\n",
        "* test['p']: 这是模型在测试集上对收益率方向的预测结果（1 或 -1）。\n",
        "* test['r']: 这是测试集上实际的收益率。\n",
        "\n",
        "这行代码将模型的预测方向 (test['p']) 与实际的收益率 (test['r']) 相乘。\n",
        "\n",
        "* 如果模型预测方向是 1（上涨），并且实际收益率是正的，那么策略收益就是正的。\n",
        "* 如果模型预测方向是 1（上涨），但实际收益率是负的，那么策略收益就是负的（亏损）。\n",
        "* 如果模型预测方向是 -1（下跌），并且实际收益率是负的，那么策略收益就是正的。\n",
        "* 如果模型预测方向是 -1（下跌），但实际收益率是正的，那么策略收益就是负的（亏损）。\n",
        "\n",
        "通过计算 test['p'] * test['r']，得到了在每个时间点上，如果按照模型的预测方向进行交易（做多或做空）所获得的收益。这个 's' 列的数据可以用于后续分析策略的整体表现，例如计算累积收益。\n",
        "\n",
        "您当前的准确率（无论是训练集还是测试集）都比较接近 0.5，这意味着模型预测的正确率大致在随机猜测的水平。在这样的准确率下，test['s'] 计算出的策略收益可能不会很高，甚至可能是负的，因为模型无法有效地预测市场的方向。"
      ],
      "metadata": {
        "id": "6WMJCnPAEJ-l"
      },
      "id": "6WMJCnPAEJ-l"
    },
    {
      "cell_type": "code",
      "source": [
        "rr, ss = test[['r', 's']].sum().apply(np.exp);\n",
        "print(\"rr:\", rr, \"\\tss:\", ss);"
      ],
      "metadata": {
        "colab": {
          "base_uri": "https://localhost:8080/"
        },
        "id": "l5fEfwDwFSFU",
        "outputId": "01fa1b36-019f-4640-b26d-18ff67c2c31a"
      },
      "id": "l5fEfwDwFSFU",
      "execution_count": 34,
      "outputs": [
        {
          "output_type": "stream",
          "name": "stdout",
          "text": [
            "rr: 0.9219457013574659 \tss: 1.0526016823765951\n"
          ]
        }
      ]
    },
    {
      "cell_type": "markdown",
      "source": [
        "计算测试集上原始收益率 ('r') 和策略收益率 ('s') 的累积和，然后对这些累积和应用指数函数，以得到总的累积收益（或增长因子）。\n",
        "\n",
        "* test[['r', 's']]: 选择了 test DataFrame 中的 'r' 和 's' 两列。\n",
        "* .sum(): 对选定的这两列分别计算它们的总和。对于收益率而言，对数收益率的累积和等于总的对数收益率。\n",
        "* .apply(np.exp): 对 .sum() 计算得到的每个总和应用 np.exp() 函数。指数函数是自然对数的逆运算。如果您计算的是对数收益率的累积和，那么对其应用指数函数就会得到总的累积收益率（即期末价值除以期初价值）。\n",
        "\n",
        "例如，如果累积对数收益率是 0.1，那么 np.exp(0.1) 会得到一个大于 1 的值，表示总的累积收益是正的。如果累积对数收益率是 -0.1，那么 np.exp(-0.1) 会得到一个小于 1 的值，表示总的累积收益是负的（亏损）。\n",
        "\n",
        "这段代码的输出将是 'r' 列和 's' 列各自的总累积收益率。通过比较这两个值，可以评估策略 ('s') 相对于简单持有资产 ('r') 在测试期内的表现。"
      ],
      "metadata": {
        "id": "4cXjUd1UFagK"
      },
      "id": "4cXjUd1UFagK"
    },
    {
      "cell_type": "code",
      "source": [
        "test[['r', 's']].cumsum().apply(np.exp).plot();"
      ],
      "metadata": {
        "colab": {
          "base_uri": "https://localhost:8080/",
          "height": 468
        },
        "id": "OKweoorbHHej",
        "outputId": "11d2f013-aa5c-48ce-87ff-28721552b4c4"
      },
      "id": "OKweoorbHHej",
      "execution_count": 35,
      "outputs": [
        {
          "output_type": "display_data",
          "data": {
            "text/plain": [
              "<Figure size 800x550 with 1 Axes>"
            ],
            "image/svg+xml": "<?xml version=\"1.0\" encoding=\"utf-8\" standalone=\"no\"?>\n<!DOCTYPE svg PUBLIC \"-//W3C//DTD SVG 1.1//EN\"\n  \"http://www.w3.org/Graphics/SVG/1.1/DTD/svg11.dtd\">\n<svg xmlns:xlink=\"http://www.w3.org/1999/xlink\" width=\"487.260937pt\" height=\"335.641875pt\" viewBox=\"0 0 487.260937 335.641875\" xmlns=\"http://www.w3.org/2000/svg\" version=\"1.1\">\n <metadata>\n  <rdf:RDF xmlns:dc=\"http://purl.org/dc/elements/1.1/\" xmlns:cc=\"http://creativecommons.org/ns#\" xmlns:rdf=\"http://www.w3.org/1999/02/22-rdf-syntax-ns#\">\n   <cc:Work>\n    <dc:type rdf:resource=\"http://purl.org/dc/dcmitype/StillImage\"/>\n    <dc:date>2025-08-15T23:18:33.584363</dc:date>\n    <dc:format>image/svg+xml</dc:format>\n    <dc:creator>\n     <cc:Agent>\n      <dc:title>Matplotlib v3.10.0, https://matplotlib.org/</dc:title>\n     </cc:Agent>\n    </dc:creator>\n   </cc:Work>\n  </rdf:RDF>\n </metadata>\n <defs>\n  <style type=\"text/css\">*{stroke-linejoin: round; stroke-linecap: butt}</style>\n </defs>\n <g id=\"figure_1\">\n  <g id=\"patch_1\">\n   <path d=\"M 0 335.641875 \nL 487.260937 335.641875 \nL 487.260937 0 \nL 0 0 \nz\n\" style=\"fill: #ffffff\"/>\n  </g>\n  <g id=\"axes_1\">\n   <g id=\"patch_2\">\n    <path d=\"M 33.660938 312.12 \nL 480.060937 312.12 \nL 480.060937 7.2 \nL 33.660938 7.2 \nz\n\" style=\"fill: #eaeaf2\"/>\n   </g>\n   <g id=\"matplotlib.axis_1\">\n    <g id=\"xtick_1\">\n     <g id=\"line2d_1\">\n      <path d=\"M 80.303677 312.12 \nL 80.303677 7.2 \n\" clip-path=\"url(#p2b656ee663)\" style=\"fill: none; stroke: #ffffff; stroke-linecap: round\"/>\n     </g>\n     <g id=\"line2d_2\"/>\n     <g id=\"text_1\">\n      <!-- 320 -->\n      <g style=\"fill: #262626\" transform=\"translate(71.96227 326.366875) scale(0.1 -0.1)\">\n       <defs>\n        <path id=\"LiberationSans-33\" d=\"M 3278 1216 \nQ 3278 913 3179 675 \nQ 3081 438 2892 273 \nQ 2703 109 2423 23 \nQ 2144 -63 1784 -63 \nQ 1375 -63 1095 39 \nQ 816 141 634 308 \nQ 453 475 362 689 \nQ 272 903 244 1131 \nL 825 1184 \nQ 850 1009 917 865 \nQ 984 722 1100 619 \nQ 1216 516 1384 459 \nQ 1553 403 1784 403 \nQ 2209 403 2451 612 \nQ 2694 822 2694 1234 \nQ 2694 1478 2586 1626 \nQ 2478 1775 2317 1858 \nQ 2156 1941 1967 1969 \nQ 1778 1997 1619 1997 \nL 1300 1997 \nL 1300 2484 \nL 1606 2484 \nQ 1766 2484 1937 2517 \nQ 2109 2550 2251 2636 \nQ 2394 2722 2486 2869 \nQ 2578 3016 2578 3244 \nQ 2578 3597 2370 3801 \nQ 2163 4006 1753 4006 \nQ 1381 4006 1151 3815 \nQ 922 3625 884 3278 \nL 319 3322 \nQ 353 3613 478 3828 \nQ 603 4044 795 4186 \nQ 988 4328 1234 4398 \nQ 1481 4469 1759 4469 \nQ 2128 4469 2393 4376 \nQ 2659 4284 2828 4126 \nQ 2997 3969 3076 3756 \nQ 3156 3544 3156 3303 \nQ 3156 3109 3103 2940 \nQ 3050 2772 2937 2637 \nQ 2825 2503 2651 2406 \nQ 2478 2309 2234 2259 \nL 2234 2247 \nQ 2500 2219 2697 2126 \nQ 2894 2034 3022 1896 \nQ 3150 1759 3214 1584 \nQ 3278 1409 3278 1216 \nz\n\" transform=\"scale(0.015625)\"/>\n        <path id=\"LiberationSans-32\" d=\"M 322 0 \nL 322 397 \nQ 481 763 711 1042 \nQ 941 1322 1194 1548 \nQ 1447 1775 1695 1969 \nQ 1944 2163 2144 2356 \nQ 2344 2550 2467 2762 \nQ 2591 2975 2591 3244 \nQ 2591 3431 2534 3573 \nQ 2478 3716 2372 3812 \nQ 2266 3909 2117 3957 \nQ 1969 4006 1788 4006 \nQ 1619 4006 1470 3959 \nQ 1322 3913 1206 3819 \nQ 1091 3725 1017 3586 \nQ 944 3447 922 3263 \nL 347 3316 \nQ 375 3553 478 3762 \nQ 581 3972 762 4130 \nQ 944 4288 1198 4378 \nQ 1453 4469 1788 4469 \nQ 2116 4469 2372 4391 \nQ 2628 4313 2804 4159 \nQ 2981 4006 3075 3781 \nQ 3169 3556 3169 3263 \nQ 3169 3041 3089 2841 \nQ 3009 2641 2876 2459 \nQ 2744 2278 2569 2109 \nQ 2394 1941 2203 1780 \nQ 2013 1619 1819 1461 \nQ 1625 1303 1454 1143 \nQ 1284 984 1150 820 \nQ 1016 656 941 478 \nL 3238 478 \nL 3238 0 \nL 322 0 \nz\n\" transform=\"scale(0.015625)\"/>\n        <path id=\"LiberationSans-30\" d=\"M 3309 2203 \nQ 3309 1569 3189 1136 \nQ 3069 703 2861 436 \nQ 2653 169 2372 53 \nQ 2091 -63 1772 -63 \nQ 1450 -63 1172 53 \nQ 894 169 689 434 \nQ 484 700 367 1133 \nQ 250 1566 250 2203 \nQ 250 2869 367 3305 \nQ 484 3741 690 4000 \nQ 897 4259 1178 4364 \nQ 1459 4469 1791 4469 \nQ 2106 4469 2382 4364 \nQ 2659 4259 2865 4000 \nQ 3072 3741 3190 3305 \nQ 3309 2869 3309 2203 \nz\nM 2738 2203 \nQ 2738 2728 2675 3076 \nQ 2613 3425 2491 3633 \nQ 2369 3841 2192 3927 \nQ 2016 4013 1791 4013 \nQ 1553 4013 1372 3925 \nQ 1191 3838 1067 3630 \nQ 944 3422 881 3073 \nQ 819 2725 819 2203 \nQ 819 1697 883 1350 \nQ 947 1003 1070 792 \nQ 1194 581 1372 489 \nQ 1550 397 1778 397 \nQ 2000 397 2178 489 \nQ 2356 581 2479 792 \nQ 2603 1003 2670 1350 \nQ 2738 1697 2738 2203 \nz\n\" transform=\"scale(0.015625)\"/>\n       </defs>\n       <use xlink:href=\"#LiberationSans-33\"/>\n       <use xlink:href=\"#LiberationSans-32\" transform=\"translate(55.615234 0)\"/>\n       <use xlink:href=\"#LiberationSans-30\" transform=\"translate(111.230469 0)\"/>\n      </g>\n     </g>\n    </g>\n    <g id=\"xtick_2\">\n     <g id=\"line2d_3\">\n      <path d=\"M 133.007337 312.12 \nL 133.007337 7.2 \n\" clip-path=\"url(#p2b656ee663)\" style=\"fill: none; stroke: #ffffff; stroke-linecap: round\"/>\n     </g>\n     <g id=\"line2d_4\"/>\n     <g id=\"text_2\">\n      <!-- 330 -->\n      <g style=\"fill: #262626\" transform=\"translate(124.66593 326.366875) scale(0.1 -0.1)\">\n       <use xlink:href=\"#LiberationSans-33\"/>\n       <use xlink:href=\"#LiberationSans-33\" transform=\"translate(55.615234 0)\"/>\n       <use xlink:href=\"#LiberationSans-30\" transform=\"translate(111.230469 0)\"/>\n      </g>\n     </g>\n    </g>\n    <g id=\"xtick_3\">\n     <g id=\"line2d_5\">\n      <path d=\"M 185.710997 312.12 \nL 185.710997 7.2 \n\" clip-path=\"url(#p2b656ee663)\" style=\"fill: none; stroke: #ffffff; stroke-linecap: round\"/>\n     </g>\n     <g id=\"line2d_6\"/>\n     <g id=\"text_3\">\n      <!-- 340 -->\n      <g style=\"fill: #262626\" transform=\"translate(177.36959 326.366875) scale(0.1 -0.1)\">\n       <defs>\n        <path id=\"LiberationSans-34\" d=\"M 2753 997 \nL 2753 0 \nL 2222 0 \nL 2222 997 \nL 147 997 \nL 147 1434 \nL 2163 4403 \nL 2753 4403 \nL 2753 1441 \nL 3372 1441 \nL 3372 997 \nL 2753 997 \nz\nM 2222 3769 \nQ 2216 3753 2191 3708 \nQ 2166 3663 2134 3606 \nQ 2103 3550 2070 3492 \nQ 2038 3434 2013 3397 \nL 884 1734 \nQ 869 1709 839 1668 \nQ 809 1628 778 1586 \nQ 747 1544 715 1503 \nQ 684 1463 666 1441 \nL 2222 1441 \nL 2222 3769 \nz\n\" transform=\"scale(0.015625)\"/>\n       </defs>\n       <use xlink:href=\"#LiberationSans-33\"/>\n       <use xlink:href=\"#LiberationSans-34\" transform=\"translate(55.615234 0)\"/>\n       <use xlink:href=\"#LiberationSans-30\" transform=\"translate(111.230469 0)\"/>\n      </g>\n     </g>\n    </g>\n    <g id=\"xtick_4\">\n     <g id=\"line2d_7\">\n      <path d=\"M 238.414657 312.12 \nL 238.414657 7.2 \n\" clip-path=\"url(#p2b656ee663)\" style=\"fill: none; stroke: #ffffff; stroke-linecap: round\"/>\n     </g>\n     <g id=\"line2d_8\"/>\n     <g id=\"text_4\">\n      <!-- 350 -->\n      <g style=\"fill: #262626\" transform=\"translate(230.07325 326.366875) scale(0.1 -0.1)\">\n       <defs>\n        <path id=\"LiberationSans-35\" d=\"M 3291 1434 \nQ 3291 1103 3191 828 \nQ 3091 553 2894 354 \nQ 2697 156 2405 46 \nQ 2113 -63 1728 -63 \nQ 1381 -63 1123 18 \nQ 866 100 687 242 \nQ 509 384 404 575 \nQ 300 766 256 984 \nL 825 1050 \nQ 859 925 921 808 \nQ 984 691 1092 598 \nQ 1200 506 1358 451 \nQ 1516 397 1741 397 \nQ 1959 397 2137 464 \nQ 2316 531 2442 662 \nQ 2569 794 2637 984 \nQ 2706 1175 2706 1422 \nQ 2706 1625 2640 1795 \nQ 2575 1966 2453 2089 \nQ 2331 2213 2154 2281 \nQ 1978 2350 1753 2350 \nQ 1613 2350 1494 2325 \nQ 1375 2300 1273 2256 \nQ 1172 2213 1089 2155 \nQ 1006 2097 934 2034 \nL 384 2034 \nL 531 4403 \nL 3034 4403 \nL 3034 3925 \nL 1044 3925 \nL 959 2528 \nQ 1109 2644 1334 2726 \nQ 1559 2809 1869 2809 \nQ 2197 2809 2459 2709 \nQ 2722 2609 2906 2426 \nQ 3091 2244 3191 1991 \nQ 3291 1738 3291 1434 \nz\n\" transform=\"scale(0.015625)\"/>\n       </defs>\n       <use xlink:href=\"#LiberationSans-33\"/>\n       <use xlink:href=\"#LiberationSans-35\" transform=\"translate(55.615234 0)\"/>\n       <use xlink:href=\"#LiberationSans-30\" transform=\"translate(111.230469 0)\"/>\n      </g>\n     </g>\n    </g>\n    <g id=\"xtick_5\">\n     <g id=\"line2d_9\">\n      <path d=\"M 291.118316 312.12 \nL 291.118316 7.2 \n\" clip-path=\"url(#p2b656ee663)\" style=\"fill: none; stroke: #ffffff; stroke-linecap: round\"/>\n     </g>\n     <g id=\"line2d_10\"/>\n     <g id=\"text_5\">\n      <!-- 360 -->\n      <g style=\"fill: #262626\" transform=\"translate(282.77691 326.366875) scale(0.1 -0.1)\">\n       <defs>\n        <path id=\"LiberationSans-36\" d=\"M 3278 1441 \nQ 3278 1109 3186 832 \nQ 3094 556 2914 357 \nQ 2734 159 2468 48 \nQ 2203 -63 1856 -63 \nQ 1472 -63 1184 84 \nQ 897 231 706 507 \nQ 516 784 420 1186 \nQ 325 1588 325 2100 \nQ 325 2688 433 3131 \nQ 541 3575 744 3872 \nQ 947 4169 1239 4319 \nQ 1531 4469 1900 4469 \nQ 2125 4469 2322 4422 \nQ 2519 4375 2680 4270 \nQ 2841 4166 2962 3994 \nQ 3084 3822 3156 3572 \nL 2619 3475 \nQ 2531 3759 2339 3886 \nQ 2147 4013 1894 4013 \nQ 1663 4013 1475 3903 \nQ 1288 3794 1156 3576 \nQ 1025 3359 954 3031 \nQ 884 2703 884 2266 \nQ 1038 2550 1316 2698 \nQ 1594 2847 1953 2847 \nQ 2253 2847 2497 2750 \nQ 2741 2653 2914 2470 \nQ 3088 2288 3183 2027 \nQ 3278 1766 3278 1441 \nz\nM 2706 1416 \nQ 2706 1644 2650 1828 \nQ 2594 2013 2481 2142 \nQ 2369 2272 2203 2342 \nQ 2038 2413 1819 2413 \nQ 1666 2413 1509 2367 \nQ 1353 2322 1226 2220 \nQ 1100 2119 1020 1953 \nQ 941 1788 941 1550 \nQ 941 1306 1003 1095 \nQ 1066 884 1183 728 \nQ 1300 572 1465 481 \nQ 1631 391 1838 391 \nQ 2041 391 2202 461 \nQ 2363 531 2475 664 \nQ 2588 797 2647 987 \nQ 2706 1178 2706 1416 \nz\n\" transform=\"scale(0.015625)\"/>\n       </defs>\n       <use xlink:href=\"#LiberationSans-33\"/>\n       <use xlink:href=\"#LiberationSans-36\" transform=\"translate(55.615234 0)\"/>\n       <use xlink:href=\"#LiberationSans-30\" transform=\"translate(111.230469 0)\"/>\n      </g>\n     </g>\n    </g>\n    <g id=\"xtick_6\">\n     <g id=\"line2d_11\">\n      <path d=\"M 343.821976 312.12 \nL 343.821976 7.2 \n\" clip-path=\"url(#p2b656ee663)\" style=\"fill: none; stroke: #ffffff; stroke-linecap: round\"/>\n     </g>\n     <g id=\"line2d_12\"/>\n     <g id=\"text_6\">\n      <!-- 370 -->\n      <g style=\"fill: #262626\" transform=\"translate(335.48057 326.366875) scale(0.1 -0.1)\">\n       <defs>\n        <path id=\"LiberationSans-37\" d=\"M 3238 3947 \nQ 2906 3441 2628 2973 \nQ 2350 2506 2150 2032 \nQ 1950 1559 1839 1061 \nQ 1728 563 1728 0 \nL 1141 0 \nQ 1141 528 1266 1036 \nQ 1391 1544 1603 2033 \nQ 1816 2522 2097 2994 \nQ 2378 3466 2694 3925 \nL 328 3925 \nL 328 4403 \nL 3238 4403 \nL 3238 3947 \nz\n\" transform=\"scale(0.015625)\"/>\n       </defs>\n       <use xlink:href=\"#LiberationSans-33\"/>\n       <use xlink:href=\"#LiberationSans-37\" transform=\"translate(55.615234 0)\"/>\n       <use xlink:href=\"#LiberationSans-30\" transform=\"translate(111.230469 0)\"/>\n      </g>\n     </g>\n    </g>\n    <g id=\"xtick_7\">\n     <g id=\"line2d_13\">\n      <path d=\"M 396.525636 312.12 \nL 396.525636 7.2 \n\" clip-path=\"url(#p2b656ee663)\" style=\"fill: none; stroke: #ffffff; stroke-linecap: round\"/>\n     </g>\n     <g id=\"line2d_14\"/>\n     <g id=\"text_7\">\n      <!-- 380 -->\n      <g style=\"fill: #262626\" transform=\"translate(388.18423 326.366875) scale(0.1 -0.1)\">\n       <defs>\n        <path id=\"LiberationSans-38\" d=\"M 3281 1228 \nQ 3281 947 3192 711 \nQ 3103 475 2920 303 \nQ 2738 131 2453 34 \nQ 2169 -63 1781 -63 \nQ 1394 -63 1111 34 \nQ 828 131 642 301 \nQ 456 472 367 708 \nQ 278 944 278 1222 \nQ 278 1463 351 1650 \nQ 425 1838 548 1973 \nQ 672 2109 830 2192 \nQ 988 2275 1156 2303 \nL 1156 2316 \nQ 972 2359 826 2456 \nQ 681 2553 582 2689 \nQ 484 2825 432 2990 \nQ 381 3156 381 3341 \nQ 381 3572 470 3776 \nQ 559 3981 734 4136 \nQ 909 4291 1168 4380 \nQ 1428 4469 1769 4469 \nQ 2128 4469 2392 4378 \nQ 2656 4288 2829 4133 \nQ 3003 3978 3087 3772 \nQ 3172 3566 3172 3334 \nQ 3172 3153 3120 2987 \nQ 3069 2822 2970 2686 \nQ 2872 2550 2726 2454 \nQ 2581 2359 2391 2322 \nL 2391 2309 \nQ 2581 2278 2743 2195 \nQ 2906 2113 3025 1977 \nQ 3144 1841 3212 1653 \nQ 3281 1466 3281 1228 \nz\nM 2588 3303 \nQ 2588 3469 2545 3606 \nQ 2503 3744 2406 3842 \nQ 2309 3941 2153 3995 \nQ 1997 4050 1769 4050 \nQ 1547 4050 1394 3995 \nQ 1241 3941 1142 3842 \nQ 1044 3744 1000 3606 \nQ 956 3469 956 3303 \nQ 956 3172 990 3034 \nQ 1025 2897 1115 2784 \nQ 1206 2672 1365 2600 \nQ 1525 2528 1775 2528 \nQ 2041 2528 2202 2600 \nQ 2363 2672 2448 2784 \nQ 2534 2897 2561 3034 \nQ 2588 3172 2588 3303 \nz\nM 2697 1281 \nQ 2697 1441 2653 1589 \nQ 2609 1738 2503 1852 \nQ 2397 1966 2217 2036 \nQ 2038 2106 1769 2106 \nQ 1522 2106 1348 2036 \nQ 1175 1966 1067 1850 \nQ 959 1734 909 1582 \nQ 859 1431 859 1269 \nQ 859 1066 909 898 \nQ 959 731 1068 611 \nQ 1178 491 1356 425 \nQ 1534 359 1788 359 \nQ 2044 359 2219 425 \nQ 2394 491 2500 611 \nQ 2606 731 2651 901 \nQ 2697 1072 2697 1281 \nz\n\" transform=\"scale(0.015625)\"/>\n       </defs>\n       <use xlink:href=\"#LiberationSans-33\"/>\n       <use xlink:href=\"#LiberationSans-38\" transform=\"translate(55.615234 0)\"/>\n       <use xlink:href=\"#LiberationSans-30\" transform=\"translate(111.230469 0)\"/>\n      </g>\n     </g>\n    </g>\n    <g id=\"xtick_8\">\n     <g id=\"line2d_15\">\n      <path d=\"M 449.229296 312.12 \nL 449.229296 7.2 \n\" clip-path=\"url(#p2b656ee663)\" style=\"fill: none; stroke: #ffffff; stroke-linecap: round\"/>\n     </g>\n     <g id=\"line2d_16\"/>\n     <g id=\"text_8\">\n      <!-- 390 -->\n      <g style=\"fill: #262626\" transform=\"translate(440.88789 326.366875) scale(0.1 -0.1)\">\n       <defs>\n        <path id=\"LiberationSans-39\" d=\"M 3256 2291 \nQ 3256 1703 3145 1261 \nQ 3034 819 2828 525 \nQ 2622 231 2326 84 \nQ 2031 -63 1663 -63 \nQ 1409 -63 1206 -11 \nQ 1003 41 843 150 \nQ 684 259 571 434 \nQ 459 609 391 856 \nL 928 941 \nQ 1016 656 1202 523 \nQ 1388 391 1672 391 \nQ 1900 391 2089 498 \nQ 2278 606 2411 822 \nQ 2544 1038 2619 1363 \nQ 2694 1688 2700 2125 \nQ 2634 1978 2520 1862 \nQ 2406 1747 2261 1667 \nQ 2116 1588 1947 1545 \nQ 1778 1503 1606 1503 \nQ 1306 1503 1064 1611 \nQ 822 1719 653 1912 \nQ 484 2106 392 2379 \nQ 300 2653 300 2988 \nQ 300 3328 398 3603 \nQ 497 3878 684 4070 \nQ 872 4263 1145 4366 \nQ 1419 4469 1766 4469 \nQ 2500 4469 2878 3925 \nQ 3256 3381 3256 2291 \nz\nM 2644 2834 \nQ 2644 3078 2586 3293 \nQ 2528 3509 2414 3668 \nQ 2300 3828 2133 3920 \nQ 1966 4013 1747 4013 \nQ 1544 4013 1381 3941 \nQ 1219 3869 1106 3736 \nQ 994 3603 933 3412 \nQ 872 3222 872 2988 \nQ 872 2766 926 2575 \nQ 981 2384 1090 2245 \nQ 1200 2106 1362 2026 \nQ 1525 1947 1741 1947 \nQ 1897 1947 2058 2000 \nQ 2219 2053 2348 2162 \nQ 2478 2272 2561 2439 \nQ 2644 2606 2644 2834 \nz\n\" transform=\"scale(0.015625)\"/>\n       </defs>\n       <use xlink:href=\"#LiberationSans-33\"/>\n       <use xlink:href=\"#LiberationSans-39\" transform=\"translate(55.615234 0)\"/>\n       <use xlink:href=\"#LiberationSans-30\" transform=\"translate(111.230469 0)\"/>\n      </g>\n     </g>\n    </g>\n   </g>\n   <g id=\"matplotlib.axis_2\">\n    <g id=\"ytick_1\">\n     <g id=\"line2d_17\">\n      <path d=\"M 33.660938 286.946984 \nL 480.060937 286.946984 \n\" clip-path=\"url(#p2b656ee663)\" style=\"fill: none; stroke: #ffffff; stroke-linecap: round\"/>\n     </g>\n     <g id=\"line2d_18\"/>\n     <g id=\"text_9\">\n      <!-- 0.90 -->\n      <g style=\"fill: #262626\" transform=\"translate(7.2 290.570422) scale(0.1 -0.1)\">\n       <defs>\n        <path id=\"LiberationSans-2e\" d=\"M 584 0 \nL 584 684 \nL 1194 684 \nL 1194 0 \nL 584 0 \nz\n\" transform=\"scale(0.015625)\"/>\n       </defs>\n       <use xlink:href=\"#LiberationSans-30\"/>\n       <use xlink:href=\"#LiberationSans-2e\" transform=\"translate(55.615234 0)\"/>\n       <use xlink:href=\"#LiberationSans-39\" transform=\"translate(83.398438 0)\"/>\n       <use xlink:href=\"#LiberationSans-30\" transform=\"translate(139.013672 0)\"/>\n      </g>\n     </g>\n    </g>\n    <g id=\"ytick_2\">\n     <g id=\"line2d_19\">\n      <path d=\"M 33.660938 221.152867 \nL 480.060937 221.152867 \n\" clip-path=\"url(#p2b656ee663)\" style=\"fill: none; stroke: #ffffff; stroke-linecap: round\"/>\n     </g>\n     <g id=\"line2d_20\"/>\n     <g id=\"text_10\">\n      <!-- 0.95 -->\n      <g style=\"fill: #262626\" transform=\"translate(7.2 224.776304) scale(0.1 -0.1)\">\n       <use xlink:href=\"#LiberationSans-30\"/>\n       <use xlink:href=\"#LiberationSans-2e\" transform=\"translate(55.615234 0)\"/>\n       <use xlink:href=\"#LiberationSans-39\" transform=\"translate(83.398438 0)\"/>\n       <use xlink:href=\"#LiberationSans-35\" transform=\"translate(139.013672 0)\"/>\n      </g>\n     </g>\n    </g>\n    <g id=\"ytick_3\">\n     <g id=\"line2d_21\">\n      <path d=\"M 33.660938 155.358749 \nL 480.060937 155.358749 \n\" clip-path=\"url(#p2b656ee663)\" style=\"fill: none; stroke: #ffffff; stroke-linecap: round\"/>\n     </g>\n     <g id=\"line2d_22\"/>\n     <g id=\"text_11\">\n      <!-- 1.00 -->\n      <g style=\"fill: #262626\" transform=\"translate(7.2 158.982186) scale(0.1 -0.1)\">\n       <defs>\n        <path id=\"LiberationSans-31\" d=\"M 488 0 \nL 488 478 \nL 1609 478 \nL 1609 3866 \nL 616 3156 \nL 616 3688 \nL 1656 4403 \nL 2175 4403 \nL 2175 478 \nL 3247 478 \nL 3247 0 \nL 488 0 \nz\n\" transform=\"scale(0.015625)\"/>\n       </defs>\n       <use xlink:href=\"#LiberationSans-31\"/>\n       <use xlink:href=\"#LiberationSans-2e\" transform=\"translate(55.615234 0)\"/>\n       <use xlink:href=\"#LiberationSans-30\" transform=\"translate(83.398438 0)\"/>\n       <use xlink:href=\"#LiberationSans-30\" transform=\"translate(139.013672 0)\"/>\n      </g>\n     </g>\n    </g>\n    <g id=\"ytick_4\">\n     <g id=\"line2d_23\">\n      <path d=\"M 33.660938 89.564631 \nL 480.060937 89.564631 \n\" clip-path=\"url(#p2b656ee663)\" style=\"fill: none; stroke: #ffffff; stroke-linecap: round\"/>\n     </g>\n     <g id=\"line2d_24\"/>\n     <g id=\"text_12\">\n      <!-- 1.05 -->\n      <g style=\"fill: #262626\" transform=\"translate(7.2 93.188068) scale(0.1 -0.1)\">\n       <use xlink:href=\"#LiberationSans-31\"/>\n       <use xlink:href=\"#LiberationSans-2e\" transform=\"translate(55.615234 0)\"/>\n       <use xlink:href=\"#LiberationSans-30\" transform=\"translate(83.398438 0)\"/>\n       <use xlink:href=\"#LiberationSans-35\" transform=\"translate(139.013672 0)\"/>\n      </g>\n     </g>\n    </g>\n    <g id=\"ytick_5\">\n     <g id=\"line2d_25\">\n      <path d=\"M 33.660938 23.770513 \nL 480.060937 23.770513 \n\" clip-path=\"url(#p2b656ee663)\" style=\"fill: none; stroke: #ffffff; stroke-linecap: round\"/>\n     </g>\n     <g id=\"line2d_26\"/>\n     <g id=\"text_13\">\n      <!-- 1.10 -->\n      <g style=\"fill: #262626\" transform=\"translate(7.2 27.393951) scale(0.1 -0.1)\">\n       <use xlink:href=\"#LiberationSans-31\"/>\n       <use xlink:href=\"#LiberationSans-2e\" transform=\"translate(55.615234 0)\"/>\n       <use xlink:href=\"#LiberationSans-31\" transform=\"translate(83.398438 0)\"/>\n       <use xlink:href=\"#LiberationSans-30\" transform=\"translate(139.013672 0)\"/>\n      </g>\n     </g>\n    </g>\n   </g>\n   <g id=\"line2d_27\">\n    <path d=\"M 53.951847 152.381639 \nL 59.222213 167.267186 \nL 64.492579 234.252148 \nL 69.762945 231.275038 \nL 75.033311 225.32082 \nL 80.303677 228.297929 \nL 85.574043 205.969609 \nL 90.844409 214.900937 \nL 96.114775 243.183476 \nL 101.385141 235.740703 \nL 106.655507 235.740703 \nL 111.925873 228.297929 \nL 117.196239 243.183476 \nL 122.466605 240.206367 \nL 127.736971 238.717812 \nL 133.007337 241.694921 \nL 138.277703 247.64914 \nL 143.548069 255.091914 \nL 148.818435 267.000351 \nL 154.088801 269.977461 \nL 159.359167 265.511797 \nL 164.629533 268.488906 \nL 169.899899 264.023242 \nL 175.170265 261.046132 \nL 180.440631 264.023242 \nL 185.710997 255.091914 \nL 190.981363 252.114804 \nL 196.251729 256.580468 \nL 201.522095 256.580468 \nL 206.792461 262.534687 \nL 212.062827 256.580468 \nL 217.333193 259.557578 \nL 222.603559 271.466015 \nL 227.873925 244.672031 \nL 233.144291 262.534687 \nL 238.414657 278.908789 \nL 243.685023 298.26 \nL 248.955389 296.771445 \nL 254.225755 298.26 \nL 259.49612 284.863008 \nL 264.766486 272.95457 \nL 270.036852 274.443125 \nL 275.307218 272.95457 \nL 280.577584 265.511797 \nL 285.84795 277.420234 \nL 291.118316 268.488906 \nL 296.388682 264.023242 \nL 301.659048 269.977461 \nL 306.929414 256.580468 \nL 312.19978 247.64914 \nL 317.470146 258.069023 \nL 322.740512 229.786484 \nL 328.010878 241.694921 \nL 333.281244 259.557578 \nL 338.55161 278.908789 \nL 343.821976 283.374453 \nL 349.092342 281.885898 \nL 354.362708 277.420234 \nL 359.633074 272.95457 \nL 364.90344 250.62625 \nL 370.173806 250.62625 \nL 375.444172 229.786484 \nL 380.714538 223.832265 \nL 385.984904 207.458163 \nL 391.25527 217.878046 \nL 396.525636 232.763593 \nL 401.796002 283.374453 \nL 407.066368 287.840117 \nL 412.336734 281.885898 \nL 417.6071 274.443125 \nL 422.877466 278.908789 \nL 428.147832 274.443125 \nL 433.418198 278.908789 \nL 438.688564 275.931679 \nL 443.95893 277.420234 \nL 449.229296 280.397344 \nL 454.499662 278.908789 \nL 459.770028 258.069023 \n\" clip-path=\"url(#p2b656ee663)\" style=\"fill: none; stroke: #4c72b0; stroke-width: 1.75; stroke-linecap: round\"/>\n   </g>\n   <g id=\"line2d_28\">\n    <path d=\"M 53.951847 158.329138 \nL 59.222213 143.341558 \nL 64.492579 71.433641 \nL 69.762945 68.06467 \nL 75.033311 74.770411 \nL 80.303677 71.425571 \nL 85.574043 96.128198 \nL 90.844409 86.352514 \nL 96.114775 54.45811 \nL 101.385141 62.992948 \nL 106.655507 62.992948 \nL 111.925873 71.425571 \nL 117.196239 54.45811 \nL 122.466605 57.884429 \nL 127.736971 59.591382 \nL 133.007337 56.173344 \nL 138.277703 49.287369 \nL 143.548069 40.585082 \nL 148.818435 26.43768 \nL 154.088801 22.857003 \nL 159.359167 28.221388 \nL 164.629533 24.649557 \nL 169.899899 30.000697 \nL 175.170265 33.546184 \nL 180.440631 30.000697 \nL 185.710997 40.585082 \nL 190.981363 44.078748 \nL 196.251729 38.831827 \nL 201.522095 38.831827 \nL 206.792461 31.775624 \nL 212.062827 38.831827 \nL 217.333193 35.312394 \nL 222.603559 21.06 \nL 227.873925 52.738713 \nL 233.144291 31.775624 \nL 238.414657 51.275772 \nL 243.685023 27.849948 \nL 248.955389 29.679341 \nL 254.225755 27.849948 \nL 259.49612 44.149221 \nL 264.766486 58.3315 \nL 270.036852 56.57415 \nL 275.307218 58.3315 \nL 280.577584 67.053165 \nL 285.84795 53.046302 \nL 291.118316 63.577452 \nL 296.388682 68.784592 \nL 301.659048 61.833135 \nL 306.929414 77.378076 \nL 312.19978 87.552259 \nL 317.470146 75.667815 \nL 322.740512 107.461451 \nL 328.010878 94.252931 \nL 333.281244 73.953351 \nL 338.55161 51.275772 \nL 343.821976 45.937557 \nL 349.092342 47.721416 \nL 354.362708 53.046302 \nL 359.633074 58.3315 \nL 364.90344 84.177408 \nL 370.173806 84.177408 \nL 375.444172 107.461451 \nL 380.714538 113.971139 \nL 385.984904 131.556498 \nL 391.25527 120.418977 \nL 396.525636 104.183134 \nL 401.796002 45.937557 \nL 407.066368 51.295841 \nL 412.336734 58.404453 \nL 417.6071 67.19075 \nL 422.877466 61.932135 \nL 428.147832 67.19075 \nL 433.418198 61.932135 \nL 438.688564 65.442244 \nL 443.95893 63.689378 \nL 449.229296 60.170498 \nL 454.499662 61.932135 \nL 459.770028 86.141123 \n\" clip-path=\"url(#p2b656ee663)\" style=\"fill: none; stroke: #55a868; stroke-width: 1.75; stroke-linecap: round\"/>\n   </g>\n   <g id=\"patch_3\">\n    <path d=\"M 33.660938 312.12 \nL 33.660938 7.2 \n\" style=\"fill: none\"/>\n   </g>\n   <g id=\"patch_4\">\n    <path d=\"M 480.060937 312.12 \nL 480.060937 7.2 \n\" style=\"fill: none\"/>\n   </g>\n   <g id=\"patch_5\">\n    <path d=\"M 33.660938 312.12 \nL 480.060938 312.12 \n\" style=\"fill: none\"/>\n   </g>\n   <g id=\"patch_6\">\n    <path d=\"M 33.660938 7.2 \nL 480.060938 7.2 \n\" style=\"fill: none\"/>\n   </g>\n   <g id=\"legend_1\">\n    <g id=\"line2d_29\">\n     <path d=\"M 438.060937 19.946875 \nL 448.060937 19.946875 \nL 458.060937 19.946875 \n\" style=\"fill: none; stroke: #4c72b0; stroke-width: 1.75; stroke-linecap: round\"/>\n    </g>\n    <g id=\"text_14\">\n     <!-- r -->\n     <g style=\"fill: #262626\" transform=\"translate(466.060937 23.446875) scale(0.1 -0.1)\">\n      <defs>\n       <path id=\"LiberationSans-72\" d=\"M 444 0 \nL 444 2594 \nQ 444 2700 442 2811 \nQ 441 2922 437 3025 \nQ 434 3128 431 3218 \nQ 428 3309 425 3381 \nL 956 3381 \nQ 959 3309 964 3217 \nQ 969 3125 973 3028 \nQ 978 2931 979 2842 \nQ 981 2753 981 2691 \nL 994 2691 \nQ 1053 2884 1120 3026 \nQ 1188 3169 1278 3261 \nQ 1369 3353 1494 3398 \nQ 1619 3444 1797 3444 \nQ 1866 3444 1928 3433 \nQ 1991 3422 2025 3413 \nL 2025 2897 \nQ 1969 2913 1894 2920 \nQ 1819 2928 1725 2928 \nQ 1531 2928 1395 2840 \nQ 1259 2753 1173 2598 \nQ 1088 2444 1047 2230 \nQ 1006 2016 1006 1763 \nL 1006 0 \nL 444 0 \nz\n\" transform=\"scale(0.015625)\"/>\n      </defs>\n      <use xlink:href=\"#LiberationSans-72\"/>\n     </g>\n    </g>\n    <g id=\"line2d_30\">\n     <path d=\"M 438.060937 34.26875 \nL 448.060937 34.26875 \nL 458.060937 34.26875 \n\" style=\"fill: none; stroke: #55a868; stroke-width: 1.75; stroke-linecap: round\"/>\n    </g>\n    <g id=\"text_15\">\n     <!-- s -->\n     <g style=\"fill: #262626\" transform=\"translate(466.060937 37.76875) scale(0.1 -0.1)\">\n      <defs>\n       <path id=\"LiberationSans-73\" d=\"M 2969 934 \nQ 2969 697 2876 511 \nQ 2784 325 2609 198 \nQ 2434 72 2179 4 \nQ 1925 -63 1597 -63 \nQ 1303 -63 1067 -17 \nQ 831 28 653 128 \nQ 475 228 354 392 \nQ 234 556 178 794 \nL 675 891 \nQ 747 619 972 492 \nQ 1197 366 1597 366 \nQ 1778 366 1929 391 \nQ 2081 416 2190 477 \nQ 2300 538 2361 639 \nQ 2422 741 2422 891 \nQ 2422 1044 2350 1142 \nQ 2278 1241 2150 1306 \nQ 2022 1372 1839 1420 \nQ 1656 1469 1438 1528 \nQ 1234 1581 1034 1647 \nQ 834 1713 673 1820 \nQ 513 1928 413 2087 \nQ 313 2247 313 2488 \nQ 313 2950 642 3192 \nQ 972 3434 1603 3434 \nQ 2163 3434 2492 3237 \nQ 2822 3041 2909 2606 \nL 2403 2544 \nQ 2375 2675 2300 2764 \nQ 2225 2853 2119 2908 \nQ 2013 2963 1880 2986 \nQ 1747 3009 1603 3009 \nQ 1222 3009 1040 2893 \nQ 859 2778 859 2544 \nQ 859 2406 926 2317 \nQ 994 2228 1114 2167 \nQ 1234 2106 1403 2061 \nQ 1572 2016 1775 1966 \nQ 1909 1931 2050 1892 \nQ 2191 1853 2323 1798 \nQ 2456 1744 2573 1670 \nQ 2691 1597 2778 1494 \nQ 2866 1391 2917 1253 \nQ 2969 1116 2969 934 \nz\n\" transform=\"scale(0.015625)\"/>\n      </defs>\n      <use xlink:href=\"#LiberationSans-73\"/>\n     </g>\n    </g>\n   </g>\n  </g>\n </g>\n <defs>\n  <clipPath id=\"p2b656ee663\">\n   <rect x=\"33.660938\" y=\"7.2\" width=\"446.4\" height=\"304.92\"/>\n  </clipPath>\n </defs>\n</svg>\n"
          },
          "metadata": {}
        }
      ]
    },
    {
      "cell_type": "markdown",
      "source": [
        "绘制测试集上原始收益率 ('r') 和策略收益率 ('s') 的累积收益曲线。\n",
        "\n",
        "* test[['r', 's']]: 选择了 test DataFrame 中的 'r' 和 's' 两列。\n",
        "* .cumsum(): 对选定的这两列分别计算它们的累积和。对于对数收益率，累积和表示从开始到当前时间点的总对数收益率。\n",
        "* .apply(np.exp): 对累积和结果应用 np.exp() 函数。这将对每个时间点的累积对数收益率取指数，从而得到从开始到该时间点的累积收益（增长因子）。累积收益为 1 表示没有收益也没有亏损，大于 1 表示盈利，小于 1 表示亏损。\n",
        "* .plot(): 对计算出的累积收益结果进行绘图。这将生成一个折线图，显示随着时间推移，原始收益和策略收益的增长情况。\n",
        "\n",
        "通过这张图，您可以直观地比较在测试期内，简单持有资产的累积收益（'r' 曲线）与按照您的策略进行交易的累积收益（'s' 曲线）的表现。\n",
        "\n",
        "如果 's' 曲线在测试期结束时高于 'r' 曲线，则表明您的策略在测试期内表现优于简单持有。"
      ],
      "metadata": {
        "id": "GQe0ppmOHWrK"
      },
      "id": "GQe0ppmOHWrK"
    },
    {
      "cell_type": "markdown",
      "source": [
        "# 改用pytorch实现"
      ],
      "metadata": {
        "id": "uwAuUGKUJO5j"
      },
      "id": "uwAuUGKUJO5j"
    },
    {
      "cell_type": "code",
      "metadata": {
        "id": "8412af83"
      },
      "source": [
        "import torch\n",
        "import torch.nn as nn\n",
        "import torch.optim as optim"
      ],
      "id": "8412af83",
      "execution_count": 50,
      "outputs": []
    },
    {
      "cell_type": "markdown",
      "source": [
        "## 定义一个 PyTorch 模型，它将模仿之前使用的 MLPClassifier 结构"
      ],
      "metadata": {
        "id": "vkGgJp7eJdcZ"
      },
      "id": "vkGgJp7eJdcZ"
    },
    {
      "cell_type": "code",
      "metadata": {
        "id": "bf33f722"
      },
      "source": [
        "class MLP(nn.Module):\n",
        "    def __init__(self, input_size, hidden_size):\n",
        "        super(MLP, self).__init__()\n",
        "        self.fc1 = nn.Linear(input_size, hidden_size)\n",
        "        self.relu = nn.ReLU()\n",
        "        self.fc2 = nn.Linear(hidden_size, 2)  # Output size is 2 for binary classification\n",
        "\n",
        "    def forward(self, x):\n",
        "        out = self.fc1(x)\n",
        "        out = self.relu(out)\n",
        "        out = self.fc2(out)\n",
        "        return out"
      ],
      "id": "bf33f722",
      "execution_count": 51,
      "outputs": []
    },
    {
      "cell_type": "markdown",
      "source": [
        "## 准备数据"
      ],
      "metadata": {
        "id": "fhGq1DXcKo-w"
      },
      "id": "fhGq1DXcKo-w"
    },
    {
      "cell_type": "markdown",
      "source": [
        "把 Pandas DataFrame 转换成 PyTorch Tensor，并处理好用于分类的目标变量。"
      ],
      "metadata": {
        "id": "W_sxvsOzKx_8"
      },
      "id": "W_sxvsOzKx_8"
    },
    {
      "cell_type": "code",
      "metadata": {
        "colab": {
          "base_uri": "https://localhost:8080/"
        },
        "id": "8b359d5c",
        "outputId": "03bbdd0b-c9a8-4d99-b98e-480dd2360d30"
      },
      "source": [
        "# Convert pandas DataFrames to PyTorch tensors\n",
        "X_train = torch.tensor(train_[cols].values, dtype=torch.float32)\n",
        "y_train = torch.tensor(train['d'].values, dtype=torch.long) # Use long for classification labels\n",
        "X_test = torch.tensor(test_[cols].values, dtype=torch.float32)\n",
        "y_test = torch.tensor(test['d'].values, dtype=torch.long) # Use long for classification labels\n",
        "\n",
        "# Adjust labels to be 0 and 1 instead of -1 and 1\n",
        "y_train = (y_train + 1) // 2\n",
        "y_test = (y_test + 1) // 2\n",
        "\n",
        "print(\"X_train shape:\", X_train.shape)\n",
        "print(\"y_train shape:\", y_train.shape)\n",
        "print(\"X_test shape:\", X_test.shape)\n",
        "print(\"y_test shape:\", y_test.shape)"
      ],
      "id": "8b359d5c",
      "execution_count": 52,
      "outputs": [
        {
          "output_type": "stream",
          "name": "stdout",
          "text": [
            "X_train shape: torch.Size([311, 3])\n",
            "y_train shape: torch.Size([311])\n",
            "X_test shape: torch.Size([78, 3])\n",
            "y_test shape: torch.Size([78])\n"
          ]
        }
      ]
    },
    {
      "cell_type": "markdown",
      "source": [
        "## 定义损失函数和优化器\n",
        "为 PyTorch 模型定义损失函数和优化器。对于分类任务，交叉熵损失（CrossEntropyLoss）是一个常用的选择，而 Adam 优化器通常表现良好。\n",
        "\n",
        "需要创建刚刚定义的 PyTorch MLP 类的一个实例，然后使用这个新的 PyTorch 模型实例的参数来初始化优化器。"
      ],
      "metadata": {
        "id": "oF_P3iV1LFxl"
      },
      "id": "oF_P3iV1LFxl"
    },
    {
      "cell_type": "code",
      "metadata": {
        "id": "d2443bf7"
      },
      "source": [
        "# Define loss function and optimizer\n",
        "criterion = nn.CrossEntropyLoss()\n",
        "# Create an instance of the PyTorch MLP model\n",
        "input_size = X_train.shape[1]\n",
        "hidden_size = 24 # Use the same hidden size as the scikit-learn model\n",
        "model_torch = MLP(input_size, hidden_size)\n",
        "optimizer = optim.Adam(model_torch.parameters(), lr=0.001)"
      ],
      "id": "d2443bf7",
      "execution_count": 54,
      "outputs": []
    },
    {
      "cell_type": "markdown",
      "source": [
        "## 训练循环"
      ],
      "metadata": {
        "id": "TmmYHdtyL3Nk"
      },
      "id": "TmmYHdtyL3Nk"
    },
    {
      "cell_type": "code",
      "metadata": {
        "colab": {
          "base_uri": "https://localhost:8080/"
        },
        "id": "19856317",
        "outputId": "7bda59de-6779-4eb9-bde3-316f9016beae"
      },
      "source": [
        "# Training loop\n",
        "epochs = 200  # You can adjust the number of epochs\n",
        "for epoch in range(epochs):\n",
        "    # Forward pass\n",
        "    outputs = model_torch(X_train)\n",
        "    loss = criterion(outputs, y_train)\n",
        "\n",
        "    # Backward and optimize\n",
        "    optimizer.zero_grad()\n",
        "    loss.backward()\n",
        "    optimizer.step()\n",
        "\n",
        "    # Print loss occasionally\n",
        "    if (epoch + 1) % 50 == 0:\n",
        "        print(f'Epoch [{epoch+1}/{epochs}], Loss: {loss.item():.4f}')"
      ],
      "id": "19856317",
      "execution_count": 55,
      "outputs": [
        {
          "output_type": "stream",
          "name": "stdout",
          "text": [
            "Epoch [50/200], Loss: 0.6686\n",
            "Epoch [100/200], Loss: 0.6560\n",
            "Epoch [150/200], Loss: 0.6458\n",
            "Epoch [200/200], Loss: 0.6358\n"
          ]
        }
      ]
    },
    {
      "cell_type": "markdown",
      "source": [
        "## 使用测试集来评估模型的性能，并计算准确率"
      ],
      "metadata": {
        "id": "TzubyMYhMSPA"
      },
      "id": "TzubyMYhMSPA"
    },
    {
      "cell_type": "code",
      "metadata": {
        "colab": {
          "base_uri": "https://localhost:8080/"
        },
        "id": "532d9565",
        "outputId": "005eed2c-b560-4239-b19e-4d6c891041b1"
      },
      "source": [
        "# Evaluate the model\n",
        "model_torch.eval() # Set the model to evaluation mode\n",
        "with torch.no_grad(): # Disable gradient calculation for evaluation\n",
        "    outputs_test = model_torch(X_test)\n",
        "    _, predicted = torch.max(outputs_test.data, 1)\n",
        "\n",
        "# Calculate accuracy\n",
        "test_score_tf = accuracy_score(y_test.numpy(), predicted.numpy()) # Compare with original y_test\n",
        "print(f'PyTorch Model Accuracy on Test Set: {test_score_tf:.4f}')\n",
        "\n",
        "# Compare with scikit-learn model accuracy\n",
        "print(f'Scikit-learn Model Accuracy on Test Set: {test_score:.4f}')"
      ],
      "id": "532d9565",
      "execution_count": 56,
      "outputs": [
        {
          "output_type": "stream",
          "name": "stdout",
          "text": [
            "PyTorch Model Accuracy on Test Set: 0.4615\n",
            "Scikit-learn Model Accuracy on Test Set: 0.4615\n"
          ]
        }
      ]
    },
    {
      "cell_type": "markdown",
      "source": [
        "## 使用 PyTorch 模型的预测结果来计算交易策略在测试集上的收益。"
      ],
      "metadata": {
        "id": "r0ZrRzT0M_N1"
      },
      "id": "r0ZrRzT0M_N1"
    },
    {
      "cell_type": "code",
      "metadata": {
        "id": "554f7712"
      },
      "source": [
        "# Calculate strategy returns for PyTorch model\n",
        "test['p_tf'] = predicted.numpy() # Store PyTorch predictions in a new column\n",
        "# Convert predictions back to -1 and 1 for strategy calculation\n",
        "test['p_tf'] = test['p_tf'].apply(lambda x: 1 if x == 1 else -1)\n",
        "test['s_tf'] = test['p_tf'] * test['r']"
      ],
      "id": "554f7712",
      "execution_count": 57,
      "outputs": []
    },
    {
      "cell_type": "markdown",
      "source": [
        "## 绘制累积收益曲线，比较一下原始收益、scikit-learn 模型的策略收益以及 PyTorch 模型的策略收益。"
      ],
      "metadata": {
        "id": "lkuEPuKPNNyV"
      },
      "id": "lkuEPuKPNNyV"
    },
    {
      "cell_type": "code",
      "metadata": {
        "colab": {
          "base_uri": "https://localhost:8080/"
        },
        "id": "74116430",
        "outputId": "94947b06-dae6-469f-8eb4-6f673f53a63b"
      },
      "source": [
        "rr_tf, ss_tf = test[['r', 's_tf']].sum().apply(np.exp);\n",
        "print(\"rr_tf:\", rr_tf, \"\\tss_tf:\", ss_tf);"
      ],
      "id": "74116430",
      "execution_count": 58,
      "outputs": [
        {
          "output_type": "stream",
          "name": "stdout",
          "text": [
            "rr_tf: 0.9219457013574659 \tss_tf: 0.9979362606966602\n"
          ]
        }
      ]
    },
    {
      "cell_type": "code",
      "metadata": {
        "colab": {
          "base_uri": "https://localhost:8080/",
          "height": 468
        },
        "id": "cc0c4799",
        "outputId": "f7169355-735f-4ece-b060-03c99e02a01c"
      },
      "source": [
        "test[['r', 's', 's_tf']].cumsum().apply(np.exp).plot();"
      ],
      "id": "cc0c4799",
      "execution_count": 59,
      "outputs": [
        {
          "output_type": "display_data",
          "data": {
            "text/plain": [
              "<Figure size 800x550 with 1 Axes>"
            ],
            "image/svg+xml": "<?xml version=\"1.0\" encoding=\"utf-8\" standalone=\"no\"?>\n<!DOCTYPE svg PUBLIC \"-//W3C//DTD SVG 1.1//EN\"\n  \"http://www.w3.org/Graphics/SVG/1.1/DTD/svg11.dtd\">\n<svg xmlns:xlink=\"http://www.w3.org/1999/xlink\" width=\"487.260937pt\" height=\"335.641875pt\" viewBox=\"0 0 487.260937 335.641875\" xmlns=\"http://www.w3.org/2000/svg\" version=\"1.1\">\n <metadata>\n  <rdf:RDF xmlns:dc=\"http://purl.org/dc/elements/1.1/\" xmlns:cc=\"http://creativecommons.org/ns#\" xmlns:rdf=\"http://www.w3.org/1999/02/22-rdf-syntax-ns#\">\n   <cc:Work>\n    <dc:type rdf:resource=\"http://purl.org/dc/dcmitype/StillImage\"/>\n    <dc:date>2025-08-15T23:49:06.014367</dc:date>\n    <dc:format>image/svg+xml</dc:format>\n    <dc:creator>\n     <cc:Agent>\n      <dc:title>Matplotlib v3.10.0, https://matplotlib.org/</dc:title>\n     </cc:Agent>\n    </dc:creator>\n   </cc:Work>\n  </rdf:RDF>\n </metadata>\n <defs>\n  <style type=\"text/css\">*{stroke-linejoin: round; stroke-linecap: butt}</style>\n </defs>\n <g id=\"figure_1\">\n  <g id=\"patch_1\">\n   <path d=\"M 0 335.641875 \nL 487.260937 335.641875 \nL 487.260937 0 \nL 0 0 \nz\n\" style=\"fill: #ffffff\"/>\n  </g>\n  <g id=\"axes_1\">\n   <g id=\"patch_2\">\n    <path d=\"M 33.660938 312.12 \nL 480.060937 312.12 \nL 480.060937 7.2 \nL 33.660938 7.2 \nz\n\" style=\"fill: #eaeaf2\"/>\n   </g>\n   <g id=\"matplotlib.axis_1\">\n    <g id=\"xtick_1\">\n     <g id=\"line2d_1\">\n      <path d=\"M 80.303677 312.12 \nL 80.303677 7.2 \n\" clip-path=\"url(#pd700943104)\" style=\"fill: none; stroke: #ffffff; stroke-linecap: round\"/>\n     </g>\n     <g id=\"line2d_2\"/>\n     <g id=\"text_1\">\n      <!-- 320 -->\n      <g style=\"fill: #262626\" transform=\"translate(71.96227 326.366875) scale(0.1 -0.1)\">\n       <defs>\n        <path id=\"LiberationSans-33\" d=\"M 3278 1216 \nQ 3278 913 3179 675 \nQ 3081 438 2892 273 \nQ 2703 109 2423 23 \nQ 2144 -63 1784 -63 \nQ 1375 -63 1095 39 \nQ 816 141 634 308 \nQ 453 475 362 689 \nQ 272 903 244 1131 \nL 825 1184 \nQ 850 1009 917 865 \nQ 984 722 1100 619 \nQ 1216 516 1384 459 \nQ 1553 403 1784 403 \nQ 2209 403 2451 612 \nQ 2694 822 2694 1234 \nQ 2694 1478 2586 1626 \nQ 2478 1775 2317 1858 \nQ 2156 1941 1967 1969 \nQ 1778 1997 1619 1997 \nL 1300 1997 \nL 1300 2484 \nL 1606 2484 \nQ 1766 2484 1937 2517 \nQ 2109 2550 2251 2636 \nQ 2394 2722 2486 2869 \nQ 2578 3016 2578 3244 \nQ 2578 3597 2370 3801 \nQ 2163 4006 1753 4006 \nQ 1381 4006 1151 3815 \nQ 922 3625 884 3278 \nL 319 3322 \nQ 353 3613 478 3828 \nQ 603 4044 795 4186 \nQ 988 4328 1234 4398 \nQ 1481 4469 1759 4469 \nQ 2128 4469 2393 4376 \nQ 2659 4284 2828 4126 \nQ 2997 3969 3076 3756 \nQ 3156 3544 3156 3303 \nQ 3156 3109 3103 2940 \nQ 3050 2772 2937 2637 \nQ 2825 2503 2651 2406 \nQ 2478 2309 2234 2259 \nL 2234 2247 \nQ 2500 2219 2697 2126 \nQ 2894 2034 3022 1896 \nQ 3150 1759 3214 1584 \nQ 3278 1409 3278 1216 \nz\n\" transform=\"scale(0.015625)\"/>\n        <path id=\"LiberationSans-32\" d=\"M 322 0 \nL 322 397 \nQ 481 763 711 1042 \nQ 941 1322 1194 1548 \nQ 1447 1775 1695 1969 \nQ 1944 2163 2144 2356 \nQ 2344 2550 2467 2762 \nQ 2591 2975 2591 3244 \nQ 2591 3431 2534 3573 \nQ 2478 3716 2372 3812 \nQ 2266 3909 2117 3957 \nQ 1969 4006 1788 4006 \nQ 1619 4006 1470 3959 \nQ 1322 3913 1206 3819 \nQ 1091 3725 1017 3586 \nQ 944 3447 922 3263 \nL 347 3316 \nQ 375 3553 478 3762 \nQ 581 3972 762 4130 \nQ 944 4288 1198 4378 \nQ 1453 4469 1788 4469 \nQ 2116 4469 2372 4391 \nQ 2628 4313 2804 4159 \nQ 2981 4006 3075 3781 \nQ 3169 3556 3169 3263 \nQ 3169 3041 3089 2841 \nQ 3009 2641 2876 2459 \nQ 2744 2278 2569 2109 \nQ 2394 1941 2203 1780 \nQ 2013 1619 1819 1461 \nQ 1625 1303 1454 1143 \nQ 1284 984 1150 820 \nQ 1016 656 941 478 \nL 3238 478 \nL 3238 0 \nL 322 0 \nz\n\" transform=\"scale(0.015625)\"/>\n        <path id=\"LiberationSans-30\" d=\"M 3309 2203 \nQ 3309 1569 3189 1136 \nQ 3069 703 2861 436 \nQ 2653 169 2372 53 \nQ 2091 -63 1772 -63 \nQ 1450 -63 1172 53 \nQ 894 169 689 434 \nQ 484 700 367 1133 \nQ 250 1566 250 2203 \nQ 250 2869 367 3305 \nQ 484 3741 690 4000 \nQ 897 4259 1178 4364 \nQ 1459 4469 1791 4469 \nQ 2106 4469 2382 4364 \nQ 2659 4259 2865 4000 \nQ 3072 3741 3190 3305 \nQ 3309 2869 3309 2203 \nz\nM 2738 2203 \nQ 2738 2728 2675 3076 \nQ 2613 3425 2491 3633 \nQ 2369 3841 2192 3927 \nQ 2016 4013 1791 4013 \nQ 1553 4013 1372 3925 \nQ 1191 3838 1067 3630 \nQ 944 3422 881 3073 \nQ 819 2725 819 2203 \nQ 819 1697 883 1350 \nQ 947 1003 1070 792 \nQ 1194 581 1372 489 \nQ 1550 397 1778 397 \nQ 2000 397 2178 489 \nQ 2356 581 2479 792 \nQ 2603 1003 2670 1350 \nQ 2738 1697 2738 2203 \nz\n\" transform=\"scale(0.015625)\"/>\n       </defs>\n       <use xlink:href=\"#LiberationSans-33\"/>\n       <use xlink:href=\"#LiberationSans-32\" transform=\"translate(55.615234 0)\"/>\n       <use xlink:href=\"#LiberationSans-30\" transform=\"translate(111.230469 0)\"/>\n      </g>\n     </g>\n    </g>\n    <g id=\"xtick_2\">\n     <g id=\"line2d_3\">\n      <path d=\"M 133.007337 312.12 \nL 133.007337 7.2 \n\" clip-path=\"url(#pd700943104)\" style=\"fill: none; stroke: #ffffff; stroke-linecap: round\"/>\n     </g>\n     <g id=\"line2d_4\"/>\n     <g id=\"text_2\">\n      <!-- 330 -->\n      <g style=\"fill: #262626\" transform=\"translate(124.66593 326.366875) scale(0.1 -0.1)\">\n       <use xlink:href=\"#LiberationSans-33\"/>\n       <use xlink:href=\"#LiberationSans-33\" transform=\"translate(55.615234 0)\"/>\n       <use xlink:href=\"#LiberationSans-30\" transform=\"translate(111.230469 0)\"/>\n      </g>\n     </g>\n    </g>\n    <g id=\"xtick_3\">\n     <g id=\"line2d_5\">\n      <path d=\"M 185.710997 312.12 \nL 185.710997 7.2 \n\" clip-path=\"url(#pd700943104)\" style=\"fill: none; stroke: #ffffff; stroke-linecap: round\"/>\n     </g>\n     <g id=\"line2d_6\"/>\n     <g id=\"text_3\">\n      <!-- 340 -->\n      <g style=\"fill: #262626\" transform=\"translate(177.36959 326.366875) scale(0.1 -0.1)\">\n       <defs>\n        <path id=\"LiberationSans-34\" d=\"M 2753 997 \nL 2753 0 \nL 2222 0 \nL 2222 997 \nL 147 997 \nL 147 1434 \nL 2163 4403 \nL 2753 4403 \nL 2753 1441 \nL 3372 1441 \nL 3372 997 \nL 2753 997 \nz\nM 2222 3769 \nQ 2216 3753 2191 3708 \nQ 2166 3663 2134 3606 \nQ 2103 3550 2070 3492 \nQ 2038 3434 2013 3397 \nL 884 1734 \nQ 869 1709 839 1668 \nQ 809 1628 778 1586 \nQ 747 1544 715 1503 \nQ 684 1463 666 1441 \nL 2222 1441 \nL 2222 3769 \nz\n\" transform=\"scale(0.015625)\"/>\n       </defs>\n       <use xlink:href=\"#LiberationSans-33\"/>\n       <use xlink:href=\"#LiberationSans-34\" transform=\"translate(55.615234 0)\"/>\n       <use xlink:href=\"#LiberationSans-30\" transform=\"translate(111.230469 0)\"/>\n      </g>\n     </g>\n    </g>\n    <g id=\"xtick_4\">\n     <g id=\"line2d_7\">\n      <path d=\"M 238.414657 312.12 \nL 238.414657 7.2 \n\" clip-path=\"url(#pd700943104)\" style=\"fill: none; stroke: #ffffff; stroke-linecap: round\"/>\n     </g>\n     <g id=\"line2d_8\"/>\n     <g id=\"text_4\">\n      <!-- 350 -->\n      <g style=\"fill: #262626\" transform=\"translate(230.07325 326.366875) scale(0.1 -0.1)\">\n       <defs>\n        <path id=\"LiberationSans-35\" d=\"M 3291 1434 \nQ 3291 1103 3191 828 \nQ 3091 553 2894 354 \nQ 2697 156 2405 46 \nQ 2113 -63 1728 -63 \nQ 1381 -63 1123 18 \nQ 866 100 687 242 \nQ 509 384 404 575 \nQ 300 766 256 984 \nL 825 1050 \nQ 859 925 921 808 \nQ 984 691 1092 598 \nQ 1200 506 1358 451 \nQ 1516 397 1741 397 \nQ 1959 397 2137 464 \nQ 2316 531 2442 662 \nQ 2569 794 2637 984 \nQ 2706 1175 2706 1422 \nQ 2706 1625 2640 1795 \nQ 2575 1966 2453 2089 \nQ 2331 2213 2154 2281 \nQ 1978 2350 1753 2350 \nQ 1613 2350 1494 2325 \nQ 1375 2300 1273 2256 \nQ 1172 2213 1089 2155 \nQ 1006 2097 934 2034 \nL 384 2034 \nL 531 4403 \nL 3034 4403 \nL 3034 3925 \nL 1044 3925 \nL 959 2528 \nQ 1109 2644 1334 2726 \nQ 1559 2809 1869 2809 \nQ 2197 2809 2459 2709 \nQ 2722 2609 2906 2426 \nQ 3091 2244 3191 1991 \nQ 3291 1738 3291 1434 \nz\n\" transform=\"scale(0.015625)\"/>\n       </defs>\n       <use xlink:href=\"#LiberationSans-33\"/>\n       <use xlink:href=\"#LiberationSans-35\" transform=\"translate(55.615234 0)\"/>\n       <use xlink:href=\"#LiberationSans-30\" transform=\"translate(111.230469 0)\"/>\n      </g>\n     </g>\n    </g>\n    <g id=\"xtick_5\">\n     <g id=\"line2d_9\">\n      <path d=\"M 291.118316 312.12 \nL 291.118316 7.2 \n\" clip-path=\"url(#pd700943104)\" style=\"fill: none; stroke: #ffffff; stroke-linecap: round\"/>\n     </g>\n     <g id=\"line2d_10\"/>\n     <g id=\"text_5\">\n      <!-- 360 -->\n      <g style=\"fill: #262626\" transform=\"translate(282.77691 326.366875) scale(0.1 -0.1)\">\n       <defs>\n        <path id=\"LiberationSans-36\" d=\"M 3278 1441 \nQ 3278 1109 3186 832 \nQ 3094 556 2914 357 \nQ 2734 159 2468 48 \nQ 2203 -63 1856 -63 \nQ 1472 -63 1184 84 \nQ 897 231 706 507 \nQ 516 784 420 1186 \nQ 325 1588 325 2100 \nQ 325 2688 433 3131 \nQ 541 3575 744 3872 \nQ 947 4169 1239 4319 \nQ 1531 4469 1900 4469 \nQ 2125 4469 2322 4422 \nQ 2519 4375 2680 4270 \nQ 2841 4166 2962 3994 \nQ 3084 3822 3156 3572 \nL 2619 3475 \nQ 2531 3759 2339 3886 \nQ 2147 4013 1894 4013 \nQ 1663 4013 1475 3903 \nQ 1288 3794 1156 3576 \nQ 1025 3359 954 3031 \nQ 884 2703 884 2266 \nQ 1038 2550 1316 2698 \nQ 1594 2847 1953 2847 \nQ 2253 2847 2497 2750 \nQ 2741 2653 2914 2470 \nQ 3088 2288 3183 2027 \nQ 3278 1766 3278 1441 \nz\nM 2706 1416 \nQ 2706 1644 2650 1828 \nQ 2594 2013 2481 2142 \nQ 2369 2272 2203 2342 \nQ 2038 2413 1819 2413 \nQ 1666 2413 1509 2367 \nQ 1353 2322 1226 2220 \nQ 1100 2119 1020 1953 \nQ 941 1788 941 1550 \nQ 941 1306 1003 1095 \nQ 1066 884 1183 728 \nQ 1300 572 1465 481 \nQ 1631 391 1838 391 \nQ 2041 391 2202 461 \nQ 2363 531 2475 664 \nQ 2588 797 2647 987 \nQ 2706 1178 2706 1416 \nz\n\" transform=\"scale(0.015625)\"/>\n       </defs>\n       <use xlink:href=\"#LiberationSans-33\"/>\n       <use xlink:href=\"#LiberationSans-36\" transform=\"translate(55.615234 0)\"/>\n       <use xlink:href=\"#LiberationSans-30\" transform=\"translate(111.230469 0)\"/>\n      </g>\n     </g>\n    </g>\n    <g id=\"xtick_6\">\n     <g id=\"line2d_11\">\n      <path d=\"M 343.821976 312.12 \nL 343.821976 7.2 \n\" clip-path=\"url(#pd700943104)\" style=\"fill: none; stroke: #ffffff; stroke-linecap: round\"/>\n     </g>\n     <g id=\"line2d_12\"/>\n     <g id=\"text_6\">\n      <!-- 370 -->\n      <g style=\"fill: #262626\" transform=\"translate(335.48057 326.366875) scale(0.1 -0.1)\">\n       <defs>\n        <path id=\"LiberationSans-37\" d=\"M 3238 3947 \nQ 2906 3441 2628 2973 \nQ 2350 2506 2150 2032 \nQ 1950 1559 1839 1061 \nQ 1728 563 1728 0 \nL 1141 0 \nQ 1141 528 1266 1036 \nQ 1391 1544 1603 2033 \nQ 1816 2522 2097 2994 \nQ 2378 3466 2694 3925 \nL 328 3925 \nL 328 4403 \nL 3238 4403 \nL 3238 3947 \nz\n\" transform=\"scale(0.015625)\"/>\n       </defs>\n       <use xlink:href=\"#LiberationSans-33\"/>\n       <use xlink:href=\"#LiberationSans-37\" transform=\"translate(55.615234 0)\"/>\n       <use xlink:href=\"#LiberationSans-30\" transform=\"translate(111.230469 0)\"/>\n      </g>\n     </g>\n    </g>\n    <g id=\"xtick_7\">\n     <g id=\"line2d_13\">\n      <path d=\"M 396.525636 312.12 \nL 396.525636 7.2 \n\" clip-path=\"url(#pd700943104)\" style=\"fill: none; stroke: #ffffff; stroke-linecap: round\"/>\n     </g>\n     <g id=\"line2d_14\"/>\n     <g id=\"text_7\">\n      <!-- 380 -->\n      <g style=\"fill: #262626\" transform=\"translate(388.18423 326.366875) scale(0.1 -0.1)\">\n       <defs>\n        <path id=\"LiberationSans-38\" d=\"M 3281 1228 \nQ 3281 947 3192 711 \nQ 3103 475 2920 303 \nQ 2738 131 2453 34 \nQ 2169 -63 1781 -63 \nQ 1394 -63 1111 34 \nQ 828 131 642 301 \nQ 456 472 367 708 \nQ 278 944 278 1222 \nQ 278 1463 351 1650 \nQ 425 1838 548 1973 \nQ 672 2109 830 2192 \nQ 988 2275 1156 2303 \nL 1156 2316 \nQ 972 2359 826 2456 \nQ 681 2553 582 2689 \nQ 484 2825 432 2990 \nQ 381 3156 381 3341 \nQ 381 3572 470 3776 \nQ 559 3981 734 4136 \nQ 909 4291 1168 4380 \nQ 1428 4469 1769 4469 \nQ 2128 4469 2392 4378 \nQ 2656 4288 2829 4133 \nQ 3003 3978 3087 3772 \nQ 3172 3566 3172 3334 \nQ 3172 3153 3120 2987 \nQ 3069 2822 2970 2686 \nQ 2872 2550 2726 2454 \nQ 2581 2359 2391 2322 \nL 2391 2309 \nQ 2581 2278 2743 2195 \nQ 2906 2113 3025 1977 \nQ 3144 1841 3212 1653 \nQ 3281 1466 3281 1228 \nz\nM 2588 3303 \nQ 2588 3469 2545 3606 \nQ 2503 3744 2406 3842 \nQ 2309 3941 2153 3995 \nQ 1997 4050 1769 4050 \nQ 1547 4050 1394 3995 \nQ 1241 3941 1142 3842 \nQ 1044 3744 1000 3606 \nQ 956 3469 956 3303 \nQ 956 3172 990 3034 \nQ 1025 2897 1115 2784 \nQ 1206 2672 1365 2600 \nQ 1525 2528 1775 2528 \nQ 2041 2528 2202 2600 \nQ 2363 2672 2448 2784 \nQ 2534 2897 2561 3034 \nQ 2588 3172 2588 3303 \nz\nM 2697 1281 \nQ 2697 1441 2653 1589 \nQ 2609 1738 2503 1852 \nQ 2397 1966 2217 2036 \nQ 2038 2106 1769 2106 \nQ 1522 2106 1348 2036 \nQ 1175 1966 1067 1850 \nQ 959 1734 909 1582 \nQ 859 1431 859 1269 \nQ 859 1066 909 898 \nQ 959 731 1068 611 \nQ 1178 491 1356 425 \nQ 1534 359 1788 359 \nQ 2044 359 2219 425 \nQ 2394 491 2500 611 \nQ 2606 731 2651 901 \nQ 2697 1072 2697 1281 \nz\n\" transform=\"scale(0.015625)\"/>\n       </defs>\n       <use xlink:href=\"#LiberationSans-33\"/>\n       <use xlink:href=\"#LiberationSans-38\" transform=\"translate(55.615234 0)\"/>\n       <use xlink:href=\"#LiberationSans-30\" transform=\"translate(111.230469 0)\"/>\n      </g>\n     </g>\n    </g>\n    <g id=\"xtick_8\">\n     <g id=\"line2d_15\">\n      <path d=\"M 449.229296 312.12 \nL 449.229296 7.2 \n\" clip-path=\"url(#pd700943104)\" style=\"fill: none; stroke: #ffffff; stroke-linecap: round\"/>\n     </g>\n     <g id=\"line2d_16\"/>\n     <g id=\"text_8\">\n      <!-- 390 -->\n      <g style=\"fill: #262626\" transform=\"translate(440.88789 326.366875) scale(0.1 -0.1)\">\n       <defs>\n        <path id=\"LiberationSans-39\" d=\"M 3256 2291 \nQ 3256 1703 3145 1261 \nQ 3034 819 2828 525 \nQ 2622 231 2326 84 \nQ 2031 -63 1663 -63 \nQ 1409 -63 1206 -11 \nQ 1003 41 843 150 \nQ 684 259 571 434 \nQ 459 609 391 856 \nL 928 941 \nQ 1016 656 1202 523 \nQ 1388 391 1672 391 \nQ 1900 391 2089 498 \nQ 2278 606 2411 822 \nQ 2544 1038 2619 1363 \nQ 2694 1688 2700 2125 \nQ 2634 1978 2520 1862 \nQ 2406 1747 2261 1667 \nQ 2116 1588 1947 1545 \nQ 1778 1503 1606 1503 \nQ 1306 1503 1064 1611 \nQ 822 1719 653 1912 \nQ 484 2106 392 2379 \nQ 300 2653 300 2988 \nQ 300 3328 398 3603 \nQ 497 3878 684 4070 \nQ 872 4263 1145 4366 \nQ 1419 4469 1766 4469 \nQ 2500 4469 2878 3925 \nQ 3256 3381 3256 2291 \nz\nM 2644 2834 \nQ 2644 3078 2586 3293 \nQ 2528 3509 2414 3668 \nQ 2300 3828 2133 3920 \nQ 1966 4013 1747 4013 \nQ 1544 4013 1381 3941 \nQ 1219 3869 1106 3736 \nQ 994 3603 933 3412 \nQ 872 3222 872 2988 \nQ 872 2766 926 2575 \nQ 981 2384 1090 2245 \nQ 1200 2106 1362 2026 \nQ 1525 1947 1741 1947 \nQ 1897 1947 2058 2000 \nQ 2219 2053 2348 2162 \nQ 2478 2272 2561 2439 \nQ 2644 2606 2644 2834 \nz\n\" transform=\"scale(0.015625)\"/>\n       </defs>\n       <use xlink:href=\"#LiberationSans-33\"/>\n       <use xlink:href=\"#LiberationSans-39\" transform=\"translate(55.615234 0)\"/>\n       <use xlink:href=\"#LiberationSans-30\" transform=\"translate(111.230469 0)\"/>\n      </g>\n     </g>\n    </g>\n   </g>\n   <g id=\"matplotlib.axis_2\">\n    <g id=\"ytick_1\">\n     <g id=\"line2d_17\">\n      <path d=\"M 33.660938 286.946984 \nL 480.060937 286.946984 \n\" clip-path=\"url(#pd700943104)\" style=\"fill: none; stroke: #ffffff; stroke-linecap: round\"/>\n     </g>\n     <g id=\"line2d_18\"/>\n     <g id=\"text_9\">\n      <!-- 0.90 -->\n      <g style=\"fill: #262626\" transform=\"translate(7.2 290.570422) scale(0.1 -0.1)\">\n       <defs>\n        <path id=\"LiberationSans-2e\" d=\"M 584 0 \nL 584 684 \nL 1194 684 \nL 1194 0 \nL 584 0 \nz\n\" transform=\"scale(0.015625)\"/>\n       </defs>\n       <use xlink:href=\"#LiberationSans-30\"/>\n       <use xlink:href=\"#LiberationSans-2e\" transform=\"translate(55.615234 0)\"/>\n       <use xlink:href=\"#LiberationSans-39\" transform=\"translate(83.398438 0)\"/>\n       <use xlink:href=\"#LiberationSans-30\" transform=\"translate(139.013672 0)\"/>\n      </g>\n     </g>\n    </g>\n    <g id=\"ytick_2\">\n     <g id=\"line2d_19\">\n      <path d=\"M 33.660938 221.152867 \nL 480.060937 221.152867 \n\" clip-path=\"url(#pd700943104)\" style=\"fill: none; stroke: #ffffff; stroke-linecap: round\"/>\n     </g>\n     <g id=\"line2d_20\"/>\n     <g id=\"text_10\">\n      <!-- 0.95 -->\n      <g style=\"fill: #262626\" transform=\"translate(7.2 224.776304) scale(0.1 -0.1)\">\n       <use xlink:href=\"#LiberationSans-30\"/>\n       <use xlink:href=\"#LiberationSans-2e\" transform=\"translate(55.615234 0)\"/>\n       <use xlink:href=\"#LiberationSans-39\" transform=\"translate(83.398438 0)\"/>\n       <use xlink:href=\"#LiberationSans-35\" transform=\"translate(139.013672 0)\"/>\n      </g>\n     </g>\n    </g>\n    <g id=\"ytick_3\">\n     <g id=\"line2d_21\">\n      <path d=\"M 33.660938 155.358749 \nL 480.060937 155.358749 \n\" clip-path=\"url(#pd700943104)\" style=\"fill: none; stroke: #ffffff; stroke-linecap: round\"/>\n     </g>\n     <g id=\"line2d_22\"/>\n     <g id=\"text_11\">\n      <!-- 1.00 -->\n      <g style=\"fill: #262626\" transform=\"translate(7.2 158.982186) scale(0.1 -0.1)\">\n       <defs>\n        <path id=\"LiberationSans-31\" d=\"M 488 0 \nL 488 478 \nL 1609 478 \nL 1609 3866 \nL 616 3156 \nL 616 3688 \nL 1656 4403 \nL 2175 4403 \nL 2175 478 \nL 3247 478 \nL 3247 0 \nL 488 0 \nz\n\" transform=\"scale(0.015625)\"/>\n       </defs>\n       <use xlink:href=\"#LiberationSans-31\"/>\n       <use xlink:href=\"#LiberationSans-2e\" transform=\"translate(55.615234 0)\"/>\n       <use xlink:href=\"#LiberationSans-30\" transform=\"translate(83.398438 0)\"/>\n       <use xlink:href=\"#LiberationSans-30\" transform=\"translate(139.013672 0)\"/>\n      </g>\n     </g>\n    </g>\n    <g id=\"ytick_4\">\n     <g id=\"line2d_23\">\n      <path d=\"M 33.660938 89.564631 \nL 480.060937 89.564631 \n\" clip-path=\"url(#pd700943104)\" style=\"fill: none; stroke: #ffffff; stroke-linecap: round\"/>\n     </g>\n     <g id=\"line2d_24\"/>\n     <g id=\"text_12\">\n      <!-- 1.05 -->\n      <g style=\"fill: #262626\" transform=\"translate(7.2 93.188068) scale(0.1 -0.1)\">\n       <use xlink:href=\"#LiberationSans-31\"/>\n       <use xlink:href=\"#LiberationSans-2e\" transform=\"translate(55.615234 0)\"/>\n       <use xlink:href=\"#LiberationSans-30\" transform=\"translate(83.398438 0)\"/>\n       <use xlink:href=\"#LiberationSans-35\" transform=\"translate(139.013672 0)\"/>\n      </g>\n     </g>\n    </g>\n    <g id=\"ytick_5\">\n     <g id=\"line2d_25\">\n      <path d=\"M 33.660938 23.770513 \nL 480.060937 23.770513 \n\" clip-path=\"url(#pd700943104)\" style=\"fill: none; stroke: #ffffff; stroke-linecap: round\"/>\n     </g>\n     <g id=\"line2d_26\"/>\n     <g id=\"text_13\">\n      <!-- 1.10 -->\n      <g style=\"fill: #262626\" transform=\"translate(7.2 27.393951) scale(0.1 -0.1)\">\n       <use xlink:href=\"#LiberationSans-31\"/>\n       <use xlink:href=\"#LiberationSans-2e\" transform=\"translate(55.615234 0)\"/>\n       <use xlink:href=\"#LiberationSans-31\" transform=\"translate(83.398438 0)\"/>\n       <use xlink:href=\"#LiberationSans-30\" transform=\"translate(139.013672 0)\"/>\n      </g>\n     </g>\n    </g>\n   </g>\n   <g id=\"line2d_27\">\n    <path d=\"M 53.951847 152.381639 \nL 59.222213 167.267186 \nL 64.492579 234.252148 \nL 69.762945 231.275038 \nL 75.033311 225.32082 \nL 80.303677 228.297929 \nL 85.574043 205.969609 \nL 90.844409 214.900937 \nL 96.114775 243.183476 \nL 101.385141 235.740703 \nL 106.655507 235.740703 \nL 111.925873 228.297929 \nL 117.196239 243.183476 \nL 122.466605 240.206367 \nL 127.736971 238.717812 \nL 133.007337 241.694921 \nL 138.277703 247.64914 \nL 143.548069 255.091914 \nL 148.818435 267.000351 \nL 154.088801 269.977461 \nL 159.359167 265.511797 \nL 164.629533 268.488906 \nL 169.899899 264.023242 \nL 175.170265 261.046132 \nL 180.440631 264.023242 \nL 185.710997 255.091914 \nL 190.981363 252.114804 \nL 196.251729 256.580468 \nL 201.522095 256.580468 \nL 206.792461 262.534687 \nL 212.062827 256.580468 \nL 217.333193 259.557578 \nL 222.603559 271.466015 \nL 227.873925 244.672031 \nL 233.144291 262.534687 \nL 238.414657 278.908789 \nL 243.685023 298.26 \nL 248.955389 296.771445 \nL 254.225755 298.26 \nL 259.49612 284.863008 \nL 264.766486 272.95457 \nL 270.036852 274.443125 \nL 275.307218 272.95457 \nL 280.577584 265.511797 \nL 285.84795 277.420234 \nL 291.118316 268.488906 \nL 296.388682 264.023242 \nL 301.659048 269.977461 \nL 306.929414 256.580468 \nL 312.19978 247.64914 \nL 317.470146 258.069023 \nL 322.740512 229.786484 \nL 328.010878 241.694921 \nL 333.281244 259.557578 \nL 338.55161 278.908789 \nL 343.821976 283.374453 \nL 349.092342 281.885898 \nL 354.362708 277.420234 \nL 359.633074 272.95457 \nL 364.90344 250.62625 \nL 370.173806 250.62625 \nL 375.444172 229.786484 \nL 380.714538 223.832265 \nL 385.984904 207.458163 \nL 391.25527 217.878046 \nL 396.525636 232.763593 \nL 401.796002 283.374453 \nL 407.066368 287.840117 \nL 412.336734 281.885898 \nL 417.6071 274.443125 \nL 422.877466 278.908789 \nL 428.147832 274.443125 \nL 433.418198 278.908789 \nL 438.688564 275.931679 \nL 443.95893 277.420234 \nL 449.229296 280.397344 \nL 454.499662 278.908789 \nL 459.770028 258.069023 \n\" clip-path=\"url(#pd700943104)\" style=\"fill: none; stroke: #4c72b0; stroke-width: 1.75; stroke-linecap: round\"/>\n   </g>\n   <g id=\"line2d_28\">\n    <path d=\"M 53.951847 158.329138 \nL 59.222213 143.341558 \nL 64.492579 71.433641 \nL 69.762945 68.06467 \nL 75.033311 74.770411 \nL 80.303677 71.425571 \nL 85.574043 96.128198 \nL 90.844409 86.352514 \nL 96.114775 54.45811 \nL 101.385141 62.992948 \nL 106.655507 62.992948 \nL 111.925873 71.425571 \nL 117.196239 54.45811 \nL 122.466605 57.884429 \nL 127.736971 59.591382 \nL 133.007337 56.173344 \nL 138.277703 49.287369 \nL 143.548069 40.585082 \nL 148.818435 26.43768 \nL 154.088801 22.857003 \nL 159.359167 28.221388 \nL 164.629533 24.649557 \nL 169.899899 30.000697 \nL 175.170265 33.546184 \nL 180.440631 30.000697 \nL 185.710997 40.585082 \nL 190.981363 44.078748 \nL 196.251729 38.831827 \nL 201.522095 38.831827 \nL 206.792461 31.775624 \nL 212.062827 38.831827 \nL 217.333193 35.312394 \nL 222.603559 21.06 \nL 227.873925 52.738713 \nL 233.144291 31.775624 \nL 238.414657 51.275772 \nL 243.685023 27.849948 \nL 248.955389 29.679341 \nL 254.225755 27.849948 \nL 259.49612 44.149221 \nL 264.766486 58.3315 \nL 270.036852 56.57415 \nL 275.307218 58.3315 \nL 280.577584 67.053165 \nL 285.84795 53.046302 \nL 291.118316 63.577452 \nL 296.388682 68.784592 \nL 301.659048 61.833135 \nL 306.929414 77.378076 \nL 312.19978 87.552259 \nL 317.470146 75.667815 \nL 322.740512 107.461451 \nL 328.010878 94.252931 \nL 333.281244 73.953351 \nL 338.55161 51.275772 \nL 343.821976 45.937557 \nL 349.092342 47.721416 \nL 354.362708 53.046302 \nL 359.633074 58.3315 \nL 364.90344 84.177408 \nL 370.173806 84.177408 \nL 375.444172 107.461451 \nL 380.714538 113.971139 \nL 385.984904 131.556498 \nL 391.25527 120.418977 \nL 396.525636 104.183134 \nL 401.796002 45.937557 \nL 407.066368 51.295841 \nL 412.336734 58.404453 \nL 417.6071 67.19075 \nL 422.877466 61.932135 \nL 428.147832 67.19075 \nL 433.418198 61.932135 \nL 438.688564 65.442244 \nL 443.95893 63.689378 \nL 449.229296 60.170498 \nL 454.499662 61.932135 \nL 459.770028 86.141123 \n\" clip-path=\"url(#pd700943104)\" style=\"fill: none; stroke: #55a868; stroke-width: 1.75; stroke-linecap: round\"/>\n   </g>\n   <g id=\"line2d_29\">\n    <path d=\"M 53.951847 158.329138 \nL 59.222213 143.341558 \nL 64.492579 71.433641 \nL 69.762945 68.06467 \nL 75.033311 74.770411 \nL 80.303677 78.107259 \nL 85.574043 102.691974 \nL 90.844409 92.962951 \nL 96.114775 61.220788 \nL 101.385141 69.714886 \nL 106.655507 69.714886 \nL 111.925873 78.107259 \nL 117.196239 61.220788 \nL 122.466605 64.630752 \nL 127.736971 66.329557 \nL 133.007337 62.927834 \nL 138.277703 56.074728 \nL 143.548069 47.413979 \nL 148.818435 33.334107 \nL 154.088801 29.770521 \nL 159.359167 35.109301 \nL 164.629533 31.554519 \nL 169.899899 36.880117 \nL 175.170265 40.40868 \nL 180.440631 36.880117 \nL 185.710997 47.413979 \nL 190.981363 50.890969 \nL 196.251729 45.669093 \nL 201.522095 45.669093 \nL 206.792461 38.646571 \nL 212.062827 45.669093 \nL 217.333193 42.166459 \nL 222.603559 27.982096 \nL 227.873925 59.509598 \nL 233.144291 38.646571 \nL 238.414657 58.05364 \nL 243.685023 34.739633 \nL 248.955389 36.560294 \nL 254.225755 34.739633 \nL 259.49612 50.961106 \nL 264.766486 65.075689 \nL 270.036852 63.326727 \nL 275.307218 65.075689 \nL 280.577584 73.755723 \nL 285.84795 59.815719 \nL 291.118316 70.296601 \nL 296.388682 75.478886 \nL 301.659048 68.56061 \nL 306.929414 84.031351 \nL 312.19978 94.156969 \nL 317.470146 82.329253 \nL 322.740512 113.971129 \nL 328.010878 126.990506 \nL 333.281244 146.51957 \nL 338.55161 125.01972 \nL 343.821976 119.958737 \nL 349.092342 121.649954 \nL 354.362708 126.6983 \nL 359.633074 131.709019 \nL 364.90344 156.212654 \nL 370.173806 156.212654 \nL 375.444172 178.287473 \nL 380.714538 184.459089 \nL 385.984904 201.131176 \nL 391.25527 190.572068 \nL 396.525636 175.179411 \nL 401.796002 119.958737 \nL 407.066368 125.038746 \nL 412.336734 131.778182 \nL 417.6071 140.108176 \nL 422.877466 135.122659 \nL 428.147832 140.108176 \nL 433.418198 135.122659 \nL 438.688564 138.450476 \nL 443.95893 136.788642 \nL 449.229296 133.452511 \nL 454.499662 135.122659 \nL 459.770028 158.074387 \n\" clip-path=\"url(#pd700943104)\" style=\"fill: none; stroke: #c44e52; stroke-width: 1.75; stroke-linecap: round\"/>\n   </g>\n   <g id=\"patch_3\">\n    <path d=\"M 33.660938 312.12 \nL 33.660938 7.2 \n\" style=\"fill: none\"/>\n   </g>\n   <g id=\"patch_4\">\n    <path d=\"M 480.060937 312.12 \nL 480.060937 7.2 \n\" style=\"fill: none\"/>\n   </g>\n   <g id=\"patch_5\">\n    <path d=\"M 33.660938 312.12 \nL 480.060938 312.12 \n\" style=\"fill: none\"/>\n   </g>\n   <g id=\"patch_6\">\n    <path d=\"M 33.660938 7.2 \nL 480.060938 7.2 \n\" style=\"fill: none\"/>\n   </g>\n   <g id=\"legend_1\">\n    <g id=\"line2d_30\">\n     <path d=\"M 426.94375 19.946875 \nL 436.94375 19.946875 \nL 446.94375 19.946875 \n\" style=\"fill: none; stroke: #4c72b0; stroke-width: 1.75; stroke-linecap: round\"/>\n    </g>\n    <g id=\"text_14\">\n     <!-- r -->\n     <g style=\"fill: #262626\" transform=\"translate(454.94375 23.446875) scale(0.1 -0.1)\">\n      <defs>\n       <path id=\"LiberationSans-72\" d=\"M 444 0 \nL 444 2594 \nQ 444 2700 442 2811 \nQ 441 2922 437 3025 \nQ 434 3128 431 3218 \nQ 428 3309 425 3381 \nL 956 3381 \nQ 959 3309 964 3217 \nQ 969 3125 973 3028 \nQ 978 2931 979 2842 \nQ 981 2753 981 2691 \nL 994 2691 \nQ 1053 2884 1120 3026 \nQ 1188 3169 1278 3261 \nQ 1369 3353 1494 3398 \nQ 1619 3444 1797 3444 \nQ 1866 3444 1928 3433 \nQ 1991 3422 2025 3413 \nL 2025 2897 \nQ 1969 2913 1894 2920 \nQ 1819 2928 1725 2928 \nQ 1531 2928 1395 2840 \nQ 1259 2753 1173 2598 \nQ 1088 2444 1047 2230 \nQ 1006 2016 1006 1763 \nL 1006 0 \nL 444 0 \nz\n\" transform=\"scale(0.015625)\"/>\n      </defs>\n      <use xlink:href=\"#LiberationSans-72\"/>\n     </g>\n    </g>\n    <g id=\"line2d_31\">\n     <path d=\"M 426.94375 34.26875 \nL 436.94375 34.26875 \nL 446.94375 34.26875 \n\" style=\"fill: none; stroke: #55a868; stroke-width: 1.75; stroke-linecap: round\"/>\n    </g>\n    <g id=\"text_15\">\n     <!-- s -->\n     <g style=\"fill: #262626\" transform=\"translate(454.94375 37.76875) scale(0.1 -0.1)\">\n      <defs>\n       <path id=\"LiberationSans-73\" d=\"M 2969 934 \nQ 2969 697 2876 511 \nQ 2784 325 2609 198 \nQ 2434 72 2179 4 \nQ 1925 -63 1597 -63 \nQ 1303 -63 1067 -17 \nQ 831 28 653 128 \nQ 475 228 354 392 \nQ 234 556 178 794 \nL 675 891 \nQ 747 619 972 492 \nQ 1197 366 1597 366 \nQ 1778 366 1929 391 \nQ 2081 416 2190 477 \nQ 2300 538 2361 639 \nQ 2422 741 2422 891 \nQ 2422 1044 2350 1142 \nQ 2278 1241 2150 1306 \nQ 2022 1372 1839 1420 \nQ 1656 1469 1438 1528 \nQ 1234 1581 1034 1647 \nQ 834 1713 673 1820 \nQ 513 1928 413 2087 \nQ 313 2247 313 2488 \nQ 313 2950 642 3192 \nQ 972 3434 1603 3434 \nQ 2163 3434 2492 3237 \nQ 2822 3041 2909 2606 \nL 2403 2544 \nQ 2375 2675 2300 2764 \nQ 2225 2853 2119 2908 \nQ 2013 2963 1880 2986 \nQ 1747 3009 1603 3009 \nQ 1222 3009 1040 2893 \nQ 859 2778 859 2544 \nQ 859 2406 926 2317 \nQ 994 2228 1114 2167 \nQ 1234 2106 1403 2061 \nQ 1572 2016 1775 1966 \nQ 1909 1931 2050 1892 \nQ 2191 1853 2323 1798 \nQ 2456 1744 2573 1670 \nQ 2691 1597 2778 1494 \nQ 2866 1391 2917 1253 \nQ 2969 1116 2969 934 \nz\n\" transform=\"scale(0.015625)\"/>\n      </defs>\n      <use xlink:href=\"#LiberationSans-73\"/>\n     </g>\n    </g>\n    <g id=\"line2d_32\">\n     <path d=\"M 426.94375 48.590625 \nL 436.94375 48.590625 \nL 446.94375 48.590625 \n\" style=\"fill: none; stroke: #c44e52; stroke-width: 1.75; stroke-linecap: round\"/>\n    </g>\n    <g id=\"text_16\">\n     <!-- s_tf -->\n     <g style=\"fill: #262626\" transform=\"translate(454.94375 52.090625) scale(0.1 -0.1)\">\n      <defs>\n       <path id=\"LiberationSans-5f\" d=\"M -97 -1272 \nL -97 -866 \nL 3631 -866 \nL 3631 -1272 \nL -97 -1272 \nz\n\" transform=\"scale(0.015625)\"/>\n       <path id=\"LiberationSans-74\" d=\"M 1731 25 \nQ 1603 -9 1470 -29 \nQ 1338 -50 1163 -50 \nQ 488 -50 488 716 \nL 488 2972 \nL 97 2972 \nL 97 3381 \nL 509 3381 \nL 675 4138 \nL 1050 4138 \nL 1050 3381 \nL 1675 3381 \nL 1675 2972 \nL 1050 2972 \nL 1050 838 \nQ 1050 594 1129 495 \nQ 1209 397 1406 397 \nQ 1488 397 1564 409 \nQ 1641 422 1731 441 \nL 1731 25 \nz\n\" transform=\"scale(0.015625)\"/>\n       <path id=\"LiberationSans-66\" d=\"M 1128 2972 \nL 1128 0 \nL 566 0 \nL 566 2972 \nL 91 2972 \nL 91 3381 \nL 566 3381 \nL 566 3763 \nQ 566 3947 600 4105 \nQ 634 4263 726 4380 \nQ 819 4497 978 4564 \nQ 1138 4631 1391 4631 \nQ 1491 4631 1598 4622 \nQ 1706 4613 1788 4594 \nL 1788 4166 \nQ 1734 4175 1664 4183 \nQ 1594 4191 1538 4191 \nQ 1413 4191 1333 4156 \nQ 1253 4122 1208 4058 \nQ 1163 3994 1145 3900 \nQ 1128 3806 1128 3684 \nL 1128 3381 \nL 1788 3381 \nL 1788 2972 \nL 1128 2972 \nz\n\" transform=\"scale(0.015625)\"/>\n      </defs>\n      <use xlink:href=\"#LiberationSans-73\"/>\n      <use xlink:href=\"#LiberationSans-5f\" transform=\"translate(50 0)\"/>\n      <use xlink:href=\"#LiberationSans-74\" transform=\"translate(105.615234 0)\"/>\n      <use xlink:href=\"#LiberationSans-66\" transform=\"translate(133.398438 0)\"/>\n     </g>\n    </g>\n   </g>\n  </g>\n </g>\n <defs>\n  <clipPath id=\"pd700943104\">\n   <rect x=\"33.660938\" y=\"7.2\" width=\"446.4\" height=\"304.92\"/>\n  </clipPath>\n </defs>\n</svg>\n"
          },
          "metadata": {}
        }
      ]
    }
  ],
  "metadata": {
    "kernelspec": {
      "display_name": "Python 3 (ipykernel)",
      "language": "python",
      "name": "python3"
    },
    "language_info": {
      "codemirror_mode": {
        "name": "ipython",
        "version": 3
      },
      "file_extension": ".py",
      "mimetype": "text/x-python",
      "name": "python",
      "nbconvert_exporter": "python",
      "pygments_lexer": "ipython3",
      "version": "3.13.5"
    },
    "colab": {
      "provenance": []
    }
  },
  "nbformat": 4,
  "nbformat_minor": 5
}